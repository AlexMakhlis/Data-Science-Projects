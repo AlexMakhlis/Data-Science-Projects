{
 "cells": [
  {
   "cell_type": "markdown",
   "metadata": {},
   "source": [
    "# Определение стоимости автомобилей"
   ]
  },
  {
   "cell_type": "markdown",
   "metadata": {},
   "source": [
    "Сервис по продаже автомобилей с пробегом «Не бит, не крашен» разрабатывает приложение для привлечения новых клиентов. В нём можно быстро узнать рыночную стоимость своего автомобиля. В вашем распоряжении исторические данные: технические характеристики, комплектации и цены автомобилей. Вам нужно построить модель для определения стоимости. \n",
    "\n",
    "Заказчику важны:\n",
    "/\n",
    "- качество предсказания;\n",
    "- скорость предсказания;\n",
    "- время обучения."
   ]
  },
  {
   "cell_type": "markdown",
   "metadata": {},
   "source": [
    "Описание данных от разработчиков:\n",
    "\n",
    "**Признаки**\n",
    "- DateCrawled — дата скачивания анкеты из базы\n",
    "- VehicleType — тип автомобильного кузова\n",
    "- RegistrationYear — год регистрации автомобиля\n",
    "- Gearbox — тип коробки передач\n",
    "- Power — мощность (л. с.)\n",
    "- Model — модель автомобиля\n",
    "- Kilometer — пробег (км)\n",
    "- RegistrationMonth — месяц регистрации автомобиля\n",
    "- FuelType — тип топлива\n",
    "- Brand — марка автомобиля\n",
    "- NotRepaired — была машина в ремонте или нет\n",
    "- DateCreated — дата создания анкеты\n",
    "- NumberOfPictures — количество фотографий автомобиля\n",
    "- PostalCode — почтовый индекс владельца анкеты (пользователя)\n",
    "- LastSeen — дата последней активности пользователя\n",
    "\n",
    "**Целевой признак**\n",
    "- Price — цена (евро)\n",
    "\n"
   ]
  },
  {
   "cell_type": "markdown",
   "metadata": {},
   "source": [
    "## Подготовка данных"
   ]
  },
  {
   "cell_type": "markdown",
   "metadata": {},
   "source": [
    "Импортируем необходимые библиотеки и данные"
   ]
  },
  {
   "cell_type": "code",
   "execution_count": 1,
   "metadata": {},
   "outputs": [],
   "source": [
    "import pandas as pd\n",
    "import numpy as np \n",
    "import matplotlib.pyplot as plt\n",
    "from sklearn.model_selection import train_test_split, GridSearchCV\n",
    "from sklearn.linear_model import LinearRegression\n",
    "from sklearn.tree import DecisionTreeRegressor\n",
    "from sklearn.ensemble import RandomForestRegressor\n",
    "from sklearn.metrics import mean_squared_error\n",
    "\n",
    "from sklearn.preprocessing import StandardScaler\n",
    "from sklearn.dummy import DummyRegressor\n",
    "\n",
    "from catboost import CatBoostRegressor\n",
    "\n",
    "import lightgbm as lgb\n",
    "from lightgbm import LGBMRegressor\n",
    "\n",
    "import time\n",
    "\n",
    "import warnings\n",
    "warnings.simplefilter('ignore')"
   ]
  },
  {
   "cell_type": "code",
   "execution_count": 2,
   "metadata": {},
   "outputs": [
    {
     "data": {
      "text/html": [
       "<div>\n",
       "<style scoped>\n",
       "    .dataframe tbody tr th:only-of-type {\n",
       "        vertical-align: middle;\n",
       "    }\n",
       "\n",
       "    .dataframe tbody tr th {\n",
       "        vertical-align: top;\n",
       "    }\n",
       "\n",
       "    .dataframe thead th {\n",
       "        text-align: right;\n",
       "    }\n",
       "</style>\n",
       "<table border=\"1\" class=\"dataframe\">\n",
       "  <thead>\n",
       "    <tr style=\"text-align: right;\">\n",
       "      <th></th>\n",
       "      <th>DateCrawled</th>\n",
       "      <th>Price</th>\n",
       "      <th>VehicleType</th>\n",
       "      <th>RegistrationYear</th>\n",
       "      <th>Gearbox</th>\n",
       "      <th>Power</th>\n",
       "      <th>Model</th>\n",
       "      <th>Kilometer</th>\n",
       "      <th>RegistrationMonth</th>\n",
       "      <th>FuelType</th>\n",
       "      <th>Brand</th>\n",
       "      <th>NotRepaired</th>\n",
       "      <th>DateCreated</th>\n",
       "      <th>NumberOfPictures</th>\n",
       "      <th>PostalCode</th>\n",
       "      <th>LastSeen</th>\n",
       "    </tr>\n",
       "  </thead>\n",
       "  <tbody>\n",
       "    <tr>\n",
       "      <th>0</th>\n",
       "      <td>2016-03-24 11:52:17</td>\n",
       "      <td>480</td>\n",
       "      <td>NaN</td>\n",
       "      <td>1993</td>\n",
       "      <td>manual</td>\n",
       "      <td>0</td>\n",
       "      <td>golf</td>\n",
       "      <td>150000</td>\n",
       "      <td>0</td>\n",
       "      <td>petrol</td>\n",
       "      <td>volkswagen</td>\n",
       "      <td>NaN</td>\n",
       "      <td>2016-03-24 00:00:00</td>\n",
       "      <td>0</td>\n",
       "      <td>70435</td>\n",
       "      <td>2016-04-07 03:16:57</td>\n",
       "    </tr>\n",
       "    <tr>\n",
       "      <th>1</th>\n",
       "      <td>2016-03-24 10:58:45</td>\n",
       "      <td>18300</td>\n",
       "      <td>coupe</td>\n",
       "      <td>2011</td>\n",
       "      <td>manual</td>\n",
       "      <td>190</td>\n",
       "      <td>NaN</td>\n",
       "      <td>125000</td>\n",
       "      <td>5</td>\n",
       "      <td>gasoline</td>\n",
       "      <td>audi</td>\n",
       "      <td>yes</td>\n",
       "      <td>2016-03-24 00:00:00</td>\n",
       "      <td>0</td>\n",
       "      <td>66954</td>\n",
       "      <td>2016-04-07 01:46:50</td>\n",
       "    </tr>\n",
       "    <tr>\n",
       "      <th>2</th>\n",
       "      <td>2016-03-14 12:52:21</td>\n",
       "      <td>9800</td>\n",
       "      <td>suv</td>\n",
       "      <td>2004</td>\n",
       "      <td>auto</td>\n",
       "      <td>163</td>\n",
       "      <td>grand</td>\n",
       "      <td>125000</td>\n",
       "      <td>8</td>\n",
       "      <td>gasoline</td>\n",
       "      <td>jeep</td>\n",
       "      <td>NaN</td>\n",
       "      <td>2016-03-14 00:00:00</td>\n",
       "      <td>0</td>\n",
       "      <td>90480</td>\n",
       "      <td>2016-04-05 12:47:46</td>\n",
       "    </tr>\n",
       "    <tr>\n",
       "      <th>3</th>\n",
       "      <td>2016-03-17 16:54:04</td>\n",
       "      <td>1500</td>\n",
       "      <td>small</td>\n",
       "      <td>2001</td>\n",
       "      <td>manual</td>\n",
       "      <td>75</td>\n",
       "      <td>golf</td>\n",
       "      <td>150000</td>\n",
       "      <td>6</td>\n",
       "      <td>petrol</td>\n",
       "      <td>volkswagen</td>\n",
       "      <td>no</td>\n",
       "      <td>2016-03-17 00:00:00</td>\n",
       "      <td>0</td>\n",
       "      <td>91074</td>\n",
       "      <td>2016-03-17 17:40:17</td>\n",
       "    </tr>\n",
       "    <tr>\n",
       "      <th>4</th>\n",
       "      <td>2016-03-31 17:25:20</td>\n",
       "      <td>3600</td>\n",
       "      <td>small</td>\n",
       "      <td>2008</td>\n",
       "      <td>manual</td>\n",
       "      <td>69</td>\n",
       "      <td>fabia</td>\n",
       "      <td>90000</td>\n",
       "      <td>7</td>\n",
       "      <td>gasoline</td>\n",
       "      <td>skoda</td>\n",
       "      <td>no</td>\n",
       "      <td>2016-03-31 00:00:00</td>\n",
       "      <td>0</td>\n",
       "      <td>60437</td>\n",
       "      <td>2016-04-06 10:17:21</td>\n",
       "    </tr>\n",
       "  </tbody>\n",
       "</table>\n",
       "</div>"
      ],
      "text/plain": [
       "           DateCrawled  Price VehicleType  RegistrationYear Gearbox  Power  \\\n",
       "0  2016-03-24 11:52:17    480         NaN              1993  manual      0   \n",
       "1  2016-03-24 10:58:45  18300       coupe              2011  manual    190   \n",
       "2  2016-03-14 12:52:21   9800         suv              2004    auto    163   \n",
       "3  2016-03-17 16:54:04   1500       small              2001  manual     75   \n",
       "4  2016-03-31 17:25:20   3600       small              2008  manual     69   \n",
       "\n",
       "   Model  Kilometer  RegistrationMonth  FuelType       Brand NotRepaired  \\\n",
       "0   golf     150000                  0    petrol  volkswagen         NaN   \n",
       "1    NaN     125000                  5  gasoline        audi         yes   \n",
       "2  grand     125000                  8  gasoline        jeep         NaN   \n",
       "3   golf     150000                  6    petrol  volkswagen          no   \n",
       "4  fabia      90000                  7  gasoline       skoda          no   \n",
       "\n",
       "           DateCreated  NumberOfPictures  PostalCode             LastSeen  \n",
       "0  2016-03-24 00:00:00                 0       70435  2016-04-07 03:16:57  \n",
       "1  2016-03-24 00:00:00                 0       66954  2016-04-07 01:46:50  \n",
       "2  2016-03-14 00:00:00                 0       90480  2016-04-05 12:47:46  \n",
       "3  2016-03-17 00:00:00                 0       91074  2016-03-17 17:40:17  \n",
       "4  2016-03-31 00:00:00                 0       60437  2016-04-06 10:17:21  "
      ]
     },
     "execution_count": 2,
     "metadata": {},
     "output_type": "execute_result"
    }
   ],
   "source": [
    "data = pd.read_csv('/datasets/autos.csv')\n",
    "data.head()"
   ]
  },
  {
   "cell_type": "markdown",
   "metadata": {},
   "source": [
    "Получим информацию о данных"
   ]
  },
  {
   "cell_type": "code",
   "execution_count": 3,
   "metadata": {
    "scrolled": true
   },
   "outputs": [
    {
     "name": "stdout",
     "output_type": "stream",
     "text": [
      "<class 'pandas.core.frame.DataFrame'>\n",
      "RangeIndex: 354369 entries, 0 to 354368\n",
      "Data columns (total 16 columns):\n",
      " #   Column             Non-Null Count   Dtype \n",
      "---  ------             --------------   ----- \n",
      " 0   DateCrawled        354369 non-null  object\n",
      " 1   Price              354369 non-null  int64 \n",
      " 2   VehicleType        316879 non-null  object\n",
      " 3   RegistrationYear   354369 non-null  int64 \n",
      " 4   Gearbox            334536 non-null  object\n",
      " 5   Power              354369 non-null  int64 \n",
      " 6   Model              334664 non-null  object\n",
      " 7   Kilometer          354369 non-null  int64 \n",
      " 8   RegistrationMonth  354369 non-null  int64 \n",
      " 9   FuelType           321474 non-null  object\n",
      " 10  Brand              354369 non-null  object\n",
      " 11  NotRepaired        283215 non-null  object\n",
      " 12  DateCreated        354369 non-null  object\n",
      " 13  NumberOfPictures   354369 non-null  int64 \n",
      " 14  PostalCode         354369 non-null  int64 \n",
      " 15  LastSeen           354369 non-null  object\n",
      "dtypes: int64(7), object(9)\n",
      "memory usage: 43.3+ MB\n"
     ]
    }
   ],
   "source": [
    "data.info()"
   ]
  },
  {
   "cell_type": "markdown",
   "metadata": {},
   "source": [
    "Исходя из информации о датасете видно, что в данных присутствуют пропуски. Так же необходимо:\n",
    "- Преобразовать столбец NotRepaired в столбец с логическим типом данных\n",
    "- Привести названия столбцов к змеиному стилю"
   ]
  },
  {
   "cell_type": "code",
   "execution_count": 4,
   "metadata": {},
   "outputs": [
    {
     "data": {
      "text/plain": [
       "DateCrawled          0.000000\n",
       "Price                0.000000\n",
       "VehicleType          0.105794\n",
       "RegistrationYear     0.000000\n",
       "Gearbox              0.055967\n",
       "Power                0.000000\n",
       "Model                0.055606\n",
       "Kilometer            0.000000\n",
       "RegistrationMonth    0.000000\n",
       "FuelType             0.092827\n",
       "Brand                0.000000\n",
       "NotRepaired          0.200791\n",
       "DateCreated          0.000000\n",
       "NumberOfPictures     0.000000\n",
       "PostalCode           0.000000\n",
       "LastSeen             0.000000\n",
       "dtype: float64"
      ]
     },
     "execution_count": 4,
     "metadata": {},
     "output_type": "execute_result"
    }
   ],
   "source": [
    "data.isna().mean()"
   ]
  },
  {
   "cell_type": "code",
   "execution_count": 5,
   "metadata": {},
   "outputs": [
    {
     "data": {
      "text/plain": [
       "Index(['DateCrawled', 'Price', 'VehicleType', 'RegistrationYear', 'Gearbox',\n",
       "       'Power', 'Model', 'Kilometer', 'RegistrationMonth', 'FuelType', 'Brand',\n",
       "       'NotRepaired', 'DateCreated', 'NumberOfPictures', 'PostalCode',\n",
       "       'LastSeen'],\n",
       "      dtype='object')"
      ]
     },
     "execution_count": 5,
     "metadata": {},
     "output_type": "execute_result"
    }
   ],
   "source": [
    "data.columns"
   ]
  },
  {
   "cell_type": "code",
   "execution_count": 6,
   "metadata": {},
   "outputs": [
    {
     "data": {
      "text/plain": [
       "Index(['datecrawled', 'price', 'vehicletype', 'registrationyear', 'gearbox',\n",
       "       'power', 'model', 'kilometer', 'registrationmonth', 'fueltype', 'brand',\n",
       "       'notrepaired', 'datecreated', 'numberofpictures', 'postalcode',\n",
       "       'lastseen'],\n",
       "      dtype='object')"
      ]
     },
     "execution_count": 6,
     "metadata": {},
     "output_type": "execute_result"
    }
   ],
   "source": [
    "data.columns = data.columns.str.lower()\n",
    "data.columns"
   ]
  },
  {
   "cell_type": "code",
   "execution_count": 7,
   "metadata": {},
   "outputs": [
    {
     "data": {
      "text/plain": [
       "Index(['date_crawled', 'price', 'vehicle_type', 'registration_year', 'gearbox',\n",
       "       'power', 'model', 'kilometer', 'registration_month', 'fuel_type',\n",
       "       'brand', 'not_repaired', 'date_created', 'number_of_pictures',\n",
       "       'postalcode', 'last_seen'],\n",
       "      dtype='object')"
      ]
     },
     "execution_count": 7,
     "metadata": {},
     "output_type": "execute_result"
    }
   ],
   "source": [
    "data.columns = ['date_crawled', 'price', 'vehicle_type', 'registration_year', 'gearbox',\n",
    "       'power', 'model', 'kilometer', 'registration_month', 'fuel_type', 'brand',\n",
    "       'not_repaired', 'date_created', 'number_of_pictures', 'postalcode',\n",
    "       'last_seen']\n",
    "data.columns"
   ]
  },
  {
   "cell_type": "markdown",
   "metadata": {},
   "source": [
    "Обработаем каждый столбец с пропусками:"
   ]
  },
  {
   "cell_type": "markdown",
   "metadata": {},
   "source": [
    "### Работа со столбцами vehicle_type, gearbox, model, fuel_type, not_repaired"
   ]
  },
  {
   "cell_type": "markdown",
   "metadata": {},
   "source": [
    "Столбцы vehicle_type, gearbox, model, fuel_type, not_repaired -  категориальные, поэтому пропуски заменим на 'unknown'"
   ]
  },
  {
   "cell_type": "code",
   "execution_count": 8,
   "metadata": {},
   "outputs": [],
   "source": [
    "list_of_columns = ['vehicle_type', 'gearbox', 'model', 'fuel_type', 'not_repaired']"
   ]
  },
  {
   "cell_type": "code",
   "execution_count": 9,
   "metadata": {},
   "outputs": [
    {
     "data": {
      "text/plain": [
       "date_crawled          0.0\n",
       "price                 0.0\n",
       "vehicle_type          0.0\n",
       "registration_year     0.0\n",
       "gearbox               0.0\n",
       "power                 0.0\n",
       "model                 0.0\n",
       "kilometer             0.0\n",
       "registration_month    0.0\n",
       "fuel_type             0.0\n",
       "brand                 0.0\n",
       "not_repaired          0.0\n",
       "date_created          0.0\n",
       "number_of_pictures    0.0\n",
       "postalcode            0.0\n",
       "last_seen             0.0\n",
       "dtype: float64"
      ]
     },
     "execution_count": 9,
     "metadata": {},
     "output_type": "execute_result"
    }
   ],
   "source": [
    "for column in list_of_columns:\n",
    "    data[column] = data[column].fillna('unknown')\n",
    "\n",
    "data.isna().mean()"
   ]
  },
  {
   "cell_type": "markdown",
   "metadata": {},
   "source": [
    "От пропусков мы избавились. Теперь взглянем на числовое описание данных:"
   ]
  },
  {
   "cell_type": "code",
   "execution_count": 10,
   "metadata": {},
   "outputs": [
    {
     "data": {
      "text/html": [
       "<div>\n",
       "<style scoped>\n",
       "    .dataframe tbody tr th:only-of-type {\n",
       "        vertical-align: middle;\n",
       "    }\n",
       "\n",
       "    .dataframe tbody tr th {\n",
       "        vertical-align: top;\n",
       "    }\n",
       "\n",
       "    .dataframe thead th {\n",
       "        text-align: right;\n",
       "    }\n",
       "</style>\n",
       "<table border=\"1\" class=\"dataframe\">\n",
       "  <thead>\n",
       "    <tr style=\"text-align: right;\">\n",
       "      <th></th>\n",
       "      <th>price</th>\n",
       "      <th>registration_year</th>\n",
       "      <th>power</th>\n",
       "      <th>kilometer</th>\n",
       "      <th>registration_month</th>\n",
       "      <th>number_of_pictures</th>\n",
       "      <th>postalcode</th>\n",
       "    </tr>\n",
       "  </thead>\n",
       "  <tbody>\n",
       "    <tr>\n",
       "      <th>count</th>\n",
       "      <td>354369.000000</td>\n",
       "      <td>354369.000000</td>\n",
       "      <td>354369.000000</td>\n",
       "      <td>354369.000000</td>\n",
       "      <td>354369.000000</td>\n",
       "      <td>354369.0</td>\n",
       "      <td>354369.000000</td>\n",
       "    </tr>\n",
       "    <tr>\n",
       "      <th>mean</th>\n",
       "      <td>4416.656776</td>\n",
       "      <td>2004.234448</td>\n",
       "      <td>110.094337</td>\n",
       "      <td>128211.172535</td>\n",
       "      <td>5.714645</td>\n",
       "      <td>0.0</td>\n",
       "      <td>50508.689087</td>\n",
       "    </tr>\n",
       "    <tr>\n",
       "      <th>std</th>\n",
       "      <td>4514.158514</td>\n",
       "      <td>90.227958</td>\n",
       "      <td>189.850405</td>\n",
       "      <td>37905.341530</td>\n",
       "      <td>3.726421</td>\n",
       "      <td>0.0</td>\n",
       "      <td>25783.096248</td>\n",
       "    </tr>\n",
       "    <tr>\n",
       "      <th>min</th>\n",
       "      <td>0.000000</td>\n",
       "      <td>1000.000000</td>\n",
       "      <td>0.000000</td>\n",
       "      <td>5000.000000</td>\n",
       "      <td>0.000000</td>\n",
       "      <td>0.0</td>\n",
       "      <td>1067.000000</td>\n",
       "    </tr>\n",
       "    <tr>\n",
       "      <th>25%</th>\n",
       "      <td>1050.000000</td>\n",
       "      <td>1999.000000</td>\n",
       "      <td>69.000000</td>\n",
       "      <td>125000.000000</td>\n",
       "      <td>3.000000</td>\n",
       "      <td>0.0</td>\n",
       "      <td>30165.000000</td>\n",
       "    </tr>\n",
       "    <tr>\n",
       "      <th>50%</th>\n",
       "      <td>2700.000000</td>\n",
       "      <td>2003.000000</td>\n",
       "      <td>105.000000</td>\n",
       "      <td>150000.000000</td>\n",
       "      <td>6.000000</td>\n",
       "      <td>0.0</td>\n",
       "      <td>49413.000000</td>\n",
       "    </tr>\n",
       "    <tr>\n",
       "      <th>75%</th>\n",
       "      <td>6400.000000</td>\n",
       "      <td>2008.000000</td>\n",
       "      <td>143.000000</td>\n",
       "      <td>150000.000000</td>\n",
       "      <td>9.000000</td>\n",
       "      <td>0.0</td>\n",
       "      <td>71083.000000</td>\n",
       "    </tr>\n",
       "    <tr>\n",
       "      <th>max</th>\n",
       "      <td>20000.000000</td>\n",
       "      <td>9999.000000</td>\n",
       "      <td>20000.000000</td>\n",
       "      <td>150000.000000</td>\n",
       "      <td>12.000000</td>\n",
       "      <td>0.0</td>\n",
       "      <td>99998.000000</td>\n",
       "    </tr>\n",
       "  </tbody>\n",
       "</table>\n",
       "</div>"
      ],
      "text/plain": [
       "               price  registration_year          power      kilometer  \\\n",
       "count  354369.000000      354369.000000  354369.000000  354369.000000   \n",
       "mean     4416.656776        2004.234448     110.094337  128211.172535   \n",
       "std      4514.158514          90.227958     189.850405   37905.341530   \n",
       "min         0.000000        1000.000000       0.000000    5000.000000   \n",
       "25%      1050.000000        1999.000000      69.000000  125000.000000   \n",
       "50%      2700.000000        2003.000000     105.000000  150000.000000   \n",
       "75%      6400.000000        2008.000000     143.000000  150000.000000   \n",
       "max     20000.000000        9999.000000   20000.000000  150000.000000   \n",
       "\n",
       "       registration_month  number_of_pictures     postalcode  \n",
       "count       354369.000000            354369.0  354369.000000  \n",
       "mean             5.714645                 0.0   50508.689087  \n",
       "std              3.726421                 0.0   25783.096248  \n",
       "min              0.000000                 0.0    1067.000000  \n",
       "25%              3.000000                 0.0   30165.000000  \n",
       "50%              6.000000                 0.0   49413.000000  \n",
       "75%              9.000000                 0.0   71083.000000  \n",
       "max             12.000000                 0.0   99998.000000  "
      ]
     },
     "execution_count": 10,
     "metadata": {},
     "output_type": "execute_result"
    }
   ],
   "source": [
    "data.describe()"
   ]
  },
  {
   "cell_type": "markdown",
   "metadata": {},
   "source": [
    "Из числового описания данных видны следующие проблемы:\n",
    "- есть аномалии в столбце с годом регистрации (слишком маленькие и большие значения)\n",
    "- столбец с количеством фото автомобиля пустой\n",
    "- в столбце с ценой есть нулевые значения, что странно\n",
    "- в столбце с мощностью есть и нулевые значения и аномально большие"
   ]
  },
  {
   "cell_type": "markdown",
   "metadata": {},
   "source": [
    "### Работа с столбцом registration_year"
   ]
  },
  {
   "cell_type": "code",
   "execution_count": 11,
   "metadata": {},
   "outputs": [
    {
     "data": {
      "image/png": "[encoded data removed]",
      "text/plain": [
       "<Figure size 432x288 with 1 Axes>"
      ]
     },
     "metadata": {
      "needs_background": "light"
     },
     "output_type": "display_data"
    }
   ],
   "source": [
    "data['registration_year'].hist(bins = 10)\n",
    "plt.title('Гистограмма распределения года регистрации')\n",
    "plt.show()"
   ]
  },
  {
   "cell_type": "code",
   "execution_count": 12,
   "metadata": {},
   "outputs": [
    {
     "data": {
      "image/png": "[encoded data removed]",
      "text/plain": [
       "<Figure size 432x288 with 1 Axes>"
      ]
     },
     "metadata": {
      "needs_background": "light"
     },
     "output_type": "display_data"
    }
   ],
   "source": [
    "data['registration_year'].hist(bins = 10)\n",
    "plt.ylim(0, 500)\n",
    "plt.title('Гистограмма распределения года регистрации')\n",
    "plt.show()"
   ]
  },
  {
   "cell_type": "markdown",
   "metadata": {},
   "source": [
    "Из гистограммы видно, что есть много значений, где год регистрации выше текущего года или сильно ниже 1886(года создания первого авто). Эти значения некорректны, поэтому пересчитаем их и удалим."
   ]
  },
  {
   "cell_type": "code",
   "execution_count": 13,
   "metadata": {},
   "outputs": [
    {
     "data": {
      "text/plain": [
       "171"
      ]
     },
     "execution_count": 13,
     "metadata": {},
     "output_type": "execute_result"
    }
   ],
   "source": [
    "data[(data['registration_year'] > 2022) | (data['registration_year'] < 1886)]['registration_year'].count()"
   ]
  },
  {
   "cell_type": "code",
   "execution_count": 14,
   "metadata": {},
   "outputs": [
    {
     "data": {
      "text/plain": [
       "(354369, 16)"
      ]
     },
     "execution_count": 14,
     "metadata": {},
     "output_type": "execute_result"
    }
   ],
   "source": [
    "data.shape"
   ]
  },
  {
   "cell_type": "markdown",
   "metadata": {},
   "source": [
    "К счастью таких записей мало, поэтому удалим их бех сожаления."
   ]
  },
  {
   "cell_type": "code",
   "execution_count": 15,
   "metadata": {},
   "outputs": [
    {
     "data": {
      "text/plain": [
       "(354198, 16)"
      ]
     },
     "execution_count": 15,
     "metadata": {},
     "output_type": "execute_result"
    }
   ],
   "source": [
    "data = data[data['registration_year'] <= 2022]\n",
    "data = data[data['registration_year'] > 1886]\n",
    "data.shape"
   ]
  },
  {
   "cell_type": "code",
   "execution_count": 16,
   "metadata": {
    "scrolled": true
   },
   "outputs": [
    {
     "data": {
      "image/png": "[encoded data removed]",
      "text/plain": [
       "<Figure size 432x288 with 1 Axes>"
      ]
     },
     "metadata": {
      "needs_background": "light"
     },
     "output_type": "display_data"
    }
   ],
   "source": [
    "data['registration_year'].hist(bins = 10)\n",
    "plt.ylim(0, 500)\n",
    "plt.title('Гистограмма распределения года регистрации')\n",
    "plt.show()"
   ]
  },
  {
   "cell_type": "markdown",
   "metadata": {},
   "source": [
    "###  Работа с столбцом number_of_pictures"
   ]
  },
  {
   "cell_type": "code",
   "execution_count": 17,
   "metadata": {
    "scrolled": true
   },
   "outputs": [
    {
     "name": "stdout",
     "output_type": "stream",
     "text": [
      "<class 'pandas.core.frame.DataFrame'>\n",
      "Int64Index: 354198 entries, 0 to 354368\n",
      "Data columns (total 15 columns):\n",
      " #   Column              Non-Null Count   Dtype \n",
      "---  ------              --------------   ----- \n",
      " 0   date_crawled        354198 non-null  object\n",
      " 1   price               354198 non-null  int64 \n",
      " 2   vehicle_type        354198 non-null  object\n",
      " 3   registration_year   354198 non-null  int64 \n",
      " 4   gearbox             354198 non-null  object\n",
      " 5   power               354198 non-null  int64 \n",
      " 6   model               354198 non-null  object\n",
      " 7   kilometer           354198 non-null  int64 \n",
      " 8   registration_month  354198 non-null  int64 \n",
      " 9   fuel_type           354198 non-null  object\n",
      " 10  brand               354198 non-null  object\n",
      " 11  not_repaired        354198 non-null  object\n",
      " 12  date_created        354198 non-null  object\n",
      " 13  postalcode          354198 non-null  int64 \n",
      " 14  last_seen           354198 non-null  object\n",
      "dtypes: int64(6), object(9)\n",
      "memory usage: 43.2+ MB\n"
     ]
    }
   ],
   "source": [
    "data = data.drop('number_of_pictures', axis=1)\n",
    "data.info()"
   ]
  },
  {
   "cell_type": "markdown",
   "metadata": {},
   "source": [
    "### Работа со столбцом price"
   ]
  },
  {
   "cell_type": "code",
   "execution_count": 18,
   "metadata": {},
   "outputs": [
    {
     "data": {
      "image/png": "[encoded data removed]",
      "text/plain": [
       "<Figure size 432x288 with 1 Axes>"
      ]
     },
     "metadata": {
      "needs_background": "light"
     },
     "output_type": "display_data"
    }
   ],
   "source": [
    "data['price'].hist(bins=100)\n",
    "plt.title('Гистограмма распределения цен на авто')\n",
    "plt.show()"
   ]
  },
  {
   "cell_type": "markdown",
   "metadata": {},
   "source": [
    "Из гистограммы хорошо видно, что в данных есть нулевые значения. Возможно, конечно, что кто-то отдает своё авто даром, но это надо бы проверить."
   ]
  },
  {
   "cell_type": "code",
   "execution_count": 19,
   "metadata": {
    "scrolled": false
   },
   "outputs": [
    {
     "data": {
      "text/html": [
       "<div>\n",
       "<style scoped>\n",
       "    .dataframe tbody tr th:only-of-type {\n",
       "        vertical-align: middle;\n",
       "    }\n",
       "\n",
       "    .dataframe tbody tr th {\n",
       "        vertical-align: top;\n",
       "    }\n",
       "\n",
       "    .dataframe thead th {\n",
       "        text-align: right;\n",
       "    }\n",
       "</style>\n",
       "<table border=\"1\" class=\"dataframe\">\n",
       "  <thead>\n",
       "    <tr style=\"text-align: right;\">\n",
       "      <th></th>\n",
       "      <th>date_crawled</th>\n",
       "      <th>price</th>\n",
       "      <th>vehicle_type</th>\n",
       "      <th>registration_year</th>\n",
       "      <th>gearbox</th>\n",
       "      <th>power</th>\n",
       "      <th>model</th>\n",
       "      <th>kilometer</th>\n",
       "      <th>registration_month</th>\n",
       "      <th>fuel_type</th>\n",
       "      <th>brand</th>\n",
       "      <th>not_repaired</th>\n",
       "      <th>date_created</th>\n",
       "      <th>postalcode</th>\n",
       "      <th>last_seen</th>\n",
       "    </tr>\n",
       "  </thead>\n",
       "  <tbody>\n",
       "    <tr>\n",
       "      <th>7</th>\n",
       "      <td>2016-03-21 18:54:38</td>\n",
       "      <td>0</td>\n",
       "      <td>sedan</td>\n",
       "      <td>1980</td>\n",
       "      <td>manual</td>\n",
       "      <td>50</td>\n",
       "      <td>other</td>\n",
       "      <td>40000</td>\n",
       "      <td>7</td>\n",
       "      <td>petrol</td>\n",
       "      <td>volkswagen</td>\n",
       "      <td>no</td>\n",
       "      <td>2016-03-21 00:00:00</td>\n",
       "      <td>19348</td>\n",
       "      <td>2016-03-25 16:47:58</td>\n",
       "    </tr>\n",
       "    <tr>\n",
       "      <th>40</th>\n",
       "      <td>2016-03-26 22:06:17</td>\n",
       "      <td>0</td>\n",
       "      <td>unknown</td>\n",
       "      <td>1990</td>\n",
       "      <td>unknown</td>\n",
       "      <td>0</td>\n",
       "      <td>corsa</td>\n",
       "      <td>150000</td>\n",
       "      <td>1</td>\n",
       "      <td>petrol</td>\n",
       "      <td>opel</td>\n",
       "      <td>unknown</td>\n",
       "      <td>2016-03-26 00:00:00</td>\n",
       "      <td>56412</td>\n",
       "      <td>2016-03-27 17:43:34</td>\n",
       "    </tr>\n",
       "    <tr>\n",
       "      <th>111</th>\n",
       "      <td>2016-03-19 18:40:12</td>\n",
       "      <td>0</td>\n",
       "      <td>unknown</td>\n",
       "      <td>2017</td>\n",
       "      <td>manual</td>\n",
       "      <td>0</td>\n",
       "      <td>golf</td>\n",
       "      <td>5000</td>\n",
       "      <td>12</td>\n",
       "      <td>petrol</td>\n",
       "      <td>volkswagen</td>\n",
       "      <td>unknown</td>\n",
       "      <td>2016-03-19 00:00:00</td>\n",
       "      <td>21698</td>\n",
       "      <td>2016-04-01 08:47:05</td>\n",
       "    </tr>\n",
       "    <tr>\n",
       "      <th>115</th>\n",
       "      <td>2016-03-20 18:53:27</td>\n",
       "      <td>0</td>\n",
       "      <td>small</td>\n",
       "      <td>1999</td>\n",
       "      <td>unknown</td>\n",
       "      <td>0</td>\n",
       "      <td>unknown</td>\n",
       "      <td>5000</td>\n",
       "      <td>0</td>\n",
       "      <td>petrol</td>\n",
       "      <td>volkswagen</td>\n",
       "      <td>unknown</td>\n",
       "      <td>2016-03-20 00:00:00</td>\n",
       "      <td>37520</td>\n",
       "      <td>2016-04-07 02:45:22</td>\n",
       "    </tr>\n",
       "    <tr>\n",
       "      <th>152</th>\n",
       "      <td>2016-03-11 18:55:53</td>\n",
       "      <td>0</td>\n",
       "      <td>bus</td>\n",
       "      <td>2004</td>\n",
       "      <td>manual</td>\n",
       "      <td>101</td>\n",
       "      <td>meriva</td>\n",
       "      <td>150000</td>\n",
       "      <td>10</td>\n",
       "      <td>lpg</td>\n",
       "      <td>opel</td>\n",
       "      <td>yes</td>\n",
       "      <td>2016-03-11 00:00:00</td>\n",
       "      <td>27432</td>\n",
       "      <td>2016-03-12 23:47:10</td>\n",
       "    </tr>\n",
       "    <tr>\n",
       "      <th>154</th>\n",
       "      <td>2016-03-22 16:37:59</td>\n",
       "      <td>0</td>\n",
       "      <td>unknown</td>\n",
       "      <td>2006</td>\n",
       "      <td>unknown</td>\n",
       "      <td>0</td>\n",
       "      <td>other</td>\n",
       "      <td>5000</td>\n",
       "      <td>0</td>\n",
       "      <td>unknown</td>\n",
       "      <td>fiat</td>\n",
       "      <td>unknown</td>\n",
       "      <td>2016-03-22 00:00:00</td>\n",
       "      <td>44867</td>\n",
       "      <td>2016-04-06 06:17:56</td>\n",
       "    </tr>\n",
       "    <tr>\n",
       "      <th>231</th>\n",
       "      <td>2016-03-16 22:06:24</td>\n",
       "      <td>0</td>\n",
       "      <td>wagon</td>\n",
       "      <td>2001</td>\n",
       "      <td>manual</td>\n",
       "      <td>115</td>\n",
       "      <td>mondeo</td>\n",
       "      <td>150000</td>\n",
       "      <td>0</td>\n",
       "      <td>unknown</td>\n",
       "      <td>ford</td>\n",
       "      <td>unknown</td>\n",
       "      <td>2016-03-16 00:00:00</td>\n",
       "      <td>57627</td>\n",
       "      <td>2016-03-26 11:17:50</td>\n",
       "    </tr>\n",
       "    <tr>\n",
       "      <th>334</th>\n",
       "      <td>2016-03-06 10:06:20</td>\n",
       "      <td>0</td>\n",
       "      <td>unknown</td>\n",
       "      <td>2005</td>\n",
       "      <td>unknown</td>\n",
       "      <td>0</td>\n",
       "      <td>polo</td>\n",
       "      <td>150000</td>\n",
       "      <td>0</td>\n",
       "      <td>petrol</td>\n",
       "      <td>volkswagen</td>\n",
       "      <td>unknown</td>\n",
       "      <td>2016-03-06 00:00:00</td>\n",
       "      <td>35392</td>\n",
       "      <td>2016-03-07 19:12:00</td>\n",
       "    </tr>\n",
       "    <tr>\n",
       "      <th>415</th>\n",
       "      <td>2016-03-11 10:52:49</td>\n",
       "      <td>0</td>\n",
       "      <td>unknown</td>\n",
       "      <td>1985</td>\n",
       "      <td>unknown</td>\n",
       "      <td>0</td>\n",
       "      <td>3er</td>\n",
       "      <td>150000</td>\n",
       "      <td>0</td>\n",
       "      <td>unknown</td>\n",
       "      <td>bmw</td>\n",
       "      <td>unknown</td>\n",
       "      <td>2016-03-11 00:00:00</td>\n",
       "      <td>85051</td>\n",
       "      <td>2016-03-11 11:41:09</td>\n",
       "    </tr>\n",
       "    <tr>\n",
       "      <th>466</th>\n",
       "      <td>2016-03-24 10:58:40</td>\n",
       "      <td>0</td>\n",
       "      <td>unknown</td>\n",
       "      <td>2016</td>\n",
       "      <td>auto</td>\n",
       "      <td>197</td>\n",
       "      <td>3er</td>\n",
       "      <td>150000</td>\n",
       "      <td>12</td>\n",
       "      <td>gasoline</td>\n",
       "      <td>bmw</td>\n",
       "      <td>no</td>\n",
       "      <td>2016-03-24 00:00:00</td>\n",
       "      <td>99867</td>\n",
       "      <td>2016-03-25 19:46:09</td>\n",
       "    </tr>\n",
       "  </tbody>\n",
       "</table>\n",
       "</div>"
      ],
      "text/plain": [
       "            date_crawled  price vehicle_type  registration_year  gearbox  \\\n",
       "7    2016-03-21 18:54:38      0        sedan               1980   manual   \n",
       "40   2016-03-26 22:06:17      0      unknown               1990  unknown   \n",
       "111  2016-03-19 18:40:12      0      unknown               2017   manual   \n",
       "115  2016-03-20 18:53:27      0        small               1999  unknown   \n",
       "152  2016-03-11 18:55:53      0          bus               2004   manual   \n",
       "154  2016-03-22 16:37:59      0      unknown               2006  unknown   \n",
       "231  2016-03-16 22:06:24      0        wagon               2001   manual   \n",
       "334  2016-03-06 10:06:20      0      unknown               2005  unknown   \n",
       "415  2016-03-11 10:52:49      0      unknown               1985  unknown   \n",
       "466  2016-03-24 10:58:40      0      unknown               2016     auto   \n",
       "\n",
       "     power    model  kilometer  registration_month fuel_type       brand  \\\n",
       "7       50    other      40000                   7    petrol  volkswagen   \n",
       "40       0    corsa     150000                   1    petrol        opel   \n",
       "111      0     golf       5000                  12    petrol  volkswagen   \n",
       "115      0  unknown       5000                   0    petrol  volkswagen   \n",
       "152    101   meriva     150000                  10       lpg        opel   \n",
       "154      0    other       5000                   0   unknown        fiat   \n",
       "231    115   mondeo     150000                   0   unknown        ford   \n",
       "334      0     polo     150000                   0    petrol  volkswagen   \n",
       "415      0      3er     150000                   0   unknown         bmw   \n",
       "466    197      3er     150000                  12  gasoline         bmw   \n",
       "\n",
       "    not_repaired         date_created  postalcode            last_seen  \n",
       "7             no  2016-03-21 00:00:00       19348  2016-03-25 16:47:58  \n",
       "40       unknown  2016-03-26 00:00:00       56412  2016-03-27 17:43:34  \n",
       "111      unknown  2016-03-19 00:00:00       21698  2016-04-01 08:47:05  \n",
       "115      unknown  2016-03-20 00:00:00       37520  2016-04-07 02:45:22  \n",
       "152          yes  2016-03-11 00:00:00       27432  2016-03-12 23:47:10  \n",
       "154      unknown  2016-03-22 00:00:00       44867  2016-04-06 06:17:56  \n",
       "231      unknown  2016-03-16 00:00:00       57627  2016-03-26 11:17:50  \n",
       "334      unknown  2016-03-06 00:00:00       35392  2016-03-07 19:12:00  \n",
       "415      unknown  2016-03-11 00:00:00       85051  2016-03-11 11:41:09  \n",
       "466           no  2016-03-24 00:00:00       99867  2016-03-25 19:46:09  "
      ]
     },
     "execution_count": 19,
     "metadata": {},
     "output_type": "execute_result"
    }
   ],
   "source": [
    "data[data['price'] == 0].head(10)"
   ]
  },
  {
   "cell_type": "code",
   "execution_count": 20,
   "metadata": {},
   "outputs": [
    {
     "data": {
      "text/plain": [
       "(10740, 15)"
      ]
     },
     "execution_count": 20,
     "metadata": {},
     "output_type": "execute_result"
    }
   ],
   "source": [
    "data[data['price'] == 0].shape"
   ]
  },
  {
   "cell_type": "code",
   "execution_count": 21,
   "metadata": {},
   "outputs": [
    {
     "data": {
      "text/plain": [
       "2000    1418\n",
       "1999     733\n",
       "1998     721\n",
       "1997     675\n",
       "1995     654\n",
       "        ... \n",
       "1915       1\n",
       "1930       1\n",
       "1969       1\n",
       "1937       1\n",
       "1948       1\n",
       "Name: registration_year, Length: 78, dtype: int64"
      ]
     },
     "execution_count": 21,
     "metadata": {},
     "output_type": "execute_result"
    }
   ],
   "source": [
    "data[data['price'] == 0]['registration_year'].value_counts()"
   ]
  },
  {
   "cell_type": "code",
   "execution_count": 22,
   "metadata": {
    "scrolled": true
   },
   "outputs": [
    {
     "data": {
      "text/plain": [
       "unknown     2162\n",
       "golf         985\n",
       "other        713\n",
       "3er          581\n",
       "polo         438\n",
       "            ... \n",
       "boxster        1\n",
       "verso          1\n",
       "s_max          1\n",
       "roadster       1\n",
       "q7             1\n",
       "Name: model, Length: 223, dtype: int64"
      ]
     },
     "execution_count": 22,
     "metadata": {},
     "output_type": "execute_result"
    }
   ],
   "source": [
    "data[data['price'] == 0]['model'].value_counts()"
   ]
  },
  {
   "cell_type": "markdown",
   "metadata": {},
   "source": [
    "Понятнее не стало. Есть предположение о том, что эти объявления были созданы с ошибкой в цене. Поскольку таких объявлений всего 10740, удалим их:"
   ]
  },
  {
   "cell_type": "code",
   "execution_count": 23,
   "metadata": {},
   "outputs": [
    {
     "data": {
      "text/plain": [
       "(354198, 15)"
      ]
     },
     "execution_count": 23,
     "metadata": {},
     "output_type": "execute_result"
    }
   ],
   "source": [
    "data.shape"
   ]
  },
  {
   "cell_type": "code",
   "execution_count": 24,
   "metadata": {},
   "outputs": [
    {
     "data": {
      "text/plain": [
       "(343458, 15)"
      ]
     },
     "execution_count": 24,
     "metadata": {},
     "output_type": "execute_result"
    }
   ],
   "source": [
    "data = data[data['price'] != 0]\n",
    "data.shape"
   ]
  },
  {
   "cell_type": "markdown",
   "metadata": {},
   "source": [
    "### Работа со столбцом power"
   ]
  },
  {
   "cell_type": "code",
   "execution_count": 25,
   "metadata": {},
   "outputs": [
    {
     "data": {
      "image/png": "[encoded data removed]",
      "text/plain": [
       "<Figure size 720x360 with 1 Axes>"
      ]
     },
     "metadata": {
      "needs_background": "light"
     },
     "output_type": "display_data"
    }
   ],
   "source": [
    "data['power'].hist(bins=100, figsize=(10,5))\n",
    "plt.ylim(0,500)\n",
    "plt.title('Гистограмма распределения мощности авто')\n",
    "plt.show()"
   ]
  },
  {
   "cell_type": "code",
   "execution_count": 26,
   "metadata": {
    "scrolled": true
   },
   "outputs": [
    {
     "data": {
      "text/html": [
       "<div>\n",
       "<style scoped>\n",
       "    .dataframe tbody tr th:only-of-type {\n",
       "        vertical-align: middle;\n",
       "    }\n",
       "\n",
       "    .dataframe tbody tr th {\n",
       "        vertical-align: top;\n",
       "    }\n",
       "\n",
       "    .dataframe thead th {\n",
       "        text-align: right;\n",
       "    }\n",
       "</style>\n",
       "<table border=\"1\" class=\"dataframe\">\n",
       "  <thead>\n",
       "    <tr style=\"text-align: right;\">\n",
       "      <th></th>\n",
       "      <th>date_crawled</th>\n",
       "      <th>price</th>\n",
       "      <th>vehicle_type</th>\n",
       "      <th>registration_year</th>\n",
       "      <th>gearbox</th>\n",
       "      <th>power</th>\n",
       "      <th>model</th>\n",
       "      <th>kilometer</th>\n",
       "      <th>registration_month</th>\n",
       "      <th>fuel_type</th>\n",
       "      <th>brand</th>\n",
       "      <th>not_repaired</th>\n",
       "      <th>date_created</th>\n",
       "      <th>postalcode</th>\n",
       "      <th>last_seen</th>\n",
       "    </tr>\n",
       "  </thead>\n",
       "  <tbody>\n",
       "    <tr>\n",
       "      <th>0</th>\n",
       "      <td>2016-03-24 11:52:17</td>\n",
       "      <td>480</td>\n",
       "      <td>unknown</td>\n",
       "      <td>1993</td>\n",
       "      <td>manual</td>\n",
       "      <td>0</td>\n",
       "      <td>golf</td>\n",
       "      <td>150000</td>\n",
       "      <td>0</td>\n",
       "      <td>petrol</td>\n",
       "      <td>volkswagen</td>\n",
       "      <td>unknown</td>\n",
       "      <td>2016-03-24 00:00:00</td>\n",
       "      <td>70435</td>\n",
       "      <td>2016-04-07 03:16:57</td>\n",
       "    </tr>\n",
       "    <tr>\n",
       "      <th>15</th>\n",
       "      <td>2016-03-11 21:39:15</td>\n",
       "      <td>450</td>\n",
       "      <td>small</td>\n",
       "      <td>1910</td>\n",
       "      <td>unknown</td>\n",
       "      <td>0</td>\n",
       "      <td>ka</td>\n",
       "      <td>5000</td>\n",
       "      <td>0</td>\n",
       "      <td>petrol</td>\n",
       "      <td>ford</td>\n",
       "      <td>unknown</td>\n",
       "      <td>2016-03-11 00:00:00</td>\n",
       "      <td>24148</td>\n",
       "      <td>2016-03-19 08:46:47</td>\n",
       "    </tr>\n",
       "    <tr>\n",
       "      <th>32</th>\n",
       "      <td>2016-03-15 20:59:01</td>\n",
       "      <td>245</td>\n",
       "      <td>sedan</td>\n",
       "      <td>1994</td>\n",
       "      <td>unknown</td>\n",
       "      <td>0</td>\n",
       "      <td>golf</td>\n",
       "      <td>150000</td>\n",
       "      <td>2</td>\n",
       "      <td>petrol</td>\n",
       "      <td>volkswagen</td>\n",
       "      <td>no</td>\n",
       "      <td>2016-03-15 00:00:00</td>\n",
       "      <td>44145</td>\n",
       "      <td>2016-03-17 18:17:43</td>\n",
       "    </tr>\n",
       "    <tr>\n",
       "      <th>37</th>\n",
       "      <td>2016-03-28 17:50:15</td>\n",
       "      <td>1500</td>\n",
       "      <td>unknown</td>\n",
       "      <td>2016</td>\n",
       "      <td>unknown</td>\n",
       "      <td>0</td>\n",
       "      <td>kangoo</td>\n",
       "      <td>150000</td>\n",
       "      <td>1</td>\n",
       "      <td>gasoline</td>\n",
       "      <td>renault</td>\n",
       "      <td>no</td>\n",
       "      <td>2016-03-28 00:00:00</td>\n",
       "      <td>46483</td>\n",
       "      <td>2016-03-30 09:18:02</td>\n",
       "    </tr>\n",
       "    <tr>\n",
       "      <th>54</th>\n",
       "      <td>2016-03-17 07:56:40</td>\n",
       "      <td>4700</td>\n",
       "      <td>wagon</td>\n",
       "      <td>2005</td>\n",
       "      <td>manual</td>\n",
       "      <td>0</td>\n",
       "      <td>signum</td>\n",
       "      <td>150000</td>\n",
       "      <td>0</td>\n",
       "      <td>unknown</td>\n",
       "      <td>opel</td>\n",
       "      <td>no</td>\n",
       "      <td>2016-03-17 00:00:00</td>\n",
       "      <td>88433</td>\n",
       "      <td>2016-04-04 04:17:32</td>\n",
       "    </tr>\n",
       "  </tbody>\n",
       "</table>\n",
       "</div>"
      ],
      "text/plain": [
       "           date_crawled  price vehicle_type  registration_year  gearbox  \\\n",
       "0   2016-03-24 11:52:17    480      unknown               1993   manual   \n",
       "15  2016-03-11 21:39:15    450        small               1910  unknown   \n",
       "32  2016-03-15 20:59:01    245        sedan               1994  unknown   \n",
       "37  2016-03-28 17:50:15   1500      unknown               2016  unknown   \n",
       "54  2016-03-17 07:56:40   4700        wagon               2005   manual   \n",
       "\n",
       "    power   model  kilometer  registration_month fuel_type       brand  \\\n",
       "0       0    golf     150000                   0    petrol  volkswagen   \n",
       "15      0      ka       5000                   0    petrol        ford   \n",
       "32      0    golf     150000                   2    petrol  volkswagen   \n",
       "37      0  kangoo     150000                   1  gasoline     renault   \n",
       "54      0  signum     150000                   0   unknown        opel   \n",
       "\n",
       "   not_repaired         date_created  postalcode            last_seen  \n",
       "0       unknown  2016-03-24 00:00:00       70435  2016-04-07 03:16:57  \n",
       "15      unknown  2016-03-11 00:00:00       24148  2016-03-19 08:46:47  \n",
       "32           no  2016-03-15 00:00:00       44145  2016-03-17 18:17:43  \n",
       "37           no  2016-03-28 00:00:00       46483  2016-03-30 09:18:02  \n",
       "54           no  2016-03-17 00:00:00       88433  2016-04-04 04:17:32  "
      ]
     },
     "execution_count": 26,
     "metadata": {},
     "output_type": "execute_result"
    }
   ],
   "source": [
    "data[data['power']==0].head()"
   ]
  },
  {
   "cell_type": "code",
   "execution_count": 27,
   "metadata": {},
   "outputs": [
    {
     "data": {
      "text/plain": [
       "(36259, 15)"
      ]
     },
     "execution_count": 27,
     "metadata": {},
     "output_type": "execute_result"
    }
   ],
   "source": [
    "data[data['power']==0].shape"
   ]
  },
  {
   "cell_type": "code",
   "execution_count": 28,
   "metadata": {},
   "outputs": [
    {
     "data": {
      "text/html": [
       "<div>\n",
       "<style scoped>\n",
       "    .dataframe tbody tr th:only-of-type {\n",
       "        vertical-align: middle;\n",
       "    }\n",
       "\n",
       "    .dataframe tbody tr th {\n",
       "        vertical-align: top;\n",
       "    }\n",
       "\n",
       "    .dataframe thead th {\n",
       "        text-align: right;\n",
       "    }\n",
       "</style>\n",
       "<table border=\"1\" class=\"dataframe\">\n",
       "  <thead>\n",
       "    <tr style=\"text-align: right;\">\n",
       "      <th></th>\n",
       "      <th>date_crawled</th>\n",
       "      <th>price</th>\n",
       "      <th>vehicle_type</th>\n",
       "      <th>registration_year</th>\n",
       "      <th>gearbox</th>\n",
       "      <th>power</th>\n",
       "      <th>model</th>\n",
       "      <th>kilometer</th>\n",
       "      <th>registration_month</th>\n",
       "      <th>fuel_type</th>\n",
       "      <th>brand</th>\n",
       "      <th>not_repaired</th>\n",
       "      <th>date_created</th>\n",
       "      <th>postalcode</th>\n",
       "      <th>last_seen</th>\n",
       "    </tr>\n",
       "  </thead>\n",
       "  <tbody>\n",
       "    <tr>\n",
       "      <th>7661</th>\n",
       "      <td>2016-04-02 19:25:25</td>\n",
       "      <td>1499</td>\n",
       "      <td>small</td>\n",
       "      <td>1999</td>\n",
       "      <td>manual</td>\n",
       "      <td>7515</td>\n",
       "      <td>lupo</td>\n",
       "      <td>150000</td>\n",
       "      <td>4</td>\n",
       "      <td>petrol</td>\n",
       "      <td>volkswagen</td>\n",
       "      <td>unknown</td>\n",
       "      <td>2016-04-02 00:00:00</td>\n",
       "      <td>65830</td>\n",
       "      <td>2016-04-06 11:46:49</td>\n",
       "    </tr>\n",
       "    <tr>\n",
       "      <th>19092</th>\n",
       "      <td>2016-03-20 17:54:04</td>\n",
       "      <td>9750</td>\n",
       "      <td>wagon</td>\n",
       "      <td>2005</td>\n",
       "      <td>auto</td>\n",
       "      <td>2729</td>\n",
       "      <td>5er</td>\n",
       "      <td>150000</td>\n",
       "      <td>7</td>\n",
       "      <td>gasoline</td>\n",
       "      <td>bmw</td>\n",
       "      <td>no</td>\n",
       "      <td>2016-03-20 00:00:00</td>\n",
       "      <td>21376</td>\n",
       "      <td>2016-03-23 02:48:53</td>\n",
       "    </tr>\n",
       "    <tr>\n",
       "      <th>25232</th>\n",
       "      <td>2016-03-28 19:57:39</td>\n",
       "      <td>10900</td>\n",
       "      <td>bus</td>\n",
       "      <td>2009</td>\n",
       "      <td>manual</td>\n",
       "      <td>10520</td>\n",
       "      <td>caddy</td>\n",
       "      <td>150000</td>\n",
       "      <td>6</td>\n",
       "      <td>gasoline</td>\n",
       "      <td>volkswagen</td>\n",
       "      <td>no</td>\n",
       "      <td>2016-03-28 00:00:00</td>\n",
       "      <td>36272</td>\n",
       "      <td>2016-04-07 02:47:02</td>\n",
       "    </tr>\n",
       "    <tr>\n",
       "      <th>33952</th>\n",
       "      <td>2016-03-09 11:37:03</td>\n",
       "      <td>3740</td>\n",
       "      <td>small</td>\n",
       "      <td>2006</td>\n",
       "      <td>manual</td>\n",
       "      <td>6920</td>\n",
       "      <td>aygo</td>\n",
       "      <td>90000</td>\n",
       "      <td>10</td>\n",
       "      <td>unknown</td>\n",
       "      <td>toyota</td>\n",
       "      <td>no</td>\n",
       "      <td>2016-03-09 00:00:00</td>\n",
       "      <td>94116</td>\n",
       "      <td>2016-03-17 05:16:32</td>\n",
       "    </tr>\n",
       "    <tr>\n",
       "      <th>44520</th>\n",
       "      <td>2016-03-10 22:37:21</td>\n",
       "      <td>2500</td>\n",
       "      <td>convertible</td>\n",
       "      <td>1998</td>\n",
       "      <td>manual</td>\n",
       "      <td>7512</td>\n",
       "      <td>golf</td>\n",
       "      <td>150000</td>\n",
       "      <td>6</td>\n",
       "      <td>unknown</td>\n",
       "      <td>volkswagen</td>\n",
       "      <td>unknown</td>\n",
       "      <td>2016-03-10 00:00:00</td>\n",
       "      <td>68239</td>\n",
       "      <td>2016-04-05 15:17:50</td>\n",
       "    </tr>\n",
       "  </tbody>\n",
       "</table>\n",
       "</div>"
      ],
      "text/plain": [
       "              date_crawled  price vehicle_type  registration_year gearbox  \\\n",
       "7661   2016-04-02 19:25:25   1499        small               1999  manual   \n",
       "19092  2016-03-20 17:54:04   9750        wagon               2005    auto   \n",
       "25232  2016-03-28 19:57:39  10900          bus               2009  manual   \n",
       "33952  2016-03-09 11:37:03   3740        small               2006  manual   \n",
       "44520  2016-03-10 22:37:21   2500  convertible               1998  manual   \n",
       "\n",
       "       power  model  kilometer  registration_month fuel_type       brand  \\\n",
       "7661    7515   lupo     150000                   4    petrol  volkswagen   \n",
       "19092   2729    5er     150000                   7  gasoline         bmw   \n",
       "25232  10520  caddy     150000                   6  gasoline  volkswagen   \n",
       "33952   6920   aygo      90000                  10   unknown      toyota   \n",
       "44520   7512   golf     150000                   6   unknown  volkswagen   \n",
       "\n",
       "      not_repaired         date_created  postalcode            last_seen  \n",
       "7661       unknown  2016-04-02 00:00:00       65830  2016-04-06 11:46:49  \n",
       "19092           no  2016-03-20 00:00:00       21376  2016-03-23 02:48:53  \n",
       "25232           no  2016-03-28 00:00:00       36272  2016-04-07 02:47:02  \n",
       "33952           no  2016-03-09 00:00:00       94116  2016-03-17 05:16:32  \n",
       "44520      unknown  2016-03-10 00:00:00       68239  2016-04-05 15:17:50  "
      ]
     },
     "execution_count": 28,
     "metadata": {},
     "output_type": "execute_result"
    }
   ],
   "source": [
    "data[data['power'] > 2500].head()"
   ]
  },
  {
   "cell_type": "code",
   "execution_count": 29,
   "metadata": {},
   "outputs": [
    {
     "data": {
      "text/plain": [
       "(92, 15)"
      ]
     },
     "execution_count": 29,
     "metadata": {},
     "output_type": "execute_result"
    }
   ],
   "source": [
    "data[data['power'] > 2500].shape"
   ]
  },
  {
   "cell_type": "markdown",
   "metadata": {},
   "source": [
    "Исходя из полученных данных можно предположить что если мощность нулевая, то скорее всего двигатель сломан, а если мощность аномально большая, то либо это ошибка, либо данные в других системных единицах. Так или иначе лучше эти данные удалить, вряд ли они смогут помочь оценить авто, а вот разброс в оценке у среднестатистических машин добавят."
   ]
  },
  {
   "cell_type": "code",
   "execution_count": 30,
   "metadata": {},
   "outputs": [
    {
     "data": {
      "text/plain": [
       "(343458, 15)"
      ]
     },
     "execution_count": 30,
     "metadata": {},
     "output_type": "execute_result"
    }
   ],
   "source": [
    "data.shape"
   ]
  },
  {
   "cell_type": "code",
   "execution_count": 31,
   "metadata": {},
   "outputs": [
    {
     "data": {
      "text/plain": [
       "(307107, 15)"
      ]
     },
     "execution_count": 31,
     "metadata": {},
     "output_type": "execute_result"
    }
   ],
   "source": [
    "data = data[(data['power'] != 0) & (data['power'] < 2500)]\n",
    "data.shape"
   ]
  },
  {
   "cell_type": "markdown",
   "metadata": {},
   "source": [
    "Также проверим данные на наличие дубликатов:"
   ]
  },
  {
   "cell_type": "code",
   "execution_count": 32,
   "metadata": {},
   "outputs": [
    {
     "data": {
      "text/plain": [
       "4"
      ]
     },
     "execution_count": 32,
     "metadata": {},
     "output_type": "execute_result"
    }
   ],
   "source": [
    "data.duplicated().sum()"
   ]
  },
  {
   "cell_type": "code",
   "execution_count": 33,
   "metadata": {},
   "outputs": [
    {
     "name": "stdout",
     "output_type": "stream",
     "text": [
      "<class 'pandas.core.frame.DataFrame'>\n",
      "RangeIndex: 307103 entries, 0 to 307102\n",
      "Data columns (total 15 columns):\n",
      " #   Column              Non-Null Count   Dtype \n",
      "---  ------              --------------   ----- \n",
      " 0   date_crawled        307103 non-null  object\n",
      " 1   price               307103 non-null  int64 \n",
      " 2   vehicle_type        307103 non-null  object\n",
      " 3   registration_year   307103 non-null  int64 \n",
      " 4   gearbox             307103 non-null  object\n",
      " 5   power               307103 non-null  int64 \n",
      " 6   model               307103 non-null  object\n",
      " 7   kilometer           307103 non-null  int64 \n",
      " 8   registration_month  307103 non-null  int64 \n",
      " 9   fuel_type           307103 non-null  object\n",
      " 10  brand               307103 non-null  object\n",
      " 11  not_repaired        307103 non-null  object\n",
      " 12  date_created        307103 non-null  object\n",
      " 13  postalcode          307103 non-null  int64 \n",
      " 14  last_seen           307103 non-null  object\n",
      "dtypes: int64(6), object(9)\n",
      "memory usage: 35.1+ MB\n"
     ]
    }
   ],
   "source": [
    "data = data.drop_duplicates().reset_index(drop=True)\n",
    "data.info()"
   ]
  },
  {
   "cell_type": "markdown",
   "metadata": {},
   "source": [
    "**Вывод** \n",
    "\n",
    "В этом исследовании нам необходимо будет определять стоимость автомобиля на основе исторических данных. В данных мы нашли множество проблем, таких как пропуски, аномалии, дубликаты. Все проблемы были устранены. \n",
    "\n",
    "Предварительно можно удтверждать, что данных будет достаточно для создания предиктивной модели."
   ]
  },
  {
   "cell_type": "markdown",
   "metadata": {},
   "source": [
    "## Обучение моделей"
   ]
  },
  {
   "cell_type": "markdown",
   "metadata": {},
   "source": [
    "### Подготовим данные для обучения моделей"
   ]
  },
  {
   "cell_type": "markdown",
   "metadata": {},
   "source": [
    "Удалим из признаков столбцы с датами, кодом и последней активностью пользователя:"
   ]
  },
  {
   "cell_type": "code",
   "execution_count": 34,
   "metadata": {
    "scrolled": true
   },
   "outputs": [
    {
     "name": "stdout",
     "output_type": "stream",
     "text": [
      "(307103, 10)\n",
      "(307103,)\n"
     ]
    }
   ],
   "source": [
    "features = data.drop(['date_crawled', 'price', 'date_created', 'postalcode', 'last_seen'], axis=1)\n",
    "target = data['price']\n",
    "print(features.shape)\n",
    "print(target.shape)"
   ]
  },
  {
   "cell_type": "markdown",
   "metadata": {},
   "source": [
    "Разделим данные на 3 части и отложим тестовую на проверку лучшей модели:"
   ]
  },
  {
   "cell_type": "code",
   "execution_count": 52,
   "metadata": {},
   "outputs": [],
   "source": [
    "features_main, features_test, target_main, target_test = train_test_split(features, target, test_size=0.2, random_state=27)"
   ]
  },
  {
   "cell_type": "code",
   "execution_count": 53,
   "metadata": {},
   "outputs": [],
   "source": [
    "features_train, features_valid, target_train, target_valid = train_test_split(features_main, target_main, test_size=0.25, random_state=27)"
   ]
  },
  {
   "cell_type": "code",
   "execution_count": 54,
   "metadata": {
    "scrolled": false
   },
   "outputs": [
    {
     "data": {
      "text/plain": [
       "(184261, 10)"
      ]
     },
     "metadata": {},
     "output_type": "display_data"
    },
    {
     "data": {
      "text/plain": [
       "(184261,)"
      ]
     },
     "metadata": {},
     "output_type": "display_data"
    },
    {
     "data": {
      "text/plain": [
       "(61421, 10)"
      ]
     },
     "metadata": {},
     "output_type": "display_data"
    },
    {
     "data": {
      "text/plain": [
       "(61421,)"
      ]
     },
     "metadata": {},
     "output_type": "display_data"
    },
    {
     "data": {
      "text/plain": [
       "(61421, 10)"
      ]
     },
     "metadata": {},
     "output_type": "display_data"
    },
    {
     "data": {
      "text/plain": [
       "(61421,)"
      ]
     },
     "metadata": {},
     "output_type": "display_data"
    }
   ],
   "source": [
    "del features_main\n",
    "del target_main\n",
    "display(features_train.shape)\n",
    "display(target_train.shape)\n",
    "display(features_valid.shape)\n",
    "display(target_valid.shape)\n",
    "display(features_test.shape)\n",
    "display(target_test.shape)"
   ]
  },
  {
   "cell_type": "markdown",
   "metadata": {},
   "source": [
    "### CatBoost"
   ]
  },
  {
   "cell_type": "code",
   "execution_count": 55,
   "metadata": {
    "scrolled": true
   },
   "outputs": [],
   "source": [
    "cat_features = ['vehicle_type', 'gearbox', 'model', 'registration_month', 'fuel_type', 'brand', 'not_repaired']"
   ]
  },
  {
   "cell_type": "code",
   "execution_count": 56,
   "metadata": {
    "scrolled": true
   },
   "outputs": [
    {
     "name": "stdout",
     "output_type": "stream",
     "text": [
      "0:\tlearn: 4184.0609017\ttotal: 94ms\tremaining: 4.61s\n",
      "10:\tlearn: 2720.3921152\ttotal: 423ms\tremaining: 1.5s\n",
      "20:\tlearn: 2348.9582212\ttotal: 819ms\tremaining: 1.13s\n",
      "30:\tlearn: 2195.4732848\ttotal: 1.11s\tremaining: 682ms\n",
      "40:\tlearn: 2131.8901250\ttotal: 1.39s\tremaining: 305ms\n",
      "49:\tlearn: 2093.9058084\ttotal: 1.64s\tremaining: 0us\n",
      "0:\tlearn: 4183.8614197\ttotal: 37.4ms\tremaining: 1.83s\n",
      "10:\tlearn: 2742.8287700\ttotal: 336ms\tremaining: 1.19s\n",
      "20:\tlearn: 2392.6869764\ttotal: 608ms\tremaining: 839ms\n",
      "30:\tlearn: 2217.7364043\ttotal: 878ms\tremaining: 538ms\n",
      "40:\tlearn: 2143.3240222\ttotal: 1.16s\tremaining: 255ms\n",
      "49:\tlearn: 2098.4100445\ttotal: 1.4s\tremaining: 0us\n",
      "0:\tlearn: 4192.8116120\ttotal: 38.8ms\tremaining: 1.9s\n",
      "10:\tlearn: 2714.8141894\ttotal: 326ms\tremaining: 1.16s\n",
      "20:\tlearn: 2363.7563654\ttotal: 606ms\tremaining: 838ms\n",
      "30:\tlearn: 2208.7035782\ttotal: 876ms\tremaining: 537ms\n",
      "40:\tlearn: 2131.6669500\ttotal: 1.14s\tremaining: 250ms\n",
      "49:\tlearn: 2097.9202104\ttotal: 1.38s\tremaining: 0us\n",
      "0:\tlearn: 4178.4114577\ttotal: 40.2ms\tremaining: 1.97s\n",
      "10:\tlearn: 2737.6718317\ttotal: 357ms\tremaining: 1.26s\n",
      "20:\tlearn: 2362.4188302\ttotal: 642ms\tremaining: 887ms\n",
      "30:\tlearn: 2208.1759499\ttotal: 934ms\tremaining: 572ms\n",
      "40:\tlearn: 2138.6934013\ttotal: 1.22s\tremaining: 268ms\n",
      "49:\tlearn: 2100.9000329\ttotal: 1.47s\tremaining: 0us\n",
      "0:\tlearn: 4170.8678889\ttotal: 40.4ms\tremaining: 1.98s\n",
      "10:\tlearn: 2715.8265380\ttotal: 345ms\tremaining: 1.22s\n",
      "20:\tlearn: 2343.6993378\ttotal: 635ms\tremaining: 877ms\n",
      "30:\tlearn: 2197.3181153\ttotal: 939ms\tremaining: 576ms\n",
      "40:\tlearn: 2131.0205326\ttotal: 1.23s\tremaining: 271ms\n",
      "49:\tlearn: 2092.7876297\ttotal: 1.49s\tremaining: 0us\n",
      "0:\tlearn: 4087.1480827\ttotal: 55.8ms\tremaining: 2.73s\n",
      "10:\tlearn: 2315.1123302\ttotal: 491ms\tremaining: 1.74s\n",
      "20:\tlearn: 2049.7096493\ttotal: 919ms\tremaining: 1.27s\n",
      "30:\tlearn: 1968.8597386\ttotal: 1.32s\tremaining: 813ms\n",
      "40:\tlearn: 1919.3640656\ttotal: 1.75s\tremaining: 385ms\n",
      "49:\tlearn: 1890.7759703\ttotal: 2.12s\tremaining: 0us\n",
      "0:\tlearn: 4076.1387214\ttotal: 65.3ms\tremaining: 3.2s\n",
      "10:\tlearn: 2348.9508229\ttotal: 508ms\tremaining: 1.8s\n",
      "20:\tlearn: 2070.9405658\ttotal: 913ms\tremaining: 1.26s\n",
      "30:\tlearn: 1987.3899029\ttotal: 1.35s\tremaining: 828ms\n",
      "40:\tlearn: 1930.1578903\ttotal: 1.78s\tremaining: 390ms\n",
      "49:\tlearn: 1899.9924888\ttotal: 2.17s\tremaining: 0us\n",
      "0:\tlearn: 4093.0899108\ttotal: 54.1ms\tremaining: 2.65s\n",
      "10:\tlearn: 2334.4096081\ttotal: 494ms\tremaining: 1.75s\n",
      "20:\tlearn: 2079.0039863\ttotal: 919ms\tremaining: 1.27s\n",
      "30:\tlearn: 1997.6554735\ttotal: 1.34s\tremaining: 820ms\n",
      "40:\tlearn: 1944.7921971\ttotal: 1.75s\tremaining: 385ms\n",
      "49:\tlearn: 1910.9418313\ttotal: 2.11s\tremaining: 0us\n",
      "0:\tlearn: 4069.8032804\ttotal: 54.9ms\tremaining: 2.69s\n",
      "10:\tlearn: 2357.5913783\ttotal: 481ms\tremaining: 1.71s\n",
      "20:\tlearn: 2082.7912354\ttotal: 906ms\tremaining: 1.25s\n",
      "30:\tlearn: 2009.7195077\ttotal: 1.34s\tremaining: 823ms\n",
      "40:\tlearn: 1946.7057371\ttotal: 1.74s\tremaining: 383ms\n",
      "49:\tlearn: 1912.7056074\ttotal: 2.14s\tremaining: 0us\n",
      "0:\tlearn: 4063.5389945\ttotal: 60.1ms\tremaining: 2.95s\n",
      "10:\tlearn: 2327.9556225\ttotal: 525ms\tremaining: 1.86s\n",
      "20:\tlearn: 2057.6919456\ttotal: 977ms\tremaining: 1.35s\n",
      "30:\tlearn: 1973.9574451\ttotal: 1.42s\tremaining: 872ms\n",
      "40:\tlearn: 1922.1810817\ttotal: 1.86s\tremaining: 408ms\n",
      "49:\tlearn: 1889.5915473\ttotal: 2.24s\tremaining: 0us\n",
      "0:\tlearn: 4033.6097320\ttotal: 65.7ms\tremaining: 3.22s\n",
      "10:\tlearn: 2181.8385770\ttotal: 660ms\tremaining: 2.34s\n",
      "20:\tlearn: 1938.4616723\ttotal: 1.23s\tremaining: 1.71s\n",
      "30:\tlearn: 1875.2044964\ttotal: 1.83s\tremaining: 1.12s\n",
      "40:\tlearn: 1826.8201468\ttotal: 2.43s\tremaining: 533ms\n",
      "49:\tlearn: 1801.6364022\ttotal: 2.97s\tremaining: 0us\n",
      "0:\tlearn: 4011.3357669\ttotal: 74.1ms\tremaining: 3.63s\n",
      "10:\tlearn: 2165.7921946\ttotal: 674ms\tremaining: 2.39s\n",
      "20:\tlearn: 1941.6186612\ttotal: 1.26s\tremaining: 1.74s\n",
      "30:\tlearn: 1871.0762122\ttotal: 1.85s\tremaining: 1.13s\n",
      "40:\tlearn: 1824.8637874\ttotal: 2.48s\tremaining: 544ms\n",
      "49:\tlearn: 1797.5452597\ttotal: 3s\tremaining: 0us\n",
      "0:\tlearn: 4039.1769893\ttotal: 70.2ms\tremaining: 3.44s\n",
      "10:\tlearn: 2167.9556707\ttotal: 679ms\tremaining: 2.41s\n",
      "20:\tlearn: 1942.1357485\ttotal: 1.25s\tremaining: 1.73s\n",
      "30:\tlearn: 1876.0883537\ttotal: 1.84s\tremaining: 1.13s\n",
      "40:\tlearn: 1831.0474677\ttotal: 2.44s\tremaining: 535ms\n",
      "49:\tlearn: 1804.6434412\ttotal: 2.98s\tremaining: 0us\n",
      "0:\tlearn: 4002.7107973\ttotal: 73.5ms\tremaining: 3.6s\n",
      "10:\tlearn: 2166.0555286\ttotal: 686ms\tremaining: 2.43s\n",
      "20:\tlearn: 1943.0169859\ttotal: 1.26s\tremaining: 1.75s\n",
      "30:\tlearn: 1875.1762110\ttotal: 1.85s\tremaining: 1.13s\n",
      "40:\tlearn: 1827.5090594\ttotal: 2.46s\tremaining: 539ms\n",
      "49:\tlearn: 1806.4105819\ttotal: 2.98s\tremaining: 0us\n",
      "0:\tlearn: 3998.5493350\ttotal: 75.7ms\tremaining: 3.71s\n",
      "10:\tlearn: 2155.0967693\ttotal: 670ms\tremaining: 2.38s\n",
      "20:\tlearn: 1930.4091857\ttotal: 1.23s\tremaining: 1.7s\n",
      "30:\tlearn: 1864.5039860\ttotal: 1.78s\tremaining: 1.09s\n",
      "40:\tlearn: 1817.0883397\ttotal: 2.34s\tremaining: 514ms\n",
      "49:\tlearn: 1788.9794944\ttotal: 2.84s\tremaining: 0us\n",
      "0:\tlearn: 3982.0374477\ttotal: 83ms\tremaining: 4.07s\n",
      "10:\tlearn: 2051.1851295\ttotal: 827ms\tremaining: 2.93s\n",
      "20:\tlearn: 1838.8814767\ttotal: 1.58s\tremaining: 2.18s\n",
      "30:\tlearn: 1776.7165648\ttotal: 2.31s\tremaining: 1.42s\n",
      "40:\tlearn: 1746.0133339\ttotal: 3.04s\tremaining: 668ms\n",
      "49:\tlearn: 1716.7472696\ttotal: 3.71s\tremaining: 0us\n",
      "0:\tlearn: 3981.3753223\ttotal: 90.9ms\tremaining: 4.45s\n",
      "10:\tlearn: 2075.2008538\ttotal: 842ms\tremaining: 2.99s\n",
      "20:\tlearn: 1857.3413233\ttotal: 1.56s\tremaining: 2.16s\n",
      "30:\tlearn: 1793.8864623\ttotal: 2.28s\tremaining: 1.4s\n",
      "40:\tlearn: 1755.5606253\ttotal: 3.01s\tremaining: 660ms\n",
      "49:\tlearn: 1724.7912410\ttotal: 3.66s\tremaining: 0us\n",
      "0:\tlearn: 3982.7357003\ttotal: 88.3ms\tremaining: 4.33s\n",
      "10:\tlearn: 2073.1562343\ttotal: 829ms\tremaining: 2.94s\n",
      "20:\tlearn: 1866.3904185\ttotal: 1.56s\tremaining: 2.16s\n",
      "30:\tlearn: 1801.7875222\ttotal: 2.29s\tremaining: 1.41s\n",
      "40:\tlearn: 1753.2787891\ttotal: 3.04s\tremaining: 667ms\n",
      "49:\tlearn: 1731.0586188\ttotal: 3.75s\tremaining: 0us\n",
      "0:\tlearn: 3972.9633110\ttotal: 94.3ms\tremaining: 4.62s\n",
      "10:\tlearn: 2065.0957105\ttotal: 866ms\tremaining: 3.07s\n",
      "20:\tlearn: 1866.0745548\ttotal: 1.62s\tremaining: 2.23s\n",
      "30:\tlearn: 1803.6544652\ttotal: 2.36s\tremaining: 1.45s\n",
      "40:\tlearn: 1757.9347897\ttotal: 3.09s\tremaining: 679ms\n",
      "49:\tlearn: 1734.6067898\ttotal: 3.75s\tremaining: 0us\n",
      "0:\tlearn: 3969.1150899\ttotal: 87ms\tremaining: 4.26s\n",
      "10:\tlearn: 2056.9835594\ttotal: 847ms\tremaining: 3s\n",
      "20:\tlearn: 1849.1389273\ttotal: 1.57s\tremaining: 2.16s\n",
      "30:\tlearn: 1792.7479886\ttotal: 2.3s\tremaining: 1.41s\n",
      "40:\tlearn: 1753.5973556\ttotal: 3.05s\tremaining: 669ms\n",
      "49:\tlearn: 1721.3442127\ttotal: 3.71s\tremaining: 0us\n",
      "0:\tlearn: 3834.0176870\ttotal: 37.7ms\tremaining: 1.85s\n",
      "10:\tlearn: 2342.3759523\ttotal: 331ms\tremaining: 1.17s\n",
      "20:\tlearn: 2163.4157436\ttotal: 602ms\tremaining: 832ms\n",
      "30:\tlearn: 2088.1523929\ttotal: 878ms\tremaining: 538ms\n",
      "40:\tlearn: 2038.0032359\ttotal: 1.15s\tremaining: 253ms\n",
      "49:\tlearn: 1999.9483339\ttotal: 1.39s\tremaining: 0us\n",
      "0:\tlearn: 3834.6009940\ttotal: 40.2ms\tremaining: 1.97s\n",
      "10:\tlearn: 2385.4044158\ttotal: 343ms\tremaining: 1.22s\n",
      "20:\tlearn: 2187.4558178\ttotal: 609ms\tremaining: 841ms\n",
      "30:\tlearn: 2112.7660021\ttotal: 873ms\tremaining: 535ms\n",
      "40:\tlearn: 2058.6856645\ttotal: 1.14s\tremaining: 251ms\n",
      "49:\tlearn: 2019.0452235\ttotal: 1.38s\tremaining: 0us\n",
      "0:\tlearn: 3850.8976083\ttotal: 38.5ms\tremaining: 1.88s\n",
      "10:\tlearn: 2360.2128624\ttotal: 345ms\tremaining: 1.22s\n",
      "20:\tlearn: 2186.1330559\ttotal: 629ms\tremaining: 868ms\n",
      "30:\tlearn: 2106.9176873\ttotal: 912ms\tremaining: 559ms\n",
      "40:\tlearn: 2061.9257357\ttotal: 1.19s\tremaining: 262ms\n",
      "49:\tlearn: 2029.2631770\ttotal: 1.45s\tremaining: 0us\n",
      "0:\tlearn: 3832.3640290\ttotal: 39.4ms\tremaining: 1.93s\n",
      "10:\tlearn: 2343.6363808\ttotal: 347ms\tremaining: 1.23s\n",
      "20:\tlearn: 2163.3547226\ttotal: 623ms\tremaining: 860ms\n",
      "30:\tlearn: 2083.2316569\ttotal: 904ms\tremaining: 554ms\n",
      "40:\tlearn: 2032.7768833\ttotal: 1.18s\tremaining: 259ms\n",
      "49:\tlearn: 1997.5403248\ttotal: 1.42s\tremaining: 0us\n",
      "0:\tlearn: 3822.5715580\ttotal: 40ms\tremaining: 1.96s\n",
      "10:\tlearn: 2375.7196810\ttotal: 366ms\tremaining: 1.3s\n",
      "20:\tlearn: 2176.7962933\ttotal: 649ms\tremaining: 896ms\n",
      "30:\tlearn: 2095.0667324\ttotal: 928ms\tremaining: 569ms\n",
      "40:\tlearn: 2037.9216968\ttotal: 1.2s\tremaining: 263ms\n",
      "49:\tlearn: 2007.0443780\ttotal: 1.46s\tremaining: 0us\n",
      "0:\tlearn: 3643.4090703\ttotal: 50.8ms\tremaining: 2.49s\n",
      "10:\tlearn: 2092.6624117\ttotal: 513ms\tremaining: 1.82s\n",
      "20:\tlearn: 1960.7772553\ttotal: 955ms\tremaining: 1.32s\n",
      "30:\tlearn: 1895.7196042\ttotal: 1.41s\tremaining: 861ms\n",
      "40:\tlearn: 1857.7774242\ttotal: 1.85s\tremaining: 406ms\n",
      "49:\tlearn: 1828.5417936\ttotal: 2.25s\tremaining: 0us\n",
      "0:\tlearn: 3622.4218598\ttotal: 59.4ms\tremaining: 2.91s\n",
      "10:\tlearn: 2075.5760561\ttotal: 514ms\tremaining: 1.82s\n",
      "20:\tlearn: 1952.0508231\ttotal: 952ms\tremaining: 1.31s\n",
      "30:\tlearn: 1895.0166687\ttotal: 1.38s\tremaining: 846ms\n",
      "40:\tlearn: 1857.8589391\ttotal: 1.8s\tremaining: 396ms\n",
      "49:\tlearn: 1836.1489810\ttotal: 2.18s\tremaining: 0us\n",
      "0:\tlearn: 3655.1647946\ttotal: 52.8ms\tremaining: 2.59s\n",
      "10:\tlearn: 2090.2802412\ttotal: 502ms\tremaining: 1.78s\n",
      "20:\tlearn: 1977.8066588\ttotal: 941ms\tremaining: 1.3s\n",
      "30:\tlearn: 1900.4598825\ttotal: 1.37s\tremaining: 842ms\n",
      "40:\tlearn: 1862.0224646\ttotal: 1.84s\tremaining: 404ms\n",
      "49:\tlearn: 1833.3035444\ttotal: 2.22s\tremaining: 0us\n",
      "0:\tlearn: 3618.5726341\ttotal: 64.6ms\tremaining: 3.17s\n",
      "10:\tlearn: 2087.0492578\ttotal: 516ms\tremaining: 1.83s\n",
      "20:\tlearn: 1954.6913185\ttotal: 944ms\tremaining: 1.3s\n",
      "30:\tlearn: 1894.7461677\ttotal: 1.38s\tremaining: 847ms\n",
      "40:\tlearn: 1861.1645393\ttotal: 1.81s\tremaining: 397ms\n",
      "49:\tlearn: 1833.1080528\ttotal: 2.17s\tremaining: 0us\n",
      "0:\tlearn: 3611.1634357\ttotal: 57.4ms\tremaining: 2.81s\n",
      "10:\tlearn: 2075.9338072\ttotal: 495ms\tremaining: 1.75s\n",
      "20:\tlearn: 1948.5045282\ttotal: 904ms\tremaining: 1.25s\n",
      "30:\tlearn: 1888.3805266\ttotal: 1.32s\tremaining: 807ms\n",
      "40:\tlearn: 1854.9117641\ttotal: 1.74s\tremaining: 381ms\n",
      "49:\tlearn: 1829.4965930\ttotal: 2.11s\tremaining: 0us\n",
      "0:\tlearn: 3535.6706712\ttotal: 66.2ms\tremaining: 3.24s\n",
      "10:\tlearn: 1953.5534018\ttotal: 726ms\tremaining: 2.57s\n",
      "20:\tlearn: 1840.8064325\ttotal: 1.34s\tremaining: 1.86s\n",
      "30:\tlearn: 1790.3019557\ttotal: 2.04s\tremaining: 1.25s\n",
      "40:\tlearn: 1754.0415283\ttotal: 2.72s\tremaining: 596ms\n",
      "49:\tlearn: 1729.5611367\ttotal: 3.26s\tremaining: 0us\n",
      "0:\tlearn: 3491.2674032\ttotal: 67.3ms\tremaining: 3.3s\n",
      "10:\tlearn: 1960.7332587\ttotal: 673ms\tremaining: 2.38s\n",
      "20:\tlearn: 1855.0163091\ttotal: 1.28s\tremaining: 1.76s\n",
      "30:\tlearn: 1799.3075480\ttotal: 1.85s\tremaining: 1.14s\n",
      "40:\tlearn: 1760.3291194\ttotal: 2.44s\tremaining: 536ms\n",
      "49:\tlearn: 1732.0225308\ttotal: 2.95s\tremaining: 0us\n",
      "0:\tlearn: 3546.8397429\ttotal: 69.7ms\tremaining: 3.41s\n",
      "10:\tlearn: 1970.0074718\ttotal: 658ms\tremaining: 2.33s\n",
      "20:\tlearn: 1866.7461567\ttotal: 1.23s\tremaining: 1.7s\n",
      "30:\tlearn: 1804.1733920\ttotal: 1.81s\tremaining: 1.11s\n",
      "40:\tlearn: 1764.3337436\ttotal: 2.36s\tremaining: 519ms\n",
      "49:\tlearn: 1737.9101121\ttotal: 2.88s\tremaining: 0us\n",
      "0:\tlearn: 3482.7811658\ttotal: 73.3ms\tremaining: 3.59s\n",
      "10:\tlearn: 1964.8509795\ttotal: 682ms\tremaining: 2.42s\n",
      "20:\tlearn: 1851.7913611\ttotal: 1.27s\tremaining: 1.76s\n",
      "30:\tlearn: 1803.1828371\ttotal: 1.87s\tremaining: 1.15s\n",
      "40:\tlearn: 1763.6471741\ttotal: 2.46s\tremaining: 539ms\n",
      "49:\tlearn: 1740.8997035\ttotal: 2.98s\tremaining: 0us\n",
      "0:\tlearn: 3479.6268498\ttotal: 75.8ms\tremaining: 3.72s\n",
      "10:\tlearn: 1937.4804257\ttotal: 665ms\tremaining: 2.36s\n",
      "20:\tlearn: 1834.4127868\ttotal: 1.24s\tremaining: 1.71s\n",
      "30:\tlearn: 1788.5895201\ttotal: 1.8s\tremaining: 1.1s\n",
      "40:\tlearn: 1745.3121205\ttotal: 2.38s\tremaining: 523ms\n",
      "49:\tlearn: 1721.5364648\ttotal: 2.9s\tremaining: 0us\n",
      "0:\tlearn: 3430.0287629\ttotal: 80ms\tremaining: 3.92s\n",
      "10:\tlearn: 1853.9060680\ttotal: 840ms\tremaining: 2.98s\n",
      "20:\tlearn: 1758.7920440\ttotal: 1.58s\tremaining: 2.18s\n",
      "30:\tlearn: 1708.5943782\ttotal: 2.31s\tremaining: 1.42s\n",
      "40:\tlearn: 1670.5341720\ttotal: 3.06s\tremaining: 671ms\n",
      "49:\tlearn: 1645.6041781\ttotal: 3.72s\tremaining: 0us\n",
      "0:\tlearn: 3429.7037334\ttotal: 90.3ms\tremaining: 4.42s\n",
      "10:\tlearn: 1868.0345015\ttotal: 817ms\tremaining: 2.9s\n",
      "20:\tlearn: 1779.0545859\ttotal: 1.53s\tremaining: 2.12s\n",
      "30:\tlearn: 1722.4624790\ttotal: 2.25s\tremaining: 1.38s\n",
      "40:\tlearn: 1675.9336644\ttotal: 2.97s\tremaining: 652ms\n",
      "49:\tlearn: 1648.1380106\ttotal: 3.66s\tremaining: 0us\n",
      "0:\tlearn: 3431.3141293\ttotal: 91.2ms\tremaining: 4.47s\n",
      "10:\tlearn: 1877.8277471\ttotal: 858ms\tremaining: 3.04s\n",
      "20:\tlearn: 1776.1650915\ttotal: 1.59s\tremaining: 2.2s\n",
      "30:\tlearn: 1714.7974437\ttotal: 2.32s\tremaining: 1.42s\n",
      "40:\tlearn: 1679.8142706\ttotal: 3.07s\tremaining: 674ms\n",
      "49:\tlearn: 1655.7624330\ttotal: 3.76s\tremaining: 0us\n",
      "0:\tlearn: 3421.6307184\ttotal: 96.3ms\tremaining: 4.72s\n",
      "10:\tlearn: 1868.2821150\ttotal: 983ms\tremaining: 3.48s\n",
      "20:\tlearn: 1774.2214789\ttotal: 1.88s\tremaining: 2.6s\n",
      "30:\tlearn: 1728.0673525\ttotal: 2.65s\tremaining: 1.62s\n",
      "40:\tlearn: 1685.4691713\ttotal: 3.4s\tremaining: 746ms\n",
      "49:\tlearn: 1653.2034934\ttotal: 4.09s\tremaining: 0us\n",
      "0:\tlearn: 3419.1354209\ttotal: 93.6ms\tremaining: 4.59s\n",
      "10:\tlearn: 1864.1356405\ttotal: 884ms\tremaining: 3.13s\n",
      "20:\tlearn: 1764.4572523\ttotal: 1.64s\tremaining: 2.27s\n",
      "30:\tlearn: 1704.1032165\ttotal: 2.39s\tremaining: 1.46s\n",
      "40:\tlearn: 1667.9967838\ttotal: 3.15s\tremaining: 692ms\n",
      "49:\tlearn: 1644.0474598\ttotal: 3.82s\tremaining: 0us\n",
      "0:\tlearn: 3562.9777381\ttotal: 41.4ms\tremaining: 2.03s\n",
      "10:\tlearn: 2307.1646794\ttotal: 361ms\tremaining: 1.28s\n",
      "20:\tlearn: 2139.8267222\ttotal: 652ms\tremaining: 900ms\n",
      "30:\tlearn: 2051.3623887\ttotal: 932ms\tremaining: 571ms\n",
      "40:\tlearn: 2005.3457215\ttotal: 1.22s\tremaining: 267ms\n",
      "49:\tlearn: 1972.1809601\ttotal: 1.48s\tremaining: 0us\n",
      "0:\tlearn: 3564.2209457\ttotal: 39.7ms\tremaining: 1.94s\n",
      "10:\tlearn: 2322.2337498\ttotal: 362ms\tremaining: 1.28s\n",
      "20:\tlearn: 2130.0764351\ttotal: 651ms\tremaining: 898ms\n",
      "30:\tlearn: 2051.1487237\ttotal: 945ms\tremaining: 579ms\n",
      "40:\tlearn: 2001.0432435\ttotal: 1.24s\tremaining: 271ms\n",
      "49:\tlearn: 1973.3970630\ttotal: 1.48s\tremaining: 0us\n",
      "0:\tlearn: 3586.7594845\ttotal: 36ms\tremaining: 1.76s\n",
      "10:\tlearn: 2316.6020773\ttotal: 338ms\tremaining: 1.2s\n",
      "20:\tlearn: 2163.4896168\ttotal: 603ms\tremaining: 833ms\n",
      "30:\tlearn: 2075.1594806\ttotal: 886ms\tremaining: 543ms\n",
      "40:\tlearn: 2035.0292524\ttotal: 1.17s\tremaining: 258ms\n",
      "49:\tlearn: 1993.9188109\ttotal: 1.41s\tremaining: 0us\n",
      "0:\tlearn: 3564.6633058\ttotal: 38.2ms\tremaining: 1.87s\n",
      "10:\tlearn: 2325.2676186\ttotal: 347ms\tremaining: 1.23s\n",
      "20:\tlearn: 2136.3840582\ttotal: 616ms\tremaining: 851ms\n",
      "30:\tlearn: 2063.4249334\ttotal: 887ms\tremaining: 543ms\n",
      "40:\tlearn: 2026.0922437\ttotal: 1.16s\tremaining: 256ms\n",
      "49:\tlearn: 1983.3686311\ttotal: 1.41s\tremaining: 0us\n",
      "0:\tlearn: 3552.9294623\ttotal: 39.6ms\tremaining: 1.94s\n",
      "10:\tlearn: 2289.8380335\ttotal: 364ms\tremaining: 1.29s\n",
      "20:\tlearn: 2112.2473114\ttotal: 644ms\tremaining: 889ms\n",
      "30:\tlearn: 2035.1758301\ttotal: 934ms\tremaining: 572ms\n",
      "40:\tlearn: 1991.9335262\ttotal: 1.21s\tremaining: 265ms\n",
      "49:\tlearn: 1957.2072631\ttotal: 1.44s\tremaining: 0us\n",
      "0:\tlearn: 3289.9518173\ttotal: 50.7ms\tremaining: 2.48s\n",
      "10:\tlearn: 2052.3959480\ttotal: 488ms\tremaining: 1.73s\n",
      "20:\tlearn: 1924.4980532\ttotal: 889ms\tremaining: 1.23s\n",
      "30:\tlearn: 1863.9970638\ttotal: 1.32s\tremaining: 809ms\n",
      "40:\tlearn: 1833.4812552\ttotal: 1.75s\tremaining: 384ms\n",
      "49:\tlearn: 1801.9266717\ttotal: 2.14s\tremaining: 0us\n",
      "0:\tlearn: 3259.8106497\ttotal: 58ms\tremaining: 2.84s\n",
      "10:\tlearn: 2063.0565165\ttotal: 502ms\tremaining: 1.78s\n",
      "20:\tlearn: 1938.5484547\ttotal: 920ms\tremaining: 1.27s\n",
      "30:\tlearn: 1873.7480845\ttotal: 1.35s\tremaining: 826ms\n",
      "40:\tlearn: 1831.4541834\ttotal: 1.77s\tremaining: 390ms\n",
      "49:\tlearn: 1806.4345697\ttotal: 2.17s\tremaining: 0us\n",
      "0:\tlearn: 3306.9847316\ttotal: 57.6ms\tremaining: 2.82s\n",
      "10:\tlearn: 2080.1282517\ttotal: 528ms\tremaining: 1.87s\n",
      "20:\tlearn: 1961.5490394\ttotal: 982ms\tremaining: 1.35s\n",
      "30:\tlearn: 1892.4356569\ttotal: 1.42s\tremaining: 871ms\n",
      "40:\tlearn: 1854.2687440\ttotal: 1.87s\tremaining: 411ms\n",
      "49:\tlearn: 1824.7882558\ttotal: 2.25s\tremaining: 0us\n",
      "0:\tlearn: 3258.1370033\ttotal: 60.9ms\tremaining: 2.98s\n",
      "10:\tlearn: 2079.0538676\ttotal: 514ms\tremaining: 1.82s\n",
      "20:\tlearn: 1947.7204969\ttotal: 931ms\tremaining: 1.29s\n",
      "30:\tlearn: 1889.8633881\ttotal: 1.34s\tremaining: 823ms\n",
      "40:\tlearn: 1843.3357951\ttotal: 1.75s\tremaining: 384ms\n",
      "49:\tlearn: 1815.3835060\ttotal: 2.12s\tremaining: 0us\n",
      "0:\tlearn: 3249.6186274\ttotal: 61.3ms\tremaining: 3s\n",
      "10:\tlearn: 2056.6997662\ttotal: 534ms\tremaining: 1.89s\n",
      "20:\tlearn: 1930.5439539\ttotal: 948ms\tremaining: 1.31s\n",
      "30:\tlearn: 1860.3870515\ttotal: 1.37s\tremaining: 839ms\n",
      "40:\tlearn: 1823.0605783\ttotal: 1.78s\tremaining: 392ms\n",
      "49:\tlearn: 1795.0561593\ttotal: 2.16s\tremaining: 0us\n",
      "0:\tlearn: 3131.7265546\ttotal: 64.9ms\tremaining: 3.18s\n",
      "10:\tlearn: 1928.1977588\ttotal: 694ms\tremaining: 2.46s\n",
      "20:\tlearn: 1818.7683607\ttotal: 1.27s\tremaining: 1.76s\n",
      "30:\tlearn: 1765.7242533\ttotal: 1.83s\tremaining: 1.12s\n",
      "40:\tlearn: 1728.4004371\ttotal: 2.37s\tremaining: 520ms\n",
      "49:\tlearn: 1702.2458145\ttotal: 2.89s\tremaining: 0us\n",
      "0:\tlearn: 3065.8874783\ttotal: 70ms\tremaining: 3.43s\n",
      "10:\tlearn: 1933.5819566\ttotal: 673ms\tremaining: 2.38s\n",
      "20:\tlearn: 1825.9858621\ttotal: 1.25s\tremaining: 1.73s\n",
      "30:\tlearn: 1766.9134236\ttotal: 1.83s\tremaining: 1.12s\n",
      "40:\tlearn: 1733.3063739\ttotal: 2.4s\tremaining: 527ms\n",
      "49:\tlearn: 1709.1741398\ttotal: 2.92s\tremaining: 0us\n",
      "0:\tlearn: 3148.1706211\ttotal: 73.3ms\tremaining: 3.59s\n",
      "10:\tlearn: 1928.6985120\ttotal: 667ms\tremaining: 2.36s\n",
      "20:\tlearn: 1815.5042830\ttotal: 1.24s\tremaining: 1.71s\n",
      "30:\tlearn: 1761.3232541\ttotal: 1.81s\tremaining: 1.11s\n",
      "40:\tlearn: 1731.7268930\ttotal: 2.38s\tremaining: 522ms\n",
      "49:\tlearn: 1707.9738787\ttotal: 2.89s\tremaining: 0us\n",
      "0:\tlearn: 3057.3455773\ttotal: 74.3ms\tremaining: 3.64s\n",
      "10:\tlearn: 1927.8786424\ttotal: 670ms\tremaining: 2.37s\n",
      "20:\tlearn: 1828.7312202\ttotal: 1.27s\tremaining: 1.75s\n",
      "30:\tlearn: 1779.0041447\ttotal: 1.87s\tremaining: 1.15s\n",
      "40:\tlearn: 1735.3727833\ttotal: 2.45s\tremaining: 537ms\n",
      "49:\tlearn: 1713.1425996\ttotal: 2.97s\tremaining: 0us\n",
      "0:\tlearn: 3055.1241050\ttotal: 75.4ms\tremaining: 3.69s\n",
      "10:\tlearn: 1925.3594977\ttotal: 702ms\tremaining: 2.49s\n",
      "20:\tlearn: 1823.7741042\ttotal: 1.31s\tremaining: 1.8s\n",
      "30:\tlearn: 1760.1523261\ttotal: 1.94s\tremaining: 1.19s\n",
      "40:\tlearn: 1726.3388913\ttotal: 2.54s\tremaining: 558ms\n",
      "49:\tlearn: 1699.4730480\ttotal: 3.07s\tremaining: 0us\n",
      "0:\tlearn: 2973.2570628\ttotal: 82.4ms\tremaining: 4.04s\n",
      "10:\tlearn: 1841.1765586\ttotal: 880ms\tremaining: 3.12s\n",
      "20:\tlearn: 1733.7948221\ttotal: 1.65s\tremaining: 2.28s\n",
      "30:\tlearn: 1671.7707156\ttotal: 2.4s\tremaining: 1.47s\n",
      "40:\tlearn: 1639.9270629\ttotal: 3.13s\tremaining: 687ms\n",
      "49:\tlearn: 1620.0368183\ttotal: 3.78s\tremaining: 0us\n",
      "0:\tlearn: 2973.1835479\ttotal: 89.9ms\tremaining: 4.4s\n",
      "10:\tlearn: 1838.6184792\ttotal: 859ms\tremaining: 3.04s\n",
      "20:\tlearn: 1745.8309313\ttotal: 1.59s\tremaining: 2.2s\n",
      "30:\tlearn: 1689.3604870\ttotal: 2.33s\tremaining: 1.43s\n",
      "40:\tlearn: 1649.1385364\ttotal: 3.07s\tremaining: 674ms\n",
      "49:\tlearn: 1618.6553423\ttotal: 3.73s\tremaining: 0us\n",
      "0:\tlearn: 2975.0315961\ttotal: 88.4ms\tremaining: 4.33s\n",
      "10:\tlearn: 1834.1454720\ttotal: 814ms\tremaining: 2.88s\n",
      "20:\tlearn: 1747.9812307\ttotal: 1.54s\tremaining: 2.13s\n",
      "30:\tlearn: 1687.2184748\ttotal: 2.33s\tremaining: 1.43s\n",
      "40:\tlearn: 1649.1681367\ttotal: 3.08s\tremaining: 676ms\n",
      "49:\tlearn: 1625.1757011\ttotal: 3.75s\tremaining: 0us\n",
      "0:\tlearn: 2965.2162001\ttotal: 93.8ms\tremaining: 4.6s\n",
      "10:\tlearn: 1851.1723285\ttotal: 923ms\tremaining: 3.27s\n",
      "20:\tlearn: 1752.1727915\ttotal: 1.67s\tremaining: 2.3s\n",
      "30:\tlearn: 1698.9872041\ttotal: 2.43s\tremaining: 1.49s\n",
      "40:\tlearn: 1655.5133408\ttotal: 3.18s\tremaining: 698ms\n",
      "49:\tlearn: 1629.5347421\ttotal: 3.84s\tremaining: 0us\n",
      "0:\tlearn: 2964.0178622\ttotal: 88.3ms\tremaining: 4.33s\n",
      "10:\tlearn: 1834.0927211\ttotal: 1.02s\tremaining: 3.63s\n",
      "20:\tlearn: 1738.8301665\ttotal: 1.78s\tremaining: 2.46s\n",
      "30:\tlearn: 1684.5000504\ttotal: 2.55s\tremaining: 1.56s\n",
      "40:\tlearn: 1632.1458866\ttotal: 3.28s\tremaining: 721ms\n",
      "49:\tlearn: 1604.2219759\ttotal: 3.95s\tremaining: 0us\n",
      "0:\tlearn: 4184.0609017\ttotal: 38.5ms\tremaining: 3.81s\n",
      "10:\tlearn: 2720.3921152\ttotal: 341ms\tremaining: 2.75s\n",
      "20:\tlearn: 2348.9582212\ttotal: 623ms\tremaining: 2.34s\n",
      "30:\tlearn: 2195.4732848\ttotal: 896ms\tremaining: 2s\n",
      "40:\tlearn: 2131.8901250\ttotal: 1.18s\tremaining: 1.69s\n",
      "50:\tlearn: 2085.0463932\ttotal: 1.45s\tremaining: 1.39s\n",
      "60:\tlearn: 2056.7997540\ttotal: 1.72s\tremaining: 1.1s\n",
      "70:\tlearn: 2031.8193299\ttotal: 1.99s\tremaining: 811ms\n",
      "80:\tlearn: 2002.9726303\ttotal: 2.27s\tremaining: 532ms\n",
      "90:\tlearn: 1986.0263771\ttotal: 2.54s\tremaining: 252ms\n",
      "99:\tlearn: 1971.6904336\ttotal: 2.78s\tremaining: 0us\n",
      "0:\tlearn: 4183.8614197\ttotal: 37.8ms\tremaining: 3.75s\n",
      "10:\tlearn: 2742.8287700\ttotal: 335ms\tremaining: 2.71s\n",
      "20:\tlearn: 2392.6869764\ttotal: 604ms\tremaining: 2.27s\n",
      "30:\tlearn: 2217.7364043\ttotal: 883ms\tremaining: 1.96s\n",
      "40:\tlearn: 2143.3240222\ttotal: 1.17s\tremaining: 1.68s\n",
      "50:\tlearn: 2095.5977591\ttotal: 1.46s\tremaining: 1.4s\n",
      "60:\tlearn: 2065.2489100\ttotal: 1.74s\tremaining: 1.11s\n",
      "70:\tlearn: 2035.0485741\ttotal: 2.01s\tremaining: 821ms\n",
      "80:\tlearn: 2016.1431567\ttotal: 2.28s\tremaining: 535ms\n",
      "90:\tlearn: 1996.1514453\ttotal: 2.56s\tremaining: 253ms\n",
      "99:\tlearn: 1982.9977714\ttotal: 2.8s\tremaining: 0us\n",
      "0:\tlearn: 4192.8116120\ttotal: 39.6ms\tremaining: 3.92s\n",
      "10:\tlearn: 2714.8141894\ttotal: 336ms\tremaining: 2.72s\n",
      "20:\tlearn: 2363.7563654\ttotal: 617ms\tremaining: 2.32s\n",
      "30:\tlearn: 2208.7035782\ttotal: 893ms\tremaining: 1.99s\n",
      "40:\tlearn: 2131.6669500\ttotal: 1.17s\tremaining: 1.69s\n",
      "50:\tlearn: 2091.0884150\ttotal: 1.45s\tremaining: 1.4s\n",
      "60:\tlearn: 2063.2599224\ttotal: 1.75s\tremaining: 1.12s\n",
      "70:\tlearn: 2030.8491080\ttotal: 2.03s\tremaining: 831ms\n",
      "80:\tlearn: 2011.5644924\ttotal: 2.32s\tremaining: 544ms\n",
      "90:\tlearn: 1994.6723581\ttotal: 2.61s\tremaining: 258ms\n",
      "99:\tlearn: 1982.8894454\ttotal: 2.88s\tremaining: 0us\n",
      "0:\tlearn: 4178.4114577\ttotal: 39.8ms\tremaining: 3.94s\n",
      "10:\tlearn: 2737.6718317\ttotal: 345ms\tremaining: 2.79s\n",
      "20:\tlearn: 2362.4188302\ttotal: 637ms\tremaining: 2.4s\n",
      "30:\tlearn: 2208.1759499\ttotal: 922ms\tremaining: 2.05s\n",
      "40:\tlearn: 2138.6934013\ttotal: 1.21s\tremaining: 1.74s\n",
      "50:\tlearn: 2098.5567802\ttotal: 1.5s\tremaining: 1.44s\n",
      "60:\tlearn: 2071.9210906\ttotal: 1.78s\tremaining: 1.14s\n",
      "70:\tlearn: 2049.7023070\ttotal: 2.07s\tremaining: 845ms\n",
      "80:\tlearn: 2023.7245015\ttotal: 2.35s\tremaining: 551ms\n",
      "90:\tlearn: 2002.3989979\ttotal: 2.63s\tremaining: 260ms\n",
      "99:\tlearn: 1988.3209179\ttotal: 2.88s\tremaining: 0us\n",
      "0:\tlearn: 4170.8678889\ttotal: 39.7ms\tremaining: 3.93s\n",
      "10:\tlearn: 2715.8265380\ttotal: 346ms\tremaining: 2.8s\n",
      "20:\tlearn: 2343.6993378\ttotal: 633ms\tremaining: 2.38s\n",
      "30:\tlearn: 2197.3181153\ttotal: 914ms\tremaining: 2.03s\n",
      "40:\tlearn: 2131.0205326\ttotal: 1.2s\tremaining: 1.73s\n",
      "50:\tlearn: 2090.4679209\ttotal: 1.49s\tremaining: 1.43s\n",
      "60:\tlearn: 2056.7161872\ttotal: 1.79s\tremaining: 1.14s\n",
      "70:\tlearn: 2033.9926082\ttotal: 2.08s\tremaining: 849ms\n",
      "80:\tlearn: 2009.2507491\ttotal: 2.37s\tremaining: 556ms\n",
      "90:\tlearn: 1991.2581681\ttotal: 2.67s\tremaining: 264ms\n",
      "99:\tlearn: 1972.9850515\ttotal: 2.93s\tremaining: 0us\n",
      "0:\tlearn: 4087.1480827\ttotal: 53.2ms\tremaining: 5.27s\n",
      "10:\tlearn: 2315.1123302\ttotal: 516ms\tremaining: 4.17s\n",
      "20:\tlearn: 2049.7096493\ttotal: 1.02s\tremaining: 3.82s\n",
      "30:\tlearn: 1968.8597386\ttotal: 1.49s\tremaining: 3.31s\n",
      "40:\tlearn: 1919.3640656\ttotal: 1.93s\tremaining: 2.77s\n",
      "50:\tlearn: 1888.3702802\ttotal: 2.33s\tremaining: 2.24s\n",
      "60:\tlearn: 1862.5044400\ttotal: 2.75s\tremaining: 1.76s\n",
      "70:\tlearn: 1845.4472700\ttotal: 3.19s\tremaining: 1.3s\n",
      "80:\tlearn: 1828.7198032\ttotal: 3.6s\tremaining: 846ms\n",
      "90:\tlearn: 1815.8388096\ttotal: 4.04s\tremaining: 399ms\n",
      "99:\tlearn: 1806.3570196\ttotal: 4.41s\tremaining: 0us\n",
      "0:\tlearn: 4076.1387214\ttotal: 56.6ms\tremaining: 5.6s\n",
      "10:\tlearn: 2348.9508229\ttotal: 488ms\tremaining: 3.95s\n",
      "20:\tlearn: 2070.9405658\ttotal: 894ms\tremaining: 3.36s\n",
      "30:\tlearn: 1987.3899029\ttotal: 1.31s\tremaining: 2.92s\n",
      "40:\tlearn: 1930.1578903\ttotal: 1.75s\tremaining: 2.52s\n",
      "50:\tlearn: 1896.2505764\ttotal: 2.17s\tremaining: 2.09s\n",
      "60:\tlearn: 1870.0779680\ttotal: 2.59s\tremaining: 1.66s\n",
      "70:\tlearn: 1850.8457450\ttotal: 3.07s\tremaining: 1.25s\n",
      "80:\tlearn: 1833.6858542\ttotal: 3.5s\tremaining: 821ms\n",
      "90:\tlearn: 1820.4187787\ttotal: 3.93s\tremaining: 389ms\n",
      "99:\tlearn: 1808.6645374\ttotal: 4.31s\tremaining: 0us\n",
      "0:\tlearn: 4093.0899108\ttotal: 51ms\tremaining: 5.05s\n",
      "10:\tlearn: 2334.4096081\ttotal: 499ms\tremaining: 4.04s\n",
      "20:\tlearn: 2079.0039863\ttotal: 918ms\tremaining: 3.45s\n",
      "30:\tlearn: 1997.6554735\ttotal: 1.35s\tremaining: 3s\n",
      "40:\tlearn: 1944.7921971\ttotal: 1.76s\tremaining: 2.53s\n",
      "50:\tlearn: 1908.8519332\ttotal: 2.17s\tremaining: 2.08s\n",
      "60:\tlearn: 1883.1464334\ttotal: 2.6s\tremaining: 1.66s\n",
      "70:\tlearn: 1863.9046826\ttotal: 3.03s\tremaining: 1.24s\n",
      "80:\tlearn: 1847.0818987\ttotal: 3.44s\tremaining: 807ms\n",
      "90:\tlearn: 1833.7342316\ttotal: 3.86s\tremaining: 382ms\n",
      "99:\tlearn: 1823.1285805\ttotal: 4.24s\tremaining: 0us\n",
      "0:\tlearn: 4069.8032804\ttotal: 62.1ms\tremaining: 6.14s\n",
      "10:\tlearn: 2357.5913783\ttotal: 548ms\tremaining: 4.43s\n",
      "20:\tlearn: 2082.7912354\ttotal: 1.06s\tremaining: 3.98s\n",
      "30:\tlearn: 2009.7195077\ttotal: 1.5s\tremaining: 3.35s\n",
      "40:\tlearn: 1946.7057371\ttotal: 1.95s\tremaining: 2.8s\n",
      "50:\tlearn: 1908.6001804\ttotal: 2.39s\tremaining: 2.3s\n",
      "60:\tlearn: 1880.8196819\ttotal: 2.85s\tremaining: 1.82s\n",
      "70:\tlearn: 1860.6832133\ttotal: 3.29s\tremaining: 1.35s\n",
      "80:\tlearn: 1846.4495169\ttotal: 3.71s\tremaining: 870ms\n",
      "90:\tlearn: 1833.2603698\ttotal: 4.11s\tremaining: 407ms\n",
      "99:\tlearn: 1823.3982220\ttotal: 4.49s\tremaining: 0us\n",
      "0:\tlearn: 4063.5389945\ttotal: 57.6ms\tremaining: 5.7s\n",
      "10:\tlearn: 2327.9556225\ttotal: 497ms\tremaining: 4.02s\n",
      "20:\tlearn: 2057.6919456\ttotal: 911ms\tremaining: 3.43s\n",
      "30:\tlearn: 1973.9574451\ttotal: 1.33s\tremaining: 2.96s\n",
      "40:\tlearn: 1922.1810817\ttotal: 1.76s\tremaining: 2.53s\n",
      "50:\tlearn: 1887.7391740\ttotal: 2.17s\tremaining: 2.09s\n",
      "60:\tlearn: 1860.5308591\ttotal: 2.58s\tremaining: 1.65s\n",
      "70:\tlearn: 1839.5645476\ttotal: 2.99s\tremaining: 1.22s\n",
      "80:\tlearn: 1823.8117482\ttotal: 3.41s\tremaining: 800ms\n",
      "90:\tlearn: 1809.0964519\ttotal: 3.84s\tremaining: 380ms\n",
      "99:\tlearn: 1800.2557499\ttotal: 4.23s\tremaining: 0us\n",
      "0:\tlearn: 4033.6097320\ttotal: 69.2ms\tremaining: 6.85s\n",
      "10:\tlearn: 2181.8385770\ttotal: 664ms\tremaining: 5.37s\n",
      "20:\tlearn: 1938.4616723\ttotal: 1.23s\tremaining: 4.63s\n",
      "30:\tlearn: 1875.2044964\ttotal: 1.78s\tremaining: 3.97s\n",
      "40:\tlearn: 1826.8201468\ttotal: 2.35s\tremaining: 3.38s\n",
      "50:\tlearn: 1799.6611897\ttotal: 2.94s\tremaining: 2.83s\n",
      "60:\tlearn: 1773.2266125\ttotal: 3.54s\tremaining: 2.26s\n",
      "70:\tlearn: 1753.1658687\ttotal: 4.09s\tremaining: 1.67s\n",
      "80:\tlearn: 1738.5542872\ttotal: 4.62s\tremaining: 1.08s\n",
      "90:\tlearn: 1725.6483873\ttotal: 5.19s\tremaining: 513ms\n",
      "99:\tlearn: 1716.4367956\ttotal: 5.68s\tremaining: 0us\n",
      "0:\tlearn: 4011.3357669\ttotal: 70.6ms\tremaining: 6.99s\n",
      "10:\tlearn: 2165.7921946\ttotal: 665ms\tremaining: 5.38s\n",
      "20:\tlearn: 1941.6186612\ttotal: 1.25s\tremaining: 4.7s\n",
      "30:\tlearn: 1871.0762122\ttotal: 1.83s\tremaining: 4.07s\n",
      "40:\tlearn: 1824.8637874\ttotal: 2.38s\tremaining: 3.42s\n",
      "50:\tlearn: 1794.8206738\ttotal: 2.97s\tremaining: 2.86s\n",
      "60:\tlearn: 1771.7284299\ttotal: 3.55s\tremaining: 2.27s\n",
      "70:\tlearn: 1753.4445789\ttotal: 4.13s\tremaining: 1.69s\n",
      "80:\tlearn: 1737.0328502\ttotal: 4.7s\tremaining: 1.1s\n",
      "90:\tlearn: 1725.1158900\ttotal: 5.31s\tremaining: 525ms\n",
      "99:\tlearn: 1711.9035869\ttotal: 5.83s\tremaining: 0us\n",
      "0:\tlearn: 4039.1769893\ttotal: 70.4ms\tremaining: 6.97s\n",
      "10:\tlearn: 2167.9556707\ttotal: 750ms\tremaining: 6.07s\n",
      "20:\tlearn: 1942.1357485\ttotal: 1.38s\tremaining: 5.19s\n",
      "30:\tlearn: 1876.0883537\ttotal: 1.95s\tremaining: 4.34s\n",
      "40:\tlearn: 1831.0474677\ttotal: 2.55s\tremaining: 3.67s\n",
      "50:\tlearn: 1802.3640422\ttotal: 3.15s\tremaining: 3.02s\n",
      "60:\tlearn: 1780.0900813\ttotal: 3.73s\tremaining: 2.38s\n",
      "70:\tlearn: 1760.6990859\ttotal: 4.31s\tremaining: 1.76s\n",
      "80:\tlearn: 1745.9841858\ttotal: 4.9s\tremaining: 1.15s\n",
      "90:\tlearn: 1734.3230886\ttotal: 5.49s\tremaining: 543ms\n",
      "99:\tlearn: 1723.1502890\ttotal: 6.02s\tremaining: 0us\n",
      "0:\tlearn: 4002.7107973\ttotal: 71.9ms\tremaining: 7.12s\n",
      "10:\tlearn: 2166.0555286\ttotal: 673ms\tremaining: 5.45s\n",
      "20:\tlearn: 1943.0169859\ttotal: 1.25s\tremaining: 4.71s\n",
      "30:\tlearn: 1875.1762110\ttotal: 1.84s\tremaining: 4.1s\n",
      "40:\tlearn: 1827.5090594\ttotal: 2.41s\tremaining: 3.47s\n",
      "50:\tlearn: 1802.7600487\ttotal: 3.01s\tremaining: 2.89s\n",
      "60:\tlearn: 1781.2761984\ttotal: 3.62s\tremaining: 2.31s\n",
      "70:\tlearn: 1761.6802010\ttotal: 4.22s\tremaining: 1.72s\n",
      "80:\tlearn: 1745.6492508\ttotal: 4.84s\tremaining: 1.13s\n",
      "90:\tlearn: 1731.3111058\ttotal: 5.43s\tremaining: 537ms\n",
      "99:\tlearn: 1722.1170424\ttotal: 5.96s\tremaining: 0us\n",
      "0:\tlearn: 3998.5493350\ttotal: 79.3ms\tremaining: 7.85s\n",
      "10:\tlearn: 2155.0967693\ttotal: 697ms\tremaining: 5.64s\n",
      "20:\tlearn: 1930.4091857\ttotal: 1.27s\tremaining: 4.8s\n",
      "30:\tlearn: 1864.5039860\ttotal: 1.83s\tremaining: 4.08s\n",
      "40:\tlearn: 1817.0883397\ttotal: 2.4s\tremaining: 3.45s\n",
      "50:\tlearn: 1786.2153009\ttotal: 2.95s\tremaining: 2.83s\n",
      "60:\tlearn: 1762.7916600\ttotal: 3.51s\tremaining: 2.24s\n",
      "70:\tlearn: 1745.0188016\ttotal: 4.07s\tremaining: 1.66s\n",
      "80:\tlearn: 1728.2649785\ttotal: 4.64s\tremaining: 1.09s\n",
      "90:\tlearn: 1716.2839452\ttotal: 5.19s\tremaining: 513ms\n",
      "99:\tlearn: 1708.6548603\ttotal: 5.69s\tremaining: 0us\n",
      "0:\tlearn: 3982.0374477\ttotal: 84.4ms\tremaining: 8.35s\n",
      "10:\tlearn: 2051.1851295\ttotal: 867ms\tremaining: 7.01s\n",
      "20:\tlearn: 1838.8814767\ttotal: 1.6s\tremaining: 6.01s\n",
      "30:\tlearn: 1776.7165648\ttotal: 2.34s\tremaining: 5.21s\n",
      "40:\tlearn: 1746.0133339\ttotal: 3.08s\tremaining: 4.43s\n",
      "50:\tlearn: 1714.2742180\ttotal: 3.79s\tremaining: 3.65s\n",
      "60:\tlearn: 1695.6966836\ttotal: 4.51s\tremaining: 2.89s\n",
      "70:\tlearn: 1676.1317996\ttotal: 5.26s\tremaining: 2.15s\n",
      "80:\tlearn: 1662.9779048\ttotal: 5.99s\tremaining: 1.4s\n",
      "90:\tlearn: 1650.4415055\ttotal: 6.75s\tremaining: 667ms\n",
      "99:\tlearn: 1641.8015141\ttotal: 7.38s\tremaining: 0us\n",
      "0:\tlearn: 3981.3753223\ttotal: 83.5ms\tremaining: 8.27s\n",
      "10:\tlearn: 2075.2008538\ttotal: 841ms\tremaining: 6.81s\n",
      "20:\tlearn: 1857.3413233\ttotal: 1.62s\tremaining: 6.11s\n",
      "30:\tlearn: 1793.8864623\ttotal: 2.38s\tremaining: 5.31s\n",
      "40:\tlearn: 1755.5606253\ttotal: 3.14s\tremaining: 4.52s\n",
      "50:\tlearn: 1722.6490812\ttotal: 3.91s\tremaining: 3.76s\n",
      "60:\tlearn: 1699.2810923\ttotal: 4.65s\tremaining: 2.97s\n",
      "70:\tlearn: 1678.7738633\ttotal: 5.4s\tremaining: 2.21s\n",
      "80:\tlearn: 1659.4989258\ttotal: 6.27s\tremaining: 1.47s\n",
      "90:\tlearn: 1646.1390385\ttotal: 7.02s\tremaining: 694ms\n",
      "99:\tlearn: 1634.8349156\ttotal: 7.68s\tremaining: 0us\n",
      "0:\tlearn: 3982.7357003\ttotal: 86.2ms\tremaining: 8.53s\n",
      "10:\tlearn: 2073.1562343\ttotal: 898ms\tremaining: 7.26s\n",
      "20:\tlearn: 1866.3904185\ttotal: 1.68s\tremaining: 6.32s\n",
      "30:\tlearn: 1801.7875222\ttotal: 2.49s\tremaining: 5.55s\n",
      "40:\tlearn: 1753.2787891\ttotal: 3.23s\tremaining: 4.65s\n",
      "50:\tlearn: 1727.8495880\ttotal: 3.98s\tremaining: 3.82s\n",
      "60:\tlearn: 1699.6222545\ttotal: 4.72s\tremaining: 3.02s\n",
      "70:\tlearn: 1679.9494671\ttotal: 5.55s\tremaining: 2.27s\n",
      "80:\tlearn: 1662.3060319\ttotal: 6.3s\tremaining: 1.48s\n",
      "90:\tlearn: 1649.9046168\ttotal: 7.03s\tremaining: 695ms\n",
      "99:\tlearn: 1639.4106922\ttotal: 7.68s\tremaining: 0us\n",
      "0:\tlearn: 3972.9633110\ttotal: 89.7ms\tremaining: 8.88s\n",
      "10:\tlearn: 2065.0957105\ttotal: 860ms\tremaining: 6.96s\n",
      "20:\tlearn: 1866.0745548\ttotal: 1.62s\tremaining: 6.08s\n",
      "30:\tlearn: 1803.6544652\ttotal: 2.39s\tremaining: 5.31s\n",
      "40:\tlearn: 1757.9347897\ttotal: 3.14s\tremaining: 4.51s\n",
      "50:\tlearn: 1731.4906146\ttotal: 3.87s\tremaining: 3.71s\n",
      "60:\tlearn: 1706.7792384\ttotal: 4.58s\tremaining: 2.93s\n",
      "70:\tlearn: 1684.5303852\ttotal: 5.31s\tremaining: 2.17s\n",
      "80:\tlearn: 1669.2753549\ttotal: 6.06s\tremaining: 1.42s\n",
      "90:\tlearn: 1653.4425957\ttotal: 6.83s\tremaining: 675ms\n",
      "99:\tlearn: 1641.9791532\ttotal: 7.5s\tremaining: 0us\n",
      "0:\tlearn: 3969.1150899\ttotal: 94.6ms\tremaining: 9.37s\n",
      "10:\tlearn: 2056.9835594\ttotal: 844ms\tremaining: 6.83s\n",
      "20:\tlearn: 1849.1389273\ttotal: 1.61s\tremaining: 6.05s\n",
      "30:\tlearn: 1792.7479886\ttotal: 2.36s\tremaining: 5.25s\n",
      "40:\tlearn: 1753.5973556\ttotal: 3.12s\tremaining: 4.49s\n",
      "50:\tlearn: 1719.1741108\ttotal: 3.92s\tremaining: 3.77s\n",
      "60:\tlearn: 1700.0364050\ttotal: 4.72s\tremaining: 3.02s\n",
      "70:\tlearn: 1674.5607732\ttotal: 5.48s\tremaining: 2.24s\n",
      "80:\tlearn: 1654.1368827\ttotal: 6.28s\tremaining: 1.47s\n",
      "90:\tlearn: 1641.3840307\ttotal: 7.07s\tremaining: 699ms\n",
      "99:\tlearn: 1634.3028656\ttotal: 7.76s\tremaining: 0us\n",
      "0:\tlearn: 3834.0176870\ttotal: 41.9ms\tremaining: 4.14s\n",
      "10:\tlearn: 2342.3759523\ttotal: 370ms\tremaining: 2.99s\n",
      "20:\tlearn: 2163.4157436\ttotal: 658ms\tremaining: 2.48s\n",
      "30:\tlearn: 2088.1523929\ttotal: 1.04s\tremaining: 2.33s\n",
      "40:\tlearn: 2038.0032359\ttotal: 1.33s\tremaining: 1.91s\n",
      "50:\tlearn: 1997.5665236\ttotal: 1.61s\tremaining: 1.55s\n",
      "60:\tlearn: 1971.6958770\ttotal: 1.9s\tremaining: 1.22s\n",
      "70:\tlearn: 1952.3028398\ttotal: 2.2s\tremaining: 897ms\n",
      "80:\tlearn: 1939.3617379\ttotal: 2.47s\tremaining: 579ms\n",
      "90:\tlearn: 1924.1592904\ttotal: 2.75s\tremaining: 272ms\n",
      "99:\tlearn: 1911.8288151\ttotal: 3s\tremaining: 0us\n",
      "0:\tlearn: 3834.6009940\ttotal: 39.7ms\tremaining: 3.93s\n",
      "10:\tlearn: 2385.4044158\ttotal: 356ms\tremaining: 2.88s\n",
      "20:\tlearn: 2187.4558178\ttotal: 638ms\tremaining: 2.4s\n",
      "30:\tlearn: 2112.7660021\ttotal: 910ms\tremaining: 2.02s\n",
      "40:\tlearn: 2058.6856645\ttotal: 1.18s\tremaining: 1.7s\n",
      "50:\tlearn: 2014.3334910\ttotal: 1.46s\tremaining: 1.41s\n",
      "60:\tlearn: 1979.1265875\ttotal: 1.75s\tremaining: 1.12s\n",
      "70:\tlearn: 1958.1343037\ttotal: 2.02s\tremaining: 827ms\n",
      "80:\tlearn: 1942.1380046\ttotal: 2.29s\tremaining: 538ms\n",
      "90:\tlearn: 1925.4223288\ttotal: 2.57s\tremaining: 254ms\n",
      "99:\tlearn: 1915.9445302\ttotal: 2.82s\tremaining: 0us\n",
      "0:\tlearn: 3850.8976083\ttotal: 37.4ms\tremaining: 3.7s\n",
      "10:\tlearn: 2360.2128624\ttotal: 336ms\tremaining: 2.72s\n",
      "20:\tlearn: 2186.1330559\ttotal: 606ms\tremaining: 2.28s\n",
      "30:\tlearn: 2106.9176873\ttotal: 863ms\tremaining: 1.92s\n",
      "40:\tlearn: 2061.9257357\ttotal: 1.13s\tremaining: 1.63s\n",
      "50:\tlearn: 2027.7290749\ttotal: 1.4s\tremaining: 1.34s\n",
      "60:\tlearn: 1992.4000095\ttotal: 1.67s\tremaining: 1.07s\n",
      "70:\tlearn: 1971.0188541\ttotal: 1.95s\tremaining: 798ms\n",
      "80:\tlearn: 1952.6206548\ttotal: 2.23s\tremaining: 522ms\n",
      "90:\tlearn: 1938.4793499\ttotal: 2.5s\tremaining: 247ms\n",
      "99:\tlearn: 1927.2364858\ttotal: 2.74s\tremaining: 0us\n",
      "0:\tlearn: 3832.3640290\ttotal: 38.9ms\tremaining: 3.85s\n",
      "10:\tlearn: 2343.6363808\ttotal: 351ms\tremaining: 2.84s\n",
      "20:\tlearn: 2163.3547226\ttotal: 633ms\tremaining: 2.38s\n",
      "30:\tlearn: 2083.2316569\ttotal: 910ms\tremaining: 2.03s\n",
      "40:\tlearn: 2032.7768833\ttotal: 1.18s\tremaining: 1.7s\n",
      "50:\tlearn: 1995.7249430\ttotal: 1.45s\tremaining: 1.39s\n",
      "60:\tlearn: 1973.1395238\ttotal: 1.75s\tremaining: 1.12s\n",
      "70:\tlearn: 1954.3569141\ttotal: 2.03s\tremaining: 828ms\n",
      "80:\tlearn: 1939.5553012\ttotal: 2.29s\tremaining: 538ms\n",
      "90:\tlearn: 1926.9817107\ttotal: 2.56s\tremaining: 253ms\n",
      "99:\tlearn: 1914.3732744\ttotal: 2.81s\tremaining: 0us\n",
      "0:\tlearn: 3822.5715580\ttotal: 40.2ms\tremaining: 3.98s\n",
      "10:\tlearn: 2375.7196810\ttotal: 342ms\tremaining: 2.76s\n",
      "20:\tlearn: 2176.7962933\ttotal: 614ms\tremaining: 2.31s\n",
      "30:\tlearn: 2095.0667324\ttotal: 889ms\tremaining: 1.98s\n",
      "40:\tlearn: 2037.9216968\ttotal: 1.16s\tremaining: 1.67s\n",
      "50:\tlearn: 2004.8128598\ttotal: 1.43s\tremaining: 1.37s\n",
      "60:\tlearn: 1972.8654820\ttotal: 1.71s\tremaining: 1.09s\n",
      "70:\tlearn: 1953.3129128\ttotal: 1.96s\tremaining: 802ms\n",
      "80:\tlearn: 1936.2436012\ttotal: 2.22s\tremaining: 522ms\n",
      "90:\tlearn: 1920.5538818\ttotal: 2.49s\tremaining: 246ms\n",
      "99:\tlearn: 1907.5540866\ttotal: 2.73s\tremaining: 0us\n",
      "0:\tlearn: 3643.4090703\ttotal: 51.9ms\tremaining: 5.14s\n",
      "10:\tlearn: 2092.6624117\ttotal: 491ms\tremaining: 3.97s\n",
      "20:\tlearn: 1960.7772553\ttotal: 905ms\tremaining: 3.4s\n",
      "30:\tlearn: 1895.7196042\ttotal: 1.32s\tremaining: 2.95s\n",
      "40:\tlearn: 1857.7774242\ttotal: 1.76s\tremaining: 2.54s\n",
      "50:\tlearn: 1826.8227037\ttotal: 2.22s\tremaining: 2.13s\n",
      "60:\tlearn: 1807.7561062\ttotal: 2.66s\tremaining: 1.7s\n",
      "70:\tlearn: 1788.6527935\ttotal: 3.12s\tremaining: 1.27s\n",
      "80:\tlearn: 1772.5816235\ttotal: 3.56s\tremaining: 836ms\n",
      "90:\tlearn: 1763.6046582\ttotal: 3.98s\tremaining: 393ms\n",
      "99:\tlearn: 1753.0131308\ttotal: 4.38s\tremaining: 0us\n",
      "0:\tlearn: 3622.4218598\ttotal: 58.9ms\tremaining: 5.83s\n",
      "10:\tlearn: 2075.5760561\ttotal: 514ms\tremaining: 4.16s\n",
      "20:\tlearn: 1952.0508231\ttotal: 941ms\tremaining: 3.54s\n",
      "30:\tlearn: 1895.0166687\ttotal: 1.35s\tremaining: 3.01s\n",
      "40:\tlearn: 1857.8589391\ttotal: 1.77s\tremaining: 2.55s\n",
      "50:\tlearn: 1833.7499618\ttotal: 2.19s\tremaining: 2.11s\n",
      "60:\tlearn: 1809.0454255\ttotal: 2.6s\tremaining: 1.66s\n",
      "70:\tlearn: 1790.8113215\ttotal: 3.02s\tremaining: 1.23s\n",
      "80:\tlearn: 1780.3804816\ttotal: 3.43s\tremaining: 805ms\n",
      "90:\tlearn: 1767.9519093\ttotal: 3.84s\tremaining: 380ms\n",
      "99:\tlearn: 1756.7512514\ttotal: 4.21s\tremaining: 0us\n",
      "0:\tlearn: 3655.1647946\ttotal: 50.3ms\tremaining: 4.98s\n",
      "10:\tlearn: 2090.2802412\ttotal: 490ms\tremaining: 3.96s\n",
      "20:\tlearn: 1977.8066588\ttotal: 900ms\tremaining: 3.39s\n",
      "30:\tlearn: 1900.4598825\ttotal: 1.32s\tremaining: 2.95s\n",
      "40:\tlearn: 1862.0224646\ttotal: 1.75s\tremaining: 2.51s\n",
      "50:\tlearn: 1832.3453027\ttotal: 2.15s\tremaining: 2.07s\n",
      "60:\tlearn: 1811.2448505\ttotal: 2.57s\tremaining: 1.64s\n",
      "70:\tlearn: 1795.7122811\ttotal: 2.98s\tremaining: 1.22s\n",
      "80:\tlearn: 1779.2673377\ttotal: 3.39s\tremaining: 794ms\n",
      "90:\tlearn: 1767.8642545\ttotal: 3.8s\tremaining: 375ms\n",
      "99:\tlearn: 1758.7500833\ttotal: 4.18s\tremaining: 0us\n",
      "0:\tlearn: 3618.5726341\ttotal: 55.8ms\tremaining: 5.52s\n",
      "10:\tlearn: 2087.0492578\ttotal: 489ms\tremaining: 3.95s\n",
      "20:\tlearn: 1954.6913185\ttotal: 901ms\tremaining: 3.39s\n",
      "30:\tlearn: 1894.7461677\ttotal: 1.32s\tremaining: 2.94s\n",
      "40:\tlearn: 1861.1645393\ttotal: 1.75s\tremaining: 2.52s\n",
      "50:\tlearn: 1830.8645105\ttotal: 2.15s\tremaining: 2.07s\n",
      "60:\tlearn: 1808.3560039\ttotal: 2.57s\tremaining: 1.64s\n",
      "70:\tlearn: 1791.2459705\ttotal: 3s\tremaining: 1.22s\n",
      "80:\tlearn: 1779.5871327\ttotal: 3.41s\tremaining: 801ms\n",
      "90:\tlearn: 1769.7875612\ttotal: 3.85s\tremaining: 381ms\n",
      "99:\tlearn: 1758.2975807\ttotal: 4.23s\tremaining: 0us\n",
      "0:\tlearn: 3611.1634357\ttotal: 54.3ms\tremaining: 5.37s\n",
      "10:\tlearn: 2075.9338072\ttotal: 504ms\tremaining: 4.08s\n",
      "20:\tlearn: 1948.5045282\ttotal: 937ms\tremaining: 3.52s\n",
      "30:\tlearn: 1888.3805266\ttotal: 1.35s\tremaining: 3s\n",
      "40:\tlearn: 1854.9117641\ttotal: 1.77s\tremaining: 2.55s\n",
      "50:\tlearn: 1826.4677698\ttotal: 2.21s\tremaining: 2.13s\n",
      "60:\tlearn: 1804.3752559\ttotal: 2.65s\tremaining: 1.7s\n",
      "70:\tlearn: 1787.6031585\ttotal: 3.08s\tremaining: 1.26s\n",
      "80:\tlearn: 1775.0711353\ttotal: 3.5s\tremaining: 820ms\n",
      "90:\tlearn: 1764.6700852\ttotal: 3.93s\tremaining: 388ms\n",
      "99:\tlearn: 1753.3326311\ttotal: 4.33s\tremaining: 0us\n",
      "0:\tlearn: 3535.6706712\ttotal: 67.1ms\tremaining: 6.64s\n",
      "10:\tlearn: 1953.5534018\ttotal: 682ms\tremaining: 5.52s\n",
      "20:\tlearn: 1840.8064325\ttotal: 1.28s\tremaining: 4.82s\n",
      "30:\tlearn: 1790.3019557\ttotal: 1.88s\tremaining: 4.19s\n",
      "40:\tlearn: 1754.0415283\ttotal: 2.48s\tremaining: 3.57s\n",
      "50:\tlearn: 1727.9497206\ttotal: 3.06s\tremaining: 2.94s\n",
      "60:\tlearn: 1708.6052931\ttotal: 3.65s\tremaining: 2.33s\n",
      "70:\tlearn: 1694.7852583\ttotal: 4.24s\tremaining: 1.73s\n",
      "80:\tlearn: 1681.4462204\ttotal: 4.83s\tremaining: 1.13s\n",
      "90:\tlearn: 1671.3640826\ttotal: 5.41s\tremaining: 535ms\n",
      "99:\tlearn: 1662.7801926\ttotal: 5.95s\tremaining: 0us\n",
      "0:\tlearn: 3491.2674032\ttotal: 74.2ms\tremaining: 7.34s\n",
      "10:\tlearn: 1960.7332587\ttotal: 692ms\tremaining: 5.6s\n",
      "20:\tlearn: 1855.0163091\ttotal: 1.31s\tremaining: 4.94s\n",
      "30:\tlearn: 1799.3075480\ttotal: 1.92s\tremaining: 4.27s\n",
      "40:\tlearn: 1760.3291194\ttotal: 2.52s\tremaining: 3.63s\n",
      "50:\tlearn: 1729.7674582\ttotal: 3.14s\tremaining: 3.01s\n",
      "60:\tlearn: 1714.9158885\ttotal: 3.77s\tremaining: 2.41s\n",
      "70:\tlearn: 1696.5713602\ttotal: 4.37s\tremaining: 1.78s\n",
      "80:\tlearn: 1680.6301606\ttotal: 4.95s\tremaining: 1.16s\n",
      "90:\tlearn: 1662.9903996\ttotal: 5.53s\tremaining: 547ms\n",
      "99:\tlearn: 1655.3464088\ttotal: 6.05s\tremaining: 0us\n",
      "0:\tlearn: 3546.8397429\ttotal: 66.4ms\tremaining: 6.57s\n",
      "10:\tlearn: 1970.0074718\ttotal: 678ms\tremaining: 5.48s\n",
      "20:\tlearn: 1866.7461567\ttotal: 1.25s\tremaining: 4.69s\n",
      "30:\tlearn: 1804.1733920\ttotal: 1.82s\tremaining: 4.04s\n",
      "40:\tlearn: 1764.3337436\ttotal: 2.37s\tremaining: 3.42s\n",
      "50:\tlearn: 1737.1320908\ttotal: 2.96s\tremaining: 2.84s\n",
      "60:\tlearn: 1713.4774441\ttotal: 3.52s\tremaining: 2.25s\n",
      "70:\tlearn: 1695.5914500\ttotal: 4.09s\tremaining: 1.67s\n",
      "80:\tlearn: 1678.5982080\ttotal: 4.65s\tremaining: 1.09s\n",
      "90:\tlearn: 1666.4601938\ttotal: 5.2s\tremaining: 514ms\n",
      "99:\tlearn: 1657.2463529\ttotal: 5.72s\tremaining: 0us\n",
      "0:\tlearn: 3482.7811658\ttotal: 74ms\tremaining: 7.33s\n",
      "10:\tlearn: 1964.8509795\ttotal: 694ms\tremaining: 5.61s\n",
      "20:\tlearn: 1851.7913611\ttotal: 1.26s\tremaining: 4.76s\n",
      "30:\tlearn: 1803.1828371\ttotal: 1.82s\tremaining: 4.06s\n",
      "40:\tlearn: 1763.6471741\ttotal: 2.38s\tremaining: 3.42s\n",
      "50:\tlearn: 1737.8910178\ttotal: 2.92s\tremaining: 2.81s\n",
      "60:\tlearn: 1718.2482760\ttotal: 3.49s\tremaining: 2.23s\n",
      "70:\tlearn: 1700.8597567\ttotal: 4.06s\tremaining: 1.66s\n",
      "80:\tlearn: 1688.0181236\ttotal: 4.65s\tremaining: 1.09s\n",
      "90:\tlearn: 1675.5815312\ttotal: 5.23s\tremaining: 518ms\n",
      "99:\tlearn: 1664.9553494\ttotal: 5.74s\tremaining: 0us\n",
      "0:\tlearn: 3479.6268498\ttotal: 74.8ms\tremaining: 7.4s\n",
      "10:\tlearn: 1937.4804257\ttotal: 673ms\tremaining: 5.44s\n",
      "20:\tlearn: 1834.4127868\ttotal: 1.25s\tremaining: 4.7s\n",
      "30:\tlearn: 1788.5895201\ttotal: 1.83s\tremaining: 4.09s\n",
      "40:\tlearn: 1745.3121205\ttotal: 2.45s\tremaining: 3.53s\n",
      "50:\tlearn: 1719.2276077\ttotal: 3.06s\tremaining: 2.94s\n",
      "60:\tlearn: 1702.0491953\ttotal: 3.65s\tremaining: 2.33s\n",
      "70:\tlearn: 1685.0962188\ttotal: 4.25s\tremaining: 1.74s\n",
      "80:\tlearn: 1672.0490775\ttotal: 4.86s\tremaining: 1.14s\n",
      "90:\tlearn: 1661.3535194\ttotal: 5.44s\tremaining: 538ms\n",
      "99:\tlearn: 1652.7451213\ttotal: 5.97s\tremaining: 0us\n",
      "0:\tlearn: 3430.0287629\ttotal: 85.7ms\tremaining: 8.49s\n",
      "10:\tlearn: 1853.9060680\ttotal: 854ms\tremaining: 6.91s\n",
      "20:\tlearn: 1758.7920440\ttotal: 1.58s\tremaining: 5.94s\n",
      "30:\tlearn: 1708.5943782\ttotal: 2.35s\tremaining: 5.22s\n",
      "40:\tlearn: 1670.5341720\ttotal: 3.11s\tremaining: 4.47s\n",
      "50:\tlearn: 1642.5677718\ttotal: 3.88s\tremaining: 3.73s\n",
      "60:\tlearn: 1619.9689421\ttotal: 4.64s\tremaining: 2.97s\n",
      "70:\tlearn: 1604.0132522\ttotal: 5.38s\tremaining: 2.19s\n",
      "80:\tlearn: 1591.3059218\ttotal: 6.12s\tremaining: 1.44s\n",
      "90:\tlearn: 1576.5404585\ttotal: 6.87s\tremaining: 679ms\n",
      "99:\tlearn: 1565.6899782\ttotal: 7.5s\tremaining: 0us\n",
      "0:\tlearn: 3429.7037334\ttotal: 94.1ms\tremaining: 9.32s\n",
      "10:\tlearn: 1868.0345015\ttotal: 865ms\tremaining: 7s\n",
      "20:\tlearn: 1779.0545859\ttotal: 1.61s\tremaining: 6.07s\n",
      "30:\tlearn: 1722.4624790\ttotal: 2.49s\tremaining: 5.54s\n",
      "40:\tlearn: 1675.9336644\ttotal: 3.68s\tremaining: 5.29s\n",
      "50:\tlearn: 1646.9734589\ttotal: 4.51s\tremaining: 4.34s\n",
      "60:\tlearn: 1626.6093740\ttotal: 5.28s\tremaining: 3.38s\n",
      "70:\tlearn: 1606.9103599\ttotal: 6.04s\tremaining: 2.47s\n",
      "80:\tlearn: 1585.4193281\ttotal: 6.79s\tremaining: 1.59s\n",
      "90:\tlearn: 1571.2921384\ttotal: 7.56s\tremaining: 748ms\n",
      "99:\tlearn: 1558.6902535\ttotal: 8.26s\tremaining: 0us\n",
      "0:\tlearn: 3431.3141293\ttotal: 87.9ms\tremaining: 8.7s\n",
      "10:\tlearn: 1877.8277471\ttotal: 850ms\tremaining: 6.88s\n",
      "20:\tlearn: 1776.1650915\ttotal: 1.62s\tremaining: 6.09s\n",
      "30:\tlearn: 1714.7974437\ttotal: 2.39s\tremaining: 5.32s\n",
      "40:\tlearn: 1679.8142706\ttotal: 3.15s\tremaining: 4.53s\n",
      "50:\tlearn: 1653.9896946\ttotal: 3.91s\tremaining: 3.76s\n",
      "60:\tlearn: 1627.6812952\ttotal: 4.69s\tremaining: 3s\n",
      "70:\tlearn: 1614.4284082\ttotal: 5.46s\tremaining: 2.23s\n",
      "80:\tlearn: 1598.6437723\ttotal: 6.24s\tremaining: 1.46s\n",
      "90:\tlearn: 1583.2569340\ttotal: 7.04s\tremaining: 697ms\n",
      "99:\tlearn: 1573.3777521\ttotal: 7.85s\tremaining: 0us\n",
      "0:\tlearn: 3421.6307184\ttotal: 95.3ms\tremaining: 9.43s\n",
      "10:\tlearn: 1868.2821150\ttotal: 923ms\tremaining: 7.47s\n",
      "20:\tlearn: 1774.2214789\ttotal: 1.69s\tremaining: 6.35s\n",
      "30:\tlearn: 1728.0673525\ttotal: 2.46s\tremaining: 5.46s\n",
      "40:\tlearn: 1685.4691713\ttotal: 3.21s\tremaining: 4.62s\n",
      "50:\tlearn: 1650.7804697\ttotal: 3.98s\tremaining: 3.83s\n",
      "60:\tlearn: 1629.4004265\ttotal: 4.77s\tremaining: 3.05s\n",
      "70:\tlearn: 1609.3003572\ttotal: 5.55s\tremaining: 2.27s\n",
      "80:\tlearn: 1591.3612603\ttotal: 6.31s\tremaining: 1.48s\n",
      "90:\tlearn: 1577.9162116\ttotal: 7.08s\tremaining: 700ms\n",
      "99:\tlearn: 1568.8434057\ttotal: 7.71s\tremaining: 0us\n",
      "0:\tlearn: 3419.1354209\ttotal: 87.5ms\tremaining: 8.66s\n",
      "10:\tlearn: 1864.1356405\ttotal: 852ms\tremaining: 6.89s\n",
      "20:\tlearn: 1764.4572523\ttotal: 1.6s\tremaining: 6.03s\n",
      "30:\tlearn: 1704.1032165\ttotal: 2.34s\tremaining: 5.21s\n",
      "40:\tlearn: 1667.9967838\ttotal: 3.09s\tremaining: 4.44s\n",
      "50:\tlearn: 1641.0078023\ttotal: 3.82s\tremaining: 3.67s\n",
      "60:\tlearn: 1619.8235734\ttotal: 4.6s\tremaining: 2.94s\n",
      "70:\tlearn: 1599.0346412\ttotal: 5.4s\tremaining: 2.21s\n",
      "80:\tlearn: 1583.5544842\ttotal: 6.16s\tremaining: 1.44s\n",
      "90:\tlearn: 1572.5115952\ttotal: 6.89s\tremaining: 682ms\n",
      "99:\tlearn: 1564.0074608\ttotal: 7.54s\tremaining: 0us\n",
      "0:\tlearn: 3562.9777381\ttotal: 35.8ms\tremaining: 3.54s\n",
      "10:\tlearn: 2307.1646794\ttotal: 340ms\tremaining: 2.75s\n",
      "20:\tlearn: 2139.8267222\ttotal: 620ms\tremaining: 2.33s\n",
      "30:\tlearn: 2051.3623887\ttotal: 888ms\tremaining: 1.98s\n",
      "40:\tlearn: 2005.3457215\ttotal: 1.16s\tremaining: 1.67s\n",
      "50:\tlearn: 1969.8135333\ttotal: 1.45s\tremaining: 1.39s\n",
      "60:\tlearn: 1944.6557401\ttotal: 1.72s\tremaining: 1.1s\n",
      "70:\tlearn: 1924.5174606\ttotal: 2s\tremaining: 818ms\n",
      "80:\tlearn: 1906.8966239\ttotal: 2.28s\tremaining: 534ms\n",
      "90:\tlearn: 1891.3421525\ttotal: 2.56s\tremaining: 253ms\n",
      "99:\tlearn: 1881.8533773\ttotal: 2.9s\tremaining: 0us\n",
      "0:\tlearn: 3564.2209457\ttotal: 39.9ms\tremaining: 3.95s\n",
      "10:\tlearn: 2322.2337498\ttotal: 345ms\tremaining: 2.79s\n",
      "20:\tlearn: 2130.0764351\ttotal: 636ms\tremaining: 2.39s\n",
      "30:\tlearn: 2051.1487237\ttotal: 929ms\tremaining: 2.07s\n",
      "40:\tlearn: 2001.0432435\ttotal: 1.22s\tremaining: 1.76s\n",
      "50:\tlearn: 1970.8163705\ttotal: 1.5s\tremaining: 1.45s\n",
      "60:\tlearn: 1947.8207962\ttotal: 1.79s\tremaining: 1.14s\n",
      "70:\tlearn: 1926.4418390\ttotal: 2.08s\tremaining: 848ms\n",
      "80:\tlearn: 1910.1281450\ttotal: 2.36s\tremaining: 554ms\n",
      "90:\tlearn: 1897.9828131\ttotal: 2.64s\tremaining: 261ms\n",
      "99:\tlearn: 1885.2643713\ttotal: 2.89s\tremaining: 0us\n",
      "0:\tlearn: 3586.7594845\ttotal: 40.3ms\tremaining: 3.99s\n",
      "10:\tlearn: 2316.6020773\ttotal: 344ms\tremaining: 2.78s\n",
      "20:\tlearn: 2163.4896168\ttotal: 619ms\tremaining: 2.33s\n",
      "30:\tlearn: 2075.1594806\ttotal: 893ms\tremaining: 1.99s\n",
      "40:\tlearn: 2035.0292524\ttotal: 1.16s\tremaining: 1.67s\n",
      "50:\tlearn: 1991.3172327\ttotal: 1.43s\tremaining: 1.37s\n",
      "60:\tlearn: 1960.3940953\ttotal: 1.7s\tremaining: 1.09s\n",
      "70:\tlearn: 1938.6005462\ttotal: 1.97s\tremaining: 806ms\n",
      "80:\tlearn: 1919.9890927\ttotal: 2.24s\tremaining: 526ms\n",
      "90:\tlearn: 1904.9866304\ttotal: 2.52s\tremaining: 249ms\n",
      "99:\tlearn: 1893.2795005\ttotal: 2.77s\tremaining: 0us\n",
      "0:\tlearn: 3564.6633058\ttotal: 37.7ms\tremaining: 3.73s\n",
      "10:\tlearn: 2325.2676186\ttotal: 337ms\tremaining: 2.72s\n",
      "20:\tlearn: 2136.3840582\ttotal: 611ms\tremaining: 2.3s\n",
      "30:\tlearn: 2063.4249334\ttotal: 883ms\tremaining: 1.96s\n",
      "40:\tlearn: 2026.0922437\ttotal: 1.16s\tremaining: 1.66s\n",
      "50:\tlearn: 1978.8036229\ttotal: 1.42s\tremaining: 1.36s\n",
      "60:\tlearn: 1957.5658277\ttotal: 1.69s\tremaining: 1.08s\n",
      "70:\tlearn: 1932.7003156\ttotal: 1.96s\tremaining: 801ms\n",
      "80:\tlearn: 1914.8279264\ttotal: 2.23s\tremaining: 523ms\n",
      "90:\tlearn: 1899.4407388\ttotal: 2.5s\tremaining: 247ms\n",
      "99:\tlearn: 1889.3274251\ttotal: 2.74s\tremaining: 0us\n",
      "0:\tlearn: 3552.9294623\ttotal: 38.1ms\tremaining: 3.77s\n",
      "10:\tlearn: 2289.8380335\ttotal: 328ms\tremaining: 2.65s\n",
      "20:\tlearn: 2112.2473114\ttotal: 592ms\tremaining: 2.23s\n",
      "30:\tlearn: 2035.1758301\ttotal: 853ms\tremaining: 1.9s\n",
      "40:\tlearn: 1991.9335262\ttotal: 1.12s\tremaining: 1.61s\n",
      "50:\tlearn: 1955.9760811\ttotal: 1.39s\tremaining: 1.34s\n",
      "60:\tlearn: 1930.0902633\ttotal: 1.66s\tremaining: 1.06s\n",
      "70:\tlearn: 1913.7584633\ttotal: 1.93s\tremaining: 786ms\n",
      "80:\tlearn: 1899.6888058\ttotal: 2.2s\tremaining: 516ms\n",
      "90:\tlearn: 1885.3949287\ttotal: 2.47s\tremaining: 244ms\n",
      "99:\tlearn: 1876.9744867\ttotal: 2.72s\tremaining: 0us\n",
      "0:\tlearn: 3289.9518173\ttotal: 53ms\tremaining: 5.25s\n",
      "10:\tlearn: 2052.3959480\ttotal: 512ms\tremaining: 4.14s\n",
      "20:\tlearn: 1924.4980532\ttotal: 937ms\tremaining: 3.52s\n",
      "30:\tlearn: 1863.9970638\ttotal: 1.37s\tremaining: 3.04s\n",
      "40:\tlearn: 1833.4812552\ttotal: 1.78s\tremaining: 2.56s\n",
      "50:\tlearn: 1799.2323009\ttotal: 2.2s\tremaining: 2.11s\n",
      "60:\tlearn: 1778.3265190\ttotal: 2.63s\tremaining: 1.68s\n",
      "70:\tlearn: 1764.9683244\ttotal: 3.06s\tremaining: 1.25s\n",
      "80:\tlearn: 1751.3098812\ttotal: 3.5s\tremaining: 820ms\n",
      "90:\tlearn: 1740.9849806\ttotal: 3.92s\tremaining: 388ms\n",
      "99:\tlearn: 1732.1942062\ttotal: 4.3s\tremaining: 0us\n",
      "0:\tlearn: 3259.8106497\ttotal: 57.5ms\tremaining: 5.69s\n",
      "10:\tlearn: 2063.0565165\ttotal: 516ms\tremaining: 4.17s\n",
      "20:\tlearn: 1938.5484547\ttotal: 946ms\tremaining: 3.56s\n",
      "30:\tlearn: 1873.7480845\ttotal: 1.41s\tremaining: 3.13s\n",
      "40:\tlearn: 1831.4541834\ttotal: 1.93s\tremaining: 2.77s\n",
      "50:\tlearn: 1804.4018795\ttotal: 2.38s\tremaining: 2.28s\n",
      "60:\tlearn: 1779.5795118\ttotal: 2.83s\tremaining: 1.81s\n",
      "70:\tlearn: 1765.1486659\ttotal: 3.27s\tremaining: 1.34s\n",
      "80:\tlearn: 1751.3864349\ttotal: 3.71s\tremaining: 871ms\n",
      "90:\tlearn: 1736.2862365\ttotal: 4.16s\tremaining: 411ms\n",
      "99:\tlearn: 1727.6345869\ttotal: 4.54s\tremaining: 0us\n",
      "0:\tlearn: 3306.9847316\ttotal: 57ms\tremaining: 5.64s\n",
      "10:\tlearn: 2080.1282517\ttotal: 539ms\tremaining: 4.36s\n",
      "20:\tlearn: 1961.5490394\ttotal: 970ms\tremaining: 3.65s\n",
      "30:\tlearn: 1892.4356569\ttotal: 1.41s\tremaining: 3.14s\n",
      "40:\tlearn: 1854.2687440\ttotal: 1.85s\tremaining: 2.67s\n",
      "50:\tlearn: 1823.3229064\ttotal: 2.29s\tremaining: 2.2s\n",
      "60:\tlearn: 1799.9342097\ttotal: 2.73s\tremaining: 1.75s\n",
      "70:\tlearn: 1777.0411047\ttotal: 3.16s\tremaining: 1.29s\n",
      "80:\tlearn: 1761.9517757\ttotal: 3.6s\tremaining: 844ms\n",
      "90:\tlearn: 1750.8540131\ttotal: 4.04s\tremaining: 400ms\n",
      "99:\tlearn: 1740.8035144\ttotal: 4.45s\tremaining: 0us\n",
      "0:\tlearn: 3258.1370033\ttotal: 58.4ms\tremaining: 5.78s\n",
      "10:\tlearn: 2079.0538676\ttotal: 507ms\tremaining: 4.1s\n",
      "20:\tlearn: 1947.7204969\ttotal: 942ms\tremaining: 3.54s\n",
      "30:\tlearn: 1889.8633881\ttotal: 1.38s\tremaining: 3.08s\n",
      "40:\tlearn: 1843.3357951\ttotal: 1.82s\tremaining: 2.62s\n",
      "50:\tlearn: 1812.5392290\ttotal: 2.26s\tremaining: 2.17s\n",
      "60:\tlearn: 1788.2453259\ttotal: 2.68s\tremaining: 1.72s\n",
      "70:\tlearn: 1773.9935669\ttotal: 3.11s\tremaining: 1.27s\n",
      "80:\tlearn: 1764.1391584\ttotal: 3.56s\tremaining: 835ms\n",
      "90:\tlearn: 1753.9579019\ttotal: 4.01s\tremaining: 397ms\n",
      "99:\tlearn: 1744.8819930\ttotal: 4.41s\tremaining: 0us\n",
      "0:\tlearn: 3249.6186274\ttotal: 58.8ms\tremaining: 5.83s\n",
      "10:\tlearn: 2056.6997662\ttotal: 512ms\tremaining: 4.14s\n",
      "20:\tlearn: 1930.5439539\ttotal: 948ms\tremaining: 3.56s\n",
      "30:\tlearn: 1860.3870515\ttotal: 1.39s\tremaining: 3.08s\n",
      "40:\tlearn: 1823.0605783\ttotal: 1.79s\tremaining: 2.58s\n",
      "50:\tlearn: 1792.1282025\ttotal: 2.22s\tremaining: 2.13s\n",
      "60:\tlearn: 1772.4968906\ttotal: 2.65s\tremaining: 1.69s\n",
      "70:\tlearn: 1758.5743840\ttotal: 3.08s\tremaining: 1.26s\n",
      "80:\tlearn: 1748.0612892\ttotal: 3.52s\tremaining: 826ms\n",
      "90:\tlearn: 1736.4344755\ttotal: 3.97s\tremaining: 392ms\n",
      "99:\tlearn: 1722.8532754\ttotal: 4.37s\tremaining: 0us\n",
      "0:\tlearn: 3131.7265546\ttotal: 108ms\tremaining: 10.6s\n",
      "10:\tlearn: 1928.1977588\ttotal: 910ms\tremaining: 7.36s\n",
      "20:\tlearn: 1818.7683607\ttotal: 1.5s\tremaining: 5.62s\n",
      "30:\tlearn: 1765.7242533\ttotal: 2.08s\tremaining: 4.64s\n",
      "40:\tlearn: 1728.4004371\ttotal: 2.66s\tremaining: 3.83s\n",
      "50:\tlearn: 1701.7728525\ttotal: 3.27s\tremaining: 3.14s\n",
      "60:\tlearn: 1681.3639784\ttotal: 3.94s\tremaining: 2.52s\n",
      "70:\tlearn: 1662.1698513\ttotal: 4.5s\tremaining: 1.84s\n",
      "80:\tlearn: 1648.8886883\ttotal: 5.06s\tremaining: 1.19s\n",
      "90:\tlearn: 1637.4914358\ttotal: 5.63s\tremaining: 557ms\n",
      "99:\tlearn: 1628.8655496\ttotal: 6.15s\tremaining: 0us\n",
      "0:\tlearn: 3065.8874783\ttotal: 71.2ms\tremaining: 7.05s\n",
      "10:\tlearn: 1933.5819566\ttotal: 677ms\tremaining: 5.48s\n",
      "20:\tlearn: 1825.9858621\ttotal: 1.27s\tremaining: 4.78s\n",
      "30:\tlearn: 1766.9134236\ttotal: 1.86s\tremaining: 4.14s\n",
      "40:\tlearn: 1733.3063739\ttotal: 2.44s\tremaining: 3.51s\n",
      "50:\tlearn: 1706.7126169\ttotal: 3.03s\tremaining: 2.91s\n",
      "60:\tlearn: 1686.4019842\ttotal: 3.61s\tremaining: 2.31s\n",
      "70:\tlearn: 1668.8161900\ttotal: 4.19s\tremaining: 1.71s\n",
      "80:\tlearn: 1653.4262321\ttotal: 4.82s\tremaining: 1.13s\n",
      "90:\tlearn: 1640.6445900\ttotal: 5.43s\tremaining: 537ms\n",
      "99:\tlearn: 1634.6010209\ttotal: 5.96s\tremaining: 0us\n",
      "0:\tlearn: 3148.1706211\ttotal: 71.1ms\tremaining: 7.04s\n",
      "10:\tlearn: 1928.6985120\ttotal: 722ms\tremaining: 5.84s\n",
      "20:\tlearn: 1815.5042830\ttotal: 1.37s\tremaining: 5.14s\n",
      "30:\tlearn: 1761.3232541\ttotal: 1.99s\tremaining: 4.43s\n",
      "40:\tlearn: 1731.7268930\ttotal: 2.6s\tremaining: 3.74s\n",
      "50:\tlearn: 1705.8780575\ttotal: 3.2s\tremaining: 3.08s\n",
      "60:\tlearn: 1682.4643146\ttotal: 3.82s\tremaining: 2.44s\n",
      "70:\tlearn: 1664.3536676\ttotal: 4.41s\tremaining: 1.8s\n",
      "80:\tlearn: 1653.2915423\ttotal: 4.99s\tremaining: 1.17s\n",
      "90:\tlearn: 1641.3916301\ttotal: 5.56s\tremaining: 550ms\n",
      "99:\tlearn: 1634.2369095\ttotal: 6.08s\tremaining: 0us\n",
      "0:\tlearn: 3057.3455773\ttotal: 70.3ms\tremaining: 6.96s\n",
      "10:\tlearn: 1927.8786424\ttotal: 677ms\tremaining: 5.48s\n",
      "20:\tlearn: 1828.7312202\ttotal: 1.24s\tremaining: 4.66s\n",
      "30:\tlearn: 1779.0041447\ttotal: 1.81s\tremaining: 4.04s\n",
      "40:\tlearn: 1735.3727833\ttotal: 2.38s\tremaining: 3.43s\n",
      "50:\tlearn: 1711.1708645\ttotal: 2.95s\tremaining: 2.83s\n",
      "60:\tlearn: 1690.4562602\ttotal: 3.52s\tremaining: 2.25s\n",
      "70:\tlearn: 1677.2702083\ttotal: 4.1s\tremaining: 1.67s\n",
      "80:\tlearn: 1664.1073174\ttotal: 4.67s\tremaining: 1.09s\n",
      "90:\tlearn: 1647.4461808\ttotal: 5.24s\tremaining: 519ms\n",
      "99:\tlearn: 1634.5506647\ttotal: 5.76s\tremaining: 0us\n",
      "0:\tlearn: 3055.1241050\ttotal: 72.7ms\tremaining: 7.2s\n",
      "10:\tlearn: 1925.3594977\ttotal: 664ms\tremaining: 5.37s\n",
      "20:\tlearn: 1823.7741042\ttotal: 1.25s\tremaining: 4.72s\n",
      "30:\tlearn: 1760.1523261\ttotal: 1.83s\tremaining: 4.08s\n",
      "40:\tlearn: 1726.3388913\ttotal: 2.42s\tremaining: 3.48s\n",
      "50:\tlearn: 1696.2459904\ttotal: 3s\tremaining: 2.89s\n",
      "60:\tlearn: 1675.0927973\ttotal: 3.6s\tremaining: 2.31s\n",
      "70:\tlearn: 1659.2443652\ttotal: 4.18s\tremaining: 1.71s\n",
      "80:\tlearn: 1645.4818424\ttotal: 4.74s\tremaining: 1.11s\n",
      "90:\tlearn: 1632.0759409\ttotal: 5.32s\tremaining: 526ms\n",
      "99:\tlearn: 1620.6724645\ttotal: 5.84s\tremaining: 0us\n",
      "0:\tlearn: 2973.2570628\ttotal: 89.1ms\tremaining: 8.82s\n",
      "10:\tlearn: 1841.1765586\ttotal: 909ms\tremaining: 7.35s\n",
      "20:\tlearn: 1733.7948221\ttotal: 1.71s\tremaining: 6.42s\n",
      "30:\tlearn: 1671.7707156\ttotal: 2.5s\tremaining: 5.56s\n",
      "40:\tlearn: 1639.9270629\ttotal: 3.27s\tremaining: 4.71s\n",
      "50:\tlearn: 1617.1309263\ttotal: 4.04s\tremaining: 3.88s\n",
      "60:\tlearn: 1592.8996368\ttotal: 4.81s\tremaining: 3.08s\n",
      "70:\tlearn: 1575.7164844\ttotal: 5.6s\tremaining: 2.29s\n",
      "80:\tlearn: 1556.3121171\ttotal: 6.35s\tremaining: 1.49s\n",
      "90:\tlearn: 1538.0823651\ttotal: 7.12s\tremaining: 704ms\n",
      "99:\tlearn: 1526.3293637\ttotal: 7.8s\tremaining: 0us\n",
      "0:\tlearn: 2973.1835479\ttotal: 95.2ms\tremaining: 9.42s\n",
      "10:\tlearn: 1838.6184792\ttotal: 903ms\tremaining: 7.31s\n",
      "20:\tlearn: 1745.8309313\ttotal: 1.67s\tremaining: 6.3s\n",
      "30:\tlearn: 1689.3604870\ttotal: 2.42s\tremaining: 5.39s\n",
      "40:\tlearn: 1649.1385364\ttotal: 3.17s\tremaining: 4.56s\n",
      "50:\tlearn: 1616.1261451\ttotal: 3.94s\tremaining: 3.78s\n",
      "60:\tlearn: 1588.6507599\ttotal: 4.68s\tremaining: 2.99s\n",
      "70:\tlearn: 1572.1269542\ttotal: 5.42s\tremaining: 2.21s\n",
      "80:\tlearn: 1553.0598820\ttotal: 6.16s\tremaining: 1.45s\n",
      "90:\tlearn: 1537.2496513\ttotal: 6.94s\tremaining: 686ms\n",
      "99:\tlearn: 1522.2373872\ttotal: 7.6s\tremaining: 0us\n",
      "0:\tlearn: 2975.0315961\ttotal: 91.8ms\tremaining: 9.09s\n",
      "10:\tlearn: 1834.1454720\ttotal: 868ms\tremaining: 7.02s\n",
      "20:\tlearn: 1747.9812307\ttotal: 1.63s\tremaining: 6.15s\n",
      "30:\tlearn: 1687.2184748\ttotal: 2.39s\tremaining: 5.32s\n",
      "40:\tlearn: 1649.1681367\ttotal: 3.15s\tremaining: 4.54s\n",
      "50:\tlearn: 1622.9621360\ttotal: 3.94s\tremaining: 3.78s\n",
      "60:\tlearn: 1597.3553518\ttotal: 4.67s\tremaining: 2.98s\n",
      "70:\tlearn: 1574.1753212\ttotal: 5.39s\tremaining: 2.2s\n",
      "80:\tlearn: 1554.5301370\ttotal: 6.11s\tremaining: 1.43s\n",
      "90:\tlearn: 1542.7741548\ttotal: 6.85s\tremaining: 678ms\n",
      "99:\tlearn: 1529.5639994\ttotal: 7.51s\tremaining: 0us\n",
      "0:\tlearn: 2965.2162001\ttotal: 89.6ms\tremaining: 8.87s\n",
      "10:\tlearn: 1851.1723285\ttotal: 850ms\tremaining: 6.87s\n",
      "20:\tlearn: 1752.1727915\ttotal: 1.57s\tremaining: 5.92s\n",
      "30:\tlearn: 1698.9872041\ttotal: 2.33s\tremaining: 5.18s\n",
      "40:\tlearn: 1655.5133408\ttotal: 3.09s\tremaining: 4.45s\n",
      "50:\tlearn: 1626.7235892\ttotal: 3.88s\tremaining: 3.72s\n",
      "60:\tlearn: 1597.8611001\ttotal: 4.67s\tremaining: 2.98s\n",
      "70:\tlearn: 1576.7246057\ttotal: 5.44s\tremaining: 2.22s\n",
      "80:\tlearn: 1557.5855789\ttotal: 6.18s\tremaining: 1.45s\n",
      "90:\tlearn: 1543.9504587\ttotal: 6.92s\tremaining: 685ms\n",
      "99:\tlearn: 1529.7747137\ttotal: 7.58s\tremaining: 0us\n",
      "0:\tlearn: 2964.0178622\ttotal: 92.9ms\tremaining: 9.2s\n",
      "10:\tlearn: 1834.0927211\ttotal: 858ms\tremaining: 6.94s\n",
      "20:\tlearn: 1738.8301665\ttotal: 1.6s\tremaining: 6.04s\n",
      "30:\tlearn: 1684.5000504\ttotal: 2.34s\tremaining: 5.2s\n",
      "40:\tlearn: 1632.1458866\ttotal: 3.08s\tremaining: 4.44s\n",
      "50:\tlearn: 1602.6514638\ttotal: 3.83s\tremaining: 3.68s\n",
      "60:\tlearn: 1581.5617427\ttotal: 4.55s\tremaining: 2.91s\n",
      "70:\tlearn: 1570.5728691\ttotal: 5.29s\tremaining: 2.16s\n",
      "80:\tlearn: 1553.8069453\ttotal: 6.02s\tremaining: 1.41s\n",
      "90:\tlearn: 1534.5583204\ttotal: 6.76s\tremaining: 669ms\n",
      "99:\tlearn: 1520.0165541\ttotal: 7.41s\tremaining: 0us\n",
      "0:\tlearn: 4184.0609017\ttotal: 35.1ms\tremaining: 5.23s\n",
      "10:\tlearn: 2720.3921152\ttotal: 331ms\tremaining: 4.18s\n",
      "20:\tlearn: 2348.9582212\ttotal: 602ms\tremaining: 3.7s\n",
      "30:\tlearn: 2195.4732848\ttotal: 873ms\tremaining: 3.35s\n",
      "40:\tlearn: 2131.8901250\ttotal: 1.13s\tremaining: 3s\n",
      "50:\tlearn: 2085.0463932\ttotal: 1.4s\tremaining: 2.72s\n",
      "60:\tlearn: 2056.7997540\ttotal: 1.67s\tremaining: 2.44s\n",
      "70:\tlearn: 2031.8193299\ttotal: 1.94s\tremaining: 2.16s\n",
      "80:\tlearn: 2002.9726303\ttotal: 2.21s\tremaining: 1.89s\n",
      "90:\tlearn: 1986.0263771\ttotal: 2.49s\tremaining: 1.61s\n",
      "100:\tlearn: 1971.2216367\ttotal: 2.77s\tremaining: 1.34s\n",
      "110:\tlearn: 1958.3796443\ttotal: 3.03s\tremaining: 1.06s\n",
      "120:\tlearn: 1946.6559000\ttotal: 3.31s\tremaining: 793ms\n",
      "130:\tlearn: 1937.4023739\ttotal: 3.6s\tremaining: 522ms\n",
      "140:\tlearn: 1929.4007739\ttotal: 3.88s\tremaining: 248ms\n",
      "149:\tlearn: 1922.2203393\ttotal: 4.12s\tremaining: 0us\n",
      "0:\tlearn: 4183.8614197\ttotal: 37.9ms\tremaining: 5.65s\n",
      "10:\tlearn: 2742.8287700\ttotal: 340ms\tremaining: 4.29s\n",
      "20:\tlearn: 2392.6869764\ttotal: 623ms\tremaining: 3.83s\n",
      "30:\tlearn: 2217.7364043\ttotal: 908ms\tremaining: 3.48s\n",
      "40:\tlearn: 2143.3240222\ttotal: 1.19s\tremaining: 3.15s\n",
      "50:\tlearn: 2095.5977591\ttotal: 1.47s\tremaining: 2.86s\n",
      "60:\tlearn: 2065.2489100\ttotal: 1.75s\tremaining: 2.55s\n",
      "70:\tlearn: 2035.0485741\ttotal: 2.02s\tremaining: 2.25s\n",
      "80:\tlearn: 2016.1431567\ttotal: 2.3s\tremaining: 1.96s\n",
      "90:\tlearn: 1996.1514453\ttotal: 2.58s\tremaining: 1.68s\n",
      "100:\tlearn: 1982.4949010\ttotal: 2.88s\tremaining: 1.4s\n",
      "110:\tlearn: 1966.5788909\ttotal: 3.17s\tremaining: 1.11s\n",
      "120:\tlearn: 1955.4695079\ttotal: 3.46s\tremaining: 829ms\n",
      "130:\tlearn: 1946.4848537\ttotal: 3.74s\tremaining: 543ms\n",
      "140:\tlearn: 1936.1104565\ttotal: 4.04s\tremaining: 258ms\n",
      "149:\tlearn: 1930.1218549\ttotal: 4.29s\tremaining: 0us\n",
      "0:\tlearn: 4192.8116120\ttotal: 39.5ms\tremaining: 5.88s\n",
      "10:\tlearn: 2714.8141894\ttotal: 488ms\tremaining: 6.17s\n",
      "20:\tlearn: 2363.7563654\ttotal: 770ms\tremaining: 4.73s\n",
      "30:\tlearn: 2208.7035782\ttotal: 1.07s\tremaining: 4.1s\n",
      "40:\tlearn: 2131.6669500\ttotal: 1.36s\tremaining: 3.62s\n",
      "50:\tlearn: 2091.0884150\ttotal: 1.67s\tremaining: 3.24s\n",
      "60:\tlearn: 2063.2599224\ttotal: 1.97s\tremaining: 2.87s\n",
      "70:\tlearn: 2030.8491080\ttotal: 2.26s\tremaining: 2.51s\n",
      "80:\tlearn: 2011.5644924\ttotal: 2.54s\tremaining: 2.17s\n",
      "90:\tlearn: 1994.6723581\ttotal: 2.83s\tremaining: 1.83s\n",
      "100:\tlearn: 1981.5107042\ttotal: 3.11s\tremaining: 1.51s\n",
      "110:\tlearn: 1970.2199001\ttotal: 3.4s\tremaining: 1.19s\n",
      "120:\tlearn: 1958.1382646\ttotal: 3.67s\tremaining: 880ms\n",
      "130:\tlearn: 1949.2220744\ttotal: 3.96s\tremaining: 574ms\n",
      "140:\tlearn: 1940.4854065\ttotal: 4.24s\tremaining: 270ms\n",
      "149:\tlearn: 1934.4805943\ttotal: 4.49s\tremaining: 0us\n",
      "0:\tlearn: 4178.4114577\ttotal: 39.7ms\tremaining: 5.92s\n",
      "10:\tlearn: 2737.6718317\ttotal: 352ms\tremaining: 4.44s\n",
      "20:\tlearn: 2362.4188302\ttotal: 648ms\tremaining: 3.98s\n",
      "30:\tlearn: 2208.1759499\ttotal: 941ms\tremaining: 3.61s\n",
      "40:\tlearn: 2138.6934013\ttotal: 1.23s\tremaining: 3.28s\n",
      "50:\tlearn: 2098.5567802\ttotal: 1.52s\tremaining: 2.95s\n",
      "60:\tlearn: 2071.9210906\ttotal: 1.8s\tremaining: 2.62s\n",
      "70:\tlearn: 2049.7023070\ttotal: 2.08s\tremaining: 2.31s\n",
      "80:\tlearn: 2023.7245015\ttotal: 2.37s\tremaining: 2.02s\n",
      "90:\tlearn: 2002.3989979\ttotal: 2.67s\tremaining: 1.73s\n",
      "100:\tlearn: 1987.8036165\ttotal: 2.96s\tremaining: 1.44s\n",
      "110:\tlearn: 1973.2025656\ttotal: 3.25s\tremaining: 1.14s\n",
      "120:\tlearn: 1962.6690218\ttotal: 3.54s\tremaining: 849ms\n",
      "130:\tlearn: 1953.4703727\ttotal: 3.82s\tremaining: 555ms\n",
      "140:\tlearn: 1944.9674260\ttotal: 4.12s\tremaining: 263ms\n",
      "149:\tlearn: 1938.0346882\ttotal: 4.38s\tremaining: 0us\n",
      "0:\tlearn: 4170.8678889\ttotal: 39.6ms\tremaining: 5.91s\n",
      "10:\tlearn: 2715.8265380\ttotal: 356ms\tremaining: 4.5s\n",
      "20:\tlearn: 2343.6993378\ttotal: 642ms\tremaining: 3.94s\n",
      "30:\tlearn: 2197.3181153\ttotal: 923ms\tremaining: 3.54s\n",
      "40:\tlearn: 2131.0205326\ttotal: 1.2s\tremaining: 3.18s\n",
      "50:\tlearn: 2090.4679209\ttotal: 1.47s\tremaining: 2.85s\n",
      "60:\tlearn: 2056.7161872\ttotal: 1.75s\tremaining: 2.55s\n",
      "70:\tlearn: 2033.9926082\ttotal: 2.02s\tremaining: 2.24s\n",
      "80:\tlearn: 2009.2507491\ttotal: 2.31s\tremaining: 1.97s\n",
      "90:\tlearn: 1991.2581681\ttotal: 2.59s\tremaining: 1.68s\n",
      "100:\tlearn: 1971.1074042\ttotal: 2.87s\tremaining: 1.39s\n",
      "110:\tlearn: 1954.9471891\ttotal: 3.17s\tremaining: 1.11s\n",
      "120:\tlearn: 1943.1279496\ttotal: 3.49s\tremaining: 837ms\n",
      "130:\tlearn: 1934.2308719\ttotal: 3.8s\tremaining: 552ms\n",
      "140:\tlearn: 1925.4223265\ttotal: 4.08s\tremaining: 261ms\n",
      "149:\tlearn: 1918.7420861\ttotal: 4.33s\tremaining: 0us\n",
      "0:\tlearn: 4087.1480827\ttotal: 53.9ms\tremaining: 8.02s\n",
      "10:\tlearn: 2315.1123302\ttotal: 487ms\tremaining: 6.16s\n",
      "20:\tlearn: 2049.7096493\ttotal: 893ms\tremaining: 5.49s\n",
      "30:\tlearn: 1968.8597386\ttotal: 1.31s\tremaining: 5.05s\n",
      "40:\tlearn: 1919.3640656\ttotal: 1.73s\tremaining: 4.61s\n",
      "50:\tlearn: 1888.3702802\ttotal: 2.17s\tremaining: 4.21s\n",
      "60:\tlearn: 1862.5044400\ttotal: 2.63s\tremaining: 3.84s\n",
      "70:\tlearn: 1845.4472700\ttotal: 3.04s\tremaining: 3.39s\n",
      "80:\tlearn: 1828.7198032\ttotal: 3.46s\tremaining: 2.95s\n",
      "90:\tlearn: 1815.8388096\ttotal: 3.87s\tremaining: 2.51s\n",
      "100:\tlearn: 1805.6052852\ttotal: 4.29s\tremaining: 2.08s\n",
      "110:\tlearn: 1794.4641949\ttotal: 4.71s\tremaining: 1.65s\n",
      "120:\tlearn: 1785.0563727\ttotal: 5.11s\tremaining: 1.22s\n",
      "130:\tlearn: 1778.2131039\ttotal: 5.51s\tremaining: 799ms\n",
      "140:\tlearn: 1772.2979793\ttotal: 5.93s\tremaining: 379ms\n",
      "149:\tlearn: 1768.4105806\ttotal: 6.32s\tremaining: 0us\n",
      "0:\tlearn: 4076.1387214\ttotal: 57.2ms\tremaining: 8.52s\n",
      "10:\tlearn: 2348.9508229\ttotal: 488ms\tremaining: 6.16s\n",
      "20:\tlearn: 2070.9405658\ttotal: 905ms\tremaining: 5.56s\n",
      "30:\tlearn: 1987.3899029\ttotal: 1.33s\tremaining: 5.1s\n",
      "40:\tlearn: 1930.1578903\ttotal: 1.75s\tremaining: 4.66s\n",
      "50:\tlearn: 1896.2505764\ttotal: 2.17s\tremaining: 4.22s\n",
      "60:\tlearn: 1870.0779680\ttotal: 2.58s\tremaining: 3.77s\n",
      "70:\tlearn: 1850.8457450\ttotal: 2.99s\tremaining: 3.33s\n",
      "80:\tlearn: 1833.6858542\ttotal: 3.43s\tremaining: 2.92s\n",
      "90:\tlearn: 1820.4187787\ttotal: 3.86s\tremaining: 2.5s\n",
      "100:\tlearn: 1807.1968145\ttotal: 4.29s\tremaining: 2.08s\n",
      "110:\tlearn: 1796.8061078\ttotal: 4.7s\tremaining: 1.65s\n",
      "120:\tlearn: 1786.8887203\ttotal: 5.12s\tremaining: 1.23s\n",
      "130:\tlearn: 1779.2185703\ttotal: 5.54s\tremaining: 804ms\n",
      "140:\tlearn: 1771.7358248\ttotal: 5.97s\tremaining: 381ms\n",
      "149:\tlearn: 1766.0589750\ttotal: 6.36s\tremaining: 0us\n",
      "0:\tlearn: 4093.0899108\ttotal: 52.1ms\tremaining: 7.76s\n",
      "10:\tlearn: 2334.4096081\ttotal: 514ms\tremaining: 6.5s\n",
      "20:\tlearn: 2079.0039863\ttotal: 936ms\tremaining: 5.75s\n",
      "30:\tlearn: 1997.6554735\ttotal: 1.37s\tremaining: 5.26s\n",
      "40:\tlearn: 1944.7921971\ttotal: 1.82s\tremaining: 4.85s\n",
      "50:\tlearn: 1908.8519332\ttotal: 2.26s\tremaining: 4.38s\n",
      "60:\tlearn: 1883.1464334\ttotal: 2.69s\tremaining: 3.93s\n",
      "70:\tlearn: 1863.9046826\ttotal: 3.13s\tremaining: 3.49s\n",
      "80:\tlearn: 1847.0818987\ttotal: 3.58s\tremaining: 3.05s\n",
      "90:\tlearn: 1833.7342316\ttotal: 4s\tremaining: 2.59s\n",
      "100:\tlearn: 1821.2893616\ttotal: 4.43s\tremaining: 2.15s\n",
      "110:\tlearn: 1810.1227385\ttotal: 4.86s\tremaining: 1.71s\n",
      "120:\tlearn: 1799.4308198\ttotal: 5.28s\tremaining: 1.26s\n",
      "130:\tlearn: 1791.8548641\ttotal: 5.71s\tremaining: 828ms\n",
      "140:\tlearn: 1784.4691496\ttotal: 6.12s\tremaining: 391ms\n",
      "149:\tlearn: 1777.8096185\ttotal: 6.51s\tremaining: 0us\n",
      "0:\tlearn: 4069.8032804\ttotal: 56.4ms\tremaining: 8.4s\n",
      "10:\tlearn: 2357.5913783\ttotal: 519ms\tremaining: 6.56s\n",
      "20:\tlearn: 2082.7912354\ttotal: 944ms\tremaining: 5.8s\n",
      "30:\tlearn: 2009.7195077\ttotal: 1.39s\tremaining: 5.34s\n",
      "40:\tlearn: 1946.7057371\ttotal: 1.83s\tremaining: 4.86s\n",
      "50:\tlearn: 1908.6001804\ttotal: 2.25s\tremaining: 4.36s\n",
      "60:\tlearn: 1880.8196819\ttotal: 2.67s\tremaining: 3.9s\n",
      "70:\tlearn: 1860.6832133\ttotal: 3.09s\tremaining: 3.44s\n",
      "80:\tlearn: 1846.4495169\ttotal: 3.52s\tremaining: 2.99s\n",
      "90:\tlearn: 1833.2603698\ttotal: 3.92s\tremaining: 2.54s\n",
      "100:\tlearn: 1822.7208825\ttotal: 4.33s\tremaining: 2.1s\n",
      "110:\tlearn: 1810.0740768\ttotal: 4.76s\tremaining: 1.67s\n",
      "120:\tlearn: 1799.8402004\ttotal: 5.17s\tremaining: 1.24s\n",
      "130:\tlearn: 1792.8235888\ttotal: 5.58s\tremaining: 810ms\n",
      "140:\tlearn: 1786.0117613\ttotal: 5.98s\tremaining: 381ms\n",
      "149:\tlearn: 1779.9639002\ttotal: 6.33s\tremaining: 0us\n",
      "0:\tlearn: 4063.5389945\ttotal: 56.2ms\tremaining: 8.38s\n",
      "10:\tlearn: 2327.9556225\ttotal: 493ms\tremaining: 6.23s\n",
      "20:\tlearn: 2057.6919456\ttotal: 909ms\tremaining: 5.58s\n",
      "30:\tlearn: 1973.9574451\ttotal: 1.34s\tremaining: 5.14s\n",
      "40:\tlearn: 1922.1810817\ttotal: 1.78s\tremaining: 4.72s\n",
      "50:\tlearn: 1887.7391740\ttotal: 2.2s\tremaining: 4.27s\n",
      "60:\tlearn: 1860.5308591\ttotal: 2.62s\tremaining: 3.81s\n",
      "70:\tlearn: 1839.5645476\ttotal: 3.02s\tremaining: 3.36s\n",
      "80:\tlearn: 1823.8117482\ttotal: 3.42s\tremaining: 2.91s\n",
      "90:\tlearn: 1809.0964519\ttotal: 3.83s\tremaining: 2.48s\n",
      "100:\tlearn: 1799.3980313\ttotal: 4.25s\tremaining: 2.06s\n",
      "110:\tlearn: 1789.7469051\ttotal: 4.67s\tremaining: 1.64s\n",
      "120:\tlearn: 1781.3314275\ttotal: 5.08s\tremaining: 1.22s\n",
      "130:\tlearn: 1774.5465144\ttotal: 5.51s\tremaining: 799ms\n",
      "140:\tlearn: 1765.4915030\ttotal: 5.94s\tremaining: 379ms\n",
      "149:\tlearn: 1759.8177565\ttotal: 6.33s\tremaining: 0us\n",
      "0:\tlearn: 4033.6097320\ttotal: 65.6ms\tremaining: 9.78s\n",
      "10:\tlearn: 2181.8385770\ttotal: 649ms\tremaining: 8.21s\n",
      "20:\tlearn: 1938.4616723\ttotal: 1.22s\tremaining: 7.51s\n",
      "30:\tlearn: 1875.2044964\ttotal: 1.81s\tremaining: 6.96s\n",
      "40:\tlearn: 1826.8201468\ttotal: 2.41s\tremaining: 6.42s\n",
      "50:\tlearn: 1799.6611897\ttotal: 3.03s\tremaining: 5.88s\n",
      "60:\tlearn: 1773.2266125\ttotal: 3.63s\tremaining: 5.29s\n",
      "70:\tlearn: 1753.1658687\ttotal: 4.23s\tremaining: 4.7s\n",
      "80:\tlearn: 1738.5542872\ttotal: 4.81s\tremaining: 4.09s\n",
      "90:\tlearn: 1725.6483873\ttotal: 5.38s\tremaining: 3.49s\n",
      "100:\tlearn: 1715.5581076\ttotal: 5.97s\tremaining: 2.9s\n",
      "110:\tlearn: 1702.2186410\ttotal: 6.57s\tremaining: 2.31s\n",
      "120:\tlearn: 1694.4547776\ttotal: 7.27s\tremaining: 1.74s\n",
      "130:\tlearn: 1687.1730539\ttotal: 7.87s\tremaining: 1.14s\n",
      "140:\tlearn: 1681.0135585\ttotal: 8.54s\tremaining: 545ms\n",
      "149:\tlearn: 1674.9693736\ttotal: 9.08s\tremaining: 0us\n",
      "0:\tlearn: 4011.3357669\ttotal: 73.8ms\tremaining: 11s\n",
      "10:\tlearn: 2165.7921946\ttotal: 662ms\tremaining: 8.36s\n",
      "20:\tlearn: 1941.6186612\ttotal: 1.26s\tremaining: 7.74s\n",
      "30:\tlearn: 1871.0762122\ttotal: 1.91s\tremaining: 7.32s\n",
      "40:\tlearn: 1824.8637874\ttotal: 2.49s\tremaining: 6.63s\n",
      "50:\tlearn: 1794.8206738\ttotal: 3.1s\tremaining: 6.01s\n",
      "60:\tlearn: 1771.7284299\ttotal: 3.7s\tremaining: 5.4s\n",
      "70:\tlearn: 1753.4445789\ttotal: 4.27s\tremaining: 4.75s\n",
      "80:\tlearn: 1737.0328502\ttotal: 4.84s\tremaining: 4.12s\n",
      "90:\tlearn: 1725.1158900\ttotal: 5.42s\tremaining: 3.51s\n",
      "100:\tlearn: 1710.7765582\ttotal: 6s\tremaining: 2.91s\n",
      "110:\tlearn: 1700.1980044\ttotal: 6.64s\tremaining: 2.33s\n",
      "120:\tlearn: 1691.7140906\ttotal: 7.22s\tremaining: 1.73s\n",
      "130:\tlearn: 1682.1689752\ttotal: 7.78s\tremaining: 1.13s\n",
      "140:\tlearn: 1673.5865377\ttotal: 8.38s\tremaining: 535ms\n",
      "149:\tlearn: 1667.6136061\ttotal: 8.89s\tremaining: 0us\n",
      "0:\tlearn: 4039.1769893\ttotal: 67.8ms\tremaining: 10.1s\n",
      "10:\tlearn: 2167.9556707\ttotal: 671ms\tremaining: 8.48s\n",
      "20:\tlearn: 1942.1357485\ttotal: 1.24s\tremaining: 7.64s\n",
      "30:\tlearn: 1876.0883537\ttotal: 1.83s\tremaining: 7.02s\n",
      "40:\tlearn: 1831.0474677\ttotal: 2.4s\tremaining: 6.39s\n",
      "50:\tlearn: 1802.3640422\ttotal: 3s\tremaining: 5.82s\n",
      "60:\tlearn: 1780.0900813\ttotal: 3.55s\tremaining: 5.18s\n",
      "70:\tlearn: 1760.6990859\ttotal: 4.11s\tremaining: 4.58s\n",
      "80:\tlearn: 1745.9841858\ttotal: 4.69s\tremaining: 4s\n",
      "90:\tlearn: 1734.3230886\ttotal: 5.27s\tremaining: 3.42s\n",
      "100:\tlearn: 1722.0448297\ttotal: 5.83s\tremaining: 2.83s\n",
      "110:\tlearn: 1712.0309257\ttotal: 6.37s\tremaining: 2.24s\n",
      "120:\tlearn: 1702.4139179\ttotal: 6.94s\tremaining: 1.66s\n",
      "130:\tlearn: 1693.6709045\ttotal: 7.53s\tremaining: 1.09s\n",
      "140:\tlearn: 1688.0577596\ttotal: 8.11s\tremaining: 518ms\n",
      "149:\tlearn: 1681.9887241\ttotal: 8.6s\tremaining: 0us\n",
      "0:\tlearn: 4002.7107973\ttotal: 72.3ms\tremaining: 10.8s\n",
      "10:\tlearn: 2166.0555286\ttotal: 669ms\tremaining: 8.45s\n",
      "20:\tlearn: 1943.0169859\ttotal: 1.25s\tremaining: 7.68s\n",
      "30:\tlearn: 1875.1762110\ttotal: 1.87s\tremaining: 7.17s\n",
      "40:\tlearn: 1827.5090594\ttotal: 2.45s\tremaining: 6.5s\n",
      "50:\tlearn: 1802.7600487\ttotal: 3.02s\tremaining: 5.87s\n",
      "60:\tlearn: 1781.2761984\ttotal: 3.6s\tremaining: 5.26s\n",
      "70:\tlearn: 1761.6802010\ttotal: 4.21s\tremaining: 4.69s\n",
      "80:\tlearn: 1745.6492508\ttotal: 4.83s\tremaining: 4.12s\n",
      "90:\tlearn: 1731.3111058\ttotal: 5.41s\tremaining: 3.5s\n",
      "100:\tlearn: 1721.1472301\ttotal: 6s\tremaining: 2.91s\n",
      "110:\tlearn: 1710.2686742\ttotal: 6.58s\tremaining: 2.31s\n",
      "120:\tlearn: 1701.8563673\ttotal: 7.15s\tremaining: 1.71s\n",
      "130:\tlearn: 1693.1741008\ttotal: 7.7s\tremaining: 1.12s\n",
      "140:\tlearn: 1683.9770960\ttotal: 8.26s\tremaining: 527ms\n",
      "149:\tlearn: 1677.2697697\ttotal: 8.77s\tremaining: 0us\n",
      "0:\tlearn: 3998.5493350\ttotal: 75.1ms\tremaining: 11.2s\n",
      "10:\tlearn: 2155.0967693\ttotal: 681ms\tremaining: 8.61s\n",
      "20:\tlearn: 1930.4091857\ttotal: 1.25s\tremaining: 7.65s\n",
      "30:\tlearn: 1864.5039860\ttotal: 1.83s\tremaining: 7.04s\n",
      "40:\tlearn: 1817.0883397\ttotal: 2.4s\tremaining: 6.37s\n",
      "50:\tlearn: 1786.2153009\ttotal: 2.96s\tremaining: 5.74s\n",
      "60:\tlearn: 1762.7916600\ttotal: 3.53s\tremaining: 5.15s\n",
      "70:\tlearn: 1745.0188016\ttotal: 4.11s\tremaining: 4.58s\n",
      "80:\tlearn: 1728.2649785\ttotal: 4.69s\tremaining: 4s\n",
      "90:\tlearn: 1716.2839452\ttotal: 5.25s\tremaining: 3.4s\n",
      "100:\tlearn: 1707.9999913\ttotal: 5.79s\tremaining: 2.81s\n",
      "110:\tlearn: 1699.0637263\ttotal: 6.38s\tremaining: 2.24s\n",
      "120:\tlearn: 1690.6061289\ttotal: 6.95s\tremaining: 1.67s\n",
      "130:\tlearn: 1682.4777126\ttotal: 7.51s\tremaining: 1.09s\n",
      "140:\tlearn: 1674.3725054\ttotal: 8.07s\tremaining: 515ms\n",
      "149:\tlearn: 1669.2202504\ttotal: 8.56s\tremaining: 0us\n",
      "0:\tlearn: 3982.0374477\ttotal: 84.2ms\tremaining: 12.5s\n",
      "10:\tlearn: 2051.1851295\ttotal: 854ms\tremaining: 10.8s\n",
      "20:\tlearn: 1838.8814767\ttotal: 1.6s\tremaining: 9.84s\n",
      "30:\tlearn: 1776.7165648\ttotal: 2.35s\tremaining: 9.04s\n",
      "40:\tlearn: 1746.0133339\ttotal: 3.1s\tremaining: 8.24s\n",
      "50:\tlearn: 1714.2742180\ttotal: 3.83s\tremaining: 7.44s\n",
      "60:\tlearn: 1695.6966836\ttotal: 4.59s\tremaining: 6.7s\n",
      "70:\tlearn: 1676.1317996\ttotal: 5.34s\tremaining: 5.94s\n",
      "80:\tlearn: 1662.9779048\ttotal: 6.08s\tremaining: 5.18s\n",
      "90:\tlearn: 1650.4415055\ttotal: 6.83s\tremaining: 4.43s\n",
      "100:\tlearn: 1641.0146919\ttotal: 7.6s\tremaining: 3.69s\n",
      "110:\tlearn: 1633.9439187\ttotal: 8.38s\tremaining: 2.94s\n",
      "120:\tlearn: 1621.4096978\ttotal: 9.22s\tremaining: 2.21s\n",
      "130:\tlearn: 1612.6822556\ttotal: 9.97s\tremaining: 1.45s\n",
      "140:\tlearn: 1603.7832249\ttotal: 10.7s\tremaining: 685ms\n",
      "149:\tlearn: 1596.6519711\ttotal: 11.4s\tremaining: 0us\n",
      "0:\tlearn: 3981.3753223\ttotal: 93.5ms\tremaining: 13.9s\n",
      "10:\tlearn: 2075.2008538\ttotal: 895ms\tremaining: 11.3s\n",
      "20:\tlearn: 1857.3413233\ttotal: 1.68s\tremaining: 10.3s\n",
      "30:\tlearn: 1793.8864623\ttotal: 2.44s\tremaining: 9.38s\n",
      "40:\tlearn: 1755.5606253\ttotal: 3.21s\tremaining: 8.55s\n",
      "50:\tlearn: 1722.6490812\ttotal: 4s\tremaining: 7.76s\n",
      "60:\tlearn: 1699.2810923\ttotal: 4.78s\tremaining: 6.97s\n",
      "70:\tlearn: 1678.7738633\ttotal: 5.56s\tremaining: 6.19s\n",
      "80:\tlearn: 1659.4989258\ttotal: 6.41s\tremaining: 5.46s\n",
      "90:\tlearn: 1646.1390385\ttotal: 7.21s\tremaining: 4.68s\n",
      "100:\tlearn: 1634.0835467\ttotal: 8.01s\tremaining: 3.88s\n",
      "110:\tlearn: 1620.9267371\ttotal: 8.78s\tremaining: 3.08s\n",
      "120:\tlearn: 1609.4511631\ttotal: 9.54s\tremaining: 2.29s\n",
      "130:\tlearn: 1599.4408634\ttotal: 10.3s\tremaining: 1.5s\n",
      "140:\tlearn: 1590.8009133\ttotal: 11s\tremaining: 705ms\n",
      "149:\tlearn: 1586.1691908\ttotal: 11.7s\tremaining: 0us\n",
      "0:\tlearn: 3982.7357003\ttotal: 88.7ms\tremaining: 13.2s\n",
      "10:\tlearn: 2073.1562343\ttotal: 827ms\tremaining: 10.4s\n",
      "20:\tlearn: 1866.3904185\ttotal: 1.54s\tremaining: 9.46s\n",
      "30:\tlearn: 1801.7875222\ttotal: 2.25s\tremaining: 8.66s\n",
      "40:\tlearn: 1753.2787891\ttotal: 2.98s\tremaining: 7.92s\n",
      "50:\tlearn: 1727.8495880\ttotal: 3.7s\tremaining: 7.18s\n",
      "60:\tlearn: 1699.6222545\ttotal: 4.44s\tremaining: 6.47s\n",
      "70:\tlearn: 1679.9494671\ttotal: 5.18s\tremaining: 5.77s\n",
      "80:\tlearn: 1662.3060319\ttotal: 5.91s\tremaining: 5.04s\n",
      "90:\tlearn: 1649.9046168\ttotal: 6.62s\tremaining: 4.29s\n",
      "100:\tlearn: 1637.0118372\ttotal: 7.36s\tremaining: 3.57s\n",
      "110:\tlearn: 1624.2911681\ttotal: 8.1s\tremaining: 2.85s\n",
      "120:\tlearn: 1615.1386052\ttotal: 8.82s\tremaining: 2.11s\n",
      "130:\tlearn: 1606.2510592\ttotal: 9.55s\tremaining: 1.39s\n",
      "140:\tlearn: 1600.0054662\ttotal: 10.3s\tremaining: 655ms\n",
      "149:\tlearn: 1592.2998877\ttotal: 10.9s\tremaining: 0us\n",
      "0:\tlearn: 3972.9633110\ttotal: 95.9ms\tremaining: 14.3s\n",
      "10:\tlearn: 2065.0957105\ttotal: 879ms\tremaining: 11.1s\n",
      "20:\tlearn: 1866.0745548\ttotal: 1.61s\tremaining: 9.88s\n",
      "30:\tlearn: 1803.6544652\ttotal: 2.36s\tremaining: 9.07s\n",
      "40:\tlearn: 1757.9347897\ttotal: 3.13s\tremaining: 8.32s\n",
      "50:\tlearn: 1731.4906146\ttotal: 3.91s\tremaining: 7.59s\n",
      "60:\tlearn: 1706.7792384\ttotal: 4.7s\tremaining: 6.86s\n",
      "70:\tlearn: 1684.5303852\ttotal: 5.58s\tremaining: 6.21s\n",
      "80:\tlearn: 1669.2753549\ttotal: 6.32s\tremaining: 5.39s\n",
      "90:\tlearn: 1653.4425957\ttotal: 7.06s\tremaining: 4.58s\n",
      "100:\tlearn: 1640.4140663\ttotal: 7.81s\tremaining: 3.79s\n",
      "110:\tlearn: 1630.5722833\ttotal: 8.57s\tremaining: 3.01s\n",
      "120:\tlearn: 1617.6415892\ttotal: 9.35s\tremaining: 2.24s\n",
      "130:\tlearn: 1606.2021125\ttotal: 10.2s\tremaining: 1.47s\n",
      "140:\tlearn: 1597.0874170\ttotal: 10.9s\tremaining: 694ms\n",
      "149:\tlearn: 1590.5572398\ttotal: 11.5s\tremaining: 0us\n",
      "0:\tlearn: 3969.1150899\ttotal: 89.7ms\tremaining: 13.4s\n",
      "10:\tlearn: 2056.9835594\ttotal: 847ms\tremaining: 10.7s\n",
      "20:\tlearn: 1849.1389273\ttotal: 1.58s\tremaining: 9.74s\n",
      "30:\tlearn: 1792.7479886\ttotal: 2.31s\tremaining: 8.88s\n",
      "40:\tlearn: 1753.5973556\ttotal: 3.05s\tremaining: 8.12s\n",
      "50:\tlearn: 1719.1741108\ttotal: 3.82s\tremaining: 7.42s\n",
      "60:\tlearn: 1700.0364050\ttotal: 4.56s\tremaining: 6.66s\n",
      "70:\tlearn: 1674.5607732\ttotal: 5.29s\tremaining: 5.89s\n",
      "80:\tlearn: 1654.1368827\ttotal: 6.03s\tremaining: 5.13s\n",
      "90:\tlearn: 1641.3840307\ttotal: 6.77s\tremaining: 4.39s\n",
      "100:\tlearn: 1632.2629995\ttotal: 7.51s\tremaining: 3.64s\n",
      "110:\tlearn: 1621.6330004\ttotal: 8.26s\tremaining: 2.9s\n",
      "120:\tlearn: 1610.8579756\ttotal: 9.03s\tremaining: 2.16s\n",
      "130:\tlearn: 1603.1973109\ttotal: 9.76s\tremaining: 1.42s\n",
      "140:\tlearn: 1592.6666214\ttotal: 10.5s\tremaining: 673ms\n",
      "149:\tlearn: 1587.2780985\ttotal: 11.2s\tremaining: 0us\n",
      "0:\tlearn: 3834.0176870\ttotal: 39.5ms\tremaining: 5.89s\n",
      "10:\tlearn: 2342.3759523\ttotal: 367ms\tremaining: 4.64s\n",
      "20:\tlearn: 2163.4157436\ttotal: 653ms\tremaining: 4.01s\n",
      "30:\tlearn: 2088.1523929\ttotal: 929ms\tremaining: 3.56s\n",
      "40:\tlearn: 2038.0032359\ttotal: 1.24s\tremaining: 3.3s\n",
      "50:\tlearn: 1997.5665236\ttotal: 1.53s\tremaining: 2.97s\n",
      "60:\tlearn: 1971.6958770\ttotal: 1.8s\tremaining: 2.63s\n",
      "70:\tlearn: 1952.3028398\ttotal: 2.07s\tremaining: 2.3s\n",
      "80:\tlearn: 1939.3617379\ttotal: 2.34s\tremaining: 2s\n",
      "90:\tlearn: 1924.1592904\ttotal: 2.62s\tremaining: 1.7s\n",
      "100:\tlearn: 1911.3375073\ttotal: 2.88s\tremaining: 1.4s\n",
      "110:\tlearn: 1899.6592774\ttotal: 3.17s\tremaining: 1.11s\n",
      "120:\tlearn: 1890.7000153\ttotal: 3.45s\tremaining: 828ms\n",
      "130:\tlearn: 1885.7189497\ttotal: 3.75s\tremaining: 544ms\n",
      "140:\tlearn: 1876.3583361\ttotal: 4.04s\tremaining: 258ms\n",
      "149:\tlearn: 1868.2526860\ttotal: 4.3s\tremaining: 0us\n",
      "0:\tlearn: 3834.6009940\ttotal: 39.5ms\tremaining: 5.89s\n",
      "10:\tlearn: 2385.4044158\ttotal: 365ms\tremaining: 4.61s\n",
      "20:\tlearn: 2187.4558178\ttotal: 650ms\tremaining: 3.99s\n",
      "30:\tlearn: 2112.7660021\ttotal: 934ms\tremaining: 3.58s\n",
      "40:\tlearn: 2058.6856645\ttotal: 1.22s\tremaining: 3.25s\n",
      "50:\tlearn: 2014.3334910\ttotal: 1.51s\tremaining: 2.94s\n",
      "60:\tlearn: 1979.1265875\ttotal: 1.82s\tremaining: 2.65s\n",
      "70:\tlearn: 1958.1343037\ttotal: 2.11s\tremaining: 2.35s\n",
      "80:\tlearn: 1942.1380046\ttotal: 2.41s\tremaining: 2.05s\n",
      "90:\tlearn: 1925.4223288\ttotal: 2.71s\tremaining: 1.76s\n",
      "100:\tlearn: 1912.8692595\ttotal: 3.02s\tremaining: 1.46s\n",
      "110:\tlearn: 1901.1891637\ttotal: 3.32s\tremaining: 1.17s\n",
      "120:\tlearn: 1892.9295596\ttotal: 3.62s\tremaining: 869ms\n",
      "130:\tlearn: 1882.6894665\ttotal: 3.92s\tremaining: 568ms\n",
      "140:\tlearn: 1874.4792629\ttotal: 4.21s\tremaining: 269ms\n",
      "149:\tlearn: 1869.6552770\ttotal: 4.48s\tremaining: 0us\n",
      "0:\tlearn: 3850.8976083\ttotal: 40.7ms\tremaining: 6.06s\n",
      "10:\tlearn: 2360.2128624\ttotal: 368ms\tremaining: 4.65s\n",
      "20:\tlearn: 2186.1330559\ttotal: 656ms\tremaining: 4.03s\n",
      "30:\tlearn: 2106.9176873\ttotal: 934ms\tremaining: 3.58s\n",
      "40:\tlearn: 2061.9257357\ttotal: 1.23s\tremaining: 3.26s\n",
      "50:\tlearn: 2027.7290749\ttotal: 1.52s\tremaining: 2.95s\n",
      "60:\tlearn: 1992.4000095\ttotal: 1.81s\tremaining: 2.64s\n",
      "70:\tlearn: 1971.0188541\ttotal: 2.1s\tremaining: 2.34s\n",
      "80:\tlearn: 1952.6206548\ttotal: 2.39s\tremaining: 2.04s\n",
      "90:\tlearn: 1938.4793499\ttotal: 2.68s\tremaining: 1.74s\n",
      "100:\tlearn: 1925.8597204\ttotal: 2.96s\tremaining: 1.44s\n",
      "110:\tlearn: 1913.6521324\ttotal: 3.24s\tremaining: 1.14s\n",
      "120:\tlearn: 1902.3914873\ttotal: 3.52s\tremaining: 844ms\n",
      "130:\tlearn: 1896.5157592\ttotal: 3.8s\tremaining: 551ms\n",
      "140:\tlearn: 1887.3476356\ttotal: 4.07s\tremaining: 260ms\n",
      "149:\tlearn: 1879.0436007\ttotal: 4.32s\tremaining: 0us\n",
      "0:\tlearn: 3832.3640290\ttotal: 37.8ms\tremaining: 5.63s\n",
      "10:\tlearn: 2343.6363808\ttotal: 348ms\tremaining: 4.4s\n",
      "20:\tlearn: 2163.3547226\ttotal: 633ms\tremaining: 3.89s\n",
      "30:\tlearn: 2083.2316569\ttotal: 907ms\tremaining: 3.48s\n",
      "40:\tlearn: 2032.7768833\ttotal: 1.17s\tremaining: 3.12s\n",
      "50:\tlearn: 1995.7249430\ttotal: 1.44s\tremaining: 2.79s\n",
      "60:\tlearn: 1973.1395238\ttotal: 1.71s\tremaining: 2.5s\n",
      "70:\tlearn: 1954.3569141\ttotal: 1.99s\tremaining: 2.21s\n",
      "80:\tlearn: 1939.5553012\ttotal: 2.26s\tremaining: 1.93s\n",
      "90:\tlearn: 1926.9817107\ttotal: 2.54s\tremaining: 1.65s\n",
      "100:\tlearn: 1913.3424350\ttotal: 2.81s\tremaining: 1.36s\n",
      "110:\tlearn: 1903.0507414\ttotal: 3.07s\tremaining: 1.08s\n",
      "120:\tlearn: 1894.8429131\ttotal: 3.33s\tremaining: 799ms\n",
      "130:\tlearn: 1885.9658606\ttotal: 3.62s\tremaining: 526ms\n",
      "140:\tlearn: 1877.4927820\ttotal: 3.9s\tremaining: 249ms\n",
      "149:\tlearn: 1871.8832348\ttotal: 4.24s\tremaining: 0us\n",
      "0:\tlearn: 3822.5715580\ttotal: 39.4ms\tremaining: 5.87s\n",
      "10:\tlearn: 2375.7196810\ttotal: 344ms\tremaining: 4.35s\n",
      "20:\tlearn: 2176.7962933\ttotal: 622ms\tremaining: 3.82s\n",
      "30:\tlearn: 2095.0667324\ttotal: 903ms\tremaining: 3.47s\n",
      "40:\tlearn: 2037.9216968\ttotal: 1.17s\tremaining: 3.12s\n",
      "50:\tlearn: 2004.8128598\ttotal: 1.45s\tremaining: 2.81s\n",
      "60:\tlearn: 1972.8654820\ttotal: 1.72s\tremaining: 2.51s\n",
      "70:\tlearn: 1953.3129128\ttotal: 2.01s\tremaining: 2.24s\n",
      "80:\tlearn: 1936.2436012\ttotal: 2.27s\tremaining: 1.94s\n",
      "90:\tlearn: 1920.5538818\ttotal: 2.54s\tremaining: 1.65s\n",
      "100:\tlearn: 1907.0845140\ttotal: 2.81s\tremaining: 1.36s\n",
      "110:\tlearn: 1896.7193442\ttotal: 3.08s\tremaining: 1.08s\n",
      "120:\tlearn: 1887.5445657\ttotal: 3.34s\tremaining: 801ms\n",
      "130:\tlearn: 1880.1913441\ttotal: 3.62s\tremaining: 525ms\n",
      "140:\tlearn: 1875.0076463\ttotal: 3.91s\tremaining: 249ms\n",
      "149:\tlearn: 1866.9674217\ttotal: 4.15s\tremaining: 0us\n",
      "0:\tlearn: 3643.4090703\ttotal: 51.9ms\tremaining: 7.73s\n",
      "10:\tlearn: 2092.6624117\ttotal: 502ms\tremaining: 6.34s\n",
      "20:\tlearn: 1960.7772553\ttotal: 929ms\tremaining: 5.71s\n",
      "30:\tlearn: 1895.7196042\ttotal: 1.35s\tremaining: 5.19s\n",
      "40:\tlearn: 1857.7774242\ttotal: 1.88s\tremaining: 5s\n",
      "50:\tlearn: 1826.8227037\ttotal: 2.31s\tremaining: 4.48s\n",
      "60:\tlearn: 1807.7561062\ttotal: 2.73s\tremaining: 3.99s\n",
      "70:\tlearn: 1788.6527935\ttotal: 3.18s\tremaining: 3.54s\n",
      "80:\tlearn: 1772.5816235\ttotal: 3.62s\tremaining: 3.08s\n",
      "90:\tlearn: 1763.6046582\ttotal: 4.05s\tremaining: 2.62s\n",
      "100:\tlearn: 1751.8058960\ttotal: 4.48s\tremaining: 2.17s\n",
      "110:\tlearn: 1742.3238068\ttotal: 4.92s\tremaining: 1.73s\n",
      "120:\tlearn: 1735.3559313\ttotal: 5.42s\tremaining: 1.3s\n",
      "130:\tlearn: 1728.8630788\ttotal: 5.91s\tremaining: 857ms\n",
      "140:\tlearn: 1722.0530440\ttotal: 6.38s\tremaining: 407ms\n",
      "149:\tlearn: 1716.0878167\ttotal: 6.82s\tremaining: 0us\n",
      "0:\tlearn: 3622.4218598\ttotal: 57.6ms\tremaining: 8.59s\n",
      "10:\tlearn: 2075.5760561\ttotal: 536ms\tremaining: 6.77s\n",
      "20:\tlearn: 1952.0508231\ttotal: 970ms\tremaining: 5.96s\n",
      "30:\tlearn: 1895.0166687\ttotal: 1.39s\tremaining: 5.35s\n",
      "40:\tlearn: 1857.8589391\ttotal: 1.83s\tremaining: 4.86s\n",
      "50:\tlearn: 1833.7499618\ttotal: 2.25s\tremaining: 4.37s\n",
      "60:\tlearn: 1809.0454255\ttotal: 2.67s\tremaining: 3.9s\n",
      "70:\tlearn: 1790.8113215\ttotal: 3.1s\tremaining: 3.44s\n",
      "80:\tlearn: 1780.3804816\ttotal: 3.53s\tremaining: 3.01s\n",
      "90:\tlearn: 1767.9519093\ttotal: 3.98s\tremaining: 2.58s\n",
      "100:\tlearn: 1755.5684365\ttotal: 4.46s\tremaining: 2.17s\n",
      "110:\tlearn: 1747.2506075\ttotal: 4.9s\tremaining: 1.72s\n",
      "120:\tlearn: 1739.0813877\ttotal: 5.34s\tremaining: 1.28s\n",
      "130:\tlearn: 1732.9076393\ttotal: 5.79s\tremaining: 840ms\n",
      "140:\tlearn: 1725.8497027\ttotal: 6.26s\tremaining: 400ms\n",
      "149:\tlearn: 1719.2876940\ttotal: 6.65s\tremaining: 0us\n",
      "0:\tlearn: 3655.1647946\ttotal: 52.5ms\tremaining: 7.83s\n",
      "10:\tlearn: 2090.2802412\ttotal: 519ms\tremaining: 6.56s\n",
      "20:\tlearn: 1977.8066588\ttotal: 935ms\tremaining: 5.74s\n",
      "30:\tlearn: 1900.4598825\ttotal: 1.36s\tremaining: 5.21s\n",
      "40:\tlearn: 1862.0224646\ttotal: 1.78s\tremaining: 4.72s\n",
      "50:\tlearn: 1832.3453027\ttotal: 2.18s\tremaining: 4.24s\n",
      "60:\tlearn: 1811.2448505\ttotal: 2.62s\tremaining: 3.82s\n",
      "70:\tlearn: 1795.7122811\ttotal: 3.05s\tremaining: 3.39s\n",
      "80:\tlearn: 1779.2673377\ttotal: 3.47s\tremaining: 2.96s\n",
      "90:\tlearn: 1767.8642545\ttotal: 3.92s\tremaining: 2.54s\n",
      "100:\tlearn: 1758.0592962\ttotal: 4.33s\tremaining: 2.1s\n",
      "110:\tlearn: 1751.1645823\ttotal: 4.85s\tremaining: 1.7s\n",
      "120:\tlearn: 1743.5933299\ttotal: 5.26s\tremaining: 1.26s\n",
      "130:\tlearn: 1735.0800381\ttotal: 5.68s\tremaining: 824ms\n",
      "140:\tlearn: 1729.3254166\ttotal: 6.09s\tremaining: 389ms\n",
      "149:\tlearn: 1724.9626860\ttotal: 6.59s\tremaining: 0us\n",
      "0:\tlearn: 3618.5726341\ttotal: 56.9ms\tremaining: 8.47s\n",
      "10:\tlearn: 2087.0492578\ttotal: 500ms\tremaining: 6.32s\n",
      "20:\tlearn: 1954.6913185\ttotal: 925ms\tremaining: 5.68s\n",
      "30:\tlearn: 1894.7461677\ttotal: 1.35s\tremaining: 5.19s\n",
      "40:\tlearn: 1861.1645393\ttotal: 1.77s\tremaining: 4.72s\n",
      "50:\tlearn: 1830.8645105\ttotal: 2.18s\tremaining: 4.24s\n",
      "60:\tlearn: 1808.3560039\ttotal: 2.61s\tremaining: 3.81s\n",
      "70:\tlearn: 1791.2459705\ttotal: 3.04s\tremaining: 3.38s\n",
      "80:\tlearn: 1779.5871327\ttotal: 3.45s\tremaining: 2.94s\n",
      "90:\tlearn: 1769.7875612\ttotal: 3.89s\tremaining: 2.52s\n",
      "100:\tlearn: 1757.7712534\ttotal: 4.32s\tremaining: 2.1s\n",
      "110:\tlearn: 1749.0989003\ttotal: 4.78s\tremaining: 1.68s\n",
      "120:\tlearn: 1742.2044466\ttotal: 5.21s\tremaining: 1.25s\n",
      "130:\tlearn: 1734.2447804\ttotal: 5.74s\tremaining: 832ms\n",
      "140:\tlearn: 1727.4310919\ttotal: 6.19s\tremaining: 395ms\n",
      "149:\tlearn: 1722.4268329\ttotal: 6.58s\tremaining: 0us\n",
      "0:\tlearn: 3611.1634357\ttotal: 58.6ms\tremaining: 8.73s\n",
      "10:\tlearn: 2075.9338072\ttotal: 514ms\tremaining: 6.49s\n",
      "20:\tlearn: 1948.5045282\ttotal: 954ms\tremaining: 5.86s\n",
      "30:\tlearn: 1888.3805266\ttotal: 1.38s\tremaining: 5.29s\n",
      "40:\tlearn: 1854.9117641\ttotal: 1.82s\tremaining: 4.85s\n",
      "50:\tlearn: 1826.4677698\ttotal: 2.27s\tremaining: 4.41s\n",
      "60:\tlearn: 1804.3752559\ttotal: 2.7s\tremaining: 3.94s\n",
      "70:\tlearn: 1787.6031585\ttotal: 3.13s\tremaining: 3.48s\n",
      "80:\tlearn: 1775.0711353\ttotal: 3.56s\tremaining: 3.03s\n",
      "90:\tlearn: 1764.6700852\ttotal: 4.01s\tremaining: 2.6s\n",
      "100:\tlearn: 1752.2973262\ttotal: 4.45s\tremaining: 2.16s\n",
      "110:\tlearn: 1741.7379352\ttotal: 4.9s\tremaining: 1.72s\n",
      "120:\tlearn: 1734.7984997\ttotal: 5.35s\tremaining: 1.28s\n",
      "130:\tlearn: 1726.1705375\ttotal: 5.79s\tremaining: 840ms\n",
      "140:\tlearn: 1722.6448245\ttotal: 6.25s\tremaining: 399ms\n",
      "149:\tlearn: 1715.0724239\ttotal: 6.65s\tremaining: 0us\n",
      "0:\tlearn: 3535.6706712\ttotal: 67.4ms\tremaining: 10s\n",
      "10:\tlearn: 1953.5534018\ttotal: 777ms\tremaining: 9.82s\n",
      "20:\tlearn: 1840.8064325\ttotal: 1.5s\tremaining: 9.25s\n",
      "30:\tlearn: 1790.3019557\ttotal: 2.12s\tremaining: 8.15s\n",
      "40:\tlearn: 1754.0415283\ttotal: 2.73s\tremaining: 7.27s\n",
      "50:\tlearn: 1727.9497206\ttotal: 3.34s\tremaining: 6.48s\n",
      "60:\tlearn: 1708.6052931\ttotal: 3.94s\tremaining: 5.75s\n",
      "70:\tlearn: 1694.7852583\ttotal: 4.75s\tremaining: 5.29s\n",
      "80:\tlearn: 1681.4462204\ttotal: 5.56s\tremaining: 4.73s\n",
      "90:\tlearn: 1671.3640826\ttotal: 6.16s\tremaining: 3.99s\n",
      "100:\tlearn: 1660.9860458\ttotal: 6.76s\tremaining: 3.28s\n",
      "110:\tlearn: 1649.8064147\ttotal: 7.34s\tremaining: 2.58s\n",
      "120:\tlearn: 1641.8821928\ttotal: 7.93s\tremaining: 1.9s\n",
      "130:\tlearn: 1634.0625243\ttotal: 8.51s\tremaining: 1.23s\n",
      "140:\tlearn: 1626.5467702\ttotal: 9.1s\tremaining: 581ms\n",
      "149:\tlearn: 1621.2841449\ttotal: 9.73s\tremaining: 0us\n",
      "0:\tlearn: 3491.2674032\ttotal: 71.5ms\tremaining: 10.6s\n",
      "10:\tlearn: 1960.7332587\ttotal: 671ms\tremaining: 8.48s\n",
      "20:\tlearn: 1855.0163091\ttotal: 1.23s\tremaining: 7.58s\n",
      "30:\tlearn: 1799.3075480\ttotal: 1.81s\tremaining: 6.96s\n",
      "40:\tlearn: 1760.3291194\ttotal: 2.39s\tremaining: 6.37s\n",
      "50:\tlearn: 1729.7674582\ttotal: 2.96s\tremaining: 5.76s\n",
      "60:\tlearn: 1714.9158885\ttotal: 3.53s\tremaining: 5.15s\n",
      "70:\tlearn: 1696.5713602\ttotal: 4.08s\tremaining: 4.54s\n",
      "80:\tlearn: 1680.6301606\ttotal: 4.67s\tremaining: 3.98s\n",
      "90:\tlearn: 1662.9903996\ttotal: 5.24s\tremaining: 3.4s\n",
      "100:\tlearn: 1654.5303047\ttotal: 5.89s\tremaining: 2.86s\n",
      "110:\tlearn: 1643.0820825\ttotal: 6.46s\tremaining: 2.27s\n",
      "120:\tlearn: 1635.0517214\ttotal: 7.04s\tremaining: 1.69s\n",
      "130:\tlearn: 1628.4054601\ttotal: 7.62s\tremaining: 1.1s\n",
      "140:\tlearn: 1621.7143911\ttotal: 8.18s\tremaining: 522ms\n",
      "149:\tlearn: 1615.5777154\ttotal: 8.69s\tremaining: 0us\n",
      "0:\tlearn: 3546.8397429\ttotal: 74.4ms\tremaining: 11.1s\n",
      "10:\tlearn: 1970.0074718\ttotal: 669ms\tremaining: 8.46s\n",
      "20:\tlearn: 1866.7461567\ttotal: 1.24s\tremaining: 7.63s\n",
      "30:\tlearn: 1804.1733920\ttotal: 1.81s\tremaining: 6.96s\n",
      "40:\tlearn: 1764.3337436\ttotal: 2.4s\tremaining: 6.39s\n",
      "50:\tlearn: 1737.1320908\ttotal: 2.97s\tremaining: 5.76s\n",
      "60:\tlearn: 1713.4774441\ttotal: 3.54s\tremaining: 5.17s\n",
      "70:\tlearn: 1695.5914500\ttotal: 4.11s\tremaining: 4.57s\n",
      "80:\tlearn: 1678.5982080\ttotal: 4.77s\tremaining: 4.07s\n",
      "90:\tlearn: 1666.4601938\ttotal: 5.35s\tremaining: 3.47s\n",
      "100:\tlearn: 1656.4951833\ttotal: 5.92s\tremaining: 2.87s\n",
      "110:\tlearn: 1645.7752272\ttotal: 6.54s\tremaining: 2.3s\n",
      "120:\tlearn: 1636.5378879\ttotal: 7.1s\tremaining: 1.7s\n",
      "130:\tlearn: 1629.4279649\ttotal: 7.68s\tremaining: 1.11s\n",
      "140:\tlearn: 1620.4834944\ttotal: 8.27s\tremaining: 528ms\n",
      "149:\tlearn: 1614.2252598\ttotal: 8.79s\tremaining: 0us\n",
      "0:\tlearn: 3482.7811658\ttotal: 76ms\tremaining: 11.3s\n",
      "10:\tlearn: 1964.8509795\ttotal: 684ms\tremaining: 8.64s\n",
      "20:\tlearn: 1851.7913611\ttotal: 1.26s\tremaining: 7.74s\n",
      "30:\tlearn: 1803.1828371\ttotal: 1.84s\tremaining: 7.05s\n",
      "40:\tlearn: 1763.6471741\ttotal: 2.4s\tremaining: 6.39s\n",
      "50:\tlearn: 1737.8910178\ttotal: 2.99s\tremaining: 5.8s\n",
      "60:\tlearn: 1718.2482760\ttotal: 3.57s\tremaining: 5.21s\n",
      "70:\tlearn: 1700.8597567\ttotal: 4.27s\tremaining: 4.75s\n",
      "80:\tlearn: 1688.0181236\ttotal: 4.87s\tremaining: 4.15s\n",
      "90:\tlearn: 1675.5815312\ttotal: 5.46s\tremaining: 3.54s\n",
      "100:\tlearn: 1664.5958522\ttotal: 6.25s\tremaining: 3.03s\n",
      "110:\tlearn: 1653.1386298\ttotal: 6.87s\tremaining: 2.41s\n",
      "120:\tlearn: 1645.1643312\ttotal: 7.44s\tremaining: 1.78s\n",
      "130:\tlearn: 1638.3436007\ttotal: 7.99s\tremaining: 1.16s\n",
      "140:\tlearn: 1632.3097972\ttotal: 8.54s\tremaining: 545ms\n",
      "149:\tlearn: 1625.6382209\ttotal: 9.05s\tremaining: 0us\n",
      "0:\tlearn: 3479.6268498\ttotal: 77.3ms\tremaining: 11.5s\n",
      "10:\tlearn: 1937.4804257\ttotal: 695ms\tremaining: 8.78s\n",
      "20:\tlearn: 1834.4127868\ttotal: 1.3s\tremaining: 8s\n",
      "30:\tlearn: 1788.5895201\ttotal: 1.87s\tremaining: 7.17s\n",
      "40:\tlearn: 1745.3121205\ttotal: 2.43s\tremaining: 6.46s\n",
      "50:\tlearn: 1719.2276077\ttotal: 3s\tremaining: 5.82s\n",
      "60:\tlearn: 1702.0491953\ttotal: 3.59s\tremaining: 5.23s\n",
      "70:\tlearn: 1685.0962188\ttotal: 4.16s\tremaining: 4.63s\n",
      "80:\tlearn: 1672.0490775\ttotal: 4.74s\tremaining: 4.04s\n",
      "90:\tlearn: 1661.3535194\ttotal: 5.33s\tremaining: 3.46s\n",
      "100:\tlearn: 1651.6738552\ttotal: 6s\tremaining: 2.91s\n",
      "110:\tlearn: 1645.4835312\ttotal: 6.57s\tremaining: 2.31s\n",
      "120:\tlearn: 1632.2734380\ttotal: 7.13s\tremaining: 1.71s\n",
      "130:\tlearn: 1626.1874248\ttotal: 7.7s\tremaining: 1.12s\n",
      "140:\tlearn: 1616.7626871\ttotal: 8.27s\tremaining: 528ms\n",
      "149:\tlearn: 1609.6995078\ttotal: 8.79s\tremaining: 0us\n",
      "0:\tlearn: 3430.0287629\ttotal: 88.8ms\tremaining: 13.2s\n",
      "10:\tlearn: 1853.9060680\ttotal: 898ms\tremaining: 11.3s\n",
      "20:\tlearn: 1758.7920440\ttotal: 1.67s\tremaining: 10.3s\n",
      "30:\tlearn: 1708.5943782\ttotal: 2.44s\tremaining: 9.36s\n",
      "40:\tlearn: 1670.5341720\ttotal: 3.23s\tremaining: 8.6s\n",
      "50:\tlearn: 1642.5677718\ttotal: 3.99s\tremaining: 7.75s\n",
      "60:\tlearn: 1619.9689421\ttotal: 4.74s\tremaining: 6.92s\n",
      "70:\tlearn: 1604.0132522\ttotal: 5.54s\tremaining: 6.16s\n",
      "80:\tlearn: 1591.3059218\ttotal: 6.33s\tremaining: 5.39s\n",
      "90:\tlearn: 1576.5404585\ttotal: 7.12s\tremaining: 4.62s\n",
      "100:\tlearn: 1564.4689029\ttotal: 7.98s\tremaining: 3.87s\n",
      "110:\tlearn: 1554.2578285\ttotal: 8.76s\tremaining: 3.08s\n",
      "120:\tlearn: 1543.5321925\ttotal: 9.64s\tremaining: 2.31s\n",
      "130:\tlearn: 1532.5142967\ttotal: 10.5s\tremaining: 1.52s\n",
      "140:\tlearn: 1524.3379593\ttotal: 11.3s\tremaining: 723ms\n",
      "149:\tlearn: 1517.3802316\ttotal: 12s\tremaining: 0us\n",
      "0:\tlearn: 3429.7037334\ttotal: 86ms\tremaining: 12.8s\n",
      "10:\tlearn: 1868.0345015\ttotal: 833ms\tremaining: 10.5s\n",
      "20:\tlearn: 1779.0545859\ttotal: 1.56s\tremaining: 9.57s\n",
      "30:\tlearn: 1722.4624790\ttotal: 2.27s\tremaining: 8.73s\n",
      "40:\tlearn: 1675.9336644\ttotal: 3s\tremaining: 7.98s\n",
      "50:\tlearn: 1646.9734589\ttotal: 3.73s\tremaining: 7.24s\n",
      "60:\tlearn: 1626.6093740\ttotal: 4.49s\tremaining: 6.56s\n",
      "70:\tlearn: 1606.9103599\ttotal: 5.25s\tremaining: 5.84s\n",
      "80:\tlearn: 1585.4193281\ttotal: 6s\tremaining: 5.11s\n",
      "90:\tlearn: 1571.2921384\ttotal: 6.75s\tremaining: 4.38s\n",
      "100:\tlearn: 1557.3047655\ttotal: 7.48s\tremaining: 3.63s\n",
      "110:\tlearn: 1545.0221471\ttotal: 8.2s\tremaining: 2.88s\n",
      "120:\tlearn: 1530.5549109\ttotal: 8.94s\tremaining: 2.14s\n",
      "130:\tlearn: 1521.6689644\ttotal: 9.67s\tremaining: 1.4s\n",
      "140:\tlearn: 1512.0976121\ttotal: 10.4s\tremaining: 664ms\n",
      "149:\tlearn: 1504.2676882\ttotal: 11.1s\tremaining: 0us\n",
      "0:\tlearn: 3431.3141293\ttotal: 85.8ms\tremaining: 12.8s\n",
      "10:\tlearn: 1877.8277471\ttotal: 827ms\tremaining: 10.4s\n",
      "20:\tlearn: 1776.1650915\ttotal: 1.57s\tremaining: 9.65s\n",
      "30:\tlearn: 1714.7974437\ttotal: 2.31s\tremaining: 8.85s\n",
      "40:\tlearn: 1679.8142706\ttotal: 3.08s\tremaining: 8.18s\n",
      "50:\tlearn: 1653.9896946\ttotal: 3.87s\tremaining: 7.5s\n",
      "60:\tlearn: 1627.6812952\ttotal: 4.64s\tremaining: 6.77s\n",
      "70:\tlearn: 1614.4284082\ttotal: 5.43s\tremaining: 6.04s\n",
      "80:\tlearn: 1598.6437723\ttotal: 6.19s\tremaining: 5.27s\n",
      "90:\tlearn: 1583.2569340\ttotal: 6.93s\tremaining: 4.5s\n",
      "100:\tlearn: 1571.9460976\ttotal: 7.68s\tremaining: 3.73s\n",
      "110:\tlearn: 1558.3009138\ttotal: 8.43s\tremaining: 2.96s\n",
      "120:\tlearn: 1545.7348132\ttotal: 9.15s\tremaining: 2.19s\n",
      "130:\tlearn: 1532.6447349\ttotal: 9.88s\tremaining: 1.43s\n",
      "140:\tlearn: 1522.7167389\ttotal: 10.6s\tremaining: 676ms\n",
      "149:\tlearn: 1516.0372301\ttotal: 11.3s\tremaining: 0us\n",
      "0:\tlearn: 3421.6307184\ttotal: 95.9ms\tremaining: 14.3s\n",
      "10:\tlearn: 1868.2821150\ttotal: 846ms\tremaining: 10.7s\n",
      "20:\tlearn: 1774.2214789\ttotal: 1.56s\tremaining: 9.62s\n",
      "30:\tlearn: 1728.0673525\ttotal: 2.29s\tremaining: 8.81s\n",
      "40:\tlearn: 1685.4691713\ttotal: 3.05s\tremaining: 8.1s\n",
      "50:\tlearn: 1650.7804697\ttotal: 3.78s\tremaining: 7.34s\n",
      "60:\tlearn: 1629.4004265\ttotal: 4.5s\tremaining: 6.56s\n",
      "70:\tlearn: 1609.3003572\ttotal: 5.25s\tremaining: 5.84s\n",
      "80:\tlearn: 1591.3612603\ttotal: 5.99s\tremaining: 5.11s\n",
      "90:\tlearn: 1577.9162116\ttotal: 6.72s\tremaining: 4.35s\n",
      "100:\tlearn: 1566.9400255\ttotal: 7.41s\tremaining: 3.6s\n",
      "110:\tlearn: 1554.5686261\ttotal: 8.11s\tremaining: 2.85s\n",
      "120:\tlearn: 1544.2221947\ttotal: 8.82s\tremaining: 2.11s\n",
      "130:\tlearn: 1532.9701601\ttotal: 9.57s\tremaining: 1.39s\n",
      "140:\tlearn: 1523.7466247\ttotal: 10.3s\tremaining: 659ms\n",
      "149:\tlearn: 1516.1149371\ttotal: 11s\tremaining: 0us\n",
      "0:\tlearn: 3419.1354209\ttotal: 89.5ms\tremaining: 13.3s\n",
      "10:\tlearn: 1864.1356405\ttotal: 866ms\tremaining: 10.9s\n",
      "20:\tlearn: 1764.4572523\ttotal: 1.62s\tremaining: 9.93s\n",
      "30:\tlearn: 1704.1032165\ttotal: 2.38s\tremaining: 9.13s\n",
      "40:\tlearn: 1667.9967838\ttotal: 3.12s\tremaining: 8.28s\n",
      "50:\tlearn: 1641.0078023\ttotal: 3.84s\tremaining: 7.46s\n",
      "60:\tlearn: 1619.8235734\ttotal: 4.6s\tremaining: 6.71s\n",
      "70:\tlearn: 1599.0346412\ttotal: 5.48s\tremaining: 6.1s\n",
      "80:\tlearn: 1583.5544842\ttotal: 6.24s\tremaining: 5.31s\n",
      "90:\tlearn: 1572.5115952\ttotal: 7s\tremaining: 4.54s\n",
      "100:\tlearn: 1561.5303208\ttotal: 7.75s\tremaining: 3.76s\n",
      "110:\tlearn: 1546.3994811\ttotal: 8.51s\tremaining: 2.99s\n",
      "120:\tlearn: 1537.6076483\ttotal: 9.26s\tremaining: 2.22s\n",
      "130:\tlearn: 1527.3401602\ttotal: 10s\tremaining: 1.45s\n",
      "140:\tlearn: 1514.3189470\ttotal: 10.8s\tremaining: 688ms\n",
      "149:\tlearn: 1506.1903913\ttotal: 11.5s\tremaining: 0us\n",
      "0:\tlearn: 3562.9777381\ttotal: 37ms\tremaining: 5.52s\n",
      "10:\tlearn: 2307.1646794\ttotal: 351ms\tremaining: 4.44s\n",
      "20:\tlearn: 2139.8267222\ttotal: 646ms\tremaining: 3.97s\n",
      "30:\tlearn: 2051.3623887\ttotal: 938ms\tremaining: 3.6s\n",
      "40:\tlearn: 2005.3457215\ttotal: 1.22s\tremaining: 3.25s\n",
      "50:\tlearn: 1969.8135333\ttotal: 1.51s\tremaining: 2.94s\n",
      "60:\tlearn: 1944.6557401\ttotal: 1.79s\tremaining: 2.61s\n",
      "70:\tlearn: 1924.5174606\ttotal: 2.07s\tremaining: 2.3s\n",
      "80:\tlearn: 1906.8966239\ttotal: 2.36s\tremaining: 2.01s\n",
      "90:\tlearn: 1891.3421525\ttotal: 2.64s\tremaining: 1.71s\n",
      "100:\tlearn: 1880.4062172\ttotal: 2.92s\tremaining: 1.42s\n",
      "110:\tlearn: 1871.8522988\ttotal: 3.2s\tremaining: 1.12s\n",
      "120:\tlearn: 1862.6544501\ttotal: 3.48s\tremaining: 834ms\n",
      "130:\tlearn: 1854.1910838\ttotal: 3.76s\tremaining: 546ms\n",
      "140:\tlearn: 1845.8615664\ttotal: 4.05s\tremaining: 258ms\n",
      "149:\tlearn: 1840.8197430\ttotal: 4.3s\tremaining: 0us\n",
      "0:\tlearn: 3564.2209457\ttotal: 38.9ms\tremaining: 5.8s\n",
      "10:\tlearn: 2322.2337498\ttotal: 352ms\tremaining: 4.45s\n",
      "20:\tlearn: 2130.0764351\ttotal: 633ms\tremaining: 3.89s\n",
      "30:\tlearn: 2051.1487237\ttotal: 913ms\tremaining: 3.5s\n",
      "40:\tlearn: 2001.0432435\ttotal: 1.19s\tremaining: 3.15s\n",
      "50:\tlearn: 1970.8163705\ttotal: 1.47s\tremaining: 2.85s\n",
      "60:\tlearn: 1947.8207962\ttotal: 1.74s\tremaining: 2.54s\n",
      "70:\tlearn: 1926.4418390\ttotal: 2.01s\tremaining: 2.23s\n",
      "80:\tlearn: 1910.1281450\ttotal: 2.27s\tremaining: 1.94s\n",
      "90:\tlearn: 1897.9828131\ttotal: 2.56s\tremaining: 1.66s\n",
      "100:\tlearn: 1883.8512994\ttotal: 2.85s\tremaining: 1.38s\n",
      "110:\tlearn: 1875.7097755\ttotal: 3.13s\tremaining: 1.1s\n",
      "120:\tlearn: 1864.7996728\ttotal: 3.41s\tremaining: 817ms\n",
      "130:\tlearn: 1854.8166198\ttotal: 3.69s\tremaining: 535ms\n",
      "140:\tlearn: 1848.5945544\ttotal: 3.96s\tremaining: 253ms\n",
      "149:\tlearn: 1843.6434787\ttotal: 4.2s\tremaining: 0us\n",
      "0:\tlearn: 3586.7594845\ttotal: 37.6ms\tremaining: 5.6s\n",
      "10:\tlearn: 2316.6020773\ttotal: 346ms\tremaining: 4.38s\n",
      "20:\tlearn: 2163.4896168\ttotal: 614ms\tremaining: 3.77s\n",
      "30:\tlearn: 2075.1594806\ttotal: 893ms\tremaining: 3.43s\n",
      "40:\tlearn: 2035.0292524\ttotal: 1.18s\tremaining: 3.14s\n",
      "50:\tlearn: 1991.3172327\ttotal: 1.47s\tremaining: 2.84s\n",
      "60:\tlearn: 1960.3940953\ttotal: 1.75s\tremaining: 2.55s\n",
      "70:\tlearn: 1938.6005462\ttotal: 2.03s\tremaining: 2.26s\n",
      "80:\tlearn: 1919.9890927\ttotal: 2.31s\tremaining: 1.97s\n",
      "90:\tlearn: 1904.9866304\ttotal: 2.59s\tremaining: 1.68s\n",
      "100:\tlearn: 1891.4279662\ttotal: 2.87s\tremaining: 1.39s\n",
      "110:\tlearn: 1883.1282661\ttotal: 3.14s\tremaining: 1.1s\n",
      "120:\tlearn: 1873.2983321\ttotal: 3.4s\tremaining: 816ms\n",
      "130:\tlearn: 1864.2060685\ttotal: 3.67s\tremaining: 532ms\n",
      "140:\tlearn: 1858.7564730\ttotal: 3.94s\tremaining: 252ms\n",
      "149:\tlearn: 1852.0059936\ttotal: 4.18s\tremaining: 0us\n",
      "0:\tlearn: 3564.6633058\ttotal: 38.9ms\tremaining: 5.8s\n",
      "10:\tlearn: 2325.2676186\ttotal: 354ms\tremaining: 4.48s\n",
      "20:\tlearn: 2136.3840582\ttotal: 640ms\tremaining: 3.93s\n",
      "30:\tlearn: 2063.4249334\ttotal: 932ms\tremaining: 3.58s\n",
      "40:\tlearn: 2026.0922437\ttotal: 1.22s\tremaining: 3.24s\n",
      "50:\tlearn: 1978.8036229\ttotal: 1.49s\tremaining: 2.89s\n",
      "60:\tlearn: 1957.5658277\ttotal: 1.77s\tremaining: 2.58s\n",
      "70:\tlearn: 1932.7003156\ttotal: 2.04s\tremaining: 2.26s\n",
      "80:\tlearn: 1914.8279264\ttotal: 2.31s\tremaining: 1.97s\n",
      "90:\tlearn: 1899.4407388\ttotal: 2.58s\tremaining: 1.67s\n",
      "100:\tlearn: 1888.3538242\ttotal: 2.85s\tremaining: 1.38s\n",
      "110:\tlearn: 1876.4211898\ttotal: 3.12s\tremaining: 1.1s\n",
      "120:\tlearn: 1867.1605071\ttotal: 3.39s\tremaining: 813ms\n",
      "130:\tlearn: 1859.9418878\ttotal: 3.67s\tremaining: 532ms\n",
      "140:\tlearn: 1852.1522674\ttotal: 3.94s\tremaining: 252ms\n",
      "149:\tlearn: 1846.0953762\ttotal: 4.2s\tremaining: 0us\n",
      "0:\tlearn: 3552.9294623\ttotal: 40.5ms\tremaining: 6.04s\n",
      "10:\tlearn: 2289.8380335\ttotal: 351ms\tremaining: 4.43s\n",
      "20:\tlearn: 2112.2473114\ttotal: 635ms\tremaining: 3.9s\n",
      "30:\tlearn: 2035.1758301\ttotal: 906ms\tremaining: 3.48s\n",
      "40:\tlearn: 1991.9335262\ttotal: 1.19s\tremaining: 3.18s\n",
      "50:\tlearn: 1955.9760811\ttotal: 1.49s\tremaining: 2.88s\n",
      "60:\tlearn: 1930.0902633\ttotal: 1.76s\tremaining: 2.56s\n",
      "70:\tlearn: 1913.7584633\ttotal: 2.05s\tremaining: 2.28s\n",
      "80:\tlearn: 1899.6888058\ttotal: 2.34s\tremaining: 2s\n",
      "90:\tlearn: 1885.3949287\ttotal: 2.62s\tremaining: 1.7s\n",
      "100:\tlearn: 1876.0347944\ttotal: 2.9s\tremaining: 1.41s\n",
      "110:\tlearn: 1867.5322280\ttotal: 3.2s\tremaining: 1.12s\n",
      "120:\tlearn: 1855.9115279\ttotal: 3.48s\tremaining: 835ms\n",
      "130:\tlearn: 1848.2548702\ttotal: 3.77s\tremaining: 547ms\n",
      "140:\tlearn: 1840.9661125\ttotal: 4.06s\tremaining: 259ms\n",
      "149:\tlearn: 1836.7606630\ttotal: 4.31s\tremaining: 0us\n",
      "0:\tlearn: 3289.9518173\ttotal: 49.6ms\tremaining: 7.38s\n",
      "10:\tlearn: 2052.3959480\ttotal: 497ms\tremaining: 6.28s\n",
      "20:\tlearn: 1924.4980532\ttotal: 905ms\tremaining: 5.56s\n",
      "30:\tlearn: 1863.9970638\ttotal: 1.33s\tremaining: 5.12s\n",
      "40:\tlearn: 1833.4812552\ttotal: 1.75s\tremaining: 4.65s\n",
      "50:\tlearn: 1799.2323009\ttotal: 2.16s\tremaining: 4.19s\n",
      "60:\tlearn: 1778.3265190\ttotal: 2.6s\tremaining: 3.79s\n",
      "70:\tlearn: 1764.9683244\ttotal: 3.03s\tremaining: 3.37s\n",
      "80:\tlearn: 1751.3098812\ttotal: 3.46s\tremaining: 2.95s\n",
      "90:\tlearn: 1740.9849806\ttotal: 3.88s\tremaining: 2.52s\n",
      "100:\tlearn: 1730.8135919\ttotal: 4.34s\tremaining: 2.1s\n",
      "110:\tlearn: 1721.5329588\ttotal: 4.75s\tremaining: 1.67s\n",
      "120:\tlearn: 1712.2891166\ttotal: 5.16s\tremaining: 1.24s\n",
      "130:\tlearn: 1707.0694689\ttotal: 5.58s\tremaining: 809ms\n",
      "140:\tlearn: 1700.6973725\ttotal: 5.99s\tremaining: 383ms\n",
      "149:\tlearn: 1696.7098705\ttotal: 6.4s\tremaining: 0us\n",
      "0:\tlearn: 3259.8106497\ttotal: 58.6ms\tremaining: 8.73s\n",
      "10:\tlearn: 2063.0565165\ttotal: 502ms\tremaining: 6.34s\n",
      "20:\tlearn: 1938.5484547\ttotal: 906ms\tremaining: 5.57s\n",
      "30:\tlearn: 1873.7480845\ttotal: 1.32s\tremaining: 5.07s\n",
      "40:\tlearn: 1831.4541834\ttotal: 1.74s\tremaining: 4.62s\n",
      "50:\tlearn: 1804.4018795\ttotal: 2.18s\tremaining: 4.24s\n",
      "60:\tlearn: 1779.5795118\ttotal: 2.59s\tremaining: 3.78s\n",
      "70:\tlearn: 1765.1486659\ttotal: 3s\tremaining: 3.34s\n",
      "80:\tlearn: 1751.3864349\ttotal: 3.44s\tremaining: 2.93s\n",
      "90:\tlearn: 1736.2862365\ttotal: 3.87s\tremaining: 2.51s\n",
      "100:\tlearn: 1727.0216337\ttotal: 4.28s\tremaining: 2.08s\n",
      "110:\tlearn: 1717.4147971\ttotal: 4.71s\tremaining: 1.65s\n",
      "120:\tlearn: 1706.6926230\ttotal: 5.12s\tremaining: 1.23s\n",
      "130:\tlearn: 1698.9241132\ttotal: 5.54s\tremaining: 803ms\n",
      "140:\tlearn: 1694.1844704\ttotal: 5.97s\tremaining: 381ms\n",
      "149:\tlearn: 1688.8082903\ttotal: 6.35s\tremaining: 0us\n",
      "0:\tlearn: 3306.9847316\ttotal: 53.5ms\tremaining: 7.97s\n",
      "10:\tlearn: 2080.1282517\ttotal: 508ms\tremaining: 6.42s\n",
      "20:\tlearn: 1961.5490394\ttotal: 929ms\tremaining: 5.71s\n",
      "30:\tlearn: 1892.4356569\ttotal: 1.36s\tremaining: 5.24s\n",
      "40:\tlearn: 1854.2687440\ttotal: 1.8s\tremaining: 4.78s\n",
      "50:\tlearn: 1823.3229064\ttotal: 2.23s\tremaining: 4.32s\n",
      "60:\tlearn: 1799.9342097\ttotal: 2.66s\tremaining: 3.88s\n",
      "70:\tlearn: 1777.0411047\ttotal: 3.08s\tremaining: 3.43s\n",
      "80:\tlearn: 1761.9517757\ttotal: 3.53s\tremaining: 3.01s\n",
      "90:\tlearn: 1750.8540131\ttotal: 3.97s\tremaining: 2.58s\n",
      "100:\tlearn: 1740.0386815\ttotal: 4.4s\tremaining: 2.13s\n",
      "110:\tlearn: 1726.8388428\ttotal: 4.83s\tremaining: 1.7s\n",
      "120:\tlearn: 1719.2858927\ttotal: 5.26s\tremaining: 1.26s\n",
      "130:\tlearn: 1709.8794508\ttotal: 5.69s\tremaining: 825ms\n",
      "140:\tlearn: 1703.0946136\ttotal: 6.1s\tremaining: 389ms\n",
      "149:\tlearn: 1699.1824238\ttotal: 6.5s\tremaining: 0us\n",
      "0:\tlearn: 3258.1370033\ttotal: 62.8ms\tremaining: 9.36s\n",
      "10:\tlearn: 2079.0538676\ttotal: 566ms\tremaining: 7.16s\n",
      "20:\tlearn: 1947.7204969\ttotal: 1.03s\tremaining: 6.36s\n",
      "30:\tlearn: 1889.8633881\ttotal: 1.49s\tremaining: 5.73s\n",
      "40:\tlearn: 1843.3357951\ttotal: 1.93s\tremaining: 5.13s\n",
      "50:\tlearn: 1812.5392290\ttotal: 2.38s\tremaining: 4.63s\n",
      "60:\tlearn: 1788.2453259\ttotal: 2.83s\tremaining: 4.13s\n",
      "70:\tlearn: 1773.9935669\ttotal: 3.28s\tremaining: 3.65s\n",
      "80:\tlearn: 1764.1391584\ttotal: 3.72s\tremaining: 3.17s\n",
      "90:\tlearn: 1753.9579019\ttotal: 4.15s\tremaining: 2.69s\n",
      "100:\tlearn: 1742.4952986\ttotal: 4.6s\tremaining: 2.23s\n",
      "110:\tlearn: 1731.9529530\ttotal: 5.05s\tremaining: 1.77s\n",
      "120:\tlearn: 1722.9105940\ttotal: 5.49s\tremaining: 1.31s\n",
      "130:\tlearn: 1711.8796447\ttotal: 5.92s\tremaining: 859ms\n",
      "140:\tlearn: 1705.1009502\ttotal: 6.34s\tremaining: 405ms\n",
      "149:\tlearn: 1699.8014011\ttotal: 6.74s\tremaining: 0us\n",
      "0:\tlearn: 3249.6186274\ttotal: 61.1ms\tremaining: 9.1s\n",
      "10:\tlearn: 2056.6997662\ttotal: 523ms\tremaining: 6.61s\n",
      "20:\tlearn: 1930.5439539\ttotal: 968ms\tremaining: 5.94s\n",
      "30:\tlearn: 1860.3870515\ttotal: 1.42s\tremaining: 5.46s\n",
      "40:\tlearn: 1823.0605783\ttotal: 1.87s\tremaining: 4.96s\n",
      "50:\tlearn: 1792.1282025\ttotal: 2.31s\tremaining: 4.48s\n",
      "60:\tlearn: 1772.4968906\ttotal: 2.73s\tremaining: 3.99s\n",
      "70:\tlearn: 1758.5743840\ttotal: 3.16s\tremaining: 3.51s\n",
      "80:\tlearn: 1748.0612892\ttotal: 3.59s\tremaining: 3.06s\n",
      "90:\tlearn: 1736.4344755\ttotal: 4.03s\tremaining: 2.62s\n",
      "100:\tlearn: 1722.6177808\ttotal: 4.46s\tremaining: 2.16s\n",
      "110:\tlearn: 1714.7162039\ttotal: 4.88s\tremaining: 1.71s\n",
      "120:\tlearn: 1705.6725184\ttotal: 5.3s\tremaining: 1.27s\n",
      "130:\tlearn: 1698.8966215\ttotal: 5.73s\tremaining: 831ms\n",
      "140:\tlearn: 1692.3519070\ttotal: 6.15s\tremaining: 393ms\n",
      "149:\tlearn: 1688.4207710\ttotal: 6.54s\tremaining: 0us\n",
      "0:\tlearn: 3131.7265546\ttotal: 74.4ms\tremaining: 11.1s\n",
      "10:\tlearn: 1928.1977588\ttotal: 685ms\tremaining: 8.66s\n",
      "20:\tlearn: 1818.7683607\ttotal: 1.27s\tremaining: 7.82s\n",
      "30:\tlearn: 1765.7242533\ttotal: 1.88s\tremaining: 7.21s\n",
      "40:\tlearn: 1728.4004371\ttotal: 2.46s\tremaining: 6.54s\n",
      "50:\tlearn: 1701.7728525\ttotal: 3.06s\tremaining: 5.93s\n",
      "60:\tlearn: 1681.3639784\ttotal: 3.63s\tremaining: 5.3s\n",
      "70:\tlearn: 1662.1698513\ttotal: 4.21s\tremaining: 4.68s\n",
      "80:\tlearn: 1648.8886883\ttotal: 4.8s\tremaining: 4.09s\n",
      "90:\tlearn: 1637.4914358\ttotal: 5.43s\tremaining: 3.52s\n",
      "100:\tlearn: 1628.1080986\ttotal: 6.06s\tremaining: 2.94s\n",
      "110:\tlearn: 1618.6733999\ttotal: 6.65s\tremaining: 2.33s\n",
      "120:\tlearn: 1611.0006278\ttotal: 7.22s\tremaining: 1.73s\n",
      "130:\tlearn: 1601.4499882\ttotal: 7.79s\tremaining: 1.13s\n",
      "140:\tlearn: 1593.0702599\ttotal: 8.49s\tremaining: 542ms\n",
      "149:\tlearn: 1586.6387175\ttotal: 9.13s\tremaining: 0us\n",
      "0:\tlearn: 3065.8874783\ttotal: 76.1ms\tremaining: 11.3s\n",
      "10:\tlearn: 1933.5819566\ttotal: 697ms\tremaining: 8.81s\n",
      "20:\tlearn: 1825.9858621\ttotal: 1.28s\tremaining: 7.84s\n",
      "30:\tlearn: 1766.9134236\ttotal: 1.85s\tremaining: 7.09s\n",
      "40:\tlearn: 1733.3063739\ttotal: 2.44s\tremaining: 6.48s\n",
      "50:\tlearn: 1706.7126169\ttotal: 3.05s\tremaining: 5.92s\n",
      "60:\tlearn: 1686.4019842\ttotal: 3.71s\tremaining: 5.42s\n",
      "70:\tlearn: 1668.8161900\ttotal: 4.35s\tremaining: 4.84s\n",
      "80:\tlearn: 1653.4262321\ttotal: 4.96s\tremaining: 4.22s\n",
      "90:\tlearn: 1640.6445900\ttotal: 5.57s\tremaining: 3.61s\n",
      "100:\tlearn: 1633.4902627\ttotal: 6.17s\tremaining: 2.99s\n",
      "110:\tlearn: 1623.3485229\ttotal: 6.76s\tremaining: 2.38s\n",
      "120:\tlearn: 1615.9799069\ttotal: 7.33s\tremaining: 1.76s\n",
      "130:\tlearn: 1602.6245910\ttotal: 7.95s\tremaining: 1.15s\n",
      "140:\tlearn: 1594.6645842\ttotal: 8.62s\tremaining: 551ms\n",
      "149:\tlearn: 1586.8174608\ttotal: 9.23s\tremaining: 0us\n",
      "0:\tlearn: 3148.1706211\ttotal: 73.7ms\tremaining: 11s\n",
      "10:\tlearn: 1928.6985120\ttotal: 704ms\tremaining: 8.9s\n",
      "20:\tlearn: 1815.5042830\ttotal: 1.49s\tremaining: 9.13s\n",
      "30:\tlearn: 1761.3232541\ttotal: 2.12s\tremaining: 8.15s\n",
      "40:\tlearn: 1731.7268930\ttotal: 2.71s\tremaining: 7.21s\n",
      "50:\tlearn: 1705.8780575\ttotal: 3.28s\tremaining: 6.37s\n",
      "60:\tlearn: 1682.4643146\ttotal: 3.86s\tremaining: 5.64s\n",
      "70:\tlearn: 1664.3536676\ttotal: 4.46s\tremaining: 4.96s\n",
      "80:\tlearn: 1653.2915423\ttotal: 5.06s\tremaining: 4.31s\n",
      "90:\tlearn: 1641.3916301\ttotal: 5.66s\tremaining: 3.67s\n",
      "100:\tlearn: 1633.4357729\ttotal: 6.26s\tremaining: 3.04s\n",
      "110:\tlearn: 1622.9715489\ttotal: 6.86s\tremaining: 2.41s\n",
      "120:\tlearn: 1613.1371170\ttotal: 7.46s\tremaining: 1.79s\n",
      "130:\tlearn: 1604.3843756\ttotal: 8.06s\tremaining: 1.17s\n",
      "140:\tlearn: 1594.8524028\ttotal: 8.63s\tremaining: 551ms\n",
      "149:\tlearn: 1587.7176135\ttotal: 9.14s\tremaining: 0us\n",
      "0:\tlearn: 3057.3455773\ttotal: 78.7ms\tremaining: 11.7s\n",
      "10:\tlearn: 1927.8786424\ttotal: 702ms\tremaining: 8.87s\n",
      "20:\tlearn: 1828.7312202\ttotal: 1.3s\tremaining: 7.99s\n",
      "30:\tlearn: 1779.0041447\ttotal: 1.88s\tremaining: 7.23s\n",
      "40:\tlearn: 1735.3727833\ttotal: 2.45s\tremaining: 6.5s\n",
      "50:\tlearn: 1711.1708645\ttotal: 3.08s\tremaining: 5.99s\n",
      "60:\tlearn: 1690.4562602\ttotal: 3.88s\tremaining: 5.66s\n",
      "70:\tlearn: 1677.2702083\ttotal: 4.55s\tremaining: 5.07s\n",
      "80:\tlearn: 1664.1073174\ttotal: 5.17s\tremaining: 4.41s\n",
      "90:\tlearn: 1647.4461808\ttotal: 5.75s\tremaining: 3.73s\n",
      "100:\tlearn: 1633.4143879\ttotal: 6.34s\tremaining: 3.08s\n",
      "110:\tlearn: 1626.1169298\ttotal: 6.92s\tremaining: 2.43s\n",
      "120:\tlearn: 1617.7499812\ttotal: 7.53s\tremaining: 1.8s\n",
      "130:\tlearn: 1606.9590667\ttotal: 8.18s\tremaining: 1.19s\n",
      "140:\tlearn: 1599.9691952\ttotal: 8.86s\tremaining: 565ms\n",
      "149:\tlearn: 1592.6775162\ttotal: 9.47s\tremaining: 0us\n",
      "0:\tlearn: 3055.1241050\ttotal: 81.8ms\tremaining: 12.2s\n",
      "10:\tlearn: 1925.3594977\ttotal: 731ms\tremaining: 9.23s\n",
      "20:\tlearn: 1823.7741042\ttotal: 1.37s\tremaining: 8.42s\n",
      "30:\tlearn: 1760.1523261\ttotal: 2.01s\tremaining: 7.71s\n",
      "40:\tlearn: 1726.3388913\ttotal: 2.63s\tremaining: 6.99s\n",
      "50:\tlearn: 1696.2459904\ttotal: 3.3s\tremaining: 6.4s\n",
      "60:\tlearn: 1675.0927973\ttotal: 3.92s\tremaining: 5.71s\n",
      "70:\tlearn: 1659.2443652\ttotal: 4.56s\tremaining: 5.08s\n",
      "80:\tlearn: 1645.4818424\ttotal: 5.15s\tremaining: 4.39s\n",
      "90:\tlearn: 1632.0759409\ttotal: 5.75s\tremaining: 3.73s\n",
      "100:\tlearn: 1619.0133102\ttotal: 6.34s\tremaining: 3.07s\n",
      "110:\tlearn: 1608.8204824\ttotal: 6.92s\tremaining: 2.43s\n",
      "120:\tlearn: 1603.9980641\ttotal: 7.52s\tremaining: 1.8s\n",
      "130:\tlearn: 1594.8686161\ttotal: 8.13s\tremaining: 1.18s\n",
      "140:\tlearn: 1587.5297518\ttotal: 8.74s\tremaining: 558ms\n",
      "149:\tlearn: 1579.9976278\ttotal: 9.42s\tremaining: 0us\n",
      "0:\tlearn: 2973.2570628\ttotal: 94ms\tremaining: 14s\n",
      "10:\tlearn: 1841.1765586\ttotal: 879ms\tremaining: 11.1s\n",
      "20:\tlearn: 1733.7948221\ttotal: 1.63s\tremaining: 9.99s\n",
      "30:\tlearn: 1671.7707156\ttotal: 2.37s\tremaining: 9.09s\n",
      "40:\tlearn: 1639.9270629\ttotal: 3.12s\tremaining: 8.29s\n",
      "50:\tlearn: 1617.1309263\ttotal: 3.85s\tremaining: 7.48s\n",
      "60:\tlearn: 1592.8996368\ttotal: 4.62s\tremaining: 6.73s\n",
      "70:\tlearn: 1575.7164844\ttotal: 5.37s\tremaining: 5.98s\n",
      "80:\tlearn: 1556.3121171\ttotal: 6.1s\tremaining: 5.2s\n",
      "90:\tlearn: 1538.0823651\ttotal: 6.84s\tremaining: 4.43s\n",
      "100:\tlearn: 1525.4808275\ttotal: 7.59s\tremaining: 3.68s\n",
      "110:\tlearn: 1512.0649184\ttotal: 8.34s\tremaining: 2.93s\n",
      "120:\tlearn: 1502.2626452\ttotal: 9.09s\tremaining: 2.18s\n",
      "130:\tlearn: 1490.4704418\ttotal: 9.82s\tremaining: 1.42s\n",
      "140:\tlearn: 1481.0724340\ttotal: 10.6s\tremaining: 674ms\n",
      "149:\tlearn: 1471.2429951\ttotal: 11.2s\tremaining: 0us\n",
      "0:\tlearn: 2973.1835479\ttotal: 89ms\tremaining: 13.3s\n",
      "10:\tlearn: 1838.6184792\ttotal: 860ms\tremaining: 10.9s\n",
      "20:\tlearn: 1745.8309313\ttotal: 1.61s\tremaining: 9.88s\n",
      "30:\tlearn: 1689.3604870\ttotal: 2.32s\tremaining: 8.91s\n",
      "40:\tlearn: 1649.1385364\ttotal: 3.05s\tremaining: 8.12s\n",
      "50:\tlearn: 1616.1261451\ttotal: 3.81s\tremaining: 7.39s\n",
      "60:\tlearn: 1588.6507599\ttotal: 4.55s\tremaining: 6.64s\n",
      "70:\tlearn: 1572.1269542\ttotal: 5.29s\tremaining: 5.89s\n",
      "80:\tlearn: 1553.0598820\ttotal: 6.06s\tremaining: 5.16s\n",
      "90:\tlearn: 1537.2496513\ttotal: 6.83s\tremaining: 4.42s\n",
      "100:\tlearn: 1521.2181145\ttotal: 7.6s\tremaining: 3.69s\n",
      "110:\tlearn: 1509.7371693\ttotal: 8.38s\tremaining: 2.94s\n",
      "120:\tlearn: 1496.5437765\ttotal: 9.17s\tremaining: 2.2s\n",
      "130:\tlearn: 1486.9224513\ttotal: 9.9s\tremaining: 1.44s\n",
      "140:\tlearn: 1477.1497103\ttotal: 10.7s\tremaining: 680ms\n",
      "149:\tlearn: 1468.9723357\ttotal: 11.3s\tremaining: 0us\n",
      "0:\tlearn: 2975.0315961\ttotal: 93.2ms\tremaining: 13.9s\n",
      "10:\tlearn: 1834.1454720\ttotal: 860ms\tremaining: 10.9s\n",
      "20:\tlearn: 1747.9812307\ttotal: 1.6s\tremaining: 9.85s\n",
      "30:\tlearn: 1687.2184748\ttotal: 2.35s\tremaining: 9s\n",
      "40:\tlearn: 1649.1681367\ttotal: 3.12s\tremaining: 8.29s\n",
      "50:\tlearn: 1622.9621360\ttotal: 3.87s\tremaining: 7.52s\n",
      "60:\tlearn: 1597.3553518\ttotal: 4.6s\tremaining: 6.71s\n",
      "70:\tlearn: 1574.1753212\ttotal: 5.33s\tremaining: 5.93s\n",
      "80:\tlearn: 1554.5301370\ttotal: 6.05s\tremaining: 5.16s\n",
      "90:\tlearn: 1542.7741548\ttotal: 6.79s\tremaining: 4.4s\n",
      "100:\tlearn: 1527.9997841\ttotal: 7.56s\tremaining: 3.67s\n",
      "110:\tlearn: 1516.2284647\ttotal: 8.27s\tremaining: 2.91s\n",
      "120:\tlearn: 1502.3047322\ttotal: 9s\tremaining: 2.16s\n",
      "130:\tlearn: 1488.9088976\ttotal: 9.73s\tremaining: 1.41s\n",
      "140:\tlearn: 1479.0626946\ttotal: 10.5s\tremaining: 668ms\n",
      "149:\tlearn: 1468.6266778\ttotal: 11.1s\tremaining: 0us\n",
      "0:\tlearn: 2965.2162001\ttotal: 91.1ms\tremaining: 13.6s\n",
      "10:\tlearn: 1851.1723285\ttotal: 863ms\tremaining: 10.9s\n",
      "20:\tlearn: 1752.1727915\ttotal: 1.57s\tremaining: 9.68s\n",
      "30:\tlearn: 1698.9872041\ttotal: 2.33s\tremaining: 8.94s\n",
      "40:\tlearn: 1655.5133408\ttotal: 3.09s\tremaining: 8.22s\n",
      "50:\tlearn: 1626.7235892\ttotal: 3.84s\tremaining: 7.45s\n",
      "60:\tlearn: 1597.8611001\ttotal: 4.58s\tremaining: 6.68s\n",
      "70:\tlearn: 1576.7246057\ttotal: 5.31s\tremaining: 5.91s\n",
      "80:\tlearn: 1557.5855789\ttotal: 6.02s\tremaining: 5.13s\n",
      "90:\tlearn: 1543.9504587\ttotal: 6.74s\tremaining: 4.37s\n",
      "100:\tlearn: 1528.5810531\ttotal: 7.48s\tremaining: 3.63s\n",
      "110:\tlearn: 1514.6247036\ttotal: 8.26s\tremaining: 2.9s\n",
      "120:\tlearn: 1503.3907429\ttotal: 9.03s\tremaining: 2.17s\n",
      "130:\tlearn: 1494.8381420\ttotal: 9.79s\tremaining: 1.42s\n",
      "140:\tlearn: 1483.3858013\ttotal: 10.5s\tremaining: 673ms\n",
      "149:\tlearn: 1472.9112362\ttotal: 11.2s\tremaining: 0us\n",
      "0:\tlearn: 2964.0178622\ttotal: 94.8ms\tremaining: 14.1s\n",
      "10:\tlearn: 1834.0927211\ttotal: 892ms\tremaining: 11.3s\n",
      "20:\tlearn: 1738.8301665\ttotal: 1.69s\tremaining: 10.4s\n",
      "30:\tlearn: 1684.5000504\ttotal: 2.46s\tremaining: 9.43s\n",
      "40:\tlearn: 1632.1458866\ttotal: 3.23s\tremaining: 8.58s\n",
      "50:\tlearn: 1602.6514638\ttotal: 3.99s\tremaining: 7.74s\n",
      "60:\tlearn: 1581.5617427\ttotal: 4.96s\tremaining: 7.25s\n",
      "70:\tlearn: 1570.5728691\ttotal: 6.08s\tremaining: 6.76s\n",
      "80:\tlearn: 1553.8069453\ttotal: 6.83s\tremaining: 5.82s\n",
      "90:\tlearn: 1534.5583204\ttotal: 7.57s\tremaining: 4.91s\n",
      "100:\tlearn: 1519.0333353\ttotal: 8.32s\tremaining: 4.04s\n",
      "110:\tlearn: 1507.0609073\ttotal: 9.09s\tremaining: 3.19s\n",
      "120:\tlearn: 1494.1517943\ttotal: 9.83s\tremaining: 2.36s\n",
      "130:\tlearn: 1484.5610023\ttotal: 10.6s\tremaining: 1.53s\n",
      "140:\tlearn: 1474.9385779\ttotal: 11.3s\tremaining: 721ms\n",
      "149:\tlearn: 1466.0308985\ttotal: 12s\tremaining: 0us\n",
      "0:\tlearn: 3430.2630810\ttotal: 110ms\tremaining: 16.3s\n",
      "10:\tlearn: 1854.9166490\ttotal: 1.05s\tremaining: 13.3s\n",
      "20:\tlearn: 1757.5502778\ttotal: 1.96s\tremaining: 12.1s\n",
      "30:\tlearn: 1707.0222781\ttotal: 2.89s\tremaining: 11.1s\n",
      "40:\tlearn: 1671.0480620\ttotal: 3.8s\tremaining: 10.1s\n",
      "50:\tlearn: 1646.8965158\ttotal: 4.72s\tremaining: 9.16s\n",
      "60:\tlearn: 1625.9261430\ttotal: 5.62s\tremaining: 8.2s\n",
      "70:\tlearn: 1608.7028048\ttotal: 6.51s\tremaining: 7.25s\n",
      "80:\tlearn: 1593.2947932\ttotal: 7.41s\tremaining: 6.31s\n",
      "90:\tlearn: 1576.4201260\ttotal: 8.35s\tremaining: 5.42s\n",
      "100:\tlearn: 1561.4857438\ttotal: 9.25s\tremaining: 4.49s\n",
      "110:\tlearn: 1549.9427908\ttotal: 10.1s\tremaining: 3.56s\n",
      "120:\tlearn: 1539.5890819\ttotal: 11.1s\tremaining: 2.65s\n",
      "130:\tlearn: 1530.9983973\ttotal: 12s\tremaining: 1.74s\n",
      "140:\tlearn: 1523.1289815\ttotal: 12.9s\tremaining: 822ms\n",
      "149:\tlearn: 1514.3648666\ttotal: 13.7s\tremaining: 0us\n",
      "Время обучения :  1273.303805589676\n"
     ]
    }
   ],
   "source": [
    "start_time = time.time()\n",
    "\n",
    "\n",
    "model = CatBoostRegressor(loss_function=\"RMSE\")\n",
    "\n",
    "parameters = {'max_depth' : [2, 4, 6, 8],\n",
    "              'learning_rate' : [0.2, 0.4, 0.6],\n",
    "              'iterations' : [50, 100, 150]\n",
    "                 }\n",
    "\n",
    "grid = GridSearchCV(model, parameters)\n",
    "grid.fit(features_train, target_train, cat_features=cat_features, verbose=10)\n",
    "\n",
    "cat_time_train = time.time() - start_time\n",
    "print('Время обучения : ', cat_time_train)"
   ]
  },
  {
   "cell_type": "code",
   "execution_count": 57,
   "metadata": {
    "scrolled": true
   },
   "outputs": [
    {
     "data": {
      "text/plain": [
       "{'iterations': 150, 'learning_rate': 0.4, 'max_depth': 8}"
      ]
     },
     "execution_count": 57,
     "metadata": {},
     "output_type": "execute_result"
    }
   ],
   "source": [
    "grid.best_params_"
   ]
  },
  {
   "cell_type": "code",
   "execution_count": 58,
   "metadata": {
    "scrolled": false
   },
   "outputs": [
    {
     "name": "stdout",
     "output_type": "stream",
     "text": [
      "0:\tlearn: 3430.2630810\ttotal: 112ms\tremaining: 16.6s\n",
      "10:\tlearn: 1854.9166490\ttotal: 1.06s\tremaining: 13.5s\n",
      "20:\tlearn: 1757.5502778\ttotal: 1.98s\tremaining: 12.2s\n",
      "30:\tlearn: 1707.0222781\ttotal: 2.89s\tremaining: 11.1s\n",
      "40:\tlearn: 1671.0480620\ttotal: 3.8s\tremaining: 10.1s\n",
      "50:\tlearn: 1646.8965158\ttotal: 4.72s\tremaining: 9.16s\n",
      "60:\tlearn: 1625.9261430\ttotal: 5.64s\tremaining: 8.22s\n",
      "70:\tlearn: 1608.7028048\ttotal: 6.53s\tremaining: 7.26s\n",
      "80:\tlearn: 1593.2947932\ttotal: 7.42s\tremaining: 6.32s\n",
      "90:\tlearn: 1576.4201260\ttotal: 8.36s\tremaining: 5.42s\n",
      "100:\tlearn: 1561.4857438\ttotal: 9.29s\tremaining: 4.51s\n",
      "110:\tlearn: 1549.9427908\ttotal: 10.3s\tremaining: 3.61s\n",
      "120:\tlearn: 1539.5890819\ttotal: 11.2s\tremaining: 2.68s\n",
      "130:\tlearn: 1530.9983973\ttotal: 12.1s\tremaining: 1.75s\n",
      "140:\tlearn: 1523.1289815\ttotal: 13s\tremaining: 832ms\n",
      "149:\tlearn: 1514.3648666\ttotal: 13.9s\tremaining: 0us\n",
      "Время обучения с лучшими параметрами :  15.57977819442749\n"
     ]
    }
   ],
   "source": [
    "start_time = time.time()\n",
    "\n",
    "model = CatBoostRegressor(loss_function=\"RMSE\", iterations=150, max_depth=8, learning_rate=0.4)\n",
    "model.fit(features_train, target_train, cat_features=cat_features, verbose=10)\n",
    "\n",
    "cat_time_train = time.time() - start_time\n",
    "print('Время обучения с лучшими параметрами : ', cat_time_train)"
   ]
  },
  {
   "cell_type": "code",
   "execution_count": 59,
   "metadata": {},
   "outputs": [
    {
     "name": "stdout",
     "output_type": "stream",
     "text": [
      "RMSE_valid = 1634.5910660786503\n",
      "Время обучения :  0.10531926155090332\n",
      "Время предсказания элемента:  1.7147109547370332e-06\n"
     ]
    }
   ],
   "source": [
    "start_time = time.time()\n",
    "\n",
    "predictions_valid = model.predict(features_valid)\n",
    "rmse = mean_squared_error(target_valid, predictions_valid) ** 0.5\n",
    "print(f'RMSE_valid = {rmse}')\n",
    "\n",
    "cat_time_valid = time.time() - start_time\n",
    "print('Время обучения : ', cat_time_valid)\n",
    "print('Время предсказания элемента: ', cat_time_valid / len(target_valid))"
   ]
  },
  {
   "cell_type": "markdown",
   "metadata": {},
   "source": [
    "**Вывод**\n",
    "\n",
    "Результаты предсказаний на CatBoost получились весьма плохими, даже с учетом подбора параметров через GridSearchCV. Можно попробовать применить feature engineering и создать дополнительный признаки для данных.\n",
    "\n",
    "На валидационной выборке:\n",
    "- RMSE_valid = 1634.5910660786503\n",
    "- Время обучения :  0.10531926155090332\n",
    "- Время предсказания элемента:  1.7147109547370332e-06"
   ]
  },
  {
   "cell_type": "markdown",
   "metadata": {},
   "source": [
    "### Feature Engineering"
   ]
  },
  {
   "cell_type": "code",
   "execution_count": 35,
   "metadata": {},
   "outputs": [
    {
     "data": {
      "text/html": [
       "<div>\n",
       "<style scoped>\n",
       "    .dataframe tbody tr th:only-of-type {\n",
       "        vertical-align: middle;\n",
       "    }\n",
       "\n",
       "    .dataframe tbody tr th {\n",
       "        vertical-align: top;\n",
       "    }\n",
       "\n",
       "    .dataframe thead th {\n",
       "        text-align: right;\n",
       "    }\n",
       "</style>\n",
       "<table border=\"1\" class=\"dataframe\">\n",
       "  <thead>\n",
       "    <tr style=\"text-align: right;\">\n",
       "      <th></th>\n",
       "      <th>vehicle_type</th>\n",
       "      <th>registration_year</th>\n",
       "      <th>gearbox</th>\n",
       "      <th>power</th>\n",
       "      <th>model</th>\n",
       "      <th>kilometer</th>\n",
       "      <th>registration_month</th>\n",
       "      <th>fuel_type</th>\n",
       "      <th>brand</th>\n",
       "      <th>not_repaired</th>\n",
       "    </tr>\n",
       "  </thead>\n",
       "  <tbody>\n",
       "    <tr>\n",
       "      <th>0</th>\n",
       "      <td>coupe</td>\n",
       "      <td>2011</td>\n",
       "      <td>manual</td>\n",
       "      <td>190</td>\n",
       "      <td>unknown</td>\n",
       "      <td>125000</td>\n",
       "      <td>5</td>\n",
       "      <td>gasoline</td>\n",
       "      <td>audi</td>\n",
       "      <td>yes</td>\n",
       "    </tr>\n",
       "    <tr>\n",
       "      <th>1</th>\n",
       "      <td>suv</td>\n",
       "      <td>2004</td>\n",
       "      <td>auto</td>\n",
       "      <td>163</td>\n",
       "      <td>grand</td>\n",
       "      <td>125000</td>\n",
       "      <td>8</td>\n",
       "      <td>gasoline</td>\n",
       "      <td>jeep</td>\n",
       "      <td>unknown</td>\n",
       "    </tr>\n",
       "    <tr>\n",
       "      <th>2</th>\n",
       "      <td>small</td>\n",
       "      <td>2001</td>\n",
       "      <td>manual</td>\n",
       "      <td>75</td>\n",
       "      <td>golf</td>\n",
       "      <td>150000</td>\n",
       "      <td>6</td>\n",
       "      <td>petrol</td>\n",
       "      <td>volkswagen</td>\n",
       "      <td>no</td>\n",
       "    </tr>\n",
       "    <tr>\n",
       "      <th>3</th>\n",
       "      <td>small</td>\n",
       "      <td>2008</td>\n",
       "      <td>manual</td>\n",
       "      <td>69</td>\n",
       "      <td>fabia</td>\n",
       "      <td>90000</td>\n",
       "      <td>7</td>\n",
       "      <td>gasoline</td>\n",
       "      <td>skoda</td>\n",
       "      <td>no</td>\n",
       "    </tr>\n",
       "    <tr>\n",
       "      <th>4</th>\n",
       "      <td>sedan</td>\n",
       "      <td>1995</td>\n",
       "      <td>manual</td>\n",
       "      <td>102</td>\n",
       "      <td>3er</td>\n",
       "      <td>150000</td>\n",
       "      <td>10</td>\n",
       "      <td>petrol</td>\n",
       "      <td>bmw</td>\n",
       "      <td>yes</td>\n",
       "    </tr>\n",
       "  </tbody>\n",
       "</table>\n",
       "</div>"
      ],
      "text/plain": [
       "  vehicle_type  registration_year gearbox  power    model  kilometer  \\\n",
       "0        coupe               2011  manual    190  unknown     125000   \n",
       "1          suv               2004    auto    163    grand     125000   \n",
       "2        small               2001  manual     75     golf     150000   \n",
       "3        small               2008  manual     69    fabia      90000   \n",
       "4        sedan               1995  manual    102      3er     150000   \n",
       "\n",
       "   registration_month fuel_type       brand not_repaired  \n",
       "0                   5  gasoline        audi          yes  \n",
       "1                   8  gasoline        jeep      unknown  \n",
       "2                   6    petrol  volkswagen           no  \n",
       "3                   7  gasoline       skoda           no  \n",
       "4                  10    petrol         bmw          yes  "
      ]
     },
     "execution_count": 35,
     "metadata": {},
     "output_type": "execute_result"
    }
   ],
   "source": [
    "features.head()"
   ]
  },
  {
   "cell_type": "markdown",
   "metadata": {},
   "source": [
    "**Классифицируем авто по году производства.**\n",
    "\n",
    "\n",
    "Мировое автомобильное сообщество давно разработало свои классификации для классических автомобилей. Их немало, но главными считаются всего несколько, о них расскажем подробнее.\n",
    "Международная федерация старинных автомобилей FIVA опирается прежде всего на год выпуска машины.\n",
    "\n",
    "\n",
    "Название класса\tПериод выпуска\n",
    "\n",
    "Класс А (Ancestor или Предок)\tВыпуск до 31.12.1904 г.\n",
    "\n",
    "Класс В (Veteran или Ветеран)\tВыпуск 01.01.1905 – 31.12.1918 гг.\n",
    "\n",
    "Класс С (Vintage или Классика)\tВыпуск 01.01.1919 – 31.12.1930 гг.\n",
    "\n",
    "Класс D (Post Vintage или Пост-классика)\tВыпуск 01.01.1931 – 31.12.1945 гг.\n",
    "\n",
    "Класс Е (Post War или Послевоенные)\tВыпуск 01.01.1946 – 31.12.1960 гг.\n",
    "\n",
    "Класс F\tВыпуск 01.01.1961 – 31.12.1970 гг.\n",
    "\n",
    "Класс G\tВыпуск 01.01.1971 – 31.12.1980 гг.\n",
    "\n",
    "Также добавим еще несколько категорий для молодых авто:\n",
    "\n",
    "Класс Y1 Выпуск 01.01.1981 - 01.01.1990\n",
    "\n",
    "Класс Y2 Выпуск 01.01.1991 - 01.01.2000\n",
    "\n",
    "Класс Y3 Выпуск 01.01.2001 - 01.01.2010\n",
    "\n",
    "Класс Y4 Выпуск 01.01.2011 - 01.01.2022"
   ]
  },
  {
   "cell_type": "code",
   "execution_count": 36,
   "metadata": {
    "scrolled": true
   },
   "outputs": [
    {
     "data": {
      "text/html": [
       "<div>\n",
       "<style scoped>\n",
       "    .dataframe tbody tr th:only-of-type {\n",
       "        vertical-align: middle;\n",
       "    }\n",
       "\n",
       "    .dataframe tbody tr th {\n",
       "        vertical-align: top;\n",
       "    }\n",
       "\n",
       "    .dataframe thead th {\n",
       "        text-align: right;\n",
       "    }\n",
       "</style>\n",
       "<table border=\"1\" class=\"dataframe\">\n",
       "  <thead>\n",
       "    <tr style=\"text-align: right;\">\n",
       "      <th></th>\n",
       "      <th>vehicle_type</th>\n",
       "      <th>registration_year</th>\n",
       "      <th>gearbox</th>\n",
       "      <th>power</th>\n",
       "      <th>model</th>\n",
       "      <th>kilometer</th>\n",
       "      <th>registration_month</th>\n",
       "      <th>fuel_type</th>\n",
       "      <th>brand</th>\n",
       "      <th>not_repaired</th>\n",
       "      <th>year_class</th>\n",
       "    </tr>\n",
       "  </thead>\n",
       "  <tbody>\n",
       "    <tr>\n",
       "      <th>0</th>\n",
       "      <td>coupe</td>\n",
       "      <td>2011</td>\n",
       "      <td>manual</td>\n",
       "      <td>190</td>\n",
       "      <td>unknown</td>\n",
       "      <td>125000</td>\n",
       "      <td>5</td>\n",
       "      <td>gasoline</td>\n",
       "      <td>audi</td>\n",
       "      <td>yes</td>\n",
       "      <td>y4</td>\n",
       "    </tr>\n",
       "    <tr>\n",
       "      <th>1</th>\n",
       "      <td>suv</td>\n",
       "      <td>2004</td>\n",
       "      <td>auto</td>\n",
       "      <td>163</td>\n",
       "      <td>grand</td>\n",
       "      <td>125000</td>\n",
       "      <td>8</td>\n",
       "      <td>gasoline</td>\n",
       "      <td>jeep</td>\n",
       "      <td>unknown</td>\n",
       "      <td>y3</td>\n",
       "    </tr>\n",
       "    <tr>\n",
       "      <th>2</th>\n",
       "      <td>small</td>\n",
       "      <td>2001</td>\n",
       "      <td>manual</td>\n",
       "      <td>75</td>\n",
       "      <td>golf</td>\n",
       "      <td>150000</td>\n",
       "      <td>6</td>\n",
       "      <td>petrol</td>\n",
       "      <td>volkswagen</td>\n",
       "      <td>no</td>\n",
       "      <td>y3</td>\n",
       "    </tr>\n",
       "    <tr>\n",
       "      <th>3</th>\n",
       "      <td>small</td>\n",
       "      <td>2008</td>\n",
       "      <td>manual</td>\n",
       "      <td>69</td>\n",
       "      <td>fabia</td>\n",
       "      <td>90000</td>\n",
       "      <td>7</td>\n",
       "      <td>gasoline</td>\n",
       "      <td>skoda</td>\n",
       "      <td>no</td>\n",
       "      <td>y3</td>\n",
       "    </tr>\n",
       "    <tr>\n",
       "      <th>4</th>\n",
       "      <td>sedan</td>\n",
       "      <td>1995</td>\n",
       "      <td>manual</td>\n",
       "      <td>102</td>\n",
       "      <td>3er</td>\n",
       "      <td>150000</td>\n",
       "      <td>10</td>\n",
       "      <td>petrol</td>\n",
       "      <td>bmw</td>\n",
       "      <td>yes</td>\n",
       "      <td>y2</td>\n",
       "    </tr>\n",
       "  </tbody>\n",
       "</table>\n",
       "</div>"
      ],
      "text/plain": [
       "  vehicle_type  registration_year gearbox  power    model  kilometer  \\\n",
       "0        coupe               2011  manual    190  unknown     125000   \n",
       "1          suv               2004    auto    163    grand     125000   \n",
       "2        small               2001  manual     75     golf     150000   \n",
       "3        small               2008  manual     69    fabia      90000   \n",
       "4        sedan               1995  manual    102      3er     150000   \n",
       "\n",
       "   registration_month fuel_type       brand not_repaired year_class  \n",
       "0                   5  gasoline        audi          yes         y4  \n",
       "1                   8  gasoline        jeep      unknown         y3  \n",
       "2                   6    petrol  volkswagen           no         y3  \n",
       "3                   7  gasoline       skoda           no         y3  \n",
       "4                  10    petrol         bmw          yes         y2  "
      ]
     },
     "execution_count": 36,
     "metadata": {},
     "output_type": "execute_result"
    }
   ],
   "source": [
    "def classification_auto(year):\n",
    "    if (year <= 1904):\n",
    "        return 'a'\n",
    "    if (1904 < year <= 1918):\n",
    "        return 'b'\n",
    "    if (1918 < year <= 1930):\n",
    "        return 'c'\n",
    "    if (1930 < year <= 1945):\n",
    "        return 'd'\n",
    "    if (1945 < year <= 1960):\n",
    "        return 'e'\n",
    "    if (1960 < year <= 1970):\n",
    "        return 'f'\n",
    "    if (1970 < year <= 1980):\n",
    "        return 'g'\n",
    "    if (1980 < year <= 1990):\n",
    "        return 'y1'\n",
    "    if (1990 < year <= 2000):\n",
    "        return 'y2'\n",
    "    if (2000 < year <= 2010):\n",
    "        return 'y3'\n",
    "    if (2010 < year <= 2022):\n",
    "        return 'y4'\n",
    "    \n",
    "features['year_class'] = features['registration_year'].apply(classification_auto)\n",
    "features.head()"
   ]
  },
  {
   "cell_type": "markdown",
   "metadata": {},
   "source": [
    "Создадим новые выборки и промоделируем еще раз"
   ]
  },
  {
   "cell_type": "code",
   "execution_count": 37,
   "metadata": {},
   "outputs": [
    {
     "name": "stdout",
     "output_type": "stream",
     "text": [
      "(307103, 11)\n",
      "(307103,)\n"
     ]
    }
   ],
   "source": [
    "print(features.shape)\n",
    "print(target.shape)"
   ]
  },
  {
   "cell_type": "code",
   "execution_count": 38,
   "metadata": {},
   "outputs": [],
   "source": [
    "features_main, features_test, target_main, target_test = train_test_split(features, target, test_size=0.2, random_state=27)"
   ]
  },
  {
   "cell_type": "code",
   "execution_count": 39,
   "metadata": {},
   "outputs": [],
   "source": [
    "features_train, features_valid, target_train, target_valid = train_test_split(features_main, target_main, test_size=0.25, random_state=27)"
   ]
  },
  {
   "cell_type": "code",
   "execution_count": 40,
   "metadata": {
    "scrolled": false
   },
   "outputs": [
    {
     "data": {
      "text/plain": [
       "(184261, 11)"
      ]
     },
     "metadata": {},
     "output_type": "display_data"
    },
    {
     "data": {
      "text/plain": [
       "(184261,)"
      ]
     },
     "metadata": {},
     "output_type": "display_data"
    },
    {
     "data": {
      "text/plain": [
       "(61421, 11)"
      ]
     },
     "metadata": {},
     "output_type": "display_data"
    },
    {
     "data": {
      "text/plain": [
       "(61421,)"
      ]
     },
     "metadata": {},
     "output_type": "display_data"
    },
    {
     "data": {
      "text/plain": [
       "(61421, 11)"
      ]
     },
     "metadata": {},
     "output_type": "display_data"
    },
    {
     "data": {
      "text/plain": [
       "(61421,)"
      ]
     },
     "metadata": {},
     "output_type": "display_data"
    }
   ],
   "source": [
    "del features_main\n",
    "del target_main\n",
    "display(features_train.shape)\n",
    "display(target_train.shape)\n",
    "display(features_valid.shape)\n",
    "display(target_valid.shape)\n",
    "display(features_test.shape)\n",
    "display(target_test.shape)"
   ]
  },
  {
   "cell_type": "markdown",
   "metadata": {},
   "source": [
    "### CatBoost update"
   ]
  },
  {
   "cell_type": "code",
   "execution_count": 66,
   "metadata": {
    "scrolled": true
   },
   "outputs": [],
   "source": [
    "cat_features = ['vehicle_type', 'gearbox', 'model', 'registration_month', 'fuel_type', 'brand', 'not_repaired', 'year_class']"
   ]
  },
  {
   "cell_type": "code",
   "execution_count": 67,
   "metadata": {
    "scrolled": true
   },
   "outputs": [
    {
     "name": "stdout",
     "output_type": "stream",
     "text": [
      "0:\tlearn: 4184.7168034\ttotal: 52.9ms\tremaining: 2.59s\n",
      "10:\tlearn: 2710.2576141\ttotal: 423ms\tremaining: 1.5s\n",
      "20:\tlearn: 2339.7708474\ttotal: 737ms\tremaining: 1.02s\n",
      "30:\tlearn: 2189.1053856\ttotal: 1.05s\tremaining: 642ms\n",
      "40:\tlearn: 2121.8320610\ttotal: 1.36s\tremaining: 299ms\n",
      "49:\tlearn: 2089.5296001\ttotal: 1.76s\tremaining: 0us\n",
      "0:\tlearn: 4184.3191538\ttotal: 43.7ms\tremaining: 2.14s\n",
      "10:\tlearn: 2721.6210691\ttotal: 388ms\tremaining: 1.38s\n",
      "20:\tlearn: 2344.5135241\ttotal: 704ms\tremaining: 972ms\n",
      "30:\tlearn: 2185.6875385\ttotal: 1.01s\tremaining: 622ms\n",
      "40:\tlearn: 2123.2149283\ttotal: 1.3s\tremaining: 286ms\n",
      "49:\tlearn: 2085.9742458\ttotal: 1.57s\tremaining: 0us\n",
      "0:\tlearn: 4182.8621980\ttotal: 43.9ms\tremaining: 2.15s\n",
      "10:\tlearn: 2715.1937571\ttotal: 359ms\tremaining: 1.27s\n",
      "20:\tlearn: 2345.7451400\ttotal: 664ms\tremaining: 917ms\n",
      "30:\tlearn: 2211.0537513\ttotal: 973ms\tremaining: 596ms\n",
      "40:\tlearn: 2137.9653704\ttotal: 1.29s\tremaining: 284ms\n",
      "49:\tlearn: 2101.7918637\ttotal: 1.57s\tremaining: 0us\n",
      "0:\tlearn: 4177.3807185\ttotal: 42ms\tremaining: 2.06s\n",
      "10:\tlearn: 2719.5134267\ttotal: 372ms\tremaining: 1.32s\n",
      "20:\tlearn: 2354.5515231\ttotal: 661ms\tremaining: 913ms\n",
      "30:\tlearn: 2206.1091954\ttotal: 955ms\tremaining: 586ms\n",
      "40:\tlearn: 2131.2400304\ttotal: 1.25s\tremaining: 275ms\n",
      "49:\tlearn: 2089.8964996\ttotal: 1.52s\tremaining: 0us\n",
      "0:\tlearn: 4169.8936211\ttotal: 42.2ms\tremaining: 2.07s\n",
      "10:\tlearn: 2703.6137133\ttotal: 377ms\tremaining: 1.34s\n",
      "20:\tlearn: 2331.6419590\ttotal: 680ms\tremaining: 939ms\n",
      "30:\tlearn: 2190.8017095\ttotal: 971ms\tremaining: 595ms\n",
      "40:\tlearn: 2113.4349951\ttotal: 1.27s\tremaining: 278ms\n",
      "49:\tlearn: 2078.7605333\ttotal: 1.54s\tremaining: 0us\n",
      "0:\tlearn: 4086.3655612\ttotal: 57.4ms\tremaining: 2.81s\n",
      "10:\tlearn: 2320.7796591\ttotal: 531ms\tremaining: 1.88s\n",
      "20:\tlearn: 2054.7228257\ttotal: 999ms\tremaining: 1.38s\n",
      "30:\tlearn: 1979.1427874\ttotal: 1.46s\tremaining: 895ms\n",
      "40:\tlearn: 1923.0907863\ttotal: 1.92s\tremaining: 421ms\n",
      "49:\tlearn: 1894.1484155\ttotal: 2.33s\tremaining: 0us\n",
      "0:\tlearn: 4085.2516533\ttotal: 58.2ms\tremaining: 2.85s\n",
      "10:\tlearn: 2348.9949628\ttotal: 530ms\tremaining: 1.88s\n",
      "20:\tlearn: 2076.7152876\ttotal: 1s\tremaining: 1.38s\n",
      "30:\tlearn: 1988.7985160\ttotal: 1.48s\tremaining: 906ms\n",
      "40:\tlearn: 1938.3825973\ttotal: 1.95s\tremaining: 428ms\n",
      "49:\tlearn: 1905.6058323\ttotal: 2.36s\tremaining: 0us\n",
      "0:\tlearn: 4082.6337537\ttotal: 58.2ms\tremaining: 2.85s\n",
      "10:\tlearn: 2351.5552135\ttotal: 562ms\tremaining: 1.99s\n",
      "20:\tlearn: 2077.2120028\ttotal: 1.03s\tremaining: 1.42s\n",
      "30:\tlearn: 1988.0398973\ttotal: 1.5s\tremaining: 918ms\n",
      "40:\tlearn: 1944.5031914\ttotal: 1.98s\tremaining: 434ms\n",
      "49:\tlearn: 1906.8644456\ttotal: 2.38s\tremaining: 0us\n",
      "0:\tlearn: 4075.5770371\ttotal: 54ms\tremaining: 2.65s\n",
      "10:\tlearn: 2329.2536206\ttotal: 526ms\tremaining: 1.86s\n",
      "20:\tlearn: 2078.8432788\ttotal: 978ms\tremaining: 1.35s\n",
      "30:\tlearn: 1994.6482296\ttotal: 1.44s\tremaining: 881ms\n",
      "40:\tlearn: 1946.7435414\ttotal: 1.88s\tremaining: 414ms\n",
      "49:\tlearn: 1905.8629415\ttotal: 2.29s\tremaining: 0us\n",
      "0:\tlearn: 4071.3375773\ttotal: 57.9ms\tremaining: 2.83s\n",
      "10:\tlearn: 2326.3133402\ttotal: 547ms\tremaining: 1.94s\n",
      "20:\tlearn: 2050.0014737\ttotal: 997ms\tremaining: 1.38s\n",
      "30:\tlearn: 1968.7416796\ttotal: 1.46s\tremaining: 895ms\n",
      "40:\tlearn: 1922.2155915\ttotal: 1.92s\tremaining: 420ms\n",
      "49:\tlearn: 1893.4865370\ttotal: 2.33s\tremaining: 0us\n",
      "0:\tlearn: 4016.3827830\ttotal: 68.9ms\tremaining: 3.38s\n",
      "10:\tlearn: 2158.7275584\ttotal: 694ms\tremaining: 2.46s\n",
      "20:\tlearn: 1933.3604035\ttotal: 1.31s\tremaining: 1.81s\n",
      "30:\tlearn: 1868.0394867\ttotal: 1.96s\tremaining: 1.2s\n",
      "40:\tlearn: 1825.9977710\ttotal: 2.58s\tremaining: 566ms\n",
      "49:\tlearn: 1798.6988376\ttotal: 3.14s\tremaining: 0us\n",
      "0:\tlearn: 4027.6076097\ttotal: 74.2ms\tremaining: 3.64s\n",
      "10:\tlearn: 2143.6958654\ttotal: 716ms\tremaining: 2.54s\n",
      "20:\tlearn: 1934.7775479\ttotal: 1.34s\tremaining: 1.86s\n",
      "30:\tlearn: 1865.4638212\ttotal: 1.98s\tremaining: 1.21s\n",
      "40:\tlearn: 1825.3059360\ttotal: 2.62s\tremaining: 576ms\n",
      "49:\tlearn: 1799.3544856\ttotal: 3.18s\tremaining: 0us\n",
      "0:\tlearn: 4039.2472183\ttotal: 82.1ms\tremaining: 4.02s\n",
      "10:\tlearn: 2195.8463671\ttotal: 751ms\tremaining: 2.66s\n",
      "20:\tlearn: 1950.7176756\ttotal: 1.39s\tremaining: 1.93s\n",
      "30:\tlearn: 1884.4091721\ttotal: 2.04s\tremaining: 1.25s\n",
      "40:\tlearn: 1839.2466395\ttotal: 2.7s\tremaining: 592ms\n",
      "49:\tlearn: 1815.5633363\ttotal: 3.26s\tremaining: 0us\n",
      "0:\tlearn: 4023.2207555\ttotal: 84.2ms\tremaining: 4.13s\n",
      "10:\tlearn: 2159.0484489\ttotal: 753ms\tremaining: 2.67s\n",
      "20:\tlearn: 1947.4668772\ttotal: 1.4s\tremaining: 1.93s\n",
      "30:\tlearn: 1873.1715500\ttotal: 2.07s\tremaining: 1.27s\n",
      "40:\tlearn: 1832.9574929\ttotal: 2.74s\tremaining: 602ms\n",
      "49:\tlearn: 1806.9727455\ttotal: 3.32s\tremaining: 0us\n",
      "0:\tlearn: 4022.7663001\ttotal: 79.2ms\tremaining: 3.88s\n",
      "10:\tlearn: 2141.1823547\ttotal: 766ms\tremaining: 2.71s\n",
      "20:\tlearn: 1934.2275825\ttotal: 1.4s\tremaining: 1.93s\n",
      "30:\tlearn: 1865.9135751\ttotal: 2.06s\tremaining: 1.26s\n",
      "40:\tlearn: 1820.8372467\ttotal: 2.73s\tremaining: 598ms\n",
      "49:\tlearn: 1796.9382202\ttotal: 3.3s\tremaining: 0us\n",
      "0:\tlearn: 3979.9941111\ttotal: 138ms\tremaining: 6.75s\n",
      "10:\tlearn: 2068.1878305\ttotal: 1s\tremaining: 3.56s\n",
      "20:\tlearn: 1852.9564033\ttotal: 1.87s\tremaining: 2.58s\n",
      "30:\tlearn: 1782.8357381\ttotal: 2.71s\tremaining: 1.66s\n",
      "40:\tlearn: 1746.2489282\ttotal: 3.54s\tremaining: 777ms\n",
      "49:\tlearn: 1720.1628320\ttotal: 4.27s\tremaining: 0us\n",
      "0:\tlearn: 3977.9945373\ttotal: 95ms\tremaining: 4.66s\n",
      "10:\tlearn: 2046.1593242\ttotal: 924ms\tremaining: 3.27s\n",
      "20:\tlearn: 1851.5005447\ttotal: 1.72s\tremaining: 2.37s\n",
      "30:\tlearn: 1789.1769615\ttotal: 2.51s\tremaining: 1.54s\n",
      "40:\tlearn: 1746.9737106\ttotal: 3.3s\tremaining: 724ms\n",
      "49:\tlearn: 1722.6161357\ttotal: 4.02s\tremaining: 0us\n",
      "0:\tlearn: 3971.0141093\ttotal: 104ms\tremaining: 5.11s\n",
      "10:\tlearn: 2040.5651706\ttotal: 943ms\tremaining: 3.34s\n",
      "20:\tlearn: 1857.3086092\ttotal: 1.72s\tremaining: 2.38s\n",
      "30:\tlearn: 1802.6557798\ttotal: 2.55s\tremaining: 1.56s\n",
      "40:\tlearn: 1759.6428854\ttotal: 3.34s\tremaining: 733ms\n",
      "49:\tlearn: 1733.4597374\ttotal: 4.07s\tremaining: 0us\n",
      "0:\tlearn: 3976.7345492\ttotal: 96.4ms\tremaining: 4.72s\n",
      "10:\tlearn: 2059.5837498\ttotal: 1.04s\tremaining: 3.69s\n",
      "20:\tlearn: 1857.5910211\ttotal: 1.9s\tremaining: 2.62s\n",
      "30:\tlearn: 1796.0304522\ttotal: 2.71s\tremaining: 1.66s\n",
      "40:\tlearn: 1757.5071973\ttotal: 3.53s\tremaining: 775ms\n",
      "49:\tlearn: 1730.8707896\ttotal: 4.26s\tremaining: 0us\n",
      "0:\tlearn: 3956.7759239\ttotal: 112ms\tremaining: 5.48s\n",
      "10:\tlearn: 2042.2964208\ttotal: 979ms\tremaining: 3.47s\n",
      "20:\tlearn: 1846.1965892\ttotal: 1.8s\tremaining: 2.49s\n",
      "30:\tlearn: 1788.4667277\ttotal: 2.65s\tremaining: 1.63s\n",
      "40:\tlearn: 1744.7823893\ttotal: 3.45s\tremaining: 757ms\n",
      "49:\tlearn: 1714.5625983\ttotal: 4.19s\tremaining: 0us\n",
      "0:\tlearn: 3835.2914672\ttotal: 41.9ms\tremaining: 2.05s\n",
      "10:\tlearn: 2364.7018494\ttotal: 368ms\tremaining: 1.31s\n",
      "20:\tlearn: 2170.2329004\ttotal: 660ms\tremaining: 911ms\n",
      "30:\tlearn: 2083.4078202\ttotal: 950ms\tremaining: 583ms\n",
      "40:\tlearn: 2036.3005034\ttotal: 1.24s\tremaining: 273ms\n",
      "49:\tlearn: 2000.0662958\ttotal: 1.51s\tremaining: 0us\n",
      "0:\tlearn: 3835.4888227\ttotal: 42.2ms\tremaining: 2.07s\n",
      "10:\tlearn: 2351.9942071\ttotal: 383ms\tremaining: 1.36s\n",
      "20:\tlearn: 2184.8073333\ttotal: 687ms\tremaining: 948ms\n",
      "30:\tlearn: 2103.4266640\ttotal: 979ms\tremaining: 600ms\n",
      "40:\tlearn: 2050.4123455\ttotal: 1.27s\tremaining: 278ms\n",
      "49:\tlearn: 2010.9430794\ttotal: 1.52s\tremaining: 0us\n",
      "0:\tlearn: 3831.6134594\ttotal: 41.2ms\tremaining: 2.02s\n",
      "10:\tlearn: 2331.1768136\ttotal: 370ms\tremaining: 1.31s\n",
      "20:\tlearn: 2143.1368637\ttotal: 658ms\tremaining: 909ms\n",
      "30:\tlearn: 2076.4607656\ttotal: 948ms\tremaining: 581ms\n",
      "40:\tlearn: 2027.1063792\ttotal: 1.25s\tremaining: 274ms\n",
      "49:\tlearn: 1991.5245572\ttotal: 1.51s\tremaining: 0us\n",
      "0:\tlearn: 3830.3668788\ttotal: 42.2ms\tremaining: 2.07s\n",
      "10:\tlearn: 2311.5537378\ttotal: 374ms\tremaining: 1.33s\n",
      "20:\tlearn: 2135.1111282\ttotal: 667ms\tremaining: 921ms\n",
      "30:\tlearn: 2060.8996053\ttotal: 955ms\tremaining: 586ms\n",
      "40:\tlearn: 2020.8210321\ttotal: 1.25s\tremaining: 274ms\n",
      "49:\tlearn: 1987.0084727\ttotal: 1.52s\tremaining: 0us\n",
      "0:\tlearn: 3820.6824766\ttotal: 41.6ms\tremaining: 2.04s\n",
      "10:\tlearn: 2317.7118515\ttotal: 391ms\tremaining: 1.39s\n",
      "20:\tlearn: 2146.9722007\ttotal: 696ms\tremaining: 961ms\n",
      "30:\tlearn: 2063.0343919\ttotal: 996ms\tremaining: 610ms\n",
      "40:\tlearn: 2017.8250584\ttotal: 1.31s\tremaining: 288ms\n",
      "49:\tlearn: 1982.5650175\ttotal: 1.57s\tremaining: 0us\n",
      "0:\tlearn: 3641.8217160\ttotal: 57.9ms\tremaining: 2.83s\n",
      "10:\tlearn: 2071.8315381\ttotal: 570ms\tremaining: 2.02s\n",
      "20:\tlearn: 1952.9982041\ttotal: 1.03s\tremaining: 1.43s\n",
      "30:\tlearn: 1888.3189258\ttotal: 1.5s\tremaining: 920ms\n",
      "40:\tlearn: 1849.7407091\ttotal: 1.97s\tremaining: 431ms\n",
      "49:\tlearn: 1827.0994356\ttotal: 2.38s\tremaining: 0us\n",
      "0:\tlearn: 3640.6516599\ttotal: 58.5ms\tremaining: 2.87s\n",
      "10:\tlearn: 2085.6394897\ttotal: 559ms\tremaining: 1.98s\n",
      "20:\tlearn: 1968.0493088\ttotal: 1.03s\tremaining: 1.42s\n",
      "30:\tlearn: 1911.0775429\ttotal: 1.52s\tremaining: 931ms\n",
      "40:\tlearn: 1874.4599887\ttotal: 1.99s\tremaining: 437ms\n",
      "49:\tlearn: 1845.0105131\ttotal: 2.43s\tremaining: 0us\n",
      "0:\tlearn: 3634.3055270\ttotal: 101ms\tremaining: 4.93s\n",
      "10:\tlearn: 2082.1480779\ttotal: 916ms\tremaining: 3.25s\n",
      "20:\tlearn: 1975.9596108\ttotal: 1.61s\tremaining: 2.23s\n",
      "30:\tlearn: 1909.8248301\ttotal: 2.21s\tremaining: 1.36s\n",
      "40:\tlearn: 1869.1107360\ttotal: 2.83s\tremaining: 622ms\n",
      "49:\tlearn: 1846.5013151\ttotal: 3.25s\tremaining: 0us\n",
      "0:\tlearn: 3630.1097833\ttotal: 60.1ms\tremaining: 2.94s\n",
      "10:\tlearn: 2090.8673714\ttotal: 577ms\tremaining: 2.04s\n",
      "20:\tlearn: 1978.3707334\ttotal: 1.06s\tremaining: 1.47s\n",
      "30:\tlearn: 1915.1273856\ttotal: 1.54s\tremaining: 945ms\n",
      "40:\tlearn: 1875.3017869\ttotal: 2.02s\tremaining: 445ms\n",
      "49:\tlearn: 1846.5946419\ttotal: 2.44s\tremaining: 0us\n",
      "0:\tlearn: 3626.7576762\ttotal: 59.5ms\tremaining: 2.92s\n",
      "10:\tlearn: 2067.6137537\ttotal: 573ms\tremaining: 2.03s\n",
      "20:\tlearn: 1957.4560952\ttotal: 1.19s\tremaining: 1.64s\n",
      "30:\tlearn: 1896.5148338\ttotal: 1.73s\tremaining: 1.06s\n",
      "40:\tlearn: 1858.0170783\ttotal: 2.21s\tremaining: 486ms\n",
      "49:\tlearn: 1829.8957104\ttotal: 2.63s\tremaining: 0us\n",
      "0:\tlearn: 3500.5714474\ttotal: 72ms\tremaining: 3.53s\n",
      "10:\tlearn: 1956.1655856\ttotal: 757ms\tremaining: 2.68s\n",
      "20:\tlearn: 1850.1699388\ttotal: 1.38s\tremaining: 1.91s\n",
      "30:\tlearn: 1794.3897609\ttotal: 2s\tremaining: 1.22s\n",
      "40:\tlearn: 1757.1549723\ttotal: 2.63s\tremaining: 576ms\n",
      "49:\tlearn: 1737.9617590\ttotal: 3.19s\tremaining: 0us\n",
      "0:\tlearn: 3524.5029838\ttotal: 76.1ms\tremaining: 3.73s\n",
      "10:\tlearn: 1948.4048259\ttotal: 763ms\tremaining: 2.71s\n",
      "20:\tlearn: 1841.8173015\ttotal: 1.4s\tremaining: 1.93s\n",
      "30:\tlearn: 1800.6923307\ttotal: 2.02s\tremaining: 1.24s\n",
      "40:\tlearn: 1751.2269336\ttotal: 2.63s\tremaining: 577ms\n",
      "49:\tlearn: 1729.5167007\ttotal: 3.19s\tremaining: 0us\n",
      "0:\tlearn: 3547.0262032\ttotal: 72.4ms\tremaining: 3.55s\n",
      "10:\tlearn: 1951.7369688\ttotal: 751ms\tremaining: 2.66s\n",
      "20:\tlearn: 1847.5310429\ttotal: 1.41s\tremaining: 1.95s\n",
      "30:\tlearn: 1791.6450253\ttotal: 2.03s\tremaining: 1.24s\n",
      "40:\tlearn: 1759.3187590\ttotal: 2.64s\tremaining: 580ms\n",
      "49:\tlearn: 1734.1758208\ttotal: 3.21s\tremaining: 0us\n",
      "0:\tlearn: 3524.6849798\ttotal: 77.6ms\tremaining: 3.8s\n",
      "10:\tlearn: 1952.1485848\ttotal: 739ms\tremaining: 2.62s\n",
      "20:\tlearn: 1847.8710222\ttotal: 1.43s\tremaining: 1.97s\n",
      "30:\tlearn: 1799.3443536\ttotal: 2.08s\tremaining: 1.27s\n",
      "40:\tlearn: 1765.8431009\ttotal: 2.71s\tremaining: 595ms\n",
      "49:\tlearn: 1740.6171628\ttotal: 3.29s\tremaining: 0us\n",
      "0:\tlearn: 3529.0599126\ttotal: 76.7ms\tremaining: 3.76s\n",
      "10:\tlearn: 1957.7040515\ttotal: 745ms\tremaining: 2.64s\n",
      "20:\tlearn: 1857.3183633\ttotal: 1.38s\tremaining: 1.9s\n",
      "30:\tlearn: 1802.6478248\ttotal: 1.99s\tremaining: 1.22s\n",
      "40:\tlearn: 1757.9115436\ttotal: 2.61s\tremaining: 573ms\n",
      "49:\tlearn: 1734.7543619\ttotal: 3.17s\tremaining: 0us\n",
      "0:\tlearn: 3425.8550809\ttotal: 95.6ms\tremaining: 4.68s\n",
      "10:\tlearn: 1856.6402563\ttotal: 955ms\tremaining: 3.39s\n",
      "20:\tlearn: 1771.1077688\ttotal: 1.76s\tremaining: 2.44s\n",
      "30:\tlearn: 1716.7985098\ttotal: 2.57s\tremaining: 1.57s\n",
      "40:\tlearn: 1673.6578659\ttotal: 3.49s\tremaining: 765ms\n",
      "49:\tlearn: 1646.7167663\ttotal: 4.23s\tremaining: 0us\n",
      "0:\tlearn: 3422.7734699\ttotal: 91.4ms\tremaining: 4.48s\n",
      "10:\tlearn: 1866.3095077\ttotal: 924ms\tremaining: 3.27s\n",
      "20:\tlearn: 1761.8774828\ttotal: 1.71s\tremaining: 2.37s\n",
      "30:\tlearn: 1713.2098329\ttotal: 2.5s\tremaining: 1.53s\n",
      "40:\tlearn: 1669.1133006\ttotal: 3.31s\tremaining: 726ms\n",
      "49:\tlearn: 1639.9519356\ttotal: 4.08s\tremaining: 0us\n",
      "0:\tlearn: 3407.1604581\ttotal: 101ms\tremaining: 4.94s\n",
      "10:\tlearn: 1852.8991983\ttotal: 950ms\tremaining: 3.37s\n",
      "20:\tlearn: 1767.9696972\ttotal: 1.78s\tremaining: 2.46s\n",
      "30:\tlearn: 1715.7971264\ttotal: 2.58s\tremaining: 1.58s\n",
      "40:\tlearn: 1679.8513638\ttotal: 3.41s\tremaining: 748ms\n",
      "49:\tlearn: 1660.9408176\ttotal: 4.13s\tremaining: 0us\n",
      "0:\tlearn: 3429.4673907\ttotal: 97.7ms\tremaining: 4.79s\n",
      "10:\tlearn: 1872.3604400\ttotal: 985ms\tremaining: 3.49s\n",
      "20:\tlearn: 1774.9123726\ttotal: 1.83s\tremaining: 2.53s\n",
      "30:\tlearn: 1723.3480688\ttotal: 2.77s\tremaining: 1.7s\n",
      "40:\tlearn: 1672.3995010\ttotal: 3.6s\tremaining: 790ms\n",
      "49:\tlearn: 1647.8146465\ttotal: 4.37s\tremaining: 0us\n",
      "0:\tlearn: 3393.5960630\ttotal: 102ms\tremaining: 4.97s\n",
      "10:\tlearn: 1854.2200366\ttotal: 989ms\tremaining: 3.51s\n",
      "20:\tlearn: 1751.7918282\ttotal: 1.86s\tremaining: 2.57s\n",
      "30:\tlearn: 1697.6401589\ttotal: 2.7s\tremaining: 1.66s\n",
      "40:\tlearn: 1660.3722648\ttotal: 3.61s\tremaining: 792ms\n",
      "49:\tlearn: 1636.6642323\ttotal: 4.38s\tremaining: 0us\n",
      "0:\tlearn: 3564.7791121\ttotal: 40.8ms\tremaining: 2s\n",
      "10:\tlearn: 2306.5244094\ttotal: 398ms\tremaining: 1.41s\n",
      "20:\tlearn: 2143.5618958\ttotal: 703ms\tremaining: 971ms\n",
      "30:\tlearn: 2051.7030902\ttotal: 1.01s\tremaining: 621ms\n",
      "40:\tlearn: 2004.4271634\ttotal: 1.32s\tremaining: 290ms\n",
      "49:\tlearn: 1977.3705844\ttotal: 1.59s\tremaining: 0us\n",
      "0:\tlearn: 3565.4745721\ttotal: 42.8ms\tremaining: 2.1s\n",
      "10:\tlearn: 2297.0981622\ttotal: 367ms\tremaining: 1.3s\n",
      "20:\tlearn: 2122.4807499\ttotal: 676ms\tremaining: 933ms\n",
      "30:\tlearn: 2048.0045189\ttotal: 993ms\tremaining: 609ms\n",
      "40:\tlearn: 1992.6087341\ttotal: 1.29s\tremaining: 284ms\n",
      "49:\tlearn: 1963.7058989\ttotal: 1.56s\tremaining: 0us\n",
      "0:\tlearn: 3559.5492231\ttotal: 42.2ms\tremaining: 2.07s\n",
      "10:\tlearn: 2307.9703510\ttotal: 359ms\tremaining: 1.27s\n",
      "20:\tlearn: 2137.5737130\ttotal: 655ms\tremaining: 905ms\n",
      "30:\tlearn: 2075.3535739\ttotal: 942ms\tremaining: 578ms\n",
      "40:\tlearn: 2015.0842893\ttotal: 1.23s\tremaining: 270ms\n",
      "49:\tlearn: 1987.4756133\ttotal: 1.49s\tremaining: 0us\n",
      "0:\tlearn: 3561.8466473\ttotal: 40.3ms\tremaining: 1.97s\n",
      "10:\tlearn: 2306.6515139\ttotal: 369ms\tremaining: 1.31s\n",
      "20:\tlearn: 2139.6071227\ttotal: 671ms\tremaining: 926ms\n",
      "30:\tlearn: 2072.9531175\ttotal: 970ms\tremaining: 594ms\n",
      "40:\tlearn: 2027.5024157\ttotal: 1.27s\tremaining: 279ms\n",
      "49:\tlearn: 1994.6026042\ttotal: 1.54s\tremaining: 0us\n",
      "0:\tlearn: 3550.2633678\ttotal: 43.6ms\tremaining: 2.13s\n",
      "10:\tlearn: 2303.0996781\ttotal: 361ms\tremaining: 1.28s\n",
      "20:\tlearn: 2131.0325745\ttotal: 644ms\tremaining: 889ms\n",
      "30:\tlearn: 2051.6093339\ttotal: 930ms\tremaining: 570ms\n",
      "40:\tlearn: 2003.2647089\ttotal: 1.21s\tremaining: 266ms\n",
      "49:\tlearn: 1970.7299494\ttotal: 1.48s\tremaining: 0us\n",
      "0:\tlearn: 3287.5945741\ttotal: 53.2ms\tremaining: 2.61s\n",
      "10:\tlearn: 2071.1174850\ttotal: 549ms\tremaining: 1.95s\n",
      "20:\tlearn: 1936.8996951\ttotal: 995ms\tremaining: 1.37s\n",
      "30:\tlearn: 1874.5151745\ttotal: 1.46s\tremaining: 895ms\n",
      "40:\tlearn: 1838.3113864\ttotal: 1.93s\tremaining: 423ms\n",
      "49:\tlearn: 1814.4201743\ttotal: 2.35s\tremaining: 0us\n",
      "0:\tlearn: 3286.4047263\ttotal: 61.2ms\tremaining: 3s\n",
      "10:\tlearn: 2070.0725690\ttotal: 576ms\tremaining: 2.04s\n",
      "20:\tlearn: 1936.7927335\ttotal: 1.03s\tremaining: 1.42s\n",
      "30:\tlearn: 1881.3524408\ttotal: 1.48s\tremaining: 909ms\n",
      "40:\tlearn: 1834.8726432\ttotal: 1.92s\tremaining: 422ms\n",
      "49:\tlearn: 1808.8500114\ttotal: 2.35s\tremaining: 0us\n",
      "0:\tlearn: 3276.6520917\ttotal: 61.6ms\tremaining: 3.02s\n",
      "10:\tlearn: 2050.5310157\ttotal: 587ms\tremaining: 2.08s\n",
      "20:\tlearn: 1938.4811016\ttotal: 1.17s\tremaining: 1.62s\n",
      "30:\tlearn: 1870.7769420\ttotal: 1.64s\tremaining: 1s\n",
      "40:\tlearn: 1837.1487736\ttotal: 2.09s\tremaining: 459ms\n",
      "49:\tlearn: 1817.8885944\ttotal: 2.51s\tremaining: 0us\n",
      "0:\tlearn: 3274.9436323\ttotal: 59.1ms\tremaining: 2.9s\n",
      "10:\tlearn: 2044.8656430\ttotal: 555ms\tremaining: 1.97s\n",
      "20:\tlearn: 1938.7804471\ttotal: 1.01s\tremaining: 1.4s\n",
      "30:\tlearn: 1872.4055778\ttotal: 1.47s\tremaining: 903ms\n",
      "40:\tlearn: 1833.7273150\ttotal: 1.91s\tremaining: 420ms\n",
      "49:\tlearn: 1807.2601550\ttotal: 2.33s\tremaining: 0us\n",
      "0:\tlearn: 3272.3553210\ttotal: 59.5ms\tremaining: 2.92s\n",
      "10:\tlearn: 2025.5318312\ttotal: 565ms\tremaining: 2s\n",
      "20:\tlearn: 1925.6213895\ttotal: 1.03s\tremaining: 1.42s\n",
      "30:\tlearn: 1865.4783684\ttotal: 1.49s\tremaining: 916ms\n",
      "40:\tlearn: 1825.2170537\ttotal: 1.95s\tremaining: 427ms\n",
      "49:\tlearn: 1804.0582434\ttotal: 2.37s\tremaining: 0us\n",
      "0:\tlearn: 3079.4223042\ttotal: 70.8ms\tremaining: 3.47s\n",
      "10:\tlearn: 1904.9731680\ttotal: 730ms\tremaining: 2.59s\n",
      "20:\tlearn: 1816.8244257\ttotal: 1.34s\tremaining: 1.85s\n",
      "30:\tlearn: 1759.2450715\ttotal: 2.02s\tremaining: 1.24s\n",
      "40:\tlearn: 1722.9472139\ttotal: 2.63s\tremaining: 577ms\n",
      "49:\tlearn: 1703.6004773\ttotal: 3.18s\tremaining: 0us\n",
      "0:\tlearn: 3115.5674239\ttotal: 76.9ms\tremaining: 3.77s\n",
      "10:\tlearn: 1920.6701987\ttotal: 756ms\tremaining: 2.68s\n",
      "20:\tlearn: 1837.0288231\ttotal: 1.4s\tremaining: 1.94s\n",
      "30:\tlearn: 1772.9445041\ttotal: 2.08s\tremaining: 1.27s\n",
      "40:\tlearn: 1742.1062677\ttotal: 2.71s\tremaining: 595ms\n",
      "49:\tlearn: 1717.2402849\ttotal: 3.28s\tremaining: 0us\n",
      "0:\tlearn: 3148.5305169\ttotal: 74.6ms\tremaining: 3.65s\n",
      "10:\tlearn: 1912.1138604\ttotal: 766ms\tremaining: 2.71s\n",
      "20:\tlearn: 1821.0030557\ttotal: 1.4s\tremaining: 1.94s\n",
      "30:\tlearn: 1767.8629718\ttotal: 2.04s\tremaining: 1.25s\n",
      "40:\tlearn: 1731.4158703\ttotal: 2.66s\tremaining: 585ms\n",
      "49:\tlearn: 1707.0778877\ttotal: 3.23s\tremaining: 0us\n",
      "0:\tlearn: 3120.0073874\ttotal: 83.5ms\tremaining: 4.09s\n",
      "10:\tlearn: 1916.5344837\ttotal: 796ms\tremaining: 2.82s\n",
      "20:\tlearn: 1826.0730135\ttotal: 1.46s\tremaining: 2.01s\n",
      "30:\tlearn: 1771.4204293\ttotal: 2.11s\tremaining: 1.29s\n",
      "40:\tlearn: 1735.2612869\ttotal: 2.75s\tremaining: 604ms\n",
      "49:\tlearn: 1714.7356115\ttotal: 3.35s\tremaining: 0us\n",
      "0:\tlearn: 3128.9631027\ttotal: 82.3ms\tremaining: 4.03s\n",
      "10:\tlearn: 1912.9808675\ttotal: 756ms\tremaining: 2.68s\n",
      "20:\tlearn: 1822.3507376\ttotal: 1.4s\tremaining: 1.94s\n",
      "30:\tlearn: 1755.1093209\ttotal: 2.05s\tremaining: 1.25s\n",
      "40:\tlearn: 1721.6932112\ttotal: 2.69s\tremaining: 591ms\n",
      "49:\tlearn: 1700.2918403\ttotal: 3.28s\tremaining: 0us\n",
      "0:\tlearn: 2967.0224222\ttotal: 98.1ms\tremaining: 4.81s\n",
      "10:\tlearn: 1824.0590265\ttotal: 966ms\tremaining: 3.42s\n",
      "20:\tlearn: 1736.9995766\ttotal: 1.82s\tremaining: 2.51s\n",
      "30:\tlearn: 1683.0163189\ttotal: 2.65s\tremaining: 1.63s\n",
      "40:\tlearn: 1644.0864106\ttotal: 3.49s\tremaining: 765ms\n",
      "49:\tlearn: 1625.9834214\ttotal: 4.22s\tremaining: 0us\n",
      "0:\tlearn: 2962.7822639\ttotal: 94.2ms\tremaining: 4.62s\n",
      "10:\tlearn: 1831.7492899\ttotal: 946ms\tremaining: 3.35s\n",
      "20:\tlearn: 1730.6509569\ttotal: 1.76s\tremaining: 2.43s\n",
      "30:\tlearn: 1671.9860456\ttotal: 2.58s\tremaining: 1.58s\n",
      "40:\tlearn: 1634.7302735\ttotal: 3.39s\tremaining: 745ms\n",
      "49:\tlearn: 1609.3043551\ttotal: 4.13s\tremaining: 0us\n",
      "0:\tlearn: 2938.5339889\ttotal: 102ms\tremaining: 4.97s\n",
      "10:\tlearn: 1827.3163572\ttotal: 987ms\tremaining: 3.5s\n",
      "20:\tlearn: 1735.2231354\ttotal: 1.78s\tremaining: 2.46s\n",
      "30:\tlearn: 1679.7827058\ttotal: 2.6s\tremaining: 1.59s\n",
      "40:\tlearn: 1639.6146674\ttotal: 3.4s\tremaining: 747ms\n",
      "49:\tlearn: 1612.4288518\ttotal: 4.15s\tremaining: 0us\n",
      "0:\tlearn: 2977.1859087\ttotal: 100ms\tremaining: 4.92s\n",
      "10:\tlearn: 1831.1487462\ttotal: 974ms\tremaining: 3.45s\n",
      "20:\tlearn: 1744.1835725\ttotal: 1.8s\tremaining: 2.48s\n",
      "30:\tlearn: 1685.0174296\ttotal: 2.65s\tremaining: 1.62s\n",
      "40:\tlearn: 1647.7029358\ttotal: 3.49s\tremaining: 765ms\n",
      "49:\tlearn: 1624.5056119\ttotal: 4.25s\tremaining: 0us\n",
      "0:\tlearn: 2925.2042967\ttotal: 108ms\tremaining: 5.28s\n",
      "10:\tlearn: 1819.1648717\ttotal: 1.09s\tremaining: 3.85s\n",
      "20:\tlearn: 1716.8852097\ttotal: 1.92s\tremaining: 2.65s\n",
      "30:\tlearn: 1665.1015460\ttotal: 2.76s\tremaining: 1.69s\n",
      "40:\tlearn: 1627.4822679\ttotal: 3.56s\tremaining: 782ms\n",
      "49:\tlearn: 1599.0262940\ttotal: 4.26s\tremaining: 0us\n",
      "0:\tlearn: 4184.7168034\ttotal: 38.7ms\tremaining: 3.83s\n",
      "10:\tlearn: 2710.2576141\ttotal: 366ms\tremaining: 2.96s\n",
      "20:\tlearn: 2339.7708474\ttotal: 662ms\tremaining: 2.49s\n",
      "30:\tlearn: 2189.1053856\ttotal: 948ms\tremaining: 2.11s\n",
      "40:\tlearn: 2121.8320610\ttotal: 1.25s\tremaining: 1.8s\n",
      "50:\tlearn: 2083.2646016\ttotal: 1.56s\tremaining: 1.5s\n",
      "60:\tlearn: 2052.8001847\ttotal: 1.87s\tremaining: 1.2s\n",
      "70:\tlearn: 2026.1731514\ttotal: 2.17s\tremaining: 886ms\n",
      "80:\tlearn: 2003.1924652\ttotal: 2.46s\tremaining: 576ms\n",
      "90:\tlearn: 1988.4105582\ttotal: 2.75s\tremaining: 272ms\n",
      "99:\tlearn: 1974.7389931\ttotal: 3s\tremaining: 0us\n",
      "0:\tlearn: 4184.3191538\ttotal: 42.8ms\tremaining: 4.24s\n",
      "10:\tlearn: 2721.6210691\ttotal: 360ms\tremaining: 2.92s\n",
      "20:\tlearn: 2344.5135241\ttotal: 649ms\tremaining: 2.44s\n",
      "30:\tlearn: 2185.6875385\ttotal: 938ms\tremaining: 2.09s\n",
      "40:\tlearn: 2123.2149283\ttotal: 1.22s\tremaining: 1.76s\n",
      "50:\tlearn: 2083.2918617\ttotal: 1.5s\tremaining: 1.44s\n",
      "60:\tlearn: 2061.1123251\ttotal: 1.8s\tremaining: 1.15s\n",
      "70:\tlearn: 2032.9842811\ttotal: 2.09s\tremaining: 855ms\n",
      "80:\tlearn: 2014.8411560\ttotal: 2.38s\tremaining: 559ms\n",
      "90:\tlearn: 1995.4669020\ttotal: 2.68s\tremaining: 265ms\n",
      "99:\tlearn: 1984.5052260\ttotal: 2.97s\tremaining: 0us\n",
      "0:\tlearn: 4182.8621980\ttotal: 43.8ms\tremaining: 4.34s\n",
      "10:\tlearn: 2715.1937571\ttotal: 367ms\tremaining: 2.97s\n",
      "20:\tlearn: 2345.7451400\ttotal: 650ms\tremaining: 2.44s\n",
      "30:\tlearn: 2211.0537513\ttotal: 942ms\tremaining: 2.1s\n",
      "40:\tlearn: 2137.9653704\ttotal: 1.24s\tremaining: 1.79s\n",
      "50:\tlearn: 2099.1206326\ttotal: 1.56s\tremaining: 1.5s\n",
      "60:\tlearn: 2066.7875097\ttotal: 1.87s\tremaining: 1.2s\n",
      "70:\tlearn: 2045.5924515\ttotal: 2.19s\tremaining: 895ms\n",
      "80:\tlearn: 2027.7710958\ttotal: 2.59s\tremaining: 607ms\n",
      "90:\tlearn: 2010.5570952\ttotal: 2.9s\tremaining: 287ms\n",
      "99:\tlearn: 1998.5937504\ttotal: 3.18s\tremaining: 0us\n",
      "0:\tlearn: 4177.3807185\ttotal: 44.3ms\tremaining: 4.39s\n",
      "10:\tlearn: 2719.5134267\ttotal: 376ms\tremaining: 3.04s\n",
      "20:\tlearn: 2354.5515231\ttotal: 687ms\tremaining: 2.58s\n",
      "30:\tlearn: 2206.1091954\ttotal: 990ms\tremaining: 2.2s\n",
      "40:\tlearn: 2131.2400304\ttotal: 1.29s\tremaining: 1.86s\n",
      "50:\tlearn: 2086.0767814\ttotal: 1.58s\tremaining: 1.52s\n",
      "60:\tlearn: 2058.8184216\ttotal: 1.89s\tremaining: 1.21s\n",
      "70:\tlearn: 2033.5611108\ttotal: 2.21s\tremaining: 904ms\n",
      "80:\tlearn: 2015.5947654\ttotal: 2.51s\tremaining: 589ms\n",
      "90:\tlearn: 1996.9658769\ttotal: 2.81s\tremaining: 278ms\n",
      "99:\tlearn: 1983.3790202\ttotal: 3.06s\tremaining: 0us\n",
      "0:\tlearn: 4169.8936211\ttotal: 44ms\tremaining: 4.35s\n",
      "10:\tlearn: 2703.6137133\ttotal: 393ms\tremaining: 3.18s\n",
      "20:\tlearn: 2331.6419590\ttotal: 770ms\tremaining: 2.9s\n",
      "30:\tlearn: 2190.8017095\ttotal: 1.16s\tremaining: 2.59s\n",
      "40:\tlearn: 2113.4349951\ttotal: 1.47s\tremaining: 2.12s\n",
      "50:\tlearn: 2076.7908178\ttotal: 1.78s\tremaining: 1.71s\n",
      "60:\tlearn: 2048.3346206\ttotal: 2.09s\tremaining: 1.34s\n",
      "70:\tlearn: 2026.7570607\ttotal: 2.4s\tremaining: 981ms\n",
      "80:\tlearn: 2005.4547810\ttotal: 2.71s\tremaining: 636ms\n",
      "90:\tlearn: 1989.3344650\ttotal: 3.03s\tremaining: 299ms\n",
      "99:\tlearn: 1976.6900214\ttotal: 3.3s\tremaining: 0us\n",
      "0:\tlearn: 4086.3655612\ttotal: 58.3ms\tremaining: 5.77s\n",
      "10:\tlearn: 2320.7796591\ttotal: 571ms\tremaining: 4.62s\n",
      "20:\tlearn: 2054.7228257\ttotal: 1.04s\tremaining: 3.9s\n",
      "30:\tlearn: 1979.1427874\ttotal: 1.51s\tremaining: 3.37s\n",
      "40:\tlearn: 1923.0907863\ttotal: 1.99s\tremaining: 2.86s\n",
      "50:\tlearn: 1892.3044686\ttotal: 2.47s\tremaining: 2.37s\n",
      "60:\tlearn: 1867.2583638\ttotal: 2.94s\tremaining: 1.88s\n",
      "70:\tlearn: 1848.2437704\ttotal: 3.42s\tremaining: 1.4s\n",
      "80:\tlearn: 1829.6217138\ttotal: 3.91s\tremaining: 917ms\n",
      "90:\tlearn: 1817.2923661\ttotal: 4.42s\tremaining: 437ms\n",
      "99:\tlearn: 1805.6250189\ttotal: 4.85s\tremaining: 0us\n",
      "0:\tlearn: 4085.2516533\ttotal: 58.7ms\tremaining: 5.82s\n",
      "10:\tlearn: 2348.9949628\ttotal: 564ms\tremaining: 4.57s\n",
      "20:\tlearn: 2076.7152876\ttotal: 1.04s\tremaining: 3.93s\n",
      "30:\tlearn: 1988.7985160\ttotal: 1.54s\tremaining: 3.43s\n",
      "40:\tlearn: 1938.3825973\ttotal: 2.03s\tremaining: 2.92s\n",
      "50:\tlearn: 1901.9577597\ttotal: 2.49s\tremaining: 2.39s\n",
      "60:\tlearn: 1876.8414185\ttotal: 2.96s\tremaining: 1.89s\n",
      "70:\tlearn: 1856.4564843\ttotal: 3.4s\tremaining: 1.39s\n",
      "80:\tlearn: 1840.4085219\ttotal: 3.86s\tremaining: 906ms\n",
      "90:\tlearn: 1825.4914897\ttotal: 4.31s\tremaining: 427ms\n",
      "99:\tlearn: 1814.0116718\ttotal: 4.72s\tremaining: 0us\n",
      "0:\tlearn: 4082.6337537\ttotal: 58.5ms\tremaining: 5.79s\n",
      "10:\tlearn: 2351.5552135\ttotal: 523ms\tremaining: 4.24s\n",
      "20:\tlearn: 2077.2120028\ttotal: 960ms\tremaining: 3.61s\n",
      "30:\tlearn: 1988.0398973\ttotal: 1.41s\tremaining: 3.14s\n",
      "40:\tlearn: 1944.5031914\ttotal: 1.87s\tremaining: 2.69s\n",
      "50:\tlearn: 1902.8378720\ttotal: 2.32s\tremaining: 2.23s\n",
      "60:\tlearn: 1877.9121346\ttotal: 2.77s\tremaining: 1.77s\n",
      "70:\tlearn: 1859.1176305\ttotal: 3.23s\tremaining: 1.32s\n",
      "80:\tlearn: 1844.6627448\ttotal: 3.69s\tremaining: 866ms\n",
      "90:\tlearn: 1830.5570206\ttotal: 4.17s\tremaining: 413ms\n",
      "99:\tlearn: 1821.5461998\ttotal: 4.61s\tremaining: 0us\n",
      "0:\tlearn: 4075.5770371\ttotal: 57.3ms\tremaining: 5.67s\n",
      "10:\tlearn: 2329.2536206\ttotal: 532ms\tremaining: 4.31s\n",
      "20:\tlearn: 2078.8432788\ttotal: 969ms\tremaining: 3.64s\n",
      "30:\tlearn: 1994.6482296\ttotal: 1.43s\tremaining: 3.19s\n",
      "40:\tlearn: 1946.7435414\ttotal: 1.87s\tremaining: 2.69s\n",
      "50:\tlearn: 1901.8195949\ttotal: 2.32s\tremaining: 2.23s\n",
      "60:\tlearn: 1877.9659677\ttotal: 2.79s\tremaining: 1.78s\n",
      "70:\tlearn: 1858.6644631\ttotal: 3.25s\tremaining: 1.33s\n",
      "80:\tlearn: 1843.7830537\ttotal: 3.72s\tremaining: 873ms\n",
      "90:\tlearn: 1830.1289976\ttotal: 4.17s\tremaining: 412ms\n",
      "99:\tlearn: 1819.2586956\ttotal: 4.65s\tremaining: 0us\n",
      "0:\tlearn: 4071.3375773\ttotal: 59.7ms\tremaining: 5.91s\n",
      "10:\tlearn: 2326.3133402\ttotal: 569ms\tremaining: 4.61s\n",
      "20:\tlearn: 2050.0014737\ttotal: 1.03s\tremaining: 3.89s\n",
      "30:\tlearn: 1968.7416796\ttotal: 1.51s\tremaining: 3.36s\n",
      "40:\tlearn: 1922.2155915\ttotal: 1.99s\tremaining: 2.87s\n",
      "50:\tlearn: 1891.4762428\ttotal: 2.49s\tremaining: 2.39s\n",
      "60:\tlearn: 1871.6164734\ttotal: 2.95s\tremaining: 1.89s\n",
      "70:\tlearn: 1853.5535491\ttotal: 3.43s\tremaining: 1.4s\n",
      "80:\tlearn: 1838.4929680\ttotal: 3.9s\tremaining: 916ms\n",
      "90:\tlearn: 1820.1014369\ttotal: 4.38s\tremaining: 433ms\n",
      "99:\tlearn: 1808.8417965\ttotal: 4.81s\tremaining: 0us\n",
      "0:\tlearn: 4016.3827830\ttotal: 73.1ms\tremaining: 7.24s\n",
      "10:\tlearn: 2158.7275584\ttotal: 715ms\tremaining: 5.79s\n",
      "20:\tlearn: 1933.3604035\ttotal: 1.31s\tremaining: 4.95s\n",
      "30:\tlearn: 1868.0394867\ttotal: 1.94s\tremaining: 4.31s\n",
      "40:\tlearn: 1825.9977710\ttotal: 2.54s\tremaining: 3.65s\n",
      "50:\tlearn: 1796.1741870\ttotal: 3.17s\tremaining: 3.05s\n",
      "60:\tlearn: 1773.7925059\ttotal: 3.8s\tremaining: 2.43s\n",
      "70:\tlearn: 1754.4642448\ttotal: 4.42s\tremaining: 1.8s\n",
      "80:\tlearn: 1740.6271041\ttotal: 5.04s\tremaining: 1.18s\n",
      "90:\tlearn: 1726.0506900\ttotal: 5.68s\tremaining: 562ms\n",
      "99:\tlearn: 1714.4286990\ttotal: 6.23s\tremaining: 0us\n",
      "0:\tlearn: 4027.6076097\ttotal: 74ms\tremaining: 7.32s\n",
      "10:\tlearn: 2143.6958654\ttotal: 728ms\tremaining: 5.89s\n",
      "20:\tlearn: 1934.7775479\ttotal: 1.33s\tremaining: 5.01s\n",
      "30:\tlearn: 1865.4638212\ttotal: 1.95s\tremaining: 4.35s\n",
      "40:\tlearn: 1825.3059360\ttotal: 2.59s\tremaining: 3.73s\n",
      "50:\tlearn: 1797.3688589\ttotal: 3.27s\tremaining: 3.14s\n",
      "60:\tlearn: 1775.6133033\ttotal: 3.91s\tremaining: 2.5s\n",
      "70:\tlearn: 1759.1643715\ttotal: 4.53s\tremaining: 1.85s\n",
      "80:\tlearn: 1744.0905106\ttotal: 5.17s\tremaining: 1.21s\n",
      "90:\tlearn: 1730.3568987\ttotal: 5.79s\tremaining: 573ms\n",
      "99:\tlearn: 1719.2956409\ttotal: 6.36s\tremaining: 0us\n",
      "0:\tlearn: 4039.2472183\ttotal: 79.3ms\tremaining: 7.85s\n",
      "10:\tlearn: 2195.8463671\ttotal: 747ms\tremaining: 6.04s\n",
      "20:\tlearn: 1950.7176756\ttotal: 1.38s\tremaining: 5.2s\n",
      "30:\tlearn: 1884.4091721\ttotal: 2.01s\tremaining: 4.47s\n",
      "40:\tlearn: 1839.2466395\ttotal: 2.64s\tremaining: 3.8s\n",
      "50:\tlearn: 1812.9791903\ttotal: 3.28s\tremaining: 3.15s\n",
      "60:\tlearn: 1789.3030633\ttotal: 3.93s\tremaining: 2.51s\n",
      "70:\tlearn: 1766.9510894\ttotal: 4.58s\tremaining: 1.87s\n",
      "80:\tlearn: 1749.8916312\ttotal: 5.21s\tremaining: 1.22s\n",
      "90:\tlearn: 1734.8129379\ttotal: 5.86s\tremaining: 579ms\n",
      "99:\tlearn: 1721.8965285\ttotal: 6.42s\tremaining: 0us\n",
      "0:\tlearn: 4023.2207555\ttotal: 79.4ms\tremaining: 7.86s\n",
      "10:\tlearn: 2159.0484489\ttotal: 758ms\tremaining: 6.13s\n",
      "20:\tlearn: 1947.4668772\ttotal: 1.45s\tremaining: 5.45s\n",
      "30:\tlearn: 1873.1715500\ttotal: 2.13s\tremaining: 4.74s\n",
      "40:\tlearn: 1832.9574929\ttotal: 2.8s\tremaining: 4.03s\n",
      "50:\tlearn: 1804.1376461\ttotal: 3.48s\tremaining: 3.34s\n",
      "60:\tlearn: 1778.1940322\ttotal: 4.16s\tremaining: 2.66s\n",
      "70:\tlearn: 1758.2909426\ttotal: 4.83s\tremaining: 1.97s\n",
      "80:\tlearn: 1744.7883113\ttotal: 5.51s\tremaining: 1.29s\n",
      "90:\tlearn: 1731.4425913\ttotal: 6.19s\tremaining: 612ms\n",
      "99:\tlearn: 1722.4768641\ttotal: 6.77s\tremaining: 0us\n",
      "0:\tlearn: 4022.7663001\ttotal: 77.6ms\tremaining: 7.68s\n",
      "10:\tlearn: 2141.1823547\ttotal: 777ms\tremaining: 6.29s\n",
      "20:\tlearn: 1934.2275825\ttotal: 1.42s\tremaining: 5.35s\n",
      "30:\tlearn: 1865.9135751\ttotal: 2.09s\tremaining: 4.64s\n",
      "40:\tlearn: 1820.8372467\ttotal: 2.76s\tremaining: 3.98s\n",
      "50:\tlearn: 1792.5961705\ttotal: 3.41s\tremaining: 3.28s\n",
      "60:\tlearn: 1772.4441976\ttotal: 4.13s\tremaining: 2.64s\n",
      "70:\tlearn: 1753.7745495\ttotal: 4.77s\tremaining: 1.95s\n",
      "80:\tlearn: 1737.4059516\ttotal: 5.41s\tremaining: 1.27s\n",
      "90:\tlearn: 1721.0317832\ttotal: 6.03s\tremaining: 597ms\n",
      "99:\tlearn: 1711.1301458\ttotal: 6.59s\tremaining: 0us\n",
      "0:\tlearn: 3979.9941111\ttotal: 90ms\tremaining: 8.91s\n",
      "10:\tlearn: 2068.1878305\ttotal: 917ms\tremaining: 7.42s\n",
      "20:\tlearn: 1852.9564033\ttotal: 1.73s\tremaining: 6.51s\n",
      "30:\tlearn: 1782.8357381\ttotal: 2.58s\tremaining: 5.74s\n",
      "40:\tlearn: 1746.2489282\ttotal: 3.41s\tremaining: 4.9s\n",
      "50:\tlearn: 1717.9448143\ttotal: 4.25s\tremaining: 4.08s\n",
      "60:\tlearn: 1692.7339063\ttotal: 5.03s\tremaining: 3.22s\n",
      "70:\tlearn: 1673.0358742\ttotal: 5.83s\tremaining: 2.38s\n",
      "80:\tlearn: 1658.2761171\ttotal: 6.64s\tremaining: 1.56s\n",
      "90:\tlearn: 1645.3132961\ttotal: 7.46s\tremaining: 738ms\n",
      "99:\tlearn: 1634.1739311\ttotal: 8.19s\tremaining: 0us\n",
      "0:\tlearn: 3977.9945373\ttotal: 96.7ms\tremaining: 9.57s\n",
      "10:\tlearn: 2046.1593242\ttotal: 930ms\tremaining: 7.53s\n",
      "20:\tlearn: 1851.5005447\ttotal: 1.72s\tremaining: 6.46s\n",
      "30:\tlearn: 1789.1769615\ttotal: 2.54s\tremaining: 5.66s\n",
      "40:\tlearn: 1746.9737106\ttotal: 3.38s\tremaining: 4.86s\n",
      "50:\tlearn: 1720.2762193\ttotal: 4.19s\tremaining: 4.03s\n",
      "60:\tlearn: 1695.0718422\ttotal: 5.04s\tremaining: 3.22s\n",
      "70:\tlearn: 1675.2409600\ttotal: 6.01s\tremaining: 2.45s\n",
      "80:\tlearn: 1658.3640491\ttotal: 6.95s\tremaining: 1.63s\n",
      "90:\tlearn: 1641.8967888\ttotal: 7.85s\tremaining: 776ms\n",
      "99:\tlearn: 1626.8816311\ttotal: 8.61s\tremaining: 0us\n",
      "0:\tlearn: 3971.0141093\ttotal: 99.2ms\tremaining: 9.82s\n",
      "10:\tlearn: 2040.5651706\ttotal: 940ms\tremaining: 7.6s\n",
      "20:\tlearn: 1857.3086092\ttotal: 1.73s\tremaining: 6.52s\n",
      "30:\tlearn: 1802.6557798\ttotal: 2.56s\tremaining: 5.71s\n",
      "40:\tlearn: 1759.6428854\ttotal: 3.41s\tremaining: 4.91s\n",
      "50:\tlearn: 1730.5539574\ttotal: 4.23s\tremaining: 4.07s\n",
      "60:\tlearn: 1701.1302209\ttotal: 5.06s\tremaining: 3.23s\n",
      "70:\tlearn: 1679.6260550\ttotal: 5.85s\tremaining: 2.39s\n",
      "80:\tlearn: 1662.9606944\ttotal: 6.65s\tremaining: 1.56s\n",
      "90:\tlearn: 1651.3238492\ttotal: 7.44s\tremaining: 736ms\n",
      "99:\tlearn: 1638.9313764\ttotal: 8.16s\tremaining: 0us\n",
      "0:\tlearn: 3976.7345492\ttotal: 93.4ms\tremaining: 9.24s\n",
      "10:\tlearn: 2059.5837498\ttotal: 897ms\tremaining: 7.25s\n",
      "20:\tlearn: 1857.5910211\ttotal: 1.69s\tremaining: 6.37s\n",
      "30:\tlearn: 1796.0304522\ttotal: 2.5s\tremaining: 5.57s\n",
      "40:\tlearn: 1757.5071973\ttotal: 3.33s\tremaining: 4.79s\n",
      "50:\tlearn: 1728.1359513\ttotal: 4.17s\tremaining: 4.01s\n",
      "60:\tlearn: 1704.2362507\ttotal: 5.01s\tremaining: 3.2s\n",
      "70:\tlearn: 1681.1649721\ttotal: 5.83s\tremaining: 2.38s\n",
      "80:\tlearn: 1664.4628050\ttotal: 6.66s\tremaining: 1.56s\n",
      "90:\tlearn: 1649.7598029\ttotal: 7.51s\tremaining: 743ms\n",
      "99:\tlearn: 1638.2294497\ttotal: 8.35s\tremaining: 0us\n",
      "0:\tlearn: 3956.7759239\ttotal: 97.2ms\tremaining: 9.62s\n",
      "10:\tlearn: 2042.2964208\ttotal: 961ms\tremaining: 7.77s\n",
      "20:\tlearn: 1846.1965892\ttotal: 1.85s\tremaining: 6.98s\n",
      "30:\tlearn: 1788.4667277\ttotal: 2.75s\tremaining: 6.12s\n",
      "40:\tlearn: 1744.7823893\ttotal: 3.59s\tremaining: 5.17s\n",
      "50:\tlearn: 1712.4558049\ttotal: 4.45s\tremaining: 4.28s\n",
      "60:\tlearn: 1687.5972188\ttotal: 5.28s\tremaining: 3.38s\n",
      "70:\tlearn: 1668.3120538\ttotal: 6.13s\tremaining: 2.5s\n",
      "80:\tlearn: 1650.7706316\ttotal: 7s\tremaining: 1.64s\n",
      "90:\tlearn: 1635.7122731\ttotal: 7.86s\tremaining: 777ms\n",
      "99:\tlearn: 1625.0784107\ttotal: 8.61s\tremaining: 0us\n",
      "0:\tlearn: 3835.2914672\ttotal: 43.7ms\tremaining: 4.32s\n",
      "10:\tlearn: 2364.7018494\ttotal: 405ms\tremaining: 3.28s\n",
      "20:\tlearn: 2170.2329004\ttotal: 729ms\tremaining: 2.74s\n",
      "30:\tlearn: 2083.4078202\ttotal: 1.06s\tremaining: 2.35s\n",
      "40:\tlearn: 2036.3005034\ttotal: 1.39s\tremaining: 2s\n",
      "50:\tlearn: 1996.6174642\ttotal: 1.7s\tremaining: 1.63s\n",
      "60:\tlearn: 1969.1115905\ttotal: 2.02s\tremaining: 1.29s\n",
      "70:\tlearn: 1953.0318028\ttotal: 2.33s\tremaining: 952ms\n",
      "80:\tlearn: 1932.4970376\ttotal: 2.63s\tremaining: 618ms\n",
      "90:\tlearn: 1920.5171558\ttotal: 2.92s\tremaining: 289ms\n",
      "99:\tlearn: 1908.9629844\ttotal: 3.19s\tremaining: 0us\n",
      "0:\tlearn: 3835.4888227\ttotal: 43.8ms\tremaining: 4.33s\n",
      "10:\tlearn: 2351.9942071\ttotal: 369ms\tremaining: 2.99s\n",
      "20:\tlearn: 2184.8073333\ttotal: 672ms\tremaining: 2.53s\n",
      "30:\tlearn: 2103.4266640\ttotal: 974ms\tremaining: 2.17s\n",
      "40:\tlearn: 2050.4123455\ttotal: 1.27s\tremaining: 1.83s\n",
      "50:\tlearn: 2009.0413604\ttotal: 1.58s\tremaining: 1.52s\n",
      "60:\tlearn: 1979.8554897\ttotal: 1.87s\tremaining: 1.2s\n",
      "70:\tlearn: 1962.8454023\ttotal: 2.17s\tremaining: 885ms\n",
      "80:\tlearn: 1946.8614729\ttotal: 2.46s\tremaining: 577ms\n",
      "90:\tlearn: 1928.1190338\ttotal: 2.74s\tremaining: 271ms\n",
      "99:\tlearn: 1917.9270214\ttotal: 3.01s\tremaining: 0us\n",
      "0:\tlearn: 3831.6134594\ttotal: 42.6ms\tremaining: 4.22s\n",
      "10:\tlearn: 2331.1768136\ttotal: 375ms\tremaining: 3.03s\n",
      "20:\tlearn: 2143.1368637\ttotal: 669ms\tremaining: 2.52s\n",
      "30:\tlearn: 2076.4607656\ttotal: 949ms\tremaining: 2.11s\n",
      "40:\tlearn: 2027.1063792\ttotal: 1.24s\tremaining: 1.78s\n",
      "50:\tlearn: 1990.3187911\ttotal: 1.53s\tremaining: 1.48s\n",
      "60:\tlearn: 1964.8108579\ttotal: 1.82s\tremaining: 1.17s\n",
      "70:\tlearn: 1946.1354882\ttotal: 2.12s\tremaining: 865ms\n",
      "80:\tlearn: 1933.3267642\ttotal: 2.42s\tremaining: 567ms\n",
      "90:\tlearn: 1921.9564159\ttotal: 2.71s\tremaining: 268ms\n",
      "99:\tlearn: 1911.4543860\ttotal: 2.96s\tremaining: 0us\n",
      "0:\tlearn: 3830.3668788\ttotal: 41.8ms\tremaining: 4.14s\n",
      "10:\tlearn: 2311.5537378\ttotal: 356ms\tremaining: 2.88s\n",
      "20:\tlearn: 2135.1111282\ttotal: 647ms\tremaining: 2.43s\n",
      "30:\tlearn: 2060.8996053\ttotal: 939ms\tremaining: 2.09s\n",
      "40:\tlearn: 2020.8210321\ttotal: 1.22s\tremaining: 1.75s\n",
      "50:\tlearn: 1983.7765165\ttotal: 1.5s\tremaining: 1.45s\n",
      "60:\tlearn: 1960.7460456\ttotal: 1.8s\tremaining: 1.15s\n",
      "70:\tlearn: 1945.8115293\ttotal: 2.09s\tremaining: 855ms\n",
      "80:\tlearn: 1935.1741981\ttotal: 2.38s\tremaining: 558ms\n",
      "90:\tlearn: 1924.5722611\ttotal: 2.66s\tremaining: 263ms\n",
      "99:\tlearn: 1915.8635450\ttotal: 2.93s\tremaining: 0us\n",
      "0:\tlearn: 3820.6824766\ttotal: 43.5ms\tremaining: 4.3s\n",
      "10:\tlearn: 2317.7118515\ttotal: 370ms\tremaining: 2.99s\n",
      "20:\tlearn: 2146.9722007\ttotal: 670ms\tremaining: 2.52s\n",
      "30:\tlearn: 2063.0343919\ttotal: 957ms\tremaining: 2.13s\n",
      "40:\tlearn: 2017.8250584\ttotal: 1.26s\tremaining: 1.81s\n",
      "50:\tlearn: 1980.1989113\ttotal: 1.56s\tremaining: 1.5s\n",
      "60:\tlearn: 1956.4928975\ttotal: 1.84s\tremaining: 1.18s\n",
      "70:\tlearn: 1939.9578818\ttotal: 2.13s\tremaining: 871ms\n",
      "80:\tlearn: 1923.5474734\ttotal: 2.42s\tremaining: 569ms\n",
      "90:\tlearn: 1914.3324732\ttotal: 2.72s\tremaining: 269ms\n",
      "99:\tlearn: 1902.3167171\ttotal: 2.98s\tremaining: 0us\n",
      "0:\tlearn: 3641.8217160\ttotal: 55.4ms\tremaining: 5.48s\n",
      "10:\tlearn: 2071.8315381\ttotal: 568ms\tremaining: 4.59s\n",
      "20:\tlearn: 1952.9982041\ttotal: 1.04s\tremaining: 3.93s\n",
      "30:\tlearn: 1888.3189258\ttotal: 1.52s\tremaining: 3.39s\n",
      "40:\tlearn: 1849.7407091\ttotal: 2s\tremaining: 2.88s\n",
      "50:\tlearn: 1824.1557835\ttotal: 2.5s\tremaining: 2.4s\n",
      "60:\tlearn: 1803.7780635\ttotal: 3.01s\tremaining: 1.92s\n",
      "70:\tlearn: 1789.4791184\ttotal: 3.57s\tremaining: 1.46s\n",
      "80:\tlearn: 1776.0506856\ttotal: 4.12s\tremaining: 967ms\n",
      "90:\tlearn: 1761.5918726\ttotal: 4.59s\tremaining: 454ms\n",
      "99:\tlearn: 1751.7098977\ttotal: 5s\tremaining: 0us\n",
      "0:\tlearn: 3640.6516599\ttotal: 58.6ms\tremaining: 5.8s\n",
      "10:\tlearn: 2085.6394897\ttotal: 551ms\tremaining: 4.46s\n",
      "20:\tlearn: 1968.0493088\ttotal: 997ms\tremaining: 3.75s\n",
      "30:\tlearn: 1911.0775429\ttotal: 1.47s\tremaining: 3.27s\n",
      "40:\tlearn: 1874.4599887\ttotal: 1.92s\tremaining: 2.77s\n",
      "50:\tlearn: 1843.2904348\ttotal: 2.38s\tremaining: 2.28s\n",
      "60:\tlearn: 1823.2454439\ttotal: 2.84s\tremaining: 1.81s\n",
      "70:\tlearn: 1801.6164744\ttotal: 3.29s\tremaining: 1.34s\n",
      "80:\tlearn: 1785.8393887\ttotal: 3.75s\tremaining: 881ms\n",
      "90:\tlearn: 1773.1385067\ttotal: 4.2s\tremaining: 415ms\n",
      "99:\tlearn: 1761.6588861\ttotal: 4.61s\tremaining: 0us\n",
      "0:\tlearn: 3634.3055270\ttotal: 65.9ms\tremaining: 6.53s\n",
      "10:\tlearn: 2082.1480779\ttotal: 551ms\tremaining: 4.46s\n",
      "20:\tlearn: 1975.9596108\ttotal: 1s\tremaining: 3.78s\n",
      "30:\tlearn: 1909.8248301\ttotal: 1.46s\tremaining: 3.25s\n",
      "40:\tlearn: 1869.1107360\ttotal: 1.91s\tremaining: 2.75s\n",
      "50:\tlearn: 1843.7032066\ttotal: 2.37s\tremaining: 2.28s\n",
      "60:\tlearn: 1821.0831471\ttotal: 2.81s\tremaining: 1.8s\n",
      "70:\tlearn: 1804.0873239\ttotal: 3.27s\tremaining: 1.33s\n",
      "80:\tlearn: 1786.2486540\ttotal: 3.71s\tremaining: 870ms\n",
      "90:\tlearn: 1770.6837638\ttotal: 4.16s\tremaining: 412ms\n",
      "99:\tlearn: 1761.7902029\ttotal: 4.58s\tremaining: 0us\n",
      "0:\tlearn: 3630.1097833\ttotal: 63.9ms\tremaining: 6.33s\n",
      "10:\tlearn: 2090.8673714\ttotal: 568ms\tremaining: 4.59s\n",
      "20:\tlearn: 1978.3707334\ttotal: 1.04s\tremaining: 3.9s\n",
      "30:\tlearn: 1915.1273856\ttotal: 1.53s\tremaining: 3.41s\n",
      "40:\tlearn: 1875.3017869\ttotal: 2s\tremaining: 2.88s\n",
      "50:\tlearn: 1844.4757233\ttotal: 2.44s\tremaining: 2.35s\n",
      "60:\tlearn: 1825.4496090\ttotal: 2.9s\tremaining: 1.85s\n",
      "70:\tlearn: 1807.2401369\ttotal: 3.36s\tremaining: 1.37s\n",
      "80:\tlearn: 1792.4955864\ttotal: 3.83s\tremaining: 899ms\n",
      "90:\tlearn: 1782.0877138\ttotal: 4.31s\tremaining: 427ms\n",
      "99:\tlearn: 1772.5647725\ttotal: 4.71s\tremaining: 0us\n",
      "0:\tlearn: 3626.7576762\ttotal: 55.6ms\tremaining: 5.51s\n",
      "10:\tlearn: 2067.6137537\ttotal: 540ms\tremaining: 4.37s\n",
      "20:\tlearn: 1957.4560952\ttotal: 1.02s\tremaining: 3.83s\n",
      "30:\tlearn: 1896.5148338\ttotal: 1.47s\tremaining: 3.27s\n",
      "40:\tlearn: 1858.0170783\ttotal: 1.95s\tremaining: 2.81s\n",
      "50:\tlearn: 1828.4128767\ttotal: 2.42s\tremaining: 2.33s\n",
      "60:\tlearn: 1810.4401666\ttotal: 2.93s\tremaining: 1.87s\n",
      "70:\tlearn: 1791.4727619\ttotal: 3.4s\tremaining: 1.39s\n",
      "80:\tlearn: 1776.9380093\ttotal: 3.9s\tremaining: 916ms\n",
      "90:\tlearn: 1764.3719425\ttotal: 4.38s\tremaining: 434ms\n",
      "99:\tlearn: 1753.6985891\ttotal: 4.84s\tremaining: 0us\n",
      "0:\tlearn: 3500.5714474\ttotal: 74.9ms\tremaining: 7.42s\n",
      "10:\tlearn: 1956.1655856\ttotal: 783ms\tremaining: 6.33s\n",
      "20:\tlearn: 1850.1699388\ttotal: 1.43s\tremaining: 5.39s\n",
      "30:\tlearn: 1794.3897609\ttotal: 2.07s\tremaining: 4.6s\n",
      "40:\tlearn: 1757.1549723\ttotal: 2.71s\tremaining: 3.89s\n",
      "50:\tlearn: 1735.3501316\ttotal: 3.37s\tremaining: 3.24s\n",
      "60:\tlearn: 1718.3195599\ttotal: 4.04s\tremaining: 2.58s\n",
      "70:\tlearn: 1702.9742561\ttotal: 4.7s\tremaining: 1.92s\n",
      "80:\tlearn: 1689.9754024\ttotal: 5.34s\tremaining: 1.25s\n",
      "90:\tlearn: 1675.2368263\ttotal: 5.97s\tremaining: 591ms\n",
      "99:\tlearn: 1668.4139626\ttotal: 6.55s\tremaining: 0us\n",
      "0:\tlearn: 3524.5029838\ttotal: 77.7ms\tremaining: 7.7s\n",
      "10:\tlearn: 1948.4048259\ttotal: 760ms\tremaining: 6.15s\n",
      "20:\tlearn: 1841.8173015\ttotal: 1.4s\tremaining: 5.26s\n",
      "30:\tlearn: 1800.6923307\ttotal: 2.01s\tremaining: 4.48s\n",
      "40:\tlearn: 1751.2269336\ttotal: 2.65s\tremaining: 3.82s\n",
      "50:\tlearn: 1727.5119828\ttotal: 3.3s\tremaining: 3.17s\n",
      "60:\tlearn: 1706.9784644\ttotal: 3.93s\tremaining: 2.51s\n",
      "70:\tlearn: 1692.5576505\ttotal: 4.57s\tremaining: 1.87s\n",
      "80:\tlearn: 1677.0544381\ttotal: 5.21s\tremaining: 1.22s\n",
      "90:\tlearn: 1663.6755229\ttotal: 5.81s\tremaining: 575ms\n",
      "99:\tlearn: 1655.1215091\ttotal: 6.37s\tremaining: 0us\n",
      "0:\tlearn: 3547.0262032\ttotal: 73.9ms\tremaining: 7.31s\n",
      "10:\tlearn: 1951.7369688\ttotal: 752ms\tremaining: 6.09s\n",
      "20:\tlearn: 1847.5310429\ttotal: 1.4s\tremaining: 5.28s\n",
      "30:\tlearn: 1791.6450253\ttotal: 2.04s\tremaining: 4.53s\n",
      "40:\tlearn: 1759.3187590\ttotal: 2.65s\tremaining: 3.81s\n",
      "50:\tlearn: 1728.2009724\ttotal: 3.25s\tremaining: 3.12s\n",
      "60:\tlearn: 1708.6353305\ttotal: 3.85s\tremaining: 2.46s\n",
      "70:\tlearn: 1692.0485974\ttotal: 4.47s\tremaining: 1.82s\n",
      "80:\tlearn: 1678.5254660\ttotal: 5.08s\tremaining: 1.19s\n",
      "90:\tlearn: 1665.7366144\ttotal: 5.86s\tremaining: 579ms\n",
      "99:\tlearn: 1657.6999970\ttotal: 6.42s\tremaining: 0us\n",
      "0:\tlearn: 3524.6849798\ttotal: 73.1ms\tremaining: 7.24s\n",
      "10:\tlearn: 1952.1485848\ttotal: 710ms\tremaining: 5.75s\n",
      "20:\tlearn: 1847.8710222\ttotal: 1.33s\tremaining: 5.01s\n",
      "30:\tlearn: 1799.3443536\ttotal: 1.97s\tremaining: 4.39s\n",
      "40:\tlearn: 1765.8431009\ttotal: 2.6s\tremaining: 3.74s\n",
      "50:\tlearn: 1738.4596121\ttotal: 3.21s\tremaining: 3.09s\n",
      "60:\tlearn: 1718.1014514\ttotal: 3.85s\tremaining: 2.46s\n",
      "70:\tlearn: 1699.8826237\ttotal: 4.5s\tremaining: 1.84s\n",
      "80:\tlearn: 1686.7334899\ttotal: 5.15s\tremaining: 1.21s\n",
      "90:\tlearn: 1674.8205077\ttotal: 5.83s\tremaining: 577ms\n",
      "99:\tlearn: 1665.6138121\ttotal: 6.48s\tremaining: 0us\n",
      "0:\tlearn: 3529.0599126\ttotal: 74ms\tremaining: 7.33s\n",
      "10:\tlearn: 1957.7040515\ttotal: 734ms\tremaining: 5.93s\n",
      "20:\tlearn: 1857.3183633\ttotal: 1.36s\tremaining: 5.11s\n",
      "30:\tlearn: 1802.6478248\ttotal: 1.98s\tremaining: 4.41s\n",
      "40:\tlearn: 1757.9115436\ttotal: 2.6s\tremaining: 3.74s\n",
      "50:\tlearn: 1733.6100261\ttotal: 3.21s\tremaining: 3.08s\n",
      "60:\tlearn: 1708.8059547\ttotal: 3.83s\tremaining: 2.45s\n",
      "70:\tlearn: 1693.3810974\ttotal: 4.45s\tremaining: 1.82s\n",
      "80:\tlearn: 1680.8117300\ttotal: 5.09s\tremaining: 1.19s\n",
      "90:\tlearn: 1664.7267928\ttotal: 5.7s\tremaining: 564ms\n",
      "99:\tlearn: 1656.8232452\ttotal: 6.37s\tremaining: 0us\n",
      "0:\tlearn: 3425.8550809\ttotal: 89.5ms\tremaining: 8.86s\n",
      "10:\tlearn: 1856.6402563\ttotal: 967ms\tremaining: 7.82s\n",
      "20:\tlearn: 1771.1077688\ttotal: 1.79s\tremaining: 6.75s\n",
      "30:\tlearn: 1716.7985098\ttotal: 2.65s\tremaining: 5.89s\n",
      "40:\tlearn: 1673.6578659\ttotal: 3.49s\tremaining: 5.02s\n",
      "50:\tlearn: 1643.4067925\ttotal: 4.37s\tremaining: 4.2s\n",
      "60:\tlearn: 1622.1622660\ttotal: 5.23s\tremaining: 3.34s\n",
      "70:\tlearn: 1599.0234136\ttotal: 6.08s\tremaining: 2.48s\n",
      "80:\tlearn: 1584.9591432\ttotal: 6.89s\tremaining: 1.62s\n",
      "90:\tlearn: 1571.9811365\ttotal: 7.71s\tremaining: 763ms\n",
      "99:\tlearn: 1562.0374678\ttotal: 8.49s\tremaining: 0us\n",
      "0:\tlearn: 3422.7734699\ttotal: 96.9ms\tremaining: 9.6s\n",
      "10:\tlearn: 1866.3095077\ttotal: 993ms\tremaining: 8.03s\n",
      "20:\tlearn: 1761.8774828\ttotal: 1.84s\tremaining: 6.94s\n",
      "30:\tlearn: 1713.2098329\ttotal: 2.68s\tremaining: 5.96s\n",
      "40:\tlearn: 1669.1133006\ttotal: 3.52s\tremaining: 5.07s\n",
      "50:\tlearn: 1637.9671070\ttotal: 4.37s\tremaining: 4.2s\n",
      "60:\tlearn: 1615.6352127\ttotal: 5.2s\tremaining: 3.32s\n",
      "70:\tlearn: 1595.5674118\ttotal: 6.08s\tremaining: 2.48s\n",
      "80:\tlearn: 1580.6023698\ttotal: 6.92s\tremaining: 1.62s\n",
      "90:\tlearn: 1564.4000425\ttotal: 7.79s\tremaining: 771ms\n",
      "99:\tlearn: 1552.9579706\ttotal: 8.63s\tremaining: 0us\n",
      "0:\tlearn: 3407.1604581\ttotal: 102ms\tremaining: 10.1s\n",
      "10:\tlearn: 1852.8991983\ttotal: 975ms\tremaining: 7.89s\n",
      "20:\tlearn: 1767.9696972\ttotal: 1.8s\tremaining: 6.78s\n",
      "30:\tlearn: 1715.7971264\ttotal: 2.61s\tremaining: 5.82s\n",
      "40:\tlearn: 1679.8513638\ttotal: 3.42s\tremaining: 4.92s\n",
      "50:\tlearn: 1658.8986614\ttotal: 4.23s\tremaining: 4.06s\n",
      "60:\tlearn: 1631.4374814\ttotal: 5.03s\tremaining: 3.22s\n",
      "70:\tlearn: 1614.5798565\ttotal: 5.85s\tremaining: 2.39s\n",
      "80:\tlearn: 1598.7127038\ttotal: 6.69s\tremaining: 1.57s\n",
      "90:\tlearn: 1582.5811901\ttotal: 7.51s\tremaining: 743ms\n",
      "99:\tlearn: 1569.9392770\ttotal: 8.23s\tremaining: 0us\n",
      "0:\tlearn: 3429.4673907\ttotal: 95.1ms\tremaining: 9.41s\n",
      "10:\tlearn: 1872.3604400\ttotal: 924ms\tremaining: 7.47s\n",
      "20:\tlearn: 1774.9123726\ttotal: 1.74s\tremaining: 6.55s\n",
      "30:\tlearn: 1723.3480688\ttotal: 2.57s\tremaining: 5.72s\n",
      "40:\tlearn: 1672.3995010\ttotal: 3.39s\tremaining: 4.88s\n",
      "50:\tlearn: 1645.7565092\ttotal: 4.2s\tremaining: 4.03s\n",
      "60:\tlearn: 1617.3782427\ttotal: 4.97s\tremaining: 3.18s\n",
      "70:\tlearn: 1595.7729612\ttotal: 5.8s\tremaining: 2.37s\n",
      "80:\tlearn: 1579.7531116\ttotal: 6.65s\tremaining: 1.56s\n",
      "90:\tlearn: 1569.0591267\ttotal: 7.49s\tremaining: 741ms\n",
      "99:\tlearn: 1555.3904457\ttotal: 8.21s\tremaining: 0us\n",
      "0:\tlearn: 3393.5960630\ttotal: 142ms\tremaining: 14s\n",
      "10:\tlearn: 1854.2200366\ttotal: 1.05s\tremaining: 8.48s\n",
      "20:\tlearn: 1751.7918282\ttotal: 1.9s\tremaining: 7.16s\n",
      "30:\tlearn: 1697.6401589\ttotal: 2.75s\tremaining: 6.12s\n",
      "40:\tlearn: 1660.3722648\ttotal: 3.58s\tremaining: 5.16s\n",
      "50:\tlearn: 1633.3215711\ttotal: 4.45s\tremaining: 4.27s\n",
      "60:\tlearn: 1609.4308046\ttotal: 5.36s\tremaining: 3.43s\n",
      "70:\tlearn: 1592.5838841\ttotal: 6.18s\tremaining: 2.52s\n",
      "80:\tlearn: 1577.6912107\ttotal: 6.97s\tremaining: 1.64s\n",
      "90:\tlearn: 1566.6438270\ttotal: 7.77s\tremaining: 769ms\n",
      "99:\tlearn: 1554.7085594\ttotal: 8.49s\tremaining: 0us\n",
      "0:\tlearn: 3564.7791121\ttotal: 41.3ms\tremaining: 4.09s\n",
      "10:\tlearn: 2306.5244094\ttotal: 399ms\tremaining: 3.23s\n",
      "20:\tlearn: 2143.5618958\ttotal: 701ms\tremaining: 2.63s\n",
      "30:\tlearn: 2051.7030902\ttotal: 1s\tremaining: 2.23s\n",
      "40:\tlearn: 2004.4271634\ttotal: 1.3s\tremaining: 1.87s\n",
      "50:\tlearn: 1974.1276982\ttotal: 1.61s\tremaining: 1.55s\n",
      "60:\tlearn: 1940.9280936\ttotal: 1.9s\tremaining: 1.21s\n",
      "70:\tlearn: 1923.8321970\ttotal: 2.19s\tremaining: 893ms\n",
      "80:\tlearn: 1908.7351281\ttotal: 2.47s\tremaining: 579ms\n",
      "90:\tlearn: 1893.1662768\ttotal: 2.76s\tremaining: 273ms\n",
      "99:\tlearn: 1879.6064015\ttotal: 3.02s\tremaining: 0us\n",
      "0:\tlearn: 3565.4745721\ttotal: 42.2ms\tremaining: 4.17s\n",
      "10:\tlearn: 2297.0981622\ttotal: 364ms\tremaining: 2.94s\n",
      "20:\tlearn: 2122.4807499\ttotal: 667ms\tremaining: 2.51s\n",
      "30:\tlearn: 2048.0045189\ttotal: 978ms\tremaining: 2.18s\n",
      "40:\tlearn: 1992.6087341\ttotal: 1.29s\tremaining: 1.85s\n",
      "50:\tlearn: 1962.6758368\ttotal: 1.57s\tremaining: 1.51s\n",
      "60:\tlearn: 1940.2268466\ttotal: 1.87s\tremaining: 1.19s\n",
      "70:\tlearn: 1923.7609140\ttotal: 2.16s\tremaining: 881ms\n",
      "80:\tlearn: 1909.5489554\ttotal: 2.44s\tremaining: 573ms\n",
      "90:\tlearn: 1897.1460790\ttotal: 2.73s\tremaining: 270ms\n",
      "99:\tlearn: 1886.1793168\ttotal: 2.99s\tremaining: 0us\n",
      "0:\tlearn: 3559.5492231\ttotal: 42.7ms\tremaining: 4.22s\n",
      "10:\tlearn: 2307.9703510\ttotal: 378ms\tremaining: 3.06s\n",
      "20:\tlearn: 2137.5737130\ttotal: 691ms\tremaining: 2.6s\n",
      "30:\tlearn: 2075.3535739\ttotal: 1.01s\tremaining: 2.24s\n",
      "40:\tlearn: 2015.0842893\ttotal: 1.31s\tremaining: 1.89s\n",
      "50:\tlearn: 1985.4529741\ttotal: 1.63s\tremaining: 1.57s\n",
      "60:\tlearn: 1961.4992499\ttotal: 1.94s\tremaining: 1.24s\n",
      "70:\tlearn: 1940.6038114\ttotal: 2.24s\tremaining: 915ms\n",
      "80:\tlearn: 1922.3716297\ttotal: 2.55s\tremaining: 597ms\n",
      "90:\tlearn: 1908.3917544\ttotal: 2.84s\tremaining: 281ms\n",
      "99:\tlearn: 1895.3194374\ttotal: 3.1s\tremaining: 0us\n",
      "0:\tlearn: 3561.8466473\ttotal: 45.1ms\tremaining: 4.46s\n",
      "10:\tlearn: 2306.6515139\ttotal: 388ms\tremaining: 3.14s\n",
      "20:\tlearn: 2139.6071227\ttotal: 682ms\tremaining: 2.56s\n",
      "30:\tlearn: 2072.9531175\ttotal: 992ms\tremaining: 2.21s\n",
      "40:\tlearn: 2027.5024157\ttotal: 1.3s\tremaining: 1.87s\n",
      "50:\tlearn: 1992.7358675\ttotal: 1.6s\tremaining: 1.54s\n",
      "60:\tlearn: 1961.0281673\ttotal: 1.91s\tremaining: 1.22s\n",
      "70:\tlearn: 1936.8200026\ttotal: 2.21s\tremaining: 904ms\n",
      "80:\tlearn: 1917.7174548\ttotal: 2.51s\tremaining: 589ms\n",
      "90:\tlearn: 1903.1036078\ttotal: 2.81s\tremaining: 278ms\n",
      "99:\tlearn: 1889.7245694\ttotal: 3.08s\tremaining: 0us\n",
      "0:\tlearn: 3550.2633678\ttotal: 50.5ms\tremaining: 5s\n",
      "10:\tlearn: 2303.0996781\ttotal: 516ms\tremaining: 4.18s\n",
      "20:\tlearn: 2131.0325745\ttotal: 833ms\tremaining: 3.13s\n",
      "30:\tlearn: 2051.6093339\ttotal: 1.14s\tremaining: 2.54s\n",
      "40:\tlearn: 2003.2647089\ttotal: 1.46s\tremaining: 2.1s\n",
      "50:\tlearn: 1968.5793896\ttotal: 1.78s\tremaining: 1.71s\n",
      "60:\tlearn: 1944.5133830\ttotal: 2.1s\tremaining: 1.34s\n",
      "70:\tlearn: 1926.2254911\ttotal: 2.41s\tremaining: 983ms\n",
      "80:\tlearn: 1905.7770085\ttotal: 2.71s\tremaining: 637ms\n",
      "90:\tlearn: 1891.9059078\ttotal: 3.01s\tremaining: 298ms\n",
      "99:\tlearn: 1879.1419024\ttotal: 3.31s\tremaining: 0us\n",
      "0:\tlearn: 3287.5945741\ttotal: 63.5ms\tremaining: 6.29s\n",
      "10:\tlearn: 2071.1174850\ttotal: 588ms\tremaining: 4.76s\n",
      "20:\tlearn: 1936.8996951\ttotal: 1.08s\tremaining: 4.08s\n",
      "30:\tlearn: 1874.5151745\ttotal: 1.56s\tremaining: 3.47s\n",
      "40:\tlearn: 1838.3113864\ttotal: 2.04s\tremaining: 2.93s\n",
      "50:\tlearn: 1812.3181547\ttotal: 2.5s\tremaining: 2.41s\n",
      "60:\tlearn: 1795.2315878\ttotal: 2.99s\tremaining: 1.91s\n",
      "70:\tlearn: 1776.6003475\ttotal: 3.68s\tremaining: 1.5s\n",
      "80:\tlearn: 1759.2478223\ttotal: 4.17s\tremaining: 979ms\n",
      "90:\tlearn: 1749.9749189\ttotal: 4.65s\tremaining: 460ms\n",
      "99:\tlearn: 1736.3419783\ttotal: 5.08s\tremaining: 0us\n",
      "0:\tlearn: 3286.4047263\ttotal: 63.1ms\tremaining: 6.25s\n",
      "10:\tlearn: 2070.0725690\ttotal: 587ms\tremaining: 4.75s\n",
      "20:\tlearn: 1936.7927335\ttotal: 1.07s\tremaining: 4.04s\n",
      "30:\tlearn: 1881.3524408\ttotal: 1.55s\tremaining: 3.46s\n",
      "40:\tlearn: 1834.8726432\ttotal: 2.02s\tremaining: 2.9s\n",
      "50:\tlearn: 1806.3439188\ttotal: 2.48s\tremaining: 2.39s\n",
      "60:\tlearn: 1787.0894145\ttotal: 2.95s\tremaining: 1.89s\n",
      "70:\tlearn: 1767.7537732\ttotal: 3.45s\tremaining: 1.41s\n",
      "80:\tlearn: 1756.5726565\ttotal: 3.89s\tremaining: 914ms\n",
      "90:\tlearn: 1745.2742532\ttotal: 4.36s\tremaining: 431ms\n",
      "99:\tlearn: 1735.8682543\ttotal: 4.76s\tremaining: 0us\n",
      "0:\tlearn: 3276.6520917\ttotal: 60.3ms\tremaining: 5.97s\n",
      "10:\tlearn: 2050.5310157\ttotal: 557ms\tremaining: 4.5s\n",
      "20:\tlearn: 1938.4811016\ttotal: 1.01s\tremaining: 3.8s\n",
      "30:\tlearn: 1870.7769420\ttotal: 1.47s\tremaining: 3.28s\n",
      "40:\tlearn: 1837.1487736\ttotal: 1.93s\tremaining: 2.78s\n",
      "50:\tlearn: 1813.8771339\ttotal: 2.38s\tremaining: 2.29s\n",
      "60:\tlearn: 1796.4000164\ttotal: 2.86s\tremaining: 1.83s\n",
      "70:\tlearn: 1778.9894581\ttotal: 3.32s\tremaining: 1.35s\n",
      "80:\tlearn: 1761.1920639\ttotal: 3.77s\tremaining: 885ms\n",
      "90:\tlearn: 1749.9673149\ttotal: 4.23s\tremaining: 419ms\n",
      "99:\tlearn: 1738.3077730\ttotal: 4.63s\tremaining: 0us\n",
      "0:\tlearn: 3274.9436323\ttotal: 59.6ms\tremaining: 5.9s\n",
      "10:\tlearn: 2044.8656430\ttotal: 545ms\tremaining: 4.41s\n",
      "20:\tlearn: 1938.7804471\ttotal: 988ms\tremaining: 3.72s\n",
      "30:\tlearn: 1872.4055778\ttotal: 1.43s\tremaining: 3.17s\n",
      "40:\tlearn: 1833.7273150\ttotal: 1.88s\tremaining: 2.7s\n",
      "50:\tlearn: 1805.9376919\ttotal: 2.34s\tremaining: 2.25s\n",
      "60:\tlearn: 1785.8294403\ttotal: 2.8s\tremaining: 1.79s\n",
      "70:\tlearn: 1766.8036669\ttotal: 3.24s\tremaining: 1.32s\n",
      "80:\tlearn: 1754.2143647\ttotal: 3.71s\tremaining: 870ms\n",
      "90:\tlearn: 1740.2051354\ttotal: 4.15s\tremaining: 410ms\n",
      "99:\tlearn: 1730.2966195\ttotal: 4.56s\tremaining: 0us\n",
      "0:\tlearn: 3272.3553210\ttotal: 56.7ms\tremaining: 5.61s\n",
      "10:\tlearn: 2025.5318312\ttotal: 547ms\tremaining: 4.42s\n",
      "20:\tlearn: 1925.6213895\ttotal: 996ms\tremaining: 3.75s\n",
      "30:\tlearn: 1865.4783684\ttotal: 1.49s\tremaining: 3.31s\n",
      "40:\tlearn: 1825.2170537\ttotal: 1.94s\tremaining: 2.8s\n",
      "50:\tlearn: 1799.1766426\ttotal: 2.41s\tremaining: 2.32s\n",
      "60:\tlearn: 1778.0434922\ttotal: 2.88s\tremaining: 1.84s\n",
      "70:\tlearn: 1760.3987247\ttotal: 3.34s\tremaining: 1.36s\n",
      "80:\tlearn: 1743.4974761\ttotal: 3.81s\tremaining: 894ms\n",
      "90:\tlearn: 1733.3657664\ttotal: 4.28s\tremaining: 423ms\n",
      "99:\tlearn: 1727.8040591\ttotal: 4.7s\tremaining: 0us\n",
      "0:\tlearn: 3079.4223042\ttotal: 72.9ms\tremaining: 7.22s\n",
      "10:\tlearn: 1904.9731680\ttotal: 737ms\tremaining: 5.96s\n",
      "20:\tlearn: 1816.8244257\ttotal: 1.38s\tremaining: 5.19s\n",
      "30:\tlearn: 1759.2450715\ttotal: 1.98s\tremaining: 4.4s\n",
      "40:\tlearn: 1722.9472139\ttotal: 2.61s\tremaining: 3.76s\n",
      "50:\tlearn: 1700.1352242\ttotal: 3.24s\tremaining: 3.11s\n",
      "60:\tlearn: 1682.7516781\ttotal: 3.85s\tremaining: 2.46s\n",
      "70:\tlearn: 1666.9260629\ttotal: 4.47s\tremaining: 1.82s\n",
      "80:\tlearn: 1654.5338038\ttotal: 5.08s\tremaining: 1.19s\n",
      "90:\tlearn: 1643.7417642\ttotal: 5.68s\tremaining: 562ms\n",
      "99:\tlearn: 1635.9274178\ttotal: 6.25s\tremaining: 0us\n",
      "0:\tlearn: 3115.5674239\ttotal: 72.5ms\tremaining: 7.18s\n",
      "10:\tlearn: 1920.6701987\ttotal: 721ms\tremaining: 5.84s\n",
      "20:\tlearn: 1837.0288231\ttotal: 1.33s\tremaining: 5.01s\n",
      "30:\tlearn: 1772.9445041\ttotal: 1.93s\tremaining: 4.3s\n",
      "40:\tlearn: 1742.1062677\ttotal: 2.56s\tremaining: 3.68s\n",
      "50:\tlearn: 1715.2386017\ttotal: 3.19s\tremaining: 3.06s\n",
      "60:\tlearn: 1697.1627908\ttotal: 3.8s\tremaining: 2.43s\n",
      "70:\tlearn: 1685.0223586\ttotal: 4.41s\tremaining: 1.8s\n",
      "80:\tlearn: 1668.6795531\ttotal: 5.03s\tremaining: 1.18s\n",
      "90:\tlearn: 1653.2320338\ttotal: 5.66s\tremaining: 559ms\n",
      "99:\tlearn: 1641.3176671\ttotal: 6.23s\tremaining: 0us\n",
      "0:\tlearn: 3148.5305169\ttotal: 78.3ms\tremaining: 7.75s\n",
      "10:\tlearn: 1912.1138604\ttotal: 731ms\tremaining: 5.92s\n",
      "20:\tlearn: 1821.0030557\ttotal: 1.37s\tremaining: 5.14s\n",
      "30:\tlearn: 1767.8629718\ttotal: 2.03s\tremaining: 4.52s\n",
      "40:\tlearn: 1731.4158703\ttotal: 2.68s\tremaining: 3.85s\n",
      "50:\tlearn: 1705.0315501\ttotal: 3.31s\tremaining: 3.18s\n",
      "60:\tlearn: 1686.4781732\ttotal: 3.98s\tremaining: 2.55s\n",
      "70:\tlearn: 1672.4328659\ttotal: 4.6s\tremaining: 1.88s\n",
      "80:\tlearn: 1658.1308703\ttotal: 5.24s\tremaining: 1.23s\n",
      "90:\tlearn: 1646.8933429\ttotal: 5.89s\tremaining: 582ms\n",
      "99:\tlearn: 1636.1502660\ttotal: 6.47s\tremaining: 0us\n",
      "0:\tlearn: 3120.0073874\ttotal: 79.3ms\tremaining: 7.85s\n",
      "10:\tlearn: 1916.5344837\ttotal: 763ms\tremaining: 6.17s\n",
      "20:\tlearn: 1826.0730135\ttotal: 1.42s\tremaining: 5.33s\n",
      "30:\tlearn: 1771.4204293\ttotal: 2.06s\tremaining: 4.58s\n",
      "40:\tlearn: 1735.2612869\ttotal: 2.7s\tremaining: 3.89s\n",
      "50:\tlearn: 1711.7169466\ttotal: 3.35s\tremaining: 3.22s\n",
      "60:\tlearn: 1686.9943623\ttotal: 4.01s\tremaining: 2.56s\n",
      "70:\tlearn: 1669.6602521\ttotal: 4.64s\tremaining: 1.9s\n",
      "80:\tlearn: 1655.3253885\ttotal: 5.31s\tremaining: 1.25s\n",
      "90:\tlearn: 1643.7218805\ttotal: 5.96s\tremaining: 589ms\n",
      "99:\tlearn: 1631.9051104\ttotal: 6.53s\tremaining: 0us\n",
      "0:\tlearn: 3128.9631027\ttotal: 82.9ms\tremaining: 8.21s\n",
      "10:\tlearn: 1912.9808675\ttotal: 799ms\tremaining: 6.46s\n",
      "20:\tlearn: 1822.3507376\ttotal: 1.44s\tremaining: 5.43s\n",
      "30:\tlearn: 1755.1093209\ttotal: 2.09s\tremaining: 4.65s\n",
      "40:\tlearn: 1721.6932112\ttotal: 2.73s\tremaining: 3.93s\n",
      "50:\tlearn: 1699.2532033\ttotal: 3.37s\tremaining: 3.24s\n",
      "60:\tlearn: 1681.1898213\ttotal: 3.98s\tremaining: 2.54s\n",
      "70:\tlearn: 1661.8792640\ttotal: 4.61s\tremaining: 1.88s\n",
      "80:\tlearn: 1646.8662462\ttotal: 5.23s\tremaining: 1.23s\n",
      "90:\tlearn: 1634.5635363\ttotal: 5.84s\tremaining: 577ms\n",
      "99:\tlearn: 1626.6163365\ttotal: 6.39s\tremaining: 0us\n",
      "0:\tlearn: 2967.0224222\ttotal: 88.6ms\tremaining: 8.77s\n",
      "10:\tlearn: 1824.0590265\ttotal: 947ms\tremaining: 7.66s\n",
      "20:\tlearn: 1736.9995766\ttotal: 1.73s\tremaining: 6.5s\n",
      "30:\tlearn: 1683.0163189\ttotal: 2.54s\tremaining: 5.65s\n",
      "40:\tlearn: 1644.0864106\ttotal: 3.34s\tremaining: 4.81s\n",
      "50:\tlearn: 1623.6901919\ttotal: 4.16s\tremaining: 4s\n",
      "60:\tlearn: 1601.5526049\ttotal: 4.98s\tremaining: 3.19s\n",
      "70:\tlearn: 1583.2135686\ttotal: 5.79s\tremaining: 2.36s\n",
      "80:\tlearn: 1557.1209358\ttotal: 6.59s\tremaining: 1.55s\n",
      "90:\tlearn: 1542.5008974\ttotal: 7.39s\tremaining: 730ms\n",
      "99:\tlearn: 1530.9769451\ttotal: 8.1s\tremaining: 0us\n",
      "0:\tlearn: 2962.7822639\ttotal: 98.4ms\tremaining: 9.74s\n",
      "10:\tlearn: 1831.7492899\ttotal: 974ms\tremaining: 7.88s\n",
      "20:\tlearn: 1730.6509569\ttotal: 1.78s\tremaining: 6.7s\n",
      "30:\tlearn: 1671.9860456\ttotal: 2.6s\tremaining: 5.78s\n",
      "40:\tlearn: 1634.7302735\ttotal: 3.4s\tremaining: 4.9s\n",
      "50:\tlearn: 1605.0470218\ttotal: 4.22s\tremaining: 4.05s\n",
      "60:\tlearn: 1586.6705259\ttotal: 5.08s\tremaining: 3.25s\n",
      "70:\tlearn: 1566.9364515\ttotal: 5.9s\tremaining: 2.41s\n",
      "80:\tlearn: 1550.1199558\ttotal: 6.7s\tremaining: 1.57s\n",
      "90:\tlearn: 1534.8144191\ttotal: 7.52s\tremaining: 744ms\n",
      "99:\tlearn: 1521.4965953\ttotal: 8.26s\tremaining: 0us\n",
      "0:\tlearn: 2938.5339889\ttotal: 104ms\tremaining: 10.3s\n",
      "10:\tlearn: 1827.3163572\ttotal: 1.04s\tremaining: 8.4s\n",
      "20:\tlearn: 1735.2231354\ttotal: 1.9s\tremaining: 7.13s\n",
      "30:\tlearn: 1679.7827058\ttotal: 2.72s\tremaining: 6.05s\n",
      "40:\tlearn: 1639.6146674\ttotal: 3.52s\tremaining: 5.06s\n",
      "50:\tlearn: 1610.2671688\ttotal: 4.35s\tremaining: 4.18s\n",
      "60:\tlearn: 1589.7569794\ttotal: 5.16s\tremaining: 3.3s\n",
      "70:\tlearn: 1567.4404887\ttotal: 5.96s\tremaining: 2.43s\n",
      "80:\tlearn: 1550.0532805\ttotal: 6.86s\tremaining: 1.61s\n",
      "90:\tlearn: 1536.9619318\ttotal: 7.66s\tremaining: 758ms\n",
      "99:\tlearn: 1518.2479525\ttotal: 8.4s\tremaining: 0us\n",
      "0:\tlearn: 2977.1859087\ttotal: 91.2ms\tremaining: 9.02s\n",
      "10:\tlearn: 1831.1487462\ttotal: 933ms\tremaining: 7.54s\n",
      "20:\tlearn: 1744.1835725\ttotal: 1.75s\tremaining: 6.6s\n",
      "30:\tlearn: 1685.0174296\ttotal: 2.56s\tremaining: 5.71s\n",
      "40:\tlearn: 1647.7029358\ttotal: 3.36s\tremaining: 4.84s\n",
      "50:\tlearn: 1620.2234967\ttotal: 4.19s\tremaining: 4.03s\n",
      "60:\tlearn: 1597.9995598\ttotal: 5.02s\tremaining: 3.21s\n",
      "70:\tlearn: 1576.3191473\ttotal: 5.83s\tremaining: 2.38s\n",
      "80:\tlearn: 1556.8899712\ttotal: 6.68s\tremaining: 1.57s\n",
      "90:\tlearn: 1547.8917835\ttotal: 7.53s\tremaining: 745ms\n",
      "99:\tlearn: 1538.5637006\ttotal: 8.28s\tremaining: 0us\n",
      "0:\tlearn: 2925.2042967\ttotal: 103ms\tremaining: 10.2s\n",
      "10:\tlearn: 1819.1648717\ttotal: 964ms\tremaining: 7.8s\n",
      "20:\tlearn: 1716.8852097\ttotal: 1.83s\tremaining: 6.87s\n",
      "30:\tlearn: 1665.1015460\ttotal: 2.68s\tremaining: 5.97s\n",
      "40:\tlearn: 1627.4822679\ttotal: 3.52s\tremaining: 5.07s\n",
      "50:\tlearn: 1595.8959301\ttotal: 4.37s\tremaining: 4.2s\n",
      "60:\tlearn: 1576.6411453\ttotal: 5.22s\tremaining: 3.33s\n",
      "70:\tlearn: 1551.5516633\ttotal: 6.24s\tremaining: 2.55s\n",
      "80:\tlearn: 1535.8676871\ttotal: 7.1s\tremaining: 1.66s\n",
      "90:\tlearn: 1524.8473798\ttotal: 7.98s\tremaining: 789ms\n",
      "99:\tlearn: 1512.5453858\ttotal: 8.76s\tremaining: 0us\n",
      "0:\tlearn: 4184.7168034\ttotal: 41.1ms\tremaining: 6.12s\n",
      "10:\tlearn: 2710.2576141\ttotal: 374ms\tremaining: 4.73s\n",
      "20:\tlearn: 2339.7708474\ttotal: 700ms\tremaining: 4.3s\n",
      "30:\tlearn: 2189.1053856\ttotal: 1.03s\tremaining: 3.94s\n",
      "40:\tlearn: 2121.8320610\ttotal: 1.33s\tremaining: 3.55s\n",
      "50:\tlearn: 2083.2646016\ttotal: 1.64s\tremaining: 3.19s\n",
      "60:\tlearn: 2052.8001847\ttotal: 1.95s\tremaining: 2.85s\n",
      "70:\tlearn: 2026.1731514\ttotal: 2.27s\tremaining: 2.53s\n",
      "80:\tlearn: 2003.1924652\ttotal: 2.58s\tremaining: 2.19s\n",
      "90:\tlearn: 1988.4105582\ttotal: 2.88s\tremaining: 1.87s\n",
      "100:\tlearn: 1972.2797183\ttotal: 3.18s\tremaining: 1.54s\n",
      "110:\tlearn: 1956.9409310\ttotal: 3.48s\tremaining: 1.22s\n",
      "120:\tlearn: 1948.4538217\ttotal: 3.79s\tremaining: 910ms\n",
      "130:\tlearn: 1939.1052265\ttotal: 4.1s\tremaining: 595ms\n",
      "140:\tlearn: 1930.9105229\ttotal: 4.4s\tremaining: 281ms\n",
      "149:\tlearn: 1924.1344784\ttotal: 4.67s\tremaining: 0us\n",
      "0:\tlearn: 4184.3191538\ttotal: 40.9ms\tremaining: 6.09s\n",
      "10:\tlearn: 2721.6210691\ttotal: 369ms\tremaining: 4.66s\n",
      "20:\tlearn: 2344.5135241\ttotal: 664ms\tremaining: 4.08s\n",
      "30:\tlearn: 2185.6875385\ttotal: 953ms\tremaining: 3.66s\n",
      "40:\tlearn: 2123.2149283\ttotal: 1.24s\tremaining: 3.3s\n",
      "50:\tlearn: 2083.2918617\ttotal: 1.52s\tremaining: 2.95s\n",
      "60:\tlearn: 2061.1123251\ttotal: 1.81s\tremaining: 2.64s\n",
      "70:\tlearn: 2032.9842811\ttotal: 2.1s\tremaining: 2.33s\n",
      "80:\tlearn: 2014.8411560\ttotal: 2.39s\tremaining: 2.03s\n",
      "90:\tlearn: 1995.4669020\ttotal: 2.67s\tremaining: 1.73s\n",
      "100:\tlearn: 1981.1589852\ttotal: 2.96s\tremaining: 1.44s\n",
      "110:\tlearn: 1970.1967865\ttotal: 3.25s\tremaining: 1.14s\n",
      "120:\tlearn: 1957.4983187\ttotal: 3.53s\tremaining: 846ms\n",
      "130:\tlearn: 1947.8355266\ttotal: 3.82s\tremaining: 554ms\n",
      "140:\tlearn: 1938.7595755\ttotal: 4.1s\tremaining: 262ms\n",
      "149:\tlearn: 1930.0140052\ttotal: 4.36s\tremaining: 0us\n",
      "0:\tlearn: 4182.8621980\ttotal: 45.1ms\tremaining: 6.72s\n",
      "10:\tlearn: 2715.1937571\ttotal: 371ms\tremaining: 4.69s\n",
      "20:\tlearn: 2345.7451400\ttotal: 680ms\tremaining: 4.17s\n",
      "30:\tlearn: 2211.0537513\ttotal: 981ms\tremaining: 3.76s\n",
      "40:\tlearn: 2137.9653704\ttotal: 1.28s\tremaining: 3.41s\n",
      "50:\tlearn: 2099.1206326\ttotal: 1.6s\tremaining: 3.1s\n",
      "60:\tlearn: 2066.7875097\ttotal: 1.9s\tremaining: 2.77s\n",
      "70:\tlearn: 2045.5924515\ttotal: 2.19s\tremaining: 2.44s\n",
      "80:\tlearn: 2027.7710958\ttotal: 2.48s\tremaining: 2.11s\n",
      "90:\tlearn: 2010.5570952\ttotal: 2.78s\tremaining: 1.8s\n",
      "100:\tlearn: 1997.7520399\ttotal: 3.06s\tremaining: 1.48s\n",
      "110:\tlearn: 1986.2639763\ttotal: 3.36s\tremaining: 1.18s\n",
      "120:\tlearn: 1970.5324011\ttotal: 3.64s\tremaining: 872ms\n",
      "130:\tlearn: 1960.4436340\ttotal: 3.92s\tremaining: 569ms\n",
      "140:\tlearn: 1953.2292884\ttotal: 4.23s\tremaining: 270ms\n",
      "149:\tlearn: 1945.0444801\ttotal: 4.5s\tremaining: 0us\n",
      "0:\tlearn: 4177.3807185\ttotal: 41.5ms\tremaining: 6.18s\n",
      "10:\tlearn: 2719.5134267\ttotal: 377ms\tremaining: 4.76s\n",
      "20:\tlearn: 2354.5515231\ttotal: 697ms\tremaining: 4.28s\n",
      "30:\tlearn: 2206.1091954\ttotal: 994ms\tremaining: 3.82s\n",
      "40:\tlearn: 2131.2400304\ttotal: 1.29s\tremaining: 3.43s\n",
      "50:\tlearn: 2086.0767814\ttotal: 1.58s\tremaining: 3.07s\n",
      "60:\tlearn: 2058.8184216\ttotal: 1.86s\tremaining: 2.72s\n",
      "70:\tlearn: 2033.5611108\ttotal: 2.15s\tremaining: 2.39s\n",
      "80:\tlearn: 2015.5947654\ttotal: 2.44s\tremaining: 2.08s\n",
      "90:\tlearn: 1996.9658769\ttotal: 2.72s\tremaining: 1.76s\n",
      "100:\tlearn: 1981.8986639\ttotal: 3.01s\tremaining: 1.46s\n",
      "110:\tlearn: 1969.5986201\ttotal: 3.31s\tremaining: 1.16s\n",
      "120:\tlearn: 1959.7859953\ttotal: 3.6s\tremaining: 864ms\n",
      "130:\tlearn: 1950.4922130\ttotal: 3.9s\tremaining: 565ms\n",
      "140:\tlearn: 1941.8798234\ttotal: 4.19s\tremaining: 267ms\n",
      "149:\tlearn: 1935.7924718\ttotal: 4.45s\tremaining: 0us\n",
      "0:\tlearn: 4169.8936211\ttotal: 46.7ms\tremaining: 6.95s\n",
      "10:\tlearn: 2703.6137133\ttotal: 397ms\tremaining: 5.02s\n",
      "20:\tlearn: 2331.6419590\ttotal: 704ms\tremaining: 4.33s\n",
      "30:\tlearn: 2190.8017095\ttotal: 1.01s\tremaining: 3.87s\n",
      "40:\tlearn: 2113.4349951\ttotal: 1.32s\tremaining: 3.51s\n",
      "50:\tlearn: 2076.7908178\ttotal: 1.63s\tremaining: 3.16s\n",
      "60:\tlearn: 2048.3346206\ttotal: 1.94s\tremaining: 2.83s\n",
      "70:\tlearn: 2026.7570607\ttotal: 2.25s\tremaining: 2.51s\n",
      "80:\tlearn: 2005.4547810\ttotal: 2.56s\tremaining: 2.19s\n",
      "90:\tlearn: 1989.3344650\ttotal: 2.87s\tremaining: 1.86s\n",
      "100:\tlearn: 1974.4006454\ttotal: 3.16s\tremaining: 1.53s\n",
      "110:\tlearn: 1964.7529707\ttotal: 3.45s\tremaining: 1.21s\n",
      "120:\tlearn: 1952.8369250\ttotal: 3.75s\tremaining: 899ms\n",
      "130:\tlearn: 1944.7606751\ttotal: 4.05s\tremaining: 587ms\n",
      "140:\tlearn: 1937.2047485\ttotal: 4.34s\tremaining: 277ms\n",
      "149:\tlearn: 1928.9489147\ttotal: 4.59s\tremaining: 0us\n",
      "0:\tlearn: 4086.3655612\ttotal: 60.2ms\tremaining: 8.96s\n",
      "10:\tlearn: 2320.7796591\ttotal: 545ms\tremaining: 6.89s\n",
      "20:\tlearn: 2054.7228257\ttotal: 1.02s\tremaining: 6.28s\n",
      "30:\tlearn: 1979.1427874\ttotal: 1.51s\tremaining: 5.82s\n",
      "40:\tlearn: 1923.0907863\ttotal: 2s\tremaining: 5.31s\n",
      "50:\tlearn: 1892.3044686\ttotal: 2.48s\tremaining: 4.82s\n",
      "60:\tlearn: 1867.2583638\ttotal: 2.93s\tremaining: 4.28s\n",
      "70:\tlearn: 1848.2437704\ttotal: 3.39s\tremaining: 3.77s\n",
      "80:\tlearn: 1829.6217138\ttotal: 3.84s\tremaining: 3.27s\n",
      "90:\tlearn: 1817.2923661\ttotal: 4.29s\tremaining: 2.78s\n",
      "100:\tlearn: 1804.8504941\ttotal: 4.73s\tremaining: 2.29s\n",
      "110:\tlearn: 1793.6557638\ttotal: 5.18s\tremaining: 1.82s\n",
      "120:\tlearn: 1784.1621607\ttotal: 5.63s\tremaining: 1.35s\n",
      "130:\tlearn: 1777.1043468\ttotal: 6.1s\tremaining: 884ms\n",
      "140:\tlearn: 1769.5613416\ttotal: 6.57s\tremaining: 419ms\n",
      "149:\tlearn: 1763.5433341\ttotal: 6.98s\tremaining: 0us\n",
      "0:\tlearn: 4085.2516533\ttotal: 62.6ms\tremaining: 9.32s\n",
      "10:\tlearn: 2348.9949628\ttotal: 545ms\tremaining: 6.88s\n",
      "20:\tlearn: 2076.7152876\ttotal: 999ms\tremaining: 6.14s\n",
      "30:\tlearn: 1988.7985160\ttotal: 1.48s\tremaining: 5.66s\n",
      "40:\tlearn: 1938.3825973\ttotal: 1.94s\tremaining: 5.14s\n",
      "50:\tlearn: 1901.9577597\ttotal: 2.41s\tremaining: 4.68s\n",
      "60:\tlearn: 1876.8414185\ttotal: 2.89s\tremaining: 4.22s\n",
      "70:\tlearn: 1856.4564843\ttotal: 3.35s\tremaining: 3.73s\n",
      "80:\tlearn: 1840.4085219\ttotal: 3.85s\tremaining: 3.27s\n",
      "90:\tlearn: 1825.4914897\ttotal: 4.31s\tremaining: 2.79s\n",
      "100:\tlearn: 1813.5489098\ttotal: 4.76s\tremaining: 2.31s\n",
      "110:\tlearn: 1801.8440820\ttotal: 5.22s\tremaining: 1.83s\n",
      "120:\tlearn: 1792.7730050\ttotal: 5.66s\tremaining: 1.36s\n",
      "130:\tlearn: 1782.7109178\ttotal: 6.11s\tremaining: 886ms\n",
      "140:\tlearn: 1775.3699470\ttotal: 6.55s\tremaining: 418ms\n",
      "149:\tlearn: 1770.2120143\ttotal: 6.96s\tremaining: 0us\n",
      "0:\tlearn: 4082.6337537\ttotal: 61.8ms\tremaining: 9.2s\n",
      "10:\tlearn: 2351.5552135\ttotal: 554ms\tremaining: 7s\n",
      "20:\tlearn: 2077.2120028\ttotal: 1.02s\tremaining: 6.24s\n",
      "30:\tlearn: 1988.0398973\ttotal: 1.47s\tremaining: 5.65s\n",
      "40:\tlearn: 1944.5031914\ttotal: 2s\tremaining: 5.32s\n",
      "50:\tlearn: 1902.8378720\ttotal: 2.46s\tremaining: 4.77s\n",
      "60:\tlearn: 1877.9121346\ttotal: 2.93s\tremaining: 4.28s\n",
      "70:\tlearn: 1859.1176305\ttotal: 3.63s\tremaining: 4.04s\n",
      "80:\tlearn: 1844.6627448\ttotal: 4.09s\tremaining: 3.49s\n",
      "90:\tlearn: 1830.5570206\ttotal: 4.57s\tremaining: 2.96s\n",
      "100:\tlearn: 1820.1571992\ttotal: 5.04s\tremaining: 2.45s\n",
      "110:\tlearn: 1809.0058058\ttotal: 5.62s\tremaining: 1.97s\n",
      "120:\tlearn: 1802.4602213\ttotal: 6.09s\tremaining: 1.46s\n",
      "130:\tlearn: 1793.1306231\ttotal: 6.57s\tremaining: 952ms\n",
      "140:\tlearn: 1785.5293611\ttotal: 7.04s\tremaining: 449ms\n",
      "149:\tlearn: 1779.0424752\ttotal: 7.47s\tremaining: 0us\n",
      "0:\tlearn: 4075.5770371\ttotal: 60.3ms\tremaining: 8.99s\n",
      "10:\tlearn: 2329.2536206\ttotal: 554ms\tremaining: 7s\n",
      "20:\tlearn: 2078.8432788\ttotal: 1.02s\tremaining: 6.25s\n",
      "30:\tlearn: 1994.6482296\ttotal: 1.5s\tremaining: 5.75s\n",
      "40:\tlearn: 1946.7435414\ttotal: 1.97s\tremaining: 5.24s\n",
      "50:\tlearn: 1901.8195949\ttotal: 2.43s\tremaining: 4.72s\n",
      "60:\tlearn: 1877.9659677\ttotal: 2.92s\tremaining: 4.26s\n",
      "70:\tlearn: 1858.6644631\ttotal: 3.41s\tremaining: 3.79s\n",
      "80:\tlearn: 1843.7830537\ttotal: 3.88s\tremaining: 3.3s\n",
      "90:\tlearn: 1830.1289976\ttotal: 4.35s\tremaining: 2.82s\n",
      "100:\tlearn: 1818.0891884\ttotal: 4.83s\tremaining: 2.35s\n",
      "110:\tlearn: 1805.7065207\ttotal: 5.35s\tremaining: 1.88s\n",
      "120:\tlearn: 1796.6849582\ttotal: 5.83s\tremaining: 1.4s\n",
      "130:\tlearn: 1785.7534245\ttotal: 6.31s\tremaining: 915ms\n",
      "140:\tlearn: 1777.2729445\ttotal: 6.8s\tremaining: 434ms\n",
      "149:\tlearn: 1771.8741074\ttotal: 7.23s\tremaining: 0us\n",
      "0:\tlearn: 4071.3375773\ttotal: 58.7ms\tremaining: 8.75s\n",
      "10:\tlearn: 2326.3133402\ttotal: 570ms\tremaining: 7.21s\n",
      "20:\tlearn: 2050.0014737\ttotal: 1.03s\tremaining: 6.31s\n",
      "30:\tlearn: 1968.7416796\ttotal: 1.49s\tremaining: 5.72s\n",
      "40:\tlearn: 1922.2155915\ttotal: 1.95s\tremaining: 5.18s\n",
      "50:\tlearn: 1891.4762428\ttotal: 2.42s\tremaining: 4.69s\n",
      "60:\tlearn: 1871.6164734\ttotal: 2.88s\tremaining: 4.2s\n",
      "70:\tlearn: 1853.5535491\ttotal: 3.32s\tremaining: 3.7s\n",
      "80:\tlearn: 1838.4929680\ttotal: 3.76s\tremaining: 3.2s\n",
      "90:\tlearn: 1820.1014369\ttotal: 4.2s\tremaining: 2.73s\n",
      "100:\tlearn: 1808.0772241\ttotal: 4.65s\tremaining: 2.25s\n",
      "110:\tlearn: 1799.4199266\ttotal: 5.09s\tremaining: 1.79s\n",
      "120:\tlearn: 1789.9132566\ttotal: 5.55s\tremaining: 1.33s\n",
      "130:\tlearn: 1780.4118328\ttotal: 6s\tremaining: 870ms\n",
      "140:\tlearn: 1771.6370268\ttotal: 6.47s\tremaining: 413ms\n",
      "149:\tlearn: 1763.9771575\ttotal: 6.88s\tremaining: 0us\n",
      "0:\tlearn: 4016.3827830\ttotal: 69.9ms\tremaining: 10.4s\n",
      "10:\tlearn: 2158.7275584\ttotal: 709ms\tremaining: 8.96s\n",
      "20:\tlearn: 1933.3604035\ttotal: 1.34s\tremaining: 8.22s\n",
      "30:\tlearn: 1868.0394867\ttotal: 1.96s\tremaining: 7.53s\n",
      "40:\tlearn: 1825.9977710\ttotal: 2.56s\tremaining: 6.8s\n",
      "50:\tlearn: 1796.1741870\ttotal: 3.2s\tremaining: 6.21s\n",
      "60:\tlearn: 1773.7925059\ttotal: 3.84s\tremaining: 5.6s\n",
      "70:\tlearn: 1754.4642448\ttotal: 4.44s\tremaining: 4.95s\n",
      "80:\tlearn: 1740.6271041\ttotal: 5.06s\tremaining: 4.31s\n",
      "90:\tlearn: 1726.0506900\ttotal: 5.68s\tremaining: 3.68s\n",
      "100:\tlearn: 1713.1511664\ttotal: 6.29s\tremaining: 3.05s\n",
      "110:\tlearn: 1703.0916541\ttotal: 6.92s\tremaining: 2.43s\n",
      "120:\tlearn: 1694.4695348\ttotal: 7.54s\tremaining: 1.81s\n",
      "130:\tlearn: 1686.9750366\ttotal: 8.15s\tremaining: 1.18s\n",
      "140:\tlearn: 1679.6094387\ttotal: 8.81s\tremaining: 563ms\n",
      "149:\tlearn: 1674.6112816\ttotal: 9.43s\tremaining: 0us\n",
      "0:\tlearn: 4027.6076097\ttotal: 76.1ms\tremaining: 11.3s\n",
      "10:\tlearn: 2143.6958654\ttotal: 777ms\tremaining: 9.82s\n",
      "20:\tlearn: 1934.7775479\ttotal: 1.42s\tremaining: 8.7s\n",
      "30:\tlearn: 1865.4638212\ttotal: 2.04s\tremaining: 7.83s\n",
      "40:\tlearn: 1825.3059360\ttotal: 2.68s\tremaining: 7.12s\n",
      "50:\tlearn: 1797.3688589\ttotal: 3.28s\tremaining: 6.36s\n",
      "60:\tlearn: 1775.6133033\ttotal: 3.89s\tremaining: 5.68s\n",
      "70:\tlearn: 1759.1643715\ttotal: 4.51s\tremaining: 5.02s\n",
      "80:\tlearn: 1744.0905106\ttotal: 5.16s\tremaining: 4.39s\n",
      "90:\tlearn: 1730.3568987\ttotal: 5.84s\tremaining: 3.79s\n",
      "100:\tlearn: 1718.2649578\ttotal: 6.5s\tremaining: 3.15s\n",
      "110:\tlearn: 1706.4980341\ttotal: 7.14s\tremaining: 2.51s\n",
      "120:\tlearn: 1698.3336577\ttotal: 7.76s\tremaining: 1.86s\n",
      "130:\tlearn: 1689.9991314\ttotal: 8.35s\tremaining: 1.21s\n",
      "140:\tlearn: 1681.9552233\ttotal: 8.97s\tremaining: 572ms\n",
      "149:\tlearn: 1675.1260336\ttotal: 9.51s\tremaining: 0us\n",
      "0:\tlearn: 4039.2472183\ttotal: 72.1ms\tremaining: 10.7s\n",
      "10:\tlearn: 2195.8463671\ttotal: 709ms\tremaining: 8.96s\n",
      "20:\tlearn: 1950.7176756\ttotal: 1.34s\tremaining: 8.23s\n",
      "30:\tlearn: 1884.4091721\ttotal: 1.99s\tremaining: 7.62s\n",
      "40:\tlearn: 1839.2466395\ttotal: 2.61s\tremaining: 6.95s\n",
      "50:\tlearn: 1812.9791903\ttotal: 3.24s\tremaining: 6.29s\n",
      "60:\tlearn: 1789.3030633\ttotal: 3.85s\tremaining: 5.62s\n",
      "70:\tlearn: 1766.9510894\ttotal: 4.47s\tremaining: 4.98s\n",
      "80:\tlearn: 1749.8916312\ttotal: 5.08s\tremaining: 4.33s\n",
      "90:\tlearn: 1734.8129379\ttotal: 5.72s\tremaining: 3.71s\n",
      "100:\tlearn: 1720.8402025\ttotal: 6.37s\tremaining: 3.09s\n",
      "110:\tlearn: 1709.9359213\ttotal: 7.01s\tremaining: 2.46s\n",
      "120:\tlearn: 1702.3277354\ttotal: 7.63s\tremaining: 1.83s\n",
      "130:\tlearn: 1693.4100472\ttotal: 8.24s\tremaining: 1.2s\n",
      "140:\tlearn: 1686.0631769\ttotal: 8.87s\tremaining: 566ms\n",
      "149:\tlearn: 1679.2958068\ttotal: 9.46s\tremaining: 0us\n",
      "0:\tlearn: 4023.2207555\ttotal: 78.9ms\tremaining: 11.8s\n",
      "10:\tlearn: 2159.0484489\ttotal: 744ms\tremaining: 9.4s\n",
      "20:\tlearn: 1947.4668772\ttotal: 1.38s\tremaining: 8.48s\n",
      "30:\tlearn: 1873.1715500\ttotal: 2.02s\tremaining: 7.76s\n",
      "40:\tlearn: 1832.9574929\ttotal: 2.66s\tremaining: 7.08s\n",
      "50:\tlearn: 1804.1376461\ttotal: 3.32s\tremaining: 6.45s\n",
      "60:\tlearn: 1778.1940322\ttotal: 3.97s\tremaining: 5.79s\n",
      "70:\tlearn: 1758.2909426\ttotal: 4.63s\tremaining: 5.15s\n",
      "80:\tlearn: 1744.7883113\ttotal: 5.29s\tremaining: 4.51s\n",
      "90:\tlearn: 1731.4425913\ttotal: 5.96s\tremaining: 3.86s\n",
      "100:\tlearn: 1720.9830778\ttotal: 6.59s\tremaining: 3.2s\n",
      "110:\tlearn: 1712.1607668\ttotal: 7.25s\tremaining: 2.55s\n",
      "120:\tlearn: 1702.6137828\ttotal: 7.91s\tremaining: 1.9s\n",
      "130:\tlearn: 1695.1363940\ttotal: 8.56s\tremaining: 1.24s\n",
      "140:\tlearn: 1688.0004221\ttotal: 9.22s\tremaining: 588ms\n",
      "149:\tlearn: 1681.7757546\ttotal: 9.8s\tremaining: 0us\n",
      "0:\tlearn: 4022.7663001\ttotal: 82.5ms\tremaining: 12.3s\n",
      "10:\tlearn: 2141.1823547\ttotal: 771ms\tremaining: 9.75s\n",
      "20:\tlearn: 1934.2275825\ttotal: 1.41s\tremaining: 8.63s\n",
      "30:\tlearn: 1865.9135751\ttotal: 2.06s\tremaining: 7.89s\n",
      "40:\tlearn: 1820.8372467\ttotal: 2.71s\tremaining: 7.2s\n",
      "50:\tlearn: 1792.5961705\ttotal: 3.37s\tremaining: 6.54s\n",
      "60:\tlearn: 1772.4441976\ttotal: 4.04s\tremaining: 5.9s\n",
      "70:\tlearn: 1753.7745495\ttotal: 4.7s\tremaining: 5.23s\n",
      "80:\tlearn: 1737.4059516\ttotal: 5.34s\tremaining: 4.55s\n",
      "90:\tlearn: 1721.0317832\ttotal: 5.98s\tremaining: 3.88s\n",
      "100:\tlearn: 1710.0644127\ttotal: 6.6s\tremaining: 3.2s\n",
      "110:\tlearn: 1697.4770782\ttotal: 7.24s\tremaining: 2.54s\n",
      "120:\tlearn: 1690.2695695\ttotal: 7.87s\tremaining: 1.89s\n",
      "130:\tlearn: 1679.4515278\ttotal: 8.51s\tremaining: 1.23s\n",
      "140:\tlearn: 1672.1446034\ttotal: 9.15s\tremaining: 584ms\n",
      "149:\tlearn: 1665.3642434\ttotal: 9.71s\tremaining: 0us\n",
      "0:\tlearn: 3979.9941111\ttotal: 93.7ms\tremaining: 14s\n",
      "10:\tlearn: 2068.1878305\ttotal: 944ms\tremaining: 11.9s\n",
      "20:\tlearn: 1852.9564033\ttotal: 1.78s\tremaining: 10.9s\n",
      "30:\tlearn: 1782.8357381\ttotal: 2.6s\tremaining: 9.98s\n",
      "40:\tlearn: 1746.2489282\ttotal: 3.41s\tremaining: 9.07s\n",
      "50:\tlearn: 1717.9448143\ttotal: 4.24s\tremaining: 8.23s\n",
      "60:\tlearn: 1692.7339063\ttotal: 5s\tremaining: 7.29s\n",
      "70:\tlearn: 1673.0358742\ttotal: 5.8s\tremaining: 6.46s\n",
      "80:\tlearn: 1658.2761171\ttotal: 6.61s\tremaining: 5.63s\n",
      "90:\tlearn: 1645.3132961\ttotal: 7.44s\tremaining: 4.82s\n",
      "100:\tlearn: 1633.4621727\ttotal: 8.23s\tremaining: 3.99s\n",
      "110:\tlearn: 1623.8739095\ttotal: 9.02s\tremaining: 3.17s\n",
      "120:\tlearn: 1615.7295258\ttotal: 9.85s\tremaining: 2.36s\n",
      "130:\tlearn: 1605.3708078\ttotal: 10.7s\tremaining: 1.55s\n",
      "140:\tlearn: 1595.2469868\ttotal: 11.5s\tremaining: 735ms\n",
      "149:\tlearn: 1587.9493520\ttotal: 12.3s\tremaining: 0us\n",
      "0:\tlearn: 3977.9945373\ttotal: 97.5ms\tremaining: 14.5s\n",
      "10:\tlearn: 2046.1593242\ttotal: 978ms\tremaining: 12.4s\n",
      "20:\tlearn: 1851.5005447\ttotal: 1.82s\tremaining: 11.2s\n",
      "30:\tlearn: 1789.1769615\ttotal: 2.65s\tremaining: 10.2s\n",
      "40:\tlearn: 1746.9737106\ttotal: 3.5s\tremaining: 9.29s\n",
      "50:\tlearn: 1720.2762193\ttotal: 4.41s\tremaining: 8.57s\n",
      "60:\tlearn: 1695.0718422\ttotal: 5.23s\tremaining: 7.63s\n",
      "70:\tlearn: 1675.2409600\ttotal: 6.03s\tremaining: 6.71s\n",
      "80:\tlearn: 1658.3640491\ttotal: 6.85s\tremaining: 5.83s\n",
      "90:\tlearn: 1641.8967888\ttotal: 7.66s\tremaining: 4.97s\n",
      "100:\tlearn: 1625.4243327\ttotal: 8.53s\tremaining: 4.14s\n",
      "110:\tlearn: 1614.6607375\ttotal: 9.36s\tremaining: 3.29s\n",
      "120:\tlearn: 1607.5457108\ttotal: 10.2s\tremaining: 2.44s\n",
      "130:\tlearn: 1597.2357874\ttotal: 11s\tremaining: 1.59s\n",
      "140:\tlearn: 1588.5816534\ttotal: 11.8s\tremaining: 753ms\n",
      "149:\tlearn: 1578.6841083\ttotal: 12.5s\tremaining: 0us\n",
      "0:\tlearn: 3971.0141093\ttotal: 110ms\tremaining: 16.4s\n",
      "10:\tlearn: 2040.5651706\ttotal: 970ms\tremaining: 12.3s\n",
      "20:\tlearn: 1857.3086092\ttotal: 1.82s\tremaining: 11.2s\n",
      "30:\tlearn: 1802.6557798\ttotal: 2.7s\tremaining: 10.4s\n",
      "40:\tlearn: 1759.6428854\ttotal: 3.57s\tremaining: 9.48s\n",
      "50:\tlearn: 1730.5539574\ttotal: 4.42s\tremaining: 8.58s\n",
      "60:\tlearn: 1701.1302209\ttotal: 5.25s\tremaining: 7.67s\n",
      "70:\tlearn: 1679.6260550\ttotal: 6.15s\tremaining: 6.85s\n",
      "80:\tlearn: 1662.9606944\ttotal: 7.11s\tremaining: 6.05s\n",
      "90:\tlearn: 1651.3238492\ttotal: 7.99s\tremaining: 5.18s\n",
      "100:\tlearn: 1637.4900581\ttotal: 8.84s\tremaining: 4.29s\n",
      "110:\tlearn: 1625.3424266\ttotal: 9.66s\tremaining: 3.39s\n",
      "120:\tlearn: 1613.2961803\ttotal: 10.5s\tremaining: 2.52s\n",
      "130:\tlearn: 1603.7049543\ttotal: 11.5s\tremaining: 1.67s\n",
      "140:\tlearn: 1595.7397991\ttotal: 12.4s\tremaining: 793ms\n",
      "149:\tlearn: 1589.3902735\ttotal: 13.2s\tremaining: 0us\n",
      "0:\tlearn: 3976.7345492\ttotal: 104ms\tremaining: 15.5s\n",
      "10:\tlearn: 2059.5837498\ttotal: 1.01s\tremaining: 12.7s\n",
      "20:\tlearn: 1857.5910211\ttotal: 1.89s\tremaining: 11.6s\n",
      "30:\tlearn: 1796.0304522\ttotal: 2.74s\tremaining: 10.5s\n",
      "40:\tlearn: 1757.5071973\ttotal: 3.59s\tremaining: 9.55s\n",
      "50:\tlearn: 1728.1359513\ttotal: 4.47s\tremaining: 8.67s\n",
      "60:\tlearn: 1704.2362507\ttotal: 5.36s\tremaining: 7.82s\n",
      "70:\tlearn: 1681.1649721\ttotal: 6.24s\tremaining: 6.95s\n",
      "80:\tlearn: 1664.4628050\ttotal: 7.11s\tremaining: 6.05s\n",
      "90:\tlearn: 1649.7598029\ttotal: 7.95s\tremaining: 5.16s\n",
      "100:\tlearn: 1636.9883071\ttotal: 8.8s\tremaining: 4.27s\n",
      "110:\tlearn: 1625.5621435\ttotal: 9.71s\tremaining: 3.41s\n",
      "120:\tlearn: 1615.7746582\ttotal: 10.6s\tremaining: 2.54s\n",
      "130:\tlearn: 1605.5400146\ttotal: 11.4s\tremaining: 1.65s\n",
      "140:\tlearn: 1593.7528074\ttotal: 12.2s\tremaining: 779ms\n",
      "149:\tlearn: 1584.3813396\ttotal: 12.9s\tremaining: 0us\n",
      "0:\tlearn: 3956.7759239\ttotal: 96.1ms\tremaining: 14.3s\n",
      "10:\tlearn: 2042.2964208\ttotal: 921ms\tremaining: 11.6s\n",
      "20:\tlearn: 1846.1965892\ttotal: 1.71s\tremaining: 10.5s\n",
      "30:\tlearn: 1788.4667277\ttotal: 2.51s\tremaining: 9.62s\n",
      "40:\tlearn: 1744.7823893\ttotal: 3.34s\tremaining: 8.87s\n",
      "50:\tlearn: 1712.4558049\ttotal: 4.16s\tremaining: 8.08s\n",
      "60:\tlearn: 1687.5972188\ttotal: 4.98s\tremaining: 7.27s\n",
      "70:\tlearn: 1668.3120538\ttotal: 5.78s\tremaining: 6.43s\n",
      "80:\tlearn: 1650.7706316\ttotal: 6.56s\tremaining: 5.59s\n",
      "90:\tlearn: 1635.7122731\ttotal: 7.35s\tremaining: 4.76s\n",
      "100:\tlearn: 1623.2987303\ttotal: 8.14s\tremaining: 3.95s\n",
      "110:\tlearn: 1610.9947631\ttotal: 8.95s\tremaining: 3.14s\n",
      "120:\tlearn: 1603.3606635\ttotal: 9.78s\tremaining: 2.34s\n",
      "130:\tlearn: 1593.8998205\ttotal: 10.6s\tremaining: 1.53s\n",
      "140:\tlearn: 1585.0681592\ttotal: 11.4s\tremaining: 726ms\n",
      "149:\tlearn: 1577.8426465\ttotal: 12.1s\tremaining: 0us\n",
      "0:\tlearn: 3835.2914672\ttotal: 43.9ms\tremaining: 6.54s\n",
      "10:\tlearn: 2364.7018494\ttotal: 411ms\tremaining: 5.2s\n",
      "20:\tlearn: 2170.2329004\ttotal: 720ms\tremaining: 4.42s\n",
      "30:\tlearn: 2083.4078202\ttotal: 1.02s\tremaining: 3.92s\n",
      "40:\tlearn: 2036.3005034\ttotal: 1.32s\tremaining: 3.51s\n",
      "50:\tlearn: 1996.6174642\ttotal: 1.62s\tremaining: 3.15s\n",
      "60:\tlearn: 1969.1115905\ttotal: 1.93s\tremaining: 2.81s\n",
      "70:\tlearn: 1953.0318028\ttotal: 2.23s\tremaining: 2.48s\n",
      "80:\tlearn: 1932.4970376\ttotal: 2.53s\tremaining: 2.15s\n",
      "90:\tlearn: 1920.5171558\ttotal: 2.83s\tremaining: 1.84s\n",
      "100:\tlearn: 1907.5715292\ttotal: 3.14s\tremaining: 1.52s\n",
      "110:\tlearn: 1899.5472566\ttotal: 3.45s\tremaining: 1.21s\n",
      "120:\tlearn: 1890.7367731\ttotal: 3.75s\tremaining: 898ms\n",
      "130:\tlearn: 1880.4326960\ttotal: 4.04s\tremaining: 586ms\n",
      "140:\tlearn: 1870.2848000\ttotal: 4.36s\tremaining: 278ms\n",
      "149:\tlearn: 1862.9342030\ttotal: 4.62s\tremaining: 0us\n",
      "0:\tlearn: 3835.4888227\ttotal: 43.7ms\tremaining: 6.5s\n",
      "10:\tlearn: 2351.9942071\ttotal: 378ms\tremaining: 4.78s\n",
      "20:\tlearn: 2184.8073333\ttotal: 659ms\tremaining: 4.04s\n",
      "30:\tlearn: 2103.4266640\ttotal: 935ms\tremaining: 3.59s\n",
      "40:\tlearn: 2050.4123455\ttotal: 1.22s\tremaining: 3.25s\n",
      "50:\tlearn: 2009.0413604\ttotal: 1.51s\tremaining: 2.94s\n",
      "60:\tlearn: 1979.8554897\ttotal: 1.81s\tremaining: 2.64s\n",
      "70:\tlearn: 1962.8454023\ttotal: 2.1s\tremaining: 2.33s\n",
      "80:\tlearn: 1946.8614729\ttotal: 2.39s\tremaining: 2.04s\n",
      "90:\tlearn: 1928.1190338\ttotal: 2.67s\tremaining: 1.73s\n",
      "100:\tlearn: 1916.8141869\ttotal: 2.97s\tremaining: 1.44s\n",
      "110:\tlearn: 1907.1774101\ttotal: 3.27s\tremaining: 1.15s\n",
      "120:\tlearn: 1899.4420792\ttotal: 3.55s\tremaining: 851ms\n",
      "130:\tlearn: 1890.7306065\ttotal: 3.84s\tremaining: 557ms\n",
      "140:\tlearn: 1883.2308321\ttotal: 4.14s\tremaining: 264ms\n",
      "149:\tlearn: 1877.6104834\ttotal: 4.41s\tremaining: 0us\n",
      "0:\tlearn: 3831.6134594\ttotal: 44.3ms\tremaining: 6.6s\n",
      "10:\tlearn: 2331.1768136\ttotal: 380ms\tremaining: 4.8s\n",
      "20:\tlearn: 2143.1368637\ttotal: 668ms\tremaining: 4.11s\n",
      "30:\tlearn: 2076.4607656\ttotal: 964ms\tremaining: 3.7s\n",
      "40:\tlearn: 2027.1063792\ttotal: 1.26s\tremaining: 3.35s\n",
      "50:\tlearn: 1990.3187911\ttotal: 1.57s\tremaining: 3.04s\n",
      "60:\tlearn: 1964.8108579\ttotal: 1.87s\tremaining: 2.73s\n",
      "70:\tlearn: 1946.1354882\ttotal: 2.18s\tremaining: 2.42s\n",
      "80:\tlearn: 1933.3267642\ttotal: 2.46s\tremaining: 2.1s\n",
      "90:\tlearn: 1921.9564159\ttotal: 2.76s\tremaining: 1.79s\n",
      "100:\tlearn: 1910.9027848\ttotal: 3.04s\tremaining: 1.48s\n",
      "110:\tlearn: 1903.4472629\ttotal: 3.33s\tremaining: 1.17s\n",
      "120:\tlearn: 1896.1237576\ttotal: 3.62s\tremaining: 867ms\n",
      "130:\tlearn: 1886.8344569\ttotal: 3.91s\tremaining: 567ms\n",
      "140:\tlearn: 1876.7233830\ttotal: 4.19s\tremaining: 268ms\n",
      "149:\tlearn: 1870.5188237\ttotal: 4.45s\tremaining: 0us\n",
      "0:\tlearn: 3830.3668788\ttotal: 43.5ms\tremaining: 6.47s\n",
      "10:\tlearn: 2311.5537378\ttotal: 384ms\tremaining: 4.85s\n",
      "20:\tlearn: 2135.1111282\ttotal: 690ms\tremaining: 4.24s\n",
      "30:\tlearn: 2060.8996053\ttotal: 995ms\tremaining: 3.82s\n",
      "40:\tlearn: 2020.8210321\ttotal: 1.3s\tremaining: 3.46s\n",
      "50:\tlearn: 1983.7765165\ttotal: 1.61s\tremaining: 3.12s\n",
      "60:\tlearn: 1960.7460456\ttotal: 1.91s\tremaining: 2.78s\n",
      "70:\tlearn: 1945.8115293\ttotal: 2.2s\tremaining: 2.45s\n",
      "80:\tlearn: 1935.1741981\ttotal: 2.5s\tremaining: 2.13s\n",
      "90:\tlearn: 1924.5722611\ttotal: 2.78s\tremaining: 1.8s\n",
      "100:\tlearn: 1914.3679742\ttotal: 3.06s\tremaining: 1.49s\n",
      "110:\tlearn: 1901.3193508\ttotal: 3.36s\tremaining: 1.18s\n",
      "120:\tlearn: 1893.9491031\ttotal: 3.66s\tremaining: 877ms\n",
      "130:\tlearn: 1884.5808535\ttotal: 3.95s\tremaining: 573ms\n",
      "140:\tlearn: 1877.7546391\ttotal: 4.24s\tremaining: 271ms\n",
      "149:\tlearn: 1871.4737706\ttotal: 4.51s\tremaining: 0us\n",
      "0:\tlearn: 3820.6824766\ttotal: 42.4ms\tremaining: 6.32s\n",
      "10:\tlearn: 2317.7118515\ttotal: 382ms\tremaining: 4.82s\n",
      "20:\tlearn: 2146.9722007\ttotal: 689ms\tremaining: 4.23s\n",
      "30:\tlearn: 2063.0343919\ttotal: 995ms\tremaining: 3.82s\n",
      "40:\tlearn: 2017.8250584\ttotal: 1.29s\tremaining: 3.44s\n",
      "50:\tlearn: 1980.1989113\ttotal: 1.59s\tremaining: 3.09s\n",
      "60:\tlearn: 1956.4928975\ttotal: 1.89s\tremaining: 2.76s\n",
      "70:\tlearn: 1939.9578818\ttotal: 2.19s\tremaining: 2.44s\n",
      "80:\tlearn: 1923.5474734\ttotal: 2.5s\tremaining: 2.13s\n",
      "90:\tlearn: 1914.3324732\ttotal: 2.8s\tremaining: 1.82s\n",
      "100:\tlearn: 1901.0863987\ttotal: 3.13s\tremaining: 1.52s\n",
      "110:\tlearn: 1888.1501590\ttotal: 3.43s\tremaining: 1.21s\n",
      "120:\tlearn: 1877.1367308\ttotal: 3.74s\tremaining: 897ms\n",
      "130:\tlearn: 1868.8332388\ttotal: 4.06s\tremaining: 589ms\n",
      "140:\tlearn: 1862.2330762\ttotal: 4.37s\tremaining: 279ms\n",
      "149:\tlearn: 1857.1579451\ttotal: 4.64s\tremaining: 0us\n",
      "0:\tlearn: 3641.8217160\ttotal: 64.3ms\tremaining: 9.57s\n",
      "10:\tlearn: 2071.8315381\ttotal: 602ms\tremaining: 7.61s\n",
      "20:\tlearn: 1952.9982041\ttotal: 1.1s\tremaining: 6.74s\n",
      "30:\tlearn: 1888.3189258\ttotal: 1.58s\tremaining: 6.08s\n",
      "40:\tlearn: 1849.7407091\ttotal: 2.08s\tremaining: 5.53s\n",
      "50:\tlearn: 1824.1557835\ttotal: 2.57s\tremaining: 4.99s\n",
      "60:\tlearn: 1803.7780635\ttotal: 3.05s\tremaining: 4.45s\n",
      "70:\tlearn: 1789.4791184\ttotal: 3.53s\tremaining: 3.93s\n",
      "80:\tlearn: 1776.0506856\ttotal: 4.03s\tremaining: 3.43s\n",
      "90:\tlearn: 1761.5918726\ttotal: 4.5s\tremaining: 2.92s\n",
      "100:\tlearn: 1751.3248195\ttotal: 4.97s\tremaining: 2.41s\n",
      "110:\tlearn: 1743.1266571\ttotal: 5.45s\tremaining: 1.91s\n",
      "120:\tlearn: 1735.7885457\ttotal: 5.94s\tremaining: 1.42s\n",
      "130:\tlearn: 1728.7581803\ttotal: 6.4s\tremaining: 928ms\n",
      "140:\tlearn: 1722.1133971\ttotal: 6.88s\tremaining: 439ms\n",
      "149:\tlearn: 1715.5925070\ttotal: 7.3s\tremaining: 0us\n",
      "0:\tlearn: 3640.6516599\ttotal: 64.8ms\tremaining: 9.65s\n",
      "10:\tlearn: 2085.6394897\ttotal: 583ms\tremaining: 7.37s\n",
      "20:\tlearn: 1968.0493088\ttotal: 1.05s\tremaining: 6.46s\n",
      "30:\tlearn: 1911.0775429\ttotal: 1.52s\tremaining: 5.84s\n",
      "40:\tlearn: 1874.4599887\ttotal: 1.99s\tremaining: 5.3s\n",
      "50:\tlearn: 1843.2904348\ttotal: 2.45s\tremaining: 4.75s\n",
      "60:\tlearn: 1823.2454439\ttotal: 2.9s\tremaining: 4.24s\n",
      "70:\tlearn: 1801.6164744\ttotal: 3.34s\tremaining: 3.72s\n",
      "80:\tlearn: 1785.8393887\ttotal: 3.79s\tremaining: 3.23s\n",
      "90:\tlearn: 1773.1385067\ttotal: 4.23s\tremaining: 2.74s\n",
      "100:\tlearn: 1760.4535361\ttotal: 4.69s\tremaining: 2.27s\n",
      "110:\tlearn: 1748.5677624\ttotal: 5.16s\tremaining: 1.81s\n",
      "120:\tlearn: 1740.4680814\ttotal: 5.61s\tremaining: 1.34s\n",
      "130:\tlearn: 1733.4222877\ttotal: 6.06s\tremaining: 879ms\n",
      "140:\tlearn: 1726.2312604\ttotal: 6.6s\tremaining: 421ms\n",
      "149:\tlearn: 1720.9506053\ttotal: 7s\tremaining: 0us\n",
      "0:\tlearn: 3634.3055270\ttotal: 57.6ms\tremaining: 8.58s\n",
      "10:\tlearn: 2082.1480779\ttotal: 575ms\tremaining: 7.26s\n",
      "20:\tlearn: 1975.9596108\ttotal: 1.04s\tremaining: 6.37s\n",
      "30:\tlearn: 1909.8248301\ttotal: 1.5s\tremaining: 5.76s\n",
      "40:\tlearn: 1869.1107360\ttotal: 1.95s\tremaining: 5.19s\n",
      "50:\tlearn: 1843.7032066\ttotal: 2.39s\tremaining: 4.64s\n",
      "60:\tlearn: 1821.0831471\ttotal: 2.84s\tremaining: 4.14s\n",
      "70:\tlearn: 1804.0873239\ttotal: 3.29s\tremaining: 3.66s\n",
      "80:\tlearn: 1786.2486540\ttotal: 3.73s\tremaining: 3.18s\n",
      "90:\tlearn: 1770.6837638\ttotal: 4.19s\tremaining: 2.71s\n",
      "100:\tlearn: 1761.6757448\ttotal: 4.63s\tremaining: 2.25s\n",
      "110:\tlearn: 1749.3068688\ttotal: 5.08s\tremaining: 1.78s\n",
      "120:\tlearn: 1741.4792997\ttotal: 5.54s\tremaining: 1.33s\n",
      "130:\tlearn: 1733.7155536\ttotal: 6s\tremaining: 871ms\n",
      "140:\tlearn: 1727.4124302\ttotal: 6.47s\tremaining: 413ms\n",
      "149:\tlearn: 1721.6794133\ttotal: 6.92s\tremaining: 0us\n",
      "0:\tlearn: 3630.1097833\ttotal: 59.4ms\tremaining: 8.85s\n",
      "10:\tlearn: 2090.8673714\ttotal: 611ms\tremaining: 7.72s\n",
      "20:\tlearn: 1978.3707334\ttotal: 1.08s\tremaining: 6.64s\n",
      "30:\tlearn: 1915.1273856\ttotal: 1.55s\tremaining: 5.95s\n",
      "40:\tlearn: 1875.3017869\ttotal: 2.02s\tremaining: 5.37s\n",
      "50:\tlearn: 1844.4757233\ttotal: 2.49s\tremaining: 4.83s\n",
      "60:\tlearn: 1825.4496090\ttotal: 2.96s\tremaining: 4.32s\n",
      "70:\tlearn: 1807.2401369\ttotal: 3.43s\tremaining: 3.82s\n",
      "80:\tlearn: 1792.4955864\ttotal: 3.9s\tremaining: 3.33s\n",
      "90:\tlearn: 1782.0877138\ttotal: 4.38s\tremaining: 2.84s\n",
      "100:\tlearn: 1771.8478324\ttotal: 4.85s\tremaining: 2.35s\n",
      "110:\tlearn: 1762.7836843\ttotal: 5.32s\tremaining: 1.87s\n",
      "120:\tlearn: 1751.9731260\ttotal: 5.79s\tremaining: 1.39s\n",
      "130:\tlearn: 1744.9401536\ttotal: 6.24s\tremaining: 906ms\n",
      "140:\tlearn: 1739.4782477\ttotal: 6.7s\tremaining: 428ms\n",
      "149:\tlearn: 1732.7750382\ttotal: 7.11s\tremaining: 0us\n",
      "0:\tlearn: 3626.7576762\ttotal: 60.7ms\tremaining: 9.04s\n",
      "10:\tlearn: 2067.6137537\ttotal: 537ms\tremaining: 6.79s\n",
      "20:\tlearn: 1957.4560952\ttotal: 997ms\tremaining: 6.13s\n",
      "30:\tlearn: 1896.5148338\ttotal: 1.47s\tremaining: 5.63s\n",
      "40:\tlearn: 1858.0170783\ttotal: 1.92s\tremaining: 5.11s\n",
      "50:\tlearn: 1828.4128767\ttotal: 2.38s\tremaining: 4.61s\n",
      "60:\tlearn: 1810.4401666\ttotal: 2.85s\tremaining: 4.15s\n",
      "70:\tlearn: 1791.4727619\ttotal: 3.31s\tremaining: 3.68s\n",
      "80:\tlearn: 1776.9380093\ttotal: 3.77s\tremaining: 3.21s\n",
      "90:\tlearn: 1764.3719425\ttotal: 4.21s\tremaining: 2.73s\n",
      "100:\tlearn: 1751.7534911\ttotal: 4.65s\tremaining: 2.26s\n",
      "110:\tlearn: 1741.6167239\ttotal: 5.12s\tremaining: 1.8s\n",
      "120:\tlearn: 1733.2857904\ttotal: 5.59s\tremaining: 1.34s\n",
      "130:\tlearn: 1726.5043463\ttotal: 6.04s\tremaining: 876ms\n",
      "140:\tlearn: 1720.9502217\ttotal: 6.5s\tremaining: 415ms\n",
      "149:\tlearn: 1715.5588419\ttotal: 6.9s\tremaining: 0us\n",
      "0:\tlearn: 3500.5714474\ttotal: 71ms\tremaining: 10.6s\n",
      "10:\tlearn: 1956.1655856\ttotal: 724ms\tremaining: 9.15s\n",
      "20:\tlearn: 1850.1699388\ttotal: 1.35s\tremaining: 8.27s\n",
      "30:\tlearn: 1794.3897609\ttotal: 1.98s\tremaining: 7.59s\n",
      "40:\tlearn: 1757.1549723\ttotal: 2.6s\tremaining: 6.92s\n",
      "50:\tlearn: 1735.3501316\ttotal: 3.23s\tremaining: 6.27s\n",
      "60:\tlearn: 1718.3195599\ttotal: 3.88s\tremaining: 5.66s\n",
      "70:\tlearn: 1702.9742561\ttotal: 4.54s\tremaining: 5.05s\n",
      "80:\tlearn: 1689.9754024\ttotal: 5.18s\tremaining: 4.41s\n",
      "90:\tlearn: 1675.2368263\ttotal: 5.84s\tremaining: 3.79s\n",
      "100:\tlearn: 1666.3536045\ttotal: 6.49s\tremaining: 3.15s\n",
      "110:\tlearn: 1654.9885141\ttotal: 7.14s\tremaining: 2.51s\n",
      "120:\tlearn: 1641.7033228\ttotal: 7.83s\tremaining: 1.88s\n",
      "130:\tlearn: 1634.1771735\ttotal: 8.48s\tremaining: 1.23s\n",
      "140:\tlearn: 1626.5206169\ttotal: 9.13s\tremaining: 583ms\n",
      "149:\tlearn: 1618.8721384\ttotal: 9.71s\tremaining: 0us\n",
      "0:\tlearn: 3524.5029838\ttotal: 80.1ms\tremaining: 11.9s\n",
      "10:\tlearn: 1948.4048259\ttotal: 779ms\tremaining: 9.84s\n",
      "20:\tlearn: 1841.8173015\ttotal: 1.54s\tremaining: 9.44s\n",
      "30:\tlearn: 1800.6923307\ttotal: 2.2s\tremaining: 8.43s\n",
      "40:\tlearn: 1751.2269336\ttotal: 2.85s\tremaining: 7.57s\n",
      "50:\tlearn: 1727.5119828\ttotal: 3.51s\tremaining: 6.81s\n",
      "60:\tlearn: 1706.9784644\ttotal: 4.2s\tremaining: 6.12s\n",
      "70:\tlearn: 1692.5576505\ttotal: 4.84s\tremaining: 5.39s\n",
      "80:\tlearn: 1677.0544381\ttotal: 5.51s\tremaining: 4.7s\n",
      "90:\tlearn: 1663.6755229\ttotal: 6.16s\tremaining: 3.99s\n",
      "100:\tlearn: 1653.9493174\ttotal: 6.83s\tremaining: 3.31s\n",
      "110:\tlearn: 1644.6730403\ttotal: 7.48s\tremaining: 2.63s\n",
      "120:\tlearn: 1634.1044984\ttotal: 8.15s\tremaining: 1.95s\n",
      "130:\tlearn: 1625.4139383\ttotal: 8.8s\tremaining: 1.28s\n",
      "140:\tlearn: 1619.8435441\ttotal: 9.45s\tremaining: 603ms\n",
      "149:\tlearn: 1612.6461016\ttotal: 10s\tremaining: 0us\n",
      "0:\tlearn: 3547.0262032\ttotal: 81.4ms\tremaining: 12.1s\n",
      "10:\tlearn: 1951.7369688\ttotal: 767ms\tremaining: 9.69s\n",
      "20:\tlearn: 1847.5310429\ttotal: 1.42s\tremaining: 8.72s\n",
      "30:\tlearn: 1791.6450253\ttotal: 2.06s\tremaining: 7.93s\n",
      "40:\tlearn: 1759.3187590\ttotal: 2.71s\tremaining: 7.2s\n",
      "50:\tlearn: 1728.2009724\ttotal: 3.35s\tremaining: 6.51s\n",
      "60:\tlearn: 1708.6353305\ttotal: 3.99s\tremaining: 5.82s\n",
      "70:\tlearn: 1692.0485974\ttotal: 4.62s\tremaining: 5.14s\n",
      "80:\tlearn: 1678.5254660\ttotal: 5.25s\tremaining: 4.48s\n",
      "90:\tlearn: 1665.7366144\ttotal: 5.87s\tremaining: 3.81s\n",
      "100:\tlearn: 1656.7732900\ttotal: 6.5s\tremaining: 3.15s\n",
      "110:\tlearn: 1646.1632727\ttotal: 7.13s\tremaining: 2.5s\n",
      "120:\tlearn: 1638.8339189\ttotal: 7.75s\tremaining: 1.86s\n",
      "130:\tlearn: 1630.1164695\ttotal: 8.39s\tremaining: 1.22s\n",
      "140:\tlearn: 1621.1997796\ttotal: 9.06s\tremaining: 578ms\n",
      "149:\tlearn: 1612.9310683\ttotal: 9.63s\tremaining: 0us\n",
      "0:\tlearn: 3524.6849798\ttotal: 73.6ms\tremaining: 11s\n",
      "10:\tlearn: 1952.1485848\ttotal: 728ms\tremaining: 9.2s\n",
      "20:\tlearn: 1847.8710222\ttotal: 1.34s\tremaining: 8.24s\n",
      "30:\tlearn: 1799.3443536\ttotal: 1.96s\tremaining: 7.52s\n",
      "40:\tlearn: 1765.8431009\ttotal: 2.57s\tremaining: 6.83s\n",
      "50:\tlearn: 1738.4596121\ttotal: 3.18s\tremaining: 6.17s\n",
      "60:\tlearn: 1718.1014514\ttotal: 3.81s\tremaining: 5.57s\n",
      "70:\tlearn: 1699.8826237\ttotal: 4.4s\tremaining: 4.9s\n",
      "80:\tlearn: 1686.7334899\ttotal: 5.01s\tremaining: 4.27s\n",
      "90:\tlearn: 1674.8205077\ttotal: 5.64s\tremaining: 3.65s\n",
      "100:\tlearn: 1663.5342877\ttotal: 6.26s\tremaining: 3.04s\n",
      "110:\tlearn: 1652.2535036\ttotal: 6.95s\tremaining: 2.44s\n",
      "120:\tlearn: 1643.8716993\ttotal: 7.58s\tremaining: 1.82s\n",
      "130:\tlearn: 1635.0693977\ttotal: 8.2s\tremaining: 1.19s\n",
      "140:\tlearn: 1624.9639930\ttotal: 8.97s\tremaining: 573ms\n",
      "149:\tlearn: 1617.2607015\ttotal: 9.58s\tremaining: 0us\n",
      "0:\tlearn: 3529.0599126\ttotal: 85ms\tremaining: 12.7s\n",
      "10:\tlearn: 1957.7040515\ttotal: 825ms\tremaining: 10.4s\n",
      "20:\tlearn: 1857.3183633\ttotal: 1.51s\tremaining: 9.26s\n",
      "30:\tlearn: 1802.6478248\ttotal: 2.21s\tremaining: 8.48s\n",
      "40:\tlearn: 1757.9115436\ttotal: 2.88s\tremaining: 7.66s\n",
      "50:\tlearn: 1733.6100261\ttotal: 3.52s\tremaining: 6.84s\n",
      "60:\tlearn: 1708.8059547\ttotal: 4.18s\tremaining: 6.09s\n",
      "70:\tlearn: 1693.3810974\ttotal: 4.79s\tremaining: 5.33s\n",
      "80:\tlearn: 1680.8117300\ttotal: 5.41s\tremaining: 4.61s\n",
      "90:\tlearn: 1664.7267928\ttotal: 6.06s\tremaining: 3.93s\n",
      "100:\tlearn: 1655.9140158\ttotal: 6.68s\tremaining: 3.24s\n",
      "110:\tlearn: 1646.3713637\ttotal: 7.3s\tremaining: 2.56s\n",
      "120:\tlearn: 1633.9738461\ttotal: 7.94s\tremaining: 1.9s\n",
      "130:\tlearn: 1625.3237199\ttotal: 8.57s\tremaining: 1.24s\n",
      "140:\tlearn: 1618.5431472\ttotal: 9.22s\tremaining: 588ms\n",
      "149:\tlearn: 1609.4412152\ttotal: 9.78s\tremaining: 0us\n",
      "0:\tlearn: 3425.8550809\ttotal: 89.9ms\tremaining: 13.4s\n",
      "10:\tlearn: 1856.6402563\ttotal: 907ms\tremaining: 11.5s\n",
      "20:\tlearn: 1771.1077688\ttotal: 1.72s\tremaining: 10.6s\n",
      "30:\tlearn: 1716.7985098\ttotal: 2.55s\tremaining: 9.79s\n",
      "40:\tlearn: 1673.6578659\ttotal: 3.33s\tremaining: 8.85s\n",
      "50:\tlearn: 1643.4067925\ttotal: 4.11s\tremaining: 7.97s\n",
      "60:\tlearn: 1622.1622660\ttotal: 4.89s\tremaining: 7.14s\n",
      "70:\tlearn: 1599.0234136\ttotal: 5.69s\tremaining: 6.33s\n",
      "80:\tlearn: 1584.9591432\ttotal: 6.5s\tremaining: 5.54s\n",
      "90:\tlearn: 1571.9811365\ttotal: 7.31s\tremaining: 4.74s\n",
      "100:\tlearn: 1561.0244190\ttotal: 8.13s\tremaining: 3.94s\n",
      "110:\tlearn: 1542.3000659\ttotal: 8.92s\tremaining: 3.13s\n",
      "120:\tlearn: 1532.1752543\ttotal: 9.72s\tremaining: 2.33s\n",
      "130:\tlearn: 1525.5241120\ttotal: 10.5s\tremaining: 1.53s\n",
      "140:\tlearn: 1517.7546245\ttotal: 11.4s\tremaining: 726ms\n",
      "149:\tlearn: 1508.4351352\ttotal: 12.1s\tremaining: 0us\n",
      "0:\tlearn: 3422.7734699\ttotal: 92.2ms\tremaining: 13.7s\n",
      "10:\tlearn: 1866.3095077\ttotal: 964ms\tremaining: 12.2s\n",
      "20:\tlearn: 1761.8774828\ttotal: 1.86s\tremaining: 11.4s\n",
      "30:\tlearn: 1713.2098329\ttotal: 2.71s\tremaining: 10.4s\n",
      "40:\tlearn: 1669.1133006\ttotal: 3.53s\tremaining: 9.38s\n",
      "50:\tlearn: 1637.9671070\ttotal: 4.39s\tremaining: 8.52s\n",
      "60:\tlearn: 1615.6352127\ttotal: 5.23s\tremaining: 7.63s\n",
      "70:\tlearn: 1595.5674118\ttotal: 6.07s\tremaining: 6.75s\n",
      "80:\tlearn: 1580.6023698\ttotal: 6.92s\tremaining: 5.9s\n",
      "90:\tlearn: 1564.4000425\ttotal: 7.76s\tremaining: 5.03s\n",
      "100:\tlearn: 1552.8411943\ttotal: 8.61s\tremaining: 4.17s\n",
      "110:\tlearn: 1541.0059135\ttotal: 9.43s\tremaining: 3.31s\n",
      "120:\tlearn: 1530.1937417\ttotal: 10.3s\tremaining: 2.46s\n",
      "130:\tlearn: 1522.2241329\ttotal: 11.1s\tremaining: 1.61s\n",
      "140:\tlearn: 1510.7536258\ttotal: 12s\tremaining: 765ms\n",
      "149:\tlearn: 1502.0679069\ttotal: 12.7s\tremaining: 0us\n",
      "0:\tlearn: 3407.1604581\ttotal: 107ms\tremaining: 16s\n",
      "10:\tlearn: 1852.8991983\ttotal: 967ms\tremaining: 12.2s\n",
      "20:\tlearn: 1767.9696972\ttotal: 1.79s\tremaining: 11s\n",
      "30:\tlearn: 1715.7971264\ttotal: 2.61s\tremaining: 10s\n",
      "40:\tlearn: 1679.8513638\ttotal: 3.42s\tremaining: 9.08s\n",
      "50:\tlearn: 1658.8986614\ttotal: 4.25s\tremaining: 8.25s\n",
      "60:\tlearn: 1631.4374814\ttotal: 5.04s\tremaining: 7.36s\n",
      "70:\tlearn: 1614.5798565\ttotal: 5.85s\tremaining: 6.51s\n",
      "80:\tlearn: 1598.7127038\ttotal: 6.65s\tremaining: 5.66s\n",
      "90:\tlearn: 1582.5811901\ttotal: 7.44s\tremaining: 4.83s\n",
      "100:\tlearn: 1567.5818849\ttotal: 8.24s\tremaining: 4s\n",
      "110:\tlearn: 1553.9290712\ttotal: 9.07s\tremaining: 3.19s\n",
      "120:\tlearn: 1542.6476407\ttotal: 9.88s\tremaining: 2.37s\n",
      "130:\tlearn: 1533.7680394\ttotal: 10.7s\tremaining: 1.55s\n",
      "140:\tlearn: 1522.4555468\ttotal: 11.5s\tremaining: 735ms\n",
      "149:\tlearn: 1513.5579693\ttotal: 12.2s\tremaining: 0us\n",
      "0:\tlearn: 3429.4673907\ttotal: 96ms\tremaining: 14.3s\n",
      "10:\tlearn: 1872.3604400\ttotal: 1.06s\tremaining: 13.4s\n",
      "20:\tlearn: 1774.9123726\ttotal: 1.86s\tremaining: 11.4s\n",
      "30:\tlearn: 1723.3480688\ttotal: 2.67s\tremaining: 10.3s\n",
      "40:\tlearn: 1672.3995010\ttotal: 3.5s\tremaining: 9.3s\n",
      "50:\tlearn: 1645.7565092\ttotal: 4.34s\tremaining: 8.42s\n",
      "60:\tlearn: 1617.3782427\ttotal: 5.16s\tremaining: 7.53s\n",
      "70:\tlearn: 1595.7729612\ttotal: 5.99s\tremaining: 6.67s\n",
      "80:\tlearn: 1579.7531116\ttotal: 6.84s\tremaining: 5.82s\n",
      "90:\tlearn: 1569.0591267\ttotal: 7.71s\tremaining: 5s\n",
      "100:\tlearn: 1551.6811337\ttotal: 8.57s\tremaining: 4.16s\n",
      "110:\tlearn: 1538.9231253\ttotal: 9.38s\tremaining: 3.3s\n",
      "120:\tlearn: 1529.1757164\ttotal: 10.2s\tremaining: 2.44s\n",
      "130:\tlearn: 1519.3838738\ttotal: 11s\tremaining: 1.59s\n",
      "140:\tlearn: 1510.5175712\ttotal: 11.8s\tremaining: 752ms\n",
      "149:\tlearn: 1502.3001069\ttotal: 12.5s\tremaining: 0us\n",
      "0:\tlearn: 3393.5960630\ttotal: 97.9ms\tremaining: 14.6s\n",
      "10:\tlearn: 1854.2200366\ttotal: 939ms\tremaining: 11.9s\n",
      "20:\tlearn: 1751.7918282\ttotal: 1.74s\tremaining: 10.7s\n",
      "30:\tlearn: 1697.6401589\ttotal: 2.53s\tremaining: 9.7s\n",
      "40:\tlearn: 1660.3722648\ttotal: 3.46s\tremaining: 9.19s\n",
      "50:\tlearn: 1633.3215711\ttotal: 4.27s\tremaining: 8.29s\n",
      "60:\tlearn: 1609.4308046\ttotal: 5.06s\tremaining: 7.38s\n",
      "70:\tlearn: 1592.5838841\ttotal: 5.86s\tremaining: 6.53s\n",
      "80:\tlearn: 1577.6912107\ttotal: 6.67s\tremaining: 5.68s\n",
      "90:\tlearn: 1566.6438270\ttotal: 7.47s\tremaining: 4.84s\n",
      "100:\tlearn: 1553.5443918\ttotal: 8.29s\tremaining: 4.02s\n",
      "110:\tlearn: 1542.3727610\ttotal: 9.1s\tremaining: 3.2s\n",
      "120:\tlearn: 1530.9242984\ttotal: 9.92s\tremaining: 2.38s\n",
      "130:\tlearn: 1521.0843045\ttotal: 10.7s\tremaining: 1.56s\n",
      "140:\tlearn: 1509.6334142\ttotal: 11.6s\tremaining: 738ms\n",
      "149:\tlearn: 1501.2508604\ttotal: 12.3s\tremaining: 0us\n",
      "0:\tlearn: 3564.7791121\ttotal: 42.4ms\tremaining: 6.32s\n",
      "10:\tlearn: 2306.5244094\ttotal: 381ms\tremaining: 4.82s\n",
      "20:\tlearn: 2143.5618958\ttotal: 684ms\tremaining: 4.2s\n",
      "30:\tlearn: 2051.7030902\ttotal: 984ms\tremaining: 3.78s\n",
      "40:\tlearn: 2004.4271634\ttotal: 1.29s\tremaining: 3.42s\n",
      "50:\tlearn: 1974.1276982\ttotal: 1.59s\tremaining: 3.09s\n",
      "60:\tlearn: 1940.9280936\ttotal: 1.9s\tremaining: 2.78s\n",
      "70:\tlearn: 1923.8321970\ttotal: 2.21s\tremaining: 2.46s\n",
      "80:\tlearn: 1908.7351281\ttotal: 2.5s\tremaining: 2.13s\n",
      "90:\tlearn: 1893.1662768\ttotal: 2.79s\tremaining: 1.81s\n",
      "100:\tlearn: 1876.9841860\ttotal: 3.1s\tremaining: 1.5s\n",
      "110:\tlearn: 1864.9833487\ttotal: 3.41s\tremaining: 1.2s\n",
      "120:\tlearn: 1856.0603397\ttotal: 3.71s\tremaining: 890ms\n",
      "130:\tlearn: 1849.6702925\ttotal: 4.03s\tremaining: 584ms\n",
      "140:\tlearn: 1842.1339816\ttotal: 4.38s\tremaining: 280ms\n",
      "149:\tlearn: 1836.2434207\ttotal: 4.71s\tremaining: 0us\n",
      "0:\tlearn: 3565.4745721\ttotal: 44.7ms\tremaining: 6.66s\n",
      "10:\tlearn: 2297.0981622\ttotal: 399ms\tremaining: 5.04s\n",
      "20:\tlearn: 2122.4807499\ttotal: 714ms\tremaining: 4.38s\n",
      "30:\tlearn: 2048.0045189\ttotal: 1.01s\tremaining: 3.9s\n",
      "40:\tlearn: 1992.6087341\ttotal: 1.32s\tremaining: 3.52s\n",
      "50:\tlearn: 1962.6758368\ttotal: 1.63s\tremaining: 3.17s\n",
      "60:\tlearn: 1940.2268466\ttotal: 1.94s\tremaining: 2.83s\n",
      "70:\tlearn: 1923.7609140\ttotal: 2.25s\tremaining: 2.51s\n",
      "80:\tlearn: 1909.5489554\ttotal: 2.56s\tremaining: 2.18s\n",
      "90:\tlearn: 1897.1460790\ttotal: 2.87s\tremaining: 1.86s\n",
      "100:\tlearn: 1885.5328774\ttotal: 3.17s\tremaining: 1.54s\n",
      "110:\tlearn: 1875.1632302\ttotal: 3.49s\tremaining: 1.23s\n",
      "120:\tlearn: 1862.6270755\ttotal: 3.81s\tremaining: 912ms\n",
      "130:\tlearn: 1853.8126359\ttotal: 4.12s\tremaining: 597ms\n",
      "140:\tlearn: 1846.5047192\ttotal: 4.42s\tremaining: 282ms\n",
      "149:\tlearn: 1841.2500674\ttotal: 4.68s\tremaining: 0us\n",
      "0:\tlearn: 3559.5492231\ttotal: 43.9ms\tremaining: 6.54s\n",
      "10:\tlearn: 2307.9703510\ttotal: 379ms\tremaining: 4.79s\n",
      "20:\tlearn: 2137.5737130\ttotal: 688ms\tremaining: 4.23s\n",
      "30:\tlearn: 2075.3535739\ttotal: 995ms\tremaining: 3.82s\n",
      "40:\tlearn: 2015.0842893\ttotal: 1.31s\tremaining: 3.48s\n",
      "50:\tlearn: 1985.4529741\ttotal: 1.61s\tremaining: 3.12s\n",
      "60:\tlearn: 1961.4992499\ttotal: 1.92s\tremaining: 2.8s\n",
      "70:\tlearn: 1940.6038114\ttotal: 2.22s\tremaining: 2.47s\n",
      "80:\tlearn: 1922.3716297\ttotal: 2.55s\tremaining: 2.17s\n",
      "90:\tlearn: 1908.3917544\ttotal: 2.86s\tremaining: 1.85s\n",
      "100:\tlearn: 1893.9700405\ttotal: 3.16s\tremaining: 1.53s\n",
      "110:\tlearn: 1883.6154096\ttotal: 3.46s\tremaining: 1.22s\n",
      "120:\tlearn: 1872.6845926\ttotal: 3.77s\tremaining: 903ms\n",
      "130:\tlearn: 1864.2273845\ttotal: 4.08s\tremaining: 592ms\n",
      "140:\tlearn: 1858.1674109\ttotal: 4.39s\tremaining: 280ms\n",
      "149:\tlearn: 1850.6789935\ttotal: 4.67s\tremaining: 0us\n",
      "0:\tlearn: 3561.8466473\ttotal: 42.7ms\tremaining: 6.37s\n",
      "10:\tlearn: 2306.6515139\ttotal: 379ms\tremaining: 4.78s\n",
      "20:\tlearn: 2139.6071227\ttotal: 677ms\tremaining: 4.16s\n",
      "30:\tlearn: 2072.9531175\ttotal: 967ms\tremaining: 3.71s\n",
      "40:\tlearn: 2027.5024157\ttotal: 1.26s\tremaining: 3.36s\n",
      "50:\tlearn: 1992.7358675\ttotal: 1.55s\tremaining: 3.01s\n",
      "60:\tlearn: 1961.0281673\ttotal: 1.85s\tremaining: 2.69s\n",
      "70:\tlearn: 1936.8200026\ttotal: 2.13s\tremaining: 2.37s\n",
      "80:\tlearn: 1917.7174548\ttotal: 2.41s\tremaining: 2.05s\n",
      "90:\tlearn: 1903.1036078\ttotal: 2.69s\tremaining: 1.75s\n",
      "100:\tlearn: 1888.5234883\ttotal: 3s\tremaining: 1.46s\n",
      "110:\tlearn: 1878.6949397\ttotal: 3.3s\tremaining: 1.16s\n",
      "120:\tlearn: 1869.4595535\ttotal: 3.59s\tremaining: 860ms\n",
      "130:\tlearn: 1861.9125775\ttotal: 3.9s\tremaining: 566ms\n",
      "140:\tlearn: 1854.3954892\ttotal: 4.2s\tremaining: 268ms\n",
      "149:\tlearn: 1849.4277530\ttotal: 4.46s\tremaining: 0us\n",
      "0:\tlearn: 3550.2633678\ttotal: 42.5ms\tremaining: 6.33s\n",
      "10:\tlearn: 2303.0996781\ttotal: 357ms\tremaining: 4.51s\n",
      "20:\tlearn: 2131.0325745\ttotal: 652ms\tremaining: 4.01s\n",
      "30:\tlearn: 2051.6093339\ttotal: 961ms\tremaining: 3.69s\n",
      "40:\tlearn: 2003.2647089\ttotal: 1.25s\tremaining: 3.34s\n",
      "50:\tlearn: 1968.5793896\ttotal: 1.55s\tremaining: 3s\n",
      "60:\tlearn: 1944.5133830\ttotal: 1.85s\tremaining: 2.71s\n",
      "70:\tlearn: 1926.2254911\ttotal: 2.15s\tremaining: 2.39s\n",
      "80:\tlearn: 1905.7770085\ttotal: 2.44s\tremaining: 2.08s\n",
      "90:\tlearn: 1891.9059078\ttotal: 2.73s\tremaining: 1.77s\n",
      "100:\tlearn: 1877.9295805\ttotal: 3.02s\tremaining: 1.46s\n",
      "110:\tlearn: 1867.8078536\ttotal: 3.31s\tremaining: 1.16s\n",
      "120:\tlearn: 1858.5900752\ttotal: 3.59s\tremaining: 860ms\n",
      "130:\tlearn: 1848.1089750\ttotal: 3.88s\tremaining: 563ms\n",
      "140:\tlearn: 1838.9139120\ttotal: 4.17s\tremaining: 267ms\n",
      "149:\tlearn: 1833.0504624\ttotal: 4.43s\tremaining: 0us\n",
      "0:\tlearn: 3287.5945741\ttotal: 56.3ms\tremaining: 8.39s\n",
      "10:\tlearn: 2071.1174850\ttotal: 551ms\tremaining: 6.96s\n",
      "20:\tlearn: 1936.8996951\ttotal: 1.03s\tremaining: 6.34s\n",
      "30:\tlearn: 1874.5151745\ttotal: 1.5s\tremaining: 5.76s\n",
      "40:\tlearn: 1838.3113864\ttotal: 1.95s\tremaining: 5.18s\n",
      "50:\tlearn: 1812.3181547\ttotal: 2.4s\tremaining: 4.66s\n",
      "60:\tlearn: 1795.2315878\ttotal: 2.86s\tremaining: 4.17s\n",
      "70:\tlearn: 1776.6003475\ttotal: 3.33s\tremaining: 3.7s\n",
      "80:\tlearn: 1759.2478223\ttotal: 3.79s\tremaining: 3.23s\n",
      "90:\tlearn: 1749.9749189\ttotal: 4.23s\tremaining: 2.74s\n",
      "100:\tlearn: 1735.4469815\ttotal: 4.69s\tremaining: 2.27s\n",
      "110:\tlearn: 1726.9004427\ttotal: 5.14s\tremaining: 1.81s\n",
      "120:\tlearn: 1721.5119716\ttotal: 5.62s\tremaining: 1.35s\n",
      "130:\tlearn: 1713.6044733\ttotal: 6.11s\tremaining: 887ms\n",
      "140:\tlearn: 1704.8076448\ttotal: 6.58s\tremaining: 420ms\n",
      "149:\tlearn: 1698.3990380\ttotal: 7s\tremaining: 0us\n",
      "0:\tlearn: 3286.4047263\ttotal: 63.8ms\tremaining: 9.51s\n",
      "10:\tlearn: 2070.0725690\ttotal: 569ms\tremaining: 7.19s\n",
      "20:\tlearn: 1936.7927335\ttotal: 1.03s\tremaining: 6.32s\n",
      "30:\tlearn: 1881.3524408\ttotal: 1.5s\tremaining: 5.74s\n",
      "40:\tlearn: 1834.8726432\ttotal: 1.95s\tremaining: 5.17s\n",
      "50:\tlearn: 1806.3439188\ttotal: 2.4s\tremaining: 4.65s\n",
      "60:\tlearn: 1787.0894145\ttotal: 2.85s\tremaining: 4.17s\n",
      "70:\tlearn: 1767.7537732\ttotal: 3.42s\tremaining: 3.81s\n",
      "80:\tlearn: 1756.5726565\ttotal: 3.88s\tremaining: 3.31s\n",
      "90:\tlearn: 1745.2742532\ttotal: 4.34s\tremaining: 2.81s\n",
      "100:\tlearn: 1735.4244612\ttotal: 4.82s\tremaining: 2.34s\n",
      "110:\tlearn: 1725.6517458\ttotal: 5.29s\tremaining: 1.86s\n",
      "120:\tlearn: 1717.5273120\ttotal: 5.75s\tremaining: 1.38s\n",
      "130:\tlearn: 1709.5739621\ttotal: 6.22s\tremaining: 902ms\n",
      "140:\tlearn: 1700.7051004\ttotal: 6.68s\tremaining: 427ms\n",
      "149:\tlearn: 1695.4112966\ttotal: 7.1s\tremaining: 0us\n",
      "0:\tlearn: 3276.6520917\ttotal: 57.8ms\tremaining: 8.61s\n",
      "10:\tlearn: 2050.5310157\ttotal: 555ms\tremaining: 7.01s\n",
      "20:\tlearn: 1938.4811016\ttotal: 1.04s\tremaining: 6.37s\n",
      "30:\tlearn: 1870.7769420\ttotal: 1.51s\tremaining: 5.79s\n",
      "40:\tlearn: 1837.1487736\ttotal: 1.96s\tremaining: 5.2s\n",
      "50:\tlearn: 1813.8771339\ttotal: 2.41s\tremaining: 4.67s\n",
      "60:\tlearn: 1796.4000164\ttotal: 2.86s\tremaining: 4.17s\n",
      "70:\tlearn: 1778.9894581\ttotal: 3.32s\tremaining: 3.7s\n",
      "80:\tlearn: 1761.1920639\ttotal: 3.79s\tremaining: 3.23s\n",
      "90:\tlearn: 1749.9673149\ttotal: 4.23s\tremaining: 2.74s\n",
      "100:\tlearn: 1736.7476362\ttotal: 4.67s\tremaining: 2.26s\n",
      "110:\tlearn: 1725.6221214\ttotal: 5.22s\tremaining: 1.83s\n",
      "120:\tlearn: 1718.9919821\ttotal: 5.66s\tremaining: 1.36s\n",
      "130:\tlearn: 1711.5282078\ttotal: 6.13s\tremaining: 889ms\n",
      "140:\tlearn: 1705.2104473\ttotal: 6.6s\tremaining: 421ms\n",
      "149:\tlearn: 1700.9759208\ttotal: 7.03s\tremaining: 0us\n",
      "0:\tlearn: 3274.9436323\ttotal: 57ms\tremaining: 8.5s\n",
      "10:\tlearn: 2044.8656430\ttotal: 545ms\tremaining: 6.89s\n",
      "20:\tlearn: 1938.7804471\ttotal: 1.01s\tremaining: 6.21s\n",
      "30:\tlearn: 1872.4055778\ttotal: 1.48s\tremaining: 5.7s\n",
      "40:\tlearn: 1833.7273150\ttotal: 1.96s\tremaining: 5.2s\n",
      "50:\tlearn: 1805.9376919\ttotal: 2.43s\tremaining: 4.72s\n",
      "60:\tlearn: 1785.8294403\ttotal: 2.91s\tremaining: 4.25s\n",
      "70:\tlearn: 1766.8036669\ttotal: 3.38s\tremaining: 3.77s\n",
      "80:\tlearn: 1754.2143647\ttotal: 3.87s\tremaining: 3.29s\n",
      "90:\tlearn: 1740.2051354\ttotal: 4.33s\tremaining: 2.81s\n",
      "100:\tlearn: 1728.8108701\ttotal: 4.79s\tremaining: 2.33s\n",
      "110:\tlearn: 1719.2045728\ttotal: 5.25s\tremaining: 1.84s\n",
      "120:\tlearn: 1712.1063634\ttotal: 5.74s\tremaining: 1.38s\n",
      "130:\tlearn: 1705.5064068\ttotal: 6.22s\tremaining: 903ms\n",
      "140:\tlearn: 1699.5956088\ttotal: 6.7s\tremaining: 428ms\n",
      "149:\tlearn: 1693.9703791\ttotal: 7.14s\tremaining: 0us\n",
      "0:\tlearn: 3272.3553210\ttotal: 63.4ms\tremaining: 9.45s\n",
      "10:\tlearn: 2025.5318312\ttotal: 611ms\tremaining: 7.72s\n",
      "20:\tlearn: 1925.6213895\ttotal: 1.12s\tremaining: 6.86s\n",
      "30:\tlearn: 1865.4783684\ttotal: 1.63s\tremaining: 6.27s\n",
      "40:\tlearn: 1825.2170537\ttotal: 2.14s\tremaining: 5.69s\n",
      "50:\tlearn: 1799.1766426\ttotal: 2.63s\tremaining: 5.11s\n",
      "60:\tlearn: 1778.0434922\ttotal: 3.12s\tremaining: 4.54s\n",
      "70:\tlearn: 1760.3987247\ttotal: 3.79s\tremaining: 4.21s\n",
      "80:\tlearn: 1743.4974761\ttotal: 4.27s\tremaining: 3.64s\n",
      "90:\tlearn: 1733.3657664\ttotal: 4.74s\tremaining: 3.07s\n",
      "100:\tlearn: 1726.8580850\ttotal: 5.32s\tremaining: 2.58s\n",
      "110:\tlearn: 1718.2999820\ttotal: 5.82s\tremaining: 2.04s\n",
      "120:\tlearn: 1709.7844887\ttotal: 6.29s\tremaining: 1.51s\n",
      "130:\tlearn: 1701.5187777\ttotal: 6.74s\tremaining: 977ms\n",
      "140:\tlearn: 1695.1360291\ttotal: 7.22s\tremaining: 461ms\n",
      "149:\tlearn: 1690.5494165\ttotal: 7.64s\tremaining: 0us\n",
      "0:\tlearn: 3079.4223042\ttotal: 77.9ms\tremaining: 11.6s\n",
      "10:\tlearn: 1904.9731680\ttotal: 751ms\tremaining: 9.49s\n",
      "20:\tlearn: 1816.8244257\ttotal: 1.39s\tremaining: 8.54s\n",
      "30:\tlearn: 1759.2450715\ttotal: 2.01s\tremaining: 7.72s\n",
      "40:\tlearn: 1722.9472139\ttotal: 2.65s\tremaining: 7.04s\n",
      "50:\tlearn: 1700.1352242\ttotal: 3.28s\tremaining: 6.37s\n",
      "60:\tlearn: 1682.7516781\ttotal: 3.89s\tremaining: 5.67s\n",
      "70:\tlearn: 1666.9260629\ttotal: 4.51s\tremaining: 5.02s\n",
      "80:\tlearn: 1654.5338038\ttotal: 5.12s\tremaining: 4.36s\n",
      "90:\tlearn: 1643.7417642\ttotal: 5.84s\tremaining: 3.79s\n",
      "100:\tlearn: 1634.4752858\ttotal: 6.56s\tremaining: 3.18s\n",
      "110:\tlearn: 1624.8391294\ttotal: 7.25s\tremaining: 2.55s\n",
      "120:\tlearn: 1616.3230678\ttotal: 7.91s\tremaining: 1.9s\n",
      "130:\tlearn: 1608.0335038\ttotal: 8.69s\tremaining: 1.26s\n",
      "140:\tlearn: 1598.4600762\ttotal: 9.32s\tremaining: 595ms\n",
      "149:\tlearn: 1590.2480223\ttotal: 9.99s\tremaining: 0us\n",
      "0:\tlearn: 3115.5674239\ttotal: 80.5ms\tremaining: 12s\n",
      "10:\tlearn: 1920.6701987\ttotal: 744ms\tremaining: 9.4s\n",
      "20:\tlearn: 1837.0288231\ttotal: 1.35s\tremaining: 8.31s\n",
      "30:\tlearn: 1772.9445041\ttotal: 2s\tremaining: 7.67s\n",
      "40:\tlearn: 1742.1062677\ttotal: 2.64s\tremaining: 7.01s\n",
      "50:\tlearn: 1715.2386017\ttotal: 3.28s\tremaining: 6.36s\n",
      "60:\tlearn: 1697.1627908\ttotal: 3.94s\tremaining: 5.75s\n",
      "70:\tlearn: 1685.0223586\ttotal: 4.56s\tremaining: 5.08s\n",
      "80:\tlearn: 1668.6795531\ttotal: 5.2s\tremaining: 4.43s\n",
      "90:\tlearn: 1653.2320338\ttotal: 5.85s\tremaining: 3.79s\n",
      "100:\tlearn: 1640.3424346\ttotal: 6.48s\tremaining: 3.14s\n",
      "110:\tlearn: 1630.6008984\ttotal: 7.14s\tremaining: 2.51s\n",
      "120:\tlearn: 1621.9818526\ttotal: 7.79s\tremaining: 1.87s\n",
      "130:\tlearn: 1612.5976455\ttotal: 8.45s\tremaining: 1.23s\n",
      "140:\tlearn: 1603.2652805\ttotal: 9.07s\tremaining: 579ms\n",
      "149:\tlearn: 1595.6216938\ttotal: 9.66s\tremaining: 0us\n",
      "0:\tlearn: 3148.5305169\ttotal: 72.8ms\tremaining: 10.8s\n",
      "10:\tlearn: 1912.1138604\ttotal: 744ms\tremaining: 9.4s\n",
      "20:\tlearn: 1821.0030557\ttotal: 1.39s\tremaining: 8.55s\n",
      "30:\tlearn: 1767.8629718\ttotal: 2.03s\tremaining: 7.8s\n",
      "40:\tlearn: 1731.4158703\ttotal: 2.68s\tremaining: 7.12s\n",
      "50:\tlearn: 1705.0315501\ttotal: 3.3s\tremaining: 6.4s\n",
      "60:\tlearn: 1686.4781732\ttotal: 3.92s\tremaining: 5.72s\n",
      "70:\tlearn: 1672.4328659\ttotal: 4.55s\tremaining: 5.07s\n",
      "80:\tlearn: 1658.1308703\ttotal: 5.19s\tremaining: 4.42s\n",
      "90:\tlearn: 1646.8933429\ttotal: 5.86s\tremaining: 3.8s\n",
      "100:\tlearn: 1634.9247150\ttotal: 6.81s\tremaining: 3.31s\n",
      "110:\tlearn: 1623.4918634\ttotal: 7.56s\tremaining: 2.65s\n",
      "120:\tlearn: 1612.4237259\ttotal: 8.23s\tremaining: 1.97s\n",
      "130:\tlearn: 1602.9835930\ttotal: 8.86s\tremaining: 1.28s\n",
      "140:\tlearn: 1594.4461911\ttotal: 9.49s\tremaining: 606ms\n",
      "149:\tlearn: 1586.7083669\ttotal: 10.1s\tremaining: 0us\n",
      "0:\tlearn: 3120.0073874\ttotal: 72.6ms\tremaining: 10.8s\n",
      "10:\tlearn: 1916.5344837\ttotal: 792ms\tremaining: 10s\n",
      "20:\tlearn: 1826.0730135\ttotal: 1.41s\tremaining: 8.68s\n",
      "30:\tlearn: 1771.4204293\ttotal: 2.05s\tremaining: 7.87s\n",
      "40:\tlearn: 1735.2612869\ttotal: 2.69s\tremaining: 7.15s\n",
      "50:\tlearn: 1711.7169466\ttotal: 3.54s\tremaining: 6.87s\n",
      "60:\tlearn: 1686.9943623\ttotal: 4.21s\tremaining: 6.14s\n",
      "70:\tlearn: 1669.6602521\ttotal: 4.85s\tremaining: 5.4s\n",
      "80:\tlearn: 1655.3253885\ttotal: 5.49s\tremaining: 4.68s\n",
      "90:\tlearn: 1643.7218805\ttotal: 6.17s\tremaining: 4s\n",
      "100:\tlearn: 1631.3747010\ttotal: 6.84s\tremaining: 3.32s\n",
      "110:\tlearn: 1621.3962858\ttotal: 7.51s\tremaining: 2.64s\n",
      "120:\tlearn: 1611.8044258\ttotal: 8.22s\tremaining: 1.97s\n",
      "130:\tlearn: 1599.1588023\ttotal: 8.87s\tremaining: 1.29s\n",
      "140:\tlearn: 1591.1194607\ttotal: 9.52s\tremaining: 608ms\n",
      "149:\tlearn: 1584.5538958\ttotal: 10.1s\tremaining: 0us\n",
      "0:\tlearn: 3128.9631027\ttotal: 77.4ms\tremaining: 11.5s\n",
      "10:\tlearn: 1912.9808675\ttotal: 748ms\tremaining: 9.45s\n",
      "20:\tlearn: 1822.3507376\ttotal: 1.42s\tremaining: 8.69s\n",
      "30:\tlearn: 1755.1093209\ttotal: 2.06s\tremaining: 7.89s\n",
      "40:\tlearn: 1721.6932112\ttotal: 2.7s\tremaining: 7.17s\n",
      "50:\tlearn: 1699.2532033\ttotal: 3.36s\tremaining: 6.51s\n",
      "60:\tlearn: 1681.1898213\ttotal: 4.01s\tremaining: 5.85s\n",
      "70:\tlearn: 1661.8792640\ttotal: 4.65s\tremaining: 5.17s\n",
      "80:\tlearn: 1646.8662462\ttotal: 5.27s\tremaining: 4.49s\n",
      "90:\tlearn: 1634.5635363\ttotal: 5.92s\tremaining: 3.84s\n",
      "100:\tlearn: 1624.7280307\ttotal: 6.56s\tremaining: 3.18s\n",
      "110:\tlearn: 1614.7854988\ttotal: 7.22s\tremaining: 2.54s\n",
      "120:\tlearn: 1606.1428661\ttotal: 7.87s\tremaining: 1.89s\n",
      "130:\tlearn: 1598.4332294\ttotal: 8.52s\tremaining: 1.24s\n",
      "140:\tlearn: 1591.0919992\ttotal: 9.18s\tremaining: 586ms\n",
      "149:\tlearn: 1584.7208600\ttotal: 9.75s\tremaining: 0us\n",
      "0:\tlearn: 2967.0224222\ttotal: 96.3ms\tremaining: 14.3s\n",
      "10:\tlearn: 1824.0590265\ttotal: 989ms\tremaining: 12.5s\n",
      "20:\tlearn: 1736.9995766\ttotal: 1.81s\tremaining: 11.1s\n",
      "30:\tlearn: 1683.0163189\ttotal: 2.63s\tremaining: 10.1s\n",
      "40:\tlearn: 1644.0864106\ttotal: 3.46s\tremaining: 9.21s\n",
      "50:\tlearn: 1623.6901919\ttotal: 4.25s\tremaining: 8.25s\n",
      "60:\tlearn: 1601.5526049\ttotal: 5.05s\tremaining: 7.37s\n",
      "70:\tlearn: 1583.2135686\ttotal: 5.83s\tremaining: 6.49s\n",
      "80:\tlearn: 1557.1209358\ttotal: 6.64s\tremaining: 5.66s\n",
      "90:\tlearn: 1542.5008974\ttotal: 7.45s\tremaining: 4.83s\n",
      "100:\tlearn: 1529.0363273\ttotal: 8.26s\tremaining: 4.01s\n",
      "110:\tlearn: 1517.8559466\ttotal: 9.07s\tremaining: 3.19s\n",
      "120:\tlearn: 1504.2291225\ttotal: 9.88s\tremaining: 2.37s\n",
      "130:\tlearn: 1492.4917945\ttotal: 10.7s\tremaining: 1.55s\n",
      "140:\tlearn: 1478.6382115\ttotal: 11.5s\tremaining: 733ms\n",
      "149:\tlearn: 1469.8650922\ttotal: 12.2s\tremaining: 0us\n",
      "0:\tlearn: 2962.7822639\ttotal: 94.3ms\tremaining: 14s\n",
      "10:\tlearn: 1831.7492899\ttotal: 935ms\tremaining: 11.8s\n",
      "20:\tlearn: 1730.6509569\ttotal: 1.78s\tremaining: 11s\n",
      "30:\tlearn: 1671.9860456\ttotal: 2.58s\tremaining: 9.92s\n",
      "40:\tlearn: 1634.7302735\ttotal: 3.39s\tremaining: 9s\n",
      "50:\tlearn: 1605.0470218\ttotal: 4.2s\tremaining: 8.14s\n",
      "60:\tlearn: 1586.6705259\ttotal: 5.02s\tremaining: 7.32s\n",
      "70:\tlearn: 1566.9364515\ttotal: 5.86s\tremaining: 6.52s\n",
      "80:\tlearn: 1550.1199558\ttotal: 6.68s\tremaining: 5.69s\n",
      "90:\tlearn: 1534.8144191\ttotal: 7.54s\tremaining: 4.89s\n",
      "100:\tlearn: 1520.7790368\ttotal: 8.91s\tremaining: 4.32s\n",
      "110:\tlearn: 1504.5962361\ttotal: 9.8s\tremaining: 3.44s\n",
      "120:\tlearn: 1492.5254508\ttotal: 10.6s\tremaining: 2.54s\n",
      "130:\tlearn: 1481.2547508\ttotal: 11.4s\tremaining: 1.65s\n",
      "140:\tlearn: 1471.6620188\ttotal: 12.2s\tremaining: 780ms\n",
      "149:\tlearn: 1461.8030199\ttotal: 12.9s\tremaining: 0us\n",
      "0:\tlearn: 2938.5339889\ttotal: 106ms\tremaining: 15.8s\n",
      "10:\tlearn: 1827.3163572\ttotal: 976ms\tremaining: 12.3s\n",
      "20:\tlearn: 1735.2231354\ttotal: 1.77s\tremaining: 10.9s\n",
      "30:\tlearn: 1679.7827058\ttotal: 2.59s\tremaining: 9.95s\n",
      "40:\tlearn: 1639.6146674\ttotal: 3.39s\tremaining: 9.02s\n",
      "50:\tlearn: 1610.2671688\ttotal: 4.2s\tremaining: 8.15s\n",
      "60:\tlearn: 1589.7569794\ttotal: 5.01s\tremaining: 7.31s\n",
      "70:\tlearn: 1567.4404887\ttotal: 5.82s\tremaining: 6.48s\n",
      "80:\tlearn: 1550.0532805\ttotal: 6.63s\tremaining: 5.65s\n",
      "90:\tlearn: 1536.9619318\ttotal: 7.41s\tremaining: 4.8s\n",
      "100:\tlearn: 1517.1067712\ttotal: 8.21s\tremaining: 3.98s\n",
      "110:\tlearn: 1504.4138846\ttotal: 9.02s\tremaining: 3.17s\n",
      "120:\tlearn: 1491.0896430\ttotal: 9.83s\tremaining: 2.36s\n",
      "130:\tlearn: 1482.2106144\ttotal: 10.7s\tremaining: 1.55s\n",
      "140:\tlearn: 1473.8776380\ttotal: 11.6s\tremaining: 739ms\n",
      "149:\tlearn: 1462.8804701\ttotal: 12.3s\tremaining: 0us\n",
      "0:\tlearn: 2977.1859087\ttotal: 99.4ms\tremaining: 14.8s\n",
      "10:\tlearn: 1831.1487462\ttotal: 991ms\tremaining: 12.5s\n",
      "20:\tlearn: 1744.1835725\ttotal: 1.84s\tremaining: 11.3s\n",
      "30:\tlearn: 1685.0174296\ttotal: 2.67s\tremaining: 10.2s\n",
      "40:\tlearn: 1647.7029358\ttotal: 3.48s\tremaining: 9.26s\n",
      "50:\tlearn: 1620.2234967\ttotal: 4.31s\tremaining: 8.37s\n",
      "60:\tlearn: 1597.9995598\ttotal: 5.16s\tremaining: 7.52s\n",
      "70:\tlearn: 1576.3191473\ttotal: 5.99s\tremaining: 6.67s\n",
      "80:\tlearn: 1556.8899712\ttotal: 6.86s\tremaining: 5.84s\n",
      "90:\tlearn: 1547.8917835\ttotal: 7.71s\tremaining: 5s\n",
      "100:\tlearn: 1537.4180242\ttotal: 8.55s\tremaining: 4.15s\n",
      "110:\tlearn: 1521.5022788\ttotal: 9.42s\tremaining: 3.31s\n",
      "120:\tlearn: 1507.4162479\ttotal: 10.3s\tremaining: 2.47s\n",
      "130:\tlearn: 1491.6628106\ttotal: 11.1s\tremaining: 1.61s\n",
      "140:\tlearn: 1477.7995842\ttotal: 12s\tremaining: 765ms\n",
      "149:\tlearn: 1469.8853452\ttotal: 12.7s\tremaining: 0us\n",
      "0:\tlearn: 2925.2042967\ttotal: 99.3ms\tremaining: 14.8s\n",
      "10:\tlearn: 1819.1648717\ttotal: 962ms\tremaining: 12.2s\n",
      "20:\tlearn: 1716.8852097\ttotal: 1.8s\tremaining: 11s\n",
      "30:\tlearn: 1665.1015460\ttotal: 2.63s\tremaining: 10.1s\n",
      "40:\tlearn: 1627.4822679\ttotal: 3.46s\tremaining: 9.19s\n",
      "50:\tlearn: 1595.8959301\ttotal: 4.33s\tremaining: 8.4s\n",
      "60:\tlearn: 1576.6411453\ttotal: 5.16s\tremaining: 7.53s\n",
      "70:\tlearn: 1551.5516633\ttotal: 5.97s\tremaining: 6.65s\n",
      "80:\tlearn: 1535.8676871\ttotal: 6.8s\tremaining: 5.79s\n",
      "90:\tlearn: 1524.8473798\ttotal: 7.6s\tremaining: 4.92s\n",
      "100:\tlearn: 1509.9276726\ttotal: 8.39s\tremaining: 4.07s\n",
      "110:\tlearn: 1496.6625126\ttotal: 9.19s\tremaining: 3.23s\n",
      "120:\tlearn: 1483.4598152\ttotal: 9.99s\tremaining: 2.4s\n",
      "130:\tlearn: 1473.7599638\ttotal: 10.8s\tremaining: 1.57s\n",
      "140:\tlearn: 1463.9985741\ttotal: 11.6s\tremaining: 743ms\n",
      "149:\tlearn: 1456.1741665\ttotal: 12.4s\tremaining: 0us\n",
      "0:\tlearn: 3413.2035378\ttotal: 117ms\tremaining: 17.5s\n",
      "10:\tlearn: 1858.6246015\ttotal: 1.16s\tremaining: 14.6s\n",
      "20:\tlearn: 1760.0979544\ttotal: 2.12s\tremaining: 13s\n",
      "30:\tlearn: 1709.0582368\ttotal: 3.16s\tremaining: 12.1s\n",
      "40:\tlearn: 1672.8103270\ttotal: 4.17s\tremaining: 11.1s\n",
      "50:\tlearn: 1649.4886347\ttotal: 5.17s\tremaining: 10s\n",
      "60:\tlearn: 1633.1423500\ttotal: 6.15s\tremaining: 8.98s\n",
      "70:\tlearn: 1610.6358091\ttotal: 7.26s\tremaining: 8.08s\n",
      "80:\tlearn: 1591.9558972\ttotal: 8.26s\tremaining: 7.04s\n",
      "90:\tlearn: 1574.7764565\ttotal: 9.31s\tremaining: 6.04s\n",
      "100:\tlearn: 1562.8918643\ttotal: 10.3s\tremaining: 5.02s\n",
      "110:\tlearn: 1551.0276531\ttotal: 11.4s\tremaining: 4s\n",
      "120:\tlearn: 1540.1674471\ttotal: 12.4s\tremaining: 2.97s\n",
      "130:\tlearn: 1529.4449772\ttotal: 13.4s\tremaining: 1.94s\n",
      "140:\tlearn: 1520.5378805\ttotal: 14.3s\tremaining: 915ms\n",
      "149:\tlearn: 1513.4288422\ttotal: 15.2s\tremaining: 0us\n",
      "Время обучения :  1352.3759605884552\n"
     ]
    }
   ],
   "source": [
    "start_time = time.time()\n",
    "\n",
    "\n",
    "model = CatBoostRegressor(loss_function=\"RMSE\")\n",
    "\n",
    "parameters = {'max_depth' : [2, 4, 6, 8],\n",
    "              'learning_rate' : [0.2, 0.4, 0.6],\n",
    "              'iterations' : [50, 100, 150]\n",
    "                 }\n",
    "\n",
    "grid = GridSearchCV(model, parameters)\n",
    "grid.fit(features_train, target_train, cat_features=cat_features, verbose=10)\n",
    "\n",
    "cat_time_train = time.time() - start_time\n",
    "print('Время обучения : ', cat_time_train)"
   ]
  },
  {
   "cell_type": "code",
   "execution_count": 68,
   "metadata": {
    "scrolled": false
   },
   "outputs": [
    {
     "data": {
      "text/plain": [
       "{'iterations': 150, 'learning_rate': 0.4, 'max_depth': 8}"
      ]
     },
     "execution_count": 68,
     "metadata": {},
     "output_type": "execute_result"
    }
   ],
   "source": [
    "grid.best_params_"
   ]
  },
  {
   "cell_type": "code",
   "execution_count": 69,
   "metadata": {
    "scrolled": true
   },
   "outputs": [
    {
     "name": "stdout",
     "output_type": "stream",
     "text": [
      "0:\tlearn: 3413.2035378\ttotal: 121ms\tremaining: 18s\n",
      "10:\tlearn: 1858.6246015\ttotal: 1.19s\tremaining: 15s\n",
      "20:\tlearn: 1760.0979544\ttotal: 2.2s\tremaining: 13.5s\n",
      "30:\tlearn: 1709.0582368\ttotal: 3.21s\tremaining: 12.3s\n",
      "40:\tlearn: 1672.8103270\ttotal: 4.24s\tremaining: 11.3s\n",
      "50:\tlearn: 1649.4886347\ttotal: 5.26s\tremaining: 10.2s\n",
      "60:\tlearn: 1633.1423500\ttotal: 6.36s\tremaining: 9.28s\n",
      "70:\tlearn: 1610.6358091\ttotal: 7.44s\tremaining: 8.28s\n",
      "80:\tlearn: 1591.9558972\ttotal: 8.49s\tremaining: 7.23s\n",
      "90:\tlearn: 1574.7764565\ttotal: 9.51s\tremaining: 6.17s\n",
      "100:\tlearn: 1562.8918643\ttotal: 10.5s\tremaining: 5.11s\n",
      "110:\tlearn: 1551.0276531\ttotal: 11.6s\tremaining: 4.07s\n",
      "120:\tlearn: 1540.1674471\ttotal: 12.7s\tremaining: 3.04s\n",
      "130:\tlearn: 1529.4449772\ttotal: 13.7s\tremaining: 1.99s\n",
      "140:\tlearn: 1520.5378805\ttotal: 14.9s\tremaining: 949ms\n",
      "149:\tlearn: 1513.4288422\ttotal: 15.8s\tremaining: 0us\n",
      "Время обучения с лучшими параметрами :  17.715514183044434\n"
     ]
    }
   ],
   "source": [
    "start_time = time.time()\n",
    "\n",
    "model = CatBoostRegressor(loss_function=\"RMSE\", iterations=150, max_depth=8, learning_rate=0.4)\n",
    "model.fit(features_train, target_train, cat_features=cat_features, verbose=10)\n",
    "\n",
    "cat_time_train = time.time() - start_time\n",
    "print('Время обучения с лучшими параметрами : ', cat_time_train)"
   ]
  },
  {
   "cell_type": "code",
   "execution_count": 70,
   "metadata": {
    "scrolled": true
   },
   "outputs": [
    {
     "name": "stdout",
     "output_type": "stream",
     "text": [
      "RMSE_valid = 1636.2143926132362\n",
      "Время обучения :  0.11575460433959961\n",
      "Время предсказания элемента:  1.884609569033386e-06\n"
     ]
    }
   ],
   "source": [
    "start_time = time.time()\n",
    "\n",
    "predictions_valid = model.predict(features_valid)\n",
    "rmse = mean_squared_error(target_valid, predictions_valid) ** 0.5\n",
    "print(f'RMSE_valid = {rmse}')\n",
    "\n",
    "cat_time_valid = time.time() - start_time\n",
    "print('Время обучения : ', cat_time_valid)\n",
    "print('Время предсказания элемента: ', cat_time_valid / len(target_valid))"
   ]
  },
  {
   "cell_type": "markdown",
   "metadata": {},
   "source": [
    "**Вывод**\n",
    "\n",
    "К сожалению показатели улучшились не значительно.\n",
    "\n",
    "На валидационной выборке:\n",
    "- RMSE_valid = 1636.2143926132362\n",
    "- Время обучения :  0.11575460433959961\n",
    "- Время предсказания элемента:  1.884609569033386e-06"
   ]
  },
  {
   "cell_type": "markdown",
   "metadata": {},
   "source": [
    "### LightGBM"
   ]
  },
  {
   "cell_type": "code",
   "execution_count": 41,
   "metadata": {},
   "outputs": [
    {
     "data": {
      "text/plain": [
       "vehicle_type          object\n",
       "registration_year      int64\n",
       "gearbox               object\n",
       "power                  int64\n",
       "model                 object\n",
       "kilometer              int64\n",
       "registration_month     int64\n",
       "fuel_type             object\n",
       "brand                 object\n",
       "not_repaired          object\n",
       "year_class            object\n",
       "dtype: object"
      ]
     },
     "execution_count": 41,
     "metadata": {},
     "output_type": "execute_result"
    }
   ],
   "source": [
    "features_train.dtypes"
   ]
  },
  {
   "cell_type": "markdown",
   "metadata": {},
   "source": [
    "В LightGBM необходимо чтобы типы данных были либо int, либо float, либо bool. Поэтому необходимо преобразовать категориальные столбцы в тип категорий:"
   ]
  },
  {
   "cell_type": "code",
   "execution_count": 79,
   "metadata": {},
   "outputs": [],
   "source": [
    "categorical = ['vehicle_type', 'gearbox', 'model', 'fuel_type', 'brand', 'not_repaired', 'year_class']\n",
    "\n",
    "for feature in categorical:\n",
    "    features_train[feature] = pd.Series(features_train[feature], dtype=\"category\")\n",
    "    features_valid[feature] = pd.Series(features_valid[feature], dtype=\"category\")\n",
    "    features_test[feature] = pd.Series(features_test[feature], dtype=\"category\")"
   ]
  },
  {
   "cell_type": "code",
   "execution_count": 74,
   "metadata": {
    "scrolled": true
   },
   "outputs": [
    {
     "data": {
      "text/plain": [
       "vehicle_type          category\n",
       "registration_year        int64\n",
       "gearbox               category\n",
       "power                    int64\n",
       "model                 category\n",
       "kilometer                int64\n",
       "registration_month       int64\n",
       "fuel_type             category\n",
       "brand                 category\n",
       "not_repaired          category\n",
       "year_class            category\n",
       "dtype: object"
      ]
     },
     "execution_count": 74,
     "metadata": {},
     "output_type": "execute_result"
    }
   ],
   "source": [
    "features_train.dtypes"
   ]
  },
  {
   "cell_type": "code",
   "execution_count": 75,
   "metadata": {},
   "outputs": [
    {
     "name": "stdout",
     "output_type": "stream",
     "text": [
      "Время обучения :  594.8825645446777\n"
     ]
    }
   ],
   "source": [
    "start_time = time.time()\n",
    "\n",
    "\n",
    "model = LGBMRegressor()\n",
    "\n",
    "parameters = {'max_depth' : [2, 4, 6, 8],\n",
    "              'learning_rate' : [0.2, 0.4, 0.6],\n",
    "              'n_estimators' : [50, 100, 150]\n",
    "                 }\n",
    "\n",
    "grid = GridSearchCV(model, parameters)\n",
    "grid.fit(features_train, target_train, eval_metric='rmse', verbose=10)\n",
    "\n",
    "lgbm_time_train = time.time() - start_time\n",
    "print('Время обучения : ', lgbm_time_train)"
   ]
  },
  {
   "cell_type": "code",
   "execution_count": 76,
   "metadata": {
    "scrolled": false
   },
   "outputs": [
    {
     "data": {
      "text/plain": [
       "{'learning_rate': 0.2, 'max_depth': 8, 'n_estimators': 150}"
      ]
     },
     "execution_count": 76,
     "metadata": {},
     "output_type": "execute_result"
    }
   ],
   "source": [
    "grid.best_params_"
   ]
  },
  {
   "cell_type": "code",
   "execution_count": 77,
   "metadata": {
    "scrolled": true
   },
   "outputs": [
    {
     "name": "stdout",
     "output_type": "stream",
     "text": [
      "Время обучения с лучшими параметрами :  6.147614479064941\n"
     ]
    }
   ],
   "source": [
    "start_time = time.time()\n",
    "\n",
    "model = LGBMRegressor(n_estimators=150, max_depth=8, learning_rate=0.2)\n",
    "model.fit(features_train, target_train, eval_metric='rmse')\n",
    "\n",
    "lgbm_time_train = time.time() - start_time\n",
    "print('Время обучения с лучшими параметрами : ', lgbm_time_train)"
   ]
  },
  {
   "cell_type": "code",
   "execution_count": 80,
   "metadata": {
    "scrolled": true
   },
   "outputs": [
    {
     "name": "stdout",
     "output_type": "stream",
     "text": [
      "RMSE_valid = 1601.3225463142353\n",
      "Время обучения :  0.6911120414733887\n",
      "Время предсказания элемента:  1.1252048020601889e-05\n"
     ]
    }
   ],
   "source": [
    "start_time = time.time()\n",
    "\n",
    "predictions_valid = model.predict(features_valid)\n",
    "rmse = mean_squared_error(target_valid, predictions_valid) ** 0.5\n",
    "print(f'RMSE_valid = {rmse}')\n",
    "\n",
    "lgbm_time_valid = time.time() - start_time\n",
    "print('Время обучения : ', lgbm_time_valid)\n",
    "print('Время предсказания элемента: ', lgbm_time_valid / len(target_valid))"
   ]
  },
  {
   "cell_type": "markdown",
   "metadata": {},
   "source": [
    "**Вывод**\n",
    "\n",
    "При помощи GridSearchCV была найдена наилучшая модель LightGBM Regressor. Ее параметры: learning_rate: 0.2, max_depth: 8, n_estimators: 150. \n",
    "\n",
    "На валидационной выборке:\n",
    "- RMSE_valid = 1601.3225463142353\n",
    "- Время обучения :  0.6911120414733887\n",
    "- Время предсказания элемента:  1.1252048020601889e-05"
   ]
  },
  {
   "cell_type": "markdown",
   "metadata": {},
   "source": [
    "### Линейная регрессия"
   ]
  },
  {
   "cell_type": "markdown",
   "metadata": {},
   "source": [
    "Для линейной регрессии необходимо преобразовать категориальные признаки:"
   ]
  },
  {
   "cell_type": "code",
   "execution_count": 81,
   "metadata": {
    "scrolled": false
   },
   "outputs": [
    {
     "data": {
      "text/plain": [
       "vehicle_type          object\n",
       "registration_year      int64\n",
       "gearbox               object\n",
       "power                  int64\n",
       "model                 object\n",
       "kilometer              int64\n",
       "registration_month     int64\n",
       "fuel_type             object\n",
       "brand                 object\n",
       "not_repaired          object\n",
       "year_class            object\n",
       "dtype: object"
      ]
     },
     "execution_count": 81,
     "metadata": {},
     "output_type": "execute_result"
    }
   ],
   "source": [
    "features.dtypes"
   ]
  },
  {
   "cell_type": "code",
   "execution_count": 82,
   "metadata": {
    "scrolled": true
   },
   "outputs": [
    {
     "data": {
      "text/plain": [
       "(307103, 11)"
      ]
     },
     "execution_count": 82,
     "metadata": {},
     "output_type": "execute_result"
    }
   ],
   "source": [
    "features.shape"
   ]
  },
  {
   "cell_type": "markdown",
   "metadata": {},
   "source": [
    "Закодируем категориальные переменные:"
   ]
  },
  {
   "cell_type": "code",
   "execution_count": 83,
   "metadata": {},
   "outputs": [
    {
     "data": {
      "text/plain": [
       "(307103, 320)"
      ]
     },
     "execution_count": 83,
     "metadata": {},
     "output_type": "execute_result"
    }
   ],
   "source": [
    "features = pd.get_dummies(features, drop_first=True)\n",
    "features.shape"
   ]
  },
  {
   "cell_type": "code",
   "execution_count": 84,
   "metadata": {},
   "outputs": [],
   "source": [
    "features_main, features_test, target_main, target_test = train_test_split(features, target, test_size=0.2, random_state=27)"
   ]
  },
  {
   "cell_type": "code",
   "execution_count": 85,
   "metadata": {},
   "outputs": [],
   "source": [
    "features_train, features_valid, target_train, target_valid = train_test_split(features_main, target_main, test_size=0.25, random_state=27)"
   ]
  },
  {
   "cell_type": "code",
   "execution_count": 86,
   "metadata": {},
   "outputs": [
    {
     "data": {
      "text/plain": [
       "(184261, 320)"
      ]
     },
     "metadata": {},
     "output_type": "display_data"
    },
    {
     "data": {
      "text/plain": [
       "(184261,)"
      ]
     },
     "metadata": {},
     "output_type": "display_data"
    },
    {
     "data": {
      "text/plain": [
       "(61421, 320)"
      ]
     },
     "metadata": {},
     "output_type": "display_data"
    },
    {
     "data": {
      "text/plain": [
       "(61421,)"
      ]
     },
     "metadata": {},
     "output_type": "display_data"
    },
    {
     "data": {
      "text/plain": [
       "(61421, 320)"
      ]
     },
     "metadata": {},
     "output_type": "display_data"
    },
    {
     "data": {
      "text/plain": [
       "(61421,)"
      ]
     },
     "metadata": {},
     "output_type": "display_data"
    }
   ],
   "source": [
    "del features_main\n",
    "del target_main\n",
    "display(features_train.shape)\n",
    "display(target_train.shape)\n",
    "display(features_valid.shape)\n",
    "display(target_valid.shape)\n",
    "display(features_test.shape)\n",
    "display(target_test.shape)"
   ]
  },
  {
   "cell_type": "markdown",
   "metadata": {},
   "source": [
    "Проведем масштабирование числовых признаков:"
   ]
  },
  {
   "cell_type": "code",
   "execution_count": 87,
   "metadata": {},
   "outputs": [
    {
     "data": {
      "text/html": [
       "<div>\n",
       "<style scoped>\n",
       "    .dataframe tbody tr th:only-of-type {\n",
       "        vertical-align: middle;\n",
       "    }\n",
       "\n",
       "    .dataframe tbody tr th {\n",
       "        vertical-align: top;\n",
       "    }\n",
       "\n",
       "    .dataframe thead th {\n",
       "        text-align: right;\n",
       "    }\n",
       "</style>\n",
       "<table border=\"1\" class=\"dataframe\">\n",
       "  <thead>\n",
       "    <tr style=\"text-align: right;\">\n",
       "      <th></th>\n",
       "      <th>registration_year</th>\n",
       "      <th>power</th>\n",
       "      <th>kilometer</th>\n",
       "      <th>registration_month</th>\n",
       "      <th>vehicle_type_convertible</th>\n",
       "      <th>vehicle_type_coupe</th>\n",
       "      <th>vehicle_type_other</th>\n",
       "      <th>vehicle_type_sedan</th>\n",
       "      <th>vehicle_type_small</th>\n",
       "      <th>vehicle_type_suv</th>\n",
       "      <th>...</th>\n",
       "      <th>not_repaired_yes</th>\n",
       "      <th>year_class_c</th>\n",
       "      <th>year_class_d</th>\n",
       "      <th>year_class_e</th>\n",
       "      <th>year_class_f</th>\n",
       "      <th>year_class_g</th>\n",
       "      <th>year_class_y1</th>\n",
       "      <th>year_class_y2</th>\n",
       "      <th>year_class_y3</th>\n",
       "      <th>year_class_y4</th>\n",
       "    </tr>\n",
       "  </thead>\n",
       "  <tbody>\n",
       "    <tr>\n",
       "      <th>219526</th>\n",
       "      <td>1.828776</td>\n",
       "      <td>-0.966763</td>\n",
       "      <td>0.587603</td>\n",
       "      <td>5</td>\n",
       "      <td>0</td>\n",
       "      <td>0</td>\n",
       "      <td>0</td>\n",
       "      <td>0</td>\n",
       "      <td>0</td>\n",
       "      <td>0</td>\n",
       "      <td>...</td>\n",
       "      <td>1</td>\n",
       "      <td>0</td>\n",
       "      <td>0</td>\n",
       "      <td>0</td>\n",
       "      <td>0</td>\n",
       "      <td>0</td>\n",
       "      <td>0</td>\n",
       "      <td>0</td>\n",
       "      <td>0</td>\n",
       "      <td>1</td>\n",
       "    </tr>\n",
       "    <tr>\n",
       "      <th>241836</th>\n",
       "      <td>-0.044992</td>\n",
       "      <td>1.162802</td>\n",
       "      <td>-0.776266</td>\n",
       "      <td>6</td>\n",
       "      <td>1</td>\n",
       "      <td>0</td>\n",
       "      <td>0</td>\n",
       "      <td>0</td>\n",
       "      <td>0</td>\n",
       "      <td>0</td>\n",
       "      <td>...</td>\n",
       "      <td>0</td>\n",
       "      <td>0</td>\n",
       "      <td>0</td>\n",
       "      <td>0</td>\n",
       "      <td>0</td>\n",
       "      <td>0</td>\n",
       "      <td>0</td>\n",
       "      <td>0</td>\n",
       "      <td>1</td>\n",
       "      <td>0</td>\n",
       "    </tr>\n",
       "    <tr>\n",
       "      <th>289505</th>\n",
       "      <td>-1.342216</td>\n",
       "      <td>-0.476504</td>\n",
       "      <td>0.587603</td>\n",
       "      <td>3</td>\n",
       "      <td>0</td>\n",
       "      <td>0</td>\n",
       "      <td>0</td>\n",
       "      <td>1</td>\n",
       "      <td>0</td>\n",
       "      <td>0</td>\n",
       "      <td>...</td>\n",
       "      <td>0</td>\n",
       "      <td>0</td>\n",
       "      <td>0</td>\n",
       "      <td>0</td>\n",
       "      <td>0</td>\n",
       "      <td>0</td>\n",
       "      <td>0</td>\n",
       "      <td>1</td>\n",
       "      <td>0</td>\n",
       "      <td>0</td>\n",
       "    </tr>\n",
       "    <tr>\n",
       "      <th>120514</th>\n",
       "      <td>-0.189128</td>\n",
       "      <td>0.335489</td>\n",
       "      <td>0.587603</td>\n",
       "      <td>9</td>\n",
       "      <td>0</td>\n",
       "      <td>0</td>\n",
       "      <td>0</td>\n",
       "      <td>0</td>\n",
       "      <td>0</td>\n",
       "      <td>0</td>\n",
       "      <td>...</td>\n",
       "      <td>0</td>\n",
       "      <td>0</td>\n",
       "      <td>0</td>\n",
       "      <td>0</td>\n",
       "      <td>0</td>\n",
       "      <td>0</td>\n",
       "      <td>0</td>\n",
       "      <td>0</td>\n",
       "      <td>1</td>\n",
       "      <td>0</td>\n",
       "    </tr>\n",
       "    <tr>\n",
       "      <th>161696</th>\n",
       "      <td>-0.189128</td>\n",
       "      <td>-0.093488</td>\n",
       "      <td>0.587603</td>\n",
       "      <td>0</td>\n",
       "      <td>0</td>\n",
       "      <td>0</td>\n",
       "      <td>0</td>\n",
       "      <td>0</td>\n",
       "      <td>0</td>\n",
       "      <td>0</td>\n",
       "      <td>...</td>\n",
       "      <td>0</td>\n",
       "      <td>0</td>\n",
       "      <td>0</td>\n",
       "      <td>0</td>\n",
       "      <td>0</td>\n",
       "      <td>0</td>\n",
       "      <td>0</td>\n",
       "      <td>0</td>\n",
       "      <td>1</td>\n",
       "      <td>0</td>\n",
       "    </tr>\n",
       "  </tbody>\n",
       "</table>\n",
       "<p>5 rows × 320 columns</p>\n",
       "</div>"
      ],
      "text/plain": [
       "        registration_year     power  kilometer  registration_month  \\\n",
       "219526           1.828776 -0.966763   0.587603                   5   \n",
       "241836          -0.044992  1.162802  -0.776266                   6   \n",
       "289505          -1.342216 -0.476504   0.587603                   3   \n",
       "120514          -0.189128  0.335489   0.587603                   9   \n",
       "161696          -0.189128 -0.093488   0.587603                   0   \n",
       "\n",
       "        vehicle_type_convertible  vehicle_type_coupe  vehicle_type_other  \\\n",
       "219526                         0                   0                   0   \n",
       "241836                         1                   0                   0   \n",
       "289505                         0                   0                   0   \n",
       "120514                         0                   0                   0   \n",
       "161696                         0                   0                   0   \n",
       "\n",
       "        vehicle_type_sedan  vehicle_type_small  vehicle_type_suv  ...  \\\n",
       "219526                   0                   0                 0  ...   \n",
       "241836                   0                   0                 0  ...   \n",
       "289505                   1                   0                 0  ...   \n",
       "120514                   0                   0                 0  ...   \n",
       "161696                   0                   0                 0  ...   \n",
       "\n",
       "        not_repaired_yes  year_class_c  year_class_d  year_class_e  \\\n",
       "219526                 1             0             0             0   \n",
       "241836                 0             0             0             0   \n",
       "289505                 0             0             0             0   \n",
       "120514                 0             0             0             0   \n",
       "161696                 0             0             0             0   \n",
       "\n",
       "        year_class_f  year_class_g  year_class_y1  year_class_y2  \\\n",
       "219526             0             0              0              0   \n",
       "241836             0             0              0              0   \n",
       "289505             0             0              0              1   \n",
       "120514             0             0              0              0   \n",
       "161696             0             0              0              0   \n",
       "\n",
       "        year_class_y3  year_class_y4  \n",
       "219526              0              1  \n",
       "241836              1              0  \n",
       "289505              0              0  \n",
       "120514              1              0  \n",
       "161696              1              0  \n",
       "\n",
       "[5 rows x 320 columns]"
      ]
     },
     "execution_count": 87,
     "metadata": {},
     "output_type": "execute_result"
    }
   ],
   "source": [
    "numeric = ['registration_year', 'power', 'kilometer']\n",
    "scaler = StandardScaler()\n",
    "scaler.fit(features_train[numeric])\n",
    "features_train[numeric] = scaler.transform(features_train[numeric])\n",
    "features_valid[numeric] = scaler.transform(features_valid[numeric])\n",
    "features_test[numeric] = scaler.transform(features_test[numeric])\n",
    "features_train.head()"
   ]
  },
  {
   "cell_type": "markdown",
   "metadata": {},
   "source": [
    "Обучим модель линейной регрессии:"
   ]
  },
  {
   "cell_type": "code",
   "execution_count": 88,
   "metadata": {
    "scrolled": false
   },
   "outputs": [
    {
     "name": "stdout",
     "output_type": "stream",
     "text": [
      "Время обучения :  19.062886476516724\n"
     ]
    }
   ],
   "source": [
    "start_time = time.time()\n",
    "\n",
    "model = LinearRegression()\n",
    "model.fit(features_train, target_train)\n",
    "\n",
    "lin_time_train = time.time() - start_time\n",
    "print('Время обучения : ', lin_time_train)"
   ]
  },
  {
   "cell_type": "code",
   "execution_count": 89,
   "metadata": {},
   "outputs": [
    {
     "name": "stdout",
     "output_type": "stream",
     "text": [
      "RMSE_valid = 2478.573259151092\n",
      "Время обучения :  21.965837478637695\n",
      "Время предсказания элемента:  0.0003576274804812311\n"
     ]
    }
   ],
   "source": [
    "predictions_valid = model.predict(features_valid)\n",
    "rmse = mean_squared_error(target_valid, predictions_valid) ** 0.5\n",
    "print(f'RMSE_valid = {rmse}')\n",
    "\n",
    "lin_time_valid = time.time() - start_time\n",
    "print('Время обучения : ', lin_time_valid)\n",
    "print('Время предсказания элемента: ', lin_time_valid / len(target_valid))"
   ]
  },
  {
   "cell_type": "markdown",
   "metadata": {},
   "source": [
    "**Вывод**\n",
    "\n",
    "Результаты линейной регрессии получились значительно хуже бустингов.\n",
    "На валидационной выборке:\n",
    "- RMSE_valid = 2478.573259151092\n",
    "- Время обучения :  21.965837478637695\n",
    "- Время предсказания элемента:  0.0003576274804812311"
   ]
  },
  {
   "cell_type": "markdown",
   "metadata": {},
   "source": [
    "## Анализ моделей"
   ]
  },
  {
   "cell_type": "markdown",
   "metadata": {},
   "source": [
    "Для предсказания цен на автомобили мы моделировали градиентные бустинги CatBoost и LightGBM, а также составили линейную регрессию. Для подбора наилучших параметров бустинга мы использовали GridSearchCV.\n",
    "\n",
    "Результаты исследования оказались следующими:\n",
    "- CatBoost, обученный с исходными признаками показал:\n",
    " - RMSE_valid = 1634.5910660786503\n",
    " - Время обучения на тренировке: 1273.3\n",
    " - Время предсказания элемента: 1.7147109547370332e-06\n",
    "- CatBoost, обученный с дополнительным столбцом признаков показал:\n",
    " - RMSE_valid = 1636.2143926132362\n",
    " - Время обучения на тренировке: 1352.3\n",
    " - Время предсказания элемента: 1.884609569033386e-06\n",
    "- LightGBM, обученный с дополнительным столбцом признаков показал:\n",
    " - RMSE_valid = 1601.3225463142353\n",
    " - Время обучения на тренировке: 594.8\n",
    " - Время предсказания элемента: 1.1252048020601889e-05\n",
    "- Линейная регрессия, обученная с дополнительным столбцом признаков показала:\n",
    " - RMSE_valid = 2478.573259151092\n",
    " - Время обучения на тренировке: 19.06\n",
    " - Время предсказания элемента: 0.0003576274804812311\n",
    " \n",
    "Из полученных результатов можно сделать вывод, что лучше всех на этом датасете справился легкий градиентный бустинг LightGBM. У него наилучшее из всех значение RMSE на отложенной выборке и наилучшее время предсказания.\n",
    "\n",
    "Хуже всего справилась с предсказанием линейная регрессия и по RMSE и по времени предсказаний.\n",
    "\n",
    "CatBoost показал средние результаты и оказался совсем немного хуже LightGBM. Стоит отметить что обучать CatBoost намного удобнее чем LightGBM и регрессию."
   ]
  },
  {
   "cell_type": "markdown",
   "metadata": {},
   "source": [
    "Исходя их этого лучшей моделью можно считать именно LightGBM, поэтому проведем испытание на тестовой выборке для него:"
   ]
  },
  {
   "cell_type": "markdown",
   "metadata": {},
   "source": [
    "**Test LightGBM**"
   ]
  },
  {
   "cell_type": "code",
   "execution_count": 42,
   "metadata": {
    "scrolled": true
   },
   "outputs": [
    {
     "name": "stdout",
     "output_type": "stream",
     "text": [
      "(307103, 10)\n",
      "(307103,)\n"
     ]
    }
   ],
   "source": [
    "features = data.drop(['date_crawled', 'price', 'date_created', 'postalcode', 'last_seen'], axis=1)\n",
    "target = data['price']\n",
    "print(features.shape)\n",
    "print(target.shape)"
   ]
  },
  {
   "cell_type": "code",
   "execution_count": 43,
   "metadata": {},
   "outputs": [
    {
     "data": {
      "text/html": [
       "<div>\n",
       "<style scoped>\n",
       "    .dataframe tbody tr th:only-of-type {\n",
       "        vertical-align: middle;\n",
       "    }\n",
       "\n",
       "    .dataframe tbody tr th {\n",
       "        vertical-align: top;\n",
       "    }\n",
       "\n",
       "    .dataframe thead th {\n",
       "        text-align: right;\n",
       "    }\n",
       "</style>\n",
       "<table border=\"1\" class=\"dataframe\">\n",
       "  <thead>\n",
       "    <tr style=\"text-align: right;\">\n",
       "      <th></th>\n",
       "      <th>vehicle_type</th>\n",
       "      <th>registration_year</th>\n",
       "      <th>gearbox</th>\n",
       "      <th>power</th>\n",
       "      <th>model</th>\n",
       "      <th>kilometer</th>\n",
       "      <th>registration_month</th>\n",
       "      <th>fuel_type</th>\n",
       "      <th>brand</th>\n",
       "      <th>not_repaired</th>\n",
       "      <th>year_class</th>\n",
       "    </tr>\n",
       "  </thead>\n",
       "  <tbody>\n",
       "    <tr>\n",
       "      <th>0</th>\n",
       "      <td>coupe</td>\n",
       "      <td>2011</td>\n",
       "      <td>manual</td>\n",
       "      <td>190</td>\n",
       "      <td>unknown</td>\n",
       "      <td>125000</td>\n",
       "      <td>5</td>\n",
       "      <td>gasoline</td>\n",
       "      <td>audi</td>\n",
       "      <td>yes</td>\n",
       "      <td>y4</td>\n",
       "    </tr>\n",
       "    <tr>\n",
       "      <th>1</th>\n",
       "      <td>suv</td>\n",
       "      <td>2004</td>\n",
       "      <td>auto</td>\n",
       "      <td>163</td>\n",
       "      <td>grand</td>\n",
       "      <td>125000</td>\n",
       "      <td>8</td>\n",
       "      <td>gasoline</td>\n",
       "      <td>jeep</td>\n",
       "      <td>unknown</td>\n",
       "      <td>y3</td>\n",
       "    </tr>\n",
       "    <tr>\n",
       "      <th>2</th>\n",
       "      <td>small</td>\n",
       "      <td>2001</td>\n",
       "      <td>manual</td>\n",
       "      <td>75</td>\n",
       "      <td>golf</td>\n",
       "      <td>150000</td>\n",
       "      <td>6</td>\n",
       "      <td>petrol</td>\n",
       "      <td>volkswagen</td>\n",
       "      <td>no</td>\n",
       "      <td>y3</td>\n",
       "    </tr>\n",
       "    <tr>\n",
       "      <th>3</th>\n",
       "      <td>small</td>\n",
       "      <td>2008</td>\n",
       "      <td>manual</td>\n",
       "      <td>69</td>\n",
       "      <td>fabia</td>\n",
       "      <td>90000</td>\n",
       "      <td>7</td>\n",
       "      <td>gasoline</td>\n",
       "      <td>skoda</td>\n",
       "      <td>no</td>\n",
       "      <td>y3</td>\n",
       "    </tr>\n",
       "    <tr>\n",
       "      <th>4</th>\n",
       "      <td>sedan</td>\n",
       "      <td>1995</td>\n",
       "      <td>manual</td>\n",
       "      <td>102</td>\n",
       "      <td>3er</td>\n",
       "      <td>150000</td>\n",
       "      <td>10</td>\n",
       "      <td>petrol</td>\n",
       "      <td>bmw</td>\n",
       "      <td>yes</td>\n",
       "      <td>y2</td>\n",
       "    </tr>\n",
       "  </tbody>\n",
       "</table>\n",
       "</div>"
      ],
      "text/plain": [
       "  vehicle_type  registration_year gearbox  power    model  kilometer  \\\n",
       "0        coupe               2011  manual    190  unknown     125000   \n",
       "1          suv               2004    auto    163    grand     125000   \n",
       "2        small               2001  manual     75     golf     150000   \n",
       "3        small               2008  manual     69    fabia      90000   \n",
       "4        sedan               1995  manual    102      3er     150000   \n",
       "\n",
       "   registration_month fuel_type       brand not_repaired year_class  \n",
       "0                   5  gasoline        audi          yes         y4  \n",
       "1                   8  gasoline        jeep      unknown         y3  \n",
       "2                   6    petrol  volkswagen           no         y3  \n",
       "3                   7  gasoline       skoda           no         y3  \n",
       "4                  10    petrol         bmw          yes         y2  "
      ]
     },
     "execution_count": 43,
     "metadata": {},
     "output_type": "execute_result"
    }
   ],
   "source": [
    "features['year_class'] = features['registration_year'].apply(classification_auto)\n",
    "features.head()"
   ]
  },
  {
   "cell_type": "markdown",
   "metadata": {},
   "source": [
    "Разделим данные на 3 части и отложим тестовую на проверку лучшей модели:"
   ]
  },
  {
   "cell_type": "code",
   "execution_count": 44,
   "metadata": {},
   "outputs": [],
   "source": [
    "features_main, features_test, target_main, target_test = train_test_split(features, target, test_size=0.2, random_state=27)"
   ]
  },
  {
   "cell_type": "code",
   "execution_count": 45,
   "metadata": {},
   "outputs": [],
   "source": [
    "features_train, features_valid, target_train, target_valid = train_test_split(features_main, target_main, test_size=0.25, random_state=27)"
   ]
  },
  {
   "cell_type": "code",
   "execution_count": 46,
   "metadata": {
    "scrolled": false
   },
   "outputs": [
    {
     "data": {
      "text/plain": [
       "(184261, 11)"
      ]
     },
     "metadata": {},
     "output_type": "display_data"
    },
    {
     "data": {
      "text/plain": [
       "(184261,)"
      ]
     },
     "metadata": {},
     "output_type": "display_data"
    },
    {
     "data": {
      "text/plain": [
       "(61421, 11)"
      ]
     },
     "metadata": {},
     "output_type": "display_data"
    },
    {
     "data": {
      "text/plain": [
       "(61421,)"
      ]
     },
     "metadata": {},
     "output_type": "display_data"
    },
    {
     "data": {
      "text/plain": [
       "(61421, 11)"
      ]
     },
     "metadata": {},
     "output_type": "display_data"
    },
    {
     "data": {
      "text/plain": [
       "(61421,)"
      ]
     },
     "metadata": {},
     "output_type": "display_data"
    }
   ],
   "source": [
    "del features_main\n",
    "del target_main\n",
    "display(features_train.shape)\n",
    "display(target_train.shape)\n",
    "display(features_valid.shape)\n",
    "display(target_valid.shape)\n",
    "display(features_test.shape)\n",
    "display(target_test.shape)"
   ]
  },
  {
   "cell_type": "code",
   "execution_count": 47,
   "metadata": {},
   "outputs": [],
   "source": [
    "categorical = ['vehicle_type', 'gearbox', 'model', 'fuel_type', 'brand', 'not_repaired', 'year_class']\n",
    "\n",
    "for feature in categorical:\n",
    "    features_train[feature] = pd.Series(features_train[feature], dtype=\"category\")\n",
    "    features_valid[feature] = pd.Series(features_valid[feature], dtype=\"category\")\n",
    "    features_test[feature] = pd.Series(features_test[feature], dtype=\"category\")"
   ]
  },
  {
   "cell_type": "code",
   "execution_count": 48,
   "metadata": {
    "scrolled": true
   },
   "outputs": [
    {
     "data": {
      "text/plain": [
       "vehicle_type          category\n",
       "registration_year        int64\n",
       "gearbox               category\n",
       "power                    int64\n",
       "model                 category\n",
       "kilometer                int64\n",
       "registration_month       int64\n",
       "fuel_type             category\n",
       "brand                 category\n",
       "not_repaired          category\n",
       "year_class            category\n",
       "dtype: object"
      ]
     },
     "execution_count": 48,
     "metadata": {},
     "output_type": "execute_result"
    }
   ],
   "source": [
    "features_train.dtypes"
   ]
  },
  {
   "cell_type": "code",
   "execution_count": 49,
   "metadata": {
    "scrolled": true
   },
   "outputs": [
    {
     "name": "stdout",
     "output_type": "stream",
     "text": [
      "Время обучения с лучшими параметрами :  36.80966138839722\n"
     ]
    }
   ],
   "source": [
    "start_time = time.time()\n",
    "\n",
    "model = LGBMRegressor(n_estimators=150, max_depth=8, learning_rate=0.2)\n",
    "model.fit(features_train, target_train, eval_metric='rmse')\n",
    "\n",
    "lgbm_time_train = time.time() - start_time\n",
    "print('Время обучения с лучшими параметрами : ', lgbm_time_train)"
   ]
  },
  {
   "cell_type": "code",
   "execution_count": 50,
   "metadata": {
    "scrolled": true
   },
   "outputs": [
    {
     "name": "stdout",
     "output_type": "stream",
     "text": [
      "RMSE_valid = 1621.6905426134595\n",
      "Время предсказания :  1.2411835193634033\n",
      "Время предсказания элемента:  2.020780383522579e-05\n"
     ]
    }
   ],
   "source": [
    "start_time = time.time()\n",
    "\n",
    "predictions_test = model.predict(features_test)\n",
    "rmse = mean_squared_error(target_test, predictions_test) ** 0.5\n",
    "print(f'RMSE_valid = {rmse}')\n",
    "\n",
    "lgbm_time_test = time.time() - start_time\n",
    "print('Время предсказания : ', lgbm_time_test)\n",
    "print('Время предсказания элемента: ', lgbm_time_test / len(target_test))"
   ]
  },
  {
   "cell_type": "markdown",
   "metadata": {},
   "source": [
    "**Итоговые значения лучшей модели на отложенном тесте:**\n",
    "- RMSE_valid = 1621.6905426134595\n",
    "- Время предсказания :  1.2411835193634033\n",
    "- Время предсказания элемента:  2.020780383522579e-05"
   ]
  },
  {
   "cell_type": "markdown",
   "metadata": {},
   "source": [
    "## Вывод"
   ]
  },
  {
   "cell_type": "markdown",
   "metadata": {},
   "source": [
    "В этой работе представлен ход исследования по теме определения цен на авто на основе исторических данных. Для нас был предоставлен датасет содержащий выгрузку объявлений о продаже автомобилей.\n",
    "\n",
    "Первоначально мы взглянули на данные и определили, что в них имеются некоторые проблемы, такие как: аномальные выбросы, нулевые значения, пропуски и дубликаты. Проработав каждый столюец мы устранили все проблемы и подготовили данные к моделированию.\n",
    "\n",
    "Для задачи регрессии мы решили использовать градиентные бустинги от двух IT-гигантов: CatBoost и LightGBM. Также на всякий случай мы построили лиинейну регрессию как еще один способ для предсказаний.\n",
    "\n",
    "Для каждой модели мы искали наилучшие гиперпараметры через GridSearchCV, а также применили feature engineering для повышения качества предсказаний.\n",
    "\n",
    "В ходе исследования было определено, что лучше других справляется с этой задачей именно LightGBM. На нем и проводился итоговый тест на отложенной выборке. Его результаты оказались следующими:\n",
    "- RMSE_valid = 1621.6905426134595\n",
    "- Время предсказания :  1.2411835193634033\n",
    "- Время предсказания элемента:  2.020780383522579e-05"
   ]
  }
 ],
 "metadata": {
  "ExecuteTimeLog": [
   {
    "duration": 471,
    "start_time": "2022-04-14T13:53:00.820Z"
   },
   {
    "duration": 1097,
    "start_time": "2022-04-14T13:53:02.015Z"
   },
   {
    "duration": 1033,
    "start_time": "2022-04-14T13:53:09.352Z"
   },
   {
    "duration": 167,
    "start_time": "2022-04-14T13:54:47.840Z"
   },
   {
    "duration": 169,
    "start_time": "2022-04-14T14:00:43.412Z"
   },
   {
    "duration": 7,
    "start_time": "2022-04-14T14:15:24.913Z"
   },
   {
    "duration": 8,
    "start_time": "2022-04-14T14:16:03.913Z"
   },
   {
    "duration": 6,
    "start_time": "2022-04-14T14:19:01.360Z"
   },
   {
    "duration": 79,
    "start_time": "2022-04-14T14:20:48.729Z"
   },
   {
    "duration": 36,
    "start_time": "2022-04-14T14:20:51.677Z"
   },
   {
    "duration": 56,
    "start_time": "2022-04-14T14:22:36.044Z"
   },
   {
    "duration": 53,
    "start_time": "2022-04-14T14:22:53.849Z"
   },
   {
    "duration": 47,
    "start_time": "2022-04-14T14:23:54.194Z"
   },
   {
    "duration": 87,
    "start_time": "2022-04-14T14:25:11.567Z"
   },
   {
    "duration": 3,
    "start_time": "2022-04-14T14:29:16.198Z"
   },
   {
    "duration": 973,
    "start_time": "2022-04-14T14:29:16.657Z"
   },
   {
    "duration": 157,
    "start_time": "2022-04-14T14:29:18.744Z"
   },
   {
    "duration": 166,
    "start_time": "2022-04-14T14:29:20.001Z"
   },
   {
    "duration": 5,
    "start_time": "2022-04-14T14:29:20.751Z"
   },
   {
    "duration": 7,
    "start_time": "2022-04-14T14:29:21.242Z"
   },
   {
    "duration": 5,
    "start_time": "2022-04-14T14:29:21.857Z"
   },
   {
    "duration": 3,
    "start_time": "2022-04-14T14:29:24.311Z"
   },
   {
    "duration": 390,
    "start_time": "2022-04-14T14:29:25.943Z"
   },
   {
    "duration": 37,
    "start_time": "2022-04-14T14:29:56.845Z"
   },
   {
    "duration": 148,
    "start_time": "2022-04-14T14:34:11.011Z"
   },
   {
    "duration": 39,
    "start_time": "2022-04-14T14:35:04.004Z"
   },
   {
    "duration": 163,
    "start_time": "2022-04-14T14:35:12.825Z"
   },
   {
    "duration": 103,
    "start_time": "2022-04-14T14:35:50.281Z"
   },
   {
    "duration": 778,
    "start_time": "2022-04-14T14:40:36.348Z"
   },
   {
    "duration": 3,
    "start_time": "2022-04-14T14:43:25.295Z"
   },
   {
    "duration": 3,
    "start_time": "2022-04-14T14:43:28.383Z"
   },
   {
    "duration": 170,
    "start_time": "2022-04-14T14:43:35.119Z"
   },
   {
    "duration": 272,
    "start_time": "2022-04-14T14:44:34.249Z"
   },
   {
    "duration": 226,
    "start_time": "2022-04-14T14:44:49.559Z"
   },
   {
    "duration": 149,
    "start_time": "2022-04-14T14:45:31.694Z"
   },
   {
    "duration": 158,
    "start_time": "2022-04-14T14:46:06.197Z"
   },
   {
    "duration": 204,
    "start_time": "2022-04-14T14:46:24.083Z"
   },
   {
    "duration": 224,
    "start_time": "2022-04-14T14:46:32.348Z"
   },
   {
    "duration": 220,
    "start_time": "2022-04-14T14:46:35.892Z"
   },
   {
    "duration": 30,
    "start_time": "2022-04-14T14:50:21.271Z"
   },
   {
    "duration": 15,
    "start_time": "2022-04-14T14:50:31.991Z"
   },
   {
    "duration": 8,
    "start_time": "2022-04-14T14:51:21.205Z"
   },
   {
    "duration": 205,
    "start_time": "2022-04-14T14:54:08.195Z"
   },
   {
    "duration": 8,
    "start_time": "2022-04-14T14:54:16.943Z"
   },
   {
    "duration": 50,
    "start_time": "2022-04-14T14:54:27.846Z"
   },
   {
    "duration": 144,
    "start_time": "2022-04-14T14:54:47.342Z"
   },
   {
    "duration": 21,
    "start_time": "2022-04-14T14:57:16.254Z"
   },
   {
    "duration": 8,
    "start_time": "2022-04-14T14:57:26.782Z"
   },
   {
    "duration": 4,
    "start_time": "2022-04-14T14:57:36.685Z"
   },
   {
    "duration": 1481,
    "start_time": "2022-04-14T14:57:38.412Z"
   },
   {
    "duration": 259,
    "start_time": "2022-04-14T14:57:44.270Z"
   },
   {
    "duration": 2825,
    "start_time": "2022-04-14T14:58:02.462Z"
   },
   {
    "duration": 3,
    "start_time": "2022-04-14T14:58:14.093Z"
   },
   {
    "duration": 920,
    "start_time": "2022-04-14T14:58:14.462Z"
   },
   {
    "duration": 178,
    "start_time": "2022-04-14T14:58:16.301Z"
   },
   {
    "duration": 146,
    "start_time": "2022-04-14T14:58:17.346Z"
   },
   {
    "duration": 5,
    "start_time": "2022-04-14T14:58:17.989Z"
   },
   {
    "duration": 5,
    "start_time": "2022-04-14T14:58:18.501Z"
   },
   {
    "duration": 5,
    "start_time": "2022-04-14T14:58:19.069Z"
   },
   {
    "duration": 3,
    "start_time": "2022-04-14T14:58:20.756Z"
   },
   {
    "duration": 264,
    "start_time": "2022-04-14T14:58:21.205Z"
   },
   {
    "duration": 58,
    "start_time": "2022-04-14T14:58:22.300Z"
   },
   {
    "duration": 126,
    "start_time": "2022-04-14T14:58:22.764Z"
   },
   {
    "duration": 49,
    "start_time": "2022-04-14T14:58:23.117Z"
   },
   {
    "duration": 151,
    "start_time": "2022-04-14T14:58:23.557Z"
   },
   {
    "duration": 105,
    "start_time": "2022-04-14T14:58:24.413Z"
   },
   {
    "duration": 160,
    "start_time": "2022-04-14T14:58:25.292Z"
   },
   {
    "duration": 140,
    "start_time": "2022-04-14T14:58:25.756Z"
   },
   {
    "duration": 10,
    "start_time": "2022-04-14T14:58:27.293Z"
   },
   {
    "duration": 4,
    "start_time": "2022-04-14T14:58:36.172Z"
   },
   {
    "duration": 51,
    "start_time": "2022-04-14T14:59:06.100Z"
   },
   {
    "duration": 16,
    "start_time": "2022-04-14T14:59:49.821Z"
   },
   {
    "duration": 5,
    "start_time": "2022-04-14T14:59:56.484Z"
   },
   {
    "duration": 4,
    "start_time": "2022-04-14T15:00:14.970Z"
   },
   {
    "duration": 1005,
    "start_time": "2022-04-14T15:00:15.954Z"
   },
   {
    "duration": 173,
    "start_time": "2022-04-14T15:00:18.561Z"
   },
   {
    "duration": 160,
    "start_time": "2022-04-14T15:00:19.977Z"
   },
   {
    "duration": 5,
    "start_time": "2022-04-14T15:00:20.745Z"
   },
   {
    "duration": 7,
    "start_time": "2022-04-14T15:00:21.250Z"
   },
   {
    "duration": 6,
    "start_time": "2022-04-14T15:00:21.786Z"
   },
   {
    "duration": 3,
    "start_time": "2022-04-14T15:00:23.562Z"
   },
   {
    "duration": 242,
    "start_time": "2022-04-14T15:00:24.178Z"
   },
   {
    "duration": 60,
    "start_time": "2022-04-14T15:00:25.345Z"
   },
   {
    "duration": 109,
    "start_time": "2022-04-14T15:00:25.923Z"
   },
   {
    "duration": 29,
    "start_time": "2022-04-14T15:00:26.441Z"
   },
   {
    "duration": 257,
    "start_time": "2022-04-14T15:00:26.913Z"
   },
   {
    "duration": 102,
    "start_time": "2022-04-14T15:00:28.239Z"
   },
   {
    "duration": 151,
    "start_time": "2022-04-14T15:00:30.225Z"
   },
   {
    "duration": 144,
    "start_time": "2022-04-14T15:00:31.554Z"
   },
   {
    "duration": 9,
    "start_time": "2022-04-14T15:00:34.644Z"
   },
   {
    "duration": 4,
    "start_time": "2022-04-14T15:00:35.874Z"
   },
   {
    "duration": 60,
    "start_time": "2022-04-14T15:00:55.209Z"
   },
   {
    "duration": 65,
    "start_time": "2022-04-14T15:01:07.705Z"
   },
   {
    "duration": 90,
    "start_time": "2022-04-14T15:01:29.338Z"
   },
   {
    "duration": 219,
    "start_time": "2022-04-14T15:01:36.272Z"
   },
   {
    "duration": 8,
    "start_time": "2022-04-14T15:08:11.193Z"
   },
   {
    "duration": 211,
    "start_time": "2022-04-14T15:09:21.522Z"
   },
   {
    "duration": 205,
    "start_time": "2022-04-14T15:09:47.855Z"
   },
   {
    "duration": 2,
    "start_time": "2022-04-14T15:09:53.465Z"
   },
   {
    "duration": 1280,
    "start_time": "2022-04-14T15:09:53.470Z"
   },
   {
    "duration": 160,
    "start_time": "2022-04-14T15:09:54.753Z"
   },
   {
    "duration": 252,
    "start_time": "2022-04-14T15:09:54.916Z"
   },
   {
    "duration": 6,
    "start_time": "2022-04-14T15:09:55.170Z"
   },
   {
    "duration": 20,
    "start_time": "2022-04-14T15:09:55.177Z"
   },
   {
    "duration": 21,
    "start_time": "2022-04-14T15:09:55.199Z"
   },
   {
    "duration": 19,
    "start_time": "2022-04-14T15:09:55.222Z"
   },
   {
    "duration": 256,
    "start_time": "2022-04-14T15:09:55.242Z"
   },
   {
    "duration": 58,
    "start_time": "2022-04-14T15:09:55.501Z"
   },
   {
    "duration": 118,
    "start_time": "2022-04-14T15:09:55.561Z"
   },
   {
    "duration": 41,
    "start_time": "2022-04-14T15:09:55.681Z"
   },
   {
    "duration": 171,
    "start_time": "2022-04-14T15:09:55.724Z"
   },
   {
    "duration": 113,
    "start_time": "2022-04-14T15:09:55.897Z"
   },
   {
    "duration": 176,
    "start_time": "2022-04-14T15:09:56.012Z"
   },
   {
    "duration": 155,
    "start_time": "2022-04-14T15:09:56.190Z"
   },
   {
    "duration": 10,
    "start_time": "2022-04-14T15:09:56.348Z"
   },
   {
    "duration": 6,
    "start_time": "2022-04-14T15:09:56.360Z"
   },
   {
    "duration": 115,
    "start_time": "2022-04-14T15:09:56.368Z"
   },
   {
    "duration": 161,
    "start_time": "2022-04-14T15:09:56.486Z"
   },
   {
    "duration": 215,
    "start_time": "2022-04-14T15:09:56.650Z"
   },
   {
    "duration": 476,
    "start_time": "2022-04-14T15:35:00.383Z"
   },
   {
    "duration": 704,
    "start_time": "2022-04-14T15:36:12.254Z"
   },
   {
    "duration": 3,
    "start_time": "2022-04-14T15:37:31.759Z"
   },
   {
    "duration": 1088,
    "start_time": "2022-04-14T15:37:31.764Z"
   },
   {
    "duration": 157,
    "start_time": "2022-04-14T15:37:32.854Z"
   },
   {
    "duration": 171,
    "start_time": "2022-04-14T15:37:33.017Z"
   },
   {
    "duration": 8,
    "start_time": "2022-04-14T15:37:33.190Z"
   },
   {
    "duration": 22,
    "start_time": "2022-04-14T15:37:33.200Z"
   },
   {
    "duration": 35,
    "start_time": "2022-04-14T15:37:33.224Z"
   },
   {
    "duration": 7,
    "start_time": "2022-04-14T15:37:33.261Z"
   },
   {
    "duration": 244,
    "start_time": "2022-04-14T15:37:33.271Z"
   },
   {
    "duration": 53,
    "start_time": "2022-04-14T15:37:33.517Z"
   },
   {
    "duration": 132,
    "start_time": "2022-04-14T15:37:33.572Z"
   },
   {
    "duration": 43,
    "start_time": "2022-04-14T15:37:33.707Z"
   },
   {
    "duration": 245,
    "start_time": "2022-04-14T15:37:33.753Z"
   },
   {
    "duration": 110,
    "start_time": "2022-04-14T15:37:34.001Z"
   },
   {
    "duration": 166,
    "start_time": "2022-04-14T15:37:34.118Z"
   },
   {
    "duration": 170,
    "start_time": "2022-04-14T15:37:34.286Z"
   },
   {
    "duration": 8,
    "start_time": "2022-04-14T15:37:34.458Z"
   },
   {
    "duration": 10,
    "start_time": "2022-04-14T15:37:34.468Z"
   },
   {
    "duration": 115,
    "start_time": "2022-04-14T15:37:34.480Z"
   },
   {
    "duration": 166,
    "start_time": "2022-04-14T15:37:34.597Z"
   },
   {
    "duration": 209,
    "start_time": "2022-04-14T15:37:34.765Z"
   },
   {
    "duration": 583,
    "start_time": "2022-04-14T15:37:34.976Z"
   },
   {
    "duration": 697,
    "start_time": "2022-04-14T15:37:35.561Z"
   },
   {
    "duration": 4,
    "start_time": "2022-04-14T15:39:08.014Z"
   },
   {
    "duration": 939,
    "start_time": "2022-04-14T15:39:08.020Z"
   },
   {
    "duration": 158,
    "start_time": "2022-04-14T15:39:08.960Z"
   },
   {
    "duration": 162,
    "start_time": "2022-04-14T15:39:09.125Z"
   },
   {
    "duration": 4,
    "start_time": "2022-04-14T15:39:09.290Z"
   },
   {
    "duration": 24,
    "start_time": "2022-04-14T15:39:09.296Z"
   },
   {
    "duration": 33,
    "start_time": "2022-04-14T15:39:09.322Z"
   },
   {
    "duration": 8,
    "start_time": "2022-04-14T15:39:09.357Z"
   },
   {
    "duration": 262,
    "start_time": "2022-04-14T15:39:09.367Z"
   },
   {
    "duration": 131,
    "start_time": "2022-04-14T15:39:09.631Z"
   },
   {
    "duration": 172,
    "start_time": "2022-04-14T15:39:09.764Z"
   },
   {
    "duration": 139,
    "start_time": "2022-04-14T15:39:09.939Z"
   },
   {
    "duration": 9,
    "start_time": "2022-04-14T15:39:10.081Z"
   },
   {
    "duration": 5,
    "start_time": "2022-04-14T15:39:10.094Z"
   },
   {
    "duration": 105,
    "start_time": "2022-04-14T15:39:10.101Z"
   },
   {
    "duration": 163,
    "start_time": "2022-04-14T15:39:10.227Z"
   },
   {
    "duration": 203,
    "start_time": "2022-04-14T15:39:10.392Z"
   },
   {
    "duration": 486,
    "start_time": "2022-04-14T15:39:10.597Z"
   },
   {
    "duration": 706,
    "start_time": "2022-04-14T15:39:11.084Z"
   },
   {
    "duration": 1191,
    "start_time": "2022-04-14T15:43:06.781Z"
   },
   {
    "duration": 18,
    "start_time": "2022-04-14T15:48:39.654Z"
   },
   {
    "duration": 93,
    "start_time": "2022-04-14T15:52:19.483Z"
   },
   {
    "duration": 77,
    "start_time": "2022-04-14T15:52:20.107Z"
   },
   {
    "duration": 13,
    "start_time": "2022-04-14T15:52:21.299Z"
   },
   {
    "duration": 10,
    "start_time": "2022-04-14T15:52:51.325Z"
   },
   {
    "duration": 72,
    "start_time": "2022-04-14T15:54:55.783Z"
   },
   {
    "duration": 21,
    "start_time": "2022-04-14T15:57:05.249Z"
   },
   {
    "duration": 5564,
    "start_time": "2022-04-14T15:57:26.128Z"
   },
   {
    "duration": 117,
    "start_time": "2022-04-14T16:00:08.567Z"
   },
   {
    "duration": 5,
    "start_time": "2022-04-14T16:00:35.000Z"
   },
   {
    "duration": 112,
    "start_time": "2022-04-14T16:00:44.486Z"
   },
   {
    "duration": 151,
    "start_time": "2022-04-14T16:00:51.496Z"
   },
   {
    "duration": 10620,
    "start_time": "2022-04-14T16:01:21.693Z"
   },
   {
    "duration": 159,
    "start_time": "2022-04-14T16:01:36.733Z"
   },
   {
    "duration": 10538,
    "start_time": "2022-04-14T16:06:22.209Z"
   },
   {
    "duration": 130,
    "start_time": "2022-04-14T16:06:35.002Z"
   },
   {
    "duration": 3,
    "start_time": "2022-04-14T16:07:23.393Z"
   },
   {
    "duration": 5,
    "start_time": "2022-04-14T16:15:52.183Z"
   },
   {
    "duration": 40058,
    "start_time": "2022-04-14T16:20:00.363Z"
   },
   {
    "duration": 6,
    "start_time": "2022-04-14T16:20:43.611Z"
   },
   {
    "duration": 990,
    "start_time": "2022-04-14T16:20:46.992Z"
   },
   {
    "duration": 161,
    "start_time": "2022-04-14T16:20:49.442Z"
   },
   {
    "duration": 171,
    "start_time": "2022-04-14T16:20:50.305Z"
   },
   {
    "duration": 5,
    "start_time": "2022-04-14T16:20:50.704Z"
   },
   {
    "duration": 7,
    "start_time": "2022-04-14T16:20:51.073Z"
   },
   {
    "duration": 7,
    "start_time": "2022-04-14T16:20:51.454Z"
   },
   {
    "duration": 6,
    "start_time": "2022-04-14T16:20:52.828Z"
   },
   {
    "duration": 409,
    "start_time": "2022-04-14T16:20:53.201Z"
   },
   {
    "duration": 109,
    "start_time": "2022-04-14T16:20:54.056Z"
   },
   {
    "duration": 268,
    "start_time": "2022-04-14T16:20:55.088Z"
   },
   {
    "duration": 154,
    "start_time": "2022-04-14T16:20:55.439Z"
   },
   {
    "duration": 8,
    "start_time": "2022-04-14T16:20:56.064Z"
   },
   {
    "duration": 5,
    "start_time": "2022-04-14T16:20:56.441Z"
   },
   {
    "duration": 102,
    "start_time": "2022-04-14T16:20:57.136Z"
   },
   {
    "duration": 148,
    "start_time": "2022-04-14T16:20:57.480Z"
   },
   {
    "duration": 203,
    "start_time": "2022-04-14T16:20:58.200Z"
   },
   {
    "duration": 504,
    "start_time": "2022-04-14T16:20:58.926Z"
   },
   {
    "duration": 744,
    "start_time": "2022-04-14T16:20:59.434Z"
   },
   {
    "duration": 26,
    "start_time": "2022-04-14T16:21:01.064Z"
   },
   {
    "duration": 119,
    "start_time": "2022-04-14T16:21:01.601Z"
   },
   {
    "duration": 64,
    "start_time": "2022-04-14T16:21:02.041Z"
   },
   {
    "duration": 13,
    "start_time": "2022-04-14T16:21:02.672Z"
   },
   {
    "duration": 3,
    "start_time": "2022-04-14T16:21:03.240Z"
   },
   {
    "duration": 62825,
    "start_time": "2022-04-14T16:21:05.339Z"
   },
   {
    "duration": 55519,
    "start_time": "2022-04-14T16:25:56.965Z"
   },
   {
    "duration": 61158,
    "start_time": "2022-04-14T16:28:08.126Z"
   },
   {
    "duration": 62266,
    "start_time": "2022-04-14T16:32:09.910Z"
   },
   {
    "duration": 60332,
    "start_time": "2022-04-14T16:35:24.487Z"
   },
   {
    "duration": 196865,
    "start_time": "2022-04-14T16:37:35.957Z"
   },
   {
    "duration": 22,
    "start_time": "2022-04-14T16:40:58.541Z"
   },
   {
    "duration": 191,
    "start_time": "2022-04-14T16:41:09.208Z"
   },
   {
    "duration": 13,
    "start_time": "2022-04-14T16:41:38.443Z"
   },
   {
    "duration": 11,
    "start_time": "2022-04-14T16:41:43.382Z"
   },
   {
    "duration": 1597,
    "start_time": "2022-04-16T08:18:33.561Z"
   },
   {
    "duration": 820,
    "start_time": "2022-04-16T08:18:35.161Z"
   },
   {
    "duration": 131,
    "start_time": "2022-04-16T08:18:35.982Z"
   },
   {
    "duration": 183,
    "start_time": "2022-04-16T08:18:36.116Z"
   },
   {
    "duration": 4,
    "start_time": "2022-04-16T08:18:36.337Z"
   },
   {
    "duration": 5,
    "start_time": "2022-04-16T08:18:36.995Z"
   },
   {
    "duration": 5,
    "start_time": "2022-04-16T08:18:37.385Z"
   },
   {
    "duration": 3,
    "start_time": "2022-04-16T08:18:39.077Z"
   },
   {
    "duration": 205,
    "start_time": "2022-04-16T08:18:39.425Z"
   },
   {
    "duration": 132,
    "start_time": "2022-04-16T08:18:40.242Z"
   },
   {
    "duration": 150,
    "start_time": "2022-04-16T08:18:41.439Z"
   },
   {
    "duration": 127,
    "start_time": "2022-04-16T08:18:41.749Z"
   },
   {
    "duration": 10,
    "start_time": "2022-04-16T08:18:42.576Z"
   },
   {
    "duration": 3,
    "start_time": "2022-04-16T08:18:42.942Z"
   },
   {
    "duration": 109,
    "start_time": "2022-04-16T08:18:44.069Z"
   },
   {
    "duration": 131,
    "start_time": "2022-04-16T08:18:44.434Z"
   },
   {
    "duration": 177,
    "start_time": "2022-04-16T08:18:45.198Z"
   },
   {
    "duration": 450,
    "start_time": "2022-04-16T08:18:46.649Z"
   },
   {
    "duration": 683,
    "start_time": "2022-04-16T08:18:47.772Z"
   },
   {
    "duration": 18,
    "start_time": "2022-04-16T08:18:50.857Z"
   },
   {
    "duration": 76,
    "start_time": "2022-04-16T08:18:51.493Z"
   },
   {
    "duration": 62,
    "start_time": "2022-04-16T08:18:52.187Z"
   },
   {
    "duration": 14,
    "start_time": "2022-04-16T08:18:52.907Z"
   },
   {
    "duration": 3,
    "start_time": "2022-04-16T08:18:56.130Z"
   },
   {
    "duration": 13639,
    "start_time": "2022-04-16T08:18:56.682Z"
   },
   {
    "duration": 4,
    "start_time": "2022-04-16T08:19:17.602Z"
   },
   {
    "duration": 814,
    "start_time": "2022-04-16T08:19:17.860Z"
   },
   {
    "duration": 131,
    "start_time": "2022-04-16T08:19:18.676Z"
   },
   {
    "duration": 123,
    "start_time": "2022-04-16T08:19:19.872Z"
   },
   {
    "duration": 5,
    "start_time": "2022-04-16T08:19:20.604Z"
   },
   {
    "duration": 6,
    "start_time": "2022-04-16T08:19:21.178Z"
   },
   {
    "duration": 5,
    "start_time": "2022-04-16T08:19:21.769Z"
   },
   {
    "duration": 3,
    "start_time": "2022-04-16T08:19:24.078Z"
   },
   {
    "duration": 217,
    "start_time": "2022-04-16T08:19:24.082Z"
   },
   {
    "duration": 87,
    "start_time": "2022-04-16T08:19:24.726Z"
   },
   {
    "duration": 140,
    "start_time": "2022-04-16T08:19:35.423Z"
   },
   {
    "duration": 225,
    "start_time": "2022-04-16T08:19:36.577Z"
   },
   {
    "duration": 9,
    "start_time": "2022-04-16T08:19:37.928Z"
   },
   {
    "duration": 4,
    "start_time": "2022-04-16T08:19:38.532Z"
   },
   {
    "duration": 94,
    "start_time": "2022-04-16T08:19:39.605Z"
   },
   {
    "duration": 137,
    "start_time": "2022-04-16T08:19:40.306Z"
   },
   {
    "duration": 163,
    "start_time": "2022-04-16T08:19:42.271Z"
   },
   {
    "duration": 414,
    "start_time": "2022-04-16T08:19:45.489Z"
   },
   {
    "duration": 622,
    "start_time": "2022-04-16T08:19:46.851Z"
   },
   {
    "duration": 22,
    "start_time": "2022-04-16T08:19:52.925Z"
   },
   {
    "duration": 84,
    "start_time": "2022-04-16T08:19:53.671Z"
   },
   {
    "duration": 68,
    "start_time": "2022-04-16T08:19:54.303Z"
   },
   {
    "duration": 13,
    "start_time": "2022-04-16T08:19:54.944Z"
   },
   {
    "duration": 3,
    "start_time": "2022-04-16T08:20:04.851Z"
   },
   {
    "duration": 795103,
    "start_time": "2022-04-16T08:21:49.799Z"
   },
   {
    "duration": 5,
    "start_time": "2022-04-16T08:35:19.010Z"
   },
   {
    "duration": 12936,
    "start_time": "2022-04-16T08:36:00.126Z"
   },
   {
    "duration": 98,
    "start_time": "2022-04-16T08:36:20.430Z"
   },
   {
    "duration": 105,
    "start_time": "2022-04-16T08:40:34.993Z"
   },
   {
    "duration": 134,
    "start_time": "2022-04-16T08:51:38.344Z"
   },
   {
    "duration": 142,
    "start_time": "2022-04-16T08:56:43.751Z"
   },
   {
    "duration": 111,
    "start_time": "2022-04-16T08:57:35.532Z"
   },
   {
    "duration": 4,
    "start_time": "2022-04-16T08:58:31.958Z"
   },
   {
    "duration": 120,
    "start_time": "2022-04-16T09:01:14.600Z"
   },
   {
    "duration": 126,
    "start_time": "2022-04-16T09:01:27.032Z"
   },
   {
    "duration": 141,
    "start_time": "2022-04-16T09:01:32.559Z"
   },
   {
    "duration": 136,
    "start_time": "2022-04-16T09:02:03.418Z"
   },
   {
    "duration": 120,
    "start_time": "2022-04-16T09:02:08.570Z"
   },
   {
    "duration": 4,
    "start_time": "2022-04-16T09:06:49.907Z"
   },
   {
    "duration": 129,
    "start_time": "2022-04-16T09:38:58.626Z"
   },
   {
    "duration": 97,
    "start_time": "2022-04-16T09:47:54.427Z"
   },
   {
    "duration": 403709,
    "start_time": "2022-04-16T09:48:05.896Z"
   },
   {
    "duration": 1706,
    "start_time": "2022-04-18T10:09:46.261Z"
   },
   {
    "duration": 1104,
    "start_time": "2022-04-18T10:09:47.969Z"
   },
   {
    "duration": 145,
    "start_time": "2022-04-18T10:09:49.075Z"
   },
   {
    "duration": 126,
    "start_time": "2022-04-18T10:09:49.299Z"
   },
   {
    "duration": 5,
    "start_time": "2022-04-18T10:09:49.682Z"
   },
   {
    "duration": 5,
    "start_time": "2022-04-18T10:09:50.044Z"
   },
   {
    "duration": 5,
    "start_time": "2022-04-18T10:09:50.500Z"
   },
   {
    "duration": 3,
    "start_time": "2022-04-18T10:09:52.026Z"
   },
   {
    "duration": 227,
    "start_time": "2022-04-18T10:09:52.473Z"
   },
   {
    "duration": 82,
    "start_time": "2022-04-18T10:09:53.561Z"
   },
   {
    "duration": 147,
    "start_time": "2022-04-18T10:09:54.945Z"
   },
   {
    "duration": 119,
    "start_time": "2022-04-18T10:09:55.797Z"
   },
   {
    "duration": 10,
    "start_time": "2022-04-18T10:09:57.168Z"
   },
   {
    "duration": 4,
    "start_time": "2022-04-18T10:09:57.179Z"
   },
   {
    "duration": 109,
    "start_time": "2022-04-18T10:09:57.957Z"
   },
   {
    "duration": 129,
    "start_time": "2022-04-18T10:09:58.631Z"
   },
   {
    "duration": 182,
    "start_time": "2022-04-18T10:10:00.623Z"
   },
   {
    "duration": 442,
    "start_time": "2022-04-18T10:10:01.971Z"
   },
   {
    "duration": 617,
    "start_time": "2022-04-18T10:10:02.577Z"
   },
   {
    "duration": 17,
    "start_time": "2022-04-18T10:10:05.705Z"
   },
   {
    "duration": 83,
    "start_time": "2022-04-18T10:10:06.829Z"
   },
   {
    "duration": 56,
    "start_time": "2022-04-18T10:10:07.496Z"
   },
   {
    "duration": 19,
    "start_time": "2022-04-18T10:10:08.446Z"
   },
   {
    "duration": 15,
    "start_time": "2022-04-18T10:13:52.839Z"
   },
   {
    "duration": 9,
    "start_time": "2022-04-18T10:14:14.077Z"
   },
   {
    "duration": 577,
    "start_time": "2022-04-18T10:29:07.492Z"
   },
   {
    "duration": 10,
    "start_time": "2022-04-18T10:29:56.547Z"
   },
   {
    "duration": 11,
    "start_time": "2022-04-18T10:30:09.874Z"
   },
   {
    "duration": 81,
    "start_time": "2022-04-18T10:30:15.886Z"
   },
   {
    "duration": 174,
    "start_time": "2022-04-18T10:31:01.298Z"
   },
   {
    "duration": 3,
    "start_time": "2022-04-18T10:34:13.561Z"
   },
   {
    "duration": 133,
    "start_time": "2022-04-18T10:34:19.957Z"
   },
   {
    "duration": 89,
    "start_time": "2022-04-18T10:34:21.635Z"
   },
   {
    "duration": 11,
    "start_time": "2022-04-18T10:34:23.474Z"
   },
   {
    "duration": 4,
    "start_time": "2022-04-18T10:35:35.047Z"
   },
   {
    "duration": 917097,
    "start_time": "2022-04-18T10:35:46.362Z"
   },
   {
    "duration": 5,
    "start_time": "2022-04-18T10:51:45.248Z"
   },
   {
    "duration": 14066,
    "start_time": "2022-04-18T10:52:05.699Z"
   },
   {
    "duration": 116,
    "start_time": "2022-04-18T10:52:26.374Z"
   },
   {
    "duration": 114,
    "start_time": "2022-04-18T10:52:29.690Z"
   },
   {
    "duration": 113,
    "start_time": "2022-04-18T10:58:01.714Z"
   },
   {
    "duration": 2,
    "start_time": "2022-04-18T10:58:54.189Z"
   },
   {
    "duration": 133,
    "start_time": "2022-04-18T10:59:26.640Z"
   },
   {
    "duration": 63,
    "start_time": "2022-04-18T11:00:07.198Z"
   },
   {
    "duration": 5,
    "start_time": "2022-04-18T11:01:29.079Z"
   },
   {
    "duration": 121,
    "start_time": "2022-04-18T11:02:20.590Z"
   },
   {
    "duration": 135,
    "start_time": "2022-04-18T11:02:43.887Z"
   },
   {
    "duration": 11,
    "start_time": "2022-04-18T11:06:09.432Z"
   },
   {
    "duration": 4,
    "start_time": "2022-04-18T11:06:13.122Z"
   },
   {
    "duration": 3,
    "start_time": "2022-04-18T11:07:57.622Z"
   },
   {
    "duration": 4,
    "start_time": "2022-04-18T11:09:20.844Z"
   },
   {
    "duration": 120,
    "start_time": "2022-04-18T11:09:48.376Z"
   },
   {
    "duration": 122,
    "start_time": "2022-04-18T11:12:09.795Z"
   },
   {
    "duration": 3,
    "start_time": "2022-04-18T11:12:31.295Z"
   },
   {
    "duration": 8,
    "start_time": "2022-04-18T11:14:05.325Z"
   },
   {
    "duration": 8,
    "start_time": "2022-04-18T11:14:15.906Z"
   },
   {
    "duration": 3,
    "start_time": "2022-04-18T11:14:22.086Z"
   },
   {
    "duration": 4,
    "start_time": "2022-04-18T11:14:36.935Z"
   },
   {
    "duration": 9,
    "start_time": "2022-04-18T11:14:47.960Z"
   },
   {
    "duration": 8,
    "start_time": "2022-04-18T11:14:55.125Z"
   },
   {
    "duration": 8,
    "start_time": "2022-04-18T11:16:10.487Z"
   },
   {
    "duration": 11,
    "start_time": "2022-04-18T11:16:18.846Z"
   },
   {
    "duration": 10,
    "start_time": "2022-04-18T11:16:31.291Z"
   },
   {
    "duration": 11,
    "start_time": "2022-04-18T11:16:51.006Z"
   },
   {
    "duration": 134,
    "start_time": "2022-04-18T11:18:20.470Z"
   },
   {
    "duration": 4,
    "start_time": "2022-04-18T13:39:38.630Z"
   },
   {
    "duration": 706,
    "start_time": "2022-04-18T13:39:39.742Z"
   },
   {
    "duration": 117,
    "start_time": "2022-04-18T13:39:41.373Z"
   },
   {
    "duration": 111,
    "start_time": "2022-04-18T13:39:42.204Z"
   },
   {
    "duration": 4,
    "start_time": "2022-04-18T13:39:42.549Z"
   },
   {
    "duration": 5,
    "start_time": "2022-04-18T13:39:42.989Z"
   },
   {
    "duration": 5,
    "start_time": "2022-04-18T13:39:43.405Z"
   },
   {
    "duration": 3,
    "start_time": "2022-04-18T13:39:45.093Z"
   },
   {
    "duration": 190,
    "start_time": "2022-04-18T13:39:45.598Z"
   },
   {
    "duration": 80,
    "start_time": "2022-04-18T13:39:46.693Z"
   },
   {
    "duration": 186,
    "start_time": "2022-04-18T13:39:48.757Z"
   },
   {
    "duration": 108,
    "start_time": "2022-04-18T13:39:49.262Z"
   },
   {
    "duration": 8,
    "start_time": "2022-04-18T13:39:50.141Z"
   },
   {
    "duration": 4,
    "start_time": "2022-04-18T13:39:50.533Z"
   },
   {
    "duration": 89,
    "start_time": "2022-04-18T13:39:51.277Z"
   },
   {
    "duration": 112,
    "start_time": "2022-04-18T13:39:51.652Z"
   },
   {
    "duration": 151,
    "start_time": "2022-04-18T13:39:52.461Z"
   },
   {
    "duration": 370,
    "start_time": "2022-04-18T13:39:53.269Z"
   },
   {
    "duration": 567,
    "start_time": "2022-04-18T13:39:53.686Z"
   },
   {
    "duration": 19,
    "start_time": "2022-04-18T13:40:29.557Z"
   },
   {
    "duration": 70,
    "start_time": "2022-04-18T13:42:17.163Z"
   },
   {
    "duration": 7,
    "start_time": "2022-04-18T13:42:25.861Z"
   },
   {
    "duration": 2,
    "start_time": "2022-04-18T13:42:32.098Z"
   },
   {
    "duration": 4,
    "start_time": "2022-04-18T13:43:33.647Z"
   },
   {
    "duration": 3,
    "start_time": "2022-04-18T13:46:59.629Z"
   },
   {
    "duration": 1428751,
    "start_time": "2022-04-18T13:47:38.604Z"
   },
   {
    "duration": 3,
    "start_time": "2022-04-18T14:17:33.303Z"
   },
   {
    "duration": 18230,
    "start_time": "2022-04-18T14:17:42.583Z"
   },
   {
    "duration": 129,
    "start_time": "2022-04-18T14:18:07.183Z"
   },
   {
    "duration": 9,
    "start_time": "2022-04-18T14:18:31.341Z"
   },
   {
    "duration": 2,
    "start_time": "2022-04-18T14:19:42.194Z"
   },
   {
    "duration": 19866,
    "start_time": "2022-04-18T14:19:51.724Z"
   },
   {
    "duration": 150,
    "start_time": "2022-04-18T14:20:15.948Z"
   },
   {
    "duration": 1507768,
    "start_time": "2022-04-18T14:20:25.084Z"
   },
   {
    "duration": 3,
    "start_time": "2022-04-18T14:47:17.290Z"
   },
   {
    "duration": 4,
    "start_time": "2022-04-18T14:47:22.347Z"
   },
   {
    "duration": 19993,
    "start_time": "2022-04-18T14:47:26.363Z"
   },
   {
    "duration": 147,
    "start_time": "2022-04-18T14:47:49.675Z"
   },
   {
    "duration": 10,
    "start_time": "2022-04-18T14:47:55.025Z"
   },
   {
    "duration": 154,
    "start_time": "2022-04-18T14:47:57.363Z"
   },
   {
    "duration": 4,
    "start_time": "2022-04-18T14:48:03.737Z"
   },
   {
    "duration": 93,
    "start_time": "2022-04-18T14:48:05.499Z"
   },
   {
    "duration": 7,
    "start_time": "2022-04-18T14:48:06.170Z"
   },
   {
    "duration": 3,
    "start_time": "2022-04-18T14:48:34.081Z"
   },
   {
    "duration": 172685,
    "start_time": "2022-04-18T14:48:53.010Z"
   },
   {
    "duration": 3,
    "start_time": "2022-04-18T14:52:37.197Z"
   },
   {
    "duration": 1666398,
    "start_time": "2022-04-18T14:52:38.127Z"
   },
   {
    "duration": 4,
    "start_time": "2022-04-18T15:23:47.272Z"
   },
   {
    "duration": 21989,
    "start_time": "2022-04-18T15:24:14.769Z"
   },
   {
    "duration": 159,
    "start_time": "2022-04-18T15:24:43.240Z"
   },
   {
    "duration": 4,
    "start_time": "2022-04-18T15:25:06.039Z"
   },
   {
    "duration": 3,
    "start_time": "2022-04-18T15:25:09.359Z"
   },
   {
    "duration": 16,
    "start_time": "2022-04-18T15:25:10.143Z"
   },
   {
    "duration": 5,
    "start_time": "2022-04-18T15:26:51.037Z"
   },
   {
    "duration": 192,
    "start_time": "2022-04-18T15:32:25.252Z"
   },
   {
    "duration": 39,
    "start_time": "2022-04-18T15:32:28.287Z"
   },
   {
    "duration": 5,
    "start_time": "2022-04-18T15:33:09.829Z"
   },
   {
    "duration": 8,
    "start_time": "2022-04-18T15:33:50.630Z"
   },
   {
    "duration": 39,
    "start_time": "2022-04-18T15:34:08.949Z"
   },
   {
    "duration": 5,
    "start_time": "2022-04-18T15:34:32.236Z"
   },
   {
    "duration": 7,
    "start_time": "2022-04-18T15:40:26.253Z"
   },
   {
    "duration": 5,
    "start_time": "2022-04-18T15:40:36.556Z"
   },
   {
    "duration": 5,
    "start_time": "2022-04-18T15:40:51.555Z"
   },
   {
    "duration": 7162,
    "start_time": "2022-04-18T15:41:04.491Z"
   },
   {
    "duration": 865,
    "start_time": "2022-04-18T15:41:52.683Z"
   },
   {
    "duration": 8000,
    "start_time": "2022-04-18T15:47:08.851Z"
   },
   {
    "duration": 799,
    "start_time": "2022-04-18T15:47:19.467Z"
   },
   {
    "duration": 109,
    "start_time": "2022-04-18T15:49:49.888Z"
   },
   {
    "duration": 839020,
    "start_time": "2022-04-18T15:49:56.336Z"
   },
   {
    "duration": 4,
    "start_time": "2022-04-18T16:07:18.715Z"
   },
   {
    "duration": 6269,
    "start_time": "2022-04-18T16:07:45.786Z"
   },
   {
    "duration": 921,
    "start_time": "2022-04-18T16:08:20.945Z"
   },
   {
    "duration": 928,
    "start_time": "2022-04-18T16:14:01.833Z"
   },
   {
    "duration": 21729,
    "start_time": "2022-04-18T16:14:53.241Z"
   },
   {
    "duration": 85,
    "start_time": "2022-04-18T16:15:17.153Z"
   },
   {
    "duration": 21643,
    "start_time": "2022-04-18T16:16:13.240Z"
   },
   {
    "duration": 84,
    "start_time": "2022-04-18T16:16:38.832Z"
   },
   {
    "duration": 18,
    "start_time": "2022-04-18T16:17:03.775Z"
   },
   {
    "duration": 66,
    "start_time": "2022-04-18T16:17:06.967Z"
   },
   {
    "duration": 7,
    "start_time": "2022-04-18T16:17:07.486Z"
   },
   {
    "duration": 17,
    "start_time": "2022-04-18T16:17:18.846Z"
   },
   {
    "duration": 3,
    "start_time": "2022-04-18T16:17:35.822Z"
   },
   {
    "duration": 19541,
    "start_time": "2022-04-18T16:17:38.919Z"
   },
   {
    "duration": 142,
    "start_time": "2022-04-18T16:17:58.462Z"
   },
   {
    "duration": 10,
    "start_time": "2022-04-18T16:18:29.138Z"
   },
   {
    "duration": 157,
    "start_time": "2022-04-18T16:18:31.885Z"
   },
   {
    "duration": 4,
    "start_time": "2022-04-18T16:18:33.932Z"
   },
   {
    "duration": 94,
    "start_time": "2022-04-18T16:18:34.436Z"
   },
   {
    "duration": 8,
    "start_time": "2022-04-18T16:18:37.373Z"
   },
   {
    "duration": 3,
    "start_time": "2022-04-18T16:18:43.334Z"
   },
   {
    "duration": 5,
    "start_time": "2022-04-18T16:18:55.512Z"
   },
   {
    "duration": 96,
    "start_time": "2022-04-18T16:23:40.263Z"
   },
   {
    "duration": 5,
    "start_time": "2022-04-18T16:24:40.174Z"
   },
   {
    "duration": 4,
    "start_time": "2022-04-18T16:29:12.280Z"
   },
   {
    "duration": 785,
    "start_time": "2022-04-18T16:29:18.168Z"
   },
   {
    "duration": 444,
    "start_time": "2022-04-18T16:30:01.512Z"
   },
   {
    "duration": 8,
    "start_time": "2022-04-18T16:30:16.415Z"
   },
   {
    "duration": 161,
    "start_time": "2022-04-18T16:31:40.710Z"
   },
   {
    "duration": 33566,
    "start_time": "2022-04-18T16:31:47.691Z"
   },
   {
    "duration": 259,
    "start_time": "2022-04-18T16:32:24.788Z"
   },
   {
    "duration": 14990,
    "start_time": "2022-04-20T06:39:15.361Z"
   },
   {
    "duration": 10496,
    "start_time": "2022-04-20T06:39:30.355Z"
   },
   {
    "duration": 1498,
    "start_time": "2022-04-20T06:39:40.853Z"
   },
   {
    "duration": 1703,
    "start_time": "2022-04-20T06:39:42.353Z"
   },
   {
    "duration": 105,
    "start_time": "2022-04-20T06:39:44.251Z"
   },
   {
    "duration": 299,
    "start_time": "2022-04-20T06:39:44.358Z"
   },
   {
    "duration": 201,
    "start_time": "2022-04-20T06:39:44.659Z"
   },
   {
    "duration": 490,
    "start_time": "2022-04-20T06:39:44.863Z"
   },
   {
    "duration": 3197,
    "start_time": "2022-04-20T06:39:45.356Z"
   },
   {
    "duration": 1293,
    "start_time": "2022-04-20T06:39:48.560Z"
   },
   {
    "duration": 2205,
    "start_time": "2022-04-20T06:39:49.862Z"
   },
   {
    "duration": 1616,
    "start_time": "2022-04-20T06:39:52.153Z"
   },
   {
    "duration": 15,
    "start_time": "2022-04-20T06:39:53.855Z"
   },
   {
    "duration": 102,
    "start_time": "2022-04-20T06:39:53.956Z"
   },
   {
    "duration": 1101,
    "start_time": "2022-04-20T06:39:54.061Z"
   },
   {
    "duration": 1405,
    "start_time": "2022-04-20T06:39:55.253Z"
   },
   {
    "duration": 1995,
    "start_time": "2022-04-20T06:39:56.663Z"
   },
   {
    "duration": 4899,
    "start_time": "2022-04-20T06:39:58.661Z"
   },
   {
    "duration": 7694,
    "start_time": "2022-04-20T06:40:03.563Z"
   },
   {
    "duration": 202,
    "start_time": "2022-04-20T06:40:11.259Z"
   },
   {
    "duration": 1001,
    "start_time": "2022-04-20T06:40:11.555Z"
   },
   {
    "duration": 105,
    "start_time": "2022-04-20T06:40:12.652Z"
   },
   {
    "duration": 293,
    "start_time": "2022-04-20T06:40:12.761Z"
   },
   {
    "duration": 2982999,
    "start_time": "2022-04-20T06:40:13.056Z"
   },
   {
    "duration": 0,
    "start_time": "2022-04-20T07:29:56.061Z"
   },
   {
    "duration": 0,
    "start_time": "2022-04-20T07:29:56.062Z"
   },
   {
    "duration": 1,
    "start_time": "2022-04-20T07:29:56.063Z"
   },
   {
    "duration": 0,
    "start_time": "2022-04-20T07:29:56.064Z"
   },
   {
    "duration": 0,
    "start_time": "2022-04-20T07:29:56.065Z"
   },
   {
    "duration": 0,
    "start_time": "2022-04-20T07:29:56.066Z"
   },
   {
    "duration": 0,
    "start_time": "2022-04-20T07:29:56.067Z"
   },
   {
    "duration": 0,
    "start_time": "2022-04-20T07:29:56.069Z"
   },
   {
    "duration": 0,
    "start_time": "2022-04-20T07:29:56.070Z"
   },
   {
    "duration": 0,
    "start_time": "2022-04-20T07:29:56.152Z"
   },
   {
    "duration": 0,
    "start_time": "2022-04-20T07:29:56.159Z"
   },
   {
    "duration": 0,
    "start_time": "2022-04-20T07:29:56.161Z"
   },
   {
    "duration": 0,
    "start_time": "2022-04-20T07:29:56.163Z"
   },
   {
    "duration": 0,
    "start_time": "2022-04-20T07:29:56.164Z"
   },
   {
    "duration": 0,
    "start_time": "2022-04-20T07:29:56.165Z"
   },
   {
    "duration": 0,
    "start_time": "2022-04-20T07:29:56.166Z"
   },
   {
    "duration": 0,
    "start_time": "2022-04-20T07:29:56.167Z"
   },
   {
    "duration": 0,
    "start_time": "2022-04-20T07:29:56.168Z"
   },
   {
    "duration": 0,
    "start_time": "2022-04-20T07:29:56.351Z"
   },
   {
    "duration": 0,
    "start_time": "2022-04-20T07:29:56.361Z"
   },
   {
    "duration": 0,
    "start_time": "2022-04-20T07:29:56.362Z"
   },
   {
    "duration": 0,
    "start_time": "2022-04-20T07:29:56.364Z"
   },
   {
    "duration": 0,
    "start_time": "2022-04-20T07:29:56.366Z"
   },
   {
    "duration": 0,
    "start_time": "2022-04-20T07:29:56.457Z"
   },
   {
    "duration": 0,
    "start_time": "2022-04-20T07:29:56.459Z"
   },
   {
    "duration": 0,
    "start_time": "2022-04-20T07:29:56.460Z"
   },
   {
    "duration": 0,
    "start_time": "2022-04-20T07:29:56.462Z"
   },
   {
    "duration": 0,
    "start_time": "2022-04-20T07:29:56.463Z"
   },
   {
    "duration": 0,
    "start_time": "2022-04-20T07:29:56.562Z"
   },
   {
    "duration": 436402,
    "start_time": "2022-04-20T07:30:15.052Z"
   },
   {
    "duration": 2495,
    "start_time": "2022-04-20T07:37:31.457Z"
   },
   {
    "duration": 2209,
    "start_time": "2022-04-20T07:37:33.954Z"
   },
   {
    "duration": 183,
    "start_time": "2022-04-20T07:37:36.168Z"
   },
   {
    "duration": 1412,
    "start_time": "2022-04-20T07:37:36.354Z"
   },
   {
    "duration": 100,
    "start_time": "2022-04-20T07:37:37.855Z"
   },
   {
    "duration": 192,
    "start_time": "2022-04-20T07:37:37.960Z"
   },
   {
    "duration": 2008,
    "start_time": "2022-04-20T13:59:07.588Z"
   },
   {
    "duration": 807,
    "start_time": "2022-04-20T13:59:09.599Z"
   },
   {
    "duration": 137,
    "start_time": "2022-04-20T13:59:12.705Z"
   },
   {
    "duration": 127,
    "start_time": "2022-04-20T13:59:14.050Z"
   },
   {
    "duration": 5,
    "start_time": "2022-04-20T13:59:15.042Z"
   },
   {
    "duration": 6,
    "start_time": "2022-04-20T13:59:16.113Z"
   },
   {
    "duration": 5,
    "start_time": "2022-04-20T13:59:21.305Z"
   },
   {
    "duration": 3,
    "start_time": "2022-04-20T13:59:41.840Z"
   },
   {
    "duration": 231,
    "start_time": "2022-04-20T13:59:42.259Z"
   },
   {
    "duration": 101,
    "start_time": "2022-04-20T13:59:45.648Z"
   },
   {
    "duration": 139,
    "start_time": "2022-04-20T14:01:49.446Z"
   },
   {
    "duration": 118,
    "start_time": "2022-04-20T14:01:50.319Z"
   },
   {
    "duration": 11,
    "start_time": "2022-04-20T14:01:53.702Z"
   },
   {
    "duration": 3,
    "start_time": "2022-04-20T14:01:58.494Z"
   },
   {
    "duration": 95,
    "start_time": "2022-04-20T14:02:00.846Z"
   },
   {
    "duration": 119,
    "start_time": "2022-04-20T14:02:02.591Z"
   },
   {
    "duration": 176,
    "start_time": "2022-04-20T14:02:09.117Z"
   },
   {
    "duration": 145,
    "start_time": "2022-04-20T14:02:50.908Z"
   },
   {
    "duration": 299,
    "start_time": "2022-04-20T14:02:56.226Z"
   },
   {
    "duration": 238,
    "start_time": "2022-04-20T14:03:26.173Z"
   },
   {
    "duration": 232,
    "start_time": "2022-04-20T14:03:32.420Z"
   },
   {
    "duration": 25,
    "start_time": "2022-04-20T14:04:48.379Z"
   },
   {
    "duration": 27,
    "start_time": "2022-04-20T14:05:18.777Z"
   },
   {
    "duration": 65,
    "start_time": "2022-04-20T14:07:19.032Z"
   },
   {
    "duration": 17,
    "start_time": "2022-04-20T14:07:49.440Z"
   },
   {
    "duration": 16,
    "start_time": "2022-04-20T14:08:18.719Z"
   },
   {
    "duration": 13,
    "start_time": "2022-04-20T14:10:12.823Z"
   },
   {
    "duration": 4,
    "start_time": "2022-04-20T14:11:23.715Z"
   },
   {
    "duration": 49,
    "start_time": "2022-04-20T14:11:44.763Z"
   },
   {
    "duration": 229,
    "start_time": "2022-04-20T14:12:16.946Z"
   },
   {
    "duration": 138,
    "start_time": "2022-04-20T14:12:20.060Z"
   },
   {
    "duration": 131,
    "start_time": "2022-04-20T14:12:28.650Z"
   },
   {
    "duration": 145,
    "start_time": "2022-04-20T14:13:05.401Z"
   },
   {
    "duration": 369,
    "start_time": "2022-04-20T14:13:11.186Z"
   },
   {
    "duration": 142,
    "start_time": "2022-04-20T14:13:15.065Z"
   },
   {
    "duration": 236,
    "start_time": "2022-04-20T14:13:34.402Z"
   },
   {
    "duration": 128,
    "start_time": "2022-04-20T14:13:57.536Z"
   },
   {
    "duration": 135,
    "start_time": "2022-04-20T14:14:06.090Z"
   },
   {
    "duration": 151,
    "start_time": "2022-04-20T14:14:36.160Z"
   },
   {
    "duration": 146,
    "start_time": "2022-04-20T14:14:43.343Z"
   },
   {
    "duration": 31,
    "start_time": "2022-04-20T14:15:01.911Z"
   },
   {
    "duration": 22,
    "start_time": "2022-04-20T14:16:25.460Z"
   },
   {
    "duration": 15,
    "start_time": "2022-04-20T14:17:08.919Z"
   },
   {
    "duration": 18,
    "start_time": "2022-04-20T14:19:23.489Z"
   },
   {
    "duration": 6,
    "start_time": "2022-04-20T14:19:34.241Z"
   },
   {
    "duration": 229,
    "start_time": "2022-04-20T14:25:05.028Z"
   },
   {
    "duration": 3,
    "start_time": "2022-04-20T14:25:26.266Z"
   },
   {
    "duration": 44,
    "start_time": "2022-04-20T14:25:33.217Z"
   },
   {
    "duration": 345,
    "start_time": "2022-04-20T14:25:43.713Z"
   },
   {
    "duration": 468,
    "start_time": "2022-04-20T14:25:47.746Z"
   },
   {
    "duration": 15,
    "start_time": "2022-04-20T14:27:35.400Z"
   },
   {
    "duration": 56,
    "start_time": "2022-04-20T14:30:50.308Z"
   },
   {
    "duration": 46,
    "start_time": "2022-04-20T14:30:50.996Z"
   },
   {
    "duration": 11,
    "start_time": "2022-04-20T14:30:51.629Z"
   },
   {
    "duration": 3,
    "start_time": "2022-04-20T14:30:59.452Z"
   },
   {
    "duration": 1273308,
    "start_time": "2022-04-20T14:31:29.340Z"
   },
   {
    "duration": 3,
    "start_time": "2022-04-20T14:53:38.184Z"
   },
   {
    "duration": 15584,
    "start_time": "2022-04-20T14:53:50.183Z"
   },
   {
    "duration": 110,
    "start_time": "2022-04-20T14:54:11.079Z"
   },
   {
    "duration": 10,
    "start_time": "2022-04-20T14:54:57.366Z"
   },
   {
    "duration": 171,
    "start_time": "2022-04-20T14:58:03.105Z"
   },
   {
    "duration": 3,
    "start_time": "2022-04-20T15:00:01.136Z"
   },
   {
    "duration": 102,
    "start_time": "2022-04-20T15:00:02.816Z"
   },
   {
    "duration": 60,
    "start_time": "2022-04-20T15:00:03.424Z"
   },
   {
    "duration": 14,
    "start_time": "2022-04-20T15:00:04.288Z"
   },
   {
    "duration": 2,
    "start_time": "2022-04-20T15:00:09.112Z"
   },
   {
    "duration": 1352380,
    "start_time": "2022-04-20T15:00:16.576Z"
   },
   {
    "duration": 4,
    "start_time": "2022-04-20T15:24:57.378Z"
   },
   {
    "duration": 17719,
    "start_time": "2022-04-20T15:25:01.994Z"
   },
   {
    "duration": 120,
    "start_time": "2022-04-20T15:26:24.112Z"
   },
   {
    "duration": 5,
    "start_time": "2022-04-20T15:27:22.782Z"
   },
   {
    "duration": 2,
    "start_time": "2022-04-20T15:27:24.199Z"
   },
   {
    "duration": 129,
    "start_time": "2022-04-20T15:27:36.254Z"
   },
   {
    "duration": 5,
    "start_time": "2022-04-20T15:27:37.143Z"
   },
   {
    "duration": 594973,
    "start_time": "2022-04-20T15:27:42.150Z"
   },
   {
    "duration": 4,
    "start_time": "2022-04-20T15:45:10.752Z"
   },
   {
    "duration": 6152,
    "start_time": "2022-04-20T15:45:20.576Z"
   },
   {
    "duration": 18,
    "start_time": "2022-04-20T15:45:28.656Z"
   },
   {
    "duration": 46,
    "start_time": "2022-04-20T15:48:21.350Z"
   },
   {
    "duration": 695,
    "start_time": "2022-04-20T15:48:26.838Z"
   },
   {
    "duration": 6,
    "start_time": "2022-04-20T15:49:19.339Z"
   },
   {
    "duration": 4,
    "start_time": "2022-04-20T15:49:20.988Z"
   },
   {
    "duration": 670,
    "start_time": "2022-04-20T15:49:32.475Z"
   },
   {
    "duration": 339,
    "start_time": "2022-04-20T16:27:31.324Z"
   },
   {
    "duration": 205,
    "start_time": "2022-04-20T16:27:34.580Z"
   },
   {
    "duration": 10,
    "start_time": "2022-04-20T16:27:36.084Z"
   },
   {
    "duration": 165,
    "start_time": "2022-04-20T16:27:39.300Z"
   },
   {
    "duration": 19067,
    "start_time": "2022-04-20T16:27:51.259Z"
   },
   {
    "duration": 96,
    "start_time": "2022-04-20T16:28:13.133Z"
   },
   {
    "duration": 2357,
    "start_time": "2022-04-21T10:27:02.884Z"
   },
   {
    "duration": 1143,
    "start_time": "2022-04-21T10:27:05.244Z"
   },
   {
    "duration": 166,
    "start_time": "2022-04-21T10:27:16.826Z"
   },
   {
    "duration": 151,
    "start_time": "2022-04-21T10:27:18.084Z"
   },
   {
    "duration": 6,
    "start_time": "2022-04-21T10:27:18.767Z"
   },
   {
    "duration": 7,
    "start_time": "2022-04-21T10:27:19.257Z"
   },
   {
    "duration": 7,
    "start_time": "2022-04-21T10:27:19.782Z"
   },
   {
    "duration": 4,
    "start_time": "2022-04-21T10:27:22.179Z"
   },
   {
    "duration": 274,
    "start_time": "2022-04-21T10:27:22.771Z"
   },
   {
    "duration": 118,
    "start_time": "2022-04-21T10:27:24.431Z"
   },
   {
    "duration": 251,
    "start_time": "2022-04-21T10:27:26.955Z"
   },
   {
    "duration": 213,
    "start_time": "2022-04-21T10:27:27.433Z"
   },
   {
    "duration": 13,
    "start_time": "2022-04-21T10:27:28.352Z"
   },
   {
    "duration": 6,
    "start_time": "2022-04-21T10:27:28.831Z"
   },
   {
    "duration": 171,
    "start_time": "2022-04-21T10:27:29.660Z"
   },
   {
    "duration": 210,
    "start_time": "2022-04-21T10:27:30.085Z"
   },
   {
    "duration": 235,
    "start_time": "2022-04-21T10:27:31.454Z"
   },
   {
    "duration": 528,
    "start_time": "2022-04-21T10:27:32.406Z"
   },
   {
    "duration": 37,
    "start_time": "2022-04-21T10:27:33.415Z"
   },
   {
    "duration": 19,
    "start_time": "2022-04-21T10:27:34.085Z"
   },
   {
    "duration": 24,
    "start_time": "2022-04-21T10:27:34.562Z"
   },
   {
    "duration": 24,
    "start_time": "2022-04-21T10:27:35.058Z"
   },
   {
    "duration": 5,
    "start_time": "2022-04-21T10:27:35.965Z"
   },
   {
    "duration": 86,
    "start_time": "2022-04-21T10:27:36.426Z"
   },
   {
    "duration": 414,
    "start_time": "2022-04-21T10:27:38.984Z"
   },
   {
    "duration": 34,
    "start_time": "2022-04-21T10:27:39.477Z"
   },
   {
    "duration": 23,
    "start_time": "2022-04-21T10:27:39.941Z"
   },
   {
    "duration": 24,
    "start_time": "2022-04-21T10:27:40.574Z"
   },
   {
    "duration": 9,
    "start_time": "2022-04-21T10:27:41.167Z"
   },
   {
    "duration": 5,
    "start_time": "2022-04-21T10:27:42.070Z"
   },
   {
    "duration": 73,
    "start_time": "2022-04-21T10:27:42.478Z"
   },
   {
    "duration": 590,
    "start_time": "2022-04-21T10:27:43.306Z"
   },
   {
    "duration": 812,
    "start_time": "2022-04-21T10:27:43.898Z"
   },
   {
    "duration": 26,
    "start_time": "2022-04-21T10:27:47.972Z"
   },
   {
    "duration": 17,
    "start_time": "2022-04-21T10:28:05.630Z"
   },
   {
    "duration": 272,
    "start_time": "2022-04-21T10:28:07.447Z"
   },
   {
    "duration": 4,
    "start_time": "2022-04-21T10:28:09.832Z"
   },
   {
    "duration": 185,
    "start_time": "2022-04-21T10:28:10.815Z"
   },
   {
    "duration": 127,
    "start_time": "2022-04-21T10:28:12.073Z"
   },
   {
    "duration": 24,
    "start_time": "2022-04-21T10:28:13.098Z"
   },
   {
    "duration": 8,
    "start_time": "2022-04-21T10:28:26.564Z"
   },
   {
    "duration": 41,
    "start_time": "2022-04-21T10:30:52.308Z"
   },
   {
    "duration": 269,
    "start_time": "2022-04-21T10:30:53.858Z"
   },
   {
    "duration": 202,
    "start_time": "2022-04-21T10:31:02.602Z"
   },
   {
    "duration": 137,
    "start_time": "2022-04-21T10:31:04.006Z"
   },
   {
    "duration": 24,
    "start_time": "2022-04-21T10:31:05.618Z"
   },
   {
    "duration": 294,
    "start_time": "2022-04-21T10:32:53.199Z"
   },
   {
    "duration": 7,
    "start_time": "2022-04-21T10:32:56.872Z"
   },
   {
    "duration": 36899,
    "start_time": "2022-04-21T10:33:15.437Z"
   },
   {
    "duration": 1247,
    "start_time": "2022-04-21T10:34:25.402Z"
   },
   {
    "duration": 93,
    "start_time": "2022-04-21T11:16:25.332Z"
   },
   {
    "duration": 101,
    "start_time": "2022-04-21T11:16:44.779Z"
   },
   {
    "duration": 143,
    "start_time": "2022-04-21T11:17:18.450Z"
   },
   {
    "duration": 92,
    "start_time": "2022-04-21T11:18:08.169Z"
   },
   {
    "duration": 130,
    "start_time": "2022-04-21T11:18:28.723Z"
   }
  ],
  "kernelspec": {
   "display_name": "Python 3 (ipykernel)",
   "language": "python",
   "name": "python3"
  },
  "language_info": {
   "codemirror_mode": {
    "name": "ipython",
    "version": 3
   },
   "file_extension": ".py",
   "mimetype": "text/x-python",
   "name": "python",
   "nbconvert_exporter": "python",
   "pygments_lexer": "ipython3",
   "version": "3.9.7"
  },
  "toc": {
   "base_numbering": 1,
   "nav_menu": {},
   "number_sections": true,
   "sideBar": true,
   "skip_h1_title": true,
   "title_cell": "Table of Contents",
   "title_sidebar": "Contents",
   "toc_cell": false,
   "toc_position": {},
   "toc_section_display": true,
   "toc_window_display": false
  }
 },
 "nbformat": 4,
 "nbformat_minor": 2
}
