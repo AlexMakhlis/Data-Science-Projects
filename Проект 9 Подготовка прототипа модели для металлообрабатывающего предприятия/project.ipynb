{
 "cells": [
  {
   "cell_type": "markdown",
   "metadata": {
    "toc": true
   },
   "source": [
    "<h1>Содержание<span class=\"tocSkip\"></span></h1>\n",
    "<div class=\"toc\"><ul class=\"toc-item\"><li><span><a href=\"#Подготовка-данных\" data-toc-modified-id=\"Подготовка-данных-1\"><span class=\"toc-item-num\">1&nbsp;&nbsp;</span>Подготовка данных</a></span><ul class=\"toc-item\"><li><span><a href=\"#Проверка-эффективности-обогащения\" data-toc-modified-id=\"Проверка-эффективности-обогащения-1.1\"><span class=\"toc-item-num\">1.1&nbsp;&nbsp;</span>Проверка эффективности обогащения</a></span></li><li><span><a href=\"#Проанализируем-признаки,-недоступные-в-тестовой-выборке:\" data-toc-modified-id=\"Проанализируем-признаки,-недоступные-в-тестовой-выборке:-1.2\"><span class=\"toc-item-num\">1.2&nbsp;&nbsp;</span>Проанализируем признаки, недоступные в тестовой выборке:</a></span></li><li><span><a href=\"#Проведем-предобработку-данных\" data-toc-modified-id=\"Проведем-предобработку-данных-1.3\"><span class=\"toc-item-num\">1.3&nbsp;&nbsp;</span>Проведем предобработку данных</a></span></li></ul></li><li><span><a href=\"#Анализ-данных\" data-toc-modified-id=\"Анализ-данных-2\"><span class=\"toc-item-num\">2&nbsp;&nbsp;</span>Анализ данных</a></span><ul class=\"toc-item\"><li><span><a href=\"#Посмотрим,-как-меняется-концентрация-металлов-(Au,-Ag,-Pb)-на-различных-этапах-очистки\" data-toc-modified-id=\"Посмотрим,-как-меняется-концентрация-металлов-(Au,-Ag,-Pb)-на-различных-этапах-очистки-2.1\"><span class=\"toc-item-num\">2.1&nbsp;&nbsp;</span>Посмотрим, как меняется концентрация металлов (Au, Ag, Pb) на различных этапах очистки</a></span></li><li><span><a href=\"#Сравним-распределения-размеров-гранул-сырья-на-обучающей-и-тестовой-выборках\" data-toc-modified-id=\"Сравним-распределения-размеров-гранул-сырья-на-обучающей-и-тестовой-выборках-2.2\"><span class=\"toc-item-num\">2.2&nbsp;&nbsp;</span>Сравним распределения размеров гранул сырья на обучающей и тестовой выборках</a></span></li><li><span><a href=\"#Исследуем-суммарную-концентрацию-всех-веществ-на-разных-стадиях:-в-сырье,-в-черновом-и-финальном-концентратах.\" data-toc-modified-id=\"Исследуем-суммарную-концентрацию-всех-веществ-на-разных-стадиях:-в-сырье,-в-черновом-и-финальном-концентратах.-2.3\"><span class=\"toc-item-num\">2.3&nbsp;&nbsp;</span>Исследуем суммарную концентрацию всех веществ на разных стадиях: в сырье, в черновом и финальном концентратах.</a></span></li></ul></li><li><span><a href=\"#Модель\" data-toc-modified-id=\"Модель-3\"><span class=\"toc-item-num\">3&nbsp;&nbsp;</span>Модель</a></span><ul class=\"toc-item\"><li><span><a href=\"#Напишем-функцию-для-вычисления-итоговой-sMAPE\" data-toc-modified-id=\"Напишем-функцию-для-вычисления-итоговой-sMAPE-3.1\"><span class=\"toc-item-num\">3.1&nbsp;&nbsp;</span>Напишем функцию для вычисления итоговой sMAPE</a></span></li><li><span><a href=\"#Обучим-разные-модели-и-оценим-их-качество-кросс-валидацией\" data-toc-modified-id=\"Обучим-разные-модели-и-оценим-их-качество-кросс-валидацией-3.2\"><span class=\"toc-item-num\">3.2&nbsp;&nbsp;</span>Обучим разные модели и оценим их качество кросс-валидацией</a></span></li><li><span><a href=\"#Предсказания-на-тестовой\" data-toc-modified-id=\"Предсказания-на-тестовой-3.3\"><span class=\"toc-item-num\">3.3&nbsp;&nbsp;</span>Предсказания на тестовой</a></span></li></ul></li><li><span><a href=\"#Чек-лист-готовности-проекта\" data-toc-modified-id=\"Чек-лист-готовности-проекта-4\"><span class=\"toc-item-num\">4&nbsp;&nbsp;</span>Чек-лист готовности проекта</a></span></li></ul></div>"
   ]
  },
  {
   "cell_type": "markdown",
   "metadata": {},
   "source": [
    "# Восстановление золота из руды"
   ]
  },
  {
   "cell_type": "markdown",
   "metadata": {},
   "source": [
    "Подготовьте прототип модели машинного обучения для «Цифры». Компания разрабатывает решения для эффективной работы промышленных предприятий.\n",
    "\n",
    "Модель должна предсказать коэффициент восстановления золота из золотосодержащей руды. Используйте данные с параметрами добычи и очистки. \n",
    "\n",
    "Модель поможет оптимизировать производство, чтобы не запускать предприятие с убыточными характеристиками.\n",
    "\n",
    "Вам нужно:\n",
    "\n",
    "1. Подготовить данные;\n",
    "2. Провести исследовательский анализ данных;\n",
    "3. Построить и обучить модель.\n",
    "\n",
    "Чтобы выполнить проект, обращайтесь к библиотекам *pandas*, *matplotlib* и *sklearn.* Вам поможет их документация."
   ]
  },
  {
   "cell_type": "markdown",
   "metadata": {},
   "source": [
    "## Подготовка данных"
   ]
  },
  {
   "cell_type": "code",
   "execution_count": 59,
   "metadata": {},
   "outputs": [],
   "source": [
    "import pandas as pd\n",
    "import numpy as np\n",
    "from sklearn.model_selection import train_test_split, cross_val_score, GridSearchCV\n",
    "from sklearn.linear_model import LinearRegression\n",
    "from sklearn.tree import DecisionTreeRegressor\n",
    "from sklearn.ensemble import RandomForestRegressor\n",
    "from sklearn.metrics import mean_absolute_error, make_scorer\n",
    "import matplotlib.pyplot as plt\n",
    "from sklearn.preprocessing import StandardScaler\n",
    "from sklearn.utils import shuffle\n",
    "from sklearn.dummy import DummyRegressor"
   ]
  },
  {
   "cell_type": "code",
   "execution_count": 2,
   "metadata": {},
   "outputs": [],
   "source": [
    "import warnings\n",
    "warnings.simplefilter('ignore')"
   ]
  },
  {
   "cell_type": "code",
   "execution_count": 3,
   "metadata": {},
   "outputs": [
    {
     "name": "stdout",
     "output_type": "stream",
     "text": [
      "(14149, 86)\n",
      "(5290, 52)\n",
      "(19439, 86)\n"
     ]
    }
   ],
   "source": [
    "data_train = pd.read_csv('/datasets/gold_recovery_train_new.csv', index_col='date')\n",
    "data_test = pd.read_csv('/datasets/gold_recovery_test_new.csv', index_col='date')\n",
    "data_full = pd.read_csv('/datasets/gold_recovery_full_new.csv', index_col='date')\n",
    "print(data_train.shape)\n",
    "print(data_test.shape)\n",
    "print(data_full.shape)"
   ]
  },
  {
   "cell_type": "markdown",
   "metadata": {},
   "source": [
    "<div class=\"alert alert-info\" role=\"alert\">\n",
    "  Взглянем на датасет data_train:\n",
    "</div>"
   ]
  },
  {
   "cell_type": "code",
   "execution_count": 4,
   "metadata": {},
   "outputs": [
    {
     "data": {
      "text/html": [
       "<div>\n",
       "<style scoped>\n",
       "    .dataframe tbody tr th:only-of-type {\n",
       "        vertical-align: middle;\n",
       "    }\n",
       "\n",
       "    .dataframe tbody tr th {\n",
       "        vertical-align: top;\n",
       "    }\n",
       "\n",
       "    .dataframe thead th {\n",
       "        text-align: right;\n",
       "    }\n",
       "</style>\n",
       "<table border=\"1\" class=\"dataframe\">\n",
       "  <thead>\n",
       "    <tr style=\"text-align: right;\">\n",
       "      <th></th>\n",
       "      <th>final.output.concentrate_ag</th>\n",
       "      <th>final.output.concentrate_pb</th>\n",
       "      <th>final.output.concentrate_sol</th>\n",
       "      <th>final.output.concentrate_au</th>\n",
       "      <th>final.output.recovery</th>\n",
       "      <th>final.output.tail_ag</th>\n",
       "      <th>final.output.tail_pb</th>\n",
       "      <th>final.output.tail_sol</th>\n",
       "      <th>final.output.tail_au</th>\n",
       "      <th>primary_cleaner.input.sulfate</th>\n",
       "      <th>...</th>\n",
       "      <th>secondary_cleaner.state.floatbank4_a_air</th>\n",
       "      <th>secondary_cleaner.state.floatbank4_a_level</th>\n",
       "      <th>secondary_cleaner.state.floatbank4_b_air</th>\n",
       "      <th>secondary_cleaner.state.floatbank4_b_level</th>\n",
       "      <th>secondary_cleaner.state.floatbank5_a_air</th>\n",
       "      <th>secondary_cleaner.state.floatbank5_a_level</th>\n",
       "      <th>secondary_cleaner.state.floatbank5_b_air</th>\n",
       "      <th>secondary_cleaner.state.floatbank5_b_level</th>\n",
       "      <th>secondary_cleaner.state.floatbank6_a_air</th>\n",
       "      <th>secondary_cleaner.state.floatbank6_a_level</th>\n",
       "    </tr>\n",
       "    <tr>\n",
       "      <th>date</th>\n",
       "      <th></th>\n",
       "      <th></th>\n",
       "      <th></th>\n",
       "      <th></th>\n",
       "      <th></th>\n",
       "      <th></th>\n",
       "      <th></th>\n",
       "      <th></th>\n",
       "      <th></th>\n",
       "      <th></th>\n",
       "      <th></th>\n",
       "      <th></th>\n",
       "      <th></th>\n",
       "      <th></th>\n",
       "      <th></th>\n",
       "      <th></th>\n",
       "      <th></th>\n",
       "      <th></th>\n",
       "      <th></th>\n",
       "      <th></th>\n",
       "      <th></th>\n",
       "    </tr>\n",
       "  </thead>\n",
       "  <tbody>\n",
       "    <tr>\n",
       "      <td>2016-01-15 00:00:00</td>\n",
       "      <td>6.055403</td>\n",
       "      <td>9.889648</td>\n",
       "      <td>5.507324</td>\n",
       "      <td>42.192020</td>\n",
       "      <td>70.541216</td>\n",
       "      <td>10.411962</td>\n",
       "      <td>0.895447</td>\n",
       "      <td>16.904297</td>\n",
       "      <td>2.143149</td>\n",
       "      <td>127.092003</td>\n",
       "      <td>...</td>\n",
       "      <td>14.016835</td>\n",
       "      <td>-502.488007</td>\n",
       "      <td>12.099931</td>\n",
       "      <td>-504.715942</td>\n",
       "      <td>9.925633</td>\n",
       "      <td>-498.310211</td>\n",
       "      <td>8.079666</td>\n",
       "      <td>-500.470978</td>\n",
       "      <td>14.151341</td>\n",
       "      <td>-605.841980</td>\n",
       "    </tr>\n",
       "    <tr>\n",
       "      <td>2016-01-15 01:00:00</td>\n",
       "      <td>6.029369</td>\n",
       "      <td>9.968944</td>\n",
       "      <td>5.257781</td>\n",
       "      <td>42.701629</td>\n",
       "      <td>69.266198</td>\n",
       "      <td>10.462676</td>\n",
       "      <td>0.927452</td>\n",
       "      <td>16.634514</td>\n",
       "      <td>2.224930</td>\n",
       "      <td>125.629232</td>\n",
       "      <td>...</td>\n",
       "      <td>13.992281</td>\n",
       "      <td>-505.503262</td>\n",
       "      <td>11.950531</td>\n",
       "      <td>-501.331529</td>\n",
       "      <td>10.039245</td>\n",
       "      <td>-500.169983</td>\n",
       "      <td>7.984757</td>\n",
       "      <td>-500.582168</td>\n",
       "      <td>13.998353</td>\n",
       "      <td>-599.787184</td>\n",
       "    </tr>\n",
       "    <tr>\n",
       "      <td>2016-01-15 02:00:00</td>\n",
       "      <td>6.055926</td>\n",
       "      <td>10.213995</td>\n",
       "      <td>5.383759</td>\n",
       "      <td>42.657501</td>\n",
       "      <td>68.116445</td>\n",
       "      <td>10.507046</td>\n",
       "      <td>0.953716</td>\n",
       "      <td>16.208849</td>\n",
       "      <td>2.257889</td>\n",
       "      <td>123.819808</td>\n",
       "      <td>...</td>\n",
       "      <td>14.015015</td>\n",
       "      <td>-502.520901</td>\n",
       "      <td>11.912783</td>\n",
       "      <td>-501.133383</td>\n",
       "      <td>10.070913</td>\n",
       "      <td>-500.129135</td>\n",
       "      <td>8.013877</td>\n",
       "      <td>-500.517572</td>\n",
       "      <td>14.028663</td>\n",
       "      <td>-601.427363</td>\n",
       "    </tr>\n",
       "  </tbody>\n",
       "</table>\n",
       "<p>3 rows × 86 columns</p>\n",
       "</div>"
      ],
      "text/plain": [
       "                     final.output.concentrate_ag  final.output.concentrate_pb  \\\n",
       "date                                                                            \n",
       "2016-01-15 00:00:00                     6.055403                     9.889648   \n",
       "2016-01-15 01:00:00                     6.029369                     9.968944   \n",
       "2016-01-15 02:00:00                     6.055926                    10.213995   \n",
       "\n",
       "                     final.output.concentrate_sol  \\\n",
       "date                                                \n",
       "2016-01-15 00:00:00                      5.507324   \n",
       "2016-01-15 01:00:00                      5.257781   \n",
       "2016-01-15 02:00:00                      5.383759   \n",
       "\n",
       "                     final.output.concentrate_au  final.output.recovery  \\\n",
       "date                                                                      \n",
       "2016-01-15 00:00:00                    42.192020              70.541216   \n",
       "2016-01-15 01:00:00                    42.701629              69.266198   \n",
       "2016-01-15 02:00:00                    42.657501              68.116445   \n",
       "\n",
       "                     final.output.tail_ag  final.output.tail_pb  \\\n",
       "date                                                              \n",
       "2016-01-15 00:00:00             10.411962              0.895447   \n",
       "2016-01-15 01:00:00             10.462676              0.927452   \n",
       "2016-01-15 02:00:00             10.507046              0.953716   \n",
       "\n",
       "                     final.output.tail_sol  final.output.tail_au  \\\n",
       "date                                                               \n",
       "2016-01-15 00:00:00              16.904297              2.143149   \n",
       "2016-01-15 01:00:00              16.634514              2.224930   \n",
       "2016-01-15 02:00:00              16.208849              2.257889   \n",
       "\n",
       "                     primary_cleaner.input.sulfate  ...  \\\n",
       "date                                                ...   \n",
       "2016-01-15 00:00:00                     127.092003  ...   \n",
       "2016-01-15 01:00:00                     125.629232  ...   \n",
       "2016-01-15 02:00:00                     123.819808  ...   \n",
       "\n",
       "                     secondary_cleaner.state.floatbank4_a_air  \\\n",
       "date                                                            \n",
       "2016-01-15 00:00:00                                 14.016835   \n",
       "2016-01-15 01:00:00                                 13.992281   \n",
       "2016-01-15 02:00:00                                 14.015015   \n",
       "\n",
       "                     secondary_cleaner.state.floatbank4_a_level  \\\n",
       "date                                                              \n",
       "2016-01-15 00:00:00                                 -502.488007   \n",
       "2016-01-15 01:00:00                                 -505.503262   \n",
       "2016-01-15 02:00:00                                 -502.520901   \n",
       "\n",
       "                     secondary_cleaner.state.floatbank4_b_air  \\\n",
       "date                                                            \n",
       "2016-01-15 00:00:00                                 12.099931   \n",
       "2016-01-15 01:00:00                                 11.950531   \n",
       "2016-01-15 02:00:00                                 11.912783   \n",
       "\n",
       "                     secondary_cleaner.state.floatbank4_b_level  \\\n",
       "date                                                              \n",
       "2016-01-15 00:00:00                                 -504.715942   \n",
       "2016-01-15 01:00:00                                 -501.331529   \n",
       "2016-01-15 02:00:00                                 -501.133383   \n",
       "\n",
       "                     secondary_cleaner.state.floatbank5_a_air  \\\n",
       "date                                                            \n",
       "2016-01-15 00:00:00                                  9.925633   \n",
       "2016-01-15 01:00:00                                 10.039245   \n",
       "2016-01-15 02:00:00                                 10.070913   \n",
       "\n",
       "                     secondary_cleaner.state.floatbank5_a_level  \\\n",
       "date                                                              \n",
       "2016-01-15 00:00:00                                 -498.310211   \n",
       "2016-01-15 01:00:00                                 -500.169983   \n",
       "2016-01-15 02:00:00                                 -500.129135   \n",
       "\n",
       "                     secondary_cleaner.state.floatbank5_b_air  \\\n",
       "date                                                            \n",
       "2016-01-15 00:00:00                                  8.079666   \n",
       "2016-01-15 01:00:00                                  7.984757   \n",
       "2016-01-15 02:00:00                                  8.013877   \n",
       "\n",
       "                     secondary_cleaner.state.floatbank5_b_level  \\\n",
       "date                                                              \n",
       "2016-01-15 00:00:00                                 -500.470978   \n",
       "2016-01-15 01:00:00                                 -500.582168   \n",
       "2016-01-15 02:00:00                                 -500.517572   \n",
       "\n",
       "                     secondary_cleaner.state.floatbank6_a_air  \\\n",
       "date                                                            \n",
       "2016-01-15 00:00:00                                 14.151341   \n",
       "2016-01-15 01:00:00                                 13.998353   \n",
       "2016-01-15 02:00:00                                 14.028663   \n",
       "\n",
       "                     secondary_cleaner.state.floatbank6_a_level  \n",
       "date                                                             \n",
       "2016-01-15 00:00:00                                 -605.841980  \n",
       "2016-01-15 01:00:00                                 -599.787184  \n",
       "2016-01-15 02:00:00                                 -601.427363  \n",
       "\n",
       "[3 rows x 86 columns]"
      ]
     },
     "execution_count": 4,
     "metadata": {},
     "output_type": "execute_result"
    }
   ],
   "source": [
    "data_train.head(3)"
   ]
  },
  {
   "cell_type": "code",
   "execution_count": 5,
   "metadata": {
    "scrolled": true
   },
   "outputs": [
    {
     "name": "stdout",
     "output_type": "stream",
     "text": [
      "<class 'pandas.core.frame.DataFrame'>\n",
      "Index: 14149 entries, 2016-01-15 00:00:00 to 2018-08-18 10:59:59\n",
      "Data columns (total 86 columns):\n",
      "final.output.concentrate_ag                           14148 non-null float64\n",
      "final.output.concentrate_pb                           14148 non-null float64\n",
      "final.output.concentrate_sol                          13938 non-null float64\n",
      "final.output.concentrate_au                           14149 non-null float64\n",
      "final.output.recovery                                 14149 non-null float64\n",
      "final.output.tail_ag                                  14149 non-null float64\n",
      "final.output.tail_pb                                  14049 non-null float64\n",
      "final.output.tail_sol                                 14144 non-null float64\n",
      "final.output.tail_au                                  14149 non-null float64\n",
      "primary_cleaner.input.sulfate                         14129 non-null float64\n",
      "primary_cleaner.input.depressant                      14117 non-null float64\n",
      "primary_cleaner.input.feed_size                       14149 non-null float64\n",
      "primary_cleaner.input.xanthate                        14049 non-null float64\n",
      "primary_cleaner.output.concentrate_ag                 14149 non-null float64\n",
      "primary_cleaner.output.concentrate_pb                 14063 non-null float64\n",
      "primary_cleaner.output.concentrate_sol                13863 non-null float64\n",
      "primary_cleaner.output.concentrate_au                 14149 non-null float64\n",
      "primary_cleaner.output.tail_ag                        14148 non-null float64\n",
      "primary_cleaner.output.tail_pb                        14134 non-null float64\n",
      "primary_cleaner.output.tail_sol                       14103 non-null float64\n",
      "primary_cleaner.output.tail_au                        14149 non-null float64\n",
      "primary_cleaner.state.floatbank8_a_air                14145 non-null float64\n",
      "primary_cleaner.state.floatbank8_a_level              14148 non-null float64\n",
      "primary_cleaner.state.floatbank8_b_air                14145 non-null float64\n",
      "primary_cleaner.state.floatbank8_b_level              14148 non-null float64\n",
      "primary_cleaner.state.floatbank8_c_air                14147 non-null float64\n",
      "primary_cleaner.state.floatbank8_c_level              14148 non-null float64\n",
      "primary_cleaner.state.floatbank8_d_air                14146 non-null float64\n",
      "primary_cleaner.state.floatbank8_d_level              14148 non-null float64\n",
      "rougher.calculation.sulfate_to_au_concentrate         14148 non-null float64\n",
      "rougher.calculation.floatbank10_sulfate_to_au_feed    14148 non-null float64\n",
      "rougher.calculation.floatbank11_sulfate_to_au_feed    14148 non-null float64\n",
      "rougher.calculation.au_pb_ratio                       14149 non-null float64\n",
      "rougher.input.feed_ag                                 14149 non-null float64\n",
      "rougher.input.feed_pb                                 14049 non-null float64\n",
      "rougher.input.feed_rate                               14141 non-null float64\n",
      "rougher.input.feed_size                               14005 non-null float64\n",
      "rougher.input.feed_sol                                14071 non-null float64\n",
      "rougher.input.feed_au                                 14149 non-null float64\n",
      "rougher.input.floatbank10_sulfate                     14120 non-null float64\n",
      "rougher.input.floatbank10_xanthate                    14141 non-null float64\n",
      "rougher.input.floatbank11_sulfate                     14113 non-null float64\n",
      "rougher.input.floatbank11_xanthate                    13721 non-null float64\n",
      "rougher.output.concentrate_ag                         14149 non-null float64\n",
      "rougher.output.concentrate_pb                         14149 non-null float64\n",
      "rougher.output.concentrate_sol                        14127 non-null float64\n",
      "rougher.output.concentrate_au                         14149 non-null float64\n",
      "rougher.output.recovery                               14149 non-null float64\n",
      "rougher.output.tail_ag                                14148 non-null float64\n",
      "rougher.output.tail_pb                                14149 non-null float64\n",
      "rougher.output.tail_sol                               14149 non-null float64\n",
      "rougher.output.tail_au                                14149 non-null float64\n",
      "rougher.state.floatbank10_a_air                       14148 non-null float64\n",
      "rougher.state.floatbank10_a_level                     14148 non-null float64\n",
      "rougher.state.floatbank10_b_air                       14148 non-null float64\n",
      "rougher.state.floatbank10_b_level                     14148 non-null float64\n",
      "rougher.state.floatbank10_c_air                       14148 non-null float64\n",
      "rougher.state.floatbank10_c_level                     14148 non-null float64\n",
      "rougher.state.floatbank10_d_air                       14149 non-null float64\n",
      "rougher.state.floatbank10_d_level                     14149 non-null float64\n",
      "rougher.state.floatbank10_e_air                       13713 non-null float64\n",
      "rougher.state.floatbank10_e_level                     14149 non-null float64\n",
      "rougher.state.floatbank10_f_air                       14149 non-null float64\n",
      "rougher.state.floatbank10_f_level                     14149 non-null float64\n",
      "secondary_cleaner.output.tail_ag                      14147 non-null float64\n",
      "secondary_cleaner.output.tail_pb                      14139 non-null float64\n",
      "secondary_cleaner.output.tail_sol                     12544 non-null float64\n",
      "secondary_cleaner.output.tail_au                      14149 non-null float64\n",
      "secondary_cleaner.state.floatbank2_a_air              13932 non-null float64\n",
      "secondary_cleaner.state.floatbank2_a_level            14148 non-null float64\n",
      "secondary_cleaner.state.floatbank2_b_air              14128 non-null float64\n",
      "secondary_cleaner.state.floatbank2_b_level            14148 non-null float64\n",
      "secondary_cleaner.state.floatbank3_a_air              14145 non-null float64\n",
      "secondary_cleaner.state.floatbank3_a_level            14148 non-null float64\n",
      "secondary_cleaner.state.floatbank3_b_air              14148 non-null float64\n",
      "secondary_cleaner.state.floatbank3_b_level            14148 non-null float64\n",
      "secondary_cleaner.state.floatbank4_a_air              14143 non-null float64\n",
      "secondary_cleaner.state.floatbank4_a_level            14148 non-null float64\n",
      "secondary_cleaner.state.floatbank4_b_air              14148 non-null float64\n",
      "secondary_cleaner.state.floatbank4_b_level            14148 non-null float64\n",
      "secondary_cleaner.state.floatbank5_a_air              14148 non-null float64\n",
      "secondary_cleaner.state.floatbank5_a_level            14148 non-null float64\n",
      "secondary_cleaner.state.floatbank5_b_air              14148 non-null float64\n",
      "secondary_cleaner.state.floatbank5_b_level            14148 non-null float64\n",
      "secondary_cleaner.state.floatbank6_a_air              14147 non-null float64\n",
      "secondary_cleaner.state.floatbank6_a_level            14148 non-null float64\n",
      "dtypes: float64(86)\n",
      "memory usage: 9.4+ MB\n"
     ]
    }
   ],
   "source": [
    "data_train.info()"
   ]
  },
  {
   "cell_type": "markdown",
   "metadata": {},
   "source": [
    "### Проверка эффективности обогащения"
   ]
  },
  {
   "cell_type": "markdown",
   "metadata": {},
   "source": [
    "<div class=\"alert alert-info\" role=\"alert\">\n",
    "  Проверим, что эффективность обогащения рассчитана правильно. Вычислим её на обучающей выборке для признака rougher.output.recovery. Найдём MAE между нашими расчётами и значением признака.\n",
    "</div>"
   ]
  },
  {
   "attachments": {
    "image.png": {
     "image/png": "[encoded data removed]"
    }
   },
   "cell_type": "markdown",
   "metadata": {},
   "source": [
    "<div class=\"alert alert-info\" role=\"alert\">\n",
    "Эффективность обогащения рассчитывается по формуле\n",
    "\n",
    "![image.png](attachment:image.png)\n",
    "\n",
    "где:\n",
    "- C — доля золота в концентрате после флотации/очистки;\n",
    "- F — доля золота в сырье/концентрате до флотации/очистки;\n",
    "- T — доля золота в отвальных хвостах после флотации/очистки.\n",
    "\n",
    "Для прогноза коэффициента нужно найти долю золота в концентратах и хвостах. Причём важен не только финальный продукт, но и черновой концентрат.\n",
    "</div>"
   ]
  },
  {
   "cell_type": "code",
   "execution_count": 7,
   "metadata": {},
   "outputs": [
    {
     "data": {
      "text/plain": [
       "9.682896147825551e-15"
      ]
     },
     "execution_count": 7,
     "metadata": {},
     "output_type": "execute_result"
    }
   ],
   "source": [
    "c = data_train['rougher.output.concentrate_au']\n",
    "f = data_train['rougher.input.feed_au']\n",
    "t = data_train['rougher.output.tail_au']\n",
    "data_train['recovery'] = (c * (f - t)) / (f * (c - t)) * 100\n",
    "mae = mean_absolute_error(data_train['recovery'], data_train['rougher.output.recovery'])\n",
    "mae"
   ]
  },
  {
   "cell_type": "code",
   "execution_count": 8,
   "metadata": {
    "scrolled": true
   },
   "outputs": [
    {
     "data": {
      "text/plain": [
       "count    14149.000000\n",
       "mean        82.704502\n",
       "std         14.479156\n",
       "min          0.000000\n",
       "25%         79.993067\n",
       "50%         85.299462\n",
       "75%         90.165021\n",
       "max        100.000000\n",
       "Name: rougher.output.recovery, dtype: float64"
      ]
     },
     "execution_count": 8,
     "metadata": {},
     "output_type": "execute_result"
    }
   ],
   "source": [
    "data_train['rougher.output.recovery'].describe()"
   ]
  },
  {
   "cell_type": "code",
   "execution_count": 9,
   "metadata": {},
   "outputs": [],
   "source": [
    "data_train = data_train.drop('recovery', axis=1)"
   ]
  },
  {
   "cell_type": "markdown",
   "metadata": {},
   "source": [
    "<div class=\"alert alert-info\" role=\"alert\">\n",
    "  Вывод: исходя из полученного значения MAE, близкого к нулю, можно судить о том, что эффективность обогащения рассчитана правильно\n",
    "</div>"
   ]
  },
  {
   "cell_type": "markdown",
   "metadata": {},
   "source": [
    "### Проанализируем признаки, недоступные в тестовой выборке:\n"
   ]
  },
  {
   "cell_type": "code",
   "execution_count": 10,
   "metadata": {
    "scrolled": true
   },
   "outputs": [
    {
     "name": "stdout",
     "output_type": "stream",
     "text": [
      "количество столбцов в train 86\n",
      "количество столбцов в test 52\n",
      "Столбцы, которых нет в test: ['final.output.concentrate_ag', 'final.output.concentrate_pb', 'final.output.concentrate_sol', 'final.output.concentrate_au', 'final.output.recovery', 'final.output.tail_ag', 'final.output.tail_pb', 'final.output.tail_sol', 'final.output.tail_au', 'primary_cleaner.output.concentrate_ag', 'primary_cleaner.output.concentrate_pb', 'primary_cleaner.output.concentrate_sol', 'primary_cleaner.output.concentrate_au', 'primary_cleaner.output.tail_ag', 'primary_cleaner.output.tail_pb', 'primary_cleaner.output.tail_sol', 'primary_cleaner.output.tail_au', 'rougher.calculation.sulfate_to_au_concentrate', 'rougher.calculation.floatbank10_sulfate_to_au_feed', 'rougher.calculation.floatbank11_sulfate_to_au_feed', 'rougher.calculation.au_pb_ratio', 'rougher.output.concentrate_ag', 'rougher.output.concentrate_pb', 'rougher.output.concentrate_sol', 'rougher.output.concentrate_au', 'rougher.output.recovery', 'rougher.output.tail_ag', 'rougher.output.tail_pb', 'rougher.output.tail_sol', 'rougher.output.tail_au', 'secondary_cleaner.output.tail_ag', 'secondary_cleaner.output.tail_pb', 'secondary_cleaner.output.tail_sol', 'secondary_cleaner.output.tail_au'], количество = 34\n"
     ]
    }
   ],
   "source": [
    "columns_in_train = data_train.columns\n",
    "columns_in_test = data_test.columns\n",
    "delta_columns = []\n",
    "for column in columns_in_train:\n",
    "    if column not in columns_in_test:\n",
    "        delta_columns.append(column)\n",
    "print(f'количество столбцов в train {len(columns_in_train)}')\n",
    "print(f'количество столбцов в test {len(columns_in_test)}')\n",
    "print(f'Столбцы, которых нет в test: {delta_columns}, количество = {len(delta_columns)}')"
   ]
  },
  {
   "cell_type": "code",
   "execution_count": 11,
   "metadata": {
    "scrolled": true
   },
   "outputs": [
    {
     "data": {
      "text/plain": [
       "final.output.concentrate_ag                           float64\n",
       "final.output.concentrate_pb                           float64\n",
       "final.output.concentrate_sol                          float64\n",
       "final.output.concentrate_au                           float64\n",
       "final.output.recovery                                 float64\n",
       "final.output.tail_ag                                  float64\n",
       "final.output.tail_pb                                  float64\n",
       "final.output.tail_sol                                 float64\n",
       "final.output.tail_au                                  float64\n",
       "primary_cleaner.output.concentrate_ag                 float64\n",
       "primary_cleaner.output.concentrate_pb                 float64\n",
       "primary_cleaner.output.concentrate_sol                float64\n",
       "primary_cleaner.output.concentrate_au                 float64\n",
       "primary_cleaner.output.tail_ag                        float64\n",
       "primary_cleaner.output.tail_pb                        float64\n",
       "primary_cleaner.output.tail_sol                       float64\n",
       "primary_cleaner.output.tail_au                        float64\n",
       "rougher.calculation.sulfate_to_au_concentrate         float64\n",
       "rougher.calculation.floatbank10_sulfate_to_au_feed    float64\n",
       "rougher.calculation.floatbank11_sulfate_to_au_feed    float64\n",
       "rougher.calculation.au_pb_ratio                       float64\n",
       "rougher.output.concentrate_ag                         float64\n",
       "rougher.output.concentrate_pb                         float64\n",
       "rougher.output.concentrate_sol                        float64\n",
       "rougher.output.concentrate_au                         float64\n",
       "rougher.output.recovery                               float64\n",
       "rougher.output.tail_ag                                float64\n",
       "rougher.output.tail_pb                                float64\n",
       "rougher.output.tail_sol                               float64\n",
       "rougher.output.tail_au                                float64\n",
       "secondary_cleaner.output.tail_ag                      float64\n",
       "secondary_cleaner.output.tail_pb                      float64\n",
       "secondary_cleaner.output.tail_sol                     float64\n",
       "secondary_cleaner.output.tail_au                      float64\n",
       "dtype: object"
      ]
     },
     "execution_count": 11,
     "metadata": {},
     "output_type": "execute_result"
    }
   ],
   "source": [
    "data_train[delta_columns].dtypes"
   ]
  },
  {
   "cell_type": "markdown",
   "metadata": {},
   "source": [
    "<div class=\"alert alert-info\" role=\"alert\">\n",
    "  Вывод: проанализировав какие столбцы есть в train и отсутствуют в test, можно увидеть что это столбцы содержащие выходные характеристики ступеней технологического процесса. Поскольку эти значения можно получить лишь после самого процесса, то такие столбцы необходимо исключить из процесса обучения предсказыывающих моделей. \n",
    "</div>"
   ]
  },
  {
   "cell_type": "markdown",
   "metadata": {},
   "source": [
    "### Проведем предобработку данных"
   ]
  },
  {
   "cell_type": "markdown",
   "metadata": {},
   "source": [
    "<div class=\"alert alert-info\" role=\"alert\">\n",
    "    Поскольку в датасете train есть столбцы содержащие информацию, недоступную на момент начала технологического процесса, необходимо предобработать данные\n",
    "</div>"
   ]
  },
  {
   "cell_type": "code",
   "execution_count": 12,
   "metadata": {
    "scrolled": true
   },
   "outputs": [
    {
     "name": "stdout",
     "output_type": "stream",
     "text": [
      "<class 'pandas.core.frame.DataFrame'>\n",
      "Index: 14149 entries, 2016-01-15 00:00:00 to 2018-08-18 10:59:59\n",
      "Data columns (total 54 columns):\n",
      "final.output.recovery                         14149 non-null float64\n",
      "primary_cleaner.input.sulfate                 14129 non-null float64\n",
      "primary_cleaner.input.depressant              14117 non-null float64\n",
      "primary_cleaner.input.feed_size               14149 non-null float64\n",
      "primary_cleaner.input.xanthate                14049 non-null float64\n",
      "primary_cleaner.state.floatbank8_a_air        14145 non-null float64\n",
      "primary_cleaner.state.floatbank8_a_level      14148 non-null float64\n",
      "primary_cleaner.state.floatbank8_b_air        14145 non-null float64\n",
      "primary_cleaner.state.floatbank8_b_level      14148 non-null float64\n",
      "primary_cleaner.state.floatbank8_c_air        14147 non-null float64\n",
      "primary_cleaner.state.floatbank8_c_level      14148 non-null float64\n",
      "primary_cleaner.state.floatbank8_d_air        14146 non-null float64\n",
      "primary_cleaner.state.floatbank8_d_level      14148 non-null float64\n",
      "rougher.input.feed_ag                         14149 non-null float64\n",
      "rougher.input.feed_pb                         14049 non-null float64\n",
      "rougher.input.feed_rate                       14141 non-null float64\n",
      "rougher.input.feed_size                       14005 non-null float64\n",
      "rougher.input.feed_sol                        14071 non-null float64\n",
      "rougher.input.feed_au                         14149 non-null float64\n",
      "rougher.input.floatbank10_sulfate             14120 non-null float64\n",
      "rougher.input.floatbank10_xanthate            14141 non-null float64\n",
      "rougher.input.floatbank11_sulfate             14113 non-null float64\n",
      "rougher.input.floatbank11_xanthate            13721 non-null float64\n",
      "rougher.output.recovery                       14149 non-null float64\n",
      "rougher.state.floatbank10_a_air               14148 non-null float64\n",
      "rougher.state.floatbank10_a_level             14148 non-null float64\n",
      "rougher.state.floatbank10_b_air               14148 non-null float64\n",
      "rougher.state.floatbank10_b_level             14148 non-null float64\n",
      "rougher.state.floatbank10_c_air               14148 non-null float64\n",
      "rougher.state.floatbank10_c_level             14148 non-null float64\n",
      "rougher.state.floatbank10_d_air               14149 non-null float64\n",
      "rougher.state.floatbank10_d_level             14149 non-null float64\n",
      "rougher.state.floatbank10_e_air               13713 non-null float64\n",
      "rougher.state.floatbank10_e_level             14149 non-null float64\n",
      "rougher.state.floatbank10_f_air               14149 non-null float64\n",
      "rougher.state.floatbank10_f_level             14149 non-null float64\n",
      "secondary_cleaner.state.floatbank2_a_air      13932 non-null float64\n",
      "secondary_cleaner.state.floatbank2_a_level    14148 non-null float64\n",
      "secondary_cleaner.state.floatbank2_b_air      14128 non-null float64\n",
      "secondary_cleaner.state.floatbank2_b_level    14148 non-null float64\n",
      "secondary_cleaner.state.floatbank3_a_air      14145 non-null float64\n",
      "secondary_cleaner.state.floatbank3_a_level    14148 non-null float64\n",
      "secondary_cleaner.state.floatbank3_b_air      14148 non-null float64\n",
      "secondary_cleaner.state.floatbank3_b_level    14148 non-null float64\n",
      "secondary_cleaner.state.floatbank4_a_air      14143 non-null float64\n",
      "secondary_cleaner.state.floatbank4_a_level    14148 non-null float64\n",
      "secondary_cleaner.state.floatbank4_b_air      14148 non-null float64\n",
      "secondary_cleaner.state.floatbank4_b_level    14148 non-null float64\n",
      "secondary_cleaner.state.floatbank5_a_air      14148 non-null float64\n",
      "secondary_cleaner.state.floatbank5_a_level    14148 non-null float64\n",
      "secondary_cleaner.state.floatbank5_b_air      14148 non-null float64\n",
      "secondary_cleaner.state.floatbank5_b_level    14148 non-null float64\n",
      "secondary_cleaner.state.floatbank6_a_air      14147 non-null float64\n",
      "secondary_cleaner.state.floatbank6_a_level    14148 non-null float64\n",
      "dtypes: float64(54)\n",
      "memory usage: 6.6+ MB\n"
     ]
    }
   ],
   "source": [
    "delta_columns.remove('rougher.output.recovery')\n",
    "delta_columns.remove('final.output.recovery')\n",
    "data_train = data_train.drop(delta_columns, axis=1)\n",
    "data_train.info()"
   ]
  },
  {
   "cell_type": "markdown",
   "metadata": {},
   "source": [
    "<div class=\"alert alert-info\" role=\"alert\">\n",
    "    Проверим данные на наличие пропусков\n",
    "</div>"
   ]
  },
  {
   "cell_type": "code",
   "execution_count": 14,
   "metadata": {
    "scrolled": true
   },
   "outputs": [
    {
     "data": {
      "text/plain": [
       "final.output.recovery                           0\n",
       "primary_cleaner.input.sulfate                  20\n",
       "primary_cleaner.input.depressant               32\n",
       "primary_cleaner.input.feed_size                 0\n",
       "primary_cleaner.input.xanthate                100\n",
       "primary_cleaner.state.floatbank8_a_air          4\n",
       "primary_cleaner.state.floatbank8_a_level        1\n",
       "primary_cleaner.state.floatbank8_b_air          4\n",
       "primary_cleaner.state.floatbank8_b_level        1\n",
       "primary_cleaner.state.floatbank8_c_air          2\n",
       "primary_cleaner.state.floatbank8_c_level        1\n",
       "primary_cleaner.state.floatbank8_d_air          3\n",
       "primary_cleaner.state.floatbank8_d_level        1\n",
       "rougher.input.feed_ag                           0\n",
       "rougher.input.feed_pb                         100\n",
       "rougher.input.feed_rate                         8\n",
       "rougher.input.feed_size                       144\n",
       "rougher.input.feed_sol                         78\n",
       "rougher.input.feed_au                           0\n",
       "rougher.input.floatbank10_sulfate              29\n",
       "rougher.input.floatbank10_xanthate              8\n",
       "rougher.input.floatbank11_sulfate              36\n",
       "rougher.input.floatbank11_xanthate            428\n",
       "rougher.output.recovery                         0\n",
       "rougher.state.floatbank10_a_air                 1\n",
       "rougher.state.floatbank10_a_level               1\n",
       "rougher.state.floatbank10_b_air                 1\n",
       "rougher.state.floatbank10_b_level               1\n",
       "rougher.state.floatbank10_c_air                 1\n",
       "rougher.state.floatbank10_c_level               1\n",
       "rougher.state.floatbank10_d_air                 0\n",
       "rougher.state.floatbank10_d_level               0\n",
       "rougher.state.floatbank10_e_air               436\n",
       "rougher.state.floatbank10_e_level               0\n",
       "rougher.state.floatbank10_f_air                 0\n",
       "rougher.state.floatbank10_f_level               0\n",
       "secondary_cleaner.state.floatbank2_a_air      217\n",
       "secondary_cleaner.state.floatbank2_a_level      1\n",
       "secondary_cleaner.state.floatbank2_b_air       21\n",
       "secondary_cleaner.state.floatbank2_b_level      1\n",
       "secondary_cleaner.state.floatbank3_a_air        4\n",
       "secondary_cleaner.state.floatbank3_a_level      1\n",
       "secondary_cleaner.state.floatbank3_b_air        1\n",
       "secondary_cleaner.state.floatbank3_b_level      1\n",
       "secondary_cleaner.state.floatbank4_a_air        6\n",
       "secondary_cleaner.state.floatbank4_a_level      1\n",
       "secondary_cleaner.state.floatbank4_b_air        1\n",
       "secondary_cleaner.state.floatbank4_b_level      1\n",
       "secondary_cleaner.state.floatbank5_a_air        1\n",
       "secondary_cleaner.state.floatbank5_a_level      1\n",
       "secondary_cleaner.state.floatbank5_b_air        1\n",
       "secondary_cleaner.state.floatbank5_b_level      1\n",
       "secondary_cleaner.state.floatbank6_a_air        2\n",
       "secondary_cleaner.state.floatbank6_a_level      1\n",
       "dtype: int64"
      ]
     },
     "execution_count": 14,
     "metadata": {},
     "output_type": "execute_result"
    }
   ],
   "source": [
    "data_train.isna().sum()"
   ]
  },
  {
   "cell_type": "code",
   "execution_count": 15,
   "metadata": {},
   "outputs": [],
   "source": [
    "data_train = data_train.ffill()"
   ]
  },
  {
   "cell_type": "code",
   "execution_count": 16,
   "metadata": {
    "scrolled": true
   },
   "outputs": [
    {
     "data": {
      "text/plain": [
       "final.output.recovery                         0\n",
       "primary_cleaner.input.sulfate                 0\n",
       "primary_cleaner.input.depressant              0\n",
       "primary_cleaner.input.feed_size               0\n",
       "primary_cleaner.input.xanthate                0\n",
       "primary_cleaner.state.floatbank8_a_air        0\n",
       "primary_cleaner.state.floatbank8_a_level      0\n",
       "primary_cleaner.state.floatbank8_b_air        0\n",
       "primary_cleaner.state.floatbank8_b_level      0\n",
       "primary_cleaner.state.floatbank8_c_air        0\n",
       "primary_cleaner.state.floatbank8_c_level      0\n",
       "primary_cleaner.state.floatbank8_d_air        0\n",
       "primary_cleaner.state.floatbank8_d_level      0\n",
       "rougher.input.feed_ag                         0\n",
       "rougher.input.feed_pb                         0\n",
       "rougher.input.feed_rate                       0\n",
       "rougher.input.feed_size                       0\n",
       "rougher.input.feed_sol                        0\n",
       "rougher.input.feed_au                         0\n",
       "rougher.input.floatbank10_sulfate             0\n",
       "rougher.input.floatbank10_xanthate            0\n",
       "rougher.input.floatbank11_sulfate             0\n",
       "rougher.input.floatbank11_xanthate            0\n",
       "rougher.output.recovery                       0\n",
       "rougher.state.floatbank10_a_air               0\n",
       "rougher.state.floatbank10_a_level             0\n",
       "rougher.state.floatbank10_b_air               0\n",
       "rougher.state.floatbank10_b_level             0\n",
       "rougher.state.floatbank10_c_air               0\n",
       "rougher.state.floatbank10_c_level             0\n",
       "rougher.state.floatbank10_d_air               0\n",
       "rougher.state.floatbank10_d_level             0\n",
       "rougher.state.floatbank10_e_air               0\n",
       "rougher.state.floatbank10_e_level             0\n",
       "rougher.state.floatbank10_f_air               0\n",
       "rougher.state.floatbank10_f_level             0\n",
       "secondary_cleaner.state.floatbank2_a_air      0\n",
       "secondary_cleaner.state.floatbank2_a_level    0\n",
       "secondary_cleaner.state.floatbank2_b_air      0\n",
       "secondary_cleaner.state.floatbank2_b_level    0\n",
       "secondary_cleaner.state.floatbank3_a_air      0\n",
       "secondary_cleaner.state.floatbank3_a_level    0\n",
       "secondary_cleaner.state.floatbank3_b_air      0\n",
       "secondary_cleaner.state.floatbank3_b_level    0\n",
       "secondary_cleaner.state.floatbank4_a_air      0\n",
       "secondary_cleaner.state.floatbank4_a_level    0\n",
       "secondary_cleaner.state.floatbank4_b_air      0\n",
       "secondary_cleaner.state.floatbank4_b_level    0\n",
       "secondary_cleaner.state.floatbank5_a_air      0\n",
       "secondary_cleaner.state.floatbank5_a_level    0\n",
       "secondary_cleaner.state.floatbank5_b_air      0\n",
       "secondary_cleaner.state.floatbank5_b_level    0\n",
       "secondary_cleaner.state.floatbank6_a_air      0\n",
       "secondary_cleaner.state.floatbank6_a_level    0\n",
       "dtype: int64"
      ]
     },
     "execution_count": 16,
     "metadata": {},
     "output_type": "execute_result"
    }
   ],
   "source": [
    "data_train.isna().sum()"
   ]
  },
  {
   "cell_type": "markdown",
   "metadata": {},
   "source": [
    "<div class=\"alert alert-info\" role=\"alert\">\n",
    "    Проверим данные на наличие дубликатов\n",
    "</div>"
   ]
  },
  {
   "cell_type": "code",
   "execution_count": 17,
   "metadata": {},
   "outputs": [
    {
     "data": {
      "text/plain": [
       "0"
      ]
     },
     "execution_count": 17,
     "metadata": {},
     "output_type": "execute_result"
    }
   ],
   "source": [
    "data_train.duplicated().sum()"
   ]
  },
  {
   "cell_type": "markdown",
   "metadata": {},
   "source": [
    "<div class=\"alert alert-info\" role=\"alert\">\n",
    "    Вывод: мы удалили столбцы, несущие информацию о целевой переменной и также очистили данные от пропусков.\n",
    "</div>"
   ]
  },
  {
   "cell_type": "markdown",
   "metadata": {},
   "source": [
    "## Анализ данных"
   ]
  },
  {
   "cell_type": "markdown",
   "metadata": {},
   "source": [
    "### Посмотрим, как меняется концентрация металлов (Au, Ag, Pb) на различных этапах очистки"
   ]
  },
  {
   "cell_type": "code",
   "execution_count": 18,
   "metadata": {
    "scrolled": true
   },
   "outputs": [
    {
     "name": "stdout",
     "output_type": "stream",
     "text": [
      "<class 'pandas.core.frame.DataFrame'>\n",
      "Index: 19439 entries, 2016-01-15 00:00:00 to 2018-08-18 10:59:59\n",
      "Data columns (total 86 columns):\n",
      "final.output.concentrate_ag                           19438 non-null float64\n",
      "final.output.concentrate_pb                           19438 non-null float64\n",
      "final.output.concentrate_sol                          19228 non-null float64\n",
      "final.output.concentrate_au                           19439 non-null float64\n",
      "final.output.recovery                                 19439 non-null float64\n",
      "final.output.tail_ag                                  19438 non-null float64\n",
      "final.output.tail_pb                                  19338 non-null float64\n",
      "final.output.tail_sol                                 19433 non-null float64\n",
      "final.output.tail_au                                  19439 non-null float64\n",
      "primary_cleaner.input.sulfate                         19415 non-null float64\n",
      "primary_cleaner.input.depressant                      19402 non-null float64\n",
      "primary_cleaner.input.feed_size                       19439 non-null float64\n",
      "primary_cleaner.input.xanthate                        19335 non-null float64\n",
      "primary_cleaner.output.concentrate_ag                 19439 non-null float64\n",
      "primary_cleaner.output.concentrate_pb                 19323 non-null float64\n",
      "primary_cleaner.output.concentrate_sol                19069 non-null float64\n",
      "primary_cleaner.output.concentrate_au                 19439 non-null float64\n",
      "primary_cleaner.output.tail_ag                        19435 non-null float64\n",
      "primary_cleaner.output.tail_pb                        19418 non-null float64\n",
      "primary_cleaner.output.tail_sol                       19377 non-null float64\n",
      "primary_cleaner.output.tail_au                        19439 non-null float64\n",
      "primary_cleaner.state.floatbank8_a_air                19435 non-null float64\n",
      "primary_cleaner.state.floatbank8_a_level              19438 non-null float64\n",
      "primary_cleaner.state.floatbank8_b_air                19435 non-null float64\n",
      "primary_cleaner.state.floatbank8_b_level              19438 non-null float64\n",
      "primary_cleaner.state.floatbank8_c_air                19437 non-null float64\n",
      "primary_cleaner.state.floatbank8_c_level              19438 non-null float64\n",
      "primary_cleaner.state.floatbank8_d_air                19436 non-null float64\n",
      "primary_cleaner.state.floatbank8_d_level              19438 non-null float64\n",
      "rougher.calculation.sulfate_to_au_concentrate         19437 non-null float64\n",
      "rougher.calculation.floatbank10_sulfate_to_au_feed    19437 non-null float64\n",
      "rougher.calculation.floatbank11_sulfate_to_au_feed    19437 non-null float64\n",
      "rougher.calculation.au_pb_ratio                       19439 non-null float64\n",
      "rougher.input.feed_ag                                 19439 non-null float64\n",
      "rougher.input.feed_pb                                 19339 non-null float64\n",
      "rougher.input.feed_rate                               19428 non-null float64\n",
      "rougher.input.feed_size                               19294 non-null float64\n",
      "rougher.input.feed_sol                                19340 non-null float64\n",
      "rougher.input.feed_au                                 19439 non-null float64\n",
      "rougher.input.floatbank10_sulfate                     19405 non-null float64\n",
      "rougher.input.floatbank10_xanthate                    19431 non-null float64\n",
      "rougher.input.floatbank11_sulfate                     19395 non-null float64\n",
      "rougher.input.floatbank11_xanthate                    18986 non-null float64\n",
      "rougher.output.concentrate_ag                         19439 non-null float64\n",
      "rougher.output.concentrate_pb                         19439 non-null float64\n",
      "rougher.output.concentrate_sol                        19416 non-null float64\n",
      "rougher.output.concentrate_au                         19439 non-null float64\n",
      "rougher.output.recovery                               19439 non-null float64\n",
      "rougher.output.tail_ag                                19438 non-null float64\n",
      "rougher.output.tail_pb                                19439 non-null float64\n",
      "rougher.output.tail_sol                               19439 non-null float64\n",
      "rougher.output.tail_au                                19439 non-null float64\n",
      "rougher.state.floatbank10_a_air                       19438 non-null float64\n",
      "rougher.state.floatbank10_a_level                     19438 non-null float64\n",
      "rougher.state.floatbank10_b_air                       19438 non-null float64\n",
      "rougher.state.floatbank10_b_level                     19438 non-null float64\n",
      "rougher.state.floatbank10_c_air                       19438 non-null float64\n",
      "rougher.state.floatbank10_c_level                     19438 non-null float64\n",
      "rougher.state.floatbank10_d_air                       19439 non-null float64\n",
      "rougher.state.floatbank10_d_level                     19439 non-null float64\n",
      "rougher.state.floatbank10_e_air                       19003 non-null float64\n",
      "rougher.state.floatbank10_e_level                     19439 non-null float64\n",
      "rougher.state.floatbank10_f_air                       19439 non-null float64\n",
      "rougher.state.floatbank10_f_level                     19439 non-null float64\n",
      "secondary_cleaner.output.tail_ag                      19437 non-null float64\n",
      "secondary_cleaner.output.tail_pb                      19427 non-null float64\n",
      "secondary_cleaner.output.tail_sol                     17691 non-null float64\n",
      "secondary_cleaner.output.tail_au                      19439 non-null float64\n",
      "secondary_cleaner.state.floatbank2_a_air              19219 non-null float64\n",
      "secondary_cleaner.state.floatbank2_a_level            19438 non-null float64\n",
      "secondary_cleaner.state.floatbank2_b_air              19416 non-null float64\n",
      "secondary_cleaner.state.floatbank2_b_level            19438 non-null float64\n",
      "secondary_cleaner.state.floatbank3_a_air              19426 non-null float64\n",
      "secondary_cleaner.state.floatbank3_a_level            19438 non-null float64\n",
      "secondary_cleaner.state.floatbank3_b_air              19438 non-null float64\n",
      "secondary_cleaner.state.floatbank3_b_level            19438 non-null float64\n",
      "secondary_cleaner.state.floatbank4_a_air              19433 non-null float64\n",
      "secondary_cleaner.state.floatbank4_a_level            19438 non-null float64\n",
      "secondary_cleaner.state.floatbank4_b_air              19438 non-null float64\n",
      "secondary_cleaner.state.floatbank4_b_level            19438 non-null float64\n",
      "secondary_cleaner.state.floatbank5_a_air              19438 non-null float64\n",
      "secondary_cleaner.state.floatbank5_a_level            19438 non-null float64\n",
      "secondary_cleaner.state.floatbank5_b_air              19438 non-null float64\n",
      "secondary_cleaner.state.floatbank5_b_level            19438 non-null float64\n",
      "secondary_cleaner.state.floatbank6_a_air              19437 non-null float64\n",
      "secondary_cleaner.state.floatbank6_a_level            19438 non-null float64\n",
      "dtypes: float64(86)\n",
      "memory usage: 12.9+ MB\n"
     ]
    }
   ],
   "source": [
    "data_full.info()"
   ]
  },
  {
   "cell_type": "markdown",
   "metadata": {},
   "source": [
    "<div class=\"alert alert-info\" role=\"alert\">\n",
    "Всего в технологическом процессе присутствуют 4 этапа:\n",
    "    \n",
    "- rougher — флотация\n",
    "- primary_cleaner — первичная очистка\n",
    "- secondary_cleaner — вторичная очистка\n",
    "- final — финальные характеристики\n",
    "</div>\n"
   ]
  },
  {
   "cell_type": "markdown",
   "metadata": {},
   "source": [
    "<div class=\"alert alert-info\" role=\"alert\">\n",
    "Список столбцов с концентрацией на различных этапах\n",
    "    \n",
    "    \n",
    "Этап input:\n",
    "- rougher.input.feed_au \n",
    "- rougher.input.feed_ag  \n",
    "- rougher.input.feed_pb\n",
    "    \n",
    "Этап rougher:\n",
    "- rougher.output.concentrate_au\n",
    "- rougher.output.concentrate_ag                    \n",
    "- rougher.output.concentrate_pb                                             \n",
    " \n",
    "Этап primary_cleaner:\n",
    "- primary_cleaner.output.concentrate_au\n",
    "- primary_cleaner.output.concentrate_ag               \n",
    "- primary_cleaner.output.concentrate_pb                         \n",
    "     \n",
    "Этап final:\n",
    "- final.output.concentrate_au \n",
    "- final.output.concentrate_ag                         \n",
    "- final.output.concentrate_pb                                    \n",
    "\n",
    "</div>"
   ]
  },
  {
   "cell_type": "markdown",
   "metadata": {},
   "source": [
    "<div class=\"alert alert-info\" role=\"alert\">\n",
    "    Изучим изменение концентрации золота:\n",
    "</div>"
   ]
  },
  {
   "cell_type": "code",
   "execution_count": 19,
   "metadata": {},
   "outputs": [
    {
     "data": {
      "image/png": "[encoded data removed]",
      "text/plain": [
       "<Figure size 720x360 with 1 Axes>"
      ]
     },
     "metadata": {
      "needs_background": "light"
     },
     "output_type": "display_data"
    }
   ],
   "source": [
    "data_full.plot(kind='hist', y=['rougher.input.feed_au', 'rougher.output.concentrate_au', 'primary_cleaner.output.concentrate_au', 'final.output.concentrate_au'], histtype='step', bins=50, linewidth=3, grid=True, legend=True, figsize=(10,5))\n",
    "plt.title('Изменение концентрации Au')\n",
    "plt.show()"
   ]
  },
  {
   "cell_type": "code",
   "execution_count": 20,
   "metadata": {},
   "outputs": [
    {
     "data": {
      "image/png": "[encoded data removed]",
      "text/plain": [
       "<Figure size 720x360 with 1 Axes>"
      ]
     },
     "metadata": {
      "needs_background": "light"
     },
     "output_type": "display_data"
    }
   ],
   "source": [
    "data_full.plot(kind='hist', y=['rougher.input.feed_ag', 'rougher.output.concentrate_ag', 'primary_cleaner.output.concentrate_ag', 'final.output.concentrate_ag'], histtype='step', bins=50, linewidth=3, grid=True, legend=True, figsize=(10,5))\n",
    "plt.title('Изменение концентрации Ag')\n",
    "plt.show()"
   ]
  },
  {
   "cell_type": "code",
   "execution_count": 21,
   "metadata": {},
   "outputs": [
    {
     "data": {
      "image/png": "[encoded data removed]",
      "text/plain": [
       "<Figure size 720x360 with 1 Axes>"
      ]
     },
     "metadata": {
      "needs_background": "light"
     },
     "output_type": "display_data"
    }
   ],
   "source": [
    "data_full.plot(kind='hist', y=['rougher.input.feed_pb', 'rougher.output.concentrate_pb', 'primary_cleaner.output.concentrate_pb', 'final.output.concentrate_pb'], histtype='step', bins=50, linewidth=3, grid=True, legend=True, figsize=(10,5))\n",
    "plt.title('Изменение концентрации Pb')\n",
    "plt.show()"
   ]
  },
  {
   "cell_type": "markdown",
   "metadata": {},
   "source": [
    "<div class=\"alert alert-info\" role=\"alert\">\n",
    "    \n",
    "Вывод: исходя из составленных гистограмм распределения концентрации веществ для всех этапов можно сделать следующие заключения:\n",
    "- концентрация Au растет с каждым этапом\n",
    "- концентрация Ag убывает с каждым этапом\n",
    "- концентрация Pb после первичной очистки резко увеличивается, а далее увеличивается уже совсем немного\n",
    "</div>"
   ]
  },
  {
   "cell_type": "markdown",
   "metadata": {},
   "source": [
    "### Сравним распределения размеров гранул сырья на обучающей и тестовой выборках"
   ]
  },
  {
   "cell_type": "markdown",
   "metadata": {},
   "source": [
    "<div class=\"alert alert-info\" role=\"alert\">\n",
    "Размеры гранул сырья содержатся в колонке rougher.input.feed_size\n",
    "</div>"
   ]
  },
  {
   "cell_type": "code",
   "execution_count": 22,
   "metadata": {},
   "outputs": [
    {
     "data": {
      "image/png": "[encoded data removed]",
      "text/plain": [
       "<Figure size 432x288 with 1 Axes>"
      ]
     },
     "metadata": {
      "needs_background": "light"
     },
     "output_type": "display_data"
    }
   ],
   "source": [
    "data_train.plot(kind='hist', y='rougher.input.feed_size', histtype='step', bins=30, linewidth=3, grid=True, legend=False)\n",
    "plt.title('Распределение размеров гранул сырья на обучающей выборке')\n",
    "plt.show()"
   ]
  },
  {
   "cell_type": "code",
   "execution_count": 23,
   "metadata": {},
   "outputs": [
    {
     "data": {
      "image/png": "[encoded data removed]",
      "text/plain": [
       "<Figure size 432x288 with 1 Axes>"
      ]
     },
     "metadata": {
      "needs_background": "light"
     },
     "output_type": "display_data"
    }
   ],
   "source": [
    "data_test.plot(kind='hist', y='rougher.input.feed_size', histtype='step', bins=30, linewidth=3, grid=True, legend=False)\n",
    "plt.title('Распределение размеров гранул сырья на тестовой выборке')\n",
    "plt.show()"
   ]
  },
  {
   "cell_type": "markdown",
   "metadata": {},
   "source": [
    "<div class=\"alert alert-info\" role=\"alert\">\n",
    "Вывод: распределение размеров гранул сырья в обучающей выборке аналогично распределению в тестовой. \n",
    "</div>"
   ]
  },
  {
   "cell_type": "markdown",
   "metadata": {},
   "source": [
    "### Исследуем суммарную концентрацию всех веществ на разных стадиях: в сырье, в черновом и финальном концентратах."
   ]
  },
  {
   "cell_type": "code",
   "execution_count": 24,
   "metadata": {},
   "outputs": [
    {
     "data": {
      "image/png": "[encoded data removed]",
      "text/plain": [
       "<Figure size 432x288 with 1 Axes>"
      ]
     },
     "metadata": {
      "needs_background": "light"
     },
     "output_type": "display_data"
    }
   ],
   "source": [
    "data_full['input_total_concentrate'] = (data_full['rougher.input.feed_au'] + \n",
    "                                        data_full['rougher.input.feed_ag'] + \n",
    "                                        data_full['rougher.input.feed_pb'] + \n",
    "                                        data_full['rougher.input.feed_sol'])\n",
    "data_full.plot(kind='hist', y='input_total_concentrate', histtype='step', bins=30, linewidth=3, grid=True, legend=False)\n",
    "plt.title('Распределение суммарной концентрации начальном этапе')\n",
    "plt.show()"
   ]
  },
  {
   "cell_type": "code",
   "execution_count": 25,
   "metadata": {},
   "outputs": [
    {
     "data": {
      "image/png": "[encoded data removed]",
      "text/plain": [
       "<Figure size 432x288 with 1 Axes>"
      ]
     },
     "metadata": {
      "needs_background": "light"
     },
     "output_type": "display_data"
    }
   ],
   "source": [
    "data_full['rougher_total_concentrate'] = (data_full['rougher.output.concentrate_au'] + \n",
    "                                          data_full['rougher.output.concentrate_ag'] +\n",
    "                                          data_full['rougher.output.concentrate_pb'] +\n",
    "                                          data_full['rougher.output.concentrate_sol'])\n",
    "data_full.plot(kind='hist', y='rougher_total_concentrate', histtype='step', bins=30, linewidth=3, grid=True, legend=False)\n",
    "plt.title('Распределение суммарной концентрации после флотации')\n",
    "plt.show()"
   ]
  },
  {
   "cell_type": "code",
   "execution_count": 26,
   "metadata": {},
   "outputs": [
    {
     "data": {
      "image/png": "[encoded data removed]",
      "text/plain": [
       "<Figure size 432x288 with 1 Axes>"
      ]
     },
     "metadata": {
      "needs_background": "light"
     },
     "output_type": "display_data"
    }
   ],
   "source": [
    "data_full['primary_cleaner_total_concentrate'] = (data_full['primary_cleaner.output.concentrate_au'] + \n",
    "                                                  data_full['primary_cleaner.output.concentrate_ag'] +\n",
    "                                                  data_full['primary_cleaner.output.concentrate_pb'] +\n",
    "                                                  data_full['primary_cleaner.output.concentrate_sol'])\n",
    "\n",
    "data_full.plot(kind='hist', y='primary_cleaner_total_concentrate', histtype='step', bins=30, linewidth=3, grid=True, legend=False)\n",
    "plt.title('Распределение суммарной концентрации после первой очистки')\n",
    "plt.show()"
   ]
  },
  {
   "cell_type": "code",
   "execution_count": 27,
   "metadata": {},
   "outputs": [
    {
     "data": {
      "image/png": "[encoded data removed]",
      "text/plain": [
       "<Figure size 432x288 with 1 Axes>"
      ]
     },
     "metadata": {
      "needs_background": "light"
     },
     "output_type": "display_data"
    }
   ],
   "source": [
    "data_full['secondary_cleaner_total_concentrate'] = (data_full['final.output.concentrate_au'] +\n",
    "                                                    data_full['final.output.concentrate_ag'] +\n",
    "                                                    data_full['final.output.concentrate_pb'] +\n",
    "                                                    data_full['final.output.concentrate_sol'])\n",
    "\n",
    "data_full.plot(kind='hist', y='secondary_cleaner_total_concentrate', histtype='step', bins=30, linewidth=3, grid=True, legend=False)\n",
    "plt.title('Распределение суммарной концентрации после второй очистки')\n",
    "plt.show()"
   ]
  },
  {
   "cell_type": "markdown",
   "metadata": {},
   "source": [
    "<div class=\"alert alert-info\" role=\"alert\">\n",
    "Вывод: проанализировав графики можно заметить, что присутствуют всплески в области нуля. Поскольку концентрация всех веществ одновременно не может быть нулевой, можно заключить о том, что  всплески это выбросы в данных. Необходимо удалить строки, в которых сумма концентрации нулевая. Удалять данные будем в тренировочном наборе.\n",
    "</div>"
   ]
  },
  {
   "cell_type": "markdown",
   "metadata": {},
   "source": [
    "<div class=\"alert alert-info\" role=\"alert\">\n",
    "Найдем индексы элементов, у которых сумма концентраций на каком-то из этапов равна 0\n",
    "</div>"
   ]
  },
  {
   "cell_type": "code",
   "execution_count": 28,
   "metadata": {},
   "outputs": [
    {
     "name": "stdout",
     "output_type": "stream",
     "text": [
      "591\n",
      "(14149, 54)\n",
      "(5290, 52)\n"
     ]
    }
   ],
   "source": [
    "indexes = data_full[((data_full['input_total_concentrate'] == 0) | \n",
    "                     (data_full['rougher_total_concentrate'] == 0) |\n",
    "                     (data_full['primary_cleaner_total_concentrate'] == 0) |\n",
    "                     (data_full['secondary_cleaner_total_concentrate'] == 0)\n",
    "                    )].index\n",
    "print(len(indexes))\n",
    "print(data_train.shape)\n",
    "print(data_test.shape)"
   ]
  },
  {
   "cell_type": "markdown",
   "metadata": {},
   "source": [
    "<div class=\"alert alert-info\" role=\"alert\">\n",
    "Удалим элементы с нулевой суммарной концентрацией из train и test:\n",
    "</div>"
   ]
  },
  {
   "cell_type": "code",
   "execution_count": 29,
   "metadata": {},
   "outputs": [
    {
     "name": "stdout",
     "output_type": "stream",
     "text": [
      "(13725, 54)\n",
      "(5123, 52)\n"
     ]
    }
   ],
   "source": [
    "data_train = data_train.drop(axis=0, index=list(indexes), errors='ignore')\n",
    "print(data_train.shape)\n",
    "\n",
    "data_test = data_test.drop(axis=0, index=list(indexes), errors='ignore')\n",
    "print(data_test.shape)"
   ]
  },
  {
   "cell_type": "markdown",
   "metadata": {},
   "source": [
    "<div class=\"alert alert-info\" role=\"alert\">\n",
    "Вывод: Данные для обучения модели были очищены и теперь можно перейти к моделированию.\n",
    "</div>"
   ]
  },
  {
   "cell_type": "markdown",
   "metadata": {},
   "source": [
    "## Модель"
   ]
  },
  {
   "cell_type": "markdown",
   "metadata": {},
   "source": [
    "### Напишем функцию для вычисления итоговой sMAPE"
   ]
  },
  {
   "attachments": {
    "image.png": {
     "image/png": "[encoded data removed]"
    }
   },
   "cell_type": "markdown",
   "metadata": {},
   "source": [
    "<div class=\"alert alert-info\" role=\"alert\">\n",
    "    \n",
    "![image.png](attachment:image.png)\n",
    "</div>"
   ]
  },
  {
   "cell_type": "code",
   "execution_count": 32,
   "metadata": {},
   "outputs": [],
   "source": [
    "def smape(target, predictions):\n",
    "    target = np.array(target)\n",
    "    predictions = np.array(predictions)\n",
    "    n = len(target)\n",
    "    summa = 0\n",
    "    for i in range(n):\n",
    "        summa += (abs(target[i] - predictions[i])) / ((abs(target[i]) + abs(predictions[i])) / 2) \n",
    "    result = (1 / n) * summa * 100\n",
    "    return result"
   ]
  },
  {
   "cell_type": "code",
   "execution_count": 33,
   "metadata": {},
   "outputs": [],
   "source": [
    "my_smape = make_scorer(score_func=smape, greater_is_better=False)"
   ]
  },
  {
   "attachments": {
    "image.png": {
     "image/png": "[encoded data removed]"
    }
   },
   "cell_type": "markdown",
   "metadata": {},
   "source": [
    "<div class=\"alert alert-info\" role=\"alert\">\n",
    "    \n",
    "![image.png](attachment:image.png)\n",
    "</div>\n"
   ]
  },
  {
   "cell_type": "code",
   "execution_count": 34,
   "metadata": {},
   "outputs": [],
   "source": [
    "def result_smape(smape_rougher, smape_final):\n",
    "    result = 0.25 * smape_rougher + 0.75 * smape_final\n",
    "    return result"
   ]
  },
  {
   "cell_type": "markdown",
   "metadata": {},
   "source": [
    "### Обучим разные модели и оценим их качество кросс-валидацией"
   ]
  },
  {
   "cell_type": "markdown",
   "metadata": {},
   "source": [
    "<div class=\"alert alert-info\" role=\"alert\">\n",
    "    Разделим датасет train на features и target\n",
    "</div>"
   ]
  },
  {
   "cell_type": "code",
   "execution_count": 35,
   "metadata": {},
   "outputs": [],
   "source": [
    "features = data_train.drop(['rougher.output.recovery', 'final.output.recovery'], axis=1)\n",
    "target_1 = data_train['rougher.output.recovery']\n",
    "target_2 = data_train['final.output.recovery']"
   ]
  },
  {
   "cell_type": "markdown",
   "metadata": {},
   "source": [
    "<div class=\"alert alert-info\" role=\"alert\">\n",
    "Смоделируем линейную регрессию для этой задачи\n",
    "</div>"
   ]
  },
  {
   "cell_type": "code",
   "execution_count": 36,
   "metadata": {},
   "outputs": [
    {
     "name": "stdout",
     "output_type": "stream",
     "text": [
      "Средняя оценка качества модели rougher.output.recover: -7.26569604756598\n",
      "Средняя оценка качества модели final.output.recovery: -10.950532500993159\n",
      "Итоговое sMAPE: -10.029323387636364\n"
     ]
    }
   ],
   "source": [
    "model_1 = LinearRegression()\n",
    "scores_1 = cross_val_score(model_1, features, target_1, cv=5, scoring=my_smape) \n",
    "smape_rougher = pd.Series(scores_1).mean()\n",
    "print('Средняя оценка качества модели rougher.output.recover:', smape_rougher)\n",
    "\n",
    "model_2 = LinearRegression()\n",
    "scores_2 = cross_val_score(model_2, features, target_2, cv=5, scoring=my_smape) \n",
    "smape_final = pd.Series(scores_2).mean()\n",
    "print('Средняя оценка качества модели final.output.recovery:', smape_final)\n",
    "\n",
    "print('Итоговое sMAPE:', result_smape(smape_rougher, smape_final))"
   ]
  },
  {
   "cell_type": "markdown",
   "metadata": {},
   "source": [
    "<div class=\"alert alert-info\" role=\"alert\">\n",
    "Смоделируем решающее дерево для этой задачи\n",
    "</div>"
   ]
  },
  {
   "cell_type": "code",
   "execution_count": 37,
   "metadata": {
    "scrolled": true
   },
   "outputs": [
    {
     "name": "stdout",
     "output_type": "stream",
     "text": [
      "Средняя оценка качества модели rougher.output.recover: -13.467548375490589\n",
      "Средняя оценка качества модели final.output.recovery: -14.641635517774517\n",
      "Итоговое sMAPE: -14.348113732203535\n"
     ]
    }
   ],
   "source": [
    "model_1 = DecisionTreeRegressor(random_state=27)\n",
    "scores_1 = cross_val_score(model_1, features, target_1, cv=5, scoring=my_smape) \n",
    "smape_rougher = pd.Series(scores_1).mean()\n",
    "print('Средняя оценка качества модели rougher.output.recover:', smape_rougher)\n",
    "\n",
    "model_2 = DecisionTreeRegressor(random_state=27)\n",
    "scores_2 = cross_val_score(model_2, features, target_2, cv=5, scoring=my_smape) \n",
    "smape_final = pd.Series(scores_2).mean()\n",
    "print('Средняя оценка качества модели final.output.recovery:', smape_final)\n",
    "\n",
    "print('Итоговое sMAPE:', result_smape(smape_rougher, smape_final))"
   ]
  },
  {
   "cell_type": "markdown",
   "metadata": {},
   "source": [
    "<div class=\"alert alert-info\" role=\"alert\">\n",
    "Смоделируем случайный лес для этой задачи\n",
    "</div>"
   ]
  },
  {
   "cell_type": "code",
   "execution_count": 38,
   "metadata": {},
   "outputs": [
    {
     "name": "stdout",
     "output_type": "stream",
     "text": [
      "Средняя оценка качества модели rougher.output.recover: -7.662965095364891\n",
      "Средняя оценка качества модели final.output.recovery: -10.200564842625711\n",
      "Итоговое sMAPE: -9.566164905810506\n"
     ]
    }
   ],
   "source": [
    "model_1 = RandomForestRegressor(random_state=27)\n",
    "scores_1 = cross_val_score(model_1, features, target_1, cv=5, scoring=my_smape) \n",
    "smape_rougher = pd.Series(scores_1).mean()\n",
    "print('Средняя оценка качества модели rougher.output.recover:', smape_rougher)\n",
    "\n",
    "model_2 = RandomForestRegressor(random_state=27)\n",
    "scores_2 = cross_val_score(model_2, features, target_2, cv=5, scoring=my_smape) \n",
    "smape_final = pd.Series(scores_2).mean()\n",
    "print('Средняя оценка качества модели final.output.recovery:', smape_final)\n",
    "\n",
    "print('Итоговое sMAPE:', result_smape(smape_rougher, smape_final))"
   ]
  },
  {
   "cell_type": "markdown",
   "metadata": {},
   "source": [
    "<div class=\"alert alert-info\" role=\"alert\">\n",
    "Вывод: лучше всего с задачей справляется случайный лес, поскольку оно имеет наибольший sMAPE. Используем теперь для него GridSearchCV, чтобы подобрать оптимальные параметры.\n",
    "</div>"
   ]
  },
  {
   "cell_type": "code",
   "execution_count": 48,
   "metadata": {},
   "outputs": [
    {
     "name": "stdout",
     "output_type": "stream",
     "text": [
      "{'max_depth': 4, 'n_estimators': 40}\n"
     ]
    }
   ],
   "source": [
    "parametrs = { 'n_estimators': range (10, 51, 10),\n",
    "              'max_depth': range (1,7, 1)}\n",
    "\n",
    "model_1 = RandomForestRegressor(random_state=27)\n",
    "grid_1 = GridSearchCV(model_1, parametrs, cv=5, scoring=my_smape)\n",
    "grid_1.fit(features, target_1)\n",
    "print(grid_1.best_params_)"
   ]
  },
  {
   "cell_type": "code",
   "execution_count": 49,
   "metadata": {},
   "outputs": [
    {
     "name": "stdout",
     "output_type": "stream",
     "text": [
      "Средняя оценка качества модели rougher.output.recovery: -6.633851312635171\n"
     ]
    }
   ],
   "source": [
    "smape_rougher = grid_1.best_score_\n",
    "print('Средняя оценка качества модели rougher.output.recovery:', smape_rougher)"
   ]
  },
  {
   "cell_type": "code",
   "execution_count": 50,
   "metadata": {},
   "outputs": [
    {
     "name": "stdout",
     "output_type": "stream",
     "text": [
      "{'max_depth': 4, 'n_estimators': 20}\n"
     ]
    }
   ],
   "source": [
    "model_2 = RandomForestRegressor(random_state=27)\n",
    "grid_2 = GridSearchCV(model_2, parametrs, cv=5, scoring=my_smape)\n",
    "grid_2.fit(features, target_2)\n",
    "print(grid_2.best_params_)"
   ]
  },
  {
   "cell_type": "code",
   "execution_count": 51,
   "metadata": {},
   "outputs": [
    {
     "name": "stdout",
     "output_type": "stream",
     "text": [
      "Средняя оценка качества модели final.output.recovery: -9.0161994102106\n"
     ]
    }
   ],
   "source": [
    "smape_final = grid_2.best_score_\n",
    "print('Средняя оценка качества модели final.output.recovery:', smape_final)"
   ]
  },
  {
   "cell_type": "code",
   "execution_count": 52,
   "metadata": {},
   "outputs": [
    {
     "name": "stdout",
     "output_type": "stream",
     "text": [
      "Итоговое sMAPE: -8.420612385816742\n"
     ]
    }
   ],
   "source": [
    "print('Итоговое sMAPE:', result_smape(smape_rougher, smape_final))"
   ]
  },
  {
   "cell_type": "markdown",
   "metadata": {},
   "source": [
    "### Предсказания на тестовой"
   ]
  },
  {
   "cell_type": "markdown",
   "metadata": {},
   "source": [
    "<div class=\"alert alert-info\" role=\"alert\">\n",
    "Используем теперь эту модель для предсказаний на тестовой выборке:\n",
    "</div>"
   ]
  },
  {
   "cell_type": "code",
   "execution_count": 53,
   "metadata": {},
   "outputs": [
    {
     "data": {
      "text/plain": [
       "(5123, 52)"
      ]
     },
     "execution_count": 53,
     "metadata": {},
     "output_type": "execute_result"
    }
   ],
   "source": [
    "data_test.shape"
   ]
  },
  {
   "cell_type": "markdown",
   "metadata": {},
   "source": [
    "<div class=\"alert alert-info\" role=\"alert\">\n",
    "В тестовых данных отсутствуют 2 целевых столбца, достанем их по индексам из data_full\n",
    "</div>"
   ]
  },
  {
   "cell_type": "code",
   "execution_count": 54,
   "metadata": {},
   "outputs": [
    {
     "data": {
      "text/plain": [
       "(5123, 54)"
      ]
     },
     "execution_count": 54,
     "metadata": {},
     "output_type": "execute_result"
    }
   ],
   "source": [
    "indexes = list(data_test.index)\n",
    "columns = list(data_train.columns)\n",
    "new_data_test = data_full.loc[indexes, columns]\n",
    "new_data_test.shape"
   ]
  },
  {
   "cell_type": "code",
   "execution_count": 55,
   "metadata": {
    "scrolled": true
   },
   "outputs": [
    {
     "data": {
      "text/plain": [
       "final.output.recovery                          0\n",
       "primary_cleaner.input.sulfate                  1\n",
       "primary_cleaner.input.depressant               2\n",
       "primary_cleaner.input.feed_size                0\n",
       "primary_cleaner.input.xanthate                 1\n",
       "primary_cleaner.state.floatbank8_a_air         0\n",
       "primary_cleaner.state.floatbank8_a_level       0\n",
       "primary_cleaner.state.floatbank8_b_air         0\n",
       "primary_cleaner.state.floatbank8_b_level       0\n",
       "primary_cleaner.state.floatbank8_c_air         0\n",
       "primary_cleaner.state.floatbank8_c_level       0\n",
       "primary_cleaner.state.floatbank8_d_air         0\n",
       "primary_cleaner.state.floatbank8_d_level       0\n",
       "rougher.input.feed_ag                          0\n",
       "rougher.input.feed_pb                          0\n",
       "rougher.input.feed_rate                        3\n",
       "rougher.input.feed_size                        1\n",
       "rougher.input.feed_sol                        20\n",
       "rougher.input.feed_au                          0\n",
       "rougher.input.floatbank10_sulfate              4\n",
       "rougher.input.floatbank10_xanthate             0\n",
       "rougher.input.floatbank11_sulfate              3\n",
       "rougher.input.floatbank11_xanthate            19\n",
       "rougher.output.recovery                        0\n",
       "rougher.state.floatbank10_a_air                0\n",
       "rougher.state.floatbank10_a_level              0\n",
       "rougher.state.floatbank10_b_air                0\n",
       "rougher.state.floatbank10_b_level              0\n",
       "rougher.state.floatbank10_c_air                0\n",
       "rougher.state.floatbank10_c_level              0\n",
       "rougher.state.floatbank10_d_air                0\n",
       "rougher.state.floatbank10_d_level              0\n",
       "rougher.state.floatbank10_e_air                0\n",
       "rougher.state.floatbank10_e_level              0\n",
       "rougher.state.floatbank10_f_air                0\n",
       "rougher.state.floatbank10_f_level              0\n",
       "secondary_cleaner.state.floatbank2_a_air       3\n",
       "secondary_cleaner.state.floatbank2_a_level     0\n",
       "secondary_cleaner.state.floatbank2_b_air       1\n",
       "secondary_cleaner.state.floatbank2_b_level     0\n",
       "secondary_cleaner.state.floatbank3_a_air       8\n",
       "secondary_cleaner.state.floatbank3_a_level     0\n",
       "secondary_cleaner.state.floatbank3_b_air       0\n",
       "secondary_cleaner.state.floatbank3_b_level     0\n",
       "secondary_cleaner.state.floatbank4_a_air       0\n",
       "secondary_cleaner.state.floatbank4_a_level     0\n",
       "secondary_cleaner.state.floatbank4_b_air       0\n",
       "secondary_cleaner.state.floatbank4_b_level     0\n",
       "secondary_cleaner.state.floatbank5_a_air       0\n",
       "secondary_cleaner.state.floatbank5_a_level     0\n",
       "secondary_cleaner.state.floatbank5_b_air       0\n",
       "secondary_cleaner.state.floatbank5_b_level     0\n",
       "secondary_cleaner.state.floatbank6_a_air       0\n",
       "secondary_cleaner.state.floatbank6_a_level     0\n",
       "dtype: int64"
      ]
     },
     "execution_count": 55,
     "metadata": {},
     "output_type": "execute_result"
    }
   ],
   "source": [
    "new_data_test.isna().sum()"
   ]
  },
  {
   "cell_type": "code",
   "execution_count": 56,
   "metadata": {},
   "outputs": [],
   "source": [
    "new_data_test = new_data_test.ffill()"
   ]
  },
  {
   "cell_type": "code",
   "execution_count": 57,
   "metadata": {},
   "outputs": [],
   "source": [
    "features_test = new_data_test.drop(['rougher.output.recovery', 'final.output.recovery'], axis=1)\n",
    "target_1_test = new_data_test['rougher.output.recovery']\n",
    "target_2_test = new_data_test['final.output.recovery']"
   ]
  },
  {
   "cell_type": "code",
   "execution_count": 58,
   "metadata": {},
   "outputs": [
    {
     "name": "stdout",
     "output_type": "stream",
     "text": [
      "sMAPE rougher: 4.735797948772284\n",
      "sMAPE final: 7.938608389215171\n",
      "Итоговое sMAPE: 7.137905779104449\n"
     ]
    }
   ],
   "source": [
    "model_1 = RandomForestRegressor(random_state=27, max_depth=4, n_estimators=40)\n",
    "model_1.fit(features, target_1)\n",
    "predictions_1 = model_1.predict(features_test)\n",
    "smape_rougher = smape(target_1_test, predictions_1)\n",
    "print('sMAPE rougher:', smape_rougher)\n",
    "\n",
    "model_2 = RandomForestRegressor(random_state=27, max_depth=4, n_estimators=20)\n",
    "model_2.fit(features, target_2)\n",
    "predictions_2 = model_2.predict(features_test)\n",
    "smape_final = smape(target_2_test, predictions_2)\n",
    "print('sMAPE final:', smape_final)\n",
    "\n",
    "print('Итоговое sMAPE:', result_smape(smape_rougher, smape_final))"
   ]
  },
  {
   "cell_type": "code",
   "execution_count": 60,
   "metadata": {},
   "outputs": [
    {
     "name": "stdout",
     "output_type": "stream",
     "text": [
      "sMAPE rougher: 5.3647809520682115\n",
      "sMAPE final: 8.582525522731482\n",
      "Итоговое sMAPE: 7.778089380065665\n"
     ]
    }
   ],
   "source": [
    "model_dummy_1 = DummyRegressor(strategy=\"mean\")\n",
    "model_dummy_1.fit(features, target_1)\n",
    "predictions_1 = model_dummy_1.predict(features_test)\n",
    "smape_rougher = smape(target_1_test, predictions_1)\n",
    "print('sMAPE rougher:', smape_rougher)\n",
    "\n",
    "model_dummy_2 = DummyRegressor(strategy=\"mean\")\n",
    "model_dummy_2.fit(features, target_2)\n",
    "predictions_2 = model_dummy_2.predict(features_test)\n",
    "smape_final = smape(target_2_test, predictions_2)\n",
    "print('sMAPE final:', smape_final)\n",
    "\n",
    "print('Итоговое sMAPE:', result_smape(smape_rougher, smape_final))"
   ]
  },
  {
   "cell_type": "markdown",
   "metadata": {},
   "source": [
    "<div class=\"alert alert-info\" role=\"alert\">\n",
    "Поскольку наша модель лучше чем константная, можно считать ее адекватной.\n",
    "</div>"
   ]
  },
  {
   "cell_type": "markdown",
   "metadata": {},
   "source": [
    "<div class=\"alert alert-info\" role=\"alert\">\n",
    "    <b>Итоговый вывод:</b> \n",
    "    \n",
    "В данном проекте нам необходимо было провести исследовательский анализ и спрогнозировать сразу 2 величины. \n",
    "\n",
    "- эффективность обогащения чернового концентрата rougher.output.recovery;\n",
    "- эффективность обогащения финального концентрата final.output.recovery.\n",
    "    \n",
    "Для этого мы предобработали данные, изучили и устранили аномалии.\n",
    "Далее создали функцию для нахождения sMAPE и применяя кросс-валидацию определили какая из моделей дает на наилучший результат. Лучше всех отработал случайный лес.\n",
    "\n",
    "Следующим этапом мы применили GridSearchCV для подбора наилучших параметров случайного леса и далее протестировали наилучший случайный лес на тестовых данных. \n",
    "\n",
    "На тестовой выборке:\n",
    "- sMAPE rougher: 4.735797948772284\n",
    "- sMAPE final: 7.938608389215171\n",
    "- Итоговое sMAPE: 7.137905779104449\n",
    "    \n",
    "</div>"
   ]
  },
  {
   "cell_type": "markdown",
   "metadata": {},
   "source": [
    "## Чек-лист готовности проекта"
   ]
  },
  {
   "cell_type": "markdown",
   "metadata": {},
   "source": [
    "- [x]  Jupyter Notebook открыт\n",
    "- [x]  Весь код выполняется без ошибок\n",
    "- [x]  Ячейки с кодом расположены в порядке выполнения\n",
    "- [x]  Выполнен шаг 1: данные подготовлены\n",
    "    - [x]  Проверена формула вычисления эффективности обогащения\n",
    "    - [x]  Проанализированы признаки, недоступные в тестовой выборке\n",
    "    - [x]  Проведена предобработка данных\n",
    "- [x]  Выполнен шаг 2: данные проанализированы\n",
    "    - [x]  Исследовано изменение концентрации элементов на каждом этапе\n",
    "    - [x]  Проанализированы распределения размеров гранул на обучающей и тестовой выборках\n",
    "    - [x]  Исследованы суммарные концентрации\n",
    "- [x]  Выполнен шаг 3: построена модель прогнозирования\n",
    "    - [x]  Написана функция для вычисления итогового *sMAPE*\n",
    "    - [x]  Обучено и проверено несколько моделей\n",
    "    - [x]  Выбрана лучшая модель, её качество проверено на тестовой выборке"
   ]
  },
  {
   "cell_type": "code",
   "execution_count": null,
   "metadata": {},
   "outputs": [],
   "source": []
  }
 ],
 "metadata": {
  "ExecuteTimeLog": [
   {
    "duration": 1125,
    "start_time": "2022-03-09T13:53:57.841Z"
   },
   {
    "duration": 3,
    "start_time": "2022-03-09T13:53:58.968Z"
   },
   {
    "duration": 665,
    "start_time": "2022-03-09T13:55:21.626Z"
   },
   {
    "duration": 23,
    "start_time": "2022-03-09T13:57:17.897Z"
   },
   {
    "duration": 27,
    "start_time": "2022-03-09T13:58:25.950Z"
   },
   {
    "duration": 18,
    "start_time": "2022-03-09T13:58:45.501Z"
   },
   {
    "duration": 16,
    "start_time": "2022-03-09T13:58:56.068Z"
   },
   {
    "duration": 402,
    "start_time": "2022-03-09T13:59:07.861Z"
   },
   {
    "duration": 12,
    "start_time": "2022-03-09T13:59:15.596Z"
   },
   {
    "duration": 3,
    "start_time": "2022-03-09T14:47:52.021Z"
   },
   {
    "duration": 18,
    "start_time": "2022-03-09T14:49:14.315Z"
   },
   {
    "duration": 224,
    "start_time": "2022-03-09T14:55:54.824Z"
   },
   {
    "duration": 10,
    "start_time": "2022-03-09T14:56:26.986Z"
   },
   {
    "duration": 8,
    "start_time": "2022-03-09T14:56:31.292Z"
   },
   {
    "duration": 816,
    "start_time": "2022-03-09T15:01:19.054Z"
   },
   {
    "duration": 18,
    "start_time": "2022-03-09T15:01:21.420Z"
   },
   {
    "duration": 717,
    "start_time": "2022-03-09T15:03:48.339Z"
   },
   {
    "duration": 18,
    "start_time": "2022-03-09T15:03:50.227Z"
   },
   {
    "duration": 14,
    "start_time": "2022-03-09T15:03:51.291Z"
   },
   {
    "duration": 20,
    "start_time": "2022-03-09T15:04:35.578Z"
   },
   {
    "duration": 10,
    "start_time": "2022-03-09T15:04:47.689Z"
   },
   {
    "duration": 17,
    "start_time": "2022-03-09T15:08:54.628Z"
   },
   {
    "duration": 16,
    "start_time": "2022-03-09T15:09:03.308Z"
   },
   {
    "duration": 241,
    "start_time": "2022-03-09T15:11:02.934Z"
   },
   {
    "duration": 88,
    "start_time": "2022-03-09T15:19:10.763Z"
   },
   {
    "duration": 229,
    "start_time": "2022-03-09T15:19:24.935Z"
   },
   {
    "duration": 5,
    "start_time": "2022-03-09T15:22:41.243Z"
   },
   {
    "duration": 5724,
    "start_time": "2022-03-09T15:22:50.675Z"
   },
   {
    "duration": 266,
    "start_time": "2022-03-09T15:27:09.294Z"
   },
   {
    "duration": 234,
    "start_time": "2022-03-09T15:31:39.944Z"
   },
   {
    "duration": 729,
    "start_time": "2022-03-09T15:33:45.925Z"
   },
   {
    "duration": 19,
    "start_time": "2022-03-09T15:33:48.819Z"
   },
   {
    "duration": 16,
    "start_time": "2022-03-09T15:33:49.261Z"
   },
   {
    "duration": 19,
    "start_time": "2022-03-09T15:33:49.774Z"
   },
   {
    "duration": 17,
    "start_time": "2022-03-09T15:33:50.310Z"
   },
   {
    "duration": 233,
    "start_time": "2022-03-09T15:34:15.999Z"
   },
   {
    "duration": 246,
    "start_time": "2022-03-09T15:38:24.688Z"
   },
   {
    "duration": 1551,
    "start_time": "2022-03-09T15:38:53.751Z"
   },
   {
    "duration": 258,
    "start_time": "2022-03-09T15:39:58.798Z"
   },
   {
    "duration": 233,
    "start_time": "2022-03-09T15:40:06.429Z"
   },
   {
    "duration": 261,
    "start_time": "2022-03-09T15:40:13.998Z"
   },
   {
    "duration": 229,
    "start_time": "2022-03-09T15:40:51.419Z"
   },
   {
    "duration": 236,
    "start_time": "2022-03-09T15:41:07.619Z"
   },
   {
    "duration": 234,
    "start_time": "2022-03-09T15:41:26.956Z"
   },
   {
    "duration": 228,
    "start_time": "2022-03-09T15:41:40.907Z"
   },
   {
    "duration": 9,
    "start_time": "2022-03-09T15:42:36.323Z"
   },
   {
    "duration": 274,
    "start_time": "2022-03-09T15:44:09.905Z"
   },
   {
    "duration": 290,
    "start_time": "2022-03-09T15:44:33.696Z"
   },
   {
    "duration": 688,
    "start_time": "2022-03-09T15:45:16.175Z"
   },
   {
    "duration": 18,
    "start_time": "2022-03-09T15:45:18.636Z"
   },
   {
    "duration": 15,
    "start_time": "2022-03-09T15:45:19.574Z"
   },
   {
    "duration": 17,
    "start_time": "2022-03-09T15:45:20.174Z"
   },
   {
    "duration": 15,
    "start_time": "2022-03-09T15:45:20.766Z"
   },
   {
    "duration": 84,
    "start_time": "2022-03-09T15:45:43.054Z"
   },
   {
    "duration": 240,
    "start_time": "2022-03-09T15:45:46.470Z"
   },
   {
    "duration": 241,
    "start_time": "2022-03-09T15:47:23.547Z"
   },
   {
    "duration": 241,
    "start_time": "2022-03-09T15:47:31.900Z"
   },
   {
    "duration": 17,
    "start_time": "2022-03-09T15:48:00.251Z"
   },
   {
    "duration": 5,
    "start_time": "2022-03-09T15:49:50.176Z"
   },
   {
    "duration": 15,
    "start_time": "2022-03-09T15:49:59.896Z"
   },
   {
    "duration": 39,
    "start_time": "2022-03-09T15:50:11.144Z"
   },
   {
    "duration": 27,
    "start_time": "2022-03-09T15:50:47.864Z"
   },
   {
    "duration": 5,
    "start_time": "2022-03-09T15:51:25.041Z"
   },
   {
    "duration": 185,
    "start_time": "2022-03-09T15:51:40.374Z"
   },
   {
    "duration": 170,
    "start_time": "2022-03-09T15:51:52.454Z"
   },
   {
    "duration": 258,
    "start_time": "2022-03-09T15:52:32.614Z"
   },
   {
    "duration": 27,
    "start_time": "2022-03-09T15:58:37.975Z"
   },
   {
    "duration": 8,
    "start_time": "2022-03-09T15:58:41.661Z"
   },
   {
    "duration": 8,
    "start_time": "2022-03-09T16:13:19.524Z"
   },
   {
    "duration": 96,
    "start_time": "2022-03-09T16:14:20.640Z"
   },
   {
    "duration": 1512,
    "start_time": "2022-03-10T14:12:24.809Z"
   },
   {
    "duration": 8,
    "start_time": "2022-03-10T14:12:26.324Z"
   },
   {
    "duration": 881,
    "start_time": "2022-03-10T14:12:27.352Z"
   },
   {
    "duration": 32,
    "start_time": "2022-03-10T14:12:29.160Z"
   },
   {
    "duration": 23,
    "start_time": "2022-03-10T14:12:30.272Z"
   },
   {
    "duration": 45,
    "start_time": "2022-03-10T14:12:30.945Z"
   },
   {
    "duration": 23,
    "start_time": "2022-03-10T14:12:31.743Z"
   },
   {
    "duration": 18,
    "start_time": "2022-03-10T14:12:33.440Z"
   },
   {
    "duration": 12,
    "start_time": "2022-03-10T14:12:36.831Z"
   },
   {
    "duration": 7,
    "start_time": "2022-03-10T14:20:05.469Z"
   },
   {
    "duration": 9,
    "start_time": "2022-03-10T14:22:34.058Z"
   },
   {
    "duration": 6,
    "start_time": "2022-03-10T14:22:41.363Z"
   },
   {
    "duration": 19,
    "start_time": "2022-03-10T14:26:29.310Z"
   },
   {
    "duration": 7,
    "start_time": "2022-03-10T14:26:30.830Z"
   },
   {
    "duration": 6,
    "start_time": "2022-03-10T14:26:59.013Z"
   },
   {
    "duration": 468,
    "start_time": "2022-03-10T14:29:30.736Z"
   },
   {
    "duration": 42,
    "start_time": "2022-03-10T14:30:09.991Z"
   },
   {
    "duration": 17,
    "start_time": "2022-03-10T14:30:20.994Z"
   },
   {
    "duration": 538,
    "start_time": "2022-03-10T14:30:36.553Z"
   },
   {
    "duration": 553,
    "start_time": "2022-03-10T14:30:39.865Z"
   },
   {
    "duration": 636,
    "start_time": "2022-03-10T14:30:42.145Z"
   },
   {
    "duration": 17,
    "start_time": "2022-03-10T14:30:50.394Z"
   },
   {
    "duration": 21,
    "start_time": "2022-03-10T14:35:14.696Z"
   },
   {
    "duration": 9,
    "start_time": "2022-03-10T14:36:17.282Z"
   },
   {
    "duration": 11,
    "start_time": "2022-03-10T14:36:34.557Z"
   },
   {
    "duration": 9,
    "start_time": "2022-03-10T14:36:41.961Z"
   },
   {
    "duration": 395,
    "start_time": "2022-03-10T14:37:16.609Z"
   },
   {
    "duration": 107,
    "start_time": "2022-03-10T14:37:23.726Z"
   },
   {
    "duration": 13,
    "start_time": "2022-03-10T14:52:27.957Z"
   },
   {
    "duration": 332,
    "start_time": "2022-03-10T15:14:28.192Z"
   },
   {
    "duration": 8,
    "start_time": "2022-03-10T15:14:32.968Z"
   },
   {
    "duration": 6,
    "start_time": "2022-03-10T15:15:52.521Z"
   },
   {
    "duration": 4,
    "start_time": "2022-03-10T15:15:53.600Z"
   },
   {
    "duration": 875,
    "start_time": "2022-03-10T15:15:54.088Z"
   },
   {
    "duration": 30,
    "start_time": "2022-03-10T15:15:55.696Z"
   },
   {
    "duration": 23,
    "start_time": "2022-03-10T15:15:56.865Z"
   },
   {
    "duration": 14,
    "start_time": "2022-03-10T15:15:58.785Z"
   },
   {
    "duration": 11,
    "start_time": "2022-03-10T15:15:59.304Z"
   },
   {
    "duration": 15,
    "start_time": "2022-03-10T15:15:59.905Z"
   },
   {
    "duration": 7,
    "start_time": "2022-03-10T15:16:01.280Z"
   },
   {
    "duration": 11,
    "start_time": "2022-03-10T15:16:03.689Z"
   },
   {
    "duration": 20,
    "start_time": "2022-03-10T15:16:09.745Z"
   },
   {
    "duration": 12,
    "start_time": "2022-03-10T15:16:21.144Z"
   },
   {
    "duration": 17,
    "start_time": "2022-03-10T15:16:34.584Z"
   },
   {
    "duration": 105,
    "start_time": "2022-03-10T15:16:39.328Z"
   },
   {
    "duration": 24,
    "start_time": "2022-03-10T15:16:48.015Z"
   },
   {
    "duration": 323,
    "start_time": "2022-03-10T15:26:25.728Z"
   },
   {
    "duration": 6,
    "start_time": "2022-03-10T15:36:53.710Z"
   },
   {
    "duration": 299,
    "start_time": "2022-03-10T15:40:32.657Z"
   },
   {
    "duration": 6,
    "start_time": "2022-03-10T15:48:34.752Z"
   },
   {
    "duration": 10,
    "start_time": "2022-03-10T15:48:57.318Z"
   },
   {
    "duration": 381,
    "start_time": "2022-03-10T16:00:09.488Z"
   },
   {
    "duration": 575,
    "start_time": "2022-03-10T16:00:26.551Z"
   },
   {
    "duration": 192,
    "start_time": "2022-03-10T16:01:21.719Z"
   },
   {
    "duration": 311,
    "start_time": "2022-03-10T16:02:24.862Z"
   },
   {
    "duration": 190,
    "start_time": "2022-03-10T16:02:54.581Z"
   },
   {
    "duration": 202,
    "start_time": "2022-03-10T16:07:21.981Z"
   },
   {
    "duration": 268,
    "start_time": "2022-03-10T16:07:31.575Z"
   },
   {
    "duration": 215,
    "start_time": "2022-03-10T16:07:43.431Z"
   },
   {
    "duration": 13,
    "start_time": "2022-03-10T16:13:05.784Z"
   },
   {
    "duration": 340,
    "start_time": "2022-03-10T16:23:38.570Z"
   },
   {
    "duration": 299,
    "start_time": "2022-03-10T16:24:16.514Z"
   },
   {
    "duration": 364,
    "start_time": "2022-03-10T16:24:30.145Z"
   },
   {
    "duration": 374,
    "start_time": "2022-03-10T16:24:34.425Z"
   },
   {
    "duration": 286,
    "start_time": "2022-03-10T16:24:56.458Z"
   },
   {
    "duration": 282,
    "start_time": "2022-03-10T16:25:14.041Z"
   },
   {
    "duration": 29,
    "start_time": "2022-03-10T16:34:24.925Z"
   },
   {
    "duration": 6,
    "start_time": "2022-03-10T16:35:15.037Z"
   },
   {
    "duration": 19,
    "start_time": "2022-03-10T16:35:22.029Z"
   },
   {
    "duration": 1449,
    "start_time": "2022-03-11T14:01:28.860Z"
   },
   {
    "duration": 4,
    "start_time": "2022-03-11T14:01:30.869Z"
   },
   {
    "duration": 949,
    "start_time": "2022-03-11T14:01:31.220Z"
   },
   {
    "duration": 35,
    "start_time": "2022-03-11T14:01:32.955Z"
   },
   {
    "duration": 22,
    "start_time": "2022-03-11T14:01:33.827Z"
   },
   {
    "duration": 20,
    "start_time": "2022-03-11T14:01:35.524Z"
   },
   {
    "duration": 11,
    "start_time": "2022-03-11T14:01:36.028Z"
   },
   {
    "duration": 18,
    "start_time": "2022-03-11T14:01:36.512Z"
   },
   {
    "duration": 8,
    "start_time": "2022-03-11T14:01:38.589Z"
   },
   {
    "duration": 11,
    "start_time": "2022-03-11T14:01:39.148Z"
   },
   {
    "duration": 24,
    "start_time": "2022-03-11T14:01:41.500Z"
   },
   {
    "duration": 11,
    "start_time": "2022-03-11T14:01:42.420Z"
   },
   {
    "duration": 15,
    "start_time": "2022-03-11T14:01:42.876Z"
   },
   {
    "duration": 106,
    "start_time": "2022-03-11T14:01:44.076Z"
   },
   {
    "duration": 31,
    "start_time": "2022-03-11T14:02:29.124Z"
   },
   {
    "duration": 307,
    "start_time": "2022-03-11T14:09:26.629Z"
   },
   {
    "duration": 309,
    "start_time": "2022-03-11T14:09:41.940Z"
   },
   {
    "duration": 300,
    "start_time": "2022-03-11T14:10:10.804Z"
   },
   {
    "duration": 430,
    "start_time": "2022-03-11T14:10:28.389Z"
   },
   {
    "duration": 428,
    "start_time": "2022-03-11T14:10:45.051Z"
   },
   {
    "duration": 461,
    "start_time": "2022-03-11T14:10:53.147Z"
   },
   {
    "duration": 513,
    "start_time": "2022-03-11T14:11:00.158Z"
   },
   {
    "duration": 391,
    "start_time": "2022-03-11T14:11:34.930Z"
   },
   {
    "duration": 422,
    "start_time": "2022-03-11T14:11:55.810Z"
   },
   {
    "duration": 408,
    "start_time": "2022-03-11T14:12:11.722Z"
   },
   {
    "duration": 403,
    "start_time": "2022-03-11T14:12:16.673Z"
   },
   {
    "duration": 431,
    "start_time": "2022-03-11T14:12:51.112Z"
   },
   {
    "duration": 408,
    "start_time": "2022-03-11T14:12:56.440Z"
   },
   {
    "duration": 286,
    "start_time": "2022-03-11T14:16:41.708Z"
   },
   {
    "duration": 288,
    "start_time": "2022-03-11T14:16:42.740Z"
   },
   {
    "duration": 328,
    "start_time": "2022-03-11T14:34:14.612Z"
   },
   {
    "duration": 299,
    "start_time": "2022-03-11T14:38:27.704Z"
   },
   {
    "duration": 401,
    "start_time": "2022-03-11T14:39:57.696Z"
   },
   {
    "duration": 350,
    "start_time": "2022-03-11T14:42:00.410Z"
   },
   {
    "duration": 322,
    "start_time": "2022-03-11T14:42:11.820Z"
   },
   {
    "duration": 334,
    "start_time": "2022-03-11T14:47:46.910Z"
   },
   {
    "duration": 13,
    "start_time": "2022-03-11T15:38:01.154Z"
   },
   {
    "duration": 416,
    "start_time": "2022-03-11T15:38:13.028Z"
   },
   {
    "duration": 11,
    "start_time": "2022-03-11T15:38:23.660Z"
   },
   {
    "duration": 12,
    "start_time": "2022-03-11T15:38:49.851Z"
   },
   {
    "duration": 14,
    "start_time": "2022-03-11T15:39:01.220Z"
   },
   {
    "duration": 345,
    "start_time": "2022-03-11T15:41:02.056Z"
   },
   {
    "duration": 276,
    "start_time": "2022-03-11T15:41:34.584Z"
   },
   {
    "duration": 11,
    "start_time": "2022-03-11T15:42:24.015Z"
   },
   {
    "duration": 7,
    "start_time": "2022-03-11T16:11:58.231Z"
   },
   {
    "duration": 5,
    "start_time": "2022-03-11T16:12:58.718Z"
   },
   {
    "duration": 10,
    "start_time": "2022-03-11T16:15:29.666Z"
   },
   {
    "duration": 7,
    "start_time": "2022-03-11T16:17:25.508Z"
   },
   {
    "duration": 4,
    "start_time": "2022-03-11T16:17:33.007Z"
   },
   {
    "duration": 5,
    "start_time": "2022-03-11T16:21:50.834Z"
   },
   {
    "duration": 22,
    "start_time": "2022-03-11T16:23:27.403Z"
   },
   {
    "duration": 283,
    "start_time": "2022-03-11T16:31:10.499Z"
   },
   {
    "duration": 285,
    "start_time": "2022-03-11T16:31:23.453Z"
   },
   {
    "duration": 288,
    "start_time": "2022-03-11T16:31:42.821Z"
   },
   {
    "duration": 23,
    "start_time": "2022-03-11T16:32:40.404Z"
   },
   {
    "duration": 1045,
    "start_time": "2022-03-11T16:32:48.485Z"
   },
   {
    "duration": 1162,
    "start_time": "2022-03-12T08:27:35.173Z"
   },
   {
    "duration": 3,
    "start_time": "2022-03-12T08:27:36.735Z"
   },
   {
    "duration": 733,
    "start_time": "2022-03-12T08:27:36.964Z"
   },
   {
    "duration": 25,
    "start_time": "2022-03-12T08:27:37.699Z"
   },
   {
    "duration": 16,
    "start_time": "2022-03-12T08:27:37.786Z"
   },
   {
    "duration": 13,
    "start_time": "2022-03-12T08:27:39.117Z"
   },
   {
    "duration": 9,
    "start_time": "2022-03-12T08:27:39.366Z"
   },
   {
    "duration": 16,
    "start_time": "2022-03-12T08:27:39.629Z"
   },
   {
    "duration": 5,
    "start_time": "2022-03-12T08:27:40.401Z"
   },
   {
    "duration": 8,
    "start_time": "2022-03-12T08:27:40.652Z"
   },
   {
    "duration": 16,
    "start_time": "2022-03-12T08:27:41.690Z"
   },
   {
    "duration": 7,
    "start_time": "2022-03-12T08:27:42.174Z"
   },
   {
    "duration": 12,
    "start_time": "2022-03-12T08:27:42.444Z"
   },
   {
    "duration": 71,
    "start_time": "2022-03-12T08:27:42.911Z"
   },
   {
    "duration": 20,
    "start_time": "2022-03-12T08:27:43.894Z"
   },
   {
    "duration": 276,
    "start_time": "2022-03-12T08:27:44.894Z"
   },
   {
    "duration": 262,
    "start_time": "2022-03-12T08:27:45.172Z"
   },
   {
    "duration": 253,
    "start_time": "2022-03-12T08:27:45.450Z"
   },
   {
    "duration": 184,
    "start_time": "2022-03-12T08:27:46.695Z"
   },
   {
    "duration": 196,
    "start_time": "2022-03-12T08:27:46.888Z"
   },
   {
    "duration": 203,
    "start_time": "2022-03-12T08:27:47.533Z"
   },
   {
    "duration": 251,
    "start_time": "2022-03-12T08:27:47.739Z"
   },
   {
    "duration": 229,
    "start_time": "2022-03-12T08:27:47.992Z"
   },
   {
    "duration": 205,
    "start_time": "2022-03-12T08:27:48.249Z"
   },
   {
    "duration": 11,
    "start_time": "2022-03-12T08:27:48.814Z"
   },
   {
    "duration": 10,
    "start_time": "2022-03-12T08:27:49.264Z"
   },
   {
    "duration": 5,
    "start_time": "2022-03-12T08:27:50.807Z"
   },
   {
    "duration": 12,
    "start_time": "2022-03-12T08:27:50.814Z"
   },
   {
    "duration": 914,
    "start_time": "2022-03-12T08:27:50.843Z"
   },
   {
    "duration": 4,
    "start_time": "2022-03-12T08:40:39.582Z"
   },
   {
    "duration": 3,
    "start_time": "2022-03-12T08:40:40.485Z"
   },
   {
    "duration": 769,
    "start_time": "2022-03-12T08:40:41.162Z"
   },
   {
    "duration": 26,
    "start_time": "2022-03-12T08:41:10.562Z"
   },
   {
    "duration": 7,
    "start_time": "2022-03-12T08:41:15.141Z"
   },
   {
    "duration": 1187,
    "start_time": "2022-03-12T08:45:32.385Z"
   },
   {
    "duration": 72,
    "start_time": "2022-03-12T08:45:40.403Z"
   },
   {
    "duration": 1158,
    "start_time": "2022-03-12T08:45:43.270Z"
   },
   {
    "duration": 4,
    "start_time": "2022-03-12T08:49:18.146Z"
   },
   {
    "duration": 1178,
    "start_time": "2022-03-12T08:49:22.861Z"
   },
   {
    "duration": 4,
    "start_time": "2022-03-12T08:49:34.732Z"
   },
   {
    "duration": 3,
    "start_time": "2022-03-12T08:49:35.957Z"
   },
   {
    "duration": 1244,
    "start_time": "2022-03-12T08:49:40.863Z"
   },
   {
    "duration": 5,
    "start_time": "2022-03-12T08:53:39.133Z"
   },
   {
    "duration": 3,
    "start_time": "2022-03-12T08:53:40.962Z"
   },
   {
    "duration": 1233,
    "start_time": "2022-03-12T08:53:41.707Z"
   },
   {
    "duration": 3,
    "start_time": "2022-03-12T08:56:10.754Z"
   },
   {
    "duration": 1180,
    "start_time": "2022-03-12T08:56:12.234Z"
   },
   {
    "duration": 234,
    "start_time": "2022-03-12T08:58:38.493Z"
   },
   {
    "duration": 638,
    "start_time": "2022-03-12T08:58:57.186Z"
   },
   {
    "duration": 226,
    "start_time": "2022-03-12T08:59:36.550Z"
   },
   {
    "duration": 755,
    "start_time": "2022-03-12T09:04:26.395Z"
   },
   {
    "duration": 717,
    "start_time": "2022-03-12T09:05:30.597Z"
   },
   {
    "duration": 2,
    "start_time": "2022-03-12T09:06:10.761Z"
   },
   {
    "duration": 693,
    "start_time": "2022-03-12T09:06:12.304Z"
   },
   {
    "duration": 4,
    "start_time": "2022-03-12T09:06:29.244Z"
   },
   {
    "duration": 3,
    "start_time": "2022-03-12T09:06:30.268Z"
   },
   {
    "duration": 5172,
    "start_time": "2022-03-12T09:06:30.993Z"
   },
   {
    "duration": 3,
    "start_time": "2022-03-12T09:09:17.234Z"
   },
   {
    "duration": 5152,
    "start_time": "2022-03-12T09:09:18.041Z"
   },
   {
    "duration": 3,
    "start_time": "2022-03-12T09:09:33.366Z"
   },
   {
    "duration": 4991,
    "start_time": "2022-03-12T09:09:34.795Z"
   },
   {
    "duration": 6,
    "start_time": "2022-03-12T09:52:22.543Z"
   },
   {
    "duration": 12,
    "start_time": "2022-03-12T09:55:54.606Z"
   },
   {
    "duration": 3,
    "start_time": "2022-03-12T10:01:00.668Z"
   },
   {
    "duration": 7,
    "start_time": "2022-03-12T10:01:05.823Z"
   },
   {
    "duration": 4,
    "start_time": "2022-03-12T10:05:00.589Z"
   },
   {
    "duration": 229,
    "start_time": "2022-03-12T10:05:38.770Z"
   },
   {
    "duration": 241,
    "start_time": "2022-03-12T10:05:51.444Z"
   },
   {
    "duration": 2413,
    "start_time": "2022-03-12T10:06:23.895Z"
   },
   {
    "duration": 4,
    "start_time": "2022-03-12T10:06:38.455Z"
   },
   {
    "duration": 3,
    "start_time": "2022-03-12T10:06:39.113Z"
   },
   {
    "duration": 3,
    "start_time": "2022-03-12T10:06:40.185Z"
   },
   {
    "duration": 6,
    "start_time": "2022-03-12T10:06:41.210Z"
   },
   {
    "duration": 2468,
    "start_time": "2022-03-12T10:06:42.538Z"
   },
   {
    "duration": 7902,
    "start_time": "2022-03-12T10:10:11.535Z"
   },
   {
    "duration": 3,
    "start_time": "2022-03-12T10:10:43.741Z"
   },
   {
    "duration": 6,
    "start_time": "2022-03-12T10:10:45.146Z"
   },
   {
    "duration": 2368,
    "start_time": "2022-03-12T10:10:46.142Z"
   },
   {
    "duration": 7980,
    "start_time": "2022-03-12T10:10:50.291Z"
   },
   {
    "duration": 45410,
    "start_time": "2022-03-12T10:12:41.469Z"
   },
   {
    "duration": 220,
    "start_time": "2022-03-12T10:33:19.931Z"
   },
   {
    "duration": 5,
    "start_time": "2022-03-12T10:33:54.869Z"
   },
   {
    "duration": 153,
    "start_time": "2022-03-12T10:34:14.225Z"
   },
   {
    "duration": 510877,
    "start_time": "2022-03-12T10:34:34.627Z"
   },
   {
    "duration": 9240,
    "start_time": "2022-03-12T10:46:08.019Z"
   },
   {
    "duration": 3,
    "start_time": "2022-03-12T10:48:57.204Z"
   },
   {
    "duration": 3,
    "start_time": "2022-03-12T10:49:54.016Z"
   },
   {
    "duration": 4,
    "start_time": "2022-03-12T10:50:40.471Z"
   },
   {
    "duration": 66272,
    "start_time": "2022-03-12T10:51:18.319Z"
   },
   {
    "duration": -1646,
    "start_time": "2022-03-12T10:52:26.240Z"
   },
   {
    "duration": 4,
    "start_time": "2022-03-12T10:53:47.302Z"
   },
   {
    "duration": 3,
    "start_time": "2022-03-12T10:53:49.207Z"
   },
   {
    "duration": 708,
    "start_time": "2022-03-12T10:53:50.440Z"
   },
   {
    "duration": 21,
    "start_time": "2022-03-12T10:53:53.220Z"
   },
   {
    "duration": 15,
    "start_time": "2022-03-12T10:53:53.890Z"
   },
   {
    "duration": 11,
    "start_time": "2022-03-12T10:53:55.837Z"
   },
   {
    "duration": 9,
    "start_time": "2022-03-12T10:53:56.258Z"
   },
   {
    "duration": 13,
    "start_time": "2022-03-12T10:53:56.809Z"
   },
   {
    "duration": 5,
    "start_time": "2022-03-12T10:53:58.531Z"
   },
   {
    "duration": 9,
    "start_time": "2022-03-12T10:53:59.056Z"
   },
   {
    "duration": 15,
    "start_time": "2022-03-12T10:54:11.952Z"
   },
   {
    "duration": 9,
    "start_time": "2022-03-12T10:54:13.078Z"
   },
   {
    "duration": 13,
    "start_time": "2022-03-12T10:54:13.916Z"
   },
   {
    "duration": 74,
    "start_time": "2022-03-12T10:54:14.849Z"
   },
   {
    "duration": 16,
    "start_time": "2022-03-12T10:54:16.555Z"
   },
   {
    "duration": 267,
    "start_time": "2022-03-12T10:54:18.198Z"
   },
   {
    "duration": 255,
    "start_time": "2022-03-12T10:54:18.569Z"
   },
   {
    "duration": 265,
    "start_time": "2022-03-12T10:54:19.034Z"
   },
   {
    "duration": 191,
    "start_time": "2022-03-12T10:54:24.410Z"
   },
   {
    "duration": 189,
    "start_time": "2022-03-12T10:54:26.079Z"
   },
   {
    "duration": 205,
    "start_time": "2022-03-12T10:54:28.647Z"
   },
   {
    "duration": 266,
    "start_time": "2022-03-12T10:54:29.933Z"
   },
   {
    "duration": 211,
    "start_time": "2022-03-12T10:54:30.736Z"
   },
   {
    "duration": 201,
    "start_time": "2022-03-12T10:54:31.489Z"
   },
   {
    "duration": 9,
    "start_time": "2022-03-12T10:55:04.987Z"
   },
   {
    "duration": 4,
    "start_time": "2022-03-12T11:00:40.268Z"
   },
   {
    "duration": 3,
    "start_time": "2022-03-12T11:00:40.706Z"
   },
   {
    "duration": 714,
    "start_time": "2022-03-12T11:01:27.381Z"
   },
   {
    "duration": 21,
    "start_time": "2022-03-12T11:01:46.697Z"
   },
   {
    "duration": 15,
    "start_time": "2022-03-12T11:01:47.223Z"
   },
   {
    "duration": 11,
    "start_time": "2022-03-12T11:01:49.274Z"
   },
   {
    "duration": 10,
    "start_time": "2022-03-12T11:01:49.847Z"
   },
   {
    "duration": 15,
    "start_time": "2022-03-12T11:01:50.424Z"
   },
   {
    "duration": 6,
    "start_time": "2022-03-12T11:02:22.944Z"
   },
   {
    "duration": 8,
    "start_time": "2022-03-12T11:02:42.012Z"
   },
   {
    "duration": 15,
    "start_time": "2022-03-12T11:02:44.056Z"
   },
   {
    "duration": 7,
    "start_time": "2022-03-12T11:02:45.036Z"
   },
   {
    "duration": 12,
    "start_time": "2022-03-12T11:02:45.532Z"
   },
   {
    "duration": 69,
    "start_time": "2022-03-12T11:02:46.523Z"
   },
   {
    "duration": 16,
    "start_time": "2022-03-12T11:02:48.463Z"
   },
   {
    "duration": 263,
    "start_time": "2022-03-12T11:02:50.217Z"
   },
   {
    "duration": 267,
    "start_time": "2022-03-12T11:02:50.652Z"
   },
   {
    "duration": 266,
    "start_time": "2022-03-12T11:02:51.162Z"
   },
   {
    "duration": 198,
    "start_time": "2022-03-12T11:02:54.859Z"
   },
   {
    "duration": 192,
    "start_time": "2022-03-12T11:02:55.255Z"
   },
   {
    "duration": 202,
    "start_time": "2022-03-12T11:02:56.691Z"
   },
   {
    "duration": 188,
    "start_time": "2022-03-12T11:02:57.127Z"
   },
   {
    "duration": 211,
    "start_time": "2022-03-12T11:02:57.911Z"
   },
   {
    "duration": 301,
    "start_time": "2022-03-12T11:03:01.477Z"
   },
   {
    "duration": 10,
    "start_time": "2022-03-12T11:03:14.912Z"
   },
   {
    "duration": 14,
    "start_time": "2022-03-12T11:03:29.893Z"
   },
   {
    "duration": 5,
    "start_time": "2022-03-12T11:03:41.529Z"
   },
   {
    "duration": 3,
    "start_time": "2022-03-12T11:03:42.024Z"
   },
   {
    "duration": 4,
    "start_time": "2022-03-12T11:03:45.164Z"
   },
   {
    "duration": 5,
    "start_time": "2022-03-12T11:04:00.432Z"
   },
   {
    "duration": 514008,
    "start_time": "2022-03-12T11:04:51.818Z"
   },
   {
    "duration": 4,
    "start_time": "2022-03-12T11:13:25.828Z"
   },
   {
    "duration": 514754,
    "start_time": "2022-03-12T11:13:25.834Z"
   },
   {
    "duration": 12,
    "start_time": "2022-03-12T11:22:00.590Z"
   },
   {
    "duration": 43,
    "start_time": "2022-03-12T11:22:00.604Z"
   },
   {
    "duration": 5365,
    "start_time": "2022-03-12T11:24:05.286Z"
   },
   {
    "duration": 4,
    "start_time": "2022-03-12T11:25:43.573Z"
   },
   {
    "duration": 419,
    "start_time": "2022-03-12T11:29:33.713Z"
   },
   {
    "duration": 14,
    "start_time": "2022-03-12T11:36:53.124Z"
   },
   {
    "duration": 4,
    "start_time": "2022-03-12T11:37:28.254Z"
   },
   {
    "duration": 14,
    "start_time": "2022-03-12T11:37:47.432Z"
   },
   {
    "duration": 15,
    "start_time": "2022-03-12T11:38:01.698Z"
   },
   {
    "duration": 4,
    "start_time": "2022-03-12T11:38:48.054Z"
   },
   {
    "duration": 5,
    "start_time": "2022-03-12T11:38:58.430Z"
   },
   {
    "duration": 5,
    "start_time": "2022-03-12T11:41:49.965Z"
   },
   {
    "duration": 2509,
    "start_time": "2022-03-12T11:46:19.574Z"
   },
   {
    "duration": 2537,
    "start_time": "2022-03-12T11:47:32.957Z"
   },
   {
    "duration": 2640,
    "start_time": "2022-03-12T11:48:15.266Z"
   },
   {
    "duration": 219,
    "start_time": "2022-03-12T11:49:08.960Z"
   },
   {
    "duration": 29,
    "start_time": "2022-03-12T11:49:16.793Z"
   },
   {
    "duration": 6,
    "start_time": "2022-03-12T11:49:29.613Z"
   },
   {
    "duration": 6,
    "start_time": "2022-03-12T11:49:47.320Z"
   },
   {
    "duration": 5,
    "start_time": "2022-03-12T11:49:49.265Z"
   },
   {
    "duration": 4472,
    "start_time": "2022-03-12T11:49:50.069Z"
   },
   {
    "duration": 1055,
    "start_time": "2022-03-13T01:46:21.617Z"
   },
   {
    "duration": 3,
    "start_time": "2022-03-13T01:46:22.787Z"
   },
   {
    "duration": 689,
    "start_time": "2022-03-13T01:46:22.939Z"
   },
   {
    "duration": 19,
    "start_time": "2022-03-13T01:46:34.672Z"
   },
   {
    "duration": 13,
    "start_time": "2022-03-13T01:46:34.825Z"
   },
   {
    "duration": 13,
    "start_time": "2022-03-13T01:46:35.531Z"
   },
   {
    "duration": 8,
    "start_time": "2022-03-13T01:46:35.688Z"
   },
   {
    "duration": 15,
    "start_time": "2022-03-13T01:46:35.845Z"
   },
   {
    "duration": 4,
    "start_time": "2022-03-13T01:46:36.710Z"
   },
   {
    "duration": 7,
    "start_time": "2022-03-13T01:46:36.842Z"
   },
   {
    "duration": 13,
    "start_time": "2022-03-13T01:46:37.775Z"
   },
   {
    "duration": 7,
    "start_time": "2022-03-13T01:46:38.253Z"
   },
   {
    "duration": 12,
    "start_time": "2022-03-13T01:46:38.570Z"
   },
   {
    "duration": 59,
    "start_time": "2022-03-13T01:46:39.089Z"
   },
   {
    "duration": 14,
    "start_time": "2022-03-13T01:46:40.193Z"
   },
   {
    "duration": 232,
    "start_time": "2022-03-13T01:46:41.581Z"
   },
   {
    "duration": 216,
    "start_time": "2022-03-13T01:46:41.918Z"
   },
   {
    "duration": 219,
    "start_time": "2022-03-13T01:46:42.136Z"
   },
   {
    "duration": 154,
    "start_time": "2022-03-13T01:46:43.762Z"
   },
   {
    "duration": 157,
    "start_time": "2022-03-13T01:46:44.052Z"
   },
   {
    "duration": 231,
    "start_time": "2022-03-13T01:46:45.340Z"
   },
   {
    "duration": 173,
    "start_time": "2022-03-13T01:46:45.573Z"
   },
   {
    "duration": 186,
    "start_time": "2022-03-13T01:46:45.747Z"
   },
   {
    "duration": 185,
    "start_time": "2022-03-13T01:46:45.935Z"
   },
   {
    "duration": 8,
    "start_time": "2022-03-13T01:46:47.603Z"
   },
   {
    "duration": 11,
    "start_time": "2022-03-13T01:46:49.210Z"
   },
   {
    "duration": 4,
    "start_time": "2022-03-13T01:46:53.742Z"
   },
   {
    "duration": 2,
    "start_time": "2022-03-13T01:46:56.318Z"
   },
   {
    "duration": 2,
    "start_time": "2022-03-13T01:46:56.638Z"
   },
   {
    "duration": 5,
    "start_time": "2022-03-13T01:46:59.985Z"
   },
   {
    "duration": 22,
    "start_time": "2022-03-13T01:47:04.851Z"
   },
   {
    "duration": 4,
    "start_time": "2022-03-13T01:47:09.217Z"
   },
   {
    "duration": 2798,
    "start_time": "2022-03-13T01:47:27.409Z"
   },
   {
    "duration": 1257,
    "start_time": "2022-03-13T09:16:01.531Z"
   },
   {
    "duration": 3,
    "start_time": "2022-03-13T09:16:02.790Z"
   },
   {
    "duration": 1987,
    "start_time": "2022-03-13T09:16:04.659Z"
   },
   {
    "duration": 21,
    "start_time": "2022-03-13T09:16:08.511Z"
   },
   {
    "duration": 14,
    "start_time": "2022-03-13T09:16:09.951Z"
   },
   {
    "duration": 13,
    "start_time": "2022-03-13T09:17:13.979Z"
   },
   {
    "duration": 8,
    "start_time": "2022-03-13T09:18:11.791Z"
   },
   {
    "duration": 8,
    "start_time": "2022-03-13T09:18:13.771Z"
   },
   {
    "duration": 18,
    "start_time": "2022-03-13T09:18:17.351Z"
   },
   {
    "duration": 5,
    "start_time": "2022-03-13T09:19:53.492Z"
   },
   {
    "duration": 7,
    "start_time": "2022-03-13T09:19:54.611Z"
   },
   {
    "duration": 16,
    "start_time": "2022-03-13T09:20:08.751Z"
   },
   {
    "duration": 7,
    "start_time": "2022-03-13T09:20:19.010Z"
   },
   {
    "duration": 8,
    "start_time": "2022-03-13T09:26:31.963Z"
   },
   {
    "duration": 7,
    "start_time": "2022-03-13T09:27:57.871Z"
   },
   {
    "duration": 9,
    "start_time": "2022-03-13T09:28:03.830Z"
   },
   {
    "duration": 71,
    "start_time": "2022-03-13T09:29:26.531Z"
   },
   {
    "duration": 14,
    "start_time": "2022-03-13T09:29:36.912Z"
   },
   {
    "duration": 259,
    "start_time": "2022-03-13T09:29:42.383Z"
   },
   {
    "duration": 245,
    "start_time": "2022-03-13T09:29:44.828Z"
   },
   {
    "duration": 259,
    "start_time": "2022-03-13T09:29:46.031Z"
   },
   {
    "duration": 190,
    "start_time": "2022-03-13T09:29:50.359Z"
   },
   {
    "duration": 171,
    "start_time": "2022-03-13T09:29:51.243Z"
   },
   {
    "duration": 272,
    "start_time": "2022-03-13T09:30:31.077Z"
   },
   {
    "duration": 195,
    "start_time": "2022-03-13T09:30:32.132Z"
   },
   {
    "duration": 209,
    "start_time": "2022-03-13T09:30:33.091Z"
   },
   {
    "duration": 199,
    "start_time": "2022-03-13T09:30:34.050Z"
   },
   {
    "duration": 8,
    "start_time": "2022-03-13T09:30:42.112Z"
   },
   {
    "duration": 11,
    "start_time": "2022-03-13T09:30:46.584Z"
   },
   {
    "duration": 73,
    "start_time": "2022-03-13T09:31:25.123Z"
   },
   {
    "duration": 4,
    "start_time": "2022-03-13T09:31:47.143Z"
   },
   {
    "duration": 4,
    "start_time": "2022-03-13T09:32:05.931Z"
   },
   {
    "duration": 3,
    "start_time": "2022-03-13T09:32:27.894Z"
   },
   {
    "duration": 3,
    "start_time": "2022-03-13T09:34:59.652Z"
   },
   {
    "duration": 6,
    "start_time": "2022-03-13T09:35:04.391Z"
   },
   {
    "duration": 4117,
    "start_time": "2022-03-13T09:35:09.453Z"
   },
   {
    "duration": 9455,
    "start_time": "2022-03-13T09:35:46.203Z"
   },
   {
    "duration": 57708,
    "start_time": "2022-03-13T09:36:01.099Z"
   },
   {
    "duration": 7130,
    "start_time": "2022-03-13T09:40:30.481Z"
   },
   {
    "duration": 30310,
    "start_time": "2022-03-13T09:40:52.923Z"
   },
   {
    "duration": 4,
    "start_time": "2022-03-13T09:41:26.081Z"
   },
   {
    "duration": 174163,
    "start_time": "2022-03-13T09:42:03.278Z"
   },
   {
    "duration": 4,
    "start_time": "2022-03-13T09:45:25.364Z"
   },
   {
    "duration": 4,
    "start_time": "2022-03-13T09:45:26.632Z"
   },
   {
    "duration": 28718,
    "start_time": "2022-03-13T09:46:55.703Z"
   },
   {
    "duration": 5,
    "start_time": "2022-03-13T09:47:26.964Z"
   },
   {
    "duration": 5,
    "start_time": "2022-03-13T09:47:28.189Z"
   },
   {
    "duration": 619307,
    "start_time": "2022-03-13T09:47:53.652Z"
   },
   {
    "duration": 9,
    "start_time": "2022-03-13T09:58:12.964Z"
   },
   {
    "duration": 601932,
    "start_time": "2022-03-13T09:58:12.975Z"
   },
   {
    "duration": 4,
    "start_time": "2022-03-13T10:08:14.908Z"
   },
   {
    "duration": 8,
    "start_time": "2022-03-13T10:08:14.913Z"
   },
   {
    "duration": 5,
    "start_time": "2022-03-13T10:09:24.651Z"
   },
   {
    "duration": 13,
    "start_time": "2022-03-13T10:09:27.631Z"
   },
   {
    "duration": 7,
    "start_time": "2022-03-13T10:10:01.911Z"
   },
   {
    "duration": 4,
    "start_time": "2022-03-13T10:10:34.019Z"
   },
   {
    "duration": 5,
    "start_time": "2022-03-13T10:10:43.491Z"
   },
   {
    "duration": 13620,
    "start_time": "2022-03-13T10:11:11.751Z"
   },
   {
    "duration": 5,
    "start_time": "2022-03-13T10:12:01.092Z"
   },
   {
    "duration": 22,
    "start_time": "2022-03-13T10:15:29.893Z"
   }
  ],
  "kernelspec": {
   "display_name": "Python 3 (ipykernel)",
   "language": "python",
   "name": "python3"
  },
  "language_info": {
   "codemirror_mode": {
    "name": "ipython",
    "version": 3
   },
   "file_extension": ".py",
   "mimetype": "text/x-python",
   "name": "python",
   "nbconvert_exporter": "python",
   "pygments_lexer": "ipython3",
   "version": "3.9.7"
  },
  "toc": {
   "base_numbering": 1,
   "nav_menu": {},
   "number_sections": true,
   "sideBar": true,
   "skip_h1_title": true,
   "title_cell": "Содержание",
   "title_sidebar": "Contents",
   "toc_cell": true,
   "toc_position": {
    "height": "calc(100% - 180px)",
    "left": "10px",
    "top": "150px",
    "width": "165px"
   },
   "toc_section_display": true,
   "toc_window_display": true
  }
 },
 "nbformat": 4,
 "nbformat_minor": 2
}
