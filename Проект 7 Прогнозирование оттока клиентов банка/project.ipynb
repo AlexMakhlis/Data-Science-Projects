{
 "cells": [
  {
   "cell_type": "markdown",
   "metadata": {
    "toc": true
   },
   "source": [
    "<h1>Содержание<span class=\"tocSkip\"></span></h1>\n",
    "<div class=\"toc\"><ul class=\"toc-item\"><li><span><a href=\"#Подготовка-данных\" data-toc-modified-id=\"Подготовка-данных-1\"><span class=\"toc-item-num\">1&nbsp;&nbsp;</span>Подготовка данных</a></span><ul class=\"toc-item\"><li><span><a href=\"#Изменение-названий-столбцов\" data-toc-modified-id=\"Изменение-названий-столбцов-1.1\"><span class=\"toc-item-num\">1.1&nbsp;&nbsp;</span>Изменение названий столбцов</a></span></li><li><span><a href=\"#Преобразование-типа-столбца-tenure\" data-toc-modified-id=\"Преобразование-типа-столбца-tenure-1.2\"><span class=\"toc-item-num\">1.2&nbsp;&nbsp;</span>Преобразование типа столбца tenure</a></span></li><li><span><a href=\"#Приведение-текстовых-значений-в-нижний-регистр\" data-toc-modified-id=\"Приведение-текстовых-значений-в-нижний-регистр-1.3\"><span class=\"toc-item-num\">1.3&nbsp;&nbsp;</span>Приведение текстовых значений в нижний регистр</a></span></li><li><span><a href=\"#Проверим-на-наличие-дубликатов\" data-toc-modified-id=\"Проверим-на-наличие-дубликатов-1.4\"><span class=\"toc-item-num\">1.4&nbsp;&nbsp;</span>Проверим на наличие дубликатов</a></span></li><li><span><a href=\"#Проверим-на-баланс-классов\" data-toc-modified-id=\"Проверим-на-баланс-классов-1.5\"><span class=\"toc-item-num\">1.5&nbsp;&nbsp;</span>Проверим на баланс классов</a></span></li><li><span><a href=\"#Подготовка-данных-к-моделированию\" data-toc-modified-id=\"Подготовка-данных-к-моделированию-1.6\"><span class=\"toc-item-num\">1.6&nbsp;&nbsp;</span>Подготовка данных к моделированию</a></span></li></ul></li><li><span><a href=\"#Исследование-задачи\" data-toc-modified-id=\"Исследование-задачи-2\"><span class=\"toc-item-num\">2&nbsp;&nbsp;</span>Исследование задачи</a></span><ul class=\"toc-item\"><li><span><a href=\"#Логистическая-регрессия\" data-toc-modified-id=\"Логистическая-регрессия-2.1\"><span class=\"toc-item-num\">2.1&nbsp;&nbsp;</span>Логистическая регрессия</a></span></li><li><span><a href=\"#Решающее-дерево\" data-toc-modified-id=\"Решающее-дерево-2.2\"><span class=\"toc-item-num\">2.2&nbsp;&nbsp;</span>Решающее дерево</a></span></li><li><span><a href=\"#Случайный-лес\" data-toc-modified-id=\"Случайный-лес-2.3\"><span class=\"toc-item-num\">2.3&nbsp;&nbsp;</span>Случайный лес</a></span></li></ul></li><li><span><a href=\"#Борьба-с-дисбалансом\" data-toc-modified-id=\"Борьба-с-дисбалансом-3\"><span class=\"toc-item-num\">3&nbsp;&nbsp;</span>Борьба с дисбалансом</a></span><ul class=\"toc-item\"><li><span><a href=\"#Использование-class_weight\" data-toc-modified-id=\"Использование-class_weight-3.1\"><span class=\"toc-item-num\">3.1&nbsp;&nbsp;</span>Использование class_weight</a></span><ul class=\"toc-item\"><li><span><a href=\"#Логистическая-регрессия\" data-toc-modified-id=\"Логистическая-регрессия-3.1.1\"><span class=\"toc-item-num\">3.1.1&nbsp;&nbsp;</span>Логистическая регрессия</a></span></li><li><span><a href=\"#Решающее-дерево\" data-toc-modified-id=\"Решающее-дерево-3.1.2\"><span class=\"toc-item-num\">3.1.2&nbsp;&nbsp;</span>Решающее дерево</a></span></li><li><span><a href=\"#Случайный-лес\" data-toc-modified-id=\"Случайный-лес-3.1.3\"><span class=\"toc-item-num\">3.1.3&nbsp;&nbsp;</span>Случайный лес</a></span></li></ul></li><li><span><a href=\"#Использование-метода-downsampling\" data-toc-modified-id=\"Использование-метода-downsampling-3.2\"><span class=\"toc-item-num\">3.2&nbsp;&nbsp;</span>Использование метода downsampling</a></span><ul class=\"toc-item\"><li><span><a href=\"#Логистическая-регрессия\" data-toc-modified-id=\"Логистическая-регрессия-3.2.1\"><span class=\"toc-item-num\">3.2.1&nbsp;&nbsp;</span>Логистическая регрессия</a></span></li><li><span><a href=\"#Решающее-дерево\" data-toc-modified-id=\"Решающее-дерево-3.2.2\"><span class=\"toc-item-num\">3.2.2&nbsp;&nbsp;</span>Решающее дерево</a></span></li><li><span><a href=\"#Случайный-лес\" data-toc-modified-id=\"Случайный-лес-3.2.3\"><span class=\"toc-item-num\">3.2.3&nbsp;&nbsp;</span>Случайный лес</a></span></li></ul></li></ul></li><li><span><a href=\"#Тестирование-модели\" data-toc-modified-id=\"Тестирование-модели-4\"><span class=\"toc-item-num\">4&nbsp;&nbsp;</span>Тестирование модели</a></span><ul class=\"toc-item\"><li><span><a href=\"#Лучшая-логистическая-регрессия\" data-toc-modified-id=\"Лучшая-логистическая-регрессия-4.1\"><span class=\"toc-item-num\">4.1&nbsp;&nbsp;</span>Лучшая логистическая регрессия</a></span></li><li><span><a href=\"#Лучшее-решающее-дерево\" data-toc-modified-id=\"Лучшее-решающее-дерево-4.2\"><span class=\"toc-item-num\">4.2&nbsp;&nbsp;</span>Лучшее решающее дерево</a></span></li><li><span><a href=\"#Лучший-случайный-лес\" data-toc-modified-id=\"Лучший-случайный-лес-4.3\"><span class=\"toc-item-num\">4.3&nbsp;&nbsp;</span>Лучший случайный лес</a></span></li></ul></li><li><span><a href=\"#Вывод\" data-toc-modified-id=\"Вывод-5\"><span class=\"toc-item-num\">5&nbsp;&nbsp;</span>Вывод</a></span></li><li><span><a href=\"#Чек-лист-готовности-проекта\" data-toc-modified-id=\"Чек-лист-готовности-проекта-6\"><span class=\"toc-item-num\">6&nbsp;&nbsp;</span>Чек-лист готовности проекта</a></span></li></ul></div>"
   ]
  },
  {
   "cell_type": "markdown",
   "metadata": {},
   "source": [
    "# Отток клиентов"
   ]
  },
  {
   "cell_type": "markdown",
   "metadata": {},
   "source": [
    "Из «Бета-Банка» стали уходить клиенты. Каждый месяц. Немного, но заметно. Банковские маркетологи посчитали: сохранять текущих клиентов дешевле, чем привлекать новых.\n",
    "\n",
    "Нужно спрогнозировать, уйдёт клиент из банка в ближайшее время или нет. Вам предоставлены исторические данные о поведении клиентов и расторжении договоров с банком. \n",
    "\n",
    "Постройте модель с предельно большим значением *F1*-меры. Чтобы сдать проект успешно, нужно довести метрику до 0.59. Проверьте *F1*-меру на тестовой выборке самостоятельно.\n",
    "\n",
    "Дополнительно измеряйте *AUC-ROC*, сравнивайте её значение с *F1*-мерой.\n",
    "\n",
    "Источник данных: [https://www.kaggle.com/barelydedicated/bank-customer-churn-modeling](https://www.kaggle.com/barelydedicated/bank-customer-churn-modeling)"
   ]
  },
  {
   "cell_type": "markdown",
   "metadata": {},
   "source": [
    "## Подготовка данных"
   ]
  },
  {
   "cell_type": "markdown",
   "metadata": {},
   "source": [
    "Импортируем необходимые библиотеки:"
   ]
  },
  {
   "cell_type": "code",
   "execution_count": 5,
   "metadata": {},
   "outputs": [],
   "source": [
    "import pandas as pd\n",
    "from sklearn.model_selection import train_test_split\n",
    "from sklearn.tree import DecisionTreeClassifier\n",
    "from sklearn.ensemble import RandomForestClassifier\n",
    "from sklearn.linear_model import LogisticRegression\n",
    "from sklearn.metrics import f1_score, roc_auc_score, roc_curve\n",
    "import matplotlib.pyplot as plt\n",
    "from sklearn.preprocessing import StandardScaler\n",
    "from sklearn.utils import shuffle"
   ]
  },
  {
   "cell_type": "code",
   "execution_count": 6,
   "metadata": {},
   "outputs": [],
   "source": [
    "import warnings\n",
    "warnings.simplefilter('ignore')"
   ]
  },
  {
   "cell_type": "markdown",
   "metadata": {},
   "source": [
    "Импортируем датасет:"
   ]
  },
  {
   "cell_type": "code",
   "execution_count": 7,
   "metadata": {},
   "outputs": [
    {
     "data": {
      "text/html": [
       "<div>\n",
       "<style scoped>\n",
       "    .dataframe tbody tr th:only-of-type {\n",
       "        vertical-align: middle;\n",
       "    }\n",
       "\n",
       "    .dataframe tbody tr th {\n",
       "        vertical-align: top;\n",
       "    }\n",
       "\n",
       "    .dataframe thead th {\n",
       "        text-align: right;\n",
       "    }\n",
       "</style>\n",
       "<table border=\"1\" class=\"dataframe\">\n",
       "  <thead>\n",
       "    <tr style=\"text-align: right;\">\n",
       "      <th></th>\n",
       "      <th>RowNumber</th>\n",
       "      <th>CustomerId</th>\n",
       "      <th>Surname</th>\n",
       "      <th>CreditScore</th>\n",
       "      <th>Geography</th>\n",
       "      <th>Gender</th>\n",
       "      <th>Age</th>\n",
       "      <th>Tenure</th>\n",
       "      <th>Balance</th>\n",
       "      <th>NumOfProducts</th>\n",
       "      <th>HasCrCard</th>\n",
       "      <th>IsActiveMember</th>\n",
       "      <th>EstimatedSalary</th>\n",
       "      <th>Exited</th>\n",
       "    </tr>\n",
       "  </thead>\n",
       "  <tbody>\n",
       "    <tr>\n",
       "      <td>0</td>\n",
       "      <td>1</td>\n",
       "      <td>15634602</td>\n",
       "      <td>Hargrave</td>\n",
       "      <td>619</td>\n",
       "      <td>France</td>\n",
       "      <td>Female</td>\n",
       "      <td>42</td>\n",
       "      <td>2.0</td>\n",
       "      <td>0.00</td>\n",
       "      <td>1</td>\n",
       "      <td>1</td>\n",
       "      <td>1</td>\n",
       "      <td>101348.88</td>\n",
       "      <td>1</td>\n",
       "    </tr>\n",
       "    <tr>\n",
       "      <td>1</td>\n",
       "      <td>2</td>\n",
       "      <td>15647311</td>\n",
       "      <td>Hill</td>\n",
       "      <td>608</td>\n",
       "      <td>Spain</td>\n",
       "      <td>Female</td>\n",
       "      <td>41</td>\n",
       "      <td>1.0</td>\n",
       "      <td>83807.86</td>\n",
       "      <td>1</td>\n",
       "      <td>0</td>\n",
       "      <td>1</td>\n",
       "      <td>112542.58</td>\n",
       "      <td>0</td>\n",
       "    </tr>\n",
       "    <tr>\n",
       "      <td>2</td>\n",
       "      <td>3</td>\n",
       "      <td>15619304</td>\n",
       "      <td>Onio</td>\n",
       "      <td>502</td>\n",
       "      <td>France</td>\n",
       "      <td>Female</td>\n",
       "      <td>42</td>\n",
       "      <td>8.0</td>\n",
       "      <td>159660.80</td>\n",
       "      <td>3</td>\n",
       "      <td>1</td>\n",
       "      <td>0</td>\n",
       "      <td>113931.57</td>\n",
       "      <td>1</td>\n",
       "    </tr>\n",
       "    <tr>\n",
       "      <td>3</td>\n",
       "      <td>4</td>\n",
       "      <td>15701354</td>\n",
       "      <td>Boni</td>\n",
       "      <td>699</td>\n",
       "      <td>France</td>\n",
       "      <td>Female</td>\n",
       "      <td>39</td>\n",
       "      <td>1.0</td>\n",
       "      <td>0.00</td>\n",
       "      <td>2</td>\n",
       "      <td>0</td>\n",
       "      <td>0</td>\n",
       "      <td>93826.63</td>\n",
       "      <td>0</td>\n",
       "    </tr>\n",
       "    <tr>\n",
       "      <td>4</td>\n",
       "      <td>5</td>\n",
       "      <td>15737888</td>\n",
       "      <td>Mitchell</td>\n",
       "      <td>850</td>\n",
       "      <td>Spain</td>\n",
       "      <td>Female</td>\n",
       "      <td>43</td>\n",
       "      <td>2.0</td>\n",
       "      <td>125510.82</td>\n",
       "      <td>1</td>\n",
       "      <td>1</td>\n",
       "      <td>1</td>\n",
       "      <td>79084.10</td>\n",
       "      <td>0</td>\n",
       "    </tr>\n",
       "  </tbody>\n",
       "</table>\n",
       "</div>"
      ],
      "text/plain": [
       "   RowNumber  CustomerId   Surname  CreditScore Geography  Gender  Age  \\\n",
       "0          1    15634602  Hargrave          619    France  Female   42   \n",
       "1          2    15647311      Hill          608     Spain  Female   41   \n",
       "2          3    15619304      Onio          502    France  Female   42   \n",
       "3          4    15701354      Boni          699    France  Female   39   \n",
       "4          5    15737888  Mitchell          850     Spain  Female   43   \n",
       "\n",
       "   Tenure    Balance  NumOfProducts  HasCrCard  IsActiveMember  \\\n",
       "0     2.0       0.00              1          1               1   \n",
       "1     1.0   83807.86              1          0               1   \n",
       "2     8.0  159660.80              3          1               0   \n",
       "3     1.0       0.00              2          0               0   \n",
       "4     2.0  125510.82              1          1               1   \n",
       "\n",
       "   EstimatedSalary  Exited  \n",
       "0        101348.88       1  \n",
       "1        112542.58       0  \n",
       "2        113931.57       1  \n",
       "3         93826.63       0  \n",
       "4         79084.10       0  "
      ]
     },
     "execution_count": 7,
     "metadata": {},
     "output_type": "execute_result"
    }
   ],
   "source": [
    "data = pd.read_csv('/datasets/Churn.csv')\n",
    "data.head()"
   ]
  },
  {
   "cell_type": "code",
   "execution_count": null,
   "metadata": {},
   "outputs": [],
   "source": []
  },
  {
   "cell_type": "markdown",
   "metadata": {},
   "source": [
    "Удалим ненужный столбец с индексами:"
   ]
  },
  {
   "cell_type": "code",
   "execution_count": 8,
   "metadata": {},
   "outputs": [
    {
     "data": {
      "text/plain": [
       "Index(['CustomerId', 'Surname', 'CreditScore', 'Geography', 'Gender', 'Age',\n",
       "       'Tenure', 'Balance', 'NumOfProducts', 'HasCrCard', 'IsActiveMember',\n",
       "       'EstimatedSalary', 'Exited'],\n",
       "      dtype='object')"
      ]
     },
     "execution_count": 8,
     "metadata": {},
     "output_type": "execute_result"
    }
   ],
   "source": [
    "data = data.drop('RowNumber', axis=1)\n",
    "data.columns"
   ]
  },
  {
   "cell_type": "markdown",
   "metadata": {},
   "source": [
    "<div style=\"background: #cceeaa; padding: 5px; border: 1px solid green; border-radius: 5px;\">\n",
    "    <font color='green'> <b><u>КОММЕНТАРИЙ РЕВЬЮЕРА</u></b>\n",
    "</font>\n",
    "<font color='green'><br>согласен, но можно и ещё)"
   ]
  },
  {
   "cell_type": "markdown",
   "metadata": {},
   "source": [
    "Взглянем на информацию о данных:"
   ]
  },
  {
   "cell_type": "code",
   "execution_count": 9,
   "metadata": {},
   "outputs": [
    {
     "name": "stdout",
     "output_type": "stream",
     "text": [
      "<class 'pandas.core.frame.DataFrame'>\n",
      "RangeIndex: 10000 entries, 0 to 9999\n",
      "Data columns (total 13 columns):\n",
      "CustomerId         10000 non-null int64\n",
      "Surname            10000 non-null object\n",
      "CreditScore        10000 non-null int64\n",
      "Geography          10000 non-null object\n",
      "Gender             10000 non-null object\n",
      "Age                10000 non-null int64\n",
      "Tenure             9091 non-null float64\n",
      "Balance            10000 non-null float64\n",
      "NumOfProducts      10000 non-null int64\n",
      "HasCrCard          10000 non-null int64\n",
      "IsActiveMember     10000 non-null int64\n",
      "EstimatedSalary    10000 non-null float64\n",
      "Exited             10000 non-null int64\n",
      "dtypes: float64(3), int64(7), object(3)\n",
      "memory usage: 1015.8+ KB\n"
     ]
    }
   ],
   "source": [
    "data.info()"
   ]
  },
  {
   "cell_type": "markdown",
   "metadata": {},
   "source": [
    "В данных имеются следующие проблемы:\n",
    "- Столбцы названы не в змеином стиле\n",
    "- Столбец Tenure лучше преобразовать в тип int\n",
    "- Столбцы с текстом лучше преобразовать в нижний регистр, чтобы проверить их на наличие дубликатов\n",
    "- В столбце Tenure есть пропуски, вероятнее всего это клиенты, которые в банке менее года(это необходимо проверить)\n",
    "- необходимо проверить данные на наличие дубликатов\n",
    "\n",
    "Устраним эти проблемы и продолжим исследование."
   ]
  },
  {
   "cell_type": "markdown",
   "metadata": {},
   "source": [
    "<div style=\"background: #cceeaa; padding: 5px; border: 1px solid green; border-radius: 5px;\">\n",
    "    <font color='green'> <b><u>КОММЕНТАРИЙ РЕВЬЮЕРА</u></b>\n",
    "</font>\n",
    "<font color='green'><br>змеиный вид - это в точку:))<br>хорошо, идём дальше)"
   ]
  },
  {
   "cell_type": "markdown",
   "metadata": {},
   "source": [
    "### Изменение названий столбцов"
   ]
  },
  {
   "cell_type": "code",
   "execution_count": 10,
   "metadata": {},
   "outputs": [
    {
     "data": {
      "text/plain": [
       "Index(['customerid', 'surname', 'creditscore', 'geography', 'gender', 'age',\n",
       "       'tenure', 'balance', 'numofproducts', 'hascrcard', 'isactivemember',\n",
       "       'estimatedsalary', 'exited'],\n",
       "      dtype='object')"
      ]
     },
     "execution_count": 10,
     "metadata": {},
     "output_type": "execute_result"
    }
   ],
   "source": [
    "data.columns = data.columns.str.lower()\n",
    "data.columns"
   ]
  },
  {
   "cell_type": "code",
   "execution_count": 11,
   "metadata": {
    "scrolled": false
   },
   "outputs": [
    {
     "data": {
      "text/plain": [
       "Index(['customer_id', 'surname', 'credit_score', 'geography', 'gender', 'age',\n",
       "       'tenure', 'balance', 'num_of_products', 'has_cr_card',\n",
       "       'is_active_member', 'estimated_salary', 'exited'],\n",
       "      dtype='object')"
      ]
     },
     "execution_count": 11,
     "metadata": {},
     "output_type": "execute_result"
    }
   ],
   "source": [
    "data = data.rename(columns={'customerid':'customer_id', 'creditscore':'credit_score', \n",
    "                            'numofproducts':'num_of_products', 'hascrcard':'has_cr_card', \n",
    "                            'isactivemember':'is_active_member', 'estimatedsalary':'estimated_salary'})\n",
    "data.columns"
   ]
  },
  {
   "cell_type": "markdown",
   "metadata": {},
   "source": [
    "<div style=\"background: #cceeaa; padding: 5px; border: 1px solid green; border-radius: 5px;\">\n",
    "    <font color='green'> <b><u>КОММЕНТАРИЙ РЕВЬЮЕРА</u></b>\n",
    "</font>\n",
    "<font color='green'><br>ок"
   ]
  },
  {
   "cell_type": "markdown",
   "metadata": {},
   "source": [
    "### Преобразование типа столбца tenure"
   ]
  },
  {
   "cell_type": "markdown",
   "metadata": {},
   "source": [
    "Посмотрим на распределение значений в столбце tenure:"
   ]
  },
  {
   "cell_type": "code",
   "execution_count": 12,
   "metadata": {},
   "outputs": [
    {
     "data": {
      "image/png": "[encoded data removed]",
      "text/plain": [
       "<Figure size 432x288 with 1 Axes>"
      ]
     },
     "metadata": {
      "needs_background": "light"
     },
     "output_type": "display_data"
    }
   ],
   "source": [
    "data['tenure'].hist(bins=10)\n",
    "plt.title('Гистограмма распределения количества лет в банке')\n",
    "plt.show()"
   ]
  },
  {
   "cell_type": "code",
   "execution_count": 13,
   "metadata": {},
   "outputs": [
    {
     "data": {
      "text/plain": [
       "count    9091.000000\n",
       "mean        4.997690\n",
       "std         2.894723\n",
       "min         0.000000\n",
       "25%         2.000000\n",
       "50%         5.000000\n",
       "75%         7.000000\n",
       "max        10.000000\n",
       "Name: tenure, dtype: float64"
      ]
     },
     "execution_count": 13,
     "metadata": {},
     "output_type": "execute_result"
    }
   ],
   "source": [
    "data['tenure'].describe()"
   ]
  },
  {
   "cell_type": "markdown",
   "metadata": {},
   "source": [
    "В столбце tenure присутствуют величины от 0 до 10. Это значит, что пропуски не связаны с тем, что клиент в банке менее года. Предварительно можно утверждать, что пропуски могли появиться в момент выгрузки данных. Проверим какую долю занимают пропуски в данных:"
   ]
  },
  {
   "cell_type": "code",
   "execution_count": 14,
   "metadata": {},
   "outputs": [
    {
     "data": {
      "text/plain": [
       "0.0909"
      ]
     },
     "execution_count": 14,
     "metadata": {},
     "output_type": "execute_result"
    }
   ],
   "source": [
    "data['tenure'].isna().mean()"
   ]
  },
  {
   "cell_type": "markdown",
   "metadata": {},
   "source": [
    "Пропуски это практически 10%, поэтому удалять эти строки точно не лучший вариант. Я думаю, что замена на среднее по столбце создаст наименьшее влияние на обучение модели."
   ]
  },
  {
   "cell_type": "markdown",
   "metadata": {},
   "source": [
    "<div style=\"background: #cceeaa; padding: 5px; border: 1px solid green; border-radius: 5px;\">\n",
    "<font color='green'><u><b>КОММЕНТАРИЙ РЕВЬЮЕРА</b></u>\n",
    "<font color='green'><br>\n",
    "решение понятно, но обоснования ему нет, кроме предположения(  <br>\n",
    "<br> Возможно, что групповая (например по географии) медиана также не принесла бы большой ошибки. А может взять и удалить, чтобы не \"искушаться\"..Тут понятно, что однозначного решения нет, как и алгоритма. Правило только одно (как в медицине) - НЕ нарведи. Т.е. принимаемое решение должно соотноситься с возможным ущербом на конечный результат. В нашем случае ущерб от медианного заполнения ниже от ущерба удалить данные?. Причём выше/ниже - это только на чуйке/жизенном опыте смого аналитика.<br>\n",
    "Интересная это работа - быть DS-аналитиком)<br><br>\n",
    "    \n",
    "В данном случае, спарведливости ради, если построить распределение ДО и ПОСЛЕ заполнения пропусков, то увидим, что оно изменится. Т.е. данный подход несколько исказит инфо, а значит и результат моделирования будет уже не очень.<br> Тут лучшим способом будет - заполнение случайным числом.<br>\n",
    "    \n",
    "Ещё вараинт:<br> удалить пропущенные строки. А по окнчании построения модели, вывести важность факторов самой модели. И если фактор tenure окажется не значим, то как в принципе удалить его из моделирования, а первоначально удалённые строки - вернуть."
   ]
  },
  {
   "cell_type": "code",
   "execution_count": 16,
   "metadata": {},
   "outputs": [],
   "source": [
    "import random\n",
    "data['tenure'] = data['tenure'].fillna(random.randint(0,10))"
   ]
  },
  {
   "cell_type": "markdown",
   "metadata": {},
   "source": [
    "<div style=\"background: #cceeaa; padding: 5px; border: 1px solid green; border-radius: 5px;\">\n",
    "    <font color='green'> <b><u>КОММЕНТАРИЙ СТУДЕНТА</u></b>\n",
    "</font>\n",
    "<font color='green'><br>Спасибо за методику, мысль просто прекрасная!!! Заменил рандомными числами из этого диапазона"
   ]
  },
  {
   "cell_type": "markdown",
   "metadata": {},
   "source": [
    "<div style=\"background: #cceeaa; padding: 5px; border: 1px solid green; border-radius: 5px;\">\n",
    "<font color='green'><u><b>КОММЕНТАРИЙ РЕВЬЮЕРА 2</b></u>\n",
    "<font color='green'><br>ок)"
   ]
  },
  {
   "cell_type": "markdown",
   "metadata": {},
   "source": [
    "Проверим изменилось ли распределение"
   ]
  },
  {
   "cell_type": "code",
   "execution_count": 17,
   "metadata": {},
   "outputs": [
    {
     "data": {
      "image/png": "[encoded data removed]",
      "text/plain": [
       "<Figure size 432x288 with 1 Axes>"
      ]
     },
     "metadata": {
      "needs_background": "light"
     },
     "output_type": "display_data"
    }
   ],
   "source": [
    "data['tenure'].hist(bins=10)\n",
    "plt.title('Гистограмма распределения количества лет в банке')\n",
    "plt.show()"
   ]
  },
  {
   "cell_type": "code",
   "execution_count": 18,
   "metadata": {},
   "outputs": [
    {
     "data": {
      "text/plain": [
       "customer_id           int64\n",
       "surname              object\n",
       "credit_score          int64\n",
       "geography            object\n",
       "gender               object\n",
       "age                   int64\n",
       "tenure                int64\n",
       "balance             float64\n",
       "num_of_products       int64\n",
       "has_cr_card           int64\n",
       "is_active_member      int64\n",
       "estimated_salary    float64\n",
       "exited                int64\n",
       "dtype: object"
      ]
     },
     "execution_count": 18,
     "metadata": {},
     "output_type": "execute_result"
    }
   ],
   "source": [
    "data['tenure'] = data['tenure'].astype('int')\n",
    "data.dtypes"
   ]
  },
  {
   "cell_type": "code",
   "execution_count": 19,
   "metadata": {},
   "outputs": [
    {
     "name": "stdout",
     "output_type": "stream",
     "text": [
      "<class 'pandas.core.frame.DataFrame'>\n",
      "RangeIndex: 10000 entries, 0 to 9999\n",
      "Data columns (total 13 columns):\n",
      "customer_id         10000 non-null int64\n",
      "surname             10000 non-null object\n",
      "credit_score        10000 non-null int64\n",
      "geography           10000 non-null object\n",
      "gender              10000 non-null object\n",
      "age                 10000 non-null int64\n",
      "tenure              10000 non-null int64\n",
      "balance             10000 non-null float64\n",
      "num_of_products     10000 non-null int64\n",
      "has_cr_card         10000 non-null int64\n",
      "is_active_member    10000 non-null int64\n",
      "estimated_salary    10000 non-null float64\n",
      "exited              10000 non-null int64\n",
      "dtypes: float64(2), int64(8), object(3)\n",
      "memory usage: 1015.8+ KB\n"
     ]
    }
   ],
   "source": [
    "data.info()"
   ]
  },
  {
   "cell_type": "markdown",
   "metadata": {},
   "source": [
    "### Приведение текстовых значений в нижний регистр"
   ]
  },
  {
   "cell_type": "code",
   "execution_count": 20,
   "metadata": {},
   "outputs": [
    {
     "data": {
      "text/html": [
       "<div>\n",
       "<style scoped>\n",
       "    .dataframe tbody tr th:only-of-type {\n",
       "        vertical-align: middle;\n",
       "    }\n",
       "\n",
       "    .dataframe tbody tr th {\n",
       "        vertical-align: top;\n",
       "    }\n",
       "\n",
       "    .dataframe thead th {\n",
       "        text-align: right;\n",
       "    }\n",
       "</style>\n",
       "<table border=\"1\" class=\"dataframe\">\n",
       "  <thead>\n",
       "    <tr style=\"text-align: right;\">\n",
       "      <th></th>\n",
       "      <th>customer_id</th>\n",
       "      <th>surname</th>\n",
       "      <th>credit_score</th>\n",
       "      <th>geography</th>\n",
       "      <th>gender</th>\n",
       "      <th>age</th>\n",
       "      <th>tenure</th>\n",
       "      <th>balance</th>\n",
       "      <th>num_of_products</th>\n",
       "      <th>has_cr_card</th>\n",
       "      <th>is_active_member</th>\n",
       "      <th>estimated_salary</th>\n",
       "      <th>exited</th>\n",
       "    </tr>\n",
       "  </thead>\n",
       "  <tbody>\n",
       "    <tr>\n",
       "      <td>0</td>\n",
       "      <td>15634602</td>\n",
       "      <td>hargrave</td>\n",
       "      <td>619</td>\n",
       "      <td>france</td>\n",
       "      <td>female</td>\n",
       "      <td>42</td>\n",
       "      <td>2</td>\n",
       "      <td>0.00</td>\n",
       "      <td>1</td>\n",
       "      <td>1</td>\n",
       "      <td>1</td>\n",
       "      <td>101348.88</td>\n",
       "      <td>1</td>\n",
       "    </tr>\n",
       "    <tr>\n",
       "      <td>1</td>\n",
       "      <td>15647311</td>\n",
       "      <td>hill</td>\n",
       "      <td>608</td>\n",
       "      <td>spain</td>\n",
       "      <td>female</td>\n",
       "      <td>41</td>\n",
       "      <td>1</td>\n",
       "      <td>83807.86</td>\n",
       "      <td>1</td>\n",
       "      <td>0</td>\n",
       "      <td>1</td>\n",
       "      <td>112542.58</td>\n",
       "      <td>0</td>\n",
       "    </tr>\n",
       "    <tr>\n",
       "      <td>2</td>\n",
       "      <td>15619304</td>\n",
       "      <td>onio</td>\n",
       "      <td>502</td>\n",
       "      <td>france</td>\n",
       "      <td>female</td>\n",
       "      <td>42</td>\n",
       "      <td>8</td>\n",
       "      <td>159660.80</td>\n",
       "      <td>3</td>\n",
       "      <td>1</td>\n",
       "      <td>0</td>\n",
       "      <td>113931.57</td>\n",
       "      <td>1</td>\n",
       "    </tr>\n",
       "    <tr>\n",
       "      <td>3</td>\n",
       "      <td>15701354</td>\n",
       "      <td>boni</td>\n",
       "      <td>699</td>\n",
       "      <td>france</td>\n",
       "      <td>female</td>\n",
       "      <td>39</td>\n",
       "      <td>1</td>\n",
       "      <td>0.00</td>\n",
       "      <td>2</td>\n",
       "      <td>0</td>\n",
       "      <td>0</td>\n",
       "      <td>93826.63</td>\n",
       "      <td>0</td>\n",
       "    </tr>\n",
       "    <tr>\n",
       "      <td>4</td>\n",
       "      <td>15737888</td>\n",
       "      <td>mitchell</td>\n",
       "      <td>850</td>\n",
       "      <td>spain</td>\n",
       "      <td>female</td>\n",
       "      <td>43</td>\n",
       "      <td>2</td>\n",
       "      <td>125510.82</td>\n",
       "      <td>1</td>\n",
       "      <td>1</td>\n",
       "      <td>1</td>\n",
       "      <td>79084.10</td>\n",
       "      <td>0</td>\n",
       "    </tr>\n",
       "  </tbody>\n",
       "</table>\n",
       "</div>"
      ],
      "text/plain": [
       "   customer_id   surname  credit_score geography  gender  age  tenure  \\\n",
       "0     15634602  hargrave           619    france  female   42       2   \n",
       "1     15647311      hill           608     spain  female   41       1   \n",
       "2     15619304      onio           502    france  female   42       8   \n",
       "3     15701354      boni           699    france  female   39       1   \n",
       "4     15737888  mitchell           850     spain  female   43       2   \n",
       "\n",
       "     balance  num_of_products  has_cr_card  is_active_member  \\\n",
       "0       0.00                1            1                 1   \n",
       "1   83807.86                1            0                 1   \n",
       "2  159660.80                3            1                 0   \n",
       "3       0.00                2            0                 0   \n",
       "4  125510.82                1            1                 1   \n",
       "\n",
       "   estimated_salary  exited  \n",
       "0         101348.88       1  \n",
       "1         112542.58       0  \n",
       "2         113931.57       1  \n",
       "3          93826.63       0  \n",
       "4          79084.10       0  "
      ]
     },
     "execution_count": 20,
     "metadata": {},
     "output_type": "execute_result"
    }
   ],
   "source": [
    "list_of_columns = ['surname', 'geography', 'gender']\n",
    "for column in list_of_columns:\n",
    "    data[column] = data[column].str.lower()\n",
    "data.head()"
   ]
  },
  {
   "cell_type": "markdown",
   "metadata": {},
   "source": [
    "<div style=\"background: #cceeaa; padding: 5px; border: 1px solid green; border-radius: 5px;\">\n",
    "    <font color='green'> <b><u>КОММЕНТАРИЙ РЕВЬЮЕРА</u></b>\n",
    "</font>\n",
    "<font color='green'><br>принято."
   ]
  },
  {
   "cell_type": "markdown",
   "metadata": {},
   "source": [
    "### Проверим на наличие дубликатов"
   ]
  },
  {
   "cell_type": "code",
   "execution_count": 21,
   "metadata": {},
   "outputs": [
    {
     "data": {
      "text/plain": [
       "0"
      ]
     },
     "execution_count": 21,
     "metadata": {},
     "output_type": "execute_result"
    }
   ],
   "source": [
    "data.duplicated().sum()"
   ]
  },
  {
   "cell_type": "markdown",
   "metadata": {},
   "source": [
    "### Проверим на баланс классов"
   ]
  },
  {
   "cell_type": "code",
   "execution_count": 22,
   "metadata": {},
   "outputs": [
    {
     "data": {
      "text/plain": [
       "0    7963\n",
       "1    2037\n",
       "Name: exited, dtype: int64"
      ]
     },
     "execution_count": 22,
     "metadata": {},
     "output_type": "execute_result"
    }
   ],
   "source": [
    "data['exited'].value_counts()"
   ]
  },
  {
   "cell_type": "markdown",
   "metadata": {},
   "source": [
    "Как мы видим, классы сильно несбалансированы. Проведем моделирование без учета дисбаланса и с учетом дисбаланса классов."
   ]
  },
  {
   "cell_type": "markdown",
   "metadata": {},
   "source": [
    "<div style=\"background: #cceeaa; padding: 5px; border: 1px solid green; border-radius: 5px;\">\n",
    "<font color='green'><u><b>КОММЕНТАРИЙ РЕВЬЮЕРА</b></u>\n",
    "<font color='green'><br>да, разбаланс виден. Чаще всего границу принимают на уровне 0.25-0.30 , всё, что ниже - однозначно в балансировку). А так - на усмотрение аналитика."
   ]
  },
  {
   "cell_type": "code",
   "execution_count": null,
   "metadata": {},
   "outputs": [],
   "source": []
  },
  {
   "cell_type": "markdown",
   "metadata": {},
   "source": [
    "### Подготовка данных к моделированию"
   ]
  },
  {
   "cell_type": "markdown",
   "metadata": {},
   "source": [
    "Поскольку тестовая выборка от нас не спрятана, то будем делить данные на 3 части - обучающую, валидационную и тестовую выборки в соотношении 60-20-20."
   ]
  },
  {
   "cell_type": "code",
   "execution_count": 23,
   "metadata": {},
   "outputs": [],
   "source": [
    "features = data.drop(['exited', 'customer_id', 'surname'], axis=1)\n",
    "target = data['exited']"
   ]
  },
  {
   "cell_type": "markdown",
   "metadata": {},
   "source": [
    "<div style=\"background: #cceeaa; padding: 5px; border: 1px solid green; border-radius: 5px;\">\n",
    "<font color='green'><u><b>КОММЕНТАРИЙ РЕВЬЮЕРА</b></u>\n",
    "<font color='red'><br>ок, И такой момент - фамилии лучше тоже удалять!!! для целевой они не несут никакой бизнес-инфо."
   ]
  },
  {
   "cell_type": "markdown",
   "metadata": {},
   "source": [
    "<div style=\"background: #cceeaa; padding: 5px; border: 1px solid green; border-radius: 5px;\">\n",
    "    <font color='green'> <b><u>КОММЕНТАРИЙ СТУДЕНТА</u></b>\n",
    "</font>\n",
    "<font color='green'><br>согласен, просто переклинило(( Фамилии удалил"
   ]
  },
  {
   "cell_type": "markdown",
   "metadata": {},
   "source": [
    "<div style=\"background: #cceeaa; padding: 5px; border: 1px solid green; border-radius: 5px;\">\n",
    "<font color='green'><u><b>КОММЕНТАРИЙ РЕВЬЮЕРА 2</b></u>\n",
    "<font color='green'><br>ок, принято. Понятно, что описка."
   ]
  },
  {
   "cell_type": "markdown",
   "metadata": {},
   "source": [
    "В признаках есть категориальные переменные. Преобразуем их прямым кодированием:"
   ]
  },
  {
   "cell_type": "code",
   "execution_count": 24,
   "metadata": {},
   "outputs": [
    {
     "data": {
      "text/plain": [
       "(10000, 11)"
      ]
     },
     "execution_count": 24,
     "metadata": {},
     "output_type": "execute_result"
    }
   ],
   "source": [
    "features = pd.get_dummies(features, drop_first=True)\n",
    "features.shape"
   ]
  },
  {
   "cell_type": "code",
   "execution_count": 25,
   "metadata": {},
   "outputs": [
    {
     "data": {
      "text/html": [
       "<div>\n",
       "<style scoped>\n",
       "    .dataframe tbody tr th:only-of-type {\n",
       "        vertical-align: middle;\n",
       "    }\n",
       "\n",
       "    .dataframe tbody tr th {\n",
       "        vertical-align: top;\n",
       "    }\n",
       "\n",
       "    .dataframe thead th {\n",
       "        text-align: right;\n",
       "    }\n",
       "</style>\n",
       "<table border=\"1\" class=\"dataframe\">\n",
       "  <thead>\n",
       "    <tr style=\"text-align: right;\">\n",
       "      <th></th>\n",
       "      <th>credit_score</th>\n",
       "      <th>age</th>\n",
       "      <th>tenure</th>\n",
       "      <th>balance</th>\n",
       "      <th>num_of_products</th>\n",
       "      <th>has_cr_card</th>\n",
       "      <th>is_active_member</th>\n",
       "      <th>estimated_salary</th>\n",
       "      <th>geography_germany</th>\n",
       "      <th>geography_spain</th>\n",
       "      <th>gender_male</th>\n",
       "    </tr>\n",
       "  </thead>\n",
       "  <tbody>\n",
       "    <tr>\n",
       "      <td>0</td>\n",
       "      <td>619</td>\n",
       "      <td>42</td>\n",
       "      <td>2</td>\n",
       "      <td>0.00</td>\n",
       "      <td>1</td>\n",
       "      <td>1</td>\n",
       "      <td>1</td>\n",
       "      <td>101348.88</td>\n",
       "      <td>0</td>\n",
       "      <td>0</td>\n",
       "      <td>0</td>\n",
       "    </tr>\n",
       "    <tr>\n",
       "      <td>1</td>\n",
       "      <td>608</td>\n",
       "      <td>41</td>\n",
       "      <td>1</td>\n",
       "      <td>83807.86</td>\n",
       "      <td>1</td>\n",
       "      <td>0</td>\n",
       "      <td>1</td>\n",
       "      <td>112542.58</td>\n",
       "      <td>0</td>\n",
       "      <td>1</td>\n",
       "      <td>0</td>\n",
       "    </tr>\n",
       "    <tr>\n",
       "      <td>2</td>\n",
       "      <td>502</td>\n",
       "      <td>42</td>\n",
       "      <td>8</td>\n",
       "      <td>159660.80</td>\n",
       "      <td>3</td>\n",
       "      <td>1</td>\n",
       "      <td>0</td>\n",
       "      <td>113931.57</td>\n",
       "      <td>0</td>\n",
       "      <td>0</td>\n",
       "      <td>0</td>\n",
       "    </tr>\n",
       "    <tr>\n",
       "      <td>3</td>\n",
       "      <td>699</td>\n",
       "      <td>39</td>\n",
       "      <td>1</td>\n",
       "      <td>0.00</td>\n",
       "      <td>2</td>\n",
       "      <td>0</td>\n",
       "      <td>0</td>\n",
       "      <td>93826.63</td>\n",
       "      <td>0</td>\n",
       "      <td>0</td>\n",
       "      <td>0</td>\n",
       "    </tr>\n",
       "    <tr>\n",
       "      <td>4</td>\n",
       "      <td>850</td>\n",
       "      <td>43</td>\n",
       "      <td>2</td>\n",
       "      <td>125510.82</td>\n",
       "      <td>1</td>\n",
       "      <td>1</td>\n",
       "      <td>1</td>\n",
       "      <td>79084.10</td>\n",
       "      <td>0</td>\n",
       "      <td>1</td>\n",
       "      <td>0</td>\n",
       "    </tr>\n",
       "  </tbody>\n",
       "</table>\n",
       "</div>"
      ],
      "text/plain": [
       "   credit_score  age  tenure    balance  num_of_products  has_cr_card  \\\n",
       "0           619   42       2       0.00                1            1   \n",
       "1           608   41       1   83807.86                1            0   \n",
       "2           502   42       8  159660.80                3            1   \n",
       "3           699   39       1       0.00                2            0   \n",
       "4           850   43       2  125510.82                1            1   \n",
       "\n",
       "   is_active_member  estimated_salary  geography_germany  geography_spain  \\\n",
       "0                 1         101348.88                  0                0   \n",
       "1                 1         112542.58                  0                1   \n",
       "2                 0         113931.57                  0                0   \n",
       "3                 0          93826.63                  0                0   \n",
       "4                 1          79084.10                  0                1   \n",
       "\n",
       "   gender_male  \n",
       "0            0  \n",
       "1            0  \n",
       "2            0  \n",
       "3            0  \n",
       "4            0  "
      ]
     },
     "execution_count": 25,
     "metadata": {},
     "output_type": "execute_result"
    }
   ],
   "source": [
    "features.head()"
   ]
  },
  {
   "cell_type": "markdown",
   "metadata": {},
   "source": [
    "<div style=\"background: #cceeaa; padding: 5px; border: 1px solid green; border-radius: 5px;\">\n",
    "<font color='green'><u><b>КОММЕНТАРИЙ РЕВЬЮЕРА</b></u>\n",
    "<font color='green'><br>только столбцов расплодилось))"
   ]
  },
  {
   "cell_type": "markdown",
   "metadata": {},
   "source": [
    "Разделим сначала на общую часть (train и valid) и test:"
   ]
  },
  {
   "cell_type": "code",
   "execution_count": 26,
   "metadata": {},
   "outputs": [],
   "source": [
    "features_main, features_test, target_main, target_test = train_test_split(features, target, test_size=0.2, random_state=27)"
   ]
  },
  {
   "cell_type": "code",
   "execution_count": 27,
   "metadata": {},
   "outputs": [],
   "source": [
    "features_train, features_valid, target_train, target_valid = train_test_split(features_main, target_main, test_size=0.25, random_state=27)"
   ]
  },
  {
   "cell_type": "code",
   "execution_count": 28,
   "metadata": {},
   "outputs": [
    {
     "data": {
      "text/plain": [
       "(6000, 11)"
      ]
     },
     "metadata": {},
     "output_type": "display_data"
    },
    {
     "data": {
      "text/plain": [
       "(6000,)"
      ]
     },
     "metadata": {},
     "output_type": "display_data"
    },
    {
     "data": {
      "text/plain": [
       "(2000, 11)"
      ]
     },
     "metadata": {},
     "output_type": "display_data"
    },
    {
     "data": {
      "text/plain": [
       "(2000,)"
      ]
     },
     "metadata": {},
     "output_type": "display_data"
    },
    {
     "data": {
      "text/plain": [
       "(2000, 11)"
      ]
     },
     "metadata": {},
     "output_type": "display_data"
    },
    {
     "data": {
      "text/plain": [
       "(2000,)"
      ]
     },
     "metadata": {},
     "output_type": "display_data"
    }
   ],
   "source": [
    "del features_main\n",
    "del target_main\n",
    "display(features_train.shape)\n",
    "display(target_train.shape)\n",
    "display(features_valid.shape)\n",
    "display(target_valid.shape)\n",
    "display(features_test.shape)\n",
    "display(target_test.shape)"
   ]
  },
  {
   "cell_type": "markdown",
   "metadata": {},
   "source": [
    "Также необходимо провести масштабирование признаков:"
   ]
  },
  {
   "cell_type": "markdown",
   "metadata": {},
   "source": [
    "<div style=\"background: #cceeaa; padding: 5px; border: 1px solid green; border-radius: 5px;\">\n",
    "<font color='green'><u><b>КОММЕНТАРИЙ РЕВЬЮЕРА</b></u>\n",
    "<font color='green'><br>верно, что есть контроль размера новых выборок!"
   ]
  },
  {
   "cell_type": "code",
   "execution_count": 29,
   "metadata": {},
   "outputs": [
    {
     "data": {
      "text/html": [
       "<div>\n",
       "<style scoped>\n",
       "    .dataframe tbody tr th:only-of-type {\n",
       "        vertical-align: middle;\n",
       "    }\n",
       "\n",
       "    .dataframe tbody tr th {\n",
       "        vertical-align: top;\n",
       "    }\n",
       "\n",
       "    .dataframe thead th {\n",
       "        text-align: right;\n",
       "    }\n",
       "</style>\n",
       "<table border=\"1\" class=\"dataframe\">\n",
       "  <thead>\n",
       "    <tr style=\"text-align: right;\">\n",
       "      <th></th>\n",
       "      <th>credit_score</th>\n",
       "      <th>age</th>\n",
       "      <th>tenure</th>\n",
       "      <th>balance</th>\n",
       "      <th>num_of_products</th>\n",
       "      <th>has_cr_card</th>\n",
       "      <th>is_active_member</th>\n",
       "      <th>estimated_salary</th>\n",
       "      <th>geography_germany</th>\n",
       "      <th>geography_spain</th>\n",
       "      <th>gender_male</th>\n",
       "    </tr>\n",
       "  </thead>\n",
       "  <tbody>\n",
       "    <tr>\n",
       "      <td>3829</td>\n",
       "      <td>-0.659273</td>\n",
       "      <td>-0.271062</td>\n",
       "      <td>-1.472888</td>\n",
       "      <td>-0.093118</td>\n",
       "      <td>-0.922353</td>\n",
       "      <td>1</td>\n",
       "      <td>0</td>\n",
       "      <td>-1.189360</td>\n",
       "      <td>0</td>\n",
       "      <td>0</td>\n",
       "      <td>0</td>\n",
       "    </tr>\n",
       "    <tr>\n",
       "      <td>4516</td>\n",
       "      <td>-1.586123</td>\n",
       "      <td>-0.654935</td>\n",
       "      <td>0.950859</td>\n",
       "      <td>0.561055</td>\n",
       "      <td>4.230458</td>\n",
       "      <td>1</td>\n",
       "      <td>1</td>\n",
       "      <td>-1.554464</td>\n",
       "      <td>1</td>\n",
       "      <td>0</td>\n",
       "      <td>0</td>\n",
       "    </tr>\n",
       "    <tr>\n",
       "      <td>5357</td>\n",
       "      <td>-2.533570</td>\n",
       "      <td>-0.750904</td>\n",
       "      <td>-0.087890</td>\n",
       "      <td>0.910389</td>\n",
       "      <td>0.795251</td>\n",
       "      <td>1</td>\n",
       "      <td>1</td>\n",
       "      <td>-0.455572</td>\n",
       "      <td>1</td>\n",
       "      <td>0</td>\n",
       "      <td>1</td>\n",
       "    </tr>\n",
       "    <tr>\n",
       "      <td>1104</td>\n",
       "      <td>-0.638677</td>\n",
       "      <td>-1.038809</td>\n",
       "      <td>0.950859</td>\n",
       "      <td>-1.229358</td>\n",
       "      <td>0.795251</td>\n",
       "      <td>1</td>\n",
       "      <td>0</td>\n",
       "      <td>0.907316</td>\n",
       "      <td>0</td>\n",
       "      <td>0</td>\n",
       "      <td>1</td>\n",
       "    </tr>\n",
       "    <tr>\n",
       "      <td>8000</td>\n",
       "      <td>0.988460</td>\n",
       "      <td>-0.271062</td>\n",
       "      <td>0.950859</td>\n",
       "      <td>0.417646</td>\n",
       "      <td>0.795251</td>\n",
       "      <td>1</td>\n",
       "      <td>1</td>\n",
       "      <td>1.410376</td>\n",
       "      <td>1</td>\n",
       "      <td>0</td>\n",
       "      <td>1</td>\n",
       "    </tr>\n",
       "  </tbody>\n",
       "</table>\n",
       "</div>"
      ],
      "text/plain": [
       "      credit_score       age    tenure   balance  num_of_products  \\\n",
       "3829     -0.659273 -0.271062 -1.472888 -0.093118        -0.922353   \n",
       "4516     -1.586123 -0.654935  0.950859  0.561055         4.230458   \n",
       "5357     -2.533570 -0.750904 -0.087890  0.910389         0.795251   \n",
       "1104     -0.638677 -1.038809  0.950859 -1.229358         0.795251   \n",
       "8000      0.988460 -0.271062  0.950859  0.417646         0.795251   \n",
       "\n",
       "      has_cr_card  is_active_member  estimated_salary  geography_germany  \\\n",
       "3829            1                 0         -1.189360                  0   \n",
       "4516            1                 1         -1.554464                  1   \n",
       "5357            1                 1         -0.455572                  1   \n",
       "1104            1                 0          0.907316                  0   \n",
       "8000            1                 1          1.410376                  1   \n",
       "\n",
       "      geography_spain  gender_male  \n",
       "3829                0            0  \n",
       "4516                0            0  \n",
       "5357                0            1  \n",
       "1104                0            1  \n",
       "8000                0            1  "
      ]
     },
     "execution_count": 29,
     "metadata": {},
     "output_type": "execute_result"
    }
   ],
   "source": [
    "numeric = ['credit_score', 'age', 'tenure', 'balance', 'num_of_products','estimated_salary']\n",
    "scaler = StandardScaler()\n",
    "scaler.fit(features_train[numeric])\n",
    "features_train[numeric] = scaler.transform(features_train[numeric])\n",
    "features_valid[numeric] = scaler.transform(features_valid[numeric])\n",
    "features_test[numeric] = scaler.transform(features_test[numeric])\n",
    "features_train.head()"
   ]
  },
  {
   "cell_type": "markdown",
   "metadata": {},
   "source": [
    "**Вывод**\n",
    "\n",
    "Для исследования мы получили датасет, в котором содержится информация о клиентах банка. В данных присутствуют как количественные, так и категориальные признаки.\n",
    "\n",
    "Перед проведением исследования мы провели предобработку данных. Избавились от пропусков, проверили на наличие дубликатов, привели столбцы к змеиному стилю.\n",
    "\n",
    "Также подготовили данные для обучения моделей. Преобразовали категориальные переменные прямым кодированием, разделили данные на выборки train, valid и test. Также провели масштабирование признаков."
   ]
  },
  {
   "cell_type": "markdown",
   "metadata": {},
   "source": [
    "<div style=\"background: #cceeaa; padding: 5px; border: 1px solid green; border-radius: 5px;\">\n",
    "<font color='green'><u><b>КОММЕНТАРИЙ РЕВЬЮЕРА</b></u>\n",
    "<font color='green'><br>ОК, идём дальше. Вопрос только про фамилии остался)"
   ]
  },
  {
   "cell_type": "markdown",
   "metadata": {},
   "source": [
    "## Исследование задачи"
   ]
  },
  {
   "cell_type": "markdown",
   "metadata": {},
   "source": [
    "Для задачи бинарной классификации подходят такие алгоритмы, как: логистическая регрессия, решающее дерево и случайный лес. Промоделируем все виды и найдем модель с наилучшими характеристиками. В качестве метрики будем использовать f1 и ROC-AUC."
   ]
  },
  {
   "cell_type": "markdown",
   "metadata": {},
   "source": [
    "### Логистическая регрессия"
   ]
  },
  {
   "cell_type": "code",
   "execution_count": 30,
   "metadata": {},
   "outputs": [
    {
     "name": "stdout",
     "output_type": "stream",
     "text": [
      "f1_train = 0.31476997578692495\n",
      "AUC-ROC train = 0.771989284071021\n",
      "------------------------------------\n",
      "f1_valid = 0.31393298059964725\n",
      "AUC-ROC valid = 0.74602754884938\n"
     ]
    }
   ],
   "source": [
    "model = LogisticRegression(random_state=27)\n",
    "model.fit(features_train, target_train)\n",
    "predicted_train = model.predict(features_train)\n",
    "f1_train = f1_score(target_train, predicted_train)\n",
    "print(f'f1_train = {f1_train}')\n",
    "\n",
    "probabilities_train = model.predict_proba(features_train)\n",
    "probabilities_one_train = probabilities_train[:, 1]\n",
    "auc_roc_train = roc_auc_score(target_train, probabilities_one_train)\n",
    "print(f'AUC-ROC train = {auc_roc_train}')\n",
    "\n",
    "print('------------------------------------')\n",
    "\n",
    "predicted_valid = model.predict(features_valid)\n",
    "f1_valid = f1_score(target_valid, predicted_valid)\n",
    "print(f'f1_valid = {f1_valid}')\n",
    "\n",
    "probabilities_valid = model.predict_proba(features_valid)\n",
    "probabilities_one_valid = probabilities_valid[:, 1]\n",
    "auc_roc_valid = roc_auc_score(target_valid, probabilities_one_valid)\n",
    "print(f'AUC-ROC valid = {auc_roc_valid}')"
   ]
  },
  {
   "cell_type": "markdown",
   "metadata": {},
   "source": [
    "**Вывод**\n",
    "\n",
    "Логистическая регрессия показала себя не очень хорошо.\n",
    "\n",
    "На тренировочных данных:\n",
    "- f1_train = 0.31476997578692495\n",
    "- AUC-ROC train = 0.771989284071021\n",
    "\n",
    "На валидационных данных:\n",
    "- f1_valid = 0.31393298059964725\n",
    "- AUC-ROC valid = 0.74602754884938"
   ]
  },
  {
   "cell_type": "markdown",
   "metadata": {},
   "source": [
    "<div style=\"background: #cceeaa; padding: 5px; border: 1px solid green; border-radius: 5px;\">\n",
    "<font color='green'><u><b>КОММЕНТАРИЙ РЕВЬЮЕРА</b></u>\n",
    "<font color='green'><br>хорошо."
   ]
  },
  {
   "cell_type": "markdown",
   "metadata": {},
   "source": [
    "### Решающее дерево"
   ]
  },
  {
   "cell_type": "markdown",
   "metadata": {},
   "source": [
    "Поскольку ограничений на создаваемую модель нет, будем строить модель с максимальным f1"
   ]
  },
  {
   "cell_type": "markdown",
   "metadata": {},
   "source": [
    "Попробуем перебирать в цикле max_depth, min_samples_split и min_samples_leaf, чтобы найти модель с наилучшими характеристиками:"
   ]
  },
  {
   "cell_type": "code",
   "execution_count": 31,
   "metadata": {},
   "outputs": [
    {
     "name": "stdout",
     "output_type": "stream",
     "text": [
      "\n",
      "Наилучшие характеристики:\n",
      "f1 = 0.5913528591352859 \n",
      "AUC-ROC = 0.8159917524638673\n",
      "при глубине дерева = 8 , min_samples_split = 2 и min_samples_leaf = 4\n"
     ]
    }
   ],
   "source": [
    "model = None\n",
    "top_f1 = 0\n",
    "top_auc_roc = 0\n",
    "top_depth = 0\n",
    "top_samples_split = 2\n",
    "top_samples_leaf = 1\n",
    "for depth in range(1, 10):\n",
    "    for samples_split in range(2, 6):\n",
    "        for samples_leaf in range(1, 6):\n",
    "            model = DecisionTreeClassifier(random_state = 27, max_depth = depth, min_samples_split = samples_split, min_samples_leaf = samples_leaf)\n",
    "            model.fit(features_train, target_train)\n",
    "            \n",
    "            predicted_valid = model.predict(features_valid)\n",
    "            f1_valid = f1_score(target_valid, predicted_valid)\n",
    "\n",
    "            probabilities_valid = model.predict_proba(features_valid)\n",
    "            probabilities_one_valid = probabilities_valid[:, 1]\n",
    "            auc_roc_valid = roc_auc_score(target_valid, probabilities_one_valid)\n",
    "            \n",
    "            if f1_valid > top_f1:\n",
    "                top_f1 = f1_valid\n",
    "                top_auc_roc = auc_roc_valid\n",
    "                top_depth = depth\n",
    "                top_samples_split = samples_split\n",
    "                top_samples_leaf = samples_leaf\n",
    "print(f'''\n",
    "Наилучшие характеристики:\n",
    "f1 = {top_f1} \n",
    "AUC-ROC = {top_auc_roc}\n",
    "при глубине дерева = {top_depth} , min_samples_split = {top_samples_split} и min_samples_leaf = {top_samples_leaf}''')"
   ]
  },
  {
   "cell_type": "markdown",
   "metadata": {},
   "source": [
    "**Вывод**\n",
    "\n",
    "Мы в цикле перебирали 3 параметра max_depth, min_samples_split и min_samples_leaf, чтобы найти модель с наилучшими характеристиками. Модель отбирали по метрике f1.\n",
    "\n",
    "Наилучшие характеристики:\n",
    "- f1 = 0.5913528591352859 \n",
    "- AUC-ROC = 0.8159917524638673\n",
    "- при глубине дерева = 8 , min_samples_split = 2 и min_samples_leaf = 4"
   ]
  },
  {
   "cell_type": "markdown",
   "metadata": {},
   "source": [
    "<div style=\"background: #cceeaa; padding: 5px; border: 1px solid green; border-radius: 5px;\">\n",
    "<font color='green'><u><b>КОММЕНТАРИЙ РЕВЬЮЕРА</b></u>\n",
    "<font color='green'><br>понятно."
   ]
  },
  {
   "cell_type": "markdown",
   "metadata": {},
   "source": [
    "### Случайный лес"
   ]
  },
  {
   "cell_type": "markdown",
   "metadata": {},
   "source": [
    "Попробуем перебирать в цикле n_estimators, max_depth, чтобы найти модель с наилучшими характеристиками:"
   ]
  },
  {
   "cell_type": "code",
   "execution_count": 32,
   "metadata": {},
   "outputs": [
    {
     "name": "stdout",
     "output_type": "stream",
     "text": [
      "\n",
      "Наилучшие характеристики:\n",
      "f1 = 0.5962145110410094 \n",
      "AUC-ROC = 0.8472509231860312\n",
      "при n_estimators = 56 и глубине дерева = 8 \n"
     ]
    }
   ],
   "source": [
    "top_model = None\n",
    "top_f1 = 0\n",
    "top_auc_roc = 0\n",
    "top_estimators = 1\n",
    "top_depth = 1\n",
    "for est in range(1, 100, 5):\n",
    "    for depth in range(1, 20):\n",
    "        model = RandomForestClassifier(random_state = 27, n_estimators = est, max_depth = depth)\n",
    "        model.fit(features_train, target_train)\n",
    "\n",
    "        predicted_valid = model.predict(features_valid)\n",
    "        f1_valid = f1_score(target_valid, predicted_valid)\n",
    "\n",
    "        probabilities_valid = model.predict_proba(features_valid)\n",
    "        probabilities_one_valid = probabilities_valid[:, 1]\n",
    "        auc_roc_valid = roc_auc_score(target_valid, probabilities_one_valid)\n",
    "            \n",
    "        if f1_valid > top_f1:\n",
    "            top_f1 = f1_valid\n",
    "            top_auc_roc = auc_roc_valid\n",
    "            top_estimators = est\n",
    "            top_depth = depth\n",
    "            \n",
    "print(f'''\n",
    "Наилучшие характеристики:\n",
    "f1 = {top_f1} \n",
    "AUC-ROC = {top_auc_roc}\n",
    "при n_estimators = {top_estimators} и глубине дерева = {top_depth} ''')"
   ]
  },
  {
   "cell_type": "markdown",
   "metadata": {},
   "source": [
    "**Вывод**\n",
    "\n",
    "Мы в цикле перебирали 2 параметра max_depth, n_estimators, чтобы найти модель с наилучшими характеристиками. Модель отбирали по метрике f1. Случайный лес показал себя лучше всех с несбалансированными классами.\n",
    "\n",
    "Наилучшие характеристики:\n",
    "Наилучшие характеристики:\n",
    "- f1 = 0.5962145110410094 \n",
    "- AUC-ROC = 0.8472509231860312\n",
    "- при n_estimators = 56 и глубине дерева = 8"
   ]
  },
  {
   "cell_type": "markdown",
   "metadata": {},
   "source": [
    "## Борьба с дисбалансом"
   ]
  },
  {
   "cell_type": "code",
   "execution_count": 33,
   "metadata": {},
   "outputs": [
    {
     "data": {
      "text/plain": [
       "0    7963\n",
       "1    2037\n",
       "Name: exited, dtype: int64"
      ]
     },
     "execution_count": 33,
     "metadata": {},
     "output_type": "execute_result"
    }
   ],
   "source": [
    "data['exited'].value_counts()"
   ]
  },
  {
   "cell_type": "markdown",
   "metadata": {},
   "source": [
    "Изначально классы в данных были слишком несбалансированы. Из-за этого ни одна из моделей не достигла f1=0.59. \n",
    "Чтобы восстановить баланс между классами можно указывать свойство class_weight в моделях или применить метод downsampling для того, чтобы уменьшить выборку класса 0."
   ]
  },
  {
   "cell_type": "markdown",
   "metadata": {},
   "source": [
    "<div style=\"background: #cceeaa; padding: 5px; border: 1px solid green; border-radius: 5px;\">\n",
    "<font color='green'><u><b>КОММЕНТАРИЙ РЕВЬЮЕРА</b></u>\n",
    "<font color='green'><br>ок"
   ]
  },
  {
   "cell_type": "markdown",
   "metadata": {},
   "source": [
    "### Использование class_weight"
   ]
  },
  {
   "cell_type": "markdown",
   "metadata": {},
   "source": [
    "#### Логистическая регрессия"
   ]
  },
  {
   "cell_type": "code",
   "execution_count": 34,
   "metadata": {},
   "outputs": [
    {
     "name": "stdout",
     "output_type": "stream",
     "text": [
      "f1_train = 0.49189029784724275\n",
      "AUC-ROC train = 0.7757639399529566\n",
      "------------------------------------\n",
      "f1_valid = 0.49387040280210165\n",
      "AUC-ROC valid = 0.7492556430510381\n"
     ]
    }
   ],
   "source": [
    "model = LogisticRegression(random_state=27, class_weight='balanced')\n",
    "model.fit(features_train, target_train)\n",
    "predicted_train = model.predict(features_train)\n",
    "f1_train = f1_score(target_train, predicted_train)\n",
    "print(f'f1_train = {f1_train}')\n",
    "\n",
    "probabilities_train = model.predict_proba(features_train)\n",
    "probabilities_one_train = probabilities_train[:, 1]\n",
    "auc_roc_train = roc_auc_score(target_train, probabilities_one_train)\n",
    "print(f'AUC-ROC train = {auc_roc_train}')\n",
    "\n",
    "print('------------------------------------')\n",
    "\n",
    "predicted_valid = model.predict(features_valid)\n",
    "f1_valid = f1_score(target_valid, predicted_valid)\n",
    "print(f'f1_valid = {f1_valid}')\n",
    "\n",
    "probabilities_valid = model.predict_proba(features_valid)\n",
    "probabilities_one_valid = probabilities_valid[:, 1]\n",
    "auc_roc_valid = roc_auc_score(target_valid, probabilities_one_valid)\n",
    "print(f'AUC-ROC valid = {auc_roc_valid}')"
   ]
  },
  {
   "cell_type": "markdown",
   "metadata": {},
   "source": [
    "**Вывод**\n",
    "\n",
    "Логистическая регрессия показала себя лучше с использованием class_weight.\n",
    "\n",
    "На тренировочных данных:\n",
    "- f1_train = 0.49189029784724275\n",
    "- AUC-ROC train = 0.7757639399529566\n",
    "\n",
    "На валидационных данных:\n",
    "- f1_valid = 0.49387040280210165\n",
    "- AUC-ROC valid = 0.7492556430510381"
   ]
  },
  {
   "cell_type": "markdown",
   "metadata": {},
   "source": [
    "#### Решающее дерево"
   ]
  },
  {
   "cell_type": "markdown",
   "metadata": {},
   "source": [
    "Попробуем перебирать в цикле max_depth, min_samples_split и min_samples_leaf, чтобы найти модель с наилучшими характеристиками:"
   ]
  },
  {
   "cell_type": "code",
   "execution_count": 35,
   "metadata": {},
   "outputs": [
    {
     "name": "stdout",
     "output_type": "stream",
     "text": [
      "\n",
      "Наилучшие характеристики:\n",
      "f1 = 0.5546218487394958 \n",
      "AUC-ROC = 0.82288966398474\n",
      "при глубине дерева = 7 , min_samples_split = 2 и min_samples_leaf = 5\n"
     ]
    }
   ],
   "source": [
    "model = None\n",
    "top_f1 = 0\n",
    "top_auc_roc = 0\n",
    "top_depth = 0\n",
    "top_samples_split = 2\n",
    "top_samples_leaf = 1\n",
    "for depth in range(1, 10):\n",
    "    for samples_split in range(2, 6):\n",
    "        for samples_leaf in range(1, 6):\n",
    "            model = DecisionTreeClassifier(random_state = 27, max_depth = depth, \n",
    "                                           min_samples_split = samples_split, \n",
    "                                           min_samples_leaf = samples_leaf, class_weight='balanced')\n",
    "            model.fit(features_train, target_train)\n",
    "            \n",
    "            predicted_valid = model.predict(features_valid)\n",
    "            f1_valid = f1_score(target_valid, predicted_valid)\n",
    "\n",
    "            probabilities_valid = model.predict_proba(features_valid)\n",
    "            probabilities_one_valid = probabilities_valid[:, 1]\n",
    "            auc_roc_valid = roc_auc_score(target_valid, probabilities_one_valid)\n",
    "            \n",
    "            if f1_valid > top_f1:\n",
    "                top_f1 = f1_valid\n",
    "                top_auc_roc = auc_roc_valid\n",
    "                top_depth = depth\n",
    "                top_samples_split = samples_split\n",
    "                top_samples_leaf = samples_leaf\n",
    "print(f'''\n",
    "Наилучшие характеристики:\n",
    "f1 = {top_f1} \n",
    "AUC-ROC = {top_auc_roc}\n",
    "при глубине дерева = {top_depth} , min_samples_split = {top_samples_split} и min_samples_leaf = {top_samples_leaf}''')"
   ]
  },
  {
   "cell_type": "markdown",
   "metadata": {},
   "source": [
    "**Вывод**\n",
    "\n",
    "Мы в цикле перебирали 3 параметра max_depth, min_samples_split и min_samples_leaf, чтобы найти модель с наилучшими характеристиками. Модель отбирали по метрике f1. Также добавили class_weight='balanced'. У наилучшей модели значение f1 оказалось меньше.\n",
    "\n",
    "Наилучшие характеристики:\n",
    "- f1 = 0.5546218487394958 \n",
    "- AUC-ROC = 0.82288966398474\n",
    "- при глубине дерева = 7 , min_samples_split = 2 и min_samples_leaf = 5"
   ]
  },
  {
   "cell_type": "markdown",
   "metadata": {},
   "source": [
    "#### Случайный лес"
   ]
  },
  {
   "cell_type": "markdown",
   "metadata": {},
   "source": [
    "Попробуем перебирать в цикле n_estimators, max_depth, чтобы найти модель с наилучшими характеристиками:"
   ]
  },
  {
   "cell_type": "code",
   "execution_count": 36,
   "metadata": {},
   "outputs": [
    {
     "name": "stdout",
     "output_type": "stream",
     "text": [
      "\n",
      "Наилучшие характеристики:\n",
      "f1 = 0.6291866028708134 \n",
      "AUC-ROC = 0.8463491355065906\n",
      "при n_estimators = 41 и глубине дерева = 10 \n"
     ]
    }
   ],
   "source": [
    "top_model = None\n",
    "top_f1 = 0\n",
    "top_auc_roc = 0\n",
    "top_estimators = 1\n",
    "top_depth = 1\n",
    "for est in range(1, 100, 5):\n",
    "    for depth in range(1, 20):\n",
    "        model = RandomForestClassifier(random_state = 27, n_estimators = est, max_depth = depth, class_weight='balanced')\n",
    "        model.fit(features_train, target_train)\n",
    "\n",
    "        predicted_valid = model.predict(features_valid)\n",
    "        f1_valid = f1_score(target_valid, predicted_valid)\n",
    "\n",
    "        probabilities_valid = model.predict_proba(features_valid)\n",
    "        probabilities_one_valid = probabilities_valid[:, 1]\n",
    "        auc_roc_valid = roc_auc_score(target_valid, probabilities_one_valid)\n",
    "            \n",
    "        if f1_valid > top_f1:\n",
    "            top_f1 = f1_valid\n",
    "            top_auc_roc = auc_roc_valid\n",
    "            top_estimators = est\n",
    "            top_depth = depth\n",
    "            \n",
    "print(f'''\n",
    "Наилучшие характеристики:\n",
    "f1 = {top_f1} \n",
    "AUC-ROC = {top_auc_roc}\n",
    "при n_estimators = {top_estimators} и глубине дерева = {top_depth} ''')"
   ]
  },
  {
   "cell_type": "markdown",
   "metadata": {},
   "source": [
    "**Вывод**\n",
    "\n",
    "Мы в цикле перебирали 2 параметра max_depth, n_estimators, чтобы найти модель с наилучшими характеристиками. Модель отбирали по метрике f1. Случайный лес улучшил свои показатели с class_weight='balanced'.\n",
    "\n",
    "Наилучшие характеристики:\n",
    "- f1 = 0.6291866028708134 \n",
    "- AUC-ROC = 0.8463491355065906\n",
    "- при n_estimators = 41 и глубине дерева = 10"
   ]
  },
  {
   "cell_type": "markdown",
   "metadata": {},
   "source": [
    "### Использование метода downsampling"
   ]
  },
  {
   "cell_type": "code",
   "execution_count": 37,
   "metadata": {},
   "outputs": [
    {
     "name": "stdout",
     "output_type": "stream",
     "text": [
      "(2890, 11)\n",
      "(2890,)\n"
     ]
    }
   ],
   "source": [
    "def downsample(features, target, fraction):\n",
    "    features_zeros = features[target == 0]\n",
    "    features_ones = features[target == 1]\n",
    "    target_zeros = target[target == 0]\n",
    "    target_ones = target[target == 1]\n",
    "\n",
    "    features_downsampled = pd.concat(\n",
    "        [features_zeros.sample(frac=fraction, random_state=27)] + [features_ones])\n",
    "    target_downsampled = pd.concat(\n",
    "        [target_zeros.sample(frac=fraction, random_state=27)] + [target_ones])\n",
    "    features_downsampled, target_downsampled = shuffle(features_downsampled, target_downsampled)\n",
    "    return features_downsampled, target_downsampled\n",
    "\n",
    "features_train_new, target_train_new = downsample(features_train, target_train, 0.35)\n",
    "print(features_train_new.shape)\n",
    "print(target_train_new.shape)"
   ]
  },
  {
   "cell_type": "markdown",
   "metadata": {},
   "source": [
    "<div style=\"background: #cceeaa; padding: 5px; border: 1px solid green; border-radius: 5px;\">\n",
    "<font color='green'><u><b>КОММЕНТАРИЙ РЕВЬЮЕРА</b></u>\n",
    "<font color='green'><br>верно, балансируем только трайн."
   ]
  },
  {
   "cell_type": "markdown",
   "metadata": {},
   "source": [
    "Исследуем теперь все модели еще раз:"
   ]
  },
  {
   "cell_type": "markdown",
   "metadata": {},
   "source": [
    "#### Логистическая регрессия"
   ]
  },
  {
   "cell_type": "code",
   "execution_count": 39,
   "metadata": {},
   "outputs": [
    {
     "name": "stdout",
     "output_type": "stream",
     "text": [
      "f1_train = 0.647373107747106\n",
      "AUC-ROC train = 0.78191462440882\n",
      "------------------------------------\n",
      "f1_valid = 0.4753086419753086\n",
      "AUC-ROC valid = 0.7483278716588002\n"
     ]
    }
   ],
   "source": [
    "model = LogisticRegression(random_state=27)\n",
    "model.fit(features_train_new, target_train_new)\n",
    "predicted_train = model.predict(features_train_new)\n",
    "f1_train = f1_score(target_train_new, predicted_train)\n",
    "print(f'f1_train = {f1_train}')\n",
    "\n",
    "probabilities_train = model.predict_proba(features_train_new)\n",
    "probabilities_one_train = probabilities_train[:, 1]\n",
    "auc_roc_train = roc_auc_score(target_train_new, probabilities_one_train)\n",
    "print(f'AUC-ROC train = {auc_roc_train}')\n",
    "\n",
    "print('------------------------------------')\n",
    "\n",
    "predicted_valid = model.predict(features_valid)\n",
    "f1_valid = f1_score(target_valid, predicted_valid)\n",
    "print(f'f1_valid = {f1_valid}')\n",
    "\n",
    "probabilities_valid = model.predict_proba(features_valid)\n",
    "probabilities_one_valid = probabilities_valid[:, 1]\n",
    "auc_roc_valid = roc_auc_score(target_valid, probabilities_one_valid)\n",
    "print(f'AUC-ROC valid = {auc_roc_valid}')"
   ]
  },
  {
   "cell_type": "markdown",
   "metadata": {},
   "source": [
    "**Вывод**\n",
    "\n",
    "Качество модели заметно улучшилось, относительно модели не учитывающей дисбаланс классов. Но относительно модели использующей class_weight='balanced' качество практически не изменилось.\n",
    "\n",
    "- f1_train = 0.647373107747106\n",
    "- AUC-ROC train = 0.78191462440882\n",
    "\n",
    "- f1_valid = 0.4753086419753086\n",
    "- AUC-ROC valid = 0.7483278716588002"
   ]
  },
  {
   "cell_type": "markdown",
   "metadata": {},
   "source": [
    "#### Решающее дерево"
   ]
  },
  {
   "cell_type": "markdown",
   "metadata": {},
   "source": [
    "Попробуем перебирать в цикле max_depth, min_samples_split и min_samples_leaf, чтобы найти модель с наилучшими характеристиками:"
   ]
  },
  {
   "cell_type": "code",
   "execution_count": 40,
   "metadata": {},
   "outputs": [
    {
     "name": "stdout",
     "output_type": "stream",
     "text": [
      "\n",
      "Наилучшие характеристики:\n",
      "f1 = 0.5874439461883407 \n",
      "AUC-ROC = 0.8226802658286664\n",
      "при глубине дерева = 5 , min_samples_split = 2 и min_samples_leaf = 4\n"
     ]
    }
   ],
   "source": [
    "model = None\n",
    "top_f1 = 0\n",
    "top_auc_roc = 0\n",
    "top_depth = 0\n",
    "top_samples_split = 2\n",
    "top_samples_leaf = 1\n",
    "for depth in range(1, 20):\n",
    "    for samples_split in range(2, 6):\n",
    "        for samples_leaf in range(1, 6):\n",
    "            model = DecisionTreeClassifier(random_state = 27, max_depth = depth, \n",
    "                                           min_samples_split = samples_split, min_samples_leaf = samples_leaf)\n",
    "            model.fit(features_train_new, target_train_new)\n",
    "            \n",
    "            predicted_valid = model.predict(features_valid)\n",
    "            f1_valid = f1_score(target_valid, predicted_valid)\n",
    "\n",
    "            probabilities_valid = model.predict_proba(features_valid)\n",
    "            probabilities_one_valid = probabilities_valid[:, 1]\n",
    "            auc_roc_valid = roc_auc_score(target_valid, probabilities_one_valid)\n",
    "            \n",
    "            if f1_valid > top_f1:\n",
    "                top_f1 = f1_valid\n",
    "                top_auc_roc = auc_roc_valid\n",
    "                top_depth = depth\n",
    "                top_samples_split = samples_split\n",
    "                top_samples_leaf = samples_leaf\n",
    "print(f'''\n",
    "Наилучшие характеристики:\n",
    "f1 = {top_f1} \n",
    "AUC-ROC = {top_auc_roc}\n",
    "при глубине дерева = {top_depth} , min_samples_split = {top_samples_split} и min_samples_leaf = {top_samples_leaf}''')"
   ]
  },
  {
   "cell_type": "markdown",
   "metadata": {},
   "source": [
    "**Вывод**\n",
    "\n",
    "Мы в цикле перебирали 3 параметра max_depth, min_samples_split и min_samples_leaf, чтобы найти модель с наилучшими характеристиками. Модель отбирали по метрике f1. Качество модели стало хуже чем без балансирования вообще.\n",
    "\n",
    "Наилучшие характеристики:\n",
    "- f1 = 0.5874439461883407\n",
    "- AUC-ROC = 0.8226802658286664\n",
    "- при глубине дерева = 5 , min_samples_split = 2 и min_samples_leaf = 4"
   ]
  },
  {
   "cell_type": "markdown",
   "metadata": {},
   "source": [
    "#### Случайный лес"
   ]
  },
  {
   "cell_type": "markdown",
   "metadata": {},
   "source": [
    "Попробуем перебирать в цикле n_estimators, max_depth, чтобы найти модель с наилучшими характеристиками:"
   ]
  },
  {
   "cell_type": "code",
   "execution_count": 41,
   "metadata": {},
   "outputs": [
    {
     "name": "stdout",
     "output_type": "stream",
     "text": [
      "\n",
      "Наилучшие характеристики:\n",
      "f1 = 0.6175438596491228 \n",
      "AUC-ROC = 0.8399479714362573\n",
      "при n_estimators = 61 и глубине дерева = 6 \n"
     ]
    }
   ],
   "source": [
    "top_model = None\n",
    "top_f1 = 0\n",
    "top_auc_roc = 0\n",
    "top_estimators = 1\n",
    "top_depth = 1\n",
    "for est in range(1, 100, 5):\n",
    "    for depth in range(1, 20):\n",
    "        model = RandomForestClassifier(random_state = 27, n_estimators = est, max_depth = depth)\n",
    "        model.fit(features_train_new, target_train_new)\n",
    "\n",
    "        predicted_valid = model.predict(features_valid)\n",
    "        f1_valid = f1_score(target_valid, predicted_valid)\n",
    "\n",
    "        probabilities_valid = model.predict_proba(features_valid)\n",
    "        probabilities_one_valid = probabilities_valid[:, 1]\n",
    "        auc_roc_valid = roc_auc_score(target_valid, probabilities_one_valid)\n",
    "            \n",
    "        if f1_valid > top_f1:\n",
    "            top_f1 = f1_valid\n",
    "            top_auc_roc = auc_roc_valid\n",
    "            top_estimators = est\n",
    "            top_depth = depth\n",
    "            \n",
    "print(f'''\n",
    "Наилучшие характеристики:\n",
    "f1 = {top_f1} \n",
    "AUC-ROC = {top_auc_roc}\n",
    "при n_estimators = {top_estimators} и глубине дерева = {top_depth} ''')"
   ]
  },
  {
   "cell_type": "markdown",
   "metadata": {},
   "source": [
    "**Вывод**\n",
    "\n",
    "Мы в цикле перебирали 2 параметра max_depth, n_estimators, чтобы найти модель с наилучшими характеристиками. Модель отбирали по метрике f1. Качество модели ухудшилось.\n",
    "\n",
    "Наилучшие характеристики:\n",
    "\n",
    "- f1 = 0.6175438596491228 \n",
    "- AUC-ROC = 0.8399479714362573\n",
    "- при n_estimators = 61 и глубине дерева = 6"
   ]
  },
  {
   "cell_type": "markdown",
   "metadata": {},
   "source": [
    "## Тестирование модели"
   ]
  },
  {
   "cell_type": "markdown",
   "metadata": {},
   "source": [
    "Мы провели 3 исследования. Создали модели, без учета дисбаланса классов, с учетов дисбаланса через свойство class_weight и с учетом дисбаланса при помощи метода downsampling.\n",
    "\n",
    "- Логистическая регрессия улучшила свои показатели учитывая дисбаланс классов при помощи class_weight. \n",
    "- Решающее дерево наоборот ухудшило показатели с учетом дисбаланса, наилучшая модель без учета вообще. \n",
    "- Случайный лес показал наилучшие результаты с учетом дисбаланса при помощи class_weight и наихудшие без учета дисбаланса.\n",
    "\n",
    "Составим теперь лучшие модели всех типов и проверим значение метрик на тестовой выборке."
   ]
  },
  {
   "cell_type": "markdown",
   "metadata": {},
   "source": [
    "Обучать перед тестами будем на склеиных выборках train и valid"
   ]
  },
  {
   "cell_type": "code",
   "execution_count": 42,
   "metadata": {},
   "outputs": [
    {
     "name": "stdout",
     "output_type": "stream",
     "text": [
      "(8000, 11)\n",
      "(8000,)\n"
     ]
    }
   ],
   "source": [
    "features_train = pd.concat([features_train] + [features_valid])\n",
    "target_train = pd.concat([target_train] + [target_valid])\n",
    "print(features_train.shape)\n",
    "print(target_train.shape)"
   ]
  },
  {
   "cell_type": "markdown",
   "metadata": {},
   "source": [
    "### Лучшая логистическая регрессия"
   ]
  },
  {
   "cell_type": "code",
   "execution_count": 43,
   "metadata": {},
   "outputs": [
    {
     "name": "stdout",
     "output_type": "stream",
     "text": [
      "f1_test = 0.5004240882103477\n",
      "AUC-ROC test = 0.7760438717594723\n"
     ]
    }
   ],
   "source": [
    "model = LogisticRegression(random_state=27, class_weight='balanced')\n",
    "model.fit(features_train, target_train)\n",
    "\n",
    "predicted_test = model.predict(features_test)\n",
    "f1_test = f1_score(target_test, predicted_test)\n",
    "print(f'f1_test = {f1_test}')\n",
    "\n",
    "probabilities_test = model.predict_proba(features_test)\n",
    "probabilities_one_test = probabilities_test[:, 1]\n",
    "auc_roc_test = roc_auc_score(target_test, probabilities_one_test)\n",
    "print(f'AUC-ROC test = {auc_roc_test}')"
   ]
  },
  {
   "cell_type": "markdown",
   "metadata": {},
   "source": [
    "### Лучшее решающее дерево"
   ]
  },
  {
   "cell_type": "code",
   "execution_count": 44,
   "metadata": {},
   "outputs": [
    {
     "name": "stdout",
     "output_type": "stream",
     "text": [
      "f1_test = 0.5857142857142857\n",
      "AUC-ROC test = 0.8408858720662679\n"
     ]
    }
   ],
   "source": [
    "model = DecisionTreeClassifier(random_state = 27, max_depth = 8, min_samples_split = 2, min_samples_leaf = 4)\n",
    "model.fit(features_train, target_train)\n",
    "            \n",
    "predicted_test = model.predict(features_test)\n",
    "f1_test = f1_score(target_test, predicted_test)\n",
    "print(f'f1_test = {f1_test}')\n",
    "\n",
    "probabilities_test = model.predict_proba(features_test)\n",
    "probabilities_one_test = probabilities_test[:, 1]\n",
    "auc_roc_test = roc_auc_score(target_test, probabilities_one_test)\n",
    "print(f'AUC-ROC test = {auc_roc_test}')"
   ]
  },
  {
   "cell_type": "markdown",
   "metadata": {},
   "source": [
    "### Лучший случайный лес"
   ]
  },
  {
   "cell_type": "code",
   "execution_count": 45,
   "metadata": {},
   "outputs": [
    {
     "name": "stdout",
     "output_type": "stream",
     "text": [
      "f1_test = 0.627986348122867\n",
      "AUC-ROC test = 0.8535112747353889\n"
     ]
    }
   ],
   "source": [
    "model = RandomForestClassifier(random_state = 27, n_estimators = 41, max_depth = 10, class_weight='balanced')\n",
    "model.fit(features_train, target_train)\n",
    "\n",
    "predicted_test = model.predict(features_test)\n",
    "f1_test = f1_score(target_test, predicted_test)\n",
    "print(f'f1_test = {f1_test}')\n",
    "\n",
    "probabilities_test = model.predict_proba(features_test)\n",
    "probabilities_one_test = probabilities_test[:, 1]\n",
    "auc_roc_test = roc_auc_score(target_test, probabilities_one_test)\n",
    "print(f'AUC-ROC test = {auc_roc_test}')"
   ]
  },
  {
   "cell_type": "markdown",
   "metadata": {},
   "source": [
    "## Вывод\n",
    "\n",
    "В данном исследовании нам было необходимо создать модель для предсказания оттока клиентов банка с максимально большим значением метрики f1. В начале исследования мы предобработали данные, провели масштабитрование и прямое кодирование признаков, разделили данные на выборки для обучения, проверки и тестирования.\n",
    "\n",
    "В исследовании мы заметили, что классы сильно несбалансированы. Сбалансировать их можно используя свойство class_weight, или такой метод, как downsampling. Определив это мы проработали все 3 варианта и отобрали наилучшие модели.\n",
    "\n",
    "Наилучшая модель логистической регрессии получилась с учетом дисбаланса при помощи class_weight. На тестовых данных она показала f1_test = 0.5004240882103477.\n",
    "\n",
    "Наилучшая модель решающего дерева получилась без учета дисбаланса. На тестовых данных она показала f1_test = 0.5857142857142857.\n",
    "\n",
    "Наилучшая модель случайного леса получилась с учетом дисбаланса при помощи class_weight. На тестовых данных она показала f1_test = 0.627986348122867\n",
    "\n",
    "Также в течение всего исследования мы следили за значением метрики AUC-ROC. Исходя из того, что мы получили можно сказать, что на эту метрику не особо влияет дисбаланс классов. Она лишь немного улучшалась у каждой модели и оставалась на хорошем уровне.\n",
    "\n",
    "Таким образом, с решением этой задачи лучше всего справился случайный лес, обученный на данных, сбаласированных при помощи гиперпараметра class_weight."
   ]
  },
  {
   "cell_type": "markdown",
   "metadata": {},
   "source": [
    "<div style=\"background: #cceeaa; padding: 5px; border: 1px solid green; border-radius: 5px;\">\n",
    "<font color='green'><u><b>КОММЕНТАРИЙ РЕВЬЮЕРА</b></u>\n",
    "<font color='green'><br>\n",
    "<br/> ОК, Александр, добротная работа на самом деле! <br>\n",
    "Подготовка данных, разносторонняя работа с диссбалансом и исследование моделей и поиск парамтров для них - ничего не забыто <br>\n",
    "И видно, что проделана рабочая аналитическая работа: результативно и с выводами.<br>  \n",
    "\n",
    "<font color='green'>\n",
    "Если говорить, что можно ещё улучшить в подобных проектах, то я бы выделили такие моменты:<br>\n",
    "1) После подбора параметров модели, когда уже настаёт этап тестировани. Можно обучить на обобщённой выборке (трайн + валидация) ну и тестировать потом. Это может ещё прибавить точности.(если не использовать кросс-валидации)<br>\n",
    "    \n",
    "2) Для понимания, а какие в итоге факторы важны при моделировании, можно выводить их важность, использую feature_importances_, ну и график заодно. Это будет смотреться очнь здорово: результативная метрика и график важности факторов)))<br> Очень ВАЖНАЯ для аналитики штука. Ведь нам не просто модель с метрикой нужна, а ещё и причины понять высокой/низкой метрики. Т.е. понять с какой силой сами факторы влияют на целевую.<br>\n",
    "    \n",
    "3) Ты используешь матрицу, поэтому просто акцетрирую ещё раз: F1 и AUC - отличные метрики, но нужно держать в голове, что это лишь бобщённые характеристики. А в реальной практике бизнесу часто важно знать детали самой ошибки - из каких ошибок/успехов она складывается. И в этом случае очень кстати будут меры полноты и точности. Рассмотри возможность их использования для своих проектов. Только через них можно выйти на финансовые возможности модели. Ведь перед запуском её в бой, будет сравнение стоимости создания и поддержки модели со стомостью \"оставить как есть\" <br>   \n",
    "\n",
    "Есть вопрос про фактор - \"фамилия\". Его не стоит включать в подобные модели. А в целом - всё хорошо с кодом. До конца прогонять не стал - слишком долго считает из-за количества столбцов. Но всё-равно исправлять факторы надо. Поэтому Тестовые модели прогоню уже после корректировки)<br>\n",
    "Возможно, что у тебя появились/ остались ещё вопросы?"
   ]
  },
  {
   "cell_type": "markdown",
   "metadata": {},
   "source": [
    "<div style=\"background: #cceeaa; padding: 5px; border: 1px solid green; border-radius: 5px;\">\n",
    "    <font color='green'> <b><u>КОММЕНТАРИЙ СТУДЕНТА</u></b>\n",
    "</font>\n",
    "<font color='green'><br>Большое спасибо за ценные советы, исправил заполнение пропусков, удалил surname и обучал перед тестом на train+valid. Все этого помогло и результаты улучшились.\n",
    "    Хотел бы у тебя еще попросить помощь. Если тебя не затруднит, скинь, пожалуйста, где можно поучиться SQL и еще может быть что-то полезное."
   ]
  },
  {
   "cell_type": "markdown",
   "metadata": {},
   "source": [
    "<div style=\"background: #cceeaa; padding: 5px; border: 1px solid green; border-radius: 5px;\">\n",
    "<font color='green'><u><b>КОММЕНТАРИЙ РЕВЬЮЕРА 2</b></u>\n",
    "<font color='green'><br>ОК, Александр, увидел доработки.<br>\n",
    "Спасибо за проект.<br>\n",
    "ПО SQL есть вот такая подборка:<br>\n",
    "https://proglib.io/p/7-caytov-dlya-ottachivaniya-navyka-napisaniya-sql-zaprosov-na-2019-2020-g-2019-11-13 <br>\n",
    "Сам в своё время пользовался вариантом 3 из этого списка (sql туториал) - реально помогло. Так же, в нашей школе сейчас делаютя хорошие спринты по sql. Надо тебе или куратора или наставника кликнуть - они должны быть в курсе. Просто в последние месяцы этому уделилось много внимания и запустилась помощь в этом направлении.<br>\n",
    "\n",
    "В общем-то всё на этом)<br>\n",
    "УСПЕШНОГО ДАЛЬНЕЙШЕГО ОБУЧЕНИЯ!"
   ]
  },
  {
   "cell_type": "markdown",
   "metadata": {},
   "source": [
    "## Чек-лист готовности проекта"
   ]
  },
  {
   "cell_type": "markdown",
   "metadata": {},
   "source": [
    "Поставьте 'x' в выполненных пунктах. Далее нажмите Shift+Enter."
   ]
  },
  {
   "cell_type": "markdown",
   "metadata": {},
   "source": [
    "- [x]  Jupyter Notebook открыт\n",
    "- [x]  Весь код выполняется без ошибок\n",
    "- [x]  Ячейки с кодом расположены в порядке исполнения\n",
    "- [x]  Выполнен шаг 1: данные подготовлены\n",
    "- [x]  Выполнен шаг 2: задача исследована\n",
    "    - [x]  Исследован баланс классов\n",
    "    - [x]  Изучены модели без учёта дисбаланса\n",
    "    - [x]  Написаны выводы по результатам исследования\n",
    "- [x]  Выполнен шаг 3: учтён дисбаланс\n",
    "    - [x]  Применено несколько способов борьбы с дисбалансом\n",
    "    - [x]  Написаны выводы по результатам исследования\n",
    "- [x]  Выполнен шаг 4: проведено тестирование\n",
    "- [x]  Удалось достичь *F1*-меры не менее 0.59\n",
    "- [x]  Исследована метрика *AUC-ROC*"
   ]
  }
 ],
 "metadata": {
  "ExecuteTimeLog": [
   {
    "duration": 1471,
    "start_time": "2022-02-13T12:27:59.559Z"
   },
   {
    "duration": 4,
    "start_time": "2022-02-13T12:28:06.756Z"
   },
   {
    "duration": 53,
    "start_time": "2022-02-13T12:28:39.690Z"
   },
   {
    "duration": 54,
    "start_time": "2022-02-13T12:29:35.813Z"
   },
   {
    "duration": 48,
    "start_time": "2022-02-13T12:29:53.079Z"
   },
   {
    "duration": 6,
    "start_time": "2022-02-13T12:30:26.837Z"
   },
   {
    "duration": 13,
    "start_time": "2022-02-13T12:30:53.079Z"
   },
   {
    "duration": 7,
    "start_time": "2022-02-13T12:38:31.520Z"
   },
   {
    "duration": 31,
    "start_time": "2022-02-13T12:38:38.897Z"
   },
   {
    "duration": 553,
    "start_time": "2022-02-13T12:39:32.254Z"
   },
   {
    "duration": 1393,
    "start_time": "2022-02-13T12:39:41.706Z"
   },
   {
    "duration": 11,
    "start_time": "2022-02-13T12:43:35.558Z"
   },
   {
    "duration": 392,
    "start_time": "2022-02-13T12:44:54.512Z"
   },
   {
    "duration": 280,
    "start_time": "2022-02-13T12:45:48.790Z"
   },
   {
    "duration": 11,
    "start_time": "2022-02-13T12:46:05.897Z"
   },
   {
    "duration": 389,
    "start_time": "2022-02-13T12:46:12.313Z"
   },
   {
    "duration": 12,
    "start_time": "2022-02-13T12:46:19.486Z"
   },
   {
    "duration": 11,
    "start_time": "2022-02-13T12:46:25.648Z"
   },
   {
    "duration": 297,
    "start_time": "2022-02-13T12:47:44.661Z"
   },
   {
    "duration": 279,
    "start_time": "2022-02-13T12:48:01.048Z"
   },
   {
    "duration": 1111,
    "start_time": "2022-02-14T13:20:51.139Z"
   },
   {
    "duration": 2,
    "start_time": "2022-02-14T13:20:52.410Z"
   },
   {
    "duration": 37,
    "start_time": "2022-02-14T13:20:53.274Z"
   },
   {
    "duration": 5,
    "start_time": "2022-02-14T13:20:54.202Z"
   },
   {
    "duration": 8,
    "start_time": "2022-02-14T13:20:54.858Z"
   },
   {
    "duration": 4,
    "start_time": "2022-02-14T13:20:55.666Z"
   },
   {
    "duration": 7,
    "start_time": "2022-02-14T13:20:56.011Z"
   },
   {
    "duration": 149,
    "start_time": "2022-02-14T13:20:56.858Z"
   },
   {
    "duration": 8,
    "start_time": "2022-02-14T13:20:58.314Z"
   },
   {
    "duration": 161,
    "start_time": "2022-02-14T13:21:39.313Z"
   },
   {
    "duration": 154,
    "start_time": "2022-02-14T13:21:46.513Z"
   },
   {
    "duration": 4,
    "start_time": "2022-02-14T13:24:28.438Z"
   },
   {
    "duration": 4,
    "start_time": "2022-02-14T13:28:39.006Z"
   },
   {
    "duration": 6,
    "start_time": "2022-02-14T13:28:47.504Z"
   },
   {
    "duration": 9,
    "start_time": "2022-02-14T13:39:25.020Z"
   },
   {
    "duration": 474,
    "start_time": "2022-02-14T13:48:58.583Z"
   },
   {
    "duration": 324,
    "start_time": "2022-02-14T13:50:19.110Z"
   },
   {
    "duration": 34,
    "start_time": "2022-02-14T13:50:35.588Z"
   },
   {
    "duration": 10,
    "start_time": "2022-02-14T13:51:35.098Z"
   },
   {
    "duration": 6,
    "start_time": "2022-02-14T13:54:51.486Z"
   },
   {
    "duration": 4,
    "start_time": "2022-02-14T14:00:44.517Z"
   },
   {
    "duration": 8,
    "start_time": "2022-02-14T14:01:05.326Z"
   },
   {
    "duration": 8,
    "start_time": "2022-02-14T14:01:17.046Z"
   },
   {
    "duration": 8,
    "start_time": "2022-02-14T14:02:00.645Z"
   },
   {
    "duration": 187,
    "start_time": "2022-02-14T14:04:49.938Z"
   },
   {
    "duration": 185,
    "start_time": "2022-02-14T14:05:37.215Z"
   },
   {
    "duration": 134,
    "start_time": "2022-02-14T14:05:38.097Z"
   },
   {
    "duration": 11,
    "start_time": "2022-02-14T14:05:39.609Z"
   },
   {
    "duration": 5,
    "start_time": "2022-02-14T14:06:37.576Z"
   },
   {
    "duration": 186,
    "start_time": "2022-02-14T14:06:38.792Z"
   },
   {
    "duration": 173,
    "start_time": "2022-02-14T14:06:42.998Z"
   },
   {
    "duration": 120,
    "start_time": "2022-02-14T14:06:43.663Z"
   },
   {
    "duration": 8,
    "start_time": "2022-02-14T14:06:45.055Z"
   },
   {
    "duration": 3,
    "start_time": "2022-02-14T14:17:25.697Z"
   },
   {
    "duration": 5,
    "start_time": "2022-02-14T14:19:06.399Z"
   },
   {
    "duration": 9,
    "start_time": "2022-02-14T14:20:05.782Z"
   },
   {
    "duration": 13,
    "start_time": "2022-02-14T14:20:17.251Z"
   },
   {
    "duration": 5,
    "start_time": "2022-02-14T14:21:30.889Z"
   },
   {
    "duration": 9,
    "start_time": "2022-02-14T14:21:31.492Z"
   },
   {
    "duration": 4,
    "start_time": "2022-02-14T14:34:11.641Z"
   },
   {
    "duration": 168,
    "start_time": "2022-02-14T14:34:12.963Z"
   },
   {
    "duration": 179,
    "start_time": "2022-02-14T14:34:16.570Z"
   },
   {
    "duration": 130,
    "start_time": "2022-02-14T14:34:17.130Z"
   },
   {
    "duration": 7,
    "start_time": "2022-02-14T14:34:18.451Z"
   },
   {
    "duration": 32,
    "start_time": "2022-02-14T14:35:59.065Z"
   },
   {
    "duration": 372,
    "start_time": "2022-02-14T14:48:03.071Z"
   },
   {
    "duration": 553,
    "start_time": "2022-02-14T14:48:20.921Z"
   },
   {
    "duration": 514,
    "start_time": "2022-02-14T14:49:09.768Z"
   },
   {
    "duration": 563,
    "start_time": "2022-02-14T14:49:14.711Z"
   },
   {
    "duration": 906,
    "start_time": "2022-02-14T14:54:11.672Z"
   },
   {
    "duration": 1083,
    "start_time": "2022-02-14T14:54:34.393Z"
   },
   {
    "duration": 924,
    "start_time": "2022-02-14T14:54:47.656Z"
   },
   {
    "duration": 895,
    "start_time": "2022-02-14T14:54:53.784Z"
   },
   {
    "duration": 893,
    "start_time": "2022-02-14T14:54:58.089Z"
   },
   {
    "duration": 812,
    "start_time": "2022-02-14T14:55:52.969Z"
   },
   {
    "duration": 664,
    "start_time": "2022-02-14T15:11:03.136Z"
   },
   {
    "duration": 4,
    "start_time": "2022-02-14T15:11:27.415Z"
   },
   {
    "duration": 7,
    "start_time": "2022-02-14T15:11:27.421Z"
   },
   {
    "duration": 42,
    "start_time": "2022-02-14T15:11:27.430Z"
   },
   {
    "duration": 5,
    "start_time": "2022-02-14T15:11:27.474Z"
   },
   {
    "duration": 11,
    "start_time": "2022-02-14T15:11:27.480Z"
   },
   {
    "duration": 5,
    "start_time": "2022-02-14T15:11:27.492Z"
   },
   {
    "duration": 8,
    "start_time": "2022-02-14T15:11:27.499Z"
   },
   {
    "duration": 272,
    "start_time": "2022-02-14T15:11:27.509Z"
   },
   {
    "duration": 7,
    "start_time": "2022-02-14T15:11:27.784Z"
   },
   {
    "duration": 4,
    "start_time": "2022-02-14T15:11:27.793Z"
   },
   {
    "duration": 5,
    "start_time": "2022-02-14T15:11:27.798Z"
   },
   {
    "duration": 6,
    "start_time": "2022-02-14T15:11:27.805Z"
   },
   {
    "duration": 7,
    "start_time": "2022-02-14T15:11:27.812Z"
   },
   {
    "duration": 60,
    "start_time": "2022-02-14T15:11:27.820Z"
   },
   {
    "duration": 11,
    "start_time": "2022-02-14T15:11:27.881Z"
   },
   {
    "duration": 5,
    "start_time": "2022-02-14T15:11:27.893Z"
   },
   {
    "duration": 4,
    "start_time": "2022-02-14T15:11:27.899Z"
   },
   {
    "duration": 199,
    "start_time": "2022-02-14T15:11:27.904Z"
   },
   {
    "duration": 181,
    "start_time": "2022-02-14T15:11:28.105Z"
   },
   {
    "duration": 132,
    "start_time": "2022-02-14T15:11:28.288Z"
   },
   {
    "duration": 8,
    "start_time": "2022-02-14T15:11:28.422Z"
   },
   {
    "duration": 54,
    "start_time": "2022-02-14T15:11:28.431Z"
   },
   {
    "duration": 1092,
    "start_time": "2022-02-14T15:11:28.486Z"
   },
   {
    "duration": 118589,
    "start_time": "2022-02-14T15:11:29.581Z"
   },
   {
    "duration": 1083,
    "start_time": "2022-02-14T15:13:42.304Z"
   },
   {
    "duration": 2,
    "start_time": "2022-02-14T15:13:43.389Z"
   },
   {
    "duration": 39,
    "start_time": "2022-02-14T15:13:43.392Z"
   },
   {
    "duration": 4,
    "start_time": "2022-02-14T15:13:43.433Z"
   },
   {
    "duration": 9,
    "start_time": "2022-02-14T15:13:43.438Z"
   },
   {
    "duration": 4,
    "start_time": "2022-02-14T15:13:43.449Z"
   },
   {
    "duration": 18,
    "start_time": "2022-02-14T15:13:43.454Z"
   },
   {
    "duration": 176,
    "start_time": "2022-02-14T15:13:43.474Z"
   },
   {
    "duration": 7,
    "start_time": "2022-02-14T15:13:43.652Z"
   },
   {
    "duration": 4,
    "start_time": "2022-02-14T15:13:43.672Z"
   },
   {
    "duration": 3,
    "start_time": "2022-02-14T15:13:43.677Z"
   },
   {
    "duration": 6,
    "start_time": "2022-02-14T15:13:43.682Z"
   },
   {
    "duration": 7,
    "start_time": "2022-02-14T15:13:43.689Z"
   },
   {
    "duration": 19,
    "start_time": "2022-02-14T15:13:43.698Z"
   },
   {
    "duration": 9,
    "start_time": "2022-02-14T15:13:43.719Z"
   },
   {
    "duration": 46,
    "start_time": "2022-02-14T15:13:43.729Z"
   },
   {
    "duration": 4,
    "start_time": "2022-02-14T15:13:43.777Z"
   },
   {
    "duration": 205,
    "start_time": "2022-02-14T15:13:43.782Z"
   },
   {
    "duration": 192,
    "start_time": "2022-02-14T15:13:43.988Z"
   },
   {
    "duration": 132,
    "start_time": "2022-02-14T15:13:44.182Z"
   },
   {
    "duration": 8,
    "start_time": "2022-02-14T15:13:44.315Z"
   },
   {
    "duration": 55,
    "start_time": "2022-02-14T15:13:44.324Z"
   },
   {
    "duration": 1002,
    "start_time": "2022-02-14T15:13:44.381Z"
   },
   {
    "duration": 1740219,
    "start_time": "2022-02-14T15:13:45.385Z"
   },
   {
    "duration": 206265,
    "start_time": "2022-02-14T15:42:57.608Z"
   },
   {
    "duration": 62839,
    "start_time": "2022-02-14T15:47:09.698Z"
   },
   {
    "duration": 210808,
    "start_time": "2022-02-14T15:51:08.476Z"
   },
   {
    "duration": 69272,
    "start_time": "2022-02-14T15:58:06.779Z"
   },
   {
    "duration": 226411,
    "start_time": "2022-02-14T16:02:02.063Z"
   },
   {
    "duration": 5,
    "start_time": "2022-02-14T16:14:04.231Z"
   },
   {
    "duration": 148,
    "start_time": "2022-02-14T16:18:32.930Z"
   },
   {
    "duration": 66,
    "start_time": "2022-02-14T16:18:42.506Z"
   },
   {
    "duration": 49,
    "start_time": "2022-02-14T16:18:48.357Z"
   },
   {
    "duration": 5,
    "start_time": "2022-02-14T16:19:37.529Z"
   },
   {
    "duration": 184,
    "start_time": "2022-02-14T16:19:38.688Z"
   },
   {
    "duration": 176,
    "start_time": "2022-02-14T16:19:41.680Z"
   },
   {
    "duration": 119,
    "start_time": "2022-02-14T16:19:42.464Z"
   },
   {
    "duration": 8,
    "start_time": "2022-02-14T16:19:43.400Z"
   },
   {
    "duration": 35,
    "start_time": "2022-02-14T16:19:49.590Z"
   },
   {
    "duration": 153,
    "start_time": "2022-02-14T16:19:58.400Z"
   },
   {
    "duration": 160,
    "start_time": "2022-02-14T16:20:02.776Z"
   },
   {
    "duration": 723,
    "start_time": "2022-02-14T16:22:14.166Z"
   },
   {
    "duration": 62307,
    "start_time": "2022-02-14T16:24:49.371Z"
   },
   {
    "duration": 140623,
    "start_time": "2022-02-14T16:26:58.832Z"
   },
   {
    "duration": 223370,
    "start_time": "2022-02-14T16:29:47.021Z"
   },
   {
    "duration": 924,
    "start_time": "2022-02-14T16:34:48.958Z"
   },
   {
    "duration": 681,
    "start_time": "2022-02-14T16:36:15.796Z"
   },
   {
    "duration": 1749,
    "start_time": "2022-02-15T13:40:25.943Z"
   },
   {
    "duration": 2,
    "start_time": "2022-02-15T13:40:28.185Z"
   },
   {
    "duration": 54,
    "start_time": "2022-02-15T13:40:29.408Z"
   },
   {
    "duration": 4,
    "start_time": "2022-02-15T13:40:30.320Z"
   },
   {
    "duration": 9,
    "start_time": "2022-02-15T13:40:31.008Z"
   },
   {
    "duration": 5,
    "start_time": "2022-02-15T13:40:32.079Z"
   },
   {
    "duration": 9,
    "start_time": "2022-02-15T13:40:32.480Z"
   },
   {
    "duration": 211,
    "start_time": "2022-02-15T13:40:34.031Z"
   },
   {
    "duration": 9,
    "start_time": "2022-02-15T13:40:34.640Z"
   },
   {
    "duration": 5,
    "start_time": "2022-02-15T13:40:35.400Z"
   },
   {
    "duration": 6,
    "start_time": "2022-02-15T13:40:36.224Z"
   },
   {
    "duration": 10,
    "start_time": "2022-02-15T13:40:36.648Z"
   },
   {
    "duration": 10,
    "start_time": "2022-02-15T13:40:37.095Z"
   },
   {
    "duration": 25,
    "start_time": "2022-02-15T13:40:37.991Z"
   },
   {
    "duration": 14,
    "start_time": "2022-02-15T13:40:38.831Z"
   },
   {
    "duration": 6,
    "start_time": "2022-02-15T13:40:39.672Z"
   },
   {
    "duration": 5,
    "start_time": "2022-02-15T13:40:41.319Z"
   },
   {
    "duration": 221,
    "start_time": "2022-02-15T13:40:42.345Z"
   },
   {
    "duration": 217,
    "start_time": "2022-02-15T13:40:43.399Z"
   },
   {
    "duration": 147,
    "start_time": "2022-02-15T13:40:43.838Z"
   },
   {
    "duration": 10,
    "start_time": "2022-02-15T13:40:44.383Z"
   },
   {
    "duration": 42,
    "start_time": "2022-02-15T13:40:45.537Z"
   },
   {
    "duration": 1071,
    "start_time": "2022-02-15T13:40:59.711Z"
   },
   {
    "duration": 64551,
    "start_time": "2022-02-15T13:41:41.656Z"
   },
   {
    "duration": 7,
    "start_time": "2022-02-15T13:51:14.451Z"
   },
   {
    "duration": 962,
    "start_time": "2022-02-15T13:52:58.417Z"
   },
   {
    "duration": 64110,
    "start_time": "2022-02-15T13:55:01.312Z"
   },
   {
    "duration": 256279,
    "start_time": "2022-02-15T13:57:33.493Z"
   },
   {
    "duration": 181,
    "start_time": "2022-02-15T14:05:08.379Z"
   },
   {
    "duration": 717,
    "start_time": "2022-02-15T14:05:41.764Z"
   },
   {
    "duration": 73197,
    "start_time": "2022-02-15T14:07:58.656Z"
   },
   {
    "duration": 145071,
    "start_time": "2022-02-15T14:11:02.134Z"
   },
   {
    "duration": 673,
    "start_time": "2022-02-15T14:23:56.397Z"
   },
   {
    "duration": 180,
    "start_time": "2022-02-15T14:26:08.788Z"
   },
   {
    "duration": 1456,
    "start_time": "2022-02-15T14:27:35.249Z"
   },
   {
    "duration": 8,
    "start_time": "2022-02-15T14:45:22.714Z"
   },
   {
    "duration": 1609,
    "start_time": "2022-02-15T19:01:27.287Z"
   },
   {
    "duration": 4,
    "start_time": "2022-02-15T19:01:28.899Z"
   },
   {
    "duration": 68,
    "start_time": "2022-02-15T19:01:29.038Z"
   },
   {
    "duration": 7,
    "start_time": "2022-02-15T19:02:01.535Z"
   },
   {
    "duration": 12,
    "start_time": "2022-02-15T19:02:17.789Z"
   },
   {
    "duration": 7,
    "start_time": "2022-02-15T19:03:08.305Z"
   },
   {
    "duration": 12,
    "start_time": "2022-02-15T19:03:08.857Z"
   },
   {
    "duration": 662,
    "start_time": "2022-02-15T19:04:03.911Z"
   },
   {
    "duration": 18,
    "start_time": "2022-02-15T19:04:05.571Z"
   },
   {
    "duration": 6,
    "start_time": "2022-02-15T19:04:09.653Z"
   },
   {
    "duration": 6,
    "start_time": "2022-02-15T19:04:12.056Z"
   },
   {
    "duration": 16,
    "start_time": "2022-02-15T19:04:16.160Z"
   },
   {
    "duration": 13,
    "start_time": "2022-02-15T19:04:19.171Z"
   },
   {
    "duration": 47,
    "start_time": "2022-02-15T19:04:22.345Z"
   },
   {
    "duration": 32,
    "start_time": "2022-02-15T19:05:00.761Z"
   },
   {
    "duration": 12,
    "start_time": "2022-02-15T19:05:01.687Z"
   },
   {
    "duration": 6,
    "start_time": "2022-02-15T19:05:22.475Z"
   },
   {
    "duration": 304,
    "start_time": "2022-02-15T19:06:27.904Z"
   },
   {
    "duration": 282,
    "start_time": "2022-02-15T19:06:50.080Z"
   },
   {
    "duration": 215,
    "start_time": "2022-02-15T19:06:50.530Z"
   },
   {
    "duration": 33,
    "start_time": "2022-02-15T19:06:50.747Z"
   },
   {
    "duration": 114,
    "start_time": "2022-02-15T19:07:18.965Z"
   },
   {
    "duration": 2084,
    "start_time": "2022-02-15T19:07:59.988Z"
   },
   {
    "duration": 76520,
    "start_time": "2022-02-15T19:15:22.918Z"
   },
   {
    "duration": 353740,
    "start_time": "2022-02-15T19:16:55.023Z"
   },
   {
    "duration": 10,
    "start_time": "2022-02-15T19:22:48.766Z"
   },
   {
    "duration": 1495,
    "start_time": "2022-02-15T19:51:11.879Z"
   },
   {
    "duration": 4,
    "start_time": "2022-02-15T19:51:14.834Z"
   },
   {
    "duration": 71,
    "start_time": "2022-02-15T19:51:15.603Z"
   },
   {
    "duration": 10,
    "start_time": "2022-02-15T19:52:15.652Z"
   },
   {
    "duration": 5,
    "start_time": "2022-02-15T19:53:21.052Z"
   },
   {
    "duration": 4,
    "start_time": "2022-02-15T19:53:21.642Z"
   },
   {
    "duration": 45,
    "start_time": "2022-02-15T19:53:23.412Z"
   },
   {
    "duration": 11,
    "start_time": "2022-02-15T19:53:27.063Z"
   },
   {
    "duration": 12,
    "start_time": "2022-02-15T19:53:33.906Z"
   },
   {
    "duration": 7,
    "start_time": "2022-02-15T19:53:37.928Z"
   },
   {
    "duration": 10,
    "start_time": "2022-02-15T19:53:38.760Z"
   },
   {
    "duration": 295,
    "start_time": "2022-02-15T19:53:41.172Z"
   },
   {
    "duration": 12,
    "start_time": "2022-02-15T19:53:47.302Z"
   },
   {
    "duration": 5,
    "start_time": "2022-02-15T19:53:56.472Z"
   },
   {
    "duration": 11,
    "start_time": "2022-02-15T19:59:24.222Z"
   },
   {
    "duration": 6,
    "start_time": "2022-02-15T19:59:35.143Z"
   },
   {
    "duration": 319,
    "start_time": "2022-02-15T20:00:08.110Z"
   },
   {
    "duration": 13,
    "start_time": "2022-02-15T20:00:22.172Z"
   },
   {
    "duration": 14,
    "start_time": "2022-02-15T20:00:25.046Z"
   },
   {
    "duration": 36,
    "start_time": "2022-02-15T20:01:59.782Z"
   },
   {
    "duration": 19,
    "start_time": "2022-02-15T20:02:03.800Z"
   },
   {
    "duration": 9,
    "start_time": "2022-02-15T20:02:06.720Z"
   },
   {
    "duration": 7,
    "start_time": "2022-02-15T20:03:00.912Z"
   },
   {
    "duration": 25,
    "start_time": "2022-02-15T20:03:56.886Z"
   },
   {
    "duration": 17,
    "start_time": "2022-02-15T20:06:27.319Z"
   },
   {
    "duration": 10,
    "start_time": "2022-02-15T20:06:49.008Z"
   },
   {
    "duration": 9,
    "start_time": "2022-02-15T20:06:49.876Z"
   },
   {
    "duration": 15,
    "start_time": "2022-02-15T20:06:51.644Z"
   },
   {
    "duration": 64,
    "start_time": "2022-02-15T20:07:15.036Z"
   },
   {
    "duration": 373,
    "start_time": "2022-02-15T20:07:24.774Z"
   },
   {
    "duration": 4203,
    "start_time": "2022-02-15T20:08:24.446Z"
   },
   {
    "duration": 152962,
    "start_time": "2022-02-15T20:09:07.821Z"
   },
   {
    "duration": 8,
    "start_time": "2022-02-15T20:12:26.284Z"
   },
   {
    "duration": 333,
    "start_time": "2022-02-15T20:12:34.417Z"
   },
   {
    "duration": 4400,
    "start_time": "2022-02-15T20:13:12.794Z"
   },
   {
    "duration": 149826,
    "start_time": "2022-02-15T20:13:45.324Z"
   },
   {
    "duration": 20,
    "start_time": "2022-02-15T20:16:46.200Z"
   },
   {
    "duration": 485,
    "start_time": "2022-02-15T20:17:20.771Z"
   },
   {
    "duration": 247,
    "start_time": "2022-02-15T20:17:33.003Z"
   },
   {
    "duration": 6844,
    "start_time": "2022-02-15T20:18:33.643Z"
   },
   {
    "duration": 94668,
    "start_time": "2022-02-15T20:20:01.201Z"
   },
   {
    "duration": 11,
    "start_time": "2022-02-15T20:28:47.119Z"
   },
   {
    "duration": 106,
    "start_time": "2022-02-15T20:29:00.844Z"
   },
   {
    "duration": 45,
    "start_time": "2022-02-15T20:29:49.081Z"
   },
   {
    "duration": 451,
    "start_time": "2022-02-15T20:30:27.472Z"
   }
  ],
  "kernelspec": {
   "display_name": "Python 3",
   "language": "python",
   "name": "python3"
  },
  "language_info": {
   "codemirror_mode": {
    "name": "ipython",
    "version": 3
   },
   "file_extension": ".py",
   "mimetype": "text/x-python",
   "name": "python",
   "nbconvert_exporter": "python",
   "pygments_lexer": "ipython3",
   "version": "3.7.8"
  },
  "toc": {
   "base_numbering": 1,
   "nav_menu": {},
   "number_sections": true,
   "sideBar": true,
   "skip_h1_title": true,
   "title_cell": "Содержание",
   "title_sidebar": "Contents",
   "toc_cell": true,
   "toc_position": {
    "height": "calc(100% - 180px)",
    "left": "10px",
    "top": "150px",
    "width": "165px"
   },
   "toc_section_display": true,
   "toc_window_display": true
  }
 },
 "nbformat": 4,
 "nbformat_minor": 2
}
