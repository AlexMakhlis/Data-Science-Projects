{
 "cells": [
  {
   "cell_type": "markdown",
   "metadata": {
    "toc": true
   },
   "source": [
    "<h1>Содержание<span class=\"tocSkip\"></span></h1>\n",
    "<div class=\"toc\"><ul class=\"toc-item\"><li><span><a href=\"#Загрузка-данных\" data-toc-modified-id=\"Загрузка-данных-1\"><span class=\"toc-item-num\">1&nbsp;&nbsp;</span>Загрузка данных</a></span></li><li><span><a href=\"#Умножение-матриц\" data-toc-modified-id=\"Умножение-матриц-2\"><span class=\"toc-item-num\">2&nbsp;&nbsp;</span>Умножение матриц</a></span></li><li><span><a href=\"#Алгоритм-преобразования\" data-toc-modified-id=\"Алгоритм-преобразования-3\"><span class=\"toc-item-num\">3&nbsp;&nbsp;</span>Алгоритм преобразования</a></span></li><li><span><a href=\"#Проверка-алгоритма\" data-toc-modified-id=\"Проверка-алгоритма-4\"><span class=\"toc-item-num\">4&nbsp;&nbsp;</span>Проверка алгоритма</a></span></li><li><span><a href=\"#Чек-лист-проверки\" data-toc-modified-id=\"Чек-лист-проверки-5\"><span class=\"toc-item-num\">5&nbsp;&nbsp;</span>Чек-лист проверки</a></span></li></ul></div>"
   ]
  },
  {
   "cell_type": "markdown",
   "metadata": {},
   "source": [
    "# Защита персональных данных клиентов"
   ]
  },
  {
   "cell_type": "markdown",
   "metadata": {},
   "source": [
    "Вам нужно защитить данные клиентов страховой компании «Хоть потоп». Разработайте такой метод преобразования данных, чтобы по ним было сложно восстановить персональную информацию. Обоснуйте корректность его работы.\n",
    "\n",
    "Нужно защитить данные, чтобы при преобразовании качество моделей машинного обучения не ухудшилось. Подбирать наилучшую модель не требуется."
   ]
  },
  {
   "cell_type": "markdown",
   "metadata": {},
   "source": [
    "## Загрузка данных"
   ]
  },
  {
   "cell_type": "code",
   "execution_count": 1,
   "metadata": {},
   "outputs": [],
   "source": [
    "import pandas as pd\n",
    "import numpy as np\n",
    "from sklearn.model_selection import train_test_split\n",
    "from sklearn.linear_model import LinearRegression\n",
    "from sklearn.metrics import r2_score"
   ]
  },
  {
   "cell_type": "code",
   "execution_count": 2,
   "metadata": {},
   "outputs": [],
   "source": [
    "import warnings\n",
    "warnings.simplefilter('ignore')"
   ]
  },
  {
   "cell_type": "code",
   "execution_count": 3,
   "metadata": {
    "scrolled": true
   },
   "outputs": [
    {
     "data": {
      "text/html": [
       "<div>\n",
       "<style scoped>\n",
       "    .dataframe tbody tr th:only-of-type {\n",
       "        vertical-align: middle;\n",
       "    }\n",
       "\n",
       "    .dataframe tbody tr th {\n",
       "        vertical-align: top;\n",
       "    }\n",
       "\n",
       "    .dataframe thead th {\n",
       "        text-align: right;\n",
       "    }\n",
       "</style>\n",
       "<table border=\"1\" class=\"dataframe\">\n",
       "  <thead>\n",
       "    <tr style=\"text-align: right;\">\n",
       "      <th></th>\n",
       "      <th>Пол</th>\n",
       "      <th>Возраст</th>\n",
       "      <th>Зарплата</th>\n",
       "      <th>Члены семьи</th>\n",
       "      <th>Страховые выплаты</th>\n",
       "    </tr>\n",
       "  </thead>\n",
       "  <tbody>\n",
       "    <tr>\n",
       "      <th>0</th>\n",
       "      <td>1</td>\n",
       "      <td>41.0</td>\n",
       "      <td>49600.0</td>\n",
       "      <td>1</td>\n",
       "      <td>0</td>\n",
       "    </tr>\n",
       "    <tr>\n",
       "      <th>1</th>\n",
       "      <td>0</td>\n",
       "      <td>46.0</td>\n",
       "      <td>38000.0</td>\n",
       "      <td>1</td>\n",
       "      <td>1</td>\n",
       "    </tr>\n",
       "    <tr>\n",
       "      <th>2</th>\n",
       "      <td>0</td>\n",
       "      <td>29.0</td>\n",
       "      <td>21000.0</td>\n",
       "      <td>0</td>\n",
       "      <td>0</td>\n",
       "    </tr>\n",
       "    <tr>\n",
       "      <th>3</th>\n",
       "      <td>0</td>\n",
       "      <td>21.0</td>\n",
       "      <td>41700.0</td>\n",
       "      <td>2</td>\n",
       "      <td>0</td>\n",
       "    </tr>\n",
       "    <tr>\n",
       "      <th>4</th>\n",
       "      <td>1</td>\n",
       "      <td>28.0</td>\n",
       "      <td>26100.0</td>\n",
       "      <td>0</td>\n",
       "      <td>0</td>\n",
       "    </tr>\n",
       "  </tbody>\n",
       "</table>\n",
       "</div>"
      ],
      "text/plain": [
       "   Пол  Возраст  Зарплата  Члены семьи  Страховые выплаты\n",
       "0    1     41.0   49600.0            1                  0\n",
       "1    0     46.0   38000.0            1                  1\n",
       "2    0     29.0   21000.0            0                  0\n",
       "3    0     21.0   41700.0            2                  0\n",
       "4    1     28.0   26100.0            0                  0"
      ]
     },
     "execution_count": 3,
     "metadata": {},
     "output_type": "execute_result"
    }
   ],
   "source": [
    "data = pd.read_csv('/datasets/insurance.csv')\n",
    "data.head()"
   ]
  },
  {
   "cell_type": "markdown",
   "metadata": {},
   "source": [
    "Взглянем на информацию о данных:"
   ]
  },
  {
   "cell_type": "code",
   "execution_count": 4,
   "metadata": {},
   "outputs": [
    {
     "name": "stdout",
     "output_type": "stream",
     "text": [
      "<class 'pandas.core.frame.DataFrame'>\n",
      "RangeIndex: 5000 entries, 0 to 4999\n",
      "Data columns (total 5 columns):\n",
      " #   Column             Non-Null Count  Dtype  \n",
      "---  ------             --------------  -----  \n",
      " 0   Пол                5000 non-null   int64  \n",
      " 1   Возраст            5000 non-null   float64\n",
      " 2   Зарплата           5000 non-null   float64\n",
      " 3   Члены семьи        5000 non-null   int64  \n",
      " 4   Страховые выплаты  5000 non-null   int64  \n",
      "dtypes: float64(2), int64(3)\n",
      "memory usage: 195.4 KB\n"
     ]
    }
   ],
   "source": [
    "data.info()"
   ]
  },
  {
   "cell_type": "markdown",
   "metadata": {},
   "source": [
    "Всего датасет состоит из 5000 записей. Данные содеражат информацию о клиентах страховой компании. Это пол, возраст, зарплата, количество членов семьи клиента и количество страховых выплат за последние 5 лет."
   ]
  },
  {
   "cell_type": "markdown",
   "metadata": {},
   "source": [
    "Проверим также данные на наличие явных дубликатов. Неявных дубликатов здесь быть не может, поскольку столбцы содержат лишь числовую информацию"
   ]
  },
  {
   "cell_type": "code",
   "execution_count": 5,
   "metadata": {},
   "outputs": [
    {
     "data": {
      "text/plain": [
       "153"
      ]
     },
     "execution_count": 5,
     "metadata": {},
     "output_type": "execute_result"
    }
   ],
   "source": [
    "data.duplicated().sum()"
   ]
  },
  {
   "cell_type": "code",
   "execution_count": 6,
   "metadata": {},
   "outputs": [],
   "source": [
    "data = data.drop_duplicates().reset_index(drop=True)"
   ]
  },
  {
   "cell_type": "code",
   "execution_count": 7,
   "metadata": {},
   "outputs": [
    {
     "name": "stdout",
     "output_type": "stream",
     "text": [
      "<class 'pandas.core.frame.DataFrame'>\n",
      "RangeIndex: 4847 entries, 0 to 4846\n",
      "Data columns (total 5 columns):\n",
      " #   Column             Non-Null Count  Dtype  \n",
      "---  ------             --------------  -----  \n",
      " 0   Пол                4847 non-null   int64  \n",
      " 1   Возраст            4847 non-null   float64\n",
      " 2   Зарплата           4847 non-null   float64\n",
      " 3   Члены семьи        4847 non-null   int64  \n",
      " 4   Страховые выплаты  4847 non-null   int64  \n",
      "dtypes: float64(2), int64(3)\n",
      "memory usage: 189.5 KB\n"
     ]
    }
   ],
   "source": [
    "data.info()"
   ]
  },
  {
   "cell_type": "markdown",
   "metadata": {},
   "source": [
    "**Вывод**\n",
    "\n",
    "Для исследования мы получили датасет содержащий информацию о клиентах страховой компании. Всего датасет состоит из 5000 записей. Данные содеражат информацию о клиентах страховой компании. Это пол, возраст, зарплата, количество членов семьи клиента и количество страховых выплат за последние 5 лет. В данных пропусков не было, но мы нашли дубликаты и удалили их. Текущего объема данных должно хватить для исследования."
   ]
  },
  {
   "cell_type": "markdown",
   "metadata": {},
   "source": [
    "## Умножение матриц"
   ]
  },
  {
   "cell_type": "markdown",
   "metadata": {},
   "source": [
    "**Необходимо ответить на вопрос:**\n",
    "\n",
    "Признаки умножают на обратимую матрицу. Изменится ли качество линейной регрессии? (Её можно обучить заново.)\n",
    "- a. Изменится. Приведите примеры матриц.\n",
    "- b. Не изменится. Укажите, как связаны параметры линейной регрессии в исходной задаче и в преобразованной."
   ]
  },
  {
   "cell_type": "markdown",
   "metadata": {},
   "source": [
    "Можно предположить что качество линейной регрессии не изменится. Попробуем это доказать:"
   ]
  },
  {
   "cell_type": "markdown",
   "metadata": {},
   "source": [
    "Обозначения:\n",
    "\n",
    "- $X$ — матрица признаков (нулевой столбец состоит из единиц)\n",
    "\n",
    "- $y$ — вектор целевого признака\n",
    "\n",
    "- $P$ — матрица, на которую умножаются признаки\n",
    "\n",
    "- $w$ — вектор весов линейной регрессии (нулевой элемент равен сдвигу)"
   ]
  },
  {
   "cell_type": "markdown",
   "metadata": {},
   "source": [
    "Предсказания:\n",
    "\n",
    "$$\n",
    "a = Xw\n",
    "$$\n",
    "\n",
    "Задача обучения:\n",
    "\n",
    "$$\n",
    "w = \\arg\\min_w MSE(Xw, y)\n",
    "$$\n",
    "\n",
    "Формула обучения:\n",
    "\n",
    "$$\n",
    "w = (X^T X)^{-1} X^T y\n",
    "$$"
   ]
  },
  {
   "cell_type": "markdown",
   "metadata": {},
   "source": [
    "Пусть новые данные это $X' = XB$, тогда \n",
    "\n",
    "$ w' = ((XB)^T XB)^{-1} (XB)^T y $\n",
    "\n",
    "$ w' = ((B^T(X^TX)B))^{-1} B^TX^T y $\n",
    "\n",
    "$ w' = B^{-1}(B^T(X^TX))^{-1} B^TX^T y $\n",
    "\n",
    "$ w' = (B)^{-1} (X^TX)^{-1}(B^T)^{-1} B^TX^T y $\n",
    "\n",
    "$ w' = (B)^{-1} (X^TX)^{-1}X^T y $\n",
    "\n",
    "Поскольку из формулы обучения $w = (X^T X)^{-1} X^T y $ , то подставим $w$ в $w'$\n",
    "\n",
    "$w' = B^{-1}w$\n",
    "\n",
    "Отсюда:\n",
    "\n",
    "$a' = XBw' = XB B^{-1}w = Xw = a$\n",
    "\n",
    "Таким образом, $a = a'$"
   ]
  },
  {
   "cell_type": "markdown",
   "metadata": {},
   "source": [
    "**Ответ:** Качество линейной регрессии не изменится\n",
    "\n",
    "**Обоснование:** $a = a'$"
   ]
  },
  {
   "cell_type": "markdown",
   "metadata": {},
   "source": [
    "## Алгоритм преобразования"
   ]
  },
  {
   "cell_type": "markdown",
   "metadata": {},
   "source": [
    "**Алгоритм**\n",
    "\n",
    "Данные можно преобразовать к другому виду (зашифровать), если умножить матрицу данных на любую обратимую матрицу. Опишем этот алгоритм"
   ]
  },
  {
   "cell_type": "markdown",
   "metadata": {},
   "source": [
    "Алгоритм:\n",
    "- генерируем случайную квадратную матрицу, размерность nxn, где n-количество столбцов исходного датасета\n",
    "- проверяем матрицу на обратимость\n",
    "- перемножаем матрицу данных на случайную обратимую матрицу\n",
    "- сравниваем метрики качества у модели обученной на исходных данных и у модели обученной на преобразованных данных"
   ]
  },
  {
   "cell_type": "markdown",
   "metadata": {},
   "source": [
    "**Обоснование**\n",
    "\n",
    "Алгоритм не испортит качество линейной регрессии, поскольку при домножении матрицы данных на обратимую матрицу мы доказали, что предсказания не изменятся."
   ]
  },
  {
   "cell_type": "markdown",
   "metadata": {},
   "source": [
    "## Проверка алгоритма"
   ]
  },
  {
   "cell_type": "markdown",
   "metadata": {},
   "source": [
    "Эмпирическая проверка алгоритма: (если новую матрицу умножить на обратную матрицу от рандомной, то должны получить на выходе исходный результат"
   ]
  },
  {
   "cell_type": "code",
   "execution_count": 8,
   "metadata": {},
   "outputs": [
    {
     "data": {
      "text/plain": [
       "array([[-111222.03613548,  -33897.55268462,   55545.45444019,\n",
       "          12173.31289793,  -39085.24964448],\n",
       "       [ -85183.62851585,  -25951.36325873,   42581.19835884,\n",
       "           9341.78405693,  -29968.12839947],\n",
       "       [ -47067.49542492,  -14335.80023729,   23538.24731468,\n",
       "           5167.87099889,  -16567.73817481],\n",
       "       ...,\n",
       "       [ -76033.51077563,  -23180.63382225,   37950.49366973,\n",
       "           8307.9446069 ,  -26699.92843046],\n",
       "       [ -73339.06108033,  -22356.71812138,   36608.38242219,\n",
       "           8015.40261119,  -25758.95409604],\n",
       "       [ -91051.31578314,  -27754.41759934,   45456.66977051,\n",
       "           9957.8603936 ,  -31983.83799126]])"
      ]
     },
     "execution_count": 8,
     "metadata": {},
     "output_type": "execute_result"
    }
   ],
   "source": [
    "a = data\n",
    "matrix_input = np.array(a)\n",
    "n = matrix_input.shape[1]\n",
    "random_matrix = np.random.normal(size=(n, n))\n",
    "matrix_output = matrix_input @ random_matrix\n",
    "matrix_output"
   ]
  },
  {
   "cell_type": "code",
   "execution_count": 9,
   "metadata": {
    "scrolled": false
   },
   "outputs": [
    {
     "data": {
      "text/plain": [
       "array([[ 1.00000000e+00,  4.10000000e+01,  4.96000000e+04,\n",
       "         1.00000000e+00, -9.36532876e-12],\n",
       "       [-4.21376918e-12,  4.60000000e+01,  3.80000000e+04,\n",
       "         1.00000000e+00,  1.00000000e+00],\n",
       "       [ 2.41550119e-12,  2.90000000e+01,  2.10000000e+04,\n",
       "         2.35565962e-12, -9.28868053e-13],\n",
       "       ...,\n",
       "       [-3.11760540e-13,  2.00000000e+01,  3.39000000e+04,\n",
       "         2.00000000e+00, -1.96287744e-11],\n",
       "       [ 1.00000000e+00,  2.20000000e+01,  3.27000000e+04,\n",
       "         3.00000000e+00, -2.51190608e-11],\n",
       "       [ 1.00000000e+00,  2.80000000e+01,  4.06000000e+04,\n",
       "         1.00000000e+00, -1.51652677e-11]])"
      ]
     },
     "execution_count": 9,
     "metadata": {},
     "output_type": "execute_result"
    }
   ],
   "source": [
    "matrix_output @ (np.linalg.inv(random_matrix))"
   ]
  },
  {
   "cell_type": "markdown",
   "metadata": {},
   "source": [
    "**Получили исходные данные, следовательно алгоритм доказан и теоретически и практически.**"
   ]
  },
  {
   "cell_type": "markdown",
   "metadata": {},
   "source": [
    "Создадим функцию, которая на вход примет наши данные, преобразует их через матричное умножение этих данных на случайную обратимую матрицу и вернет нам измененные данные."
   ]
  },
  {
   "cell_type": "code",
   "execution_count": 10,
   "metadata": {},
   "outputs": [],
   "source": [
    "def generate_inv_matrix(n):\n",
    "    random_matrix = np.random.normal(size=(n, n))\n",
    "    try:\n",
    "        np.linalg.inv(random_matrix)\n",
    "    except np.linalg.LinAlgError:\n",
    "        random_matrix = generate_inv_matrix(n)\n",
    "    return random_matrix\n",
    "    \n",
    "def multiplication_algorithm(data):\n",
    "    matrix_input = np.array(data)\n",
    "    n = matrix_input.shape[1] # берем размерность которая схлопнется во время умножения\n",
    "    random_matrix = generate_inv_matrix(n)\n",
    "    \n",
    "    matrix_output = matrix_input @ random_matrix\n",
    "    return pd.DataFrame(matrix_output, index = data.index, columns = data.columns)"
   ]
  },
  {
   "cell_type": "code",
   "execution_count": 11,
   "metadata": {
    "scrolled": true
   },
   "outputs": [
    {
     "data": {
      "text/html": [
       "<div>\n",
       "<style scoped>\n",
       "    .dataframe tbody tr th:only-of-type {\n",
       "        vertical-align: middle;\n",
       "    }\n",
       "\n",
       "    .dataframe tbody tr th {\n",
       "        vertical-align: top;\n",
       "    }\n",
       "\n",
       "    .dataframe thead th {\n",
       "        text-align: right;\n",
       "    }\n",
       "</style>\n",
       "<table border=\"1\" class=\"dataframe\">\n",
       "  <thead>\n",
       "    <tr style=\"text-align: right;\">\n",
       "      <th></th>\n",
       "      <th>Пол</th>\n",
       "      <th>Возраст</th>\n",
       "      <th>Зарплата</th>\n",
       "      <th>Члены семьи</th>\n",
       "      <th>Страховые выплаты</th>\n",
       "    </tr>\n",
       "  </thead>\n",
       "  <tbody>\n",
       "    <tr>\n",
       "      <th>0</th>\n",
       "      <td>1</td>\n",
       "      <td>41.0</td>\n",
       "      <td>49600.0</td>\n",
       "      <td>1</td>\n",
       "      <td>0</td>\n",
       "    </tr>\n",
       "    <tr>\n",
       "      <th>1</th>\n",
       "      <td>0</td>\n",
       "      <td>46.0</td>\n",
       "      <td>38000.0</td>\n",
       "      <td>1</td>\n",
       "      <td>1</td>\n",
       "    </tr>\n",
       "    <tr>\n",
       "      <th>2</th>\n",
       "      <td>0</td>\n",
       "      <td>29.0</td>\n",
       "      <td>21000.0</td>\n",
       "      <td>0</td>\n",
       "      <td>0</td>\n",
       "    </tr>\n",
       "    <tr>\n",
       "      <th>3</th>\n",
       "      <td>0</td>\n",
       "      <td>21.0</td>\n",
       "      <td>41700.0</td>\n",
       "      <td>2</td>\n",
       "      <td>0</td>\n",
       "    </tr>\n",
       "    <tr>\n",
       "      <th>4</th>\n",
       "      <td>1</td>\n",
       "      <td>28.0</td>\n",
       "      <td>26100.0</td>\n",
       "      <td>0</td>\n",
       "      <td>0</td>\n",
       "    </tr>\n",
       "  </tbody>\n",
       "</table>\n",
       "</div>"
      ],
      "text/plain": [
       "   Пол  Возраст  Зарплата  Члены семьи  Страховые выплаты\n",
       "0    1     41.0   49600.0            1                  0\n",
       "1    0     46.0   38000.0            1                  1\n",
       "2    0     29.0   21000.0            0                  0\n",
       "3    0     21.0   41700.0            2                  0\n",
       "4    1     28.0   26100.0            0                  0"
      ]
     },
     "execution_count": 11,
     "metadata": {},
     "output_type": "execute_result"
    }
   ],
   "source": [
    "data.head()"
   ]
  },
  {
   "cell_type": "code",
   "execution_count": 12,
   "metadata": {},
   "outputs": [],
   "source": [
    "features = data.drop('Страховые выплаты', axis=1)\n",
    "target = data['Страховые выплаты']"
   ]
  },
  {
   "cell_type": "code",
   "execution_count": 13,
   "metadata": {},
   "outputs": [],
   "source": [
    "features_train, features_test, target_train, target_test = train_test_split(features, target, test_size=0.25, random_state=27)"
   ]
  },
  {
   "cell_type": "code",
   "execution_count": 14,
   "metadata": {},
   "outputs": [
    {
     "data": {
      "text/plain": [
       "(3635, 4)"
      ]
     },
     "metadata": {},
     "output_type": "display_data"
    },
    {
     "data": {
      "text/plain": [
       "(3635,)"
      ]
     },
     "metadata": {},
     "output_type": "display_data"
    },
    {
     "data": {
      "text/plain": [
       "(1212, 4)"
      ]
     },
     "metadata": {},
     "output_type": "display_data"
    },
    {
     "data": {
      "text/plain": [
       "(1212,)"
      ]
     },
     "metadata": {},
     "output_type": "display_data"
    }
   ],
   "source": [
    "display(features_train.shape)\n",
    "display(target_train.shape)\n",
    "display(features_test.shape)\n",
    "display(target_test.shape)"
   ]
  },
  {
   "cell_type": "code",
   "execution_count": 15,
   "metadata": {},
   "outputs": [
    {
     "name": "stdout",
     "output_type": "stream",
     "text": [
      "r2 = 0.41155664787962276\n"
     ]
    }
   ],
   "source": [
    "model = LinearRegression()\n",
    "model.fit(features_train, target_train)\n",
    "predicted_test = model.predict(features_test)\n",
    "r2 = r2_score(target_test, predicted_test)\n",
    "print(f'r2 = {r2}')"
   ]
  },
  {
   "cell_type": "markdown",
   "metadata": {},
   "source": [
    "Теперь применим наш алгоритм на данных и смоделируем линейную регрессию еще раз:"
   ]
  },
  {
   "cell_type": "code",
   "execution_count": 16,
   "metadata": {},
   "outputs": [
    {
     "data": {
      "text/html": [
       "<div>\n",
       "<style scoped>\n",
       "    .dataframe tbody tr th:only-of-type {\n",
       "        vertical-align: middle;\n",
       "    }\n",
       "\n",
       "    .dataframe tbody tr th {\n",
       "        vertical-align: top;\n",
       "    }\n",
       "\n",
       "    .dataframe thead th {\n",
       "        text-align: right;\n",
       "    }\n",
       "</style>\n",
       "<table border=\"1\" class=\"dataframe\">\n",
       "  <thead>\n",
       "    <tr style=\"text-align: right;\">\n",
       "      <th></th>\n",
       "      <th>Пол</th>\n",
       "      <th>Возраст</th>\n",
       "      <th>Зарплата</th>\n",
       "      <th>Члены семьи</th>\n",
       "    </tr>\n",
       "  </thead>\n",
       "  <tbody>\n",
       "    <tr>\n",
       "      <th>0</th>\n",
       "      <td>-50369.700276</td>\n",
       "      <td>9646.347282</td>\n",
       "      <td>-32081.403157</td>\n",
       "      <td>83869.466402</td>\n",
       "    </tr>\n",
       "    <tr>\n",
       "      <th>1</th>\n",
       "      <td>-38583.394231</td>\n",
       "      <td>7397.576669</td>\n",
       "      <td>-24603.558992</td>\n",
       "      <td>64239.478917</td>\n",
       "    </tr>\n",
       "    <tr>\n",
       "      <th>2</th>\n",
       "      <td>-21321.303143</td>\n",
       "      <td>4089.818628</td>\n",
       "      <td>-13603.074320</td>\n",
       "      <td>35497.689708</td>\n",
       "    </tr>\n",
       "    <tr>\n",
       "      <th>3</th>\n",
       "      <td>-42351.589636</td>\n",
       "      <td>8103.341826</td>\n",
       "      <td>-26948.071302</td>\n",
       "      <td>70523.447132</td>\n",
       "    </tr>\n",
       "    <tr>\n",
       "      <th>4</th>\n",
       "      <td>-26502.889237</td>\n",
       "      <td>5079.157898</td>\n",
       "      <td>-16892.785552</td>\n",
       "      <td>44127.092543</td>\n",
       "    </tr>\n",
       "  </tbody>\n",
       "</table>\n",
       "</div>"
      ],
      "text/plain": [
       "            Пол      Возраст      Зарплата   Члены семьи\n",
       "0 -50369.700276  9646.347282 -32081.403157  83869.466402\n",
       "1 -38583.394231  7397.576669 -24603.558992  64239.478917\n",
       "2 -21321.303143  4089.818628 -13603.074320  35497.689708\n",
       "3 -42351.589636  8103.341826 -26948.071302  70523.447132\n",
       "4 -26502.889237  5079.157898 -16892.785552  44127.092543"
      ]
     },
     "execution_count": 16,
     "metadata": {},
     "output_type": "execute_result"
    }
   ],
   "source": [
    "new_features = multiplication_algorithm(features)\n",
    "new_features.head()"
   ]
  },
  {
   "cell_type": "code",
   "execution_count": 17,
   "metadata": {},
   "outputs": [],
   "source": [
    "features_train, features_test, target_train, target_test = train_test_split(new_features, target, test_size=0.25, random_state=27)"
   ]
  },
  {
   "cell_type": "code",
   "execution_count": 18,
   "metadata": {
    "scrolled": true
   },
   "outputs": [
    {
     "data": {
      "text/plain": [
       "(3635, 4)"
      ]
     },
     "metadata": {},
     "output_type": "display_data"
    },
    {
     "data": {
      "text/plain": [
       "(3635,)"
      ]
     },
     "metadata": {},
     "output_type": "display_data"
    },
    {
     "data": {
      "text/plain": [
       "(1212, 4)"
      ]
     },
     "metadata": {},
     "output_type": "display_data"
    },
    {
     "data": {
      "text/plain": [
       "(1212,)"
      ]
     },
     "metadata": {},
     "output_type": "display_data"
    }
   ],
   "source": [
    "display(features_train.shape)\n",
    "display(target_train.shape)\n",
    "display(features_test.shape)\n",
    "display(target_test.shape)"
   ]
  },
  {
   "cell_type": "code",
   "execution_count": 19,
   "metadata": {
    "scrolled": true
   },
   "outputs": [
    {
     "name": "stdout",
     "output_type": "stream",
     "text": [
      "r2 = 0.4115566478767706\n"
     ]
    }
   ],
   "source": [
    "model = LinearRegression()\n",
    "model.fit(features_train, target_train)\n",
    "predicted_test = model.predict(features_test)\n",
    "r2 = r2_score(target_test, predicted_test)\n",
    "print(f'r2 = {r2}')"
   ]
  },
  {
   "cell_type": "markdown",
   "metadata": {},
   "source": [
    "Значение r2  у моделей одинаковое."
   ]
  },
  {
   "cell_type": "markdown",
   "metadata": {},
   "source": [
    "**Вывод**\n",
    "\n",
    "- В данном проекте необходимо было провести исследование и реализовать алгоритм шифрования данных, не ухудшая качества линейной регрессии. Получив данные мы провели небольшую предобработку, и перешли к изучению алгоритма. \n",
    "\n",
    "\n",
    "- Было предположение, что качество модели не изменится, если умножить матрицу данных на случайную обратимую матрицу. Это предположение мы доказали сначала теоретически, а потом и эмпирически.\n",
    "\n",
    "\n",
    "- Далее мы создали функцию, реализующую алгоритм. Применили ее на нашем датасете и сравнили качество модели по метрике r2. Качество не изменилось."
   ]
  },
  {
   "cell_type": "markdown",
   "metadata": {},
   "source": [
    "## Чек-лист проверки"
   ]
  },
  {
   "cell_type": "markdown",
   "metadata": {},
   "source": [
    "Поставьте 'x' в выполненных пунктах. Далее нажмите Shift+Enter."
   ]
  },
  {
   "cell_type": "markdown",
   "metadata": {},
   "source": [
    "- [x]  Jupyter Notebook открыт\n",
    "- [x]  Весь код выполняется без ошибок\n",
    "- [x]  Ячейки с кодом расположены в порядке исполнения\n",
    "- [x]  Выполнен шаг 1: данные загружены\n",
    "- [x]  Выполнен шаг 2: получен ответ на вопрос об умножении матриц\n",
    "    - [x]  Указан правильный вариант ответа\n",
    "    - [x]  Вариант обоснован\n",
    "- [x]  Выполнен шаг 3: предложен алгоритм преобразования\n",
    "    - [x]  Алгоритм описан\n",
    "    - [x]  Алгоритм обоснован\n",
    "- [x]  Выполнен шаг 4: алгоритм проверен\n",
    "    - [x]  Алгоритм реализован\n",
    "    - [x]  Проведено сравнение качества моделей до и после преобразования"
   ]
  }
 ],
 "metadata": {
  "ExecuteTimeLog": [
   {
    "duration": 465,
    "start_time": "2022-04-05T13:42:31.475Z"
   },
   {
    "duration": 49,
    "start_time": "2022-04-05T13:43:18.777Z"
   },
   {
    "duration": 20,
    "start_time": "2022-04-05T13:43:40.656Z"
   },
   {
    "duration": 10,
    "start_time": "2022-04-05T13:44:01.367Z"
   },
   {
    "duration": 94,
    "start_time": "2022-04-05T13:48:25.761Z"
   },
   {
    "duration": 8,
    "start_time": "2022-04-05T13:48:32.782Z"
   },
   {
    "duration": 15,
    "start_time": "2022-04-05T13:48:41.489Z"
   },
   {
    "duration": 12,
    "start_time": "2022-04-05T14:24:06.196Z"
   },
   {
    "duration": 4,
    "start_time": "2022-04-05T14:24:25.843Z"
   },
   {
    "duration": 6,
    "start_time": "2022-04-05T14:24:28.645Z"
   },
   {
    "duration": 17,
    "start_time": "2022-04-05T14:24:49.120Z"
   },
   {
    "duration": 5,
    "start_time": "2022-04-05T14:26:38.826Z"
   },
   {
    "duration": 6,
    "start_time": "2022-04-05T14:26:47.521Z"
   },
   {
    "duration": 6,
    "start_time": "2022-04-05T14:27:20.097Z"
   },
   {
    "duration": 5,
    "start_time": "2022-04-05T14:27:50.945Z"
   },
   {
    "duration": 4,
    "start_time": "2022-04-05T14:34:01.583Z"
   },
   {
    "duration": 19,
    "start_time": "2022-04-05T14:34:13.776Z"
   },
   {
    "duration": 12,
    "start_time": "2022-04-05T14:34:18.342Z"
   },
   {
    "duration": 25,
    "start_time": "2022-04-05T14:35:19.023Z"
   },
   {
    "duration": 5,
    "start_time": "2022-04-05T14:35:42.119Z"
   },
   {
    "duration": 14,
    "start_time": "2022-04-05T14:35:55.446Z"
   },
   {
    "duration": 235,
    "start_time": "2022-04-05T14:37:03.150Z"
   },
   {
    "duration": 198,
    "start_time": "2022-04-05T14:37:22.445Z"
   },
   {
    "duration": 7,
    "start_time": "2022-04-05T14:37:48.069Z"
   },
   {
    "duration": 13,
    "start_time": "2022-04-05T14:37:49.556Z"
   },
   {
    "duration": 5,
    "start_time": "2022-04-05T14:37:50.652Z"
   },
   {
    "duration": 5,
    "start_time": "2022-04-05T14:37:53.884Z"
   },
   {
    "duration": 20,
    "start_time": "2022-04-05T14:38:02.198Z"
   },
   {
    "duration": 8,
    "start_time": "2022-04-05T14:39:49.739Z"
   },
   {
    "duration": 9,
    "start_time": "2022-04-05T14:40:33.344Z"
   },
   {
    "duration": 6,
    "start_time": "2022-04-05T14:44:19.613Z"
   },
   {
    "duration": 16,
    "start_time": "2022-04-05T14:44:24.068Z"
   },
   {
    "duration": 5,
    "start_time": "2022-04-05T14:44:26.524Z"
   },
   {
    "duration": 1142,
    "start_time": "2022-04-05T14:47:13.799Z"
   },
   {
    "duration": 4,
    "start_time": "2022-04-05T14:47:29.489Z"
   },
   {
    "duration": 8,
    "start_time": "2022-04-05T14:48:52.495Z"
   },
   {
    "duration": 11,
    "start_time": "2022-04-05T14:49:11.383Z"
   },
   {
    "duration": 16,
    "start_time": "2022-04-05T14:52:04.499Z"
   },
   {
    "duration": 14,
    "start_time": "2022-04-05T14:53:41.081Z"
   },
   {
    "duration": 72,
    "start_time": "2022-04-05T14:54:15.408Z"
   },
   {
    "duration": 5,
    "start_time": "2022-04-05T14:54:45.537Z"
   },
   {
    "duration": 14,
    "start_time": "2022-04-05T14:54:52.336Z"
   },
   {
    "duration": 6,
    "start_time": "2022-04-05T14:55:05.967Z"
   },
   {
    "duration": 7,
    "start_time": "2022-04-05T14:55:17.224Z"
   },
   {
    "duration": 11,
    "start_time": "2022-04-05T14:55:23.679Z"
   },
   {
    "duration": 13,
    "start_time": "2022-04-05T14:55:35.998Z"
   },
   {
    "duration": 5,
    "start_time": "2022-04-05T14:56:09.838Z"
   },
   {
    "duration": 7,
    "start_time": "2022-04-05T14:56:13.222Z"
   },
   {
    "duration": 10,
    "start_time": "2022-04-05T14:56:14.039Z"
   },
   {
    "duration": 15,
    "start_time": "2022-04-05T14:56:15.038Z"
   },
   {
    "duration": 5,
    "start_time": "2022-04-05T14:59:09.826Z"
   },
   {
    "duration": 8,
    "start_time": "2022-04-05T14:59:10.314Z"
   },
   {
    "duration": 10,
    "start_time": "2022-04-05T14:59:11.353Z"
   },
   {
    "duration": 13,
    "start_time": "2022-04-05T14:59:11.810Z"
   },
   {
    "duration": 15,
    "start_time": "2022-04-05T15:04:35.435Z"
   },
   {
    "duration": 7,
    "start_time": "2022-04-05T15:05:09.394Z"
   },
   {
    "duration": 11,
    "start_time": "2022-04-05T15:05:10.042Z"
   },
   {
    "duration": 12,
    "start_time": "2022-04-05T15:05:12.914Z"
   },
   {
    "duration": 1719,
    "start_time": "2022-04-05T23:46:34.820Z"
   },
   {
    "duration": 4,
    "start_time": "2022-04-05T23:46:36.542Z"
   },
   {
    "duration": 47,
    "start_time": "2022-04-05T23:46:36.548Z"
   },
   {
    "duration": 16,
    "start_time": "2022-04-05T23:46:36.598Z"
   },
   {
    "duration": 8,
    "start_time": "2022-04-05T23:46:36.826Z"
   },
   {
    "duration": 8,
    "start_time": "2022-04-05T23:46:37.016Z"
   },
   {
    "duration": 16,
    "start_time": "2022-04-05T23:46:37.206Z"
   },
   {
    "duration": 9,
    "start_time": "2022-04-05T23:48:41.269Z"
   },
   {
    "duration": 8,
    "start_time": "2022-04-05T23:48:41.833Z"
   },
   {
    "duration": 4,
    "start_time": "2022-04-05T23:49:37.629Z"
   },
   {
    "duration": 12,
    "start_time": "2022-04-05T23:49:37.875Z"
   },
   {
    "duration": 5,
    "start_time": "2022-04-05T23:49:38.060Z"
   },
   {
    "duration": 8,
    "start_time": "2022-04-05T23:49:38.525Z"
   },
   {
    "duration": 10,
    "start_time": "2022-04-05T23:49:38.715Z"
   },
   {
    "duration": 13,
    "start_time": "2022-04-05T23:49:39.124Z"
   },
   {
    "duration": 13,
    "start_time": "2022-04-05T23:49:41.339Z"
   },
   {
    "duration": 7,
    "start_time": "2022-04-05T23:49:41.561Z"
   },
   {
    "duration": 10,
    "start_time": "2022-04-05T23:49:41.985Z"
   },
   {
    "duration": 11,
    "start_time": "2022-04-05T23:49:42.180Z"
   },
   {
    "duration": 1238,
    "start_time": "2022-04-06T10:43:44.807Z"
   },
   {
    "duration": 3,
    "start_time": "2022-04-06T10:43:46.047Z"
   },
   {
    "duration": 32,
    "start_time": "2022-04-06T10:43:46.052Z"
   },
   {
    "duration": 12,
    "start_time": "2022-04-06T10:43:47.380Z"
   },
   {
    "duration": 7,
    "start_time": "2022-04-06T10:43:48.754Z"
   },
   {
    "duration": 6,
    "start_time": "2022-04-06T10:43:49.087Z"
   },
   {
    "duration": 12,
    "start_time": "2022-04-06T10:43:49.471Z"
   },
   {
    "duration": 7,
    "start_time": "2022-04-06T10:44:06.733Z"
   },
   {
    "duration": 6,
    "start_time": "2022-04-06T10:44:10.661Z"
   },
   {
    "duration": 4,
    "start_time": "2022-04-06T10:44:22.138Z"
   },
   {
    "duration": 9,
    "start_time": "2022-04-06T10:44:24.740Z"
   },
   {
    "duration": 4,
    "start_time": "2022-04-06T10:44:25.487Z"
   },
   {
    "duration": 5,
    "start_time": "2022-04-06T10:44:26.351Z"
   },
   {
    "duration": 9,
    "start_time": "2022-04-06T10:44:27.002Z"
   },
   {
    "duration": 9,
    "start_time": "2022-04-06T10:44:27.648Z"
   },
   {
    "duration": 12,
    "start_time": "2022-04-06T10:44:30.022Z"
   },
   {
    "duration": 7,
    "start_time": "2022-04-06T10:44:33.499Z"
   },
   {
    "duration": 10,
    "start_time": "2022-04-06T10:44:34.439Z"
   },
   {
    "duration": 9,
    "start_time": "2022-04-06T10:44:35.344Z"
   }
  ],
  "kernelspec": {
   "display_name": "Python 3 (ipykernel)",
   "language": "python",
   "name": "python3"
  },
  "language_info": {
   "codemirror_mode": {
    "name": "ipython",
    "version": 3
   },
   "file_extension": ".py",
   "mimetype": "text/x-python",
   "name": "python",
   "nbconvert_exporter": "python",
   "pygments_lexer": "ipython3",
   "version": "3.9.7"
  },
  "toc": {
   "base_numbering": 1,
   "nav_menu": {},
   "number_sections": true,
   "sideBar": true,
   "skip_h1_title": true,
   "title_cell": "Содержание",
   "title_sidebar": "Contents",
   "toc_cell": true,
   "toc_position": {
    "height": "calc(100% - 180px)",
    "left": "10px",
    "top": "150px",
    "width": "165px"
   },
   "toc_section_display": true,
   "toc_window_display": true
  }
 },
 "nbformat": 4,
 "nbformat_minor": 2
}
